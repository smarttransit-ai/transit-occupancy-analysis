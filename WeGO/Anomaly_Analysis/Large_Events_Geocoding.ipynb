{
 "cells": [
  {
   "cell_type": "code",
   "execution_count": 8,
   "metadata": {},
   "outputs": [],
   "source": [
    "import numpy as np\n",
    "import pandas as pd\n",
    "import geopy\n",
    "import geocoder\n",
    "from geopy.geocoders import Nominatim"
   ]
  },
  {
   "cell_type": "code",
   "execution_count": 36,
   "metadata": {},
   "outputs": [
    {
     "data": {
      "text/plain": [
       "Month          object\n",
       "Year            int64\n",
       "Event          object\n",
       "Start_Date     object\n",
       "End_Date       object\n",
       "Attendance    float64\n",
       "Location       object\n",
       "Event Type     object\n",
       "dtype: object"
      ]
     },
     "execution_count": 36,
     "metadata": {},
     "output_type": "execute_result"
    }
   ],
   "source": [
    "Nash_Large_Events = pd.read_csv('Data/Nashville_Large_Events_from_2014_2020.csv')\n",
    "Nash_Large_Events.dtypes"
   ]
  },
  {
   "cell_type": "code",
   "execution_count": 56,
   "metadata": {},
   "outputs": [
    {
     "data": {
      "text/html": [
       "<div>\n",
       "<style scoped>\n",
       "    .dataframe tbody tr th:only-of-type {\n",
       "        vertical-align: middle;\n",
       "    }\n",
       "\n",
       "    .dataframe tbody tr th {\n",
       "        vertical-align: top;\n",
       "    }\n",
       "\n",
       "    .dataframe thead th {\n",
       "        text-align: right;\n",
       "    }\n",
       "</style>\n",
       "<table border=\"1\" class=\"dataframe\">\n",
       "  <thead>\n",
       "    <tr style=\"text-align: right;\">\n",
       "      <th></th>\n",
       "      <th>Month</th>\n",
       "      <th>Year</th>\n",
       "      <th>Event</th>\n",
       "      <th>Start_Date</th>\n",
       "      <th>End_Date</th>\n",
       "      <th>Attendance</th>\n",
       "      <th>Location</th>\n",
       "      <th>Event Type</th>\n",
       "    </tr>\n",
       "  </thead>\n",
       "  <tbody>\n",
       "    <tr>\n",
       "      <th>0</th>\n",
       "      <td>January</td>\n",
       "      <td>2014</td>\n",
       "      <td>Resolution Run</td>\n",
       "      <td>2014-01-04</td>\n",
       "      <td>2014-01-04</td>\n",
       "      <td>800.0</td>\n",
       "      <td>Riverfront Park</td>\n",
       "      <td>Public</td>\n",
       "    </tr>\n",
       "    <tr>\n",
       "      <th>1</th>\n",
       "      <td>February</td>\n",
       "      <td>2014</td>\n",
       "      <td>Cupid's Chase 5k</td>\n",
       "      <td>2014-02-08</td>\n",
       "      <td>2014-02-08</td>\n",
       "      <td>400.0</td>\n",
       "      <td>Shelby Park and Greenway</td>\n",
       "      <td>Public</td>\n",
       "    </tr>\n",
       "    <tr>\n",
       "      <th>2</th>\n",
       "      <td>February</td>\n",
       "      <td>2014</td>\n",
       "      <td>Hot Chocolate 5K/15K</td>\n",
       "      <td>2014-02-15</td>\n",
       "      <td>2014-02-15</td>\n",
       "      <td>10000.0</td>\n",
       "      <td>Centennial Park</td>\n",
       "      <td>Public</td>\n",
       "    </tr>\n",
       "    <tr>\n",
       "      <th>3</th>\n",
       "      <td>February</td>\n",
       "      <td>2014</td>\n",
       "      <td>Race Judicata</td>\n",
       "      <td>2014-02-22</td>\n",
       "      <td>2014-02-22</td>\n",
       "      <td>500.0</td>\n",
       "      <td>Warner Park</td>\n",
       "      <td>Public</td>\n",
       "    </tr>\n",
       "    <tr>\n",
       "      <th>4</th>\n",
       "      <td>March</td>\n",
       "      <td>2014</td>\n",
       "      <td>Mardi Gras Y'all Street Festival</td>\n",
       "      <td>2014-03-01</td>\n",
       "      <td>2014-03-01</td>\n",
       "      <td>15000.0</td>\n",
       "      <td>Riverfront Park</td>\n",
       "      <td>Public</td>\n",
       "    </tr>\n",
       "  </tbody>\n",
       "</table>\n",
       "</div>"
      ],
      "text/plain": [
       "      Month  Year                             Event Start_Date   End_Date  \\\n",
       "0   January  2014                    Resolution Run 2014-01-04 2014-01-04   \n",
       "1  February  2014                  Cupid's Chase 5k 2014-02-08 2014-02-08   \n",
       "2  February  2014              Hot Chocolate 5K/15K 2014-02-15 2014-02-15   \n",
       "3  February  2014                     Race Judicata 2014-02-22 2014-02-22   \n",
       "4     March  2014  Mardi Gras Y'all Street Festival 2014-03-01 2014-03-01   \n",
       "\n",
       "   Attendance                  Location Event Type  \n",
       "0       800.0           Riverfront Park     Public  \n",
       "1       400.0  Shelby Park and Greenway     Public  \n",
       "2     10000.0           Centennial Park     Public  \n",
       "3       500.0               Warner Park     Public  \n",
       "4     15000.0           Riverfront Park     Public  "
      ]
     },
     "execution_count": 56,
     "metadata": {},
     "output_type": "execute_result"
    }
   ],
   "source": [
    "Nash_Large_Events.head()"
   ]
  },
  {
   "cell_type": "code",
   "execution_count": 38,
   "metadata": {},
   "outputs": [
    {
     "data": {
      "text/plain": [
       "(3293, 8)"
      ]
     },
     "execution_count": 38,
     "metadata": {},
     "output_type": "execute_result"
    }
   ],
   "source": [
    "Nash_Large_Events.shape"
   ]
  },
  {
   "cell_type": "code",
   "execution_count": 39,
   "metadata": {},
   "outputs": [],
   "source": [
    "Nash_Large_Events['Month'] = Nash_Large_Events['Month'].astype(str)\n",
    "Nash_Large_Events['Year'] = Nash_Large_Events['Year'].astype(str)\n",
    "Nash_Large_Events['Start_Date'] = pd.to_datetime(Nash_Large_Events['Start_Date'], format = '%m/%d/%Y')\n",
    "Nash_Large_Events['End_Date'] = pd.to_datetime(Nash_Large_Events['End_Date'], format = '%m/%d/%Y')"
   ]
  },
  {
   "cell_type": "code",
   "execution_count": 57,
   "metadata": {},
   "outputs": [
    {
     "data": {
      "text/html": [
       "<div>\n",
       "<style scoped>\n",
       "    .dataframe tbody tr th:only-of-type {\n",
       "        vertical-align: middle;\n",
       "    }\n",
       "\n",
       "    .dataframe tbody tr th {\n",
       "        vertical-align: top;\n",
       "    }\n",
       "\n",
       "    .dataframe thead th {\n",
       "        text-align: right;\n",
       "    }\n",
       "</style>\n",
       "<table border=\"1\" class=\"dataframe\">\n",
       "  <thead>\n",
       "    <tr style=\"text-align: right;\">\n",
       "      <th></th>\n",
       "      <th>Month</th>\n",
       "      <th>Year</th>\n",
       "      <th>Event</th>\n",
       "      <th>Start_Date</th>\n",
       "      <th>End_Date</th>\n",
       "      <th>Attendance</th>\n",
       "      <th>Location</th>\n",
       "      <th>Event Type</th>\n",
       "    </tr>\n",
       "  </thead>\n",
       "  <tbody>\n",
       "    <tr>\n",
       "      <th>0</th>\n",
       "      <td>January</td>\n",
       "      <td>2014</td>\n",
       "      <td>Resolution Run</td>\n",
       "      <td>2014-01-04</td>\n",
       "      <td>2014-01-04</td>\n",
       "      <td>800.0</td>\n",
       "      <td>Riverfront Park</td>\n",
       "      <td>Public</td>\n",
       "    </tr>\n",
       "    <tr>\n",
       "      <th>1</th>\n",
       "      <td>February</td>\n",
       "      <td>2014</td>\n",
       "      <td>Cupid's Chase 5k</td>\n",
       "      <td>2014-02-08</td>\n",
       "      <td>2014-02-08</td>\n",
       "      <td>400.0</td>\n",
       "      <td>Shelby Park and Greenway</td>\n",
       "      <td>Public</td>\n",
       "    </tr>\n",
       "    <tr>\n",
       "      <th>2</th>\n",
       "      <td>February</td>\n",
       "      <td>2014</td>\n",
       "      <td>Hot Chocolate 5K/15K</td>\n",
       "      <td>2014-02-15</td>\n",
       "      <td>2014-02-15</td>\n",
       "      <td>10000.0</td>\n",
       "      <td>Centennial Park</td>\n",
       "      <td>Public</td>\n",
       "    </tr>\n",
       "    <tr>\n",
       "      <th>3</th>\n",
       "      <td>February</td>\n",
       "      <td>2014</td>\n",
       "      <td>Race Judicata</td>\n",
       "      <td>2014-02-22</td>\n",
       "      <td>2014-02-22</td>\n",
       "      <td>500.0</td>\n",
       "      <td>Warner Park</td>\n",
       "      <td>Public</td>\n",
       "    </tr>\n",
       "    <tr>\n",
       "      <th>4</th>\n",
       "      <td>March</td>\n",
       "      <td>2014</td>\n",
       "      <td>Mardi Gras Y'all Street Festival</td>\n",
       "      <td>2014-03-01</td>\n",
       "      <td>2014-03-01</td>\n",
       "      <td>15000.0</td>\n",
       "      <td>Riverfront Park</td>\n",
       "      <td>Public</td>\n",
       "    </tr>\n",
       "  </tbody>\n",
       "</table>\n",
       "</div>"
      ],
      "text/plain": [
       "      Month  Year                             Event Start_Date   End_Date  \\\n",
       "0   January  2014                    Resolution Run 2014-01-04 2014-01-04   \n",
       "1  February  2014                  Cupid's Chase 5k 2014-02-08 2014-02-08   \n",
       "2  February  2014              Hot Chocolate 5K/15K 2014-02-15 2014-02-15   \n",
       "3  February  2014                     Race Judicata 2014-02-22 2014-02-22   \n",
       "4     March  2014  Mardi Gras Y'all Street Festival 2014-03-01 2014-03-01   \n",
       "\n",
       "   Attendance                  Location Event Type  \n",
       "0       800.0           Riverfront Park     Public  \n",
       "1       400.0  Shelby Park and Greenway     Public  \n",
       "2     10000.0           Centennial Park     Public  \n",
       "3       500.0               Warner Park     Public  \n",
       "4     15000.0           Riverfront Park     Public  "
      ]
     },
     "execution_count": 57,
     "metadata": {},
     "output_type": "execute_result"
    }
   ],
   "source": [
    "Nash_Large_Events.head()"
   ]
  },
  {
   "cell_type": "markdown",
   "metadata": {},
   "source": [
    "Notice that there are events that are highly attended. We can filter the data to get the events that had `Attendance` higher than 100 people:"
   ]
  },
  {
   "cell_type": "code",
   "execution_count": 58,
   "metadata": {},
   "outputs": [
    {
     "data": {
      "text/plain": [
       "(379, 8)"
      ]
     },
     "execution_count": 58,
     "metadata": {},
     "output_type": "execute_result"
    }
   ],
   "source": [
    "Nash_Large_Events = Nash_Large_Events[(Nash_Large_Events['Attendance'] > 100) & (Nash_Large_Events['Start_Date'] > '2019-01-01')]\n",
    "Nash_Large_Events_Main_Locations = Nash_Large_Events['Location'].unique()\n",
    "Nash_Large_Events.shape"
   ]
  },
  {
   "cell_type": "code",
   "execution_count": 59,
   "metadata": {},
   "outputs": [
    {
     "data": {
      "text/plain": [
       "array(['Richland Park', 'Church Street Park', 'Public Square',\n",
       "       'Shelby Bottoms Greenway', 'Walk of Fame Park', 'Two Rivers Park',\n",
       "       'East Park Community Center', 'Ravenwood',\n",
       "       'Richland Park Greenway', 'East Bank Landing',\n",
       "       'Hadley Park Bandshell', 'Cumberland Park',\n",
       "       'Centennial Park Event Shelter', 'Bells Bend',\n",
       "       'All Downtown Parks', 'Cedar Hill Park', 'Centennial Park Ellipse',\n",
       "       'Cleveland Park', 'Coleman Park', 'East Park',\n",
       "       'Metro Center Greenway', 'Southeast Park', 'Sevier Park',\n",
       "       'Centennial Park Front Lawn', 'McCable Park',\n",
       "       'Hamilton Creek Park', 'Mill Ridge Park', 'Riverfront Park',\n",
       "       'Ted Rhodes Park', 'Watkins Park', 'Fort Negley Park',\n",
       "       'Shelby Park', 'Elmington Park',\n",
       "       'Riverfront, Walk of Fame, Cumberland, East Bank Landing',\n",
       "       'Bellevue Park', 'Hartman Park', 'Centennial Park',\n",
       "       'Jefferson Street Park', 'E.S. Rose Park', 'Sally Beaman Park',\n",
       "       'Timothy Bordeaux', 'Cornelia Fort Airpark', 'Morgan Park',\n",
       "       'Madison Park', 'Old Hickory Park', 'Buena Vista Park',\n",
       "       'Green Hills Park', 'Fannie Mae Dees Park',\n",
       "       'Buchanan Station Cemetary', 'City Cemetary',\n",
       "       'Centennail Park Front Lawn', 'McCabe Park',\n",
       "       'Richland Creek Greenway', 'Shelby Park Event Field',\n",
       "       'Public Square Park', 'Shelby Park and Cornelia Fort',\n",
       "       'Frankie Pierce Park', 'Ted Rhodes Soccer Field', 'Fisk Park',\n",
       "       'Bellevue/Red Caboose Park'], dtype=object)"
      ]
     },
     "execution_count": 59,
     "metadata": {},
     "output_type": "execute_result"
    }
   ],
   "source": [
    "Nash_Large_Events_Main_Locations"
   ]
  },
  {
   "cell_type": "code",
   "execution_count": 60,
   "metadata": {},
   "outputs": [],
   "source": [
    "locator = Nominatim(user_agent= \"Vandy_Geocoder\")"
   ]
  },
  {
   "cell_type": "code",
   "execution_count": 61,
   "metadata": {},
   "outputs": [],
   "source": [
    "Event_Coordinates = []\n",
    "\n",
    "for event in Nash_Large_Events_Main_Locations:\n",
    "    place = ', '.join([event, 'Nashville', 'TN'])\n",
    "    spatial_data = locator.geocode(place)\n",
    "\n",
    "    Event_Coordinates.append(spatial_data)\n"
   ]
  },
  {
   "cell_type": "code",
   "execution_count": 62,
   "metadata": {},
   "outputs": [
    {
     "data": {
      "text/plain": [
       "[Location(Richland Park, Nashville-Davidson, Davidson County, Tennessee, United States, (36.151467249999996, -86.84467195953948, 0.0)),\n",
       " Location(Church Street Park, Nashville-Davidson, Davidson County, Tennessee, United States, (36.162644150000006, -86.78185042292218, 0.0)),\n",
       " Location(Main Branch Nashville Public Library, 6th Avenue North, Nashville-Davidson, Davidson County, Tennessee, 37219, United States, (36.161913799999994, -86.78209039207867, 0.0)),\n",
       " Location(Shelby Bottoms Greenway, Dalewood, Nashville-Davidson, Davidson County, Tennessee, 37216, United States, (36.1968862, -86.6940577, 0.0)),\n",
       " None,\n",
       " Location(Two Rivers Park, Nashville-Davidson, Davidson County, Tennessee, United States, (36.1844934, -86.68848255088835, 0.0)),\n",
       " Location(East Park Community Center, Woodland Street, East Nashville, Nashville-Davidson, Davidson County, Tennessee, 37206, United States, (36.1728341, -86.7613873, 0.0)),\n",
       " Location(Ravenwood Hills Circle, Nashville-Davidson, Davidson County, Tennessee, 37215, United States, (36.0908839, -86.8139625, 0.0)),\n",
       " None,\n",
       " Location(Aerie Landing, Nashville-Davidson, Davidson County, Tennessee, 37013-2227, United States, (36.0535944, -86.5898565, 0.0)),\n",
       " None,\n",
       " Location(Cumberland Park, Nashville-Davidson, Davidson County, Tennessee, 37210, United States, (36.1306133, -86.7624986, 0.0)),\n",
       " Location(Centennial Event Shelter, Park Plaza, Nashville-Davidson, Davidson County, Tennessee, 37203, United States, (36.15099255, -86.81555345718613, 0.0)),\n",
       " Location(Bells Bend Primitive Camping, Nashville-Davidson, Davidson County, Tennessee, United States, (36.15381205, -86.92827098399269, 0.0)),\n",
       " None,\n",
       " Location(Cedar Hill Park, Nashville-Davidson, Davidson County, Tennessee, 37115, United States, (36.2711642, -86.7463865, 0.0)),\n",
       " None,\n",
       " Location(Cleveland Park, Nashville-Davidson, Davidson County, Tennessee, United States, (36.18918055, -86.75904269235879, 0.0)),\n",
       " Location(Coleman Park, Radnor, Nashville-Davidson, Davidson County, Tennessee, United States, (36.11175135, -86.74421536358906, 0.0)),\n",
       " Location(East Park, East Nashville, Nashville-Davidson, Davidson County, Tennessee, 37213, United States, (36.1731119, -86.7605539, 0.0)),\n",
       " Location(Metro Social Services, Cumberland River Greenway, Nashville-Davidson, Davidson County, Tennessee, 37201, United States, (36.17180195, -86.78065064675648, 0.0)),\n",
       " None,\n",
       " Location(Sevier Park, Nashville-Davidson, Davidson County, Tennessee, United States, (36.1193167, -86.78916865902795, 0.0)),\n",
       " None,\n",
       " None,\n",
       " Location(Hamilton Creek Park, Nashville-Davidson, Davidson County, Tennessee, 37217, United States, (36.1085858, -86.6258031, 0.0)),\n",
       " None,\n",
       " Location(Riverfront Park, East Nashville, Nashville-Davidson, Davidson County, Tennessee, United States, (36.1597156, -86.77154451709876, 0.0)),\n",
       " Location(Ted Rhodes Park, Bordeaux, Nashville-Davidson, Davidson County, Tennessee, United States, (36.1920358, -86.82172021336216, 0.0)),\n",
       " Location(Watkins Park, Nashville-Davidson, Davidson County, Tennessee, United States, (36.1626409, -86.79955290212202, 0.0)),\n",
       " Location(Fort Negley, Fort Negley Boulevard, Wedgewood-Houston, Nashville-Davidson, Davidson County, Tennessee, 37203, United States, (36.145037450000004, -86.77463498351258, 0.0)),\n",
       " Location(Shelby Park, Rosebank, Nashville-Davidson, Davidson County, Tennessee, United States, (36.169173099999995, -86.73154409275205, 0.0)),\n",
       " Location(Elmington Park, Nashville-Davidson, Davidson County, Tennessee, United States, (36.1337336, -86.82337824490938, 0.0)),\n",
       " None,\n",
       " Location(Bellevue Park, Nashville-Davidson, Davidson County, Tennessee, 37221, United States, (36.0783932, -86.9586134, 0.0)),\n",
       " Location(Hartman Park, Nashville-Davidson, Davidson County, Tennessee, 37218, United States, (36.2111665, -86.8255549, 0.0)),\n",
       " Location(Centennial Park‎, Nashville-Davidson, Davidson County, Tennessee, United States, (36.1498435, -86.81407355226804, 0.0)),\n",
       " Location(Jefferson Street, Nashville-Davidson, Davidson County, Tennessee, 37208, United States, (36.167919, -86.8186559, 0.0)),\n",
       " None,\n",
       " None,\n",
       " Location(Bordeaux - Timothy Park, Nashville-Davidson, Davidson County, Tennessee, United States, (36.214036899999996, -86.84357431487837, 0.0)),\n",
       " None,\n",
       " Location(Morgan Park, Germantown Nashville, TN, Nashville-Davidson, Davidson County, Tennessee, United States, (36.181143399999996, -86.78943778883118, 0.0)),\n",
       " Location(Madison Park, Nashville-Davidson, Davidson County, Tennessee, United States, (36.266175399999995, -86.70076877025315, 0.0)),\n",
       " Location(Old Hickory, Nashville-Davidson, Davidson County, Tennessee, 37138, United States, (36.2597132, -86.6480884, 0.0)),\n",
       " Location(Buena Vista Park, Nashville-Davidson, Davidson County, Tennessee, United States, (36.192104900000004, -86.80744375018259, 0.0)),\n",
       " Location(Green Hills Park, Nashville-Davidson, Davidson County, Tennessee, United States, (36.0950477, -86.80484934131965, 0.0)),\n",
       " Location(Fannie Mae Dees Park, Nashville-Davidson, Davidson County, Tennessee, United States, (36.1368179, -86.80588616542659, 0.0)),\n",
       " None,\n",
       " Location(West Greenwood Cemetary, Nashville-Davidson, Davidson County, Tennessee, United States, (36.146067349999996, -86.74659408106268, 0.0)),\n",
       " None,\n",
       " Location(McCabe Park, Nashville-Davidson, Davidson County, Tennessee, 37209, United States, (36.1397799, -86.8475, 0.0)),\n",
       " Location(Richland Creek Greenway, West Nashville, Richland, Nashville-Davidson, Davidson County, Tennessee, United States, (36.15212405, -86.85463963274071, 0.0)),\n",
       " None,\n",
       " Location(Public Square Park, Nashville-Davidson, Davidson County, Tennessee, United States, (36.16687785, -86.77831950668954, 0.0)),\n",
       " None,\n",
       " Location(Frankie Pierce Park, Nashville-Davidson, Davidson County, Tennessee, United States, (36.1649148, -86.7896941600793, 0.0)),\n",
       " None,\n",
       " Location(Fisk University, 1000, 17th Avenue North, Nashville-Davidson, Davidson County, Tennessee, 37208, United States, (36.16707125, -86.80390651935417, 0.0)),\n",
       " None]"
      ]
     },
     "execution_count": 62,
     "metadata": {},
     "output_type": "execute_result"
    }
   ],
   "source": [
    "Event_Coordinates"
   ]
  }
 ],
 "metadata": {
  "interpreter": {
   "hash": "fe44fef87f92f48a3a32707d0df204585f471652bc0ce87358a3ce712bc24db0"
  },
  "kernelspec": {
   "display_name": "Python 3.9.7 64-bit",
   "name": "python3"
  },
  "language_info": {
   "codemirror_mode": {
    "name": "ipython",
    "version": 3
   },
   "file_extension": ".py",
   "mimetype": "text/x-python",
   "name": "python",
   "nbconvert_exporter": "python",
   "pygments_lexer": "ipython3",
   "version": "3.9.7"
  },
  "orig_nbformat": 4
 },
 "nbformat": 4,
 "nbformat_minor": 2
}
