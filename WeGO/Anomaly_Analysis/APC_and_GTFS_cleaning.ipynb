{
 "cells": [
  {
   "cell_type": "markdown",
   "metadata": {},
   "source": [
    "# APC and GTFS analysis"
   ]
  },
  {
   "cell_type": "code",
   "execution_count": 1,
   "metadata": {},
   "outputs": [],
   "source": [
    "import pandas as pd\n",
    "import datetime\n",
    "import glob,dateparser\n",
    "import zipfile\n",
    "import numpy as np"
   ]
  },
  {
   "cell_type": "markdown",
   "metadata": {},
   "source": [
    "The analysis is done by year starting with 2021. The data comes from the `analysis_frame_gtfs_and_patterns.parquet` which can be found [here](https://www.dropbox.com/sh/mi6zymzax8fybno/AACkz546s2J31xDxNgph9ox6a/analysis_frame_with_gtfs_and_patterns.parquet?dl=0&subfolder_nav_tracking=1).\n",
    "\n",
    "\n",
    "Step 1 delete the records that have NULL in the time_str column.\n",
    "\n",
    "## Year 2021"
   ]
  },
  {
   "cell_type": "code",
   "execution_count": 2,
   "metadata": {},
   "outputs": [
    {
     "data": {
      "text/plain": [
       "(7864409, 43)"
      ]
     },
     "execution_count": 2,
     "metadata": {},
     "output_type": "execute_result"
    }
   ],
   "source": [
    "#wego_2021 = pd.read_parquet('Data/Complete_Data/year=2021')\n",
    "wego_2021 = pd.read_parquet('Cleaned_loads_wego_2021.parquet')\n",
    "wego_2021.shape"
   ]
  },
  {
   "cell_type": "code",
   "execution_count": 3,
   "metadata": {},
   "outputs": [],
   "source": [
    "#•wego_2021.to_parquet('Data/wego_2021.parquet')"
   ]
  },
  {
   "cell_type": "markdown",
   "metadata": {},
   "source": [
    "## 1. Delete where `time_str` is 'NULL\""
   ]
  },
  {
   "cell_type": "code",
   "execution_count": 3,
   "metadata": {},
   "outputs": [
    {
     "data": {
      "text/plain": [
       "171405"
      ]
     },
     "execution_count": 3,
     "metadata": {},
     "output_type": "execute_result"
    }
   ],
   "source": [
    "wego_2021['time_str'].isnull().sum()"
   ]
  },
  {
   "cell_type": "markdown",
   "metadata": {},
   "source": [
    "There are 171405 rows with `NULL` values in the `time_str` field."
   ]
  },
  {
   "cell_type": "code",
   "execution_count": 4,
   "metadata": {},
   "outputs": [
    {
     "data": {
      "text/html": [
       "<div>\n",
       "<style scoped>\n",
       "    .dataframe tbody tr th:only-of-type {\n",
       "        vertical-align: middle;\n",
       "    }\n",
       "\n",
       "    .dataframe tbody tr th {\n",
       "        vertical-align: top;\n",
       "    }\n",
       "\n",
       "    .dataframe thead th {\n",
       "        text-align: right;\n",
       "    }\n",
       "</style>\n",
       "<table border=\"1\" class=\"dataframe\">\n",
       "  <thead>\n",
       "    <tr style=\"text-align: right;\">\n",
       "      <th></th>\n",
       "      <th>activation_date</th>\n",
       "      <th>activation_date_str</th>\n",
       "      <th>arrival_time</th>\n",
       "      <th>arrival_time_str</th>\n",
       "      <th>block_abbr</th>\n",
       "      <th>block_stop_order</th>\n",
       "      <th>day</th>\n",
       "      <th>deactivation_date</th>\n",
       "      <th>deactivation_date_str</th>\n",
       "      <th>gtfs_end_date</th>\n",
       "      <th>...</th>\n",
       "      <th>transit_date</th>\n",
       "      <th>transit_date_str</th>\n",
       "      <th>trip_id</th>\n",
       "      <th>trip_start_time</th>\n",
       "      <th>type_of_day</th>\n",
       "      <th>vehicle_capacity</th>\n",
       "      <th>vehicle_id</th>\n",
       "      <th>window_of_day</th>\n",
       "      <th>month</th>\n",
       "      <th>Neg_Load</th>\n",
       "    </tr>\n",
       "  </thead>\n",
       "  <tbody>\n",
       "    <tr>\n",
       "      <th>655470</th>\n",
       "      <td>2021-08-25</td>\n",
       "      <td>08/25/21</td>\n",
       "      <td>NaT</td>\n",
       "      <td>None</td>\n",
       "      <td>1700</td>\n",
       "      <td>77</td>\n",
       "      <td>Friday</td>\n",
       "      <td>2021-10-02</td>\n",
       "      <td>10/02/21</td>\n",
       "      <td>2021-10-02</td>\n",
       "      <td>...</td>\n",
       "      <td>2021-10-01</td>\n",
       "      <td>10/01/21</td>\n",
       "      <td>241650</td>\n",
       "      <td>2021-10-01 07:15:00</td>\n",
       "      <td>weekday</td>\n",
       "      <td>40.0</td>\n",
       "      <td>1912</td>\n",
       "      <td>2</td>\n",
       "      <td>10</td>\n",
       "      <td>1.0</td>\n",
       "    </tr>\n",
       "    <tr>\n",
       "      <th>655600</th>\n",
       "      <td>2021-08-25</td>\n",
       "      <td>08/25/21</td>\n",
       "      <td>NaT</td>\n",
       "      <td>None</td>\n",
       "      <td>5604</td>\n",
       "      <td>316</td>\n",
       "      <td>Saturday</td>\n",
       "      <td>2021-10-02</td>\n",
       "      <td>10/02/21</td>\n",
       "      <td>2021-10-02</td>\n",
       "      <td>...</td>\n",
       "      <td>2021-10-02</td>\n",
       "      <td>10/02/21</td>\n",
       "      <td>240700</td>\n",
       "      <td>2021-10-02 15:35:00</td>\n",
       "      <td>weekend</td>\n",
       "      <td>45.0</td>\n",
       "      <td>188</td>\n",
       "      <td>4</td>\n",
       "      <td>10</td>\n",
       "      <td>14.0</td>\n",
       "    </tr>\n",
       "    <tr>\n",
       "      <th>655601</th>\n",
       "      <td>2021-08-25</td>\n",
       "      <td>08/25/21</td>\n",
       "      <td>NaT</td>\n",
       "      <td>None</td>\n",
       "      <td>5604</td>\n",
       "      <td>317</td>\n",
       "      <td>Saturday</td>\n",
       "      <td>2021-10-02</td>\n",
       "      <td>10/02/21</td>\n",
       "      <td>2021-10-02</td>\n",
       "      <td>...</td>\n",
       "      <td>2021-10-02</td>\n",
       "      <td>10/02/21</td>\n",
       "      <td>240700</td>\n",
       "      <td>2021-10-02 15:35:00</td>\n",
       "      <td>weekend</td>\n",
       "      <td>45.0</td>\n",
       "      <td>188</td>\n",
       "      <td>4</td>\n",
       "      <td>10</td>\n",
       "      <td>14.0</td>\n",
       "    </tr>\n",
       "    <tr>\n",
       "      <th>655647</th>\n",
       "      <td>2021-08-25</td>\n",
       "      <td>08/25/21</td>\n",
       "      <td>NaT</td>\n",
       "      <td>None</td>\n",
       "      <td>700</td>\n",
       "      <td>378</td>\n",
       "      <td>Saturday</td>\n",
       "      <td>2021-10-02</td>\n",
       "      <td>10/02/21</td>\n",
       "      <td>2021-10-02</td>\n",
       "      <td>...</td>\n",
       "      <td>2021-10-02</td>\n",
       "      <td>10/02/21</td>\n",
       "      <td>241104</td>\n",
       "      <td>2021-10-02 15:35:00</td>\n",
       "      <td>weekend</td>\n",
       "      <td>40.0</td>\n",
       "      <td>705</td>\n",
       "      <td>4</td>\n",
       "      <td>10</td>\n",
       "      <td>4.0</td>\n",
       "    </tr>\n",
       "    <tr>\n",
       "      <th>655648</th>\n",
       "      <td>2021-08-25</td>\n",
       "      <td>08/25/21</td>\n",
       "      <td>NaT</td>\n",
       "      <td>None</td>\n",
       "      <td>700</td>\n",
       "      <td>379</td>\n",
       "      <td>Saturday</td>\n",
       "      <td>2021-10-02</td>\n",
       "      <td>10/02/21</td>\n",
       "      <td>2021-10-02</td>\n",
       "      <td>...</td>\n",
       "      <td>2021-10-02</td>\n",
       "      <td>10/02/21</td>\n",
       "      <td>241104</td>\n",
       "      <td>2021-10-02 15:35:00</td>\n",
       "      <td>weekend</td>\n",
       "      <td>40.0</td>\n",
       "      <td>705</td>\n",
       "      <td>4</td>\n",
       "      <td>10</td>\n",
       "      <td>4.0</td>\n",
       "    </tr>\n",
       "  </tbody>\n",
       "</table>\n",
       "<p>5 rows × 43 columns</p>\n",
       "</div>"
      ],
      "text/plain": [
       "       activation_date activation_date_str arrival_time arrival_time_str  \\\n",
       "655470      2021-08-25            08/25/21          NaT             None   \n",
       "655600      2021-08-25            08/25/21          NaT             None   \n",
       "655601      2021-08-25            08/25/21          NaT             None   \n",
       "655647      2021-08-25            08/25/21          NaT             None   \n",
       "655648      2021-08-25            08/25/21          NaT             None   \n",
       "\n",
       "        block_abbr  block_stop_order       day deactivation_date  \\\n",
       "655470        1700                77    Friday        2021-10-02   \n",
       "655600        5604               316  Saturday        2021-10-02   \n",
       "655601        5604               317  Saturday        2021-10-02   \n",
       "655647         700               378  Saturday        2021-10-02   \n",
       "655648         700               379  Saturday        2021-10-02   \n",
       "\n",
       "       deactivation_date_str gtfs_end_date  ... transit_date transit_date_str  \\\n",
       "655470              10/02/21    2021-10-02  ...   2021-10-01         10/01/21   \n",
       "655600              10/02/21    2021-10-02  ...   2021-10-02         10/02/21   \n",
       "655601              10/02/21    2021-10-02  ...   2021-10-02         10/02/21   \n",
       "655647              10/02/21    2021-10-02  ...   2021-10-02         10/02/21   \n",
       "655648              10/02/21    2021-10-02  ...   2021-10-02         10/02/21   \n",
       "\n",
       "        trip_id     trip_start_time  type_of_day  vehicle_capacity  \\\n",
       "655470   241650 2021-10-01 07:15:00      weekday              40.0   \n",
       "655600   240700 2021-10-02 15:35:00      weekend              45.0   \n",
       "655601   240700 2021-10-02 15:35:00      weekend              45.0   \n",
       "655647   241104 2021-10-02 15:35:00      weekend              40.0   \n",
       "655648   241104 2021-10-02 15:35:00      weekend              40.0   \n",
       "\n",
       "        vehicle_id  window_of_day  month Neg_Load  \n",
       "655470        1912              2     10      1.0  \n",
       "655600         188              4     10     14.0  \n",
       "655601         188              4     10     14.0  \n",
       "655647         705              4     10      4.0  \n",
       "655648         705              4     10      4.0  \n",
       "\n",
       "[5 rows x 43 columns]"
      ]
     },
     "execution_count": 4,
     "metadata": {},
     "output_type": "execute_result"
    }
   ],
   "source": [
    "wego_2021[wego_2021['time_str'].isnull()].head()"
   ]
  },
  {
   "cell_type": "code",
   "execution_count": 5,
   "metadata": {},
   "outputs": [],
   "source": [
    "wego_2021_null_time_str = wego_2021[wego_2021['arrival_time'].isnull()]\n",
    "wego_2021_null_time_str.to_parquet('Data/wego_2021_null_time_str.parquet')\n",
    "del(wego_2021_null_time_str)"
   ]
  },
  {
   "cell_type": "markdown",
   "metadata": {},
   "source": [
    "Updating `wego_2021` without `NULL` values:"
   ]
  },
  {
   "cell_type": "code",
   "execution_count": 6,
   "metadata": {},
   "outputs": [
    {
     "data": {
      "text/plain": [
       "(7693004, 43)"
      ]
     },
     "execution_count": 6,
     "metadata": {},
     "output_type": "execute_result"
    }
   ],
   "source": [
    "wego_2021 = wego_2021.dropna(subset=['time_str'])\n",
    "wego_2021.shape"
   ]
  },
  {
   "cell_type": "markdown",
   "metadata": {},
   "source": [
    "## 2. Negative loads"
   ]
  },
  {
   "cell_type": "code",
   "execution_count": 7,
   "metadata": {},
   "outputs": [
    {
     "data": {
      "text/html": [
       "<div>\n",
       "<style scoped>\n",
       "    .dataframe tbody tr th:only-of-type {\n",
       "        vertical-align: middle;\n",
       "    }\n",
       "\n",
       "    .dataframe tbody tr th {\n",
       "        vertical-align: top;\n",
       "    }\n",
       "\n",
       "    .dataframe thead th {\n",
       "        text-align: right;\n",
       "    }\n",
       "</style>\n",
       "<table border=\"1\" class=\"dataframe\">\n",
       "  <thead>\n",
       "    <tr style=\"text-align: right;\">\n",
       "      <th></th>\n",
       "      <th>transit_date</th>\n",
       "      <th>trip_id</th>\n",
       "      <th>neg_load</th>\n",
       "    </tr>\n",
       "  </thead>\n",
       "  <tbody>\n",
       "    <tr>\n",
       "      <th>0</th>\n",
       "      <td>2021-01-01</td>\n",
       "      <td>229493</td>\n",
       "      <td>1.0</td>\n",
       "    </tr>\n",
       "    <tr>\n",
       "      <th>1</th>\n",
       "      <td>2021-01-01</td>\n",
       "      <td>229494</td>\n",
       "      <td>2.0</td>\n",
       "    </tr>\n",
       "    <tr>\n",
       "      <th>2</th>\n",
       "      <td>2021-01-01</td>\n",
       "      <td>229495</td>\n",
       "      <td>1.0</td>\n",
       "    </tr>\n",
       "    <tr>\n",
       "      <th>3</th>\n",
       "      <td>2021-01-01</td>\n",
       "      <td>229496</td>\n",
       "      <td>3.0</td>\n",
       "    </tr>\n",
       "    <tr>\n",
       "      <th>4</th>\n",
       "      <td>2021-01-01</td>\n",
       "      <td>229497</td>\n",
       "      <td>1.0</td>\n",
       "    </tr>\n",
       "  </tbody>\n",
       "</table>\n",
       "</div>"
      ],
      "text/plain": [
       "  transit_date trip_id  neg_load\n",
       "0   2021-01-01  229493       1.0\n",
       "1   2021-01-01  229494       2.0\n",
       "2   2021-01-01  229495       1.0\n",
       "3   2021-01-01  229496       3.0\n",
       "4   2021-01-01  229497       1.0"
      ]
     },
     "execution_count": 7,
     "metadata": {},
     "output_type": "execute_result"
    }
   ],
   "source": [
    "wego_2021_neg_load = wego_2021.groupby(['transit_date', 'trip_id'], as_index=False)['load'].min()\n",
    "wego_2021_neg_load = wego_2021_neg_load.drop_duplicates()\n",
    "wego_2021_neg_load.columns = ['transit_date', 'trip_id', 'neg_load']\n",
    "wego_2021_neg_load.head()"
   ]
  },
  {
   "cell_type": "code",
   "execution_count": 10,
   "metadata": {},
   "outputs": [
    {
     "data": {
      "text/html": [
       "<div>\n",
       "<style scoped>\n",
       "    .dataframe tbody tr th:only-of-type {\n",
       "        vertical-align: middle;\n",
       "    }\n",
       "\n",
       "    .dataframe tbody tr th {\n",
       "        vertical-align: top;\n",
       "    }\n",
       "\n",
       "    .dataframe thead th {\n",
       "        text-align: right;\n",
       "    }\n",
       "</style>\n",
       "<table border=\"1\" class=\"dataframe\">\n",
       "  <thead>\n",
       "    <tr style=\"text-align: right;\">\n",
       "      <th></th>\n",
       "      <th>activation_date</th>\n",
       "      <th>activation_date_str</th>\n",
       "      <th>arrival_time</th>\n",
       "      <th>arrival_time_str</th>\n",
       "      <th>block_abbr</th>\n",
       "      <th>block_stop_order</th>\n",
       "      <th>day</th>\n",
       "      <th>deactivation_date</th>\n",
       "      <th>deactivation_date_str</th>\n",
       "      <th>gtfs_end_date</th>\n",
       "      <th>...</th>\n",
       "      <th>transit_date_str</th>\n",
       "      <th>trip_id</th>\n",
       "      <th>trip_start_time</th>\n",
       "      <th>type_of_day</th>\n",
       "      <th>vehicle_capacity</th>\n",
       "      <th>vehicle_id</th>\n",
       "      <th>window_of_day</th>\n",
       "      <th>month</th>\n",
       "      <th>Neg_Load</th>\n",
       "      <th>neg_load</th>\n",
       "    </tr>\n",
       "  </thead>\n",
       "  <tbody>\n",
       "    <tr>\n",
       "      <th>0</th>\n",
       "      <td>2020-11-17</td>\n",
       "      <td>11/17/20</td>\n",
       "      <td>2021-01-01 14:00:11</td>\n",
       "      <td>14:00:11</td>\n",
       "      <td>2200</td>\n",
       "      <td>535</td>\n",
       "      <td>Friday</td>\n",
       "      <td>2021-02-17</td>\n",
       "      <td>02/17/21</td>\n",
       "      <td>2021-04-03</td>\n",
       "      <td>...</td>\n",
       "      <td>01/01/21</td>\n",
       "      <td>230139</td>\n",
       "      <td>2021-01-01 13:48:00</td>\n",
       "      <td>weekday</td>\n",
       "      <td>15.0</td>\n",
       "      <td>1800</td>\n",
       "      <td>4</td>\n",
       "      <td>1</td>\n",
       "      <td>2.0</td>\n",
       "      <td>2.0</td>\n",
       "    </tr>\n",
       "    <tr>\n",
       "      <th>1</th>\n",
       "      <td>2020-11-17</td>\n",
       "      <td>11/17/20</td>\n",
       "      <td>2021-01-01 14:00:34</td>\n",
       "      <td>14:00:34</td>\n",
       "      <td>2200</td>\n",
       "      <td>536</td>\n",
       "      <td>Friday</td>\n",
       "      <td>2021-02-17</td>\n",
       "      <td>02/17/21</td>\n",
       "      <td>2021-04-03</td>\n",
       "      <td>...</td>\n",
       "      <td>01/01/21</td>\n",
       "      <td>230139</td>\n",
       "      <td>2021-01-01 13:48:00</td>\n",
       "      <td>weekday</td>\n",
       "      <td>15.0</td>\n",
       "      <td>1800</td>\n",
       "      <td>4</td>\n",
       "      <td>1</td>\n",
       "      <td>2.0</td>\n",
       "      <td>2.0</td>\n",
       "    </tr>\n",
       "    <tr>\n",
       "      <th>2</th>\n",
       "      <td>2020-11-17</td>\n",
       "      <td>11/17/20</td>\n",
       "      <td>2021-01-01 14:00:40</td>\n",
       "      <td>14:00:40</td>\n",
       "      <td>2200</td>\n",
       "      <td>537</td>\n",
       "      <td>Friday</td>\n",
       "      <td>2021-02-17</td>\n",
       "      <td>02/17/21</td>\n",
       "      <td>2021-04-03</td>\n",
       "      <td>...</td>\n",
       "      <td>01/01/21</td>\n",
       "      <td>230139</td>\n",
       "      <td>2021-01-01 13:48:00</td>\n",
       "      <td>weekday</td>\n",
       "      <td>15.0</td>\n",
       "      <td>1800</td>\n",
       "      <td>4</td>\n",
       "      <td>1</td>\n",
       "      <td>2.0</td>\n",
       "      <td>2.0</td>\n",
       "    </tr>\n",
       "    <tr>\n",
       "      <th>3</th>\n",
       "      <td>2020-11-17</td>\n",
       "      <td>11/17/20</td>\n",
       "      <td>2021-01-01 14:01:00</td>\n",
       "      <td>14:01:00</td>\n",
       "      <td>2200</td>\n",
       "      <td>538</td>\n",
       "      <td>Friday</td>\n",
       "      <td>2021-02-17</td>\n",
       "      <td>02/17/21</td>\n",
       "      <td>2021-04-03</td>\n",
       "      <td>...</td>\n",
       "      <td>01/01/21</td>\n",
       "      <td>230139</td>\n",
       "      <td>2021-01-01 13:48:00</td>\n",
       "      <td>weekday</td>\n",
       "      <td>15.0</td>\n",
       "      <td>1800</td>\n",
       "      <td>4</td>\n",
       "      <td>1</td>\n",
       "      <td>2.0</td>\n",
       "      <td>2.0</td>\n",
       "    </tr>\n",
       "    <tr>\n",
       "      <th>4</th>\n",
       "      <td>2020-11-17</td>\n",
       "      <td>11/17/20</td>\n",
       "      <td>2021-01-01 14:01:18</td>\n",
       "      <td>14:01:18</td>\n",
       "      <td>2200</td>\n",
       "      <td>539</td>\n",
       "      <td>Friday</td>\n",
       "      <td>2021-02-17</td>\n",
       "      <td>02/17/21</td>\n",
       "      <td>2021-04-03</td>\n",
       "      <td>...</td>\n",
       "      <td>01/01/21</td>\n",
       "      <td>230139</td>\n",
       "      <td>2021-01-01 13:48:00</td>\n",
       "      <td>weekday</td>\n",
       "      <td>15.0</td>\n",
       "      <td>1800</td>\n",
       "      <td>4</td>\n",
       "      <td>1</td>\n",
       "      <td>2.0</td>\n",
       "      <td>2.0</td>\n",
       "    </tr>\n",
       "  </tbody>\n",
       "</table>\n",
       "<p>5 rows × 44 columns</p>\n",
       "</div>"
      ],
      "text/plain": [
       "  activation_date activation_date_str        arrival_time arrival_time_str  \\\n",
       "0      2020-11-17            11/17/20 2021-01-01 14:00:11         14:00:11   \n",
       "1      2020-11-17            11/17/20 2021-01-01 14:00:34         14:00:34   \n",
       "2      2020-11-17            11/17/20 2021-01-01 14:00:40         14:00:40   \n",
       "3      2020-11-17            11/17/20 2021-01-01 14:01:00         14:01:00   \n",
       "4      2020-11-17            11/17/20 2021-01-01 14:01:18         14:01:18   \n",
       "\n",
       "   block_abbr  block_stop_order     day deactivation_date  \\\n",
       "0        2200               535  Friday        2021-02-17   \n",
       "1        2200               536  Friday        2021-02-17   \n",
       "2        2200               537  Friday        2021-02-17   \n",
       "3        2200               538  Friday        2021-02-17   \n",
       "4        2200               539  Friday        2021-02-17   \n",
       "\n",
       "  deactivation_date_str gtfs_end_date  ... transit_date_str trip_id  \\\n",
       "0              02/17/21    2021-04-03  ...         01/01/21  230139   \n",
       "1              02/17/21    2021-04-03  ...         01/01/21  230139   \n",
       "2              02/17/21    2021-04-03  ...         01/01/21  230139   \n",
       "3              02/17/21    2021-04-03  ...         01/01/21  230139   \n",
       "4              02/17/21    2021-04-03  ...         01/01/21  230139   \n",
       "\n",
       "      trip_start_time  type_of_day  vehicle_capacity  vehicle_id  \\\n",
       "0 2021-01-01 13:48:00      weekday              15.0        1800   \n",
       "1 2021-01-01 13:48:00      weekday              15.0        1800   \n",
       "2 2021-01-01 13:48:00      weekday              15.0        1800   \n",
       "3 2021-01-01 13:48:00      weekday              15.0        1800   \n",
       "4 2021-01-01 13:48:00      weekday              15.0        1800   \n",
       "\n",
       "   window_of_day  month  Neg_Load neg_load  \n",
       "0              4      1       2.0      2.0  \n",
       "1              4      1       2.0      2.0  \n",
       "2              4      1       2.0      2.0  \n",
       "3              4      1       2.0      2.0  \n",
       "4              4      1       2.0      2.0  \n",
       "\n",
       "[5 rows x 44 columns]"
      ]
     },
     "execution_count": 10,
     "metadata": {},
     "output_type": "execute_result"
    }
   ],
   "source": [
    "wego_2021 = pd.merge(wego_2021, wego_2021_neg_load, how = 'left', on = ['transit_date', 'trip_id'])\n",
    "wego_2021.head()"
   ]
  },
  {
   "cell_type": "code",
   "execution_count": 11,
   "metadata": {},
   "outputs": [
    {
     "data": {
      "text/plain": [
       "(7693004, 44)"
      ]
     },
     "execution_count": 11,
     "metadata": {},
     "output_type": "execute_result"
    }
   ],
   "source": [
    "wego_2021 = wego_2021[wego_2021['neg_load'] >= 0]\n",
    "wego_2021.shape"
   ]
  },
  {
   "cell_type": "markdown",
   "metadata": {},
   "source": [
    "There are 7693004 records with consist `load` values."
   ]
  },
  {
   "cell_type": "code",
   "execution_count": 12,
   "metadata": {},
   "outputs": [
    {
     "data": {
      "text/plain": [
       "(0, 44)"
      ]
     },
     "execution_count": 12,
     "metadata": {},
     "output_type": "execute_result"
    }
   ],
   "source": [
    "wego_2021[wego_2021['load'] < 0].shape"
   ]
  },
  {
   "cell_type": "markdown",
   "metadata": {},
   "source": [
    "There are 0 rows with negative loads (or negative occupancies). "
   ]
  },
  {
   "cell_type": "markdown",
   "metadata": {},
   "source": [
    "## 2. Positive -and zero- loads\n",
    "\n",
    "Confirming that there are 7693004 records with consist `load` values."
   ]
  },
  {
   "cell_type": "code",
   "execution_count": 13,
   "metadata": {},
   "outputs": [
    {
     "data": {
      "text/plain": [
       "(7693004, 44)"
      ]
     },
     "execution_count": 13,
     "metadata": {},
     "output_type": "execute_result"
    }
   ],
   "source": [
    "wego_2021 = wego_2021[wego_2021['load'] >= 0]\n",
    "wego_2021.shape"
   ]
  },
  {
   "cell_type": "code",
   "execution_count": 15,
   "metadata": {},
   "outputs": [
    {
     "data": {
      "text/html": [
       "<div>\n",
       "<style scoped>\n",
       "    .dataframe tbody tr th:only-of-type {\n",
       "        vertical-align: middle;\n",
       "    }\n",
       "\n",
       "    .dataframe tbody tr th {\n",
       "        vertical-align: top;\n",
       "    }\n",
       "\n",
       "    .dataframe thead th {\n",
       "        text-align: right;\n",
       "    }\n",
       "</style>\n",
       "<table border=\"1\" class=\"dataframe\">\n",
       "  <thead>\n",
       "    <tr style=\"text-align: right;\">\n",
       "      <th></th>\n",
       "      <th>activation_date</th>\n",
       "      <th>activation_date_str</th>\n",
       "      <th>arrival_time</th>\n",
       "      <th>arrival_time_str</th>\n",
       "      <th>block_abbr</th>\n",
       "      <th>block_stop_order</th>\n",
       "      <th>day</th>\n",
       "      <th>deactivation_date</th>\n",
       "      <th>deactivation_date_str</th>\n",
       "      <th>gtfs_end_date</th>\n",
       "      <th>...</th>\n",
       "      <th>transit_date</th>\n",
       "      <th>transit_date_str</th>\n",
       "      <th>trip_id</th>\n",
       "      <th>trip_start_time</th>\n",
       "      <th>type_of_day</th>\n",
       "      <th>vehicle_capacity</th>\n",
       "      <th>vehicle_id</th>\n",
       "      <th>window_of_day</th>\n",
       "      <th>month</th>\n",
       "      <th>Neg_Load</th>\n",
       "    </tr>\n",
       "  </thead>\n",
       "  <tbody>\n",
       "    <tr>\n",
       "      <th>0</th>\n",
       "      <td>2020-11-17T00:00:00Z</td>\n",
       "      <td>11/17/20</td>\n",
       "      <td>2021-01-01T14:00:11Z</td>\n",
       "      <td>14:00:11</td>\n",
       "      <td>2200</td>\n",
       "      <td>535</td>\n",
       "      <td>Friday</td>\n",
       "      <td>2021-02-17T00:00:00Z</td>\n",
       "      <td>02/17/21</td>\n",
       "      <td>2021-04-03T00:00:00Z</td>\n",
       "      <td>...</td>\n",
       "      <td>2021-01-01T00:00:00Z</td>\n",
       "      <td>01/01/21</td>\n",
       "      <td>230139</td>\n",
       "      <td>2021-01-01T13:48:00Z</td>\n",
       "      <td>weekday</td>\n",
       "      <td>15.0</td>\n",
       "      <td>1800</td>\n",
       "      <td>4</td>\n",
       "      <td>1</td>\n",
       "      <td>2</td>\n",
       "    </tr>\n",
       "    <tr>\n",
       "      <th>1</th>\n",
       "      <td>2020-11-17T00:00:00Z</td>\n",
       "      <td>11/17/20</td>\n",
       "      <td>2021-01-01T14:00:34Z</td>\n",
       "      <td>14:00:34</td>\n",
       "      <td>2200</td>\n",
       "      <td>536</td>\n",
       "      <td>Friday</td>\n",
       "      <td>2021-02-17T00:00:00Z</td>\n",
       "      <td>02/17/21</td>\n",
       "      <td>2021-04-03T00:00:00Z</td>\n",
       "      <td>...</td>\n",
       "      <td>2021-01-01T00:00:00Z</td>\n",
       "      <td>01/01/21</td>\n",
       "      <td>230139</td>\n",
       "      <td>2021-01-01T13:48:00Z</td>\n",
       "      <td>weekday</td>\n",
       "      <td>15.0</td>\n",
       "      <td>1800</td>\n",
       "      <td>4</td>\n",
       "      <td>1</td>\n",
       "      <td>2</td>\n",
       "    </tr>\n",
       "    <tr>\n",
       "      <th>2</th>\n",
       "      <td>2020-11-17T00:00:00Z</td>\n",
       "      <td>11/17/20</td>\n",
       "      <td>2021-01-01T14:00:40Z</td>\n",
       "      <td>14:00:40</td>\n",
       "      <td>2200</td>\n",
       "      <td>537</td>\n",
       "      <td>Friday</td>\n",
       "      <td>2021-02-17T00:00:00Z</td>\n",
       "      <td>02/17/21</td>\n",
       "      <td>2021-04-03T00:00:00Z</td>\n",
       "      <td>...</td>\n",
       "      <td>2021-01-01T00:00:00Z</td>\n",
       "      <td>01/01/21</td>\n",
       "      <td>230139</td>\n",
       "      <td>2021-01-01T13:48:00Z</td>\n",
       "      <td>weekday</td>\n",
       "      <td>15.0</td>\n",
       "      <td>1800</td>\n",
       "      <td>4</td>\n",
       "      <td>1</td>\n",
       "      <td>2</td>\n",
       "    </tr>\n",
       "    <tr>\n",
       "      <th>3</th>\n",
       "      <td>2020-11-17T00:00:00Z</td>\n",
       "      <td>11/17/20</td>\n",
       "      <td>2021-01-01T14:01:00Z</td>\n",
       "      <td>14:01:00</td>\n",
       "      <td>2200</td>\n",
       "      <td>538</td>\n",
       "      <td>Friday</td>\n",
       "      <td>2021-02-17T00:00:00Z</td>\n",
       "      <td>02/17/21</td>\n",
       "      <td>2021-04-03T00:00:00Z</td>\n",
       "      <td>...</td>\n",
       "      <td>2021-01-01T00:00:00Z</td>\n",
       "      <td>01/01/21</td>\n",
       "      <td>230139</td>\n",
       "      <td>2021-01-01T13:48:00Z</td>\n",
       "      <td>weekday</td>\n",
       "      <td>15.0</td>\n",
       "      <td>1800</td>\n",
       "      <td>4</td>\n",
       "      <td>1</td>\n",
       "      <td>2</td>\n",
       "    </tr>\n",
       "    <tr>\n",
       "      <th>4</th>\n",
       "      <td>2020-11-17T00:00:00Z</td>\n",
       "      <td>11/17/20</td>\n",
       "      <td>2021-01-01T14:01:18Z</td>\n",
       "      <td>14:01:18</td>\n",
       "      <td>2200</td>\n",
       "      <td>539</td>\n",
       "      <td>Friday</td>\n",
       "      <td>2021-02-17T00:00:00Z</td>\n",
       "      <td>02/17/21</td>\n",
       "      <td>2021-04-03T00:00:00Z</td>\n",
       "      <td>...</td>\n",
       "      <td>2021-01-01T00:00:00Z</td>\n",
       "      <td>01/01/21</td>\n",
       "      <td>230139</td>\n",
       "      <td>2021-01-01T13:48:00Z</td>\n",
       "      <td>weekday</td>\n",
       "      <td>15.0</td>\n",
       "      <td>1800</td>\n",
       "      <td>4</td>\n",
       "      <td>1</td>\n",
       "      <td>2</td>\n",
       "    </tr>\n",
       "  </tbody>\n",
       "</table>\n",
       "<p>5 rows × 43 columns</p>\n",
       "</div>"
      ],
      "text/plain": [
       "        activation_date activation_date_str          arrival_time  \\\n",
       "0  2020-11-17T00:00:00Z            11/17/20  2021-01-01T14:00:11Z   \n",
       "1  2020-11-17T00:00:00Z            11/17/20  2021-01-01T14:00:34Z   \n",
       "2  2020-11-17T00:00:00Z            11/17/20  2021-01-01T14:00:40Z   \n",
       "3  2020-11-17T00:00:00Z            11/17/20  2021-01-01T14:01:00Z   \n",
       "4  2020-11-17T00:00:00Z            11/17/20  2021-01-01T14:01:18Z   \n",
       "\n",
       "  arrival_time_str  block_abbr  block_stop_order     day  \\\n",
       "0         14:00:11        2200               535  Friday   \n",
       "1         14:00:34        2200               536  Friday   \n",
       "2         14:00:40        2200               537  Friday   \n",
       "3         14:01:00        2200               538  Friday   \n",
       "4         14:01:18        2200               539  Friday   \n",
       "\n",
       "      deactivation_date deactivation_date_str         gtfs_end_date  ...  \\\n",
       "0  2021-02-17T00:00:00Z              02/17/21  2021-04-03T00:00:00Z  ...   \n",
       "1  2021-02-17T00:00:00Z              02/17/21  2021-04-03T00:00:00Z  ...   \n",
       "2  2021-02-17T00:00:00Z              02/17/21  2021-04-03T00:00:00Z  ...   \n",
       "3  2021-02-17T00:00:00Z              02/17/21  2021-04-03T00:00:00Z  ...   \n",
       "4  2021-02-17T00:00:00Z              02/17/21  2021-04-03T00:00:00Z  ...   \n",
       "\n",
       "           transit_date transit_date_str  trip_id       trip_start_time  \\\n",
       "0  2021-01-01T00:00:00Z         01/01/21   230139  2021-01-01T13:48:00Z   \n",
       "1  2021-01-01T00:00:00Z         01/01/21   230139  2021-01-01T13:48:00Z   \n",
       "2  2021-01-01T00:00:00Z         01/01/21   230139  2021-01-01T13:48:00Z   \n",
       "3  2021-01-01T00:00:00Z         01/01/21   230139  2021-01-01T13:48:00Z   \n",
       "4  2021-01-01T00:00:00Z         01/01/21   230139  2021-01-01T13:48:00Z   \n",
       "\n",
       "   type_of_day  vehicle_capacity  vehicle_id  window_of_day  month Neg_Load  \n",
       "0      weekday              15.0        1800              4      1        2  \n",
       "1      weekday              15.0        1800              4      1        2  \n",
       "2      weekday              15.0        1800              4      1        2  \n",
       "3      weekday              15.0        1800              4      1        2  \n",
       "4      weekday              15.0        1800              4      1        2  \n",
       "\n",
       "[5 rows x 43 columns]"
      ]
     },
     "execution_count": 15,
     "metadata": {},
     "output_type": "execute_result"
    }
   ],
   "source": [
    "wego_2021.head()"
   ]
  },
  {
   "cell_type": "code",
   "execution_count": 14,
   "metadata": {},
   "outputs": [
    {
     "data": {
      "text/plain": [
       "activation_date          datetime64[ns]\n",
       "activation_date_str              object\n",
       "arrival_time             datetime64[ns]\n",
       "arrival_time_str                 object\n",
       "block_abbr                        int32\n",
       "block_stop_order                  int32\n",
       "day                              object\n",
       "deactivation_date        datetime64[ns]\n",
       "deactivation_date_str            object\n",
       "gtfs_end_date            datetime64[ns]\n",
       "gtfs_file                        object\n",
       "gtfs_start_date          datetime64[ns]\n",
       "hour_of_trip                      int32\n",
       "load                            float64\n",
       "load_factor                     float64\n",
       "map_latitude                    float64\n",
       "map_longitude                   float64\n",
       "offs                            float64\n",
       "ons                             float64\n",
       "pattern_num                      object\n",
       "route_direction_name             object\n",
       "route_id                          int32\n",
       "scheduled_time           datetime64[ns]\n",
       "scheduled_time_str               object\n",
       "service_id                       object\n",
       "shape_id                         object\n",
       "stop_id                          object\n",
       "stop_id_list                     object\n",
       "stop_name                        object\n",
       "stop_sequence                     int32\n",
       "stop_sequence_list               object\n",
       "time                     datetime64[ns]\n",
       "time_str                         object\n",
       "transit_date             datetime64[ns]\n",
       "transit_date_str                 object\n",
       "trip_id                          object\n",
       "trip_start_time          datetime64[ns]\n",
       "type_of_day                      object\n",
       "vehicle_capacity                float64\n",
       "vehicle_id                       object\n",
       "window_of_day                     int32\n",
       "month                             int32\n",
       "Neg_Load                        float64\n",
       "neg_load                        float64\n",
       "dtype: object"
      ]
     },
     "execution_count": 14,
     "metadata": {},
     "output_type": "execute_result"
    }
   ],
   "source": [
    "wego_2021.dtypes"
   ]
  },
  {
   "cell_type": "code",
   "execution_count": 28,
   "metadata": {},
   "outputs": [
    {
     "data": {
      "text/plain": [
       "Index(['activation_date', 'activation_date_str', 'arrival_time',\n",
       "       'arrival_time_str', 'block_abbr', 'block_stop_order', 'day',\n",
       "       'deactivation_date', 'deactivation_date_str', 'gtfs_end_date',\n",
       "       'gtfs_file', 'gtfs_start_date', 'hour_of_trip', 'load', 'load_factor',\n",
       "       'map_latitude', 'map_longitude', 'offs', 'ons', 'pattern_num',\n",
       "       'route_direction_name', 'route_id', 'scheduled_time',\n",
       "       'scheduled_time_str', 'service_id', 'shape_id', 'stop_id',\n",
       "       'stop_id_list', 'stop_name', 'stop_sequence', 'stop_sequence_list',\n",
       "       'time', 'time_str', 'transit_date', 'transit_date_str', 'trip_id',\n",
       "       'trip_start_time', 'type_of_day', 'vehicle_capacity', 'vehicle_id',\n",
       "       'window_of_day', 'month', 'Neg_Load'],\n",
       "      dtype='object')"
      ]
     },
     "execution_count": 28,
     "metadata": {},
     "output_type": "execute_result"
    }
   ],
   "source": [
    "wego_2021.columns"
   ]
  },
  {
   "cell_type": "markdown",
   "metadata": {},
   "source": [
    "There are 11660 different `trip_id` values in the `wego_2021` dataset:"
   ]
  },
  {
   "cell_type": "code",
   "execution_count": 15,
   "metadata": {},
   "outputs": [
    {
     "data": {
      "text/plain": [
       "11660"
      ]
     },
     "execution_count": 15,
     "metadata": {},
     "output_type": "execute_result"
    }
   ],
   "source": [
    "wego_2021['trip_id'].nunique()"
   ]
  },
  {
   "cell_type": "markdown",
   "metadata": {},
   "source": [
    "## 3. test if the hour of the time is adjusted to 0-23 incase a trip crosses two days"
   ]
  },
  {
   "cell_type": "code",
   "execution_count": 16,
   "metadata": {},
   "outputs": [
    {
     "data": {
      "text/plain": [
       "16    582230\n",
       "15    535965\n",
       "14    525546\n",
       "10    509718\n",
       "12    504520\n",
       "13    481761\n",
       "17    480428\n",
       "8     473084\n",
       "11    468856\n",
       "7     466435\n",
       "9     446093\n",
       "6     440264\n",
       "18    431771\n",
       "19    358564\n",
       "20    324410\n",
       "21    260765\n",
       "5     189766\n",
       "22    152817\n",
       "23     35981\n",
       "4      20999\n",
       "0       3031\n",
       "Name: hour_of_trip, dtype: int64"
      ]
     },
     "execution_count": 16,
     "metadata": {},
     "output_type": "execute_result"
    }
   ],
   "source": [
    "wego_2021.hour_of_trip.value_counts()"
   ]
  },
  {
   "cell_type": "markdown",
   "metadata": {},
   "source": [
    "Yes, the hour values are adjusted to 0-23."
   ]
  },
  {
   "cell_type": "markdown",
   "metadata": {},
   "source": [
    "### 3.1 if the hour is adjusted to 0-23, test if the date is also updated when the vehicle enters the next day during that trip.\n",
    "\n",
    "A trip can only serve once per date, so if the `pattern_num` is fixed, it should visit the same number bus stops per date."
   ]
  },
  {
   "cell_type": "code",
   "execution_count": 17,
   "metadata": {},
   "outputs": [
    {
     "name": "stderr",
     "output_type": "stream",
     "text": [
      "C:\\Users\\jcmar\\AppData\\Local\\Temp/ipykernel_18544/4205379703.py:1: FutureWarning: Indexing with multiple keys (implicitly converted to a tuple of keys) will be deprecated, use a list instead.\n",
      "  trips_and_dates = wego_2021.groupby(['trip_id', 'transit_date', 'pattern_num'])['stop_id', 'vehicle_id'].count().reset_index()\n"
     ]
    },
    {
     "data": {
      "text/html": [
       "<div>\n",
       "<style scoped>\n",
       "    .dataframe tbody tr th:only-of-type {\n",
       "        vertical-align: middle;\n",
       "    }\n",
       "\n",
       "    .dataframe tbody tr th {\n",
       "        vertical-align: top;\n",
       "    }\n",
       "\n",
       "    .dataframe thead th {\n",
       "        text-align: right;\n",
       "    }\n",
       "</style>\n",
       "<table border=\"1\" class=\"dataframe\">\n",
       "  <thead>\n",
       "    <tr style=\"text-align: right;\">\n",
       "      <th></th>\n",
       "      <th>trip_id</th>\n",
       "      <th>transit_date</th>\n",
       "      <th>pattern_num</th>\n",
       "      <th>stop_id</th>\n",
       "      <th>vehicle_id</th>\n",
       "    </tr>\n",
       "  </thead>\n",
       "  <tbody>\n",
       "    <tr>\n",
       "      <th>0</th>\n",
       "      <td>229457</td>\n",
       "      <td>2021-01-09</td>\n",
       "      <td>ROUTE_14_FROM DOWNTOWN_2</td>\n",
       "      <td>43</td>\n",
       "      <td>43</td>\n",
       "    </tr>\n",
       "    <tr>\n",
       "      <th>1</th>\n",
       "      <td>229457</td>\n",
       "      <td>2021-01-16</td>\n",
       "      <td>ROUTE_14_FROM DOWNTOWN_2</td>\n",
       "      <td>43</td>\n",
       "      <td>43</td>\n",
       "    </tr>\n",
       "    <tr>\n",
       "      <th>2</th>\n",
       "      <td>229457</td>\n",
       "      <td>2021-01-18</td>\n",
       "      <td>ROUTE_14_FROM DOWNTOWN_2</td>\n",
       "      <td>43</td>\n",
       "      <td>43</td>\n",
       "    </tr>\n",
       "    <tr>\n",
       "      <th>3</th>\n",
       "      <td>229457</td>\n",
       "      <td>2021-01-23</td>\n",
       "      <td>ROUTE_14_FROM DOWNTOWN_2</td>\n",
       "      <td>43</td>\n",
       "      <td>43</td>\n",
       "    </tr>\n",
       "    <tr>\n",
       "      <th>4</th>\n",
       "      <td>229457</td>\n",
       "      <td>2021-01-30</td>\n",
       "      <td>ROUTE_14_FROM DOWNTOWN_2</td>\n",
       "      <td>43</td>\n",
       "      <td>43</td>\n",
       "    </tr>\n",
       "  </tbody>\n",
       "</table>\n",
       "</div>"
      ],
      "text/plain": [
       "  trip_id transit_date               pattern_num  stop_id  vehicle_id\n",
       "0  229457   2021-01-09  ROUTE_14_FROM DOWNTOWN_2       43          43\n",
       "1  229457   2021-01-16  ROUTE_14_FROM DOWNTOWN_2       43          43\n",
       "2  229457   2021-01-18  ROUTE_14_FROM DOWNTOWN_2       43          43\n",
       "3  229457   2021-01-23  ROUTE_14_FROM DOWNTOWN_2       43          43\n",
       "4  229457   2021-01-30  ROUTE_14_FROM DOWNTOWN_2       43          43"
      ]
     },
     "execution_count": 17,
     "metadata": {},
     "output_type": "execute_result"
    }
   ],
   "source": [
    "trips_and_dates = wego_2021.groupby(['trip_id', 'transit_date', 'pattern_num'])['stop_id', 'vehicle_id'].count().reset_index()\n",
    "trips_and_dates.head()"
   ]
  },
  {
   "cell_type": "markdown",
   "metadata": {},
   "source": [
    "## 4. test if a trip_id is assigned to multiple routes in the APC data\n",
    "\n",
    "We already know that there are 11660 `trip_id` values during 2021. So we only have to group by `trip_id` and then count the different number of `route_id` values that are associated to that `trip_id`. If the returned value is `1`, then we can conclude that the trip is assigned to only one `route_id`."
   ]
  },
  {
   "cell_type": "code",
   "execution_count": 18,
   "metadata": {},
   "outputs": [
    {
     "name": "stderr",
     "output_type": "stream",
     "text": [
      "C:\\Users\\jcmar\\AppData\\Local\\Temp/ipykernel_18544/2056836698.py:1: FutureWarning: Indexing with multiple keys (implicitly converted to a tuple of keys) will be deprecated, use a list instead.\n",
      "  trips_and_routes = wego_2021.groupby(['trip_id'], as_index = False)['route_id', 'route_direction_name'].nunique()\n"
     ]
    },
    {
     "data": {
      "text/html": [
       "<div>\n",
       "<style scoped>\n",
       "    .dataframe tbody tr th:only-of-type {\n",
       "        vertical-align: middle;\n",
       "    }\n",
       "\n",
       "    .dataframe tbody tr th {\n",
       "        vertical-align: top;\n",
       "    }\n",
       "\n",
       "    .dataframe thead th {\n",
       "        text-align: right;\n",
       "    }\n",
       "</style>\n",
       "<table border=\"1\" class=\"dataframe\">\n",
       "  <thead>\n",
       "    <tr style=\"text-align: right;\">\n",
       "      <th></th>\n",
       "      <th>trip_id</th>\n",
       "      <th>route_id</th>\n",
       "      <th>route_direction_name</th>\n",
       "    </tr>\n",
       "  </thead>\n",
       "  <tbody>\n",
       "    <tr>\n",
       "      <th>0</th>\n",
       "      <td>229457</td>\n",
       "      <td>1</td>\n",
       "      <td>1</td>\n",
       "    </tr>\n",
       "    <tr>\n",
       "      <th>1</th>\n",
       "      <td>229458</td>\n",
       "      <td>1</td>\n",
       "      <td>1</td>\n",
       "    </tr>\n",
       "    <tr>\n",
       "      <th>2</th>\n",
       "      <td>229459</td>\n",
       "      <td>1</td>\n",
       "      <td>1</td>\n",
       "    </tr>\n",
       "    <tr>\n",
       "      <th>3</th>\n",
       "      <td>229460</td>\n",
       "      <td>1</td>\n",
       "      <td>1</td>\n",
       "    </tr>\n",
       "    <tr>\n",
       "      <th>4</th>\n",
       "      <td>229461</td>\n",
       "      <td>1</td>\n",
       "      <td>1</td>\n",
       "    </tr>\n",
       "    <tr>\n",
       "      <th>...</th>\n",
       "      <td>...</td>\n",
       "      <td>...</td>\n",
       "      <td>...</td>\n",
       "    </tr>\n",
       "    <tr>\n",
       "      <th>11655</th>\n",
       "      <td>264830</td>\n",
       "      <td>1</td>\n",
       "      <td>1</td>\n",
       "    </tr>\n",
       "    <tr>\n",
       "      <th>11656</th>\n",
       "      <td>264831</td>\n",
       "      <td>1</td>\n",
       "      <td>1</td>\n",
       "    </tr>\n",
       "    <tr>\n",
       "      <th>11657</th>\n",
       "      <td>264834</td>\n",
       "      <td>1</td>\n",
       "      <td>1</td>\n",
       "    </tr>\n",
       "    <tr>\n",
       "      <th>11658</th>\n",
       "      <td>264839</td>\n",
       "      <td>1</td>\n",
       "      <td>1</td>\n",
       "    </tr>\n",
       "    <tr>\n",
       "      <th>11659</th>\n",
       "      <td>264840</td>\n",
       "      <td>1</td>\n",
       "      <td>1</td>\n",
       "    </tr>\n",
       "  </tbody>\n",
       "</table>\n",
       "<p>11660 rows × 3 columns</p>\n",
       "</div>"
      ],
      "text/plain": [
       "      trip_id  route_id  route_direction_name\n",
       "0      229457         1                     1\n",
       "1      229458         1                     1\n",
       "2      229459         1                     1\n",
       "3      229460         1                     1\n",
       "4      229461         1                     1\n",
       "...       ...       ...                   ...\n",
       "11655  264830         1                     1\n",
       "11656  264831         1                     1\n",
       "11657  264834         1                     1\n",
       "11658  264839         1                     1\n",
       "11659  264840         1                     1\n",
       "\n",
       "[11660 rows x 3 columns]"
      ]
     },
     "execution_count": 18,
     "metadata": {},
     "output_type": "execute_result"
    }
   ],
   "source": [
    "trips_and_routes = wego_2021.groupby(['trip_id'], as_index = False)['route_id', 'route_direction_name'].nunique()\n",
    "trips_and_routes"
   ]
  },
  {
   "cell_type": "code",
   "execution_count": 19,
   "metadata": {},
   "outputs": [
    {
     "data": {
      "text/html": [
       "<div>\n",
       "<style scoped>\n",
       "    .dataframe tbody tr th:only-of-type {\n",
       "        vertical-align: middle;\n",
       "    }\n",
       "\n",
       "    .dataframe tbody tr th {\n",
       "        vertical-align: top;\n",
       "    }\n",
       "\n",
       "    .dataframe thead th {\n",
       "        text-align: right;\n",
       "    }\n",
       "</style>\n",
       "<table border=\"1\" class=\"dataframe\">\n",
       "  <thead>\n",
       "    <tr style=\"text-align: right;\">\n",
       "      <th></th>\n",
       "      <th>trip_id</th>\n",
       "      <th>route_id</th>\n",
       "      <th>route_direction_name</th>\n",
       "    </tr>\n",
       "  </thead>\n",
       "  <tbody>\n",
       "  </tbody>\n",
       "</table>\n",
       "</div>"
      ],
      "text/plain": [
       "Empty DataFrame\n",
       "Columns: [trip_id, route_id, route_direction_name]\n",
       "Index: []"
      ]
     },
     "execution_count": 19,
     "metadata": {},
     "output_type": "execute_result"
    }
   ],
   "source": [
    "trips_and_routes[trips_and_routes['route_id'] > 1]"
   ]
  },
  {
   "cell_type": "markdown",
   "metadata": {},
   "source": [
    "Finally, we conclude that each trip is assigned to only one `route_id` and `route_direction_name`.\n",
    "\n",
    "## 5. test for null required values (usually load and/or time)\n",
    "\n",
    "* `arrival_time`\n"
   ]
  },
  {
   "cell_type": "code",
   "execution_count": 20,
   "metadata": {},
   "outputs": [
    {
     "data": {
      "text/plain": [
       "344673"
      ]
     },
     "execution_count": 20,
     "metadata": {},
     "output_type": "execute_result"
    }
   ],
   "source": [
    "wego_2021['arrival_time'].isnull().sum()"
   ]
  },
  {
   "cell_type": "markdown",
   "metadata": {},
   "source": [
    "There are 344673 rows with `NULL` values in their `arrival_time` field.\n",
    "\n",
    "* `load`"
   ]
  },
  {
   "cell_type": "code",
   "execution_count": 21,
   "metadata": {},
   "outputs": [
    {
     "data": {
      "text/plain": [
       "0"
      ]
     },
     "execution_count": 21,
     "metadata": {},
     "output_type": "execute_result"
    }
   ],
   "source": [
    "wego_2021['load'].isnull().sum()"
   ]
  },
  {
   "cell_type": "markdown",
   "metadata": {},
   "source": [
    "All the rows have their respective `load` value."
   ]
  },
  {
   "cell_type": "code",
   "execution_count": 22,
   "metadata": {},
   "outputs": [
    {
     "data": {
      "text/html": [
       "<div>\n",
       "<style scoped>\n",
       "    .dataframe tbody tr th:only-of-type {\n",
       "        vertical-align: middle;\n",
       "    }\n",
       "\n",
       "    .dataframe tbody tr th {\n",
       "        vertical-align: top;\n",
       "    }\n",
       "\n",
       "    .dataframe thead th {\n",
       "        text-align: right;\n",
       "    }\n",
       "</style>\n",
       "<table border=\"1\" class=\"dataframe\">\n",
       "  <thead>\n",
       "    <tr style=\"text-align: right;\">\n",
       "      <th></th>\n",
       "      <th>activation_date</th>\n",
       "      <th>activation_date_str</th>\n",
       "      <th>arrival_time</th>\n",
       "      <th>arrival_time_str</th>\n",
       "      <th>block_abbr</th>\n",
       "      <th>block_stop_order</th>\n",
       "      <th>day</th>\n",
       "      <th>deactivation_date</th>\n",
       "      <th>deactivation_date_str</th>\n",
       "      <th>gtfs_end_date</th>\n",
       "      <th>...</th>\n",
       "      <th>transit_date_str</th>\n",
       "      <th>trip_id</th>\n",
       "      <th>trip_start_time</th>\n",
       "      <th>type_of_day</th>\n",
       "      <th>vehicle_capacity</th>\n",
       "      <th>vehicle_id</th>\n",
       "      <th>window_of_day</th>\n",
       "      <th>month</th>\n",
       "      <th>Neg_Load</th>\n",
       "      <th>neg_load</th>\n",
       "    </tr>\n",
       "  </thead>\n",
       "  <tbody>\n",
       "    <tr>\n",
       "      <th>19</th>\n",
       "      <td>2020-11-17</td>\n",
       "      <td>11/17/20</td>\n",
       "      <td>NaT</td>\n",
       "      <td>NULL</td>\n",
       "      <td>2200</td>\n",
       "      <td>554</td>\n",
       "      <td>Friday</td>\n",
       "      <td>2021-02-17</td>\n",
       "      <td>02/17/21</td>\n",
       "      <td>2021-04-03</td>\n",
       "      <td>...</td>\n",
       "      <td>01/01/21</td>\n",
       "      <td>230139</td>\n",
       "      <td>2021-01-01 13:48:00</td>\n",
       "      <td>weekday</td>\n",
       "      <td>15.0</td>\n",
       "      <td>1800</td>\n",
       "      <td>4</td>\n",
       "      <td>1</td>\n",
       "      <td>2.0</td>\n",
       "      <td>2.0</td>\n",
       "    </tr>\n",
       "    <tr>\n",
       "      <th>20</th>\n",
       "      <td>2020-11-17</td>\n",
       "      <td>11/17/20</td>\n",
       "      <td>NaT</td>\n",
       "      <td>NULL</td>\n",
       "      <td>2200</td>\n",
       "      <td>555</td>\n",
       "      <td>Friday</td>\n",
       "      <td>2021-02-17</td>\n",
       "      <td>02/17/21</td>\n",
       "      <td>2021-04-03</td>\n",
       "      <td>...</td>\n",
       "      <td>01/01/21</td>\n",
       "      <td>230139</td>\n",
       "      <td>2021-01-01 13:48:00</td>\n",
       "      <td>weekday</td>\n",
       "      <td>15.0</td>\n",
       "      <td>1800</td>\n",
       "      <td>4</td>\n",
       "      <td>1</td>\n",
       "      <td>2.0</td>\n",
       "      <td>2.0</td>\n",
       "    </tr>\n",
       "    <tr>\n",
       "      <th>21</th>\n",
       "      <td>2020-11-17</td>\n",
       "      <td>11/17/20</td>\n",
       "      <td>NaT</td>\n",
       "      <td>NULL</td>\n",
       "      <td>2200</td>\n",
       "      <td>556</td>\n",
       "      <td>Friday</td>\n",
       "      <td>2021-02-17</td>\n",
       "      <td>02/17/21</td>\n",
       "      <td>2021-04-03</td>\n",
       "      <td>...</td>\n",
       "      <td>01/01/21</td>\n",
       "      <td>230139</td>\n",
       "      <td>2021-01-01 13:48:00</td>\n",
       "      <td>weekday</td>\n",
       "      <td>15.0</td>\n",
       "      <td>1800</td>\n",
       "      <td>4</td>\n",
       "      <td>1</td>\n",
       "      <td>2.0</td>\n",
       "      <td>2.0</td>\n",
       "    </tr>\n",
       "    <tr>\n",
       "      <th>22</th>\n",
       "      <td>2020-11-17</td>\n",
       "      <td>11/17/20</td>\n",
       "      <td>NaT</td>\n",
       "      <td>NULL</td>\n",
       "      <td>2200</td>\n",
       "      <td>557</td>\n",
       "      <td>Friday</td>\n",
       "      <td>2021-02-17</td>\n",
       "      <td>02/17/21</td>\n",
       "      <td>2021-04-03</td>\n",
       "      <td>...</td>\n",
       "      <td>01/01/21</td>\n",
       "      <td>230139</td>\n",
       "      <td>2021-01-01 13:48:00</td>\n",
       "      <td>weekday</td>\n",
       "      <td>15.0</td>\n",
       "      <td>1800</td>\n",
       "      <td>4</td>\n",
       "      <td>1</td>\n",
       "      <td>2.0</td>\n",
       "      <td>2.0</td>\n",
       "    </tr>\n",
       "    <tr>\n",
       "      <th>23</th>\n",
       "      <td>2020-11-17</td>\n",
       "      <td>11/17/20</td>\n",
       "      <td>NaT</td>\n",
       "      <td>NULL</td>\n",
       "      <td>2200</td>\n",
       "      <td>558</td>\n",
       "      <td>Friday</td>\n",
       "      <td>2021-02-17</td>\n",
       "      <td>02/17/21</td>\n",
       "      <td>2021-04-03</td>\n",
       "      <td>...</td>\n",
       "      <td>01/01/21</td>\n",
       "      <td>230139</td>\n",
       "      <td>2021-01-01 13:48:00</td>\n",
       "      <td>weekday</td>\n",
       "      <td>15.0</td>\n",
       "      <td>1800</td>\n",
       "      <td>4</td>\n",
       "      <td>1</td>\n",
       "      <td>2.0</td>\n",
       "      <td>2.0</td>\n",
       "    </tr>\n",
       "  </tbody>\n",
       "</table>\n",
       "<p>5 rows × 44 columns</p>\n",
       "</div>"
      ],
      "text/plain": [
       "   activation_date activation_date_str arrival_time arrival_time_str  \\\n",
       "19      2020-11-17            11/17/20          NaT             NULL   \n",
       "20      2020-11-17            11/17/20          NaT             NULL   \n",
       "21      2020-11-17            11/17/20          NaT             NULL   \n",
       "22      2020-11-17            11/17/20          NaT             NULL   \n",
       "23      2020-11-17            11/17/20          NaT             NULL   \n",
       "\n",
       "    block_abbr  block_stop_order     day deactivation_date  \\\n",
       "19        2200               554  Friday        2021-02-17   \n",
       "20        2200               555  Friday        2021-02-17   \n",
       "21        2200               556  Friday        2021-02-17   \n",
       "22        2200               557  Friday        2021-02-17   \n",
       "23        2200               558  Friday        2021-02-17   \n",
       "\n",
       "   deactivation_date_str gtfs_end_date  ... transit_date_str trip_id  \\\n",
       "19              02/17/21    2021-04-03  ...         01/01/21  230139   \n",
       "20              02/17/21    2021-04-03  ...         01/01/21  230139   \n",
       "21              02/17/21    2021-04-03  ...         01/01/21  230139   \n",
       "22              02/17/21    2021-04-03  ...         01/01/21  230139   \n",
       "23              02/17/21    2021-04-03  ...         01/01/21  230139   \n",
       "\n",
       "       trip_start_time  type_of_day  vehicle_capacity  vehicle_id  \\\n",
       "19 2021-01-01 13:48:00      weekday              15.0        1800   \n",
       "20 2021-01-01 13:48:00      weekday              15.0        1800   \n",
       "21 2021-01-01 13:48:00      weekday              15.0        1800   \n",
       "22 2021-01-01 13:48:00      weekday              15.0        1800   \n",
       "23 2021-01-01 13:48:00      weekday              15.0        1800   \n",
       "\n",
       "    window_of_day  month  Neg_Load neg_load  \n",
       "19              4      1       2.0      2.0  \n",
       "20              4      1       2.0      2.0  \n",
       "21              4      1       2.0      2.0  \n",
       "22              4      1       2.0      2.0  \n",
       "23              4      1       2.0      2.0  \n",
       "\n",
       "[5 rows x 44 columns]"
      ]
     },
     "execution_count": 22,
     "metadata": {},
     "output_type": "execute_result"
    }
   ],
   "source": [
    "wego_2021[wego_2021['arrival_time'].isnull()].head()"
   ]
  },
  {
   "cell_type": "markdown",
   "metadata": {},
   "source": [
    "We save this dataset for further analysis:"
   ]
  },
  {
   "cell_type": "code",
   "execution_count": 23,
   "metadata": {},
   "outputs": [
    {
     "data": {
      "text/plain": [
       "(7348331, 44)"
      ]
     },
     "execution_count": 23,
     "metadata": {},
     "output_type": "execute_result"
    }
   ],
   "source": [
    "wego_2021_null_arrival_time = wego_2021[wego_2021['arrival_time'].isnull()]\n",
    "wego_2021_null_arrival_time.to_parquet('Data/wego_2021_null_arrival_time.parquet')\n",
    "del(wego_2021_null_arrival_time)\n",
    "\n",
    "wego_2021 = wego_2021.dropna(subset=['arrival_time'])\n",
    "wego_2021.shape"
   ]
  },
  {
   "cell_type": "markdown",
   "metadata": {},
   "source": [
    "## 6. test the drift between the percentage computed using the typical `vehicle_capacity` and the `capacity` for that trip at that specific day"
   ]
  },
  {
   "cell_type": "code",
   "execution_count": 24,
   "metadata": {},
   "outputs": [
    {
     "name": "stderr",
     "output_type": "stream",
     "text": [
      "C:\\Users\\jcmar\\AppData\\Local\\Temp/ipykernel_18544/3564252556.py:1: FutureWarning: Indexing with multiple keys (implicitly converted to a tuple of keys) will be deprecated, use a list instead.\n",
      "  trip_capacity_by_date = wego_2021.groupby(['transit_date', 'trip_id', 'vehicle_capacity'], as_index = False)['load', 'load_factor'].max()\n"
     ]
    },
    {
     "data": {
      "text/html": [
       "<div>\n",
       "<style scoped>\n",
       "    .dataframe tbody tr th:only-of-type {\n",
       "        vertical-align: middle;\n",
       "    }\n",
       "\n",
       "    .dataframe tbody tr th {\n",
       "        vertical-align: top;\n",
       "    }\n",
       "\n",
       "    .dataframe thead th {\n",
       "        text-align: right;\n",
       "    }\n",
       "</style>\n",
       "<table border=\"1\" class=\"dataframe\">\n",
       "  <thead>\n",
       "    <tr style=\"text-align: right;\">\n",
       "      <th></th>\n",
       "      <th>transit_date</th>\n",
       "      <th>trip_id</th>\n",
       "      <th>vehicle_capacity</th>\n",
       "      <th>load</th>\n",
       "      <th>load_factor</th>\n",
       "      <th>corrected_load_factor</th>\n",
       "    </tr>\n",
       "  </thead>\n",
       "  <tbody>\n",
       "    <tr>\n",
       "      <th>0</th>\n",
       "      <td>2021-01-01</td>\n",
       "      <td>229493</td>\n",
       "      <td>15.0</td>\n",
       "      <td>2.0</td>\n",
       "      <td>0.133333</td>\n",
       "      <td>0.133333</td>\n",
       "    </tr>\n",
       "    <tr>\n",
       "      <th>1</th>\n",
       "      <td>2021-01-01</td>\n",
       "      <td>229494</td>\n",
       "      <td>15.0</td>\n",
       "      <td>5.0</td>\n",
       "      <td>0.333333</td>\n",
       "      <td>0.333333</td>\n",
       "    </tr>\n",
       "    <tr>\n",
       "      <th>2</th>\n",
       "      <td>2021-01-01</td>\n",
       "      <td>229495</td>\n",
       "      <td>15.0</td>\n",
       "      <td>1.0</td>\n",
       "      <td>0.066666</td>\n",
       "      <td>0.066667</td>\n",
       "    </tr>\n",
       "    <tr>\n",
       "      <th>3</th>\n",
       "      <td>2021-01-01</td>\n",
       "      <td>229496</td>\n",
       "      <td>15.0</td>\n",
       "      <td>3.0</td>\n",
       "      <td>0.200000</td>\n",
       "      <td>0.200000</td>\n",
       "    </tr>\n",
       "    <tr>\n",
       "      <th>4</th>\n",
       "      <td>2021-01-01</td>\n",
       "      <td>229497</td>\n",
       "      <td>15.0</td>\n",
       "      <td>3.0</td>\n",
       "      <td>0.200000</td>\n",
       "      <td>0.200000</td>\n",
       "    </tr>\n",
       "  </tbody>\n",
       "</table>\n",
       "</div>"
      ],
      "text/plain": [
       "  transit_date trip_id  vehicle_capacity  load  load_factor  \\\n",
       "0   2021-01-01  229493              15.0   2.0     0.133333   \n",
       "1   2021-01-01  229494              15.0   5.0     0.333333   \n",
       "2   2021-01-01  229495              15.0   1.0     0.066666   \n",
       "3   2021-01-01  229496              15.0   3.0     0.200000   \n",
       "4   2021-01-01  229497              15.0   3.0     0.200000   \n",
       "\n",
       "   corrected_load_factor  \n",
       "0               0.133333  \n",
       "1               0.333333  \n",
       "2               0.066667  \n",
       "3               0.200000  \n",
       "4               0.200000  "
      ]
     },
     "execution_count": 24,
     "metadata": {},
     "output_type": "execute_result"
    }
   ],
   "source": [
    "trip_capacity_by_date = wego_2021.groupby(['transit_date', 'trip_id', 'vehicle_capacity'], as_index = False)['load', 'load_factor'].max()\n",
    "trip_capacity_by_date['corrected_load_factor'] = trip_capacity_by_date['load']/trip_capacity_by_date['vehicle_capacity']\n",
    "trip_capacity_by_date.head()"
   ]
  },
  {
   "cell_type": "code",
   "execution_count": 25,
   "metadata": {},
   "outputs": [
    {
     "data": {
      "text/html": [
       "<div>\n",
       "<style scoped>\n",
       "    .dataframe tbody tr th:only-of-type {\n",
       "        vertical-align: middle;\n",
       "    }\n",
       "\n",
       "    .dataframe tbody tr th {\n",
       "        vertical-align: top;\n",
       "    }\n",
       "\n",
       "    .dataframe thead th {\n",
       "        text-align: right;\n",
       "    }\n",
       "</style>\n",
       "<table border=\"1\" class=\"dataframe\">\n",
       "  <thead>\n",
       "    <tr style=\"text-align: right;\">\n",
       "      <th></th>\n",
       "      <th>transit_date</th>\n",
       "      <th>trip_id</th>\n",
       "      <th>vehicle_capacity</th>\n",
       "      <th>load</th>\n",
       "      <th>load_factor</th>\n",
       "      <th>corrected_load_factor</th>\n",
       "    </tr>\n",
       "  </thead>\n",
       "  <tbody>\n",
       "  </tbody>\n",
       "</table>\n",
       "</div>"
      ],
      "text/plain": [
       "Empty DataFrame\n",
       "Columns: [transit_date, trip_id, vehicle_capacity, load, load_factor, corrected_load_factor]\n",
       "Index: []"
      ]
     },
     "execution_count": 25,
     "metadata": {},
     "output_type": "execute_result"
    }
   ],
   "source": [
    "trip_capacity_by_date[trip_capacity_by_date['load_factor'].round(2) != trip_capacity_by_date['corrected_load_factor'].round(2)]"
   ]
  },
  {
   "cell_type": "markdown",
   "metadata": {},
   "source": [
    "The `load_factor` value is computed correctly.\n",
    "\n",
    "Let's check if there are `trip_id` that registered `load` values greater than the their respective `vehicle_capacity` values."
   ]
  },
  {
   "cell_type": "code",
   "execution_count": 26,
   "metadata": {},
   "outputs": [
    {
     "data": {
      "text/plain": [
       "(76569, 6)"
      ]
     },
     "execution_count": 26,
     "metadata": {},
     "output_type": "execute_result"
    }
   ],
   "source": [
    "trip_capacity_by_date[(trip_capacity_by_date['load'] >= trip_capacity_by_date['vehicle_capacity'])].shape"
   ]
  },
  {
   "cell_type": "markdown",
   "metadata": {},
   "source": [
    "Indeed, there are 76569 rows that indicate a `load` value greater than the its respective `vehicle_capacity`:"
   ]
  },
  {
   "cell_type": "code",
   "execution_count": 27,
   "metadata": {},
   "outputs": [
    {
     "data": {
      "text/html": [
       "<div>\n",
       "<style scoped>\n",
       "    .dataframe tbody tr th:only-of-type {\n",
       "        vertical-align: middle;\n",
       "    }\n",
       "\n",
       "    .dataframe tbody tr th {\n",
       "        vertical-align: top;\n",
       "    }\n",
       "\n",
       "    .dataframe thead th {\n",
       "        text-align: right;\n",
       "    }\n",
       "</style>\n",
       "<table border=\"1\" class=\"dataframe\">\n",
       "  <thead>\n",
       "    <tr style=\"text-align: right;\">\n",
       "      <th></th>\n",
       "      <th>transit_date</th>\n",
       "      <th>trip_id</th>\n",
       "      <th>vehicle_capacity</th>\n",
       "      <th>load</th>\n",
       "      <th>load_factor</th>\n",
       "      <th>corrected_load_factor</th>\n",
       "    </tr>\n",
       "  </thead>\n",
       "  <tbody>\n",
       "    <tr>\n",
       "      <th>16</th>\n",
       "      <td>2021-01-01</td>\n",
       "      <td>229616</td>\n",
       "      <td>15.0</td>\n",
       "      <td>21.0</td>\n",
       "      <td>1.400000</td>\n",
       "      <td>1.400000</td>\n",
       "    </tr>\n",
       "    <tr>\n",
       "      <th>18</th>\n",
       "      <td>2021-01-01</td>\n",
       "      <td>229618</td>\n",
       "      <td>15.0</td>\n",
       "      <td>19.0</td>\n",
       "      <td>1.266666</td>\n",
       "      <td>1.266667</td>\n",
       "    </tr>\n",
       "    <tr>\n",
       "      <th>20</th>\n",
       "      <td>2021-01-01</td>\n",
       "      <td>229620</td>\n",
       "      <td>15.0</td>\n",
       "      <td>15.0</td>\n",
       "      <td>1.000000</td>\n",
       "      <td>1.000000</td>\n",
       "    </tr>\n",
       "    <tr>\n",
       "      <th>22</th>\n",
       "      <td>2021-01-01</td>\n",
       "      <td>229622</td>\n",
       "      <td>15.0</td>\n",
       "      <td>23.0</td>\n",
       "      <td>1.533333</td>\n",
       "      <td>1.533333</td>\n",
       "    </tr>\n",
       "    <tr>\n",
       "      <th>57</th>\n",
       "      <td>2021-01-01</td>\n",
       "      <td>229850</td>\n",
       "      <td>15.0</td>\n",
       "      <td>26.0</td>\n",
       "      <td>1.733333</td>\n",
       "      <td>1.733333</td>\n",
       "    </tr>\n",
       "  </tbody>\n",
       "</table>\n",
       "</div>"
      ],
      "text/plain": [
       "   transit_date trip_id  vehicle_capacity  load  load_factor  \\\n",
       "16   2021-01-01  229616              15.0  21.0     1.400000   \n",
       "18   2021-01-01  229618              15.0  19.0     1.266666   \n",
       "20   2021-01-01  229620              15.0  15.0     1.000000   \n",
       "22   2021-01-01  229622              15.0  23.0     1.533333   \n",
       "57   2021-01-01  229850              15.0  26.0     1.733333   \n",
       "\n",
       "    corrected_load_factor  \n",
       "16               1.400000  \n",
       "18               1.266667  \n",
       "20               1.000000  \n",
       "22               1.533333  \n",
       "57               1.733333  "
      ]
     },
     "execution_count": 27,
     "metadata": {},
     "output_type": "execute_result"
    }
   ],
   "source": [
    "trip_capacity_by_date[(trip_capacity_by_date['load'] >= trip_capacity_by_date['vehicle_capacity'])].head()"
   ]
  },
  {
   "cell_type": "code",
   "execution_count": 28,
   "metadata": {},
   "outputs": [],
   "source": [
    "trip_capacity_by_date.to_parquet('Data/trip_capacity_by_date_abnormal_loads.parquet')"
   ]
  },
  {
   "cell_type": "code",
   "execution_count": 29,
   "metadata": {},
   "outputs": [],
   "source": [
    "wego_2021_abnormal_loads = wego_2021[wego_2021['load_factor'] > 1]\n",
    "wego_2021_abnormal_loads.to_parquet('Data/wego_2021_abnormal_loads.parquet')\n",
    "del(wego_2021_abnormal_loads)"
   ]
  },
  {
   "cell_type": "markdown",
   "metadata": {},
   "source": [
    "## test the amount of APC samples that contain non useful data\n",
    "\n",
    "* Remove the rows with `NaN` or `NULL` values:"
   ]
  },
  {
   "cell_type": "code",
   "execution_count": 30,
   "metadata": {},
   "outputs": [
    {
     "data": {
      "text/plain": [
       "(7313277, 44)"
      ]
     },
     "execution_count": 30,
     "metadata": {},
     "output_type": "execute_result"
    }
   ],
   "source": [
    "wego_2021 = wego_2021.dropna()\n",
    "wego_2021.shape"
   ]
  },
  {
   "cell_type": "markdown",
   "metadata": {},
   "source": [
    "* Remove rows with `load_factor > 1`:"
   ]
  },
  {
   "cell_type": "code",
   "execution_count": 31,
   "metadata": {},
   "outputs": [
    {
     "data": {
      "text/plain": [
       "(5833365, 44)"
      ]
     },
     "execution_count": 31,
     "metadata": {},
     "output_type": "execute_result"
    }
   ],
   "source": [
    "wego_2021 = wego_2021[wego_2021['load_factor'] <= 1]\n",
    "wego_2021.shape"
   ]
  },
  {
   "cell_type": "code",
   "execution_count": 32,
   "metadata": {},
   "outputs": [],
   "source": [
    "wego_2021.to_parquet('Data/wego_2021.parquet')"
   ]
  },
  {
   "cell_type": "code",
   "execution_count": 33,
   "metadata": {},
   "outputs": [
    {
     "data": {
      "text/plain": [
       "45.0"
      ]
     },
     "execution_count": 33,
     "metadata": {},
     "output_type": "execute_result"
    }
   ],
   "source": [
    "wego_2021['load'].max()"
   ]
  },
  {
   "cell_type": "markdown",
   "metadata": {},
   "source": [
    "## 7. test the APC coverage by day"
   ]
  },
  {
   "cell_type": "code",
   "execution_count": 49,
   "metadata": {},
   "outputs": [
    {
     "data": {
      "text/plain": [
       "<AxesSubplot:xlabel='transit_date'>"
      ]
     },
     "execution_count": 49,
     "metadata": {},
     "output_type": "execute_result"
    },
    {
     "data": {
      "image/png": "[encoded data removed]",
      "text/plain": [
       "<Figure size 432x288 with 1 Axes>"
      ]
     },
     "metadata": {
      "needs_background": "light"
     },
     "output_type": "display_data"
    }
   ],
   "source": [
    "coverage_2021 = wego_2021.groupby(['transit_date', 'trip_id'], as_index=False)['stop_id'].count()\n",
    "coverage_2021_ts = pd.Series(coverage_2021.groupby(['transit_date'])['stop_id'].sum())\n",
    "coverage_2021_ts.plot()"
   ]
  },
  {
   "cell_type": "code",
   "execution_count": 54,
   "metadata": {},
   "outputs": [],
   "source": [
    "del(wego_2021)"
   ]
  },
  {
   "cell_type": "markdown",
   "metadata": {},
   "source": [
    "## Year 2020"
   ]
  },
  {
   "cell_type": "code",
   "execution_count": 2,
   "metadata": {},
   "outputs": [
    {
     "data": {
      "text/plain": [
       "(18679862, 42)"
      ]
     },
     "execution_count": 2,
     "metadata": {},
     "output_type": "execute_result"
    }
   ],
   "source": [
    "wego_2020 = pd.read_parquet('Data/Complete_Data/year=2020')\n",
    "wego_2020.shape"
   ]
  },
  {
   "cell_type": "markdown",
   "metadata": {},
   "source": [
    "There is a total of 18937482 rows in the main dataframe.\n",
    "\n",
    "## 1. Negative loads"
   ]
  },
  {
   "cell_type": "code",
   "execution_count": 3,
   "metadata": {},
   "outputs": [
    {
     "data": {
      "text/html": [
       "<div>\n",
       "<style scoped>\n",
       "    .dataframe tbody tr th:only-of-type {\n",
       "        vertical-align: middle;\n",
       "    }\n",
       "\n",
       "    .dataframe tbody tr th {\n",
       "        vertical-align: top;\n",
       "    }\n",
       "\n",
       "    .dataframe thead th {\n",
       "        text-align: right;\n",
       "    }\n",
       "</style>\n",
       "<table border=\"1\" class=\"dataframe\">\n",
       "  <thead>\n",
       "    <tr style=\"text-align: right;\">\n",
       "      <th></th>\n",
       "      <th>transit_date</th>\n",
       "      <th>trip_id</th>\n",
       "      <th>neg_load</th>\n",
       "    </tr>\n",
       "  </thead>\n",
       "  <tbody>\n",
       "    <tr>\n",
       "      <th>0</th>\n",
       "      <td>2020-01-01</td>\n",
       "      <td>193712</td>\n",
       "      <td>-2.0</td>\n",
       "    </tr>\n",
       "    <tr>\n",
       "      <th>1</th>\n",
       "      <td>2020-01-01</td>\n",
       "      <td>193713</td>\n",
       "      <td>-1.0</td>\n",
       "    </tr>\n",
       "    <tr>\n",
       "      <th>2</th>\n",
       "      <td>2020-01-01</td>\n",
       "      <td>193714</td>\n",
       "      <td>-2.0</td>\n",
       "    </tr>\n",
       "    <tr>\n",
       "      <th>3</th>\n",
       "      <td>2020-01-01</td>\n",
       "      <td>193715</td>\n",
       "      <td>0.0</td>\n",
       "    </tr>\n",
       "    <tr>\n",
       "      <th>4</th>\n",
       "      <td>2020-01-01</td>\n",
       "      <td>193716</td>\n",
       "      <td>4.0</td>\n",
       "    </tr>\n",
       "  </tbody>\n",
       "</table>\n",
       "</div>"
      ],
      "text/plain": [
       "  transit_date trip_id  neg_load\n",
       "0   2020-01-01  193712      -2.0\n",
       "1   2020-01-01  193713      -1.0\n",
       "2   2020-01-01  193714      -2.0\n",
       "3   2020-01-01  193715       0.0\n",
       "4   2020-01-01  193716       4.0"
      ]
     },
     "execution_count": 3,
     "metadata": {},
     "output_type": "execute_result"
    }
   ],
   "source": [
    "wego_2020_neg_load = wego_2020.groupby(['transit_date', 'trip_id'], as_index=False)['load'].min()\n",
    "wego_2020_neg_load = wego_2020_neg_load.drop_duplicates()\n",
    "wego_2020_neg_load.columns = ['transit_date', 'trip_id', 'neg_load']\n",
    "wego_2020_neg_load.head()"
   ]
  },
  {
   "cell_type": "code",
   "execution_count": 4,
   "metadata": {},
   "outputs": [
    {
     "data": {
      "text/plain": [
       "2704.0"
      ]
     },
     "execution_count": 4,
     "metadata": {},
     "output_type": "execute_result"
    }
   ],
   "source": [
    "wego_2020_neg_load['neg_load'].max()"
   ]
  },
  {
   "cell_type": "code",
   "execution_count": 5,
   "metadata": {},
   "outputs": [
    {
     "data": {
      "text/html": [
       "<div>\n",
       "<style scoped>\n",
       "    .dataframe tbody tr th:only-of-type {\n",
       "        vertical-align: middle;\n",
       "    }\n",
       "\n",
       "    .dataframe tbody tr th {\n",
       "        vertical-align: top;\n",
       "    }\n",
       "\n",
       "    .dataframe thead th {\n",
       "        text-align: right;\n",
       "    }\n",
       "</style>\n",
       "<table border=\"1\" class=\"dataframe\">\n",
       "  <thead>\n",
       "    <tr style=\"text-align: right;\">\n",
       "      <th></th>\n",
       "      <th>activation_date</th>\n",
       "      <th>activation_date_str</th>\n",
       "      <th>arrival_time</th>\n",
       "      <th>arrival_time_str</th>\n",
       "      <th>block_abbr</th>\n",
       "      <th>block_stop_order</th>\n",
       "      <th>day</th>\n",
       "      <th>deactivation_date</th>\n",
       "      <th>deactivation_date_str</th>\n",
       "      <th>gtfs_end_date</th>\n",
       "      <th>...</th>\n",
       "      <th>transit_date</th>\n",
       "      <th>transit_date_str</th>\n",
       "      <th>trip_id</th>\n",
       "      <th>trip_start_time</th>\n",
       "      <th>type_of_day</th>\n",
       "      <th>vehicle_capacity</th>\n",
       "      <th>vehicle_id</th>\n",
       "      <th>window_of_day</th>\n",
       "      <th>month</th>\n",
       "      <th>neg_load</th>\n",
       "    </tr>\n",
       "  </thead>\n",
       "  <tbody>\n",
       "    <tr>\n",
       "      <th>0</th>\n",
       "      <td>2019-10-27</td>\n",
       "      <td>10/27/19</td>\n",
       "      <td>2020-01-01 14:00:20</td>\n",
       "      <td>14:00:20</td>\n",
       "      <td>300</td>\n",
       "      <td>628</td>\n",
       "      <td>Wednesday</td>\n",
       "      <td>2020-03-11</td>\n",
       "      <td>03/11/20</td>\n",
       "      <td>2020-01-23</td>\n",
       "      <td>...</td>\n",
       "      <td>2020-01-01</td>\n",
       "      <td>01/01/20</td>\n",
       "      <td>195848</td>\n",
       "      <td>2020-01-01 14:15:00</td>\n",
       "      <td>weekday</td>\n",
       "      <td>15.0</td>\n",
       "      <td>718</td>\n",
       "      <td>4</td>\n",
       "      <td>1</td>\n",
       "      <td>-2.0</td>\n",
       "    </tr>\n",
       "    <tr>\n",
       "      <th>1</th>\n",
       "      <td>2019-10-27</td>\n",
       "      <td>10/27/19</td>\n",
       "      <td>NaT</td>\n",
       "      <td>NULL</td>\n",
       "      <td>300</td>\n",
       "      <td>629</td>\n",
       "      <td>Wednesday</td>\n",
       "      <td>2020-03-11</td>\n",
       "      <td>03/11/20</td>\n",
       "      <td>2020-01-23</td>\n",
       "      <td>...</td>\n",
       "      <td>2020-01-01</td>\n",
       "      <td>01/01/20</td>\n",
       "      <td>195848</td>\n",
       "      <td>2020-01-01 14:15:00</td>\n",
       "      <td>weekday</td>\n",
       "      <td>15.0</td>\n",
       "      <td>718</td>\n",
       "      <td>4</td>\n",
       "      <td>1</td>\n",
       "      <td>-2.0</td>\n",
       "    </tr>\n",
       "    <tr>\n",
       "      <th>2</th>\n",
       "      <td>2019-10-27</td>\n",
       "      <td>10/27/19</td>\n",
       "      <td>2020-01-01 14:20:38</td>\n",
       "      <td>14:20:38</td>\n",
       "      <td>300</td>\n",
       "      <td>630</td>\n",
       "      <td>Wednesday</td>\n",
       "      <td>2020-03-11</td>\n",
       "      <td>03/11/20</td>\n",
       "      <td>2020-01-23</td>\n",
       "      <td>...</td>\n",
       "      <td>2020-01-01</td>\n",
       "      <td>01/01/20</td>\n",
       "      <td>195848</td>\n",
       "      <td>2020-01-01 14:15:00</td>\n",
       "      <td>weekday</td>\n",
       "      <td>15.0</td>\n",
       "      <td>718</td>\n",
       "      <td>4</td>\n",
       "      <td>1</td>\n",
       "      <td>-2.0</td>\n",
       "    </tr>\n",
       "    <tr>\n",
       "      <th>3</th>\n",
       "      <td>2019-10-27</td>\n",
       "      <td>10/27/19</td>\n",
       "      <td>2020-01-01 14:21:44</td>\n",
       "      <td>14:21:44</td>\n",
       "      <td>300</td>\n",
       "      <td>631</td>\n",
       "      <td>Wednesday</td>\n",
       "      <td>2020-03-11</td>\n",
       "      <td>03/11/20</td>\n",
       "      <td>2020-01-23</td>\n",
       "      <td>...</td>\n",
       "      <td>2020-01-01</td>\n",
       "      <td>01/01/20</td>\n",
       "      <td>195848</td>\n",
       "      <td>2020-01-01 14:15:00</td>\n",
       "      <td>weekday</td>\n",
       "      <td>15.0</td>\n",
       "      <td>718</td>\n",
       "      <td>4</td>\n",
       "      <td>1</td>\n",
       "      <td>-2.0</td>\n",
       "    </tr>\n",
       "    <tr>\n",
       "      <th>4</th>\n",
       "      <td>2019-10-27</td>\n",
       "      <td>10/27/19</td>\n",
       "      <td>2020-01-01 14:24:20</td>\n",
       "      <td>14:24:20</td>\n",
       "      <td>300</td>\n",
       "      <td>632</td>\n",
       "      <td>Wednesday</td>\n",
       "      <td>2020-03-11</td>\n",
       "      <td>03/11/20</td>\n",
       "      <td>2020-01-23</td>\n",
       "      <td>...</td>\n",
       "      <td>2020-01-01</td>\n",
       "      <td>01/01/20</td>\n",
       "      <td>195848</td>\n",
       "      <td>2020-01-01 14:15:00</td>\n",
       "      <td>weekday</td>\n",
       "      <td>15.0</td>\n",
       "      <td>718</td>\n",
       "      <td>4</td>\n",
       "      <td>1</td>\n",
       "      <td>-2.0</td>\n",
       "    </tr>\n",
       "  </tbody>\n",
       "</table>\n",
       "<p>5 rows × 43 columns</p>\n",
       "</div>"
      ],
      "text/plain": [
       "  activation_date activation_date_str        arrival_time arrival_time_str  \\\n",
       "0      2019-10-27            10/27/19 2020-01-01 14:00:20         14:00:20   \n",
       "1      2019-10-27            10/27/19                 NaT             NULL   \n",
       "2      2019-10-27            10/27/19 2020-01-01 14:20:38         14:20:38   \n",
       "3      2019-10-27            10/27/19 2020-01-01 14:21:44         14:21:44   \n",
       "4      2019-10-27            10/27/19 2020-01-01 14:24:20         14:24:20   \n",
       "\n",
       "   block_abbr  block_stop_order        day deactivation_date  \\\n",
       "0         300               628  Wednesday        2020-03-11   \n",
       "1         300               629  Wednesday        2020-03-11   \n",
       "2         300               630  Wednesday        2020-03-11   \n",
       "3         300               631  Wednesday        2020-03-11   \n",
       "4         300               632  Wednesday        2020-03-11   \n",
       "\n",
       "  deactivation_date_str gtfs_end_date  ... transit_date transit_date_str  \\\n",
       "0              03/11/20    2020-01-23  ...   2020-01-01         01/01/20   \n",
       "1              03/11/20    2020-01-23  ...   2020-01-01         01/01/20   \n",
       "2              03/11/20    2020-01-23  ...   2020-01-01         01/01/20   \n",
       "3              03/11/20    2020-01-23  ...   2020-01-01         01/01/20   \n",
       "4              03/11/20    2020-01-23  ...   2020-01-01         01/01/20   \n",
       "\n",
       "   trip_id     trip_start_time  type_of_day  vehicle_capacity  vehicle_id  \\\n",
       "0   195848 2020-01-01 14:15:00      weekday              15.0         718   \n",
       "1   195848 2020-01-01 14:15:00      weekday              15.0         718   \n",
       "2   195848 2020-01-01 14:15:00      weekday              15.0         718   \n",
       "3   195848 2020-01-01 14:15:00      weekday              15.0         718   \n",
       "4   195848 2020-01-01 14:15:00      weekday              15.0         718   \n",
       "\n",
       "   window_of_day  month neg_load  \n",
       "0              4      1     -2.0  \n",
       "1              4      1     -2.0  \n",
       "2              4      1     -2.0  \n",
       "3              4      1     -2.0  \n",
       "4              4      1     -2.0  \n",
       "\n",
       "[5 rows x 43 columns]"
      ]
     },
     "execution_count": 5,
     "metadata": {},
     "output_type": "execute_result"
    }
   ],
   "source": [
    "wego_2020 = pd.merge(wego_2020, wego_2020_neg_load, how = 'left', on = ['transit_date', 'trip_id'])\n",
    "wego_2020.head()"
   ]
  },
  {
   "cell_type": "code",
   "execution_count": 6,
   "metadata": {},
   "outputs": [
    {
     "data": {
      "text/plain": [
       "(8209611, 43)"
      ]
     },
     "execution_count": 6,
     "metadata": {},
     "output_type": "execute_result"
    }
   ],
   "source": [
    "#del(wego)\n",
    "wego_2020 = wego_2020[wego_2020['neg_load'] >= 0]\n",
    "wego_2020.shape"
   ]
  },
  {
   "cell_type": "code",
   "execution_count": 7,
   "metadata": {},
   "outputs": [
    {
     "data": {
      "text/plain": [
       "0.0"
      ]
     },
     "execution_count": 7,
     "metadata": {},
     "output_type": "execute_result"
    }
   ],
   "source": [
    "wego_2020['load'].min()"
   ]
  },
  {
   "cell_type": "code",
   "execution_count": 8,
   "metadata": {},
   "outputs": [],
   "source": [
    "#wego_2020_neg_load.to_parquet('wego_2020_neg_load.parquet')\n",
    "#del(wego_2020_neg_load)"
   ]
  },
  {
   "cell_type": "markdown",
   "metadata": {},
   "source": [
    "There are 8209611 whose loads (trips grouped by date actually) did not have negative values:"
   ]
  },
  {
   "cell_type": "markdown",
   "metadata": {},
   "source": [
    "## 3. test if the hour of the time is adjusted to 0-23 incase a trip crosses two days"
   ]
  },
  {
   "cell_type": "code",
   "execution_count": 10,
   "metadata": {},
   "outputs": [
    {
     "data": {
      "text/plain": [
       "16    617737\n",
       "15    561216\n",
       "14    546709\n",
       "10    525709\n",
       "17    518699\n",
       "12    515988\n",
       "6     500801\n",
       "13    491136\n",
       "8     485879\n",
       "7     485416\n",
       "11    476930\n",
       "18    469414\n",
       "9     463520\n",
       "19    381577\n",
       "20    336868\n",
       "21    264245\n",
       "5     227698\n",
       "22    130331\n",
       "4      37025\n",
       "23     21653\n",
       "Name: hour_of_trip, dtype: int64"
      ]
     },
     "execution_count": 10,
     "metadata": {},
     "output_type": "execute_result"
    }
   ],
   "source": [
    "wego_2020['hour_of_trip'].value_counts()"
   ]
  },
  {
   "cell_type": "markdown",
   "metadata": {},
   "source": [
    "Yes, the hour values are adjusted to 0-23."
   ]
  },
  {
   "cell_type": "code",
   "execution_count": null,
   "metadata": {},
   "outputs": [],
   "source": [
    "#wego_2020['hour'] = wego_2020['arrival_time'].dt.hour\n",
    "#wego_2021.to_parquet('Data/wego_2021.parquet')"
   ]
  },
  {
   "cell_type": "markdown",
   "metadata": {},
   "source": [
    "### 3.1 if the hour is adjusted to 0-23, test if the date is also updated when the vehicle enters the next day during that trip.\n",
    "\n",
    "A trip can only serve once per date, so if the `pattern_num` is fixed, it should visit the same number bus stops per date."
   ]
  },
  {
   "cell_type": "code",
   "execution_count": 11,
   "metadata": {},
   "outputs": [
    {
     "name": "stderr",
     "output_type": "stream",
     "text": [
      "C:\\Users\\jcmar\\AppData\\Local\\Temp/ipykernel_17572/4043615288.py:1: FutureWarning: Indexing with multiple keys (implicitly converted to a tuple of keys) will be deprecated, use a list instead.\n",
      "  trips_and_dates = wego_2020.groupby(['trip_id', 'transit_date', 'pattern_num'])['stop_id', 'vehicle_id'].count().reset_index()\n"
     ]
    },
    {
     "data": {
      "text/html": [
       "<div>\n",
       "<style scoped>\n",
       "    .dataframe tbody tr th:only-of-type {\n",
       "        vertical-align: middle;\n",
       "    }\n",
       "\n",
       "    .dataframe tbody tr th {\n",
       "        vertical-align: top;\n",
       "    }\n",
       "\n",
       "    .dataframe thead th {\n",
       "        text-align: right;\n",
       "    }\n",
       "</style>\n",
       "<table border=\"1\" class=\"dataframe\">\n",
       "  <thead>\n",
       "    <tr style=\"text-align: right;\">\n",
       "      <th></th>\n",
       "      <th>trip_id</th>\n",
       "      <th>transit_date</th>\n",
       "      <th>pattern_num</th>\n",
       "      <th>stop_id</th>\n",
       "      <th>vehicle_id</th>\n",
       "    </tr>\n",
       "  </thead>\n",
       "  <tbody>\n",
       "    <tr>\n",
       "      <th>0</th>\n",
       "      <td>193637</td>\n",
       "      <td>2020-01-28</td>\n",
       "      <td>ROUTE_14_FROM DOWNTOWN_0</td>\n",
       "      <td>31</td>\n",
       "      <td>31</td>\n",
       "    </tr>\n",
       "    <tr>\n",
       "      <th>1</th>\n",
       "      <td>193637</td>\n",
       "      <td>2020-02-07</td>\n",
       "      <td>ROUTE_14_FROM DOWNTOWN_0</td>\n",
       "      <td>27</td>\n",
       "      <td>27</td>\n",
       "    </tr>\n",
       "    <tr>\n",
       "      <th>2</th>\n",
       "      <td>193637</td>\n",
       "      <td>2020-02-17</td>\n",
       "      <td>ROUTE_14_FROM DOWNTOWN_0</td>\n",
       "      <td>42</td>\n",
       "      <td>42</td>\n",
       "    </tr>\n",
       "    <tr>\n",
       "      <th>3</th>\n",
       "      <td>193637</td>\n",
       "      <td>2020-02-21</td>\n",
       "      <td>ROUTE_14_FROM DOWNTOWN_0</td>\n",
       "      <td>43</td>\n",
       "      <td>43</td>\n",
       "    </tr>\n",
       "    <tr>\n",
       "      <th>4</th>\n",
       "      <td>193637</td>\n",
       "      <td>2020-02-28</td>\n",
       "      <td>ROUTE_14_FROM DOWNTOWN_0</td>\n",
       "      <td>42</td>\n",
       "      <td>42</td>\n",
       "    </tr>\n",
       "  </tbody>\n",
       "</table>\n",
       "</div>"
      ],
      "text/plain": [
       "  trip_id transit_date               pattern_num  stop_id  vehicle_id\n",
       "0  193637   2020-01-28  ROUTE_14_FROM DOWNTOWN_0       31          31\n",
       "1  193637   2020-02-07  ROUTE_14_FROM DOWNTOWN_0       27          27\n",
       "2  193637   2020-02-17  ROUTE_14_FROM DOWNTOWN_0       42          42\n",
       "3  193637   2020-02-21  ROUTE_14_FROM DOWNTOWN_0       43          43\n",
       "4  193637   2020-02-28  ROUTE_14_FROM DOWNTOWN_0       42          42"
      ]
     },
     "execution_count": 11,
     "metadata": {},
     "output_type": "execute_result"
    }
   ],
   "source": [
    "trips_and_dates = wego_2020.groupby(['trip_id', 'transit_date', 'pattern_num'])['stop_id', 'vehicle_id'].count().reset_index()\n",
    "trips_and_dates.head()"
   ]
  },
  {
   "cell_type": "code",
   "execution_count": null,
   "metadata": {},
   "outputs": [],
   "source": []
  },
  {
   "cell_type": "markdown",
   "metadata": {},
   "source": [
    "## 4. test if a trip_id is assigned to multiple routes in the APC data\n",
    "\n",
    "We already know that there are 11915 `trip_id` values during 2021. So we only have to group by `trip_id` and then count the different number of `route_id` values that are associated to that `trip_id`. If the returned value is `1`, then we can conclude that the trip is assigned to only one `route_id`."
   ]
  },
  {
   "cell_type": "code",
   "execution_count": 12,
   "metadata": {},
   "outputs": [
    {
     "name": "stderr",
     "output_type": "stream",
     "text": [
      "C:\\Users\\jcmar\\AppData\\Local\\Temp/ipykernel_17572/2770971446.py:1: FutureWarning: Indexing with multiple keys (implicitly converted to a tuple of keys) will be deprecated, use a list instead.\n",
      "  trips_and_routes = wego_2020.groupby(['trip_id'], as_index = False)['route_id', 'route_direction_name'].nunique()\n"
     ]
    },
    {
     "data": {
      "text/html": [
       "<div>\n",
       "<style scoped>\n",
       "    .dataframe tbody tr th:only-of-type {\n",
       "        vertical-align: middle;\n",
       "    }\n",
       "\n",
       "    .dataframe tbody tr th {\n",
       "        vertical-align: top;\n",
       "    }\n",
       "\n",
       "    .dataframe thead th {\n",
       "        text-align: right;\n",
       "    }\n",
       "</style>\n",
       "<table border=\"1\" class=\"dataframe\">\n",
       "  <thead>\n",
       "    <tr style=\"text-align: right;\">\n",
       "      <th></th>\n",
       "      <th>trip_id</th>\n",
       "      <th>route_id</th>\n",
       "      <th>route_direction_name</th>\n",
       "    </tr>\n",
       "  </thead>\n",
       "  <tbody>\n",
       "    <tr>\n",
       "      <th>0</th>\n",
       "      <td>193637</td>\n",
       "      <td>1</td>\n",
       "      <td>1</td>\n",
       "    </tr>\n",
       "    <tr>\n",
       "      <th>1</th>\n",
       "      <td>193638</td>\n",
       "      <td>1</td>\n",
       "      <td>1</td>\n",
       "    </tr>\n",
       "    <tr>\n",
       "      <th>2</th>\n",
       "      <td>193639</td>\n",
       "      <td>1</td>\n",
       "      <td>1</td>\n",
       "    </tr>\n",
       "    <tr>\n",
       "      <th>3</th>\n",
       "      <td>193640</td>\n",
       "      <td>1</td>\n",
       "      <td>1</td>\n",
       "    </tr>\n",
       "    <tr>\n",
       "      <th>4</th>\n",
       "      <td>193641</td>\n",
       "      <td>1</td>\n",
       "      <td>1</td>\n",
       "    </tr>\n",
       "    <tr>\n",
       "      <th>...</th>\n",
       "      <td>...</td>\n",
       "      <td>...</td>\n",
       "      <td>...</td>\n",
       "    </tr>\n",
       "    <tr>\n",
       "      <th>19612</th>\n",
       "      <td>237546</td>\n",
       "      <td>1</td>\n",
       "      <td>1</td>\n",
       "    </tr>\n",
       "    <tr>\n",
       "      <th>19613</th>\n",
       "      <td>237547</td>\n",
       "      <td>1</td>\n",
       "      <td>1</td>\n",
       "    </tr>\n",
       "    <tr>\n",
       "      <th>19614</th>\n",
       "      <td>237548</td>\n",
       "      <td>1</td>\n",
       "      <td>1</td>\n",
       "    </tr>\n",
       "    <tr>\n",
       "      <th>19615</th>\n",
       "      <td>237549</td>\n",
       "      <td>1</td>\n",
       "      <td>1</td>\n",
       "    </tr>\n",
       "    <tr>\n",
       "      <th>19616</th>\n",
       "      <td>237550</td>\n",
       "      <td>1</td>\n",
       "      <td>1</td>\n",
       "    </tr>\n",
       "  </tbody>\n",
       "</table>\n",
       "<p>19617 rows × 3 columns</p>\n",
       "</div>"
      ],
      "text/plain": [
       "      trip_id  route_id  route_direction_name\n",
       "0      193637         1                     1\n",
       "1      193638         1                     1\n",
       "2      193639         1                     1\n",
       "3      193640         1                     1\n",
       "4      193641         1                     1\n",
       "...       ...       ...                   ...\n",
       "19612  237546         1                     1\n",
       "19613  237547         1                     1\n",
       "19614  237548         1                     1\n",
       "19615  237549         1                     1\n",
       "19616  237550         1                     1\n",
       "\n",
       "[19617 rows x 3 columns]"
      ]
     },
     "execution_count": 12,
     "metadata": {},
     "output_type": "execute_result"
    }
   ],
   "source": [
    "trips_and_routes = wego_2020.groupby(['trip_id'], as_index = False)['route_id', 'route_direction_name'].nunique()\n",
    "trips_and_routes"
   ]
  },
  {
   "cell_type": "code",
   "execution_count": 13,
   "metadata": {},
   "outputs": [
    {
     "data": {
      "text/html": [
       "<div>\n",
       "<style scoped>\n",
       "    .dataframe tbody tr th:only-of-type {\n",
       "        vertical-align: middle;\n",
       "    }\n",
       "\n",
       "    .dataframe tbody tr th {\n",
       "        vertical-align: top;\n",
       "    }\n",
       "\n",
       "    .dataframe thead th {\n",
       "        text-align: right;\n",
       "    }\n",
       "</style>\n",
       "<table border=\"1\" class=\"dataframe\">\n",
       "  <thead>\n",
       "    <tr style=\"text-align: right;\">\n",
       "      <th></th>\n",
       "      <th>trip_id</th>\n",
       "      <th>route_id</th>\n",
       "      <th>route_direction_name</th>\n",
       "    </tr>\n",
       "  </thead>\n",
       "  <tbody>\n",
       "  </tbody>\n",
       "</table>\n",
       "</div>"
      ],
      "text/plain": [
       "Empty DataFrame\n",
       "Columns: [trip_id, route_id, route_direction_name]\n",
       "Index: []"
      ]
     },
     "execution_count": 13,
     "metadata": {},
     "output_type": "execute_result"
    }
   ],
   "source": [
    "trips_and_routes[trips_and_routes['route_id'] > 1]"
   ]
  },
  {
   "cell_type": "markdown",
   "metadata": {},
   "source": [
    "Finally, we conclude that each trip is assigned to only one `route_id` and `route_direction_name`.\n",
    "\n",
    "## 5. test for null required values (usually load and/or time)\n",
    "\n",
    "* `arrival_time`"
   ]
  },
  {
   "cell_type": "code",
   "execution_count": 14,
   "metadata": {},
   "outputs": [
    {
     "data": {
      "text/plain": [
       "479799"
      ]
     },
     "execution_count": 14,
     "metadata": {},
     "output_type": "execute_result"
    }
   ],
   "source": [
    "wego_2020['arrival_time'].isnull().sum()"
   ]
  },
  {
   "cell_type": "markdown",
   "metadata": {},
   "source": [
    "There are 479799 rows with `NULL` values in their `arrival_time` field.\n",
    "\n",
    "* `load`"
   ]
  },
  {
   "cell_type": "code",
   "execution_count": 15,
   "metadata": {},
   "outputs": [
    {
     "data": {
      "text/plain": [
       "0"
      ]
     },
     "execution_count": 15,
     "metadata": {},
     "output_type": "execute_result"
    }
   ],
   "source": [
    "wego_2020['load'].isnull().sum()"
   ]
  },
  {
   "cell_type": "markdown",
   "metadata": {},
   "source": [
    "All rows have their respective `load` values."
   ]
  },
  {
   "cell_type": "code",
   "execution_count": 16,
   "metadata": {},
   "outputs": [
    {
     "data": {
      "text/html": [
       "<div>\n",
       "<style scoped>\n",
       "    .dataframe tbody tr th:only-of-type {\n",
       "        vertical-align: middle;\n",
       "    }\n",
       "\n",
       "    .dataframe tbody tr th {\n",
       "        vertical-align: top;\n",
       "    }\n",
       "\n",
       "    .dataframe thead th {\n",
       "        text-align: right;\n",
       "    }\n",
       "</style>\n",
       "<table border=\"1\" class=\"dataframe\">\n",
       "  <thead>\n",
       "    <tr style=\"text-align: right;\">\n",
       "      <th></th>\n",
       "      <th>activation_date</th>\n",
       "      <th>activation_date_str</th>\n",
       "      <th>arrival_time</th>\n",
       "      <th>arrival_time_str</th>\n",
       "      <th>block_abbr</th>\n",
       "      <th>block_stop_order</th>\n",
       "      <th>day</th>\n",
       "      <th>deactivation_date</th>\n",
       "      <th>deactivation_date_str</th>\n",
       "      <th>gtfs_end_date</th>\n",
       "      <th>...</th>\n",
       "      <th>transit_date</th>\n",
       "      <th>transit_date_str</th>\n",
       "      <th>trip_id</th>\n",
       "      <th>trip_start_time</th>\n",
       "      <th>type_of_day</th>\n",
       "      <th>vehicle_capacity</th>\n",
       "      <th>vehicle_id</th>\n",
       "      <th>window_of_day</th>\n",
       "      <th>month</th>\n",
       "      <th>neg_load</th>\n",
       "    </tr>\n",
       "  </thead>\n",
       "  <tbody>\n",
       "    <tr>\n",
       "      <th>75</th>\n",
       "      <td>2019-10-27</td>\n",
       "      <td>10/27/19</td>\n",
       "      <td>NaT</td>\n",
       "      <td>NULL</td>\n",
       "      <td>5503</td>\n",
       "      <td>151</td>\n",
       "      <td>Wednesday</td>\n",
       "      <td>2020-03-11</td>\n",
       "      <td>03/11/20</td>\n",
       "      <td>2020-01-23</td>\n",
       "      <td>...</td>\n",
       "      <td>2020-01-01</td>\n",
       "      <td>01/01/20</td>\n",
       "      <td>203699</td>\n",
       "      <td>2020-01-01 10:12:00</td>\n",
       "      <td>weekday</td>\n",
       "      <td>25.0</td>\n",
       "      <td>141</td>\n",
       "      <td>3</td>\n",
       "      <td>1</td>\n",
       "      <td>87.0</td>\n",
       "    </tr>\n",
       "    <tr>\n",
       "      <th>76</th>\n",
       "      <td>2019-10-27</td>\n",
       "      <td>10/27/19</td>\n",
       "      <td>NaT</td>\n",
       "      <td>NULL</td>\n",
       "      <td>5503</td>\n",
       "      <td>152</td>\n",
       "      <td>Wednesday</td>\n",
       "      <td>2020-03-11</td>\n",
       "      <td>03/11/20</td>\n",
       "      <td>2020-01-23</td>\n",
       "      <td>...</td>\n",
       "      <td>2020-01-01</td>\n",
       "      <td>01/01/20</td>\n",
       "      <td>203699</td>\n",
       "      <td>2020-01-01 10:12:00</td>\n",
       "      <td>weekday</td>\n",
       "      <td>25.0</td>\n",
       "      <td>141</td>\n",
       "      <td>3</td>\n",
       "      <td>1</td>\n",
       "      <td>87.0</td>\n",
       "    </tr>\n",
       "    <tr>\n",
       "      <th>503</th>\n",
       "      <td>2019-10-27</td>\n",
       "      <td>10/27/19</td>\n",
       "      <td>NaT</td>\n",
       "      <td>NULL</td>\n",
       "      <td>1803</td>\n",
       "      <td>167</td>\n",
       "      <td>Friday</td>\n",
       "      <td>2020-03-11</td>\n",
       "      <td>03/11/20</td>\n",
       "      <td>2020-01-23</td>\n",
       "      <td>...</td>\n",
       "      <td>2020-01-03</td>\n",
       "      <td>01/03/20</td>\n",
       "      <td>194157</td>\n",
       "      <td>2020-01-03 20:47:00</td>\n",
       "      <td>weekday</td>\n",
       "      <td>15.0</td>\n",
       "      <td>1804</td>\n",
       "      <td>6</td>\n",
       "      <td>1</td>\n",
       "      <td>2.0</td>\n",
       "    </tr>\n",
       "    <tr>\n",
       "      <th>504</th>\n",
       "      <td>2019-10-27</td>\n",
       "      <td>10/27/19</td>\n",
       "      <td>NaT</td>\n",
       "      <td>NULL</td>\n",
       "      <td>1803</td>\n",
       "      <td>168</td>\n",
       "      <td>Friday</td>\n",
       "      <td>2020-03-11</td>\n",
       "      <td>03/11/20</td>\n",
       "      <td>2020-01-23</td>\n",
       "      <td>...</td>\n",
       "      <td>2020-01-03</td>\n",
       "      <td>01/03/20</td>\n",
       "      <td>194157</td>\n",
       "      <td>2020-01-03 20:47:00</td>\n",
       "      <td>weekday</td>\n",
       "      <td>15.0</td>\n",
       "      <td>1804</td>\n",
       "      <td>6</td>\n",
       "      <td>1</td>\n",
       "      <td>2.0</td>\n",
       "    </tr>\n",
       "    <tr>\n",
       "      <th>505</th>\n",
       "      <td>2019-10-27</td>\n",
       "      <td>10/27/19</td>\n",
       "      <td>NaT</td>\n",
       "      <td>NULL</td>\n",
       "      <td>1803</td>\n",
       "      <td>169</td>\n",
       "      <td>Friday</td>\n",
       "      <td>2020-03-11</td>\n",
       "      <td>03/11/20</td>\n",
       "      <td>2020-01-23</td>\n",
       "      <td>...</td>\n",
       "      <td>2020-01-03</td>\n",
       "      <td>01/03/20</td>\n",
       "      <td>194157</td>\n",
       "      <td>2020-01-03 20:47:00</td>\n",
       "      <td>weekday</td>\n",
       "      <td>15.0</td>\n",
       "      <td>1804</td>\n",
       "      <td>6</td>\n",
       "      <td>1</td>\n",
       "      <td>2.0</td>\n",
       "    </tr>\n",
       "  </tbody>\n",
       "</table>\n",
       "<p>5 rows × 43 columns</p>\n",
       "</div>"
      ],
      "text/plain": [
       "    activation_date activation_date_str arrival_time arrival_time_str  \\\n",
       "75       2019-10-27            10/27/19          NaT             NULL   \n",
       "76       2019-10-27            10/27/19          NaT             NULL   \n",
       "503      2019-10-27            10/27/19          NaT             NULL   \n",
       "504      2019-10-27            10/27/19          NaT             NULL   \n",
       "505      2019-10-27            10/27/19          NaT             NULL   \n",
       "\n",
       "     block_abbr  block_stop_order        day deactivation_date  \\\n",
       "75         5503               151  Wednesday        2020-03-11   \n",
       "76         5503               152  Wednesday        2020-03-11   \n",
       "503        1803               167     Friday        2020-03-11   \n",
       "504        1803               168     Friday        2020-03-11   \n",
       "505        1803               169     Friday        2020-03-11   \n",
       "\n",
       "    deactivation_date_str gtfs_end_date  ... transit_date transit_date_str  \\\n",
       "75               03/11/20    2020-01-23  ...   2020-01-01         01/01/20   \n",
       "76               03/11/20    2020-01-23  ...   2020-01-01         01/01/20   \n",
       "503              03/11/20    2020-01-23  ...   2020-01-03         01/03/20   \n",
       "504              03/11/20    2020-01-23  ...   2020-01-03         01/03/20   \n",
       "505              03/11/20    2020-01-23  ...   2020-01-03         01/03/20   \n",
       "\n",
       "     trip_id     trip_start_time  type_of_day  vehicle_capacity  vehicle_id  \\\n",
       "75    203699 2020-01-01 10:12:00      weekday              25.0         141   \n",
       "76    203699 2020-01-01 10:12:00      weekday              25.0         141   \n",
       "503   194157 2020-01-03 20:47:00      weekday              15.0        1804   \n",
       "504   194157 2020-01-03 20:47:00      weekday              15.0        1804   \n",
       "505   194157 2020-01-03 20:47:00      weekday              15.0        1804   \n",
       "\n",
       "     window_of_day  month neg_load  \n",
       "75               3      1     87.0  \n",
       "76               3      1     87.0  \n",
       "503              6      1      2.0  \n",
       "504              6      1      2.0  \n",
       "505              6      1      2.0  \n",
       "\n",
       "[5 rows x 43 columns]"
      ]
     },
     "execution_count": 16,
     "metadata": {},
     "output_type": "execute_result"
    }
   ],
   "source": [
    "wego_2020[wego_2020['arrival_time'].isnull()].head()"
   ]
  },
  {
   "cell_type": "code",
   "execution_count": 17,
   "metadata": {},
   "outputs": [
    {
     "data": {
      "text/plain": [
       "(7578752, 43)"
      ]
     },
     "execution_count": 17,
     "metadata": {},
     "output_type": "execute_result"
    }
   ],
   "source": [
    "wego_2020 = wego_2020.dropna(subset=['arrival_time'])\n",
    "wego_2020.shape"
   ]
  },
  {
   "cell_type": "markdown",
   "metadata": {},
   "source": [
    "We save this for further analysis:"
   ]
  },
  {
   "cell_type": "code",
   "execution_count": 18,
   "metadata": {},
   "outputs": [],
   "source": [
    "wego_2020_null_arrival_time = wego_2020[wego_2020['arrival_time'].isnull()]\n",
    "wego_2020_null_arrival_time.to_parquet('Data/wego_2020_null_arrival_time.parquet')\n",
    "del(wego_2020_null_arrival_time)"
   ]
  },
  {
   "cell_type": "markdown",
   "metadata": {},
   "source": [
    "## 6. test the drift between the percentage computed using the typical `vehicle_capacity` and the `capacity` for that trip at that specific day"
   ]
  },
  {
   "cell_type": "code",
   "execution_count": 19,
   "metadata": {},
   "outputs": [
    {
     "name": "stderr",
     "output_type": "stream",
     "text": [
      "C:\\Users\\jcmar\\AppData\\Local\\Temp/ipykernel_17572/2077034394.py:1: FutureWarning: Indexing with multiple keys (implicitly converted to a tuple of keys) will be deprecated, use a list instead.\n",
      "  trip_capacity_by_date = wego_2020.groupby(['transit_date', 'trip_id', 'vehicle_capacity'], as_index = False)['load', 'load_factor'].max()\n"
     ]
    },
    {
     "data": {
      "text/html": [
       "<div>\n",
       "<style scoped>\n",
       "    .dataframe tbody tr th:only-of-type {\n",
       "        vertical-align: middle;\n",
       "    }\n",
       "\n",
       "    .dataframe tbody tr th {\n",
       "        vertical-align: top;\n",
       "    }\n",
       "\n",
       "    .dataframe thead th {\n",
       "        text-align: right;\n",
       "    }\n",
       "</style>\n",
       "<table border=\"1\" class=\"dataframe\">\n",
       "  <thead>\n",
       "    <tr style=\"text-align: right;\">\n",
       "      <th></th>\n",
       "      <th>transit_date</th>\n",
       "      <th>trip_id</th>\n",
       "      <th>vehicle_capacity</th>\n",
       "      <th>load</th>\n",
       "      <th>load_factor</th>\n",
       "      <th>corrected_load_factor</th>\n",
       "    </tr>\n",
       "  </thead>\n",
       "  <tbody>\n",
       "    <tr>\n",
       "      <th>0</th>\n",
       "      <td>2020-01-01</td>\n",
       "      <td>193715</td>\n",
       "      <td>15.0</td>\n",
       "      <td>9.0</td>\n",
       "      <td>0.600000</td>\n",
       "      <td>0.600000</td>\n",
       "    </tr>\n",
       "    <tr>\n",
       "      <th>1</th>\n",
       "      <td>2020-01-01</td>\n",
       "      <td>193716</td>\n",
       "      <td>15.0</td>\n",
       "      <td>13.0</td>\n",
       "      <td>0.866666</td>\n",
       "      <td>0.866667</td>\n",
       "    </tr>\n",
       "    <tr>\n",
       "      <th>2</th>\n",
       "      <td>2020-01-01</td>\n",
       "      <td>193717</td>\n",
       "      <td>15.0</td>\n",
       "      <td>0.0</td>\n",
       "      <td>0.000000</td>\n",
       "      <td>0.000000</td>\n",
       "    </tr>\n",
       "    <tr>\n",
       "      <th>3</th>\n",
       "      <td>2020-01-01</td>\n",
       "      <td>193718</td>\n",
       "      <td>15.0</td>\n",
       "      <td>4.0</td>\n",
       "      <td>0.266666</td>\n",
       "      <td>0.266667</td>\n",
       "    </tr>\n",
       "    <tr>\n",
       "      <th>4</th>\n",
       "      <td>2020-01-01</td>\n",
       "      <td>193719</td>\n",
       "      <td>15.0</td>\n",
       "      <td>3.0</td>\n",
       "      <td>0.200000</td>\n",
       "      <td>0.200000</td>\n",
       "    </tr>\n",
       "  </tbody>\n",
       "</table>\n",
       "</div>"
      ],
      "text/plain": [
       "  transit_date trip_id  vehicle_capacity  load  load_factor  \\\n",
       "0   2020-01-01  193715              15.0   9.0     0.600000   \n",
       "1   2020-01-01  193716              15.0  13.0     0.866666   \n",
       "2   2020-01-01  193717              15.0   0.0     0.000000   \n",
       "3   2020-01-01  193718              15.0   4.0     0.266666   \n",
       "4   2020-01-01  193719              15.0   3.0     0.200000   \n",
       "\n",
       "   corrected_load_factor  \n",
       "0               0.600000  \n",
       "1               0.866667  \n",
       "2               0.000000  \n",
       "3               0.266667  \n",
       "4               0.200000  "
      ]
     },
     "execution_count": 19,
     "metadata": {},
     "output_type": "execute_result"
    }
   ],
   "source": [
    "trip_capacity_by_date = wego_2020.groupby(['transit_date', 'trip_id', 'vehicle_capacity'], as_index = False)['load', 'load_factor'].max()\n",
    "trip_capacity_by_date['corrected_load_factor'] = trip_capacity_by_date['load']/trip_capacity_by_date['vehicle_capacity']\n",
    "trip_capacity_by_date.head()"
   ]
  },
  {
   "cell_type": "code",
   "execution_count": 20,
   "metadata": {},
   "outputs": [
    {
     "data": {
      "text/html": [
       "<div>\n",
       "<style scoped>\n",
       "    .dataframe tbody tr th:only-of-type {\n",
       "        vertical-align: middle;\n",
       "    }\n",
       "\n",
       "    .dataframe tbody tr th {\n",
       "        vertical-align: top;\n",
       "    }\n",
       "\n",
       "    .dataframe thead th {\n",
       "        text-align: right;\n",
       "    }\n",
       "</style>\n",
       "<table border=\"1\" class=\"dataframe\">\n",
       "  <thead>\n",
       "    <tr style=\"text-align: right;\">\n",
       "      <th></th>\n",
       "      <th>transit_date</th>\n",
       "      <th>trip_id</th>\n",
       "      <th>vehicle_capacity</th>\n",
       "      <th>load</th>\n",
       "      <th>load_factor</th>\n",
       "      <th>corrected_load_factor</th>\n",
       "    </tr>\n",
       "  </thead>\n",
       "  <tbody>\n",
       "  </tbody>\n",
       "</table>\n",
       "</div>"
      ],
      "text/plain": [
       "Empty DataFrame\n",
       "Columns: [transit_date, trip_id, vehicle_capacity, load, load_factor, corrected_load_factor]\n",
       "Index: []"
      ]
     },
     "execution_count": 20,
     "metadata": {},
     "output_type": "execute_result"
    }
   ],
   "source": [
    "trip_capacity_by_date[trip_capacity_by_date['load_factor'].round(2) != trip_capacity_by_date['corrected_load_factor'].round(2)]"
   ]
  },
  {
   "cell_type": "markdown",
   "metadata": {},
   "source": [
    "The `load_factor` value is computed correctly.\n",
    "\n",
    "Let's check if there are `trip_id` that registered `load` values greater than the their respective `vehicle_capacity` values."
   ]
  },
  {
   "cell_type": "code",
   "execution_count": 21,
   "metadata": {},
   "outputs": [
    {
     "data": {
      "text/plain": [
       "(102785, 6)"
      ]
     },
     "execution_count": 21,
     "metadata": {},
     "output_type": "execute_result"
    }
   ],
   "source": [
    "trip_capacity_by_date[(trip_capacity_by_date['load'] >= trip_capacity_by_date['vehicle_capacity'])].shape"
   ]
  },
  {
   "cell_type": "markdown",
   "metadata": {},
   "source": [
    "Indeed, there are 102785 rows that indicate a `load` value greater than the its respective `vehicle_capacity`:"
   ]
  },
  {
   "cell_type": "code",
   "execution_count": 22,
   "metadata": {},
   "outputs": [
    {
     "data": {
      "text/html": [
       "<div>\n",
       "<style scoped>\n",
       "    .dataframe tbody tr th:only-of-type {\n",
       "        vertical-align: middle;\n",
       "    }\n",
       "\n",
       "    .dataframe tbody tr th {\n",
       "        vertical-align: top;\n",
       "    }\n",
       "\n",
       "    .dataframe thead th {\n",
       "        text-align: right;\n",
       "    }\n",
       "</style>\n",
       "<table border=\"1\" class=\"dataframe\">\n",
       "  <thead>\n",
       "    <tr style=\"text-align: right;\">\n",
       "      <th></th>\n",
       "      <th>transit_date</th>\n",
       "      <th>trip_id</th>\n",
       "      <th>vehicle_capacity</th>\n",
       "      <th>load</th>\n",
       "      <th>load_factor</th>\n",
       "      <th>corrected_load_factor</th>\n",
       "    </tr>\n",
       "  </thead>\n",
       "  <tbody>\n",
       "    <tr>\n",
       "      <th>10</th>\n",
       "      <td>2020-01-01</td>\n",
       "      <td>194410</td>\n",
       "      <td>15.0</td>\n",
       "      <td>16.0</td>\n",
       "      <td>1.066666</td>\n",
       "      <td>1.066667</td>\n",
       "    </tr>\n",
       "    <tr>\n",
       "      <th>16</th>\n",
       "      <td>2020-01-01</td>\n",
       "      <td>194416</td>\n",
       "      <td>15.0</td>\n",
       "      <td>15.0</td>\n",
       "      <td>1.000000</td>\n",
       "      <td>1.000000</td>\n",
       "    </tr>\n",
       "    <tr>\n",
       "      <th>19</th>\n",
       "      <td>2020-01-01</td>\n",
       "      <td>194420</td>\n",
       "      <td>15.0</td>\n",
       "      <td>16.0</td>\n",
       "      <td>1.066666</td>\n",
       "      <td>1.066667</td>\n",
       "    </tr>\n",
       "    <tr>\n",
       "      <th>20</th>\n",
       "      <td>2020-01-01</td>\n",
       "      <td>194421</td>\n",
       "      <td>15.0</td>\n",
       "      <td>16.0</td>\n",
       "      <td>1.066666</td>\n",
       "      <td>1.066667</td>\n",
       "    </tr>\n",
       "    <tr>\n",
       "      <th>21</th>\n",
       "      <td>2020-01-01</td>\n",
       "      <td>194422</td>\n",
       "      <td>15.0</td>\n",
       "      <td>16.0</td>\n",
       "      <td>1.066666</td>\n",
       "      <td>1.066667</td>\n",
       "    </tr>\n",
       "  </tbody>\n",
       "</table>\n",
       "</div>"
      ],
      "text/plain": [
       "   transit_date trip_id  vehicle_capacity  load  load_factor  \\\n",
       "10   2020-01-01  194410              15.0  16.0     1.066666   \n",
       "16   2020-01-01  194416              15.0  15.0     1.000000   \n",
       "19   2020-01-01  194420              15.0  16.0     1.066666   \n",
       "20   2020-01-01  194421              15.0  16.0     1.066666   \n",
       "21   2020-01-01  194422              15.0  16.0     1.066666   \n",
       "\n",
       "    corrected_load_factor  \n",
       "10               1.066667  \n",
       "16               1.000000  \n",
       "19               1.066667  \n",
       "20               1.066667  \n",
       "21               1.066667  "
      ]
     },
     "execution_count": 22,
     "metadata": {},
     "output_type": "execute_result"
    }
   ],
   "source": [
    "trip_capacity_by_date[(trip_capacity_by_date['load'] >= trip_capacity_by_date['vehicle_capacity'])].head()"
   ]
  },
  {
   "cell_type": "code",
   "execution_count": 24,
   "metadata": {},
   "outputs": [],
   "source": [
    "trip_capacity_by_date.to_parquet('Data/trip_capacity_by_date_abnormal_loads_2020.parquet')\n",
    "del(trip_capacity_by_date)"
   ]
  },
  {
   "cell_type": "code",
   "execution_count": 25,
   "metadata": {},
   "outputs": [],
   "source": [
    "wego_2020_abnormal_loads = wego_2020[wego_2020['load_factor'] > 1]\n",
    "wego_2020_abnormal_loads.to_parquet('Data/wego_2020_abnormal_loads.parquet')\n",
    "del(wego_2020_abnormal_loads)"
   ]
  },
  {
   "cell_type": "code",
   "execution_count": 26,
   "metadata": {},
   "outputs": [],
   "source": [
    "wego_2020.to_parquet('Data/wego_2020.parquet')"
   ]
  },
  {
   "cell_type": "markdown",
   "metadata": {},
   "source": [
    "## 7. test the APC coverage by day"
   ]
  },
  {
   "cell_type": "code",
   "execution_count": 27,
   "metadata": {},
   "outputs": [
    {
     "data": {
      "text/plain": [
       "<AxesSubplot:xlabel='transit_date'>"
      ]
     },
     "execution_count": 27,
     "metadata": {},
     "output_type": "execute_result"
    },
    {
     "data": {
      "image/png": "[encoded data removed]",
      "text/plain": [
       "<Figure size 432x288 with 1 Axes>"
      ]
     },
     "metadata": {
      "needs_background": "light"
     },
     "output_type": "display_data"
    }
   ],
   "source": [
    "coverage_2020 = wego_2020.groupby(['transit_date', 'trip_id'], as_index=False)['stop_id'].count()\n",
    "coverage_2020_ts = pd.Series(coverage_2020.groupby(['transit_date'])['stop_id'].sum())\n",
    "coverage_2020_ts.plot()"
   ]
  }
 ],
 "metadata": {
  "interpreter": {
   "hash": "8d8622ea1520baa1edcd48b3cf28d7eb67d2c16718d25ba4df41c2dd81a65a36"
  },
  "kernelspec": {
   "display_name": "Python 3.9.9 64-bit (windows store)",
   "name": "python3"
  },
  "language_info": {
   "codemirror_mode": {
    "name": "ipython",
    "version": 3
   },
   "file_extension": ".py",
   "mimetype": "text/x-python",
   "name": "python",
   "nbconvert_exporter": "python",
   "pygments_lexer": "ipython3",
   "version": "3.9.9"
  },
  "orig_nbformat": 4
 },
 "nbformat": 4,
 "nbformat_minor": 2
}
