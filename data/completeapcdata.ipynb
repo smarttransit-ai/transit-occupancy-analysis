{
 "cells": [
  {
   "cell_type": "code",
   "execution_count": 1,
   "metadata": {},
   "outputs": [],
   "source": [
    "from pyspark.sql import SparkSession\n",
    "from pyspark import SparkContext\n",
    "from pyspark.sql import SQLContext\n",
    "from pyspark import SparkConf\n",
    "from pyspark.sql import SparkSession\n",
    "from pyspark.sql.functions import UserDefinedFunction,isnan, when, count, col, isnull,month, hour,year,minute,second\n",
    "from pyspark.sql import functions as F\n",
    "from pyspark.sql.types import TimestampType, DateType\n",
    "from pyspark.sql import DataFrame\n",
    "from functools import reduce\n",
    "import glob\n",
    "import dateparser"
   ]
  },
  {
   "cell_type": "code",
   "execution_count": 2,
   "metadata": {},
   "outputs": [],
   "source": [
    "spark = (\n",
    "    SparkSession.builder\n",
    "    .config('spark.executor.memory', '40g')\n",
    "    .config('spark.executor.cores', '40')\n",
    "    .config('spark.driver.memory','20g').master(\"spark://Dis-iMac-Pro:7077\").appName(\"apc\")\n",
    "    .getOrCreate()\n",
    ")"
   ]
  },
  {
   "cell_type": "code",
   "execution_count": 3,
   "metadata": {},
   "outputs": [],
   "source": [
    "sqlContext = SQLContext(spark.sparkContext)"
   ]
  },
  {
   "cell_type": "code",
   "execution_count": 4,
   "metadata": {},
   "outputs": [],
   "source": [
    "df=sqlContext.read.csv('/Users/abhishek/Documents/carta-raw-data/*.TXT',inferSchema=True, header=True).dropDuplicates(['TRIP_KEY','SURVEY_DATE','ROUTE_NUMBER','DIRECTION_NAME','STOP_ID','SORT_ORDER'])"
   ]
  },
  {
   "cell_type": "code",
   "execution_count": 6,
   "metadata": {},
   "outputs": [],
   "source": [
    "def convertdate(x):\n",
    "    try:\n",
    "        out=dateparser.parse(str(x).split(\" \")[0])\n",
    "        return out\n",
    "    except:\n",
    "        return None\n",
    "def convertstamp(x):\n",
    "    try:\n",
    "        out=dateparser.parse(str(x).split(\" \")[1])\n",
    "        return out\n",
    "    except:\n",
    "        return None\n",
    "converttimeudf = UserDefinedFunction(lambda x: convertstamp(x), TimestampType())\n",
    "convertdateudf = UserDefinedFunction(lambda x: convertdate(x), TimestampType())"
   ]
  },
  {
   "cell_type": "code",
   "execution_count": 7,
   "metadata": {},
   "outputs": [],
   "source": [
    "df3=df.withColumn(\"TIME_SCHEDULED\", converttimeudf(df['TIME_SCHEDULED']))\\\n",
    "    .withColumn(\"TRIP_START_TIME\", converttimeudf(df['TRIP_START_TIME']))\\\n",
    "    .withColumn(\"TIME_ACTUAL_ARRIVE\", converttimeudf(df['TIME_ACTUAL_ARRIVE']))\\\n",
    "    .withColumn(\"TIME_ACTUAL_DEPART\", converttimeudf(df['TIME_ACTUAL_DEPART']))\\\n",
    "    .withColumn(\"SURVEY_DATE\",convertdateudf(df[\"SURVEY_DATE\"]).cast(DateType()))\n",
    "df=df3.withColumn(\"MONTH\",month(df3[\"SURVEY_DATE\"]))\\\n",
    "    .withColumn(\"YEAR\",year(df3[\"SURVEY_DATE\"]))\\\n",
    "    .withColumn(\"TIME_SCHEDULED_HOUR\",hour(df3[\"TIME_SCHEDULED\"]))\\\n",
    "    .withColumn(\"TIME_SCHEDULED_MIN\",minute(df3[\"TIME_SCHEDULED\"]))\\\n",
    "    .withColumn(\"TIME_SCHEDULED_SEC\",second(df3[\"TIME_SCHEDULED\"]))\\\n",
    "    .withColumn(\"TRIP_START_TIME_HOUR\",hour(df3[\"TRIP_START_TIME\"]))\\\n",
    "    .withColumn(\"TRIP_START_TIME_MIN\",minute(df3[\"TRIP_START_TIME\"]))\\\n",
    "    .withColumn(\"TRIP_START_TIME_SEC\",second(df3[\"TRIP_START_TIME\"]))\\\n",
    "    .withColumn(\"TIME_ACTUAL_ARRIVE_HOUR\",hour(df3[\"TIME_ACTUAL_ARRIVE\"]))\\\n",
    "    .withColumn(\"TIME_ACTUAL_ARRIVE_MIN\",minute(df3[\"TIME_ACTUAL_ARRIVE\"]))\\\n",
    "    .withColumn(\"TIME_ACTUAL_ARRIVE_SEC\",second(df3[\"TIME_ACTUAL_ARRIVE\"]))\\\n",
    "    .withColumn(\"TIME_ACTUAL_DEPART_HOUR\",hour(df3[\"TIME_ACTUAL_DEPART\"]))\\\n",
    "    .withColumn(\"TIME_ACTUAL_DEPART_MIN\",minute(df3[\"TIME_ACTUAL_DEPART\"]))\\\n",
    "    .withColumn(\"TIME_ACTUAL_DEPART_SEC\",second(df3[\"TIME_ACTUAL_DEPART\"]))"
   ]
  },
  {
   "cell_type": "code",
   "execution_count": 8,
   "metadata": {},
   "outputs": [],
   "source": [
    "df=df.withColumn('DIRECTION_NAME',when(df.DIRECTION_NAME==\"OUTYBOUND\" ,\"OUTBOUND\")\\\n",
    "    .when(df.DIRECTION_NAME==\"0\" ,\"OUTBOUND\")\\\n",
    "        .when(df.DIRECTION_NAME==\"1\" ,\"INBOUND\")\\\n",
    "            .otherwise(df.DIRECTION_NAME))"
   ]
  },
  {
   "cell_type": "code",
   "execution_count": 20,
   "metadata": {},
   "outputs": [],
   "source": [
    "df=df.withColumnRenamed('trip_key','trip_id')"
   ]
  },
  {
   "cell_type": "code",
   "execution_count": 9,
   "metadata": {},
   "outputs": [],
   "source": [
    "df=df.select([F.col(x).alias(x.lower()) for x in df.columns])"
   ]
  },
  {
   "cell_type": "code",
   "execution_count": 11,
   "metadata": {},
   "outputs": [],
   "source": [
    "spark.conf.set(\"spark.sql.repl.eagerEval.enabled\",True)"
   ]
  },
  {
   "cell_type": "code",
   "execution_count": 12,
   "metadata": {},
   "outputs": [
    {
     "data": {
      "text/html": [
       "<table border='1'>\n",
       "<tr><th>serial_number</th><th>schedule_id</th><th>schedule_name</th><th>signup_name</th><th>survey_date</th><th>survey_status</th><th>survey_type</th><th>survey_source</th><th>pattern_id</th><th>route_number</th><th>route_name</th><th>direction_name</th><th>branch</th><th>service_code</th><th>service_type</th><th>service_class</th><th>service_mode</th><th>trip_start_time</th><th>time_period</th><th>service_period</th><th>trip_number</th><th>trip_key</th><th>block_number</th><th>block_key</th><th>block_id</th><th>block_name</th><th>run_number</th><th>run_key</th><th>vehicle_number</th><th>vehicle_description</th><th>vehicle_seats</th><th>revenue_start</th><th>revenue_end</th><th>revenue_net</th><th>odom_start</th><th>odom_end</th><th>odom_net</th><th>condition_number</th><th>checker_name</th><th>garage_name</th><th>division_name</th><th>operator_id</th><th>farebox</th><th>match_count</th><th>comments</th><th>sort_order</th><th>stop_id</th><th>main_cross_street</th><th>travel_direction</th><th>timepoint</th><th>segment_miles</th><th>time_scheduled</th><th>time_actual_arrive</th><th>time_actual_depart</th><th>dwell_time</th><th>running_time_actual</th><th>passengers_on</th><th>passengers_off</th><th>passengers_in</th><th>passengers_spot</th><th>wheelchairs</th><th>bicycles</th><th>match_distance</th><th>timepoint_miles</th><th>non_student_fare</th><th>child</th><th>nr_board</th><th>nr_alight</th><th>kneels</th><th>comment_number</th><th>checker_time</th><th>first_last_stop</th><th>month</th><th>year</th><th>time_scheduled_hour</th><th>time_scheduled_min</th><th>time_scheduled_sec</th><th>trip_start_time_hour</th><th>trip_start_time_min</th><th>trip_start_time_sec</th><th>time_actual_arrive_hour</th><th>time_actual_arrive_min</th><th>time_actual_arrive_sec</th><th>time_actual_depart_hour</th><th>time_actual_depart_min</th><th>time_actual_depart_sec</th></tr>\n",
       "<tr><td>4689608</td><td>106</td><td>Aug18 (Weekday)</td><td>August 19 2018</td><td>2019-04-02</td><td>2</td><td>1</td><td>3</td><td>914</td><td>1.4</td><td>Route #1 am HC:1</td><td>OUTBOUND</td><td>[1]ALTON PARK PM OB</td><td>Route #1</td><td>null</td><td>null</td><td>Bus</td><td>2021-05-12 04:55:00</td><td>AM Peak</td><td>Weekday</td><td>1</td><td>132994</td><td>102</td><td>1011</td><td>0</td><td>null</td><td>3</td><td>3</td><td>129</td><td>Gillig HF 2002</td><td>30</td><td>null</td><td>null</td><td>null</td><td>null</td><td>null</td><td>null</td><td>0</td><td>null</td><td>***Unknown Garage***</td><td>null</td><td>160539</td><td>null</td><td>24</td><td>Trip starts at 4:...</td><td>300</td><td>27</td><td>MARKET/W 25TH</td><td>S</td><td>0</td><td>0.06</td><td>null</td><td>2021-05-12 05:01:21</td><td>2021-05-12 05:01:21</td><td>0.0</td><td>null</td><td>0</td><td>0</td><td>0</td><td>null</td><td>0</td><td>0</td><td>1</td><td>null</td><td>null</td><td>null</td><td>null</td><td>null</td><td>0</td><td>null</td><td>null</td><td>2</td><td>4</td><td>2019</td><td>null</td><td>null</td><td>null</td><td>4</td><td>55</td><td>0</td><td>5</td><td>1</td><td>21</td><td>5</td><td>1</td><td>21</td></tr>\n",
       "<tr><td>4695844</td><td>106</td><td>Aug18 (Weekday)</td><td>August 19 2018</td><td>2019-04-09</td><td>2</td><td>1</td><td>3</td><td>914</td><td>1.4</td><td>Route #1 am HC:1</td><td>OUTBOUND</td><td>[1]ALTON PARK PM OB</td><td>Route #1</td><td>null</td><td>null</td><td>Bus</td><td>2021-05-12 04:55:00</td><td>AM Peak</td><td>Weekday</td><td>1</td><td>132994</td><td>102</td><td>1011</td><td>0</td><td>null</td><td>3</td><td>3</td><td>128</td><td>Gillig HF 2002</td><td>30</td><td>null</td><td>null</td><td>null</td><td>null</td><td>null</td><td>null</td><td>0</td><td>null</td><td>***Unknown Garage***</td><td>null</td><td>160539</td><td>null</td><td>24</td><td>Trip starts at 4:...</td><td>350</td><td>100048</td><td>HalsCent</td><td>X</td><td>-1</td><td>null</td><td>2021-05-12 05:25:00</td><td>2021-05-12 05:24:32</td><td>2021-05-12 05:24:33</td><td>null</td><td>null</td><td>0</td><td>0</td><td>5</td><td>null</td><td>0</td><td>0</td><td>241</td><td>0.0</td><td>null</td><td>null</td><td>null</td><td>null</td><td>0</td><td>null</td><td>null</td><td>3</td><td>4</td><td>2019</td><td>5</td><td>25</td><td>0</td><td>4</td><td>55</td><td>0</td><td>5</td><td>24</td><td>32</td><td>5</td><td>24</td><td>33</td></tr>\n",
       "</table>\n"
      ],
      "text/plain": [
       "+-------------+-----------+---------------+--------------+-----------+-------------+-----------+-------------+----------+------------+----------------+--------------+-------------------+------------+------------+-------------+------------+-------------------+-----------+--------------+-----------+--------+------------+---------+--------+----------+----------+-------+--------------+-------------------+-------------+-------------+-----------+-----------+----------+--------+--------+----------------+------------+--------------------+-------------+-----------+-------+-----------+--------------------+----------+-------+-----------------+----------------+---------+-------------+-------------------+-------------------+-------------------+----------+-------------------+-------------+--------------+-------------+---------------+-----------+--------+--------------+---------------+----------------+-----+--------+---------+------+--------------+------------+---------------+-----+----+-------------------+------------------+------------------+--------------------+-------------------+-------------------+-----------------------+----------------------+----------------------+-----------------------+----------------------+----------------------+\n",
       "|serial_number|schedule_id|  schedule_name|   signup_name|survey_date|survey_status|survey_type|survey_source|pattern_id|route_number|      route_name|direction_name|             branch|service_code|service_type|service_class|service_mode|    trip_start_time|time_period|service_period|trip_number|trip_key|block_number|block_key|block_id|block_name|run_number|run_key|vehicle_number|vehicle_description|vehicle_seats|revenue_start|revenue_end|revenue_net|odom_start|odom_end|odom_net|condition_number|checker_name|         garage_name|division_name|operator_id|farebox|match_count|            comments|sort_order|stop_id|main_cross_street|travel_direction|timepoint|segment_miles|     time_scheduled| time_actual_arrive| time_actual_depart|dwell_time|running_time_actual|passengers_on|passengers_off|passengers_in|passengers_spot|wheelchairs|bicycles|match_distance|timepoint_miles|non_student_fare|child|nr_board|nr_alight|kneels|comment_number|checker_time|first_last_stop|month|year|time_scheduled_hour|time_scheduled_min|time_scheduled_sec|trip_start_time_hour|trip_start_time_min|trip_start_time_sec|time_actual_arrive_hour|time_actual_arrive_min|time_actual_arrive_sec|time_actual_depart_hour|time_actual_depart_min|time_actual_depart_sec|\n",
       "+-------------+-----------+---------------+--------------+-----------+-------------+-----------+-------------+----------+------------+----------------+--------------+-------------------+------------+------------+-------------+------------+-------------------+-----------+--------------+-----------+--------+------------+---------+--------+----------+----------+-------+--------------+-------------------+-------------+-------------+-----------+-----------+----------+--------+--------+----------------+------------+--------------------+-------------+-----------+-------+-----------+--------------------+----------+-------+-----------------+----------------+---------+-------------+-------------------+-------------------+-------------------+----------+-------------------+-------------+--------------+-------------+---------------+-----------+--------+--------------+---------------+----------------+-----+--------+---------+------+--------------+------------+---------------+-----+----+-------------------+------------------+------------------+--------------------+-------------------+-------------------+-----------------------+----------------------+----------------------+-----------------------+----------------------+----------------------+\n",
       "|      4689608|        106|Aug18 (Weekday)|August 19 2018| 2019-04-02|            2|          1|            3|       914|         1.4|Route #1 am HC:1|      OUTBOUND|[1]ALTON PARK PM OB|    Route #1|        null|         null|         Bus|2021-05-12 04:55:00|    AM Peak|       Weekday|          1|  132994|         102|     1011|       0|      null|         3|      3|           129|     Gillig HF 2002|           30|         null|       null|       null|      null|    null|    null|               0|        null|***Unknown Garage***|         null|     160539|   null|         24|Trip starts at 4:...|       300|     27|    MARKET/W 25TH|               S|        0|         0.06|               null|2021-05-12 05:01:21|2021-05-12 05:01:21|       0.0|               null|            0|             0|            0|           null|          0|       0|             1|           null|            null| null|    null|     null|     0|          null|        null|              2|    4|2019|               null|              null|              null|                   4|                 55|                  0|                      5|                     1|                    21|                      5|                     1|                    21|\n",
       "|      4695844|        106|Aug18 (Weekday)|August 19 2018| 2019-04-09|            2|          1|            3|       914|         1.4|Route #1 am HC:1|      OUTBOUND|[1]ALTON PARK PM OB|    Route #1|        null|         null|         Bus|2021-05-12 04:55:00|    AM Peak|       Weekday|          1|  132994|         102|     1011|       0|      null|         3|      3|           128|     Gillig HF 2002|           30|         null|       null|       null|      null|    null|    null|               0|        null|***Unknown Garage***|         null|     160539|   null|         24|Trip starts at 4:...|       350| 100048|         HalsCent|               X|       -1|         null|2021-05-12 05:25:00|2021-05-12 05:24:32|2021-05-12 05:24:33|      null|               null|            0|             0|            5|           null|          0|       0|           241|            0.0|            null| null|    null|     null|     0|          null|        null|              3|    4|2019|                  5|                25|                 0|                   4|                 55|                  0|                      5|                    24|                    32|                      5|                    24|                    33|\n",
       "+-------------+-----------+---------------+--------------+-----------+-------------+-----------+-------------+----------+------------+----------------+--------------+-------------------+------------+------------+-------------+------------+-------------------+-----------+--------------+-----------+--------+------------+---------+--------+----------+----------+-------+--------------+-------------------+-------------+-------------+-----------+-----------+----------+--------+--------+----------------+------------+--------------------+-------------+-----------+-------+-----------+--------------------+----------+-------+-----------------+----------------+---------+-------------+-------------------+-------------------+-------------------+----------+-------------------+-------------+--------------+-------------+---------------+-----------+--------+--------------+---------------+----------------+-----+--------+---------+------+--------------+------------+---------------+-----+----+-------------------+------------------+------------------+--------------------+-------------------+-------------------+-----------------------+----------------------+----------------------+-----------------------+----------------------+----------------------+"
      ]
     },
     "execution_count": 12,
     "metadata": {},
     "output_type": "execute_result"
    }
   ],
   "source": [
    "#df.limit(2)"
   ]
  },
  {
   "cell_type": "code",
   "execution_count": 16,
   "metadata": {},
   "outputs": [],
   "source": [
    "columns_to_drop = ['condition_number','odom_end','division_name','garage_name','checker_time','signup_name','comments','comment_number','non_student_fare','checker_name','timepoint','signup_name','schedule_id','odom_start','odom_end','schedule_name','time_period','kneels','revenue_start','nr_board','nr_alight','revenue_end','running_time_actual','dwell_time']"
   ]
  },
  {
   "cell_type": "code",
   "execution_count": 17,
   "metadata": {},
   "outputs": [],
   "source": [
    "df = df.drop(*columns_to_drop)"
   ]
  },
  {
   "cell_type": "code",
   "execution_count": null,
   "metadata": {},
   "outputs": [],
   "source": [
    "df.write\\\n",
    "        .option(\"mapreduce.fileoutputcommitter.algorithm.version\", \"2\")\\\n",
    "        .partitionBy(\"year\",\"month\")\\\n",
    "        .mode(\"append\")\\\n",
    "        .format(\"parquet\")\\\n",
    "        .save(\"/Users/abhishek/spark/carta/apcdata\")"
   ]
  },
  {
   "cell_type": "code",
   "execution_count": 4,
   "metadata": {},
   "outputs": [],
   "source": [
    "df=spark.read.load('/Users/abhishek/spark/carta/apcdata')"
   ]
  },
  {
   "cell_type": "code",
   "execution_count": 5,
   "metadata": {},
   "outputs": [],
   "source": [
    "spark.conf.set(\"spark.sql.repl.eagerEval.enabled\",True)"
   ]
  },
  {
   "cell_type": "code",
   "execution_count": 7,
   "metadata": {},
   "outputs": [
    {
     "data": {
      "text/html": [
       "<table border='1'>\n",
       "<tr><th>serial_number</th><th>survey_date</th><th>survey_status</th><th>survey_type</th><th>survey_source</th><th>pattern_id</th><th>route_number</th><th>route_name</th><th>direction_name</th><th>branch</th><th>service_code</th><th>service_type</th><th>service_class</th><th>service_mode</th><th>trip_start_time</th><th>service_period</th><th>trip_number</th><th>trip_id</th><th>block_number</th><th>block_key</th><th>block_id</th><th>block_name</th><th>run_number</th><th>run_key</th><th>vehicle_number</th><th>vehicle_description</th><th>vehicle_seats</th><th>revenue_net</th><th>odom_net</th><th>operator_id</th><th>farebox</th><th>match_count</th><th>sort_order</th><th>stop_id</th><th>main_cross_street</th><th>travel_direction</th><th>segment_miles</th><th>time_scheduled</th><th>time_actual_arrive</th><th>time_actual_depart</th><th>passengers_on</th><th>passengers_off</th><th>passengers_in</th><th>passengers_spot</th><th>wheelchairs</th><th>bicycles</th><th>match_distance</th><th>timepoint_miles</th><th>child</th><th>first_last_stop</th><th>time_scheduled_hour</th><th>time_scheduled_min</th><th>time_scheduled_sec</th><th>trip_start_time_hour</th><th>trip_start_time_min</th><th>trip_start_time_sec</th><th>time_actual_arrive_hour</th><th>time_actual_arrive_min</th><th>time_actual_arrive_sec</th><th>time_actual_depart_hour</th><th>time_actual_depart_min</th><th>time_actual_depart_sec</th><th>year</th><th>month</th></tr>\n",
       "<tr><td>4706115</td><td>2019-04-22</td><td>2</td><td>1</td><td>3</td><td>914</td><td>1.4</td><td>Route #1 am HC:1</td><td>OUTBOUND</td><td>[1]ALTON PARK PM OB</td><td>Route #1</td><td>null</td><td>null</td><td>Bus</td><td>2021-05-12 04:55:00</td><td>Weekday</td><td>1</td><td>132994</td><td>102</td><td>1011</td><td>0</td><td>null</td><td>3</td><td>3</td><td>134</td><td>Gillig HF 2003</td><td>30</td><td>null</td><td>null</td><td>160539</td><td>null</td><td>24</td><td>260</td><td>23</td><td>MARKET/19TH</td><td>S</td><td>0.06</td><td>null</td><td>2021-05-12 04:59:41</td><td>2021-05-12 04:59:41</td><td>0</td><td>0</td><td>0</td><td>null</td><td>0</td><td>0</td><td>0</td><td>null</td><td>null</td><td>2</td><td>null</td><td>null</td><td>null</td><td>4</td><td>55</td><td>0</td><td>4</td><td>59</td><td>41</td><td>4</td><td>59</td><td>41</td><td>2019</td><td>4</td></tr>\n",
       "<tr><td>4713165</td><td>2019-04-30</td><td>2</td><td>1</td><td>3</td><td>914</td><td>1.4</td><td>Route #1 am HC:1</td><td>OUTBOUND</td><td>[1]ALTON PARK PM OB</td><td>Route #1</td><td>null</td><td>null</td><td>Bus</td><td>2021-05-12 04:55:00</td><td>Weekday</td><td>1</td><td>132994</td><td>102</td><td>1011</td><td>0</td><td>null</td><td>3</td><td>3</td><td>118</td><td>Gillig HF 2002</td><td>30</td><td>null</td><td>null</td><td>160539</td><td>null</td><td>24</td><td>270</td><td>24</td><td>MARKET/20TH</td><td>S</td><td>0.06</td><td>null</td><td>2021-05-12 04:58:30</td><td>2021-05-12 04:58:30</td><td>0</td><td>0</td><td>1</td><td>null</td><td>0</td><td>0</td><td>0</td><td>null</td><td>null</td><td>2</td><td>null</td><td>null</td><td>null</td><td>4</td><td>55</td><td>0</td><td>4</td><td>58</td><td>30</td><td>4</td><td>58</td><td>30</td><td>2019</td><td>4</td></tr>\n",
       "</table>\n"
      ],
      "text/plain": [
       "+-------------+-----------+-------------+-----------+-------------+----------+------------+----------------+--------------+-------------------+------------+------------+-------------+------------+-------------------+--------------+-----------+-------+------------+---------+--------+----------+----------+-------+--------------+-------------------+-------------+-----------+--------+-----------+-------+-----------+----------+-------+-----------------+----------------+-------------+--------------+-------------------+-------------------+-------------+--------------+-------------+---------------+-----------+--------+--------------+---------------+-----+---------------+-------------------+------------------+------------------+--------------------+-------------------+-------------------+-----------------------+----------------------+----------------------+-----------------------+----------------------+----------------------+----+-----+\n",
       "|serial_number|survey_date|survey_status|survey_type|survey_source|pattern_id|route_number|      route_name|direction_name|             branch|service_code|service_type|service_class|service_mode|    trip_start_time|service_period|trip_number|trip_id|block_number|block_key|block_id|block_name|run_number|run_key|vehicle_number|vehicle_description|vehicle_seats|revenue_net|odom_net|operator_id|farebox|match_count|sort_order|stop_id|main_cross_street|travel_direction|segment_miles|time_scheduled| time_actual_arrive| time_actual_depart|passengers_on|passengers_off|passengers_in|passengers_spot|wheelchairs|bicycles|match_distance|timepoint_miles|child|first_last_stop|time_scheduled_hour|time_scheduled_min|time_scheduled_sec|trip_start_time_hour|trip_start_time_min|trip_start_time_sec|time_actual_arrive_hour|time_actual_arrive_min|time_actual_arrive_sec|time_actual_depart_hour|time_actual_depart_min|time_actual_depart_sec|year|month|\n",
       "+-------------+-----------+-------------+-----------+-------------+----------+------------+----------------+--------------+-------------------+------------+------------+-------------+------------+-------------------+--------------+-----------+-------+------------+---------+--------+----------+----------+-------+--------------+-------------------+-------------+-----------+--------+-----------+-------+-----------+----------+-------+-----------------+----------------+-------------+--------------+-------------------+-------------------+-------------+--------------+-------------+---------------+-----------+--------+--------------+---------------+-----+---------------+-------------------+------------------+------------------+--------------------+-------------------+-------------------+-----------------------+----------------------+----------------------+-----------------------+----------------------+----------------------+----+-----+\n",
       "|      4706115| 2019-04-22|            2|          1|            3|       914|         1.4|Route #1 am HC:1|      OUTBOUND|[1]ALTON PARK PM OB|    Route #1|        null|         null|         Bus|2021-05-12 04:55:00|       Weekday|          1| 132994|         102|     1011|       0|      null|         3|      3|           134|     Gillig HF 2003|           30|       null|    null|     160539|   null|         24|       260|     23|      MARKET/19TH|               S|         0.06|          null|2021-05-12 04:59:41|2021-05-12 04:59:41|            0|             0|            0|           null|          0|       0|             0|           null| null|              2|               null|              null|              null|                   4|                 55|                  0|                      4|                    59|                    41|                      4|                    59|                    41|2019|    4|\n",
       "|      4713165| 2019-04-30|            2|          1|            3|       914|         1.4|Route #1 am HC:1|      OUTBOUND|[1]ALTON PARK PM OB|    Route #1|        null|         null|         Bus|2021-05-12 04:55:00|       Weekday|          1| 132994|         102|     1011|       0|      null|         3|      3|           118|     Gillig HF 2002|           30|       null|    null|     160539|   null|         24|       270|     24|      MARKET/20TH|               S|         0.06|          null|2021-05-12 04:58:30|2021-05-12 04:58:30|            0|             0|            1|           null|          0|       0|             0|           null| null|              2|               null|              null|              null|                   4|                 55|                  0|                      4|                    58|                    30|                      4|                    58|                    30|2019|    4|\n",
       "+-------------+-----------+-------------+-----------+-------------+----------+------------+----------------+--------------+-------------------+------------+------------+-------------+------------+-------------------+--------------+-----------+-------+------------+---------+--------+----------+----------+-------+--------------+-------------------+-------------+-----------+--------+-----------+-------+-----------+----------+-------+-----------------+----------------+-------------+--------------+-------------------+-------------------+-------------+--------------+-------------+---------------+-----------+--------+--------------+---------------+-----+---------------+-------------------+------------------+------------------+--------------------+-------------------+-------------------+-----------------------+----------------------+----------------------+-----------------------+----------------------+----------------------+----+-----+"
      ]
     },
     "execution_count": 7,
     "metadata": {},
     "output_type": "execute_result"
    }
   ],
   "source": [
    "df.limit(2)"
   ]
  },
  {
   "cell_type": "code",
   "execution_count": 8,
   "metadata": {},
   "outputs": [
    {
     "name": "stdout",
     "output_type": "stream",
     "text": [
      "root\n",
      " |-- serial_number: integer (nullable = true)\n",
      " |-- survey_date: date (nullable = true)\n",
      " |-- survey_status: integer (nullable = true)\n",
      " |-- survey_type: integer (nullable = true)\n",
      " |-- survey_source: integer (nullable = true)\n",
      " |-- pattern_id: integer (nullable = true)\n",
      " |-- route_number: double (nullable = true)\n",
      " |-- route_name: string (nullable = true)\n",
      " |-- direction_name: string (nullable = true)\n",
      " |-- branch: string (nullable = true)\n",
      " |-- service_code: string (nullable = true)\n",
      " |-- service_type: string (nullable = true)\n",
      " |-- service_class: string (nullable = true)\n",
      " |-- service_mode: string (nullable = true)\n",
      " |-- trip_start_time: timestamp (nullable = true)\n",
      " |-- service_period: string (nullable = true)\n",
      " |-- trip_number: integer (nullable = true)\n",
      " |-- trip_id: integer (nullable = true)\n",
      " |-- block_number: integer (nullable = true)\n",
      " |-- block_key: string (nullable = true)\n",
      " |-- block_id: integer (nullable = true)\n",
      " |-- block_name: integer (nullable = true)\n",
      " |-- run_number: integer (nullable = true)\n",
      " |-- run_key: integer (nullable = true)\n",
      " |-- vehicle_number: integer (nullable = true)\n",
      " |-- vehicle_description: string (nullable = true)\n",
      " |-- vehicle_seats: integer (nullable = true)\n",
      " |-- revenue_net: string (nullable = true)\n",
      " |-- odom_net: string (nullable = true)\n",
      " |-- operator_id: integer (nullable = true)\n",
      " |-- farebox: string (nullable = true)\n",
      " |-- match_count: integer (nullable = true)\n",
      " |-- sort_order: integer (nullable = true)\n",
      " |-- stop_id: integer (nullable = true)\n",
      " |-- main_cross_street: string (nullable = true)\n",
      " |-- travel_direction: string (nullable = true)\n",
      " |-- segment_miles: double (nullable = true)\n",
      " |-- time_scheduled: timestamp (nullable = true)\n",
      " |-- time_actual_arrive: timestamp (nullable = true)\n",
      " |-- time_actual_depart: timestamp (nullable = true)\n",
      " |-- passengers_on: integer (nullable = true)\n",
      " |-- passengers_off: integer (nullable = true)\n",
      " |-- passengers_in: integer (nullable = true)\n",
      " |-- passengers_spot: integer (nullable = true)\n",
      " |-- wheelchairs: integer (nullable = true)\n",
      " |-- bicycles: integer (nullable = true)\n",
      " |-- match_distance: integer (nullable = true)\n",
      " |-- timepoint_miles: double (nullable = true)\n",
      " |-- child: string (nullable = true)\n",
      " |-- first_last_stop: integer (nullable = true)\n",
      " |-- time_scheduled_hour: integer (nullable = true)\n",
      " |-- time_scheduled_min: integer (nullable = true)\n",
      " |-- time_scheduled_sec: integer (nullable = true)\n",
      " |-- trip_start_time_hour: integer (nullable = true)\n",
      " |-- trip_start_time_min: integer (nullable = true)\n",
      " |-- trip_start_time_sec: integer (nullable = true)\n",
      " |-- time_actual_arrive_hour: integer (nullable = true)\n",
      " |-- time_actual_arrive_min: integer (nullable = true)\n",
      " |-- time_actual_arrive_sec: integer (nullable = true)\n",
      " |-- time_actual_depart_hour: integer (nullable = true)\n",
      " |-- time_actual_depart_min: integer (nullable = true)\n",
      " |-- time_actual_depart_sec: integer (nullable = true)\n",
      " |-- year: integer (nullable = true)\n",
      " |-- month: integer (nullable = true)\n",
      "\n"
     ]
    }
   ],
   "source": [
    "df.printSchema()"
   ]
  },
  {
   "cell_type": "code",
   "execution_count": null,
   "metadata": {},
   "outputs": [],
   "source": []
  }
 ],
 "metadata": {
  "kernelspec": {
   "display_name": "Python 3",
   "language": "python",
   "name": "python3"
  },
  "language_info": {
   "codemirror_mode": {
    "name": "ipython",
    "version": 3
   },
   "file_extension": ".py",
   "mimetype": "text/x-python",
   "name": "python",
   "nbconvert_exporter": "python",
   "pygments_lexer": "ipython3",
   "version": "3.8.10"
  }
 },
 "nbformat": 4,
 "nbformat_minor": 4
}