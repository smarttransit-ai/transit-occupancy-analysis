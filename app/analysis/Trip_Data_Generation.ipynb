{
 "cells": [
  {
   "cell_type": "markdown",
   "id": "9fb2f4cd-4c26-47a7-84de-33ceff5c46af",
   "metadata": {},
   "source": [
    "# Trip Data Generation\n",
    "\n",
    "In this notebook we show to generate the trip data for maximum occupancy modeling and analysis. The initial step is to assign a zero to all the negative occupancies. Also, we set a maximum ocupancy value of 32. Then, we group by date and hour to obtain the maximum occupancy. Also, we average temperature and precipitation. \n"
   ]
  },
  {
   "cell_type": "code",
   "execution_count": 1,
   "id": "7e447fcd-0032-4e40-8b02-8cedd719a921",
   "metadata": {},
   "outputs": [
    {
     "name": "stderr",
     "output_type": "stream",
     "text": [
      "Warning message in system(\"timedatectl\", intern = TRUE):\n",
      "“running command 'timedatectl' had status 1”\n",
      "── \u001b[1mAttaching packages\u001b[22m ─────────────────────────────────────── tidyverse 1.3.1 ──\n",
      "\n",
      "\u001b[32m✔\u001b[39m \u001b[34mggplot2\u001b[39m 3.3.5     \u001b[32m✔\u001b[39m \u001b[34mpurrr  \u001b[39m 0.3.4\n",
      "\u001b[32m✔\u001b[39m \u001b[34mtibble \u001b[39m 3.1.2     \u001b[32m✔\u001b[39m \u001b[34mdplyr  \u001b[39m 1.0.7\n",
      "\u001b[32m✔\u001b[39m \u001b[34mtidyr  \u001b[39m 1.1.3     \u001b[32m✔\u001b[39m \u001b[34mstringr\u001b[39m 1.4.0\n",
      "\u001b[32m✔\u001b[39m \u001b[34mreadr  \u001b[39m 1.4.0     \u001b[32m✔\u001b[39m \u001b[34mforcats\u001b[39m 0.5.1\n",
      "\n",
      "── \u001b[1mConflicts\u001b[22m ────────────────────────────────────────── tidyverse_conflicts() ──\n",
      "\u001b[31m✖\u001b[39m \u001b[34mdplyr\u001b[39m::\u001b[32mfilter()\u001b[39m masks \u001b[34mstats\u001b[39m::filter()\n",
      "\u001b[31m✖\u001b[39m \u001b[34mdplyr\u001b[39m::\u001b[32mlag()\u001b[39m    masks \u001b[34mstats\u001b[39m::lag()\n",
      "\n"
     ]
    }
   ],
   "source": [
    "library(tidyverse)\n",
    "library(readr)"
   ]
  },
  {
   "cell_type": "code",
   "execution_count": 2,
   "id": "ab116fc8-15ff-418b-a50b-8aa9f38fa52a",
   "metadata": {},
   "outputs": [
    {
     "name": "stderr",
     "output_type": "stream",
     "text": [
      "\n",
      "\u001b[36m──\u001b[39m \u001b[1m\u001b[1mColumn specification\u001b[1m\u001b[22m \u001b[36m────────────────────────────────────────────────────────\u001b[39m\n",
      "cols(\n",
      "  .default = col_double(),\n",
      "  scheduled_arrival_time = \u001b[34mcol_datetime(format = \"\")\u001b[39m,\n",
      "  actual_arrival_time = \u001b[34mcol_datetime(format = \"\")\u001b[39m,\n",
      "  direction_desc = \u001b[31mcol_character()\u001b[39m,\n",
      "  service_period = \u001b[31mcol_character()\u001b[39m,\n",
      "  date = \u001b[34mcol_date(format = \"\")\u001b[39m,\n",
      "  scheduled_datetime = \u001b[34mcol_datetime(format = \"\")\u001b[39m,\n",
      "  actual_arrival_datetime = \u001b[34mcol_datetime(format = \"\")\u001b[39m,\n",
      "  trip_start_time = \u001b[34mcol_datetime(format = \"\")\u001b[39m,\n",
      "  trip_date = \u001b[34mcol_date(format = \"\")\u001b[39m,\n",
      "  service_kind = \u001b[31mcol_character()\u001b[39m\n",
      ")\n",
      "\u001b[36mℹ\u001b[39m Use \u001b[30m\u001b[47m\u001b[30m\u001b[47m`spec()`\u001b[47m\u001b[30m\u001b[49m\u001b[39m for the full column specifications.\n",
      "\n",
      "\n",
      "Warning message:\n",
      "“1658648 parsing failures.\n",
      "    row      col               expected actual                                    file\n",
      "5820871 route_id no trailing characters    10A 'data/jmartinez/Transit_Data/carta.csv'\n",
      "5820872 route_id no trailing characters    10A 'data/jmartinez/Transit_Data/carta.csv'\n",
      "5820873 route_id no trailing characters    10A 'data/jmartinez/Transit_Data/carta.csv'\n",
      "5820874 route_id no trailing characters    10A 'data/jmartinez/Transit_Data/carta.csv'\n",
      "5820875 route_id no trailing characters    10A 'data/jmartinez/Transit_Data/carta.csv'\n",
      "....... ........ ...................... ...... .......................................\n",
      "See problems(...) for more details.\n",
      "”\n"
     ]
    }
   ],
   "source": [
    "carta = read_csv('data/jmartinez/Transit_Data/carta.csv', progress = F) "
   ]
  },
  {
   "cell_type": "code",
   "execution_count": 3,
   "id": "35d523dd-f631-43eb-a4e8-9787270205e1",
   "metadata": {},
   "outputs": [],
   "source": [
    "carta$trip_id = as.character(carta$trip_id)\n",
    "carta$stop_id = as.character(carta$stop_id)\n",
    "carta$route_id = as.character(carta$route_id)\n",
    "carta$direction_id = as.character(carta$direction_id)\n",
    "carta$hour = factor(carta$hour)\n",
    "carta$month = factor(carta$month)"
   ]
  },
  {
   "cell_type": "markdown",
   "id": "4c47f732-c029-41d8-8174-ca0f3d6dd1b3",
   "metadata": {},
   "source": [
    "# Route 1\n",
    "\n",
    "## Pre-lockdown\n",
    "\n",
    "### Direction 0"
   ]
  },
  {
   "cell_type": "code",
   "execution_count": 5,
   "id": "436d744a-3a8a-4a70-ab06-ddabb056794e",
   "metadata": {},
   "outputs": [
    {
     "name": "stderr",
     "output_type": "stream",
     "text": [
      "`summarise()` has grouped output by 'trip_date', 'trip_id', 'hour'. You can override using the `.groups` argument.\n",
      "\n"
     ]
    },
    {
     "data": {
      "text/html": [
       "<table class=\"dataframe\">\n",
       "<caption>A grouped_df: 6 × 6</caption>\n",
       "<thead>\n",
       "\t<tr><th scope=col>trip_date</th><th scope=col>trip_id</th><th scope=col>hour</th><th scope=col>max_occupancy</th><th scope=col>mean_temp</th><th scope=col>mean_precip</th></tr>\n",
       "\t<tr><th scope=col>&lt;date&gt;</th><th scope=col>&lt;fct&gt;</th><th scope=col>&lt;fct&gt;</th><th scope=col>&lt;dbl&gt;</th><th scope=col>&lt;dbl&gt;</th><th scope=col>&lt;dbl&gt;</th></tr>\n",
       "</thead>\n",
       "<tbody>\n",
       "\t<tr><td>2019-01-02</td><td>132994</td><td>4 </td><td>1</td><td>0.3288005</td><td>0</td></tr>\n",
       "\t<tr><td>2019-01-02</td><td>132994</td><td>5 </td><td>2</td><td>0.3283889</td><td>0</td></tr>\n",
       "\t<tr><td>2019-01-02</td><td>132997</td><td>11</td><td>7</td><td>0.3535107</td><td>0</td></tr>\n",
       "\t<tr><td>2019-01-02</td><td>132998</td><td>5 </td><td>3</td><td>0.3283889</td><td>0</td></tr>\n",
       "\t<tr><td>2019-01-02</td><td>133002</td><td>6 </td><td>3</td><td>0.2918481</td><td>0</td></tr>\n",
       "\t<tr><td>2019-01-02</td><td>133002</td><td>7 </td><td>3</td><td>0.2940220</td><td>0</td></tr>\n",
       "</tbody>\n",
       "</table>\n"
      ],
      "text/latex": [
       "A grouped\\_df: 6 × 6\n",
       "\\begin{tabular}{llllll}\n",
       " trip\\_date & trip\\_id & hour & max\\_occupancy & mean\\_temp & mean\\_precip\\\\\n",
       " <date> & <fct> & <fct> & <dbl> & <dbl> & <dbl>\\\\\n",
       "\\hline\n",
       "\t 2019-01-02 & 132994 & 4  & 1 & 0.3288005 & 0\\\\\n",
       "\t 2019-01-02 & 132994 & 5  & 2 & 0.3283889 & 0\\\\\n",
       "\t 2019-01-02 & 132997 & 11 & 7 & 0.3535107 & 0\\\\\n",
       "\t 2019-01-02 & 132998 & 5  & 3 & 0.3283889 & 0\\\\\n",
       "\t 2019-01-02 & 133002 & 6  & 3 & 0.2918481 & 0\\\\\n",
       "\t 2019-01-02 & 133002 & 7  & 3 & 0.2940220 & 0\\\\\n",
       "\\end{tabular}\n"
      ],
      "text/markdown": [
       "\n",
       "A grouped_df: 6 × 6\n",
       "\n",
       "| trip_date &lt;date&gt; | trip_id &lt;fct&gt; | hour &lt;fct&gt; | max_occupancy &lt;dbl&gt; | mean_temp &lt;dbl&gt; | mean_precip &lt;dbl&gt; |\n",
       "|---|---|---|---|---|---|\n",
       "| 2019-01-02 | 132994 | 4  | 1 | 0.3288005 | 0 |\n",
       "| 2019-01-02 | 132994 | 5  | 2 | 0.3283889 | 0 |\n",
       "| 2019-01-02 | 132997 | 11 | 7 | 0.3535107 | 0 |\n",
       "| 2019-01-02 | 132998 | 5  | 3 | 0.3283889 | 0 |\n",
       "| 2019-01-02 | 133002 | 6  | 3 | 0.2918481 | 0 |\n",
       "| 2019-01-02 | 133002 | 7  | 3 | 0.2940220 | 0 |\n",
       "\n"
      ],
      "text/plain": [
       "  trip_date  trip_id hour max_occupancy mean_temp mean_precip\n",
       "1 2019-01-02 132994  4    1             0.3288005 0          \n",
       "2 2019-01-02 132994  5    2             0.3283889 0          \n",
       "3 2019-01-02 132997  11   7             0.3535107 0          \n",
       "4 2019-01-02 132998  5    3             0.3283889 0          \n",
       "5 2019-01-02 133002  6    3             0.2918481 0          \n",
       "6 2019-01-02 133002  7    3             0.2940220 0          "
      ]
     },
     "metadata": {},
     "output_type": "display_data"
    }
   ],
   "source": [
    "Pre_Trips_r1_d0 <- carta %>%\n",
    "  filter(trip_date < '2020-03-05', route_id == '1', direction_id == '0') %>%\n",
    "  group_by(trip_date, trip_id, hour) %>%\n",
    "  mutate(max_occupancy = max(occupancy),\n",
    "         mean_temp = mean(Estimated_Temp),\n",
    "         mean_precip = mean(Estimated_Precip),\n",
    "         max_occupancy = if_else(max_occupancy < 0, 0, max_occupancy),\n",
    "         max_occupancy = if_else(max_occupancy > 32, 32, max_occupancy)) %>%\n",
    "  summarise(max_occupancy, mean_temp, mean_precip)\n",
    "\n",
    "Pre_Trips_r1_d0 <- unique(Pre_Trips_r1_d0)\n",
    "\n",
    "Pre_Trips_r1_d0$trip_id = factor(Pre_Trips_r1_d0$trip_id)\n",
    "Pre_Trips_r1_d0$hour = factor(Pre_Trips_r1_d0$hour)\n",
    "\n",
    "Pre_Trips_r1_d0$mean_temp = (Pre_Trips_r1_d0$mean_temp - min(Pre_Trips_r1_d0$mean_temp))/(max(Pre_Trips_r1_d0$mean_temp) - min(Pre_Trips_r1_d0$mean_temp))\n",
    "Pre_Trips_r1_d0$mean_precip = (Pre_Trips_r1_d0$mean_precip - min(Pre_Trips_r1_d0$mean_precip))/(max(Pre_Trips_r1_d0$mean_precip) - min(Pre_Trips_r1_d0$mean_precip))\n",
    "\n",
    "head(Pre_Trips_r1_d0)"
   ]
  },
  {
   "cell_type": "code",
   "execution_count": null,
   "id": "b177f726-7a58-4dbc-b85b-429b91a0db08",
   "metadata": {},
   "outputs": [],
   "source": [
    "#write.csv(Pre_Trips_r1_d0, 'data/jmartinez/Max_Occupancy_Trips/data/Pre_Trips_r1_d0.csv', row.names = F)"
   ]
  },
  {
   "cell_type": "markdown",
   "id": "5484f5de-f31e-490d-9a8e-8e621f7cd515",
   "metadata": {},
   "source": [
    "### Direction 1"
   ]
  },
  {
   "cell_type": "code",
   "execution_count": 6,
   "id": "ed843e58-d655-4951-9163-feb042de57e0",
   "metadata": {},
   "outputs": [
    {
     "name": "stderr",
     "output_type": "stream",
     "text": [
      "`summarise()` has grouped output by 'trip_date', 'trip_id', 'hour'. You can override using the `.groups` argument.\n",
      "\n"
     ]
    },
    {
     "data": {
      "text/html": [
       "<table class=\"dataframe\">\n",
       "<caption>A grouped_df: 6 × 6</caption>\n",
       "<thead>\n",
       "\t<tr><th scope=col>trip_date</th><th scope=col>trip_id</th><th scope=col>hour</th><th scope=col>max_occupancy</th><th scope=col>mean_temp</th><th scope=col>mean_precip</th></tr>\n",
       "\t<tr><th scope=col>&lt;date&gt;</th><th scope=col>&lt;fct&gt;</th><th scope=col>&lt;fct&gt;</th><th scope=col>&lt;dbl&gt;</th><th scope=col>&lt;dbl&gt;</th><th scope=col>&lt;dbl&gt;</th></tr>\n",
       "</thead>\n",
       "<tbody>\n",
       "\t<tr><td>2019-01-02</td><td>133039</td><td>5</td><td>17</td><td>0.3279331</td><td>0</td></tr>\n",
       "\t<tr><td>2019-01-02</td><td>133041</td><td>6</td><td>14</td><td>0.3138050</td><td>0</td></tr>\n",
       "\t<tr><td>2019-01-02</td><td>133045</td><td>7</td><td>11</td><td>0.3088654</td><td>0</td></tr>\n",
       "\t<tr><td>2019-01-02</td><td>133045</td><td>8</td><td>10</td><td>0.3164356</td><td>0</td></tr>\n",
       "\t<tr><td>2019-01-02</td><td>133046</td><td>8</td><td> 4</td><td>0.3209698</td><td>0</td></tr>\n",
       "\t<tr><td>2019-01-02</td><td>133048</td><td>9</td><td> 6</td><td>0.3502474</td><td>0</td></tr>\n",
       "</tbody>\n",
       "</table>\n"
      ],
      "text/latex": [
       "A grouped\\_df: 6 × 6\n",
       "\\begin{tabular}{llllll}\n",
       " trip\\_date & trip\\_id & hour & max\\_occupancy & mean\\_temp & mean\\_precip\\\\\n",
       " <date> & <fct> & <fct> & <dbl> & <dbl> & <dbl>\\\\\n",
       "\\hline\n",
       "\t 2019-01-02 & 133039 & 5 & 17 & 0.3279331 & 0\\\\\n",
       "\t 2019-01-02 & 133041 & 6 & 14 & 0.3138050 & 0\\\\\n",
       "\t 2019-01-02 & 133045 & 7 & 11 & 0.3088654 & 0\\\\\n",
       "\t 2019-01-02 & 133045 & 8 & 10 & 0.3164356 & 0\\\\\n",
       "\t 2019-01-02 & 133046 & 8 &  4 & 0.3209698 & 0\\\\\n",
       "\t 2019-01-02 & 133048 & 9 &  6 & 0.3502474 & 0\\\\\n",
       "\\end{tabular}\n"
      ],
      "text/markdown": [
       "\n",
       "A grouped_df: 6 × 6\n",
       "\n",
       "| trip_date &lt;date&gt; | trip_id &lt;fct&gt; | hour &lt;fct&gt; | max_occupancy &lt;dbl&gt; | mean_temp &lt;dbl&gt; | mean_precip &lt;dbl&gt; |\n",
       "|---|---|---|---|---|---|\n",
       "| 2019-01-02 | 133039 | 5 | 17 | 0.3279331 | 0 |\n",
       "| 2019-01-02 | 133041 | 6 | 14 | 0.3138050 | 0 |\n",
       "| 2019-01-02 | 133045 | 7 | 11 | 0.3088654 | 0 |\n",
       "| 2019-01-02 | 133045 | 8 | 10 | 0.3164356 | 0 |\n",
       "| 2019-01-02 | 133046 | 8 |  4 | 0.3209698 | 0 |\n",
       "| 2019-01-02 | 133048 | 9 |  6 | 0.3502474 | 0 |\n",
       "\n"
      ],
      "text/plain": [
       "  trip_date  trip_id hour max_occupancy mean_temp mean_precip\n",
       "1 2019-01-02 133039  5    17            0.3279331 0          \n",
       "2 2019-01-02 133041  6    14            0.3138050 0          \n",
       "3 2019-01-02 133045  7    11            0.3088654 0          \n",
       "4 2019-01-02 133045  8    10            0.3164356 0          \n",
       "5 2019-01-02 133046  8     4            0.3209698 0          \n",
       "6 2019-01-02 133048  9     6            0.3502474 0          "
      ]
     },
     "metadata": {},
     "output_type": "display_data"
    }
   ],
   "source": [
    "Pre_Trips_r1_d1 <- carta %>%\n",
    "  filter(trip_date < '2020-03-05', route_id == '1', direction_id == '1') %>%\n",
    "  group_by(trip_date, trip_id, hour) %>%\n",
    "  mutate(max_occupancy = max(occupancy),\n",
    "         mean_temp = mean(Estimated_Temp),\n",
    "         mean_precip = mean(Estimated_Precip),\n",
    "         max_occupancy = if_else(max_occupancy < 0, 0, max_occupancy),\n",
    "         max_occupancy = if_else(max_occupancy > 32, 32, max_occupancy)) %>%\n",
    "  summarise(max_occupancy, mean_temp, mean_precip)\n",
    "\n",
    "Pre_Trips_r1_d1 <- unique(Pre_Trips_r1_d1)\n",
    "\n",
    "Pre_Trips_r1_d1$trip_id = factor(Pre_Trips_r1_d1$trip_id)\n",
    "Pre_Trips_r1_d1$hour = factor(Pre_Trips_r1_d1$hour)\n",
    "\n",
    "Pre_Trips_r1_d1$mean_temp = (Pre_Trips_r1_d1$mean_temp - min(Pre_Trips_r1_d1$mean_temp))/(max(Pre_Trips_r1_d1$mean_temp) - min(Pre_Trips_r1_d1$mean_temp))\n",
    "Pre_Trips_r1_d1$mean_precip = (Pre_Trips_r1_d1$mean_precip - min(Pre_Trips_r1_d1$mean_precip))/(max(Pre_Trips_r1_d1$mean_precip) - min(Pre_Trips_r1_d1$mean_precip))\n",
    "\n",
    "head(Pre_Trips_r1_d1)"
   ]
  },
  {
   "cell_type": "code",
   "execution_count": null,
   "id": "d8ff2375-f1bf-411f-9408-03210e09e563",
   "metadata": {},
   "outputs": [],
   "source": [
    "#write.csv(Pre_Trips_r1_d0, 'data/jmartinez/Max_Occupancy_Trips/data/Pre_Trips_r1_d1.csv', row.names = F)"
   ]
  },
  {
   "cell_type": "markdown",
   "id": "198f8566-aae0-4c7b-86ac-f2f801437987",
   "metadata": {},
   "source": [
    "## Post-lockdown\n",
    "\n",
    "### Direction 0"
   ]
  },
  {
   "cell_type": "code",
   "execution_count": 7,
   "id": "a64ba411-7665-4a82-8285-8041badc11de",
   "metadata": {},
   "outputs": [
    {
     "name": "stderr",
     "output_type": "stream",
     "text": [
      "`summarise()` has grouped output by 'trip_date', 'trip_id', 'hour'. You can override using the `.groups` argument.\n",
      "\n"
     ]
    },
    {
     "data": {
      "text/html": [
       "<table class=\"dataframe\">\n",
       "<caption>A grouped_df: 6 × 6</caption>\n",
       "<thead>\n",
       "\t<tr><th scope=col>trip_date</th><th scope=col>trip_id</th><th scope=col>hour</th><th scope=col>max_occupancy</th><th scope=col>mean_temp</th><th scope=col>mean_precip</th></tr>\n",
       "\t<tr><th scope=col>&lt;date&gt;</th><th scope=col>&lt;fct&gt;</th><th scope=col>&lt;fct&gt;</th><th scope=col>&lt;dbl&gt;</th><th scope=col>&lt;dbl&gt;</th><th scope=col>&lt;dbl&gt;</th></tr>\n",
       "</thead>\n",
       "<tbody>\n",
       "\t<tr><td>2020-03-05</td><td>138338</td><td>5</td><td> 0</td><td>0.2916571</td><td>0</td></tr>\n",
       "\t<tr><td>2020-03-05</td><td>138342</td><td>5</td><td> 3</td><td>0.2916571</td><td>0</td></tr>\n",
       "\t<tr><td>2020-03-05</td><td>138342</td><td>6</td><td> 6</td><td>0.2898337</td><td>0</td></tr>\n",
       "\t<tr><td>2020-03-05</td><td>138344</td><td>6</td><td> 1</td><td>0.2761706</td><td>0</td></tr>\n",
       "\t<tr><td>2020-03-05</td><td>138346</td><td>7</td><td>10</td><td>0.2796350</td><td>0</td></tr>\n",
       "\t<tr><td>2020-03-05</td><td>138347</td><td>7</td><td> 2</td><td>0.2857127</td><td>0</td></tr>\n",
       "</tbody>\n",
       "</table>\n"
      ],
      "text/latex": [
       "A grouped\\_df: 6 × 6\n",
       "\\begin{tabular}{llllll}\n",
       " trip\\_date & trip\\_id & hour & max\\_occupancy & mean\\_temp & mean\\_precip\\\\\n",
       " <date> & <fct> & <fct> & <dbl> & <dbl> & <dbl>\\\\\n",
       "\\hline\n",
       "\t 2020-03-05 & 138338 & 5 &  0 & 0.2916571 & 0\\\\\n",
       "\t 2020-03-05 & 138342 & 5 &  3 & 0.2916571 & 0\\\\\n",
       "\t 2020-03-05 & 138342 & 6 &  6 & 0.2898337 & 0\\\\\n",
       "\t 2020-03-05 & 138344 & 6 &  1 & 0.2761706 & 0\\\\\n",
       "\t 2020-03-05 & 138346 & 7 & 10 & 0.2796350 & 0\\\\\n",
       "\t 2020-03-05 & 138347 & 7 &  2 & 0.2857127 & 0\\\\\n",
       "\\end{tabular}\n"
      ],
      "text/markdown": [
       "\n",
       "A grouped_df: 6 × 6\n",
       "\n",
       "| trip_date &lt;date&gt; | trip_id &lt;fct&gt; | hour &lt;fct&gt; | max_occupancy &lt;dbl&gt; | mean_temp &lt;dbl&gt; | mean_precip &lt;dbl&gt; |\n",
       "|---|---|---|---|---|---|\n",
       "| 2020-03-05 | 138338 | 5 |  0 | 0.2916571 | 0 |\n",
       "| 2020-03-05 | 138342 | 5 |  3 | 0.2916571 | 0 |\n",
       "| 2020-03-05 | 138342 | 6 |  6 | 0.2898337 | 0 |\n",
       "| 2020-03-05 | 138344 | 6 |  1 | 0.2761706 | 0 |\n",
       "| 2020-03-05 | 138346 | 7 | 10 | 0.2796350 | 0 |\n",
       "| 2020-03-05 | 138347 | 7 |  2 | 0.2857127 | 0 |\n",
       "\n"
      ],
      "text/plain": [
       "  trip_date  trip_id hour max_occupancy mean_temp mean_precip\n",
       "1 2020-03-05 138338  5     0            0.2916571 0          \n",
       "2 2020-03-05 138342  5     3            0.2916571 0          \n",
       "3 2020-03-05 138342  6     6            0.2898337 0          \n",
       "4 2020-03-05 138344  6     1            0.2761706 0          \n",
       "5 2020-03-05 138346  7    10            0.2796350 0          \n",
       "6 2020-03-05 138347  7     2            0.2857127 0          "
      ]
     },
     "metadata": {},
     "output_type": "display_data"
    }
   ],
   "source": [
    "Post_Trips_r1_d0 <- carta %>%\n",
    "  filter(trip_date >= '2020-03-05', route_id == '1', direction_id == '0') %>%\n",
    "  group_by(trip_date, trip_id, hour) %>%\n",
    "  mutate(max_occupancy = max(occupancy),\n",
    "         mean_temp = mean(Estimated_Temp),\n",
    "         mean_precip = mean(Estimated_Precip),\n",
    "         max_occupancy = if_else(max_occupancy < 0, 0, max_occupancy),\n",
    "         max_occupancy = if_else(max_occupancy > 32, 32, max_occupancy)) %>%\n",
    "  summarise(max_occupancy, mean_temp, mean_precip)\n",
    "\n",
    "Post_Trips_r1_d0 <- unique(Post_Trips_r1_d0)\n",
    "\n",
    "Post_Trips_r1_d0$trip_id = factor(Post_Trips_r1_d0$trip_id)\n",
    "Post_Trips_r1_d0$hour = factor(Post_Trips_r1_d0$hour)\n",
    "\n",
    "Post_Trips_r1_d0$mean_temp = (Post_Trips_r1_d0$mean_temp - min(Post_Trips_r1_d0$mean_temp))/(max(Post_Trips_r1_d0$mean_temp) - min(Post_Trips_r1_d0$mean_temp))\n",
    "Post_Trips_r1_d0$mean_precip = (Post_Trips_r1_d0$mean_precip - min(Post_Trips_r1_d0$mean_precip))/(max(Post_Trips_r1_d0$mean_precip) - min(Post_Trips_r1_d0$mean_precip))\n",
    "\n",
    "head(Post_Trips_r1_d0)"
   ]
  },
  {
   "cell_type": "code",
   "execution_count": null,
   "id": "8746c230-0d88-476c-81b4-7df53514fac8",
   "metadata": {},
   "outputs": [],
   "source": [
    "#write.csv(Post_Trips_r1_d0, 'data/jmartinez/Max_Occupancy_Trips/data/Post_Trips_r1_d1.csv', row.names = F)"
   ]
  },
  {
   "cell_type": "markdown",
   "id": "1f5ae709-2d6b-42ec-8035-153d45299fe6",
   "metadata": {},
   "source": [
    "### Direction 1"
   ]
  },
  {
   "cell_type": "code",
   "execution_count": 8,
   "id": "cdf90060-501e-4a09-8323-c3508e50f46e",
   "metadata": {},
   "outputs": [
    {
     "name": "stderr",
     "output_type": "stream",
     "text": [
      "`summarise()` has grouped output by 'trip_date', 'trip_id', 'hour'. You can override using the `.groups` argument.\n",
      "\n"
     ]
    },
    {
     "data": {
      "text/html": [
       "<table class=\"dataframe\">\n",
       "<caption>A grouped_df: 6 × 6</caption>\n",
       "<thead>\n",
       "\t<tr><th scope=col>trip_date</th><th scope=col>trip_id</th><th scope=col>hour</th><th scope=col>max_occupancy</th><th scope=col>mean_temp</th><th scope=col>mean_precip</th></tr>\n",
       "\t<tr><th scope=col>&lt;date&gt;</th><th scope=col>&lt;fct&gt;</th><th scope=col>&lt;fct&gt;</th><th scope=col>&lt;dbl&gt;</th><th scope=col>&lt;dbl&gt;</th><th scope=col>&lt;dbl&gt;</th></tr>\n",
       "</thead>\n",
       "<tbody>\n",
       "\t<tr><td>2020-03-05</td><td>138383</td><td>5</td><td>4</td><td>0.2906203</td><td>0</td></tr>\n",
       "\t<tr><td>2020-03-05</td><td>138383</td><td>6</td><td>4</td><td>0.2873011</td><td>0</td></tr>\n",
       "\t<tr><td>2020-03-05</td><td>138385</td><td>6</td><td>5</td><td>0.2757920</td><td>0</td></tr>\n",
       "\t<tr><td>2020-03-05</td><td>138385</td><td>7</td><td>5</td><td>0.2711697</td><td>0</td></tr>\n",
       "\t<tr><td>2020-03-05</td><td>138387</td><td>7</td><td>5</td><td>0.2782163</td><td>0</td></tr>\n",
       "\t<tr><td>2020-03-05</td><td>138389</td><td>8</td><td>6</td><td>0.2989043</td><td>0</td></tr>\n",
       "</tbody>\n",
       "</table>\n"
      ],
      "text/latex": [
       "A grouped\\_df: 6 × 6\n",
       "\\begin{tabular}{llllll}\n",
       " trip\\_date & trip\\_id & hour & max\\_occupancy & mean\\_temp & mean\\_precip\\\\\n",
       " <date> & <fct> & <fct> & <dbl> & <dbl> & <dbl>\\\\\n",
       "\\hline\n",
       "\t 2020-03-05 & 138383 & 5 & 4 & 0.2906203 & 0\\\\\n",
       "\t 2020-03-05 & 138383 & 6 & 4 & 0.2873011 & 0\\\\\n",
       "\t 2020-03-05 & 138385 & 6 & 5 & 0.2757920 & 0\\\\\n",
       "\t 2020-03-05 & 138385 & 7 & 5 & 0.2711697 & 0\\\\\n",
       "\t 2020-03-05 & 138387 & 7 & 5 & 0.2782163 & 0\\\\\n",
       "\t 2020-03-05 & 138389 & 8 & 6 & 0.2989043 & 0\\\\\n",
       "\\end{tabular}\n"
      ],
      "text/markdown": [
       "\n",
       "A grouped_df: 6 × 6\n",
       "\n",
       "| trip_date &lt;date&gt; | trip_id &lt;fct&gt; | hour &lt;fct&gt; | max_occupancy &lt;dbl&gt; | mean_temp &lt;dbl&gt; | mean_precip &lt;dbl&gt; |\n",
       "|---|---|---|---|---|---|\n",
       "| 2020-03-05 | 138383 | 5 | 4 | 0.2906203 | 0 |\n",
       "| 2020-03-05 | 138383 | 6 | 4 | 0.2873011 | 0 |\n",
       "| 2020-03-05 | 138385 | 6 | 5 | 0.2757920 | 0 |\n",
       "| 2020-03-05 | 138385 | 7 | 5 | 0.2711697 | 0 |\n",
       "| 2020-03-05 | 138387 | 7 | 5 | 0.2782163 | 0 |\n",
       "| 2020-03-05 | 138389 | 8 | 6 | 0.2989043 | 0 |\n",
       "\n"
      ],
      "text/plain": [
       "  trip_date  trip_id hour max_occupancy mean_temp mean_precip\n",
       "1 2020-03-05 138383  5    4             0.2906203 0          \n",
       "2 2020-03-05 138383  6    4             0.2873011 0          \n",
       "3 2020-03-05 138385  6    5             0.2757920 0          \n",
       "4 2020-03-05 138385  7    5             0.2711697 0          \n",
       "5 2020-03-05 138387  7    5             0.2782163 0          \n",
       "6 2020-03-05 138389  8    6             0.2989043 0          "
      ]
     },
     "metadata": {},
     "output_type": "display_data"
    }
   ],
   "source": [
    "Post_Trips_r1_d1 <- carta %>%\n",
    "  filter(trip_date >= '2020-03-05', route_id == '1', direction_id == '1') %>%\n",
    "  group_by(trip_date, trip_id, hour) %>%\n",
    "  mutate(max_occupancy = max(occupancy),\n",
    "         mean_temp = mean(Estimated_Temp),\n",
    "         mean_precip = mean(Estimated_Precip),\n",
    "         max_occupancy = if_else(max_occupancy < 0, 0, max_occupancy),\n",
    "         max_occupancy = if_else(max_occupancy > 32, 32, max_occupancy)) %>%\n",
    "  summarise(max_occupancy, mean_temp, mean_precip)\n",
    "\n",
    "Post_Trips_r1_d1 <- unique(Post_Trips_r1_d1)\n",
    "\n",
    "Post_Trips_r1_d1$trip_id = factor(Post_Trips_r1_d1$trip_id)\n",
    "Post_Trips_r1_d1$hour = factor(Post_Trips_r1_d1$hour)\n",
    "\n",
    "Post_Trips_r1_d1$mean_temp = (Post_Trips_r1_d1$mean_temp - min(Post_Trips_r1_d1$mean_temp))/(max(Post_Trips_r1_d1$mean_temp) - min(Post_Trips_r1_d1$mean_temp))\n",
    "Post_Trips_r1_d1$mean_precip = (Post_Trips_r1_d1$mean_precip - min(Post_Trips_r1_d1$mean_precip))/(max(Post_Trips_r1_d1$mean_precip) - min(Post_Trips_r1_d1$mean_precip))\n",
    "\n",
    "head(Post_Trips_r1_d1)"
   ]
  },
  {
   "cell_type": "code",
   "execution_count": null,
   "id": "353b2b42-5ea0-4fed-9e32-4a7148459c9e",
   "metadata": {},
   "outputs": [],
   "source": [
    "#write.csv(Pre_Trips_r1_d0, 'data/jmartinez/Max_Occupancy_Trips/data/Post_Trips_r1_d1.csv', row.names = F)"
   ]
  },
  {
   "cell_type": "markdown",
   "id": "70a23167-297c-4fa4-8ca6-9d8a75986b59",
   "metadata": {},
   "source": [
    "# Route 4\n",
    "\n",
    "## Pre-lockdown\n",
    "\n",
    "### Direction 0"
   ]
  },
  {
   "cell_type": "code",
   "execution_count": 9,
   "id": "9ac07855-19ff-4cb8-b70c-579ada1902d1",
   "metadata": {},
   "outputs": [
    {
     "name": "stderr",
     "output_type": "stream",
     "text": [
      "`summarise()` has grouped output by 'trip_date', 'trip_id', 'hour'. You can override using the `.groups` argument.\n",
      "\n"
     ]
    },
    {
     "data": {
      "text/html": [
       "<table class=\"dataframe\">\n",
       "<caption>A grouped_df: 6 × 6</caption>\n",
       "<thead>\n",
       "\t<tr><th scope=col>trip_date</th><th scope=col>trip_id</th><th scope=col>hour</th><th scope=col>max_occupancy</th><th scope=col>mean_temp</th><th scope=col>mean_precip</th></tr>\n",
       "\t<tr><th scope=col>&lt;date&gt;</th><th scope=col>&lt;fct&gt;</th><th scope=col>&lt;fct&gt;</th><th scope=col>&lt;dbl&gt;</th><th scope=col>&lt;dbl&gt;</th><th scope=col>&lt;dbl&gt;</th></tr>\n",
       "</thead>\n",
       "<tbody>\n",
       "\t<tr><td>2019-01-02</td><td>134296</td><td>4 </td><td> 0</td><td>0.3292844</td><td>0</td></tr>\n",
       "\t<tr><td>2019-01-02</td><td>134296</td><td>5 </td><td> 5</td><td>0.3287357</td><td>0</td></tr>\n",
       "\t<tr><td>2019-01-02</td><td>134298</td><td>8 </td><td>16</td><td>0.3243253</td><td>0</td></tr>\n",
       "\t<tr><td>2019-01-02</td><td>134298</td><td>9 </td><td> 9</td><td>0.3316438</td><td>0</td></tr>\n",
       "\t<tr><td>2019-01-02</td><td>134299</td><td>9 </td><td>21</td><td>0.3423543</td><td>0</td></tr>\n",
       "\t<tr><td>2019-01-02</td><td>134299</td><td>10</td><td> 9</td><td>0.3538335</td><td>0</td></tr>\n",
       "</tbody>\n",
       "</table>\n"
      ],
      "text/latex": [
       "A grouped\\_df: 6 × 6\n",
       "\\begin{tabular}{llllll}\n",
       " trip\\_date & trip\\_id & hour & max\\_occupancy & mean\\_temp & mean\\_precip\\\\\n",
       " <date> & <fct> & <fct> & <dbl> & <dbl> & <dbl>\\\\\n",
       "\\hline\n",
       "\t 2019-01-02 & 134296 & 4  &  0 & 0.3292844 & 0\\\\\n",
       "\t 2019-01-02 & 134296 & 5  &  5 & 0.3287357 & 0\\\\\n",
       "\t 2019-01-02 & 134298 & 8  & 16 & 0.3243253 & 0\\\\\n",
       "\t 2019-01-02 & 134298 & 9  &  9 & 0.3316438 & 0\\\\\n",
       "\t 2019-01-02 & 134299 & 9  & 21 & 0.3423543 & 0\\\\\n",
       "\t 2019-01-02 & 134299 & 10 &  9 & 0.3538335 & 0\\\\\n",
       "\\end{tabular}\n"
      ],
      "text/markdown": [
       "\n",
       "A grouped_df: 6 × 6\n",
       "\n",
       "| trip_date &lt;date&gt; | trip_id &lt;fct&gt; | hour &lt;fct&gt; | max_occupancy &lt;dbl&gt; | mean_temp &lt;dbl&gt; | mean_precip &lt;dbl&gt; |\n",
       "|---|---|---|---|---|---|\n",
       "| 2019-01-02 | 134296 | 4  |  0 | 0.3292844 | 0 |\n",
       "| 2019-01-02 | 134296 | 5  |  5 | 0.3287357 | 0 |\n",
       "| 2019-01-02 | 134298 | 8  | 16 | 0.3243253 | 0 |\n",
       "| 2019-01-02 | 134298 | 9  |  9 | 0.3316438 | 0 |\n",
       "| 2019-01-02 | 134299 | 9  | 21 | 0.3423543 | 0 |\n",
       "| 2019-01-02 | 134299 | 10 |  9 | 0.3538335 | 0 |\n",
       "\n"
      ],
      "text/plain": [
       "  trip_date  trip_id hour max_occupancy mean_temp mean_precip\n",
       "1 2019-01-02 134296  4     0            0.3292844 0          \n",
       "2 2019-01-02 134296  5     5            0.3287357 0          \n",
       "3 2019-01-02 134298  8    16            0.3243253 0          \n",
       "4 2019-01-02 134298  9     9            0.3316438 0          \n",
       "5 2019-01-02 134299  9    21            0.3423543 0          \n",
       "6 2019-01-02 134299  10    9            0.3538335 0          "
      ]
     },
     "metadata": {},
     "output_type": "display_data"
    }
   ],
   "source": [
    "Pre_Trips_r4_d0 <- carta %>%\n",
    "  filter(trip_date < '2020-03-05', route_id == '4', direction_id == '0') %>%\n",
    "  group_by(trip_date, trip_id, hour) %>%\n",
    "  mutate(max_occupancy = max(occupancy),\n",
    "         mean_temp = mean(Estimated_Temp),\n",
    "         mean_precip = mean(Estimated_Precip),\n",
    "         max_occupancy = if_else(max_occupancy < 0, 0, max_occupancy),\n",
    "         max_occupancy = if_else(max_occupancy > 32, 32, max_occupancy)) %>%\n",
    "  summarise(max_occupancy, mean_temp, mean_precip)\n",
    "\n",
    "Pre_Trips_r4_d0 <- unique(Pre_Trips_r4_d0)\n",
    "\n",
    "Pre_Trips_r4_d0$trip_id = factor(Pre_Trips_r4_d0$trip_id)\n",
    "Pre_Trips_r4_d0$hour = factor(Pre_Trips_r4_d0$hour)\n",
    "\n",
    "Pre_Trips_r4_d0$mean_temp = (Pre_Trips_r4_d0$mean_temp - min(Pre_Trips_r4_d0$mean_temp))/(max(Pre_Trips_r4_d0$mean_temp) - min(Pre_Trips_r4_d0$mean_temp))\n",
    "Pre_Trips_r4_d0$mean_precip = (Pre_Trips_r4_d0$mean_precip - min(Pre_Trips_r4_d0$mean_precip))/(max(Pre_Trips_r4_d0$mean_precip) - min(Pre_Trips_r4_d0$mean_precip))\n",
    "\n",
    "head(Pre_Trips_r4_d0)"
   ]
  },
  {
   "cell_type": "code",
   "execution_count": null,
   "id": "ef8109c1-e88e-4709-b8a8-cc913002c833",
   "metadata": {},
   "outputs": [],
   "source": [
    "#write.csv(Pre_Trips_r4_d0, 'data/jmartinez/Max_Occupancy_Trips/data/Pre_Trips_r4_d0.csv', row.names = F)"
   ]
  },
  {
   "cell_type": "markdown",
   "id": "fd467e78-c848-43f2-a614-c7013afa9993",
   "metadata": {},
   "source": [
    "### Direction 1"
   ]
  },
  {
   "cell_type": "code",
   "execution_count": 10,
   "id": "cd7cd03e-ec1e-4868-b6d0-1f6be6e4668a",
   "metadata": {},
   "outputs": [
    {
     "name": "stderr",
     "output_type": "stream",
     "text": [
      "`summarise()` has grouped output by 'trip_date', 'trip_id', 'hour'. You can override using the `.groups` argument.\n",
      "\n"
     ]
    },
    {
     "data": {
      "text/html": [
       "<table class=\"dataframe\">\n",
       "<caption>A grouped_df: 6 × 6</caption>\n",
       "<thead>\n",
       "\t<tr><th scope=col>trip_date</th><th scope=col>trip_id</th><th scope=col>hour</th><th scope=col>max_occupancy</th><th scope=col>mean_temp</th><th scope=col>mean_precip</th></tr>\n",
       "\t<tr><th scope=col>&lt;date&gt;</th><th scope=col>&lt;fct&gt;</th><th scope=col>&lt;fct&gt;</th><th scope=col>&lt;dbl&gt;</th><th scope=col>&lt;dbl&gt;</th><th scope=col>&lt;dbl&gt;</th></tr>\n",
       "</thead>\n",
       "<tbody>\n",
       "\t<tr><td>2019-01-02</td><td>134364</td><td>6 </td><td>11</td><td>0.3073824</td><td>0</td></tr>\n",
       "\t<tr><td>2019-01-02</td><td>134365</td><td>9 </td><td>17</td><td>0.3450123</td><td>0</td></tr>\n",
       "\t<tr><td>2019-01-02</td><td>134365</td><td>10</td><td>17</td><td>0.3525516</td><td>0</td></tr>\n",
       "\t<tr><td>2019-01-02</td><td>134366</td><td>9 </td><td> 8</td><td>0.3457845</td><td>0</td></tr>\n",
       "\t<tr><td>2019-01-02</td><td>134366</td><td>10</td><td>13</td><td>0.3524518</td><td>0</td></tr>\n",
       "\t<tr><td>2019-01-02</td><td>134368</td><td>7 </td><td>24</td><td>0.3077242</td><td>0</td></tr>\n",
       "</tbody>\n",
       "</table>\n"
      ],
      "text/latex": [
       "A grouped\\_df: 6 × 6\n",
       "\\begin{tabular}{llllll}\n",
       " trip\\_date & trip\\_id & hour & max\\_occupancy & mean\\_temp & mean\\_precip\\\\\n",
       " <date> & <fct> & <fct> & <dbl> & <dbl> & <dbl>\\\\\n",
       "\\hline\n",
       "\t 2019-01-02 & 134364 & 6  & 11 & 0.3073824 & 0\\\\\n",
       "\t 2019-01-02 & 134365 & 9  & 17 & 0.3450123 & 0\\\\\n",
       "\t 2019-01-02 & 134365 & 10 & 17 & 0.3525516 & 0\\\\\n",
       "\t 2019-01-02 & 134366 & 9  &  8 & 0.3457845 & 0\\\\\n",
       "\t 2019-01-02 & 134366 & 10 & 13 & 0.3524518 & 0\\\\\n",
       "\t 2019-01-02 & 134368 & 7  & 24 & 0.3077242 & 0\\\\\n",
       "\\end{tabular}\n"
      ],
      "text/markdown": [
       "\n",
       "A grouped_df: 6 × 6\n",
       "\n",
       "| trip_date &lt;date&gt; | trip_id &lt;fct&gt; | hour &lt;fct&gt; | max_occupancy &lt;dbl&gt; | mean_temp &lt;dbl&gt; | mean_precip &lt;dbl&gt; |\n",
       "|---|---|---|---|---|---|\n",
       "| 2019-01-02 | 134364 | 6  | 11 | 0.3073824 | 0 |\n",
       "| 2019-01-02 | 134365 | 9  | 17 | 0.3450123 | 0 |\n",
       "| 2019-01-02 | 134365 | 10 | 17 | 0.3525516 | 0 |\n",
       "| 2019-01-02 | 134366 | 9  |  8 | 0.3457845 | 0 |\n",
       "| 2019-01-02 | 134366 | 10 | 13 | 0.3524518 | 0 |\n",
       "| 2019-01-02 | 134368 | 7  | 24 | 0.3077242 | 0 |\n",
       "\n"
      ],
      "text/plain": [
       "  trip_date  trip_id hour max_occupancy mean_temp mean_precip\n",
       "1 2019-01-02 134364  6    11            0.3073824 0          \n",
       "2 2019-01-02 134365  9    17            0.3450123 0          \n",
       "3 2019-01-02 134365  10   17            0.3525516 0          \n",
       "4 2019-01-02 134366  9     8            0.3457845 0          \n",
       "5 2019-01-02 134366  10   13            0.3524518 0          \n",
       "6 2019-01-02 134368  7    24            0.3077242 0          "
      ]
     },
     "metadata": {},
     "output_type": "display_data"
    }
   ],
   "source": [
    "Pre_Trips_r4_d1 <- carta %>%\n",
    "  filter(trip_date < '2020-03-05', route_id == '4', direction_id == '1') %>%\n",
    "  group_by(trip_date, trip_id, hour) %>%\n",
    "  mutate(max_occupancy = max(occupancy),\n",
    "         mean_temp = mean(Estimated_Temp),\n",
    "         mean_precip = mean(Estimated_Precip),\n",
    "         max_occupancy = if_else(max_occupancy < 0, 0, max_occupancy),\n",
    "         max_occupancy = if_else(max_occupancy > 32, 32, max_occupancy)) %>%\n",
    "  summarise(max_occupancy, mean_temp, mean_precip)\n",
    "\n",
    "Pre_Trips_r4_d1 <- unique(Pre_Trips_r4_d1)\n",
    "\n",
    "Pre_Trips_r4_d1$trip_id = factor(Pre_Trips_r4_d1$trip_id)\n",
    "Pre_Trips_r4_d1$hour = factor(Pre_Trips_r4_d1$hour)\n",
    "\n",
    "Pre_Trips_r4_d1$mean_temp = (Pre_Trips_r4_d1$mean_temp - min(Pre_Trips_r4_d1$mean_temp))/(max(Pre_Trips_r4_d1$mean_temp) - min(Pre_Trips_r4_d1$mean_temp))\n",
    "Pre_Trips_r4_d1$mean_precip = (Pre_Trips_r4_d1$mean_precip - min(Pre_Trips_r4_d1$mean_precip))/(max(Pre_Trips_r4_d1$mean_precip) - min(Pre_Trips_r4_d1$mean_precip))\n",
    "\n",
    "\n",
    "head(Pre_Trips_r4_d1)"
   ]
  },
  {
   "cell_type": "code",
   "execution_count": null,
   "id": "08262049-bd73-4f5f-9568-63dbf733b319",
   "metadata": {},
   "outputs": [],
   "source": [
    "#write.csv(Pre_Trips_r4_d1, 'data/jmartinez/Max_Occupancy_Trips/data/Pre_Trips_r4_d1.csv', row.names = F)"
   ]
  },
  {
   "cell_type": "markdown",
   "id": "a84095d5-74d6-46f7-8e43-2807571c6b5d",
   "metadata": {},
   "source": [
    "## Post-lockdown\n",
    "\n",
    "### Direction 0"
   ]
  },
  {
   "cell_type": "code",
   "execution_count": 11,
   "id": "ea4e2662-fe62-40a8-b9a0-d78422e00f0e",
   "metadata": {},
   "outputs": [
    {
     "name": "stderr",
     "output_type": "stream",
     "text": [
      "`summarise()` has grouped output by 'trip_date', 'trip_id', 'hour'. You can override using the `.groups` argument.\n",
      "\n"
     ]
    },
    {
     "data": {
      "text/html": [
       "<table class=\"dataframe\">\n",
       "<caption>A grouped_df: 6 × 6</caption>\n",
       "<thead>\n",
       "\t<tr><th scope=col>trip_date</th><th scope=col>trip_id</th><th scope=col>hour</th><th scope=col>max_occupancy</th><th scope=col>mean_temp</th><th scope=col>mean_precip</th></tr>\n",
       "\t<tr><th scope=col>&lt;date&gt;</th><th scope=col>&lt;fct&gt;</th><th scope=col>&lt;fct&gt;</th><th scope=col>&lt;dbl&gt;</th><th scope=col>&lt;dbl&gt;</th><th scope=col>&lt;dbl&gt;</th></tr>\n",
       "</thead>\n",
       "<tbody>\n",
       "\t<tr><td>2020-03-05</td><td>139636</td><td>4</td><td> 0</td><td>0.3121739</td><td>0</td></tr>\n",
       "\t<tr><td>2020-03-05</td><td>139636</td><td>5</td><td> 3</td><td>0.3121739</td><td>0</td></tr>\n",
       "\t<tr><td>2020-03-05</td><td>139642</td><td>9</td><td>14</td><td>0.3476467</td><td>0</td></tr>\n",
       "\t<tr><td>2020-03-05</td><td>139647</td><td>7</td><td>13</td><td>0.3005615</td><td>0</td></tr>\n",
       "\t<tr><td>2020-03-05</td><td>139654</td><td>5</td><td> 0</td><td>0.3121739</td><td>0</td></tr>\n",
       "\t<tr><td>2020-03-05</td><td>139654</td><td>6</td><td> 1</td><td>0.3067751</td><td>0</td></tr>\n",
       "</tbody>\n",
       "</table>\n"
      ],
      "text/latex": [
       "A grouped\\_df: 6 × 6\n",
       "\\begin{tabular}{llllll}\n",
       " trip\\_date & trip\\_id & hour & max\\_occupancy & mean\\_temp & mean\\_precip\\\\\n",
       " <date> & <fct> & <fct> & <dbl> & <dbl> & <dbl>\\\\\n",
       "\\hline\n",
       "\t 2020-03-05 & 139636 & 4 &  0 & 0.3121739 & 0\\\\\n",
       "\t 2020-03-05 & 139636 & 5 &  3 & 0.3121739 & 0\\\\\n",
       "\t 2020-03-05 & 139642 & 9 & 14 & 0.3476467 & 0\\\\\n",
       "\t 2020-03-05 & 139647 & 7 & 13 & 0.3005615 & 0\\\\\n",
       "\t 2020-03-05 & 139654 & 5 &  0 & 0.3121739 & 0\\\\\n",
       "\t 2020-03-05 & 139654 & 6 &  1 & 0.3067751 & 0\\\\\n",
       "\\end{tabular}\n"
      ],
      "text/markdown": [
       "\n",
       "A grouped_df: 6 × 6\n",
       "\n",
       "| trip_date &lt;date&gt; | trip_id &lt;fct&gt; | hour &lt;fct&gt; | max_occupancy &lt;dbl&gt; | mean_temp &lt;dbl&gt; | mean_precip &lt;dbl&gt; |\n",
       "|---|---|---|---|---|---|\n",
       "| 2020-03-05 | 139636 | 4 |  0 | 0.3121739 | 0 |\n",
       "| 2020-03-05 | 139636 | 5 |  3 | 0.3121739 | 0 |\n",
       "| 2020-03-05 | 139642 | 9 | 14 | 0.3476467 | 0 |\n",
       "| 2020-03-05 | 139647 | 7 | 13 | 0.3005615 | 0 |\n",
       "| 2020-03-05 | 139654 | 5 |  0 | 0.3121739 | 0 |\n",
       "| 2020-03-05 | 139654 | 6 |  1 | 0.3067751 | 0 |\n",
       "\n"
      ],
      "text/plain": [
       "  trip_date  trip_id hour max_occupancy mean_temp mean_precip\n",
       "1 2020-03-05 139636  4     0            0.3121739 0          \n",
       "2 2020-03-05 139636  5     3            0.3121739 0          \n",
       "3 2020-03-05 139642  9    14            0.3476467 0          \n",
       "4 2020-03-05 139647  7    13            0.3005615 0          \n",
       "5 2020-03-05 139654  5     0            0.3121739 0          \n",
       "6 2020-03-05 139654  6     1            0.3067751 0          "
      ]
     },
     "metadata": {},
     "output_type": "display_data"
    }
   ],
   "source": [
    "Post_Trips_r4_d0 <- carta %>%\n",
    "  filter(trip_date >= '2020-03-05', route_id == '4', direction_id == '0') %>%\n",
    "  group_by(trip_date, trip_id, hour) %>%\n",
    "  mutate(max_occupancy = max(occupancy),\n",
    "         mean_temp = mean(Estimated_Temp),\n",
    "         mean_precip = mean(Estimated_Precip),\n",
    "         max_occupancy = if_else(max_occupancy < 0, 0, max_occupancy),\n",
    "         max_occupancy = if_else(max_occupancy > 32, 32, max_occupancy)) %>%\n",
    "  summarise(max_occupancy, mean_temp, mean_precip)\n",
    "\n",
    "Post_Trips_r4_d0 <- unique(Post_Trips_r4_d0)\n",
    "\n",
    "Post_Trips_r4_d0$trip_id = factor(Post_Trips_r4_d0$trip_id)\n",
    "Post_Trips_r4_d0$hour = factor(Post_Trips_r4_d0$hour)\n",
    "\n",
    "Post_Trips_r4_d0$mean_temp = (Post_Trips_r4_d0$mean_temp - min(Post_Trips_r4_d0$mean_temp))/(max(Post_Trips_r4_d0$mean_temp) - min(Post_Trips_r4_d0$mean_temp))\n",
    "Post_Trips_r4_d0$mean_precip = (Post_Trips_r4_d0$mean_precip - min(Post_Trips_r4_d0$mean_precip))/(max(Post_Trips_r4_d0$mean_precip) - min(Post_Trips_r4_d0$mean_precip))\n",
    "\n",
    "head(Post_Trips_r4_d0)"
   ]
  },
  {
   "cell_type": "code",
   "execution_count": null,
   "id": "8f5651f2-9cb7-4fb5-bfa5-f44da731b43b",
   "metadata": {},
   "outputs": [],
   "source": [
    "#write.csv(Post_Trips_r4_d0, 'Post_Trips_r4_d0.csv', row.names = F)"
   ]
  },
  {
   "cell_type": "markdown",
   "id": "ad6d3098-c8ba-4802-972d-f3e758cc9192",
   "metadata": {},
   "source": [
    "### Direction 1"
   ]
  },
  {
   "cell_type": "code",
   "execution_count": 13,
   "id": "7813a068-c012-40ce-8722-d2926710048e",
   "metadata": {},
   "outputs": [
    {
     "name": "stderr",
     "output_type": "stream",
     "text": [
      "`summarise()` has grouped output by 'trip_date', 'trip_id', 'hour'. You can override using the `.groups` argument.\n",
      "\n"
     ]
    },
    {
     "data": {
      "text/html": [
       "<table class=\"dataframe\">\n",
       "<caption>A grouped_df: 6 × 6</caption>\n",
       "<thead>\n",
       "\t<tr><th scope=col>trip_date</th><th scope=col>trip_id</th><th scope=col>hour</th><th scope=col>max_occupancy</th><th scope=col>mean_temp</th><th scope=col>mean_precip</th></tr>\n",
       "\t<tr><th scope=col>&lt;date&gt;</th><th scope=col>&lt;fct&gt;</th><th scope=col>&lt;fct&gt;</th><th scope=col>&lt;dbl&gt;</th><th scope=col>&lt;dbl&gt;</th><th scope=col>&lt;dbl&gt;</th></tr>\n",
       "</thead>\n",
       "<tbody>\n",
       "\t<tr><td>2020-03-05</td><td>139698</td><td>6 </td><td>24</td><td>0.2631616</td><td>0</td></tr>\n",
       "\t<tr><td>2020-03-05</td><td>139698</td><td>7 </td><td> 5</td><td>0.2535160</td><td>0</td></tr>\n",
       "\t<tr><td>2020-03-05</td><td>139704</td><td>9 </td><td> 8</td><td>0.3345024</td><td>0</td></tr>\n",
       "\t<tr><td>2020-03-05</td><td>139704</td><td>10</td><td>11</td><td>0.3345024</td><td>0</td></tr>\n",
       "\t<tr><td>2020-03-05</td><td>139708</td><td>6 </td><td> 0</td><td>0.2556453</td><td>0</td></tr>\n",
       "\t<tr><td>2020-03-05</td><td>139708</td><td>7 </td><td>10</td><td>0.2637675</td><td>0</td></tr>\n",
       "</tbody>\n",
       "</table>\n"
      ],
      "text/latex": [
       "A grouped\\_df: 6 × 6\n",
       "\\begin{tabular}{llllll}\n",
       " trip\\_date & trip\\_id & hour & max\\_occupancy & mean\\_temp & mean\\_precip\\\\\n",
       " <date> & <fct> & <fct> & <dbl> & <dbl> & <dbl>\\\\\n",
       "\\hline\n",
       "\t 2020-03-05 & 139698 & 6  & 24 & 0.2631616 & 0\\\\\n",
       "\t 2020-03-05 & 139698 & 7  &  5 & 0.2535160 & 0\\\\\n",
       "\t 2020-03-05 & 139704 & 9  &  8 & 0.3345024 & 0\\\\\n",
       "\t 2020-03-05 & 139704 & 10 & 11 & 0.3345024 & 0\\\\\n",
       "\t 2020-03-05 & 139708 & 6  &  0 & 0.2556453 & 0\\\\\n",
       "\t 2020-03-05 & 139708 & 7  & 10 & 0.2637675 & 0\\\\\n",
       "\\end{tabular}\n"
      ],
      "text/markdown": [
       "\n",
       "A grouped_df: 6 × 6\n",
       "\n",
       "| trip_date &lt;date&gt; | trip_id &lt;fct&gt; | hour &lt;fct&gt; | max_occupancy &lt;dbl&gt; | mean_temp &lt;dbl&gt; | mean_precip &lt;dbl&gt; |\n",
       "|---|---|---|---|---|---|\n",
       "| 2020-03-05 | 139698 | 6  | 24 | 0.2631616 | 0 |\n",
       "| 2020-03-05 | 139698 | 7  |  5 | 0.2535160 | 0 |\n",
       "| 2020-03-05 | 139704 | 9  |  8 | 0.3345024 | 0 |\n",
       "| 2020-03-05 | 139704 | 10 | 11 | 0.3345024 | 0 |\n",
       "| 2020-03-05 | 139708 | 6  |  0 | 0.2556453 | 0 |\n",
       "| 2020-03-05 | 139708 | 7  | 10 | 0.2637675 | 0 |\n",
       "\n"
      ],
      "text/plain": [
       "  trip_date  trip_id hour max_occupancy mean_temp mean_precip\n",
       "1 2020-03-05 139698  6    24            0.2631616 0          \n",
       "2 2020-03-05 139698  7     5            0.2535160 0          \n",
       "3 2020-03-05 139704  9     8            0.3345024 0          \n",
       "4 2020-03-05 139704  10   11            0.3345024 0          \n",
       "5 2020-03-05 139708  6     0            0.2556453 0          \n",
       "6 2020-03-05 139708  7    10            0.2637675 0          "
      ]
     },
     "metadata": {},
     "output_type": "display_data"
    }
   ],
   "source": [
    "Post_Trips_r4_d1 <- carta %>%\n",
    "  filter(trip_date >= '2020-03-05', route_id == '4', direction_id == '1') %>%\n",
    "  group_by(trip_date, trip_id, hour) %>%\n",
    "  mutate(max_occupancy = max(occupancy),\n",
    "         mean_temp = mean(Estimated_Temp),\n",
    "         mean_precip = mean(Estimated_Precip),\n",
    "         max_occupancy = if_else(max_occupancy < 0, 0, max_occupancy),\n",
    "         max_occupancy = if_else(max_occupancy > 32, 32, max_occupancy)) %>%\n",
    "  summarise(max_occupancy, mean_temp, mean_precip)\n",
    "\n",
    "Post_Trips_r4_d1 <- unique(Post_Trips_r4_d1)\n",
    "\n",
    "Post_Trips_r4_d1$trip_id = factor(Post_Trips_r4_d1$trip_id)\n",
    "Post_Trips_r4_d1$hour = factor(Post_Trips_r4_d1$hour)\n",
    "\n",
    "Post_Trips_r4_d1$mean_temp = (Post_Trips_r4_d1$mean_temp - min(Post_Trips_r4_d1$mean_temp))/(max(Post_Trips_r4_d1$mean_temp) - min(Post_Trips_r4_d1$mean_temp))\n",
    "Post_Trips_r4_d1$mean_precip = (Post_Trips_r4_d1$mean_precip - min(Post_Trips_r4_d1$mean_precip))/(max(Post_Trips_r4_d1$mean_precip) - min(Post_Trips_r4_d1$mean_precip))\n",
    "\n",
    "head(Post_Trips_r4_d1)"
   ]
  },
  {
   "cell_type": "code",
   "execution_count": null,
   "id": "24ec675e-7d64-44d9-9306-13c5b30188d9",
   "metadata": {},
   "outputs": [],
   "source": [
    "#write.csv(Post_Trips_r4_d1, 'Post_Trips_r4_d1.csv', row.names = F)"
   ]
  },
  {
   "cell_type": "markdown",
   "id": "6c23973d-914b-4e55-a7e4-1e68f958df5d",
   "metadata": {},
   "source": [
    "# Route 9\n",
    "\n",
    "## Pre-lockdown\n",
    "\n",
    "### Direction 0"
   ]
  },
  {
   "cell_type": "code",
   "execution_count": 14,
   "id": "4b998ef0-5a8d-4155-9d6d-79eb6a86f330",
   "metadata": {},
   "outputs": [
    {
     "name": "stderr",
     "output_type": "stream",
     "text": [
      "`summarise()` has grouped output by 'trip_date', 'trip_id', 'hour'. You can override using the `.groups` argument.\n",
      "\n"
     ]
    },
    {
     "data": {
      "text/html": [
       "<table class=\"dataframe\">\n",
       "<caption>A grouped_df: 6 × 6</caption>\n",
       "<thead>\n",
       "\t<tr><th scope=col>trip_date</th><th scope=col>trip_id</th><th scope=col>hour</th><th scope=col>max_occupancy</th><th scope=col>mean_temp</th><th scope=col>mean_precip</th></tr>\n",
       "\t<tr><th scope=col>&lt;date&gt;</th><th scope=col>&lt;fct&gt;</th><th scope=col>&lt;fct&gt;</th><th scope=col>&lt;dbl&gt;</th><th scope=col>&lt;dbl&gt;</th><th scope=col>&lt;dbl&gt;</th></tr>\n",
       "</thead>\n",
       "<tbody>\n",
       "\t<tr><td>2019-01-02</td><td>134767</td><td>4</td><td>0</td><td>0.3286791</td><td>0</td></tr>\n",
       "\t<tr><td>2019-01-02</td><td>134767</td><td>5</td><td>0</td><td>0.3281117</td><td>0</td></tr>\n",
       "\t<tr><td>2019-01-02</td><td>134768</td><td>5</td><td>1</td><td>0.3281117</td><td>0</td></tr>\n",
       "\t<tr><td>2019-01-02</td><td>134769</td><td>7</td><td>7</td><td>0.3110232</td><td>0</td></tr>\n",
       "\t<tr><td>2019-01-02</td><td>134769</td><td>8</td><td>4</td><td>0.3170004</td><td>0</td></tr>\n",
       "\t<tr><td>2019-01-02</td><td>134770</td><td>8</td><td>3</td><td>0.3272536</td><td>0</td></tr>\n",
       "</tbody>\n",
       "</table>\n"
      ],
      "text/latex": [
       "A grouped\\_df: 6 × 6\n",
       "\\begin{tabular}{llllll}\n",
       " trip\\_date & trip\\_id & hour & max\\_occupancy & mean\\_temp & mean\\_precip\\\\\n",
       " <date> & <fct> & <fct> & <dbl> & <dbl> & <dbl>\\\\\n",
       "\\hline\n",
       "\t 2019-01-02 & 134767 & 4 & 0 & 0.3286791 & 0\\\\\n",
       "\t 2019-01-02 & 134767 & 5 & 0 & 0.3281117 & 0\\\\\n",
       "\t 2019-01-02 & 134768 & 5 & 1 & 0.3281117 & 0\\\\\n",
       "\t 2019-01-02 & 134769 & 7 & 7 & 0.3110232 & 0\\\\\n",
       "\t 2019-01-02 & 134769 & 8 & 4 & 0.3170004 & 0\\\\\n",
       "\t 2019-01-02 & 134770 & 8 & 3 & 0.3272536 & 0\\\\\n",
       "\\end{tabular}\n"
      ],
      "text/markdown": [
       "\n",
       "A grouped_df: 6 × 6\n",
       "\n",
       "| trip_date &lt;date&gt; | trip_id &lt;fct&gt; | hour &lt;fct&gt; | max_occupancy &lt;dbl&gt; | mean_temp &lt;dbl&gt; | mean_precip &lt;dbl&gt; |\n",
       "|---|---|---|---|---|---|\n",
       "| 2019-01-02 | 134767 | 4 | 0 | 0.3286791 | 0 |\n",
       "| 2019-01-02 | 134767 | 5 | 0 | 0.3281117 | 0 |\n",
       "| 2019-01-02 | 134768 | 5 | 1 | 0.3281117 | 0 |\n",
       "| 2019-01-02 | 134769 | 7 | 7 | 0.3110232 | 0 |\n",
       "| 2019-01-02 | 134769 | 8 | 4 | 0.3170004 | 0 |\n",
       "| 2019-01-02 | 134770 | 8 | 3 | 0.3272536 | 0 |\n",
       "\n"
      ],
      "text/plain": [
       "  trip_date  trip_id hour max_occupancy mean_temp mean_precip\n",
       "1 2019-01-02 134767  4    0             0.3286791 0          \n",
       "2 2019-01-02 134767  5    0             0.3281117 0          \n",
       "3 2019-01-02 134768  5    1             0.3281117 0          \n",
       "4 2019-01-02 134769  7    7             0.3110232 0          \n",
       "5 2019-01-02 134769  8    4             0.3170004 0          \n",
       "6 2019-01-02 134770  8    3             0.3272536 0          "
      ]
     },
     "metadata": {},
     "output_type": "display_data"
    }
   ],
   "source": [
    "Pre_Trips_r9_d0 <- carta %>%\n",
    "  filter(trip_date < '2020-03-05', route_id == '9', direction_id == '0') %>%\n",
    "  group_by(trip_date, trip_id, hour) %>%\n",
    "  mutate(max_occupancy = max(occupancy),\n",
    "         mean_temp = mean(Estimated_Temp),\n",
    "         mean_precip = mean(Estimated_Precip),\n",
    "         max_occupancy = if_else(max_occupancy < 0, 0, max_occupancy),\n",
    "         max_occupancy = if_else(max_occupancy > 32, 32, max_occupancy)) %>%\n",
    "  summarise(max_occupancy, mean_temp, mean_precip)\n",
    "\n",
    "Pre_Trips_r9_d0 = unique(Pre_Trips_r9_d0)\n",
    "\n",
    "Pre_Trips_r9_d0$trip_id = factor(Pre_Trips_r9_d0$trip_id)\n",
    "Pre_Trips_r9_d0$hour = factor(Pre_Trips_r9_d0$hour)\n",
    "\n",
    "Pre_Trips_r9_d0$mean_temp = (Pre_Trips_r9_d0$mean_temp - min(Pre_Trips_r9_d0$mean_temp))/(max(Pre_Trips_r9_d0$mean_temp) - min(Pre_Trips_r9_d0$mean_temp))\n",
    "Pre_Trips_r9_d0$mean_precip = (Pre_Trips_r9_d0$mean_precip - min(Pre_Trips_r9_d0$mean_precip))/(max(Pre_Trips_r9_d0$mean_precip) - min(Pre_Trips_r9_d0$mean_precip))\n",
    "\n",
    "head(Pre_Trips_r9_d0)"
   ]
  },
  {
   "cell_type": "code",
   "execution_count": null,
   "id": "4c85b328-46fc-4ddf-9ade-91871593c1f2",
   "metadata": {},
   "outputs": [],
   "source": [
    "write.csv(Pre_Trips_r9_d0, 'Pre_Trips_r9_d0.csv', row.names = F)"
   ]
  },
  {
   "cell_type": "code",
   "execution_count": null,
   "id": "85d601b4-af30-49a0-a3f9-be6de9080a06",
   "metadata": {},
   "outputs": [],
   "source": [
    "### Direction 1"
   ]
  },
  {
   "cell_type": "code",
   "execution_count": 15,
   "id": "4246aabf-bc40-46ba-bdc9-bcb8d67b53dd",
   "metadata": {},
   "outputs": [
    {
     "name": "stderr",
     "output_type": "stream",
     "text": [
      "`summarise()` has grouped output by 'trip_date', 'trip_id', 'hour'. You can override using the `.groups` argument.\n",
      "\n"
     ]
    },
    {
     "data": {
      "text/html": [
       "<table class=\"dataframe\">\n",
       "<caption>A grouped_df: 6 × 6</caption>\n",
       "<thead>\n",
       "\t<tr><th scope=col>trip_date</th><th scope=col>trip_id</th><th scope=col>hour</th><th scope=col>max_occupancy</th><th scope=col>mean_temp</th><th scope=col>mean_precip</th></tr>\n",
       "\t<tr><th scope=col>&lt;date&gt;</th><th scope=col>&lt;fct&gt;</th><th scope=col>&lt;fct&gt;</th><th scope=col>&lt;dbl&gt;</th><th scope=col>&lt;dbl&gt;</th><th scope=col>&lt;dbl&gt;</th></tr>\n",
       "</thead>\n",
       "<tbody>\n",
       "\t<tr><td>2019-01-02</td><td>134796</td><td>5 </td><td>12</td><td>0.3284620</td><td>0</td></tr>\n",
       "\t<tr><td>2019-01-02</td><td>134796</td><td>6 </td><td> 5</td><td>0.3284620</td><td>0</td></tr>\n",
       "\t<tr><td>2019-01-02</td><td>134797</td><td>6 </td><td>10</td><td>0.3208408</td><td>0</td></tr>\n",
       "\t<tr><td>2019-01-02</td><td>134798</td><td>10</td><td> 6</td><td>0.3535623</td><td>0</td></tr>\n",
       "\t<tr><td>2019-01-02</td><td>134799</td><td>11</td><td> 7</td><td>0.3535623</td><td>0</td></tr>\n",
       "\t<tr><td>2019-01-02</td><td>134799</td><td>12</td><td> 5</td><td>0.3535623</td><td>0</td></tr>\n",
       "</tbody>\n",
       "</table>\n"
      ],
      "text/latex": [
       "A grouped\\_df: 6 × 6\n",
       "\\begin{tabular}{llllll}\n",
       " trip\\_date & trip\\_id & hour & max\\_occupancy & mean\\_temp & mean\\_precip\\\\\n",
       " <date> & <fct> & <fct> & <dbl> & <dbl> & <dbl>\\\\\n",
       "\\hline\n",
       "\t 2019-01-02 & 134796 & 5  & 12 & 0.3284620 & 0\\\\\n",
       "\t 2019-01-02 & 134796 & 6  &  5 & 0.3284620 & 0\\\\\n",
       "\t 2019-01-02 & 134797 & 6  & 10 & 0.3208408 & 0\\\\\n",
       "\t 2019-01-02 & 134798 & 10 &  6 & 0.3535623 & 0\\\\\n",
       "\t 2019-01-02 & 134799 & 11 &  7 & 0.3535623 & 0\\\\\n",
       "\t 2019-01-02 & 134799 & 12 &  5 & 0.3535623 & 0\\\\\n",
       "\\end{tabular}\n"
      ],
      "text/markdown": [
       "\n",
       "A grouped_df: 6 × 6\n",
       "\n",
       "| trip_date &lt;date&gt; | trip_id &lt;fct&gt; | hour &lt;fct&gt; | max_occupancy &lt;dbl&gt; | mean_temp &lt;dbl&gt; | mean_precip &lt;dbl&gt; |\n",
       "|---|---|---|---|---|---|\n",
       "| 2019-01-02 | 134796 | 5  | 12 | 0.3284620 | 0 |\n",
       "| 2019-01-02 | 134796 | 6  |  5 | 0.3284620 | 0 |\n",
       "| 2019-01-02 | 134797 | 6  | 10 | 0.3208408 | 0 |\n",
       "| 2019-01-02 | 134798 | 10 |  6 | 0.3535623 | 0 |\n",
       "| 2019-01-02 | 134799 | 11 |  7 | 0.3535623 | 0 |\n",
       "| 2019-01-02 | 134799 | 12 |  5 | 0.3535623 | 0 |\n",
       "\n"
      ],
      "text/plain": [
       "  trip_date  trip_id hour max_occupancy mean_temp mean_precip\n",
       "1 2019-01-02 134796  5    12            0.3284620 0          \n",
       "2 2019-01-02 134796  6     5            0.3284620 0          \n",
       "3 2019-01-02 134797  6    10            0.3208408 0          \n",
       "4 2019-01-02 134798  10    6            0.3535623 0          \n",
       "5 2019-01-02 134799  11    7            0.3535623 0          \n",
       "6 2019-01-02 134799  12    5            0.3535623 0          "
      ]
     },
     "metadata": {},
     "output_type": "display_data"
    }
   ],
   "source": [
    "Pre_Trips_r9_d1 <- carta %>%\n",
    "  filter(trip_date < '2020-03-05', route_id == '9', direction_id == '1') %>%\n",
    "  group_by(trip_date, trip_id, hour) %>%\n",
    "  mutate(max_occupancy = max(occupancy),\n",
    "         mean_temp = mean(Estimated_Temp),\n",
    "         mean_precip = mean(Estimated_Precip),\n",
    "         max_occupancy = if_else(max_occupancy < 0, 0, max_occupancy),\n",
    "         max_occupancy = if_else(max_occupancy > 32, 32, max_occupancy)) %>%\n",
    "  summarise(max_occupancy, mean_temp, mean_precip)\n",
    "\n",
    "Pre_Trips_r9_d1 <- unique(Pre_Trips_r9_d1)\n",
    "\n",
    "Pre_Trips_r9_d1$trip_id = factor(Pre_Trips_r9_d1$trip_id)\n",
    "Pre_Trips_r9_d1$hour = factor(Pre_Trips_r9_d1$hour)\n",
    "\n",
    "Pre_Trips_r9_d1$mean_temp = (Pre_Trips_r9_d1$mean_temp - min(Pre_Trips_r9_d1$mean_temp))/(max(Pre_Trips_r9_d1$mean_temp) - min(Pre_Trips_r9_d1$mean_temp))\n",
    "Pre_Trips_r9_d1$mean_precip = (Pre_Trips_r9_d1$mean_precip - min(Pre_Trips_r9_d1$mean_precip))/(max(Pre_Trips_r9_d1$mean_precip) - min(Pre_Trips_r9_d1$mean_precip))\n",
    "\n",
    "head(Pre_Trips_r9_d1)"
   ]
  },
  {
   "cell_type": "code",
   "execution_count": null,
   "id": "431e082c-39b0-40f5-9ada-ae40f73d0dad",
   "metadata": {},
   "outputs": [],
   "source": [
    "write.csv(Pre_Trips_r9_d1, 'Pre_Trips_r9_d1.csv', row.names = F)"
   ]
  },
  {
   "cell_type": "markdown",
   "id": "c84d1cd5-2dd4-488d-8779-f346058ebb7b",
   "metadata": {},
   "source": [
    "## Post-lockdown\n",
    "\n",
    "### Direction 0"
   ]
  },
  {
   "cell_type": "code",
   "execution_count": null,
   "id": "58da9673-025b-4869-b6a1-bea7f0dc60b3",
   "metadata": {},
   "outputs": [],
   "source": [
    "Post_Trips_r9_d0 <- carta_r9 %>%\n",
    "  filter(trip_date >= '2020-03-05', direction_id == 0) %>%\n",
    "  group_by(trip_date, trip_id, hour) %>%\n",
    "  mutate(max_occupancy = max(occupancy),\n",
    "         mean_temp = mean(Estimated_Temp),\n",
    "         mean_precip = mean(Estimated_Precip),\n",
    "         max_occupancy = if_else(max_occupancy < 0, 0, max_occupancy),\n",
    "         max_occupancy = if_else(max_occupancy > 32, 32, max_occupancy)) %>%\n",
    "  summarise(max_occupancy, mean_temp, mean_precip)\n",
    "\n",
    "Post_Trips_r9_d0 <- unique(Post_Trips_r9_d0)\n",
    "\n",
    "Post_Trips_r9_d0$trip_id = factor(Post_Trips_r9_d0$trip_id)\n",
    "Post_Trips_r9_d0$hour = factor(Post_Trips_r9_d0$hour)\n",
    "\n",
    "Post_Trips_r9_d0$mean_temp = (Post_Trips_r9_d0$mean_temp - min(Post_Trips_r9_d0$mean_temp))/(max(Post_Trips_r9_d0$mean_temp) - min(Post_Trips_r9_d0$mean_temp))\n",
    "Post_Trips_r9_d0$mean_precip = (Post_Trips_r9_d0$mean_precip - min(Post_Trips_r9_d0$mean_precip))/(max(Post_Trips_r9_d0$mean_precip) - min(Post_Trips_r9_d0$mean_precip))\n",
    "\n",
    "head(Post_Trips_r9_d0)"
   ]
  },
  {
   "cell_type": "code",
   "execution_count": null,
   "id": "02ea50df-19ba-4d39-8e04-6d160ac99944",
   "metadata": {},
   "outputs": [],
   "source": [
    "#write.csv(Post_Trips_r9_d0, 'Post_Trips_r9_d0.csv', row.names = F)"
   ]
  },
  {
   "cell_type": "markdown",
   "id": "4a7ea2bb-29c8-439a-8153-08c29098f6d0",
   "metadata": {},
   "source": [
    "### Direction 1"
   ]
  },
  {
   "cell_type": "code",
   "execution_count": 17,
   "id": "ea9d02f9-b97b-4c6b-9150-4c3c8d53390d",
   "metadata": {},
   "outputs": [
    {
     "name": "stderr",
     "output_type": "stream",
     "text": [
      "`summarise()` has grouped output by 'trip_date', 'trip_id', 'hour'. You can override using the `.groups` argument.\n",
      "\n"
     ]
    },
    {
     "data": {
      "text/html": [
       "<table class=\"dataframe\">\n",
       "<caption>A grouped_df: 6 × 6</caption>\n",
       "<thead>\n",
       "\t<tr><th scope=col>trip_date</th><th scope=col>trip_id</th><th scope=col>hour</th><th scope=col>max_occupancy</th><th scope=col>mean_temp</th><th scope=col>mean_precip</th></tr>\n",
       "\t<tr><th scope=col>&lt;date&gt;</th><th scope=col>&lt;fct&gt;</th><th scope=col>&lt;fct&gt;</th><th scope=col>&lt;dbl&gt;</th><th scope=col>&lt;dbl&gt;</th><th scope=col>&lt;dbl&gt;</th></tr>\n",
       "</thead>\n",
       "<tbody>\n",
       "\t<tr><td>2020-03-05</td><td>138383</td><td>5</td><td>4</td><td>0.2906203</td><td>0</td></tr>\n",
       "\t<tr><td>2020-03-05</td><td>138383</td><td>6</td><td>4</td><td>0.2873011</td><td>0</td></tr>\n",
       "\t<tr><td>2020-03-05</td><td>138385</td><td>6</td><td>5</td><td>0.2757920</td><td>0</td></tr>\n",
       "\t<tr><td>2020-03-05</td><td>138385</td><td>7</td><td>5</td><td>0.2711697</td><td>0</td></tr>\n",
       "\t<tr><td>2020-03-05</td><td>138387</td><td>7</td><td>5</td><td>0.2782163</td><td>0</td></tr>\n",
       "\t<tr><td>2020-03-05</td><td>138389</td><td>8</td><td>6</td><td>0.2989043</td><td>0</td></tr>\n",
       "</tbody>\n",
       "</table>\n"
      ],
      "text/latex": [
       "A grouped\\_df: 6 × 6\n",
       "\\begin{tabular}{llllll}\n",
       " trip\\_date & trip\\_id & hour & max\\_occupancy & mean\\_temp & mean\\_precip\\\\\n",
       " <date> & <fct> & <fct> & <dbl> & <dbl> & <dbl>\\\\\n",
       "\\hline\n",
       "\t 2020-03-05 & 138383 & 5 & 4 & 0.2906203 & 0\\\\\n",
       "\t 2020-03-05 & 138383 & 6 & 4 & 0.2873011 & 0\\\\\n",
       "\t 2020-03-05 & 138385 & 6 & 5 & 0.2757920 & 0\\\\\n",
       "\t 2020-03-05 & 138385 & 7 & 5 & 0.2711697 & 0\\\\\n",
       "\t 2020-03-05 & 138387 & 7 & 5 & 0.2782163 & 0\\\\\n",
       "\t 2020-03-05 & 138389 & 8 & 6 & 0.2989043 & 0\\\\\n",
       "\\end{tabular}\n"
      ],
      "text/markdown": [
       "\n",
       "A grouped_df: 6 × 6\n",
       "\n",
       "| trip_date &lt;date&gt; | trip_id &lt;fct&gt; | hour &lt;fct&gt; | max_occupancy &lt;dbl&gt; | mean_temp &lt;dbl&gt; | mean_precip &lt;dbl&gt; |\n",
       "|---|---|---|---|---|---|\n",
       "| 2020-03-05 | 138383 | 5 | 4 | 0.2906203 | 0 |\n",
       "| 2020-03-05 | 138383 | 6 | 4 | 0.2873011 | 0 |\n",
       "| 2020-03-05 | 138385 | 6 | 5 | 0.2757920 | 0 |\n",
       "| 2020-03-05 | 138385 | 7 | 5 | 0.2711697 | 0 |\n",
       "| 2020-03-05 | 138387 | 7 | 5 | 0.2782163 | 0 |\n",
       "| 2020-03-05 | 138389 | 8 | 6 | 0.2989043 | 0 |\n",
       "\n"
      ],
      "text/plain": [
       "  trip_date  trip_id hour max_occupancy mean_temp mean_precip\n",
       "1 2020-03-05 138383  5    4             0.2906203 0          \n",
       "2 2020-03-05 138383  6    4             0.2873011 0          \n",
       "3 2020-03-05 138385  6    5             0.2757920 0          \n",
       "4 2020-03-05 138385  7    5             0.2711697 0          \n",
       "5 2020-03-05 138387  7    5             0.2782163 0          \n",
       "6 2020-03-05 138389  8    6             0.2989043 0          "
      ]
     },
     "metadata": {},
     "output_type": "display_data"
    }
   ],
   "source": [
    "Post_Trips_r9_d1 <- carta %>%\n",
    "  filter(trip_date >= '2020-03-05', route_id == '1', direction_id == '1') %>%\n",
    "  group_by(trip_date, trip_id, hour) %>%\n",
    "  mutate(max_occupancy = max(occupancy),\n",
    "         mean_temp = mean(Estimated_Temp),\n",
    "         mean_precip = mean(Estimated_Precip),\n",
    "         max_occupancy = if_else(max_occupancy < 0, 0, max_occupancy),\n",
    "         max_occupancy = if_else(max_occupancy > 32, 32, max_occupancy)) %>%\n",
    "  summarise(max_occupancy, mean_temp, mean_precip)\n",
    "\n",
    "Post_Trips_r9_d1 <- unique(Post_Trips_r9_d1)\n",
    "\n",
    "Post_Trips_r9_d1$trip_id = factor(Post_Trips_r9_d1$trip_id)\n",
    "Post_Trips_r9_d1$hour = factor(Post_Trips_r9_d1$hour)\n",
    "\n",
    "Post_Trips_r9_d1$mean_temp = (Post_Trips_r9_d1$mean_temp - min(Post_Trips_r9_d1$mean_temp))/(max(Post_Trips_r9_d1$mean_temp) - min(Post_Trips_r9_d1$mean_temp))\n",
    "Post_Trips_r9_d1$mean_precip = (Post_Trips_r9_d1$mean_precip - min(Post_Trips_r9_d1$mean_precip))/(max(Post_Trips_r9_d1$mean_precip) - min(Post_Trips_r9_d1$mean_precip))\n",
    "\n",
    "head(Post_Trips_r9_d1)"
   ]
  },
  {
   "cell_type": "code",
   "execution_count": null,
   "id": "698eb472-18bd-43f4-acb9-57ecfa35d927",
   "metadata": {},
   "outputs": [],
   "source": [
    "#write.csv(Post_Trips_r9_d1, 'Post_Trips_r9_d1.csv', row.names = F)"
   ]
  }
 ],
 "metadata": {
  "kernelspec": {
   "display_name": "R",
   "language": "R",
   "name": "ir"
  },
  "language_info": {
   "codemirror_mode": "r",
   "file_extension": ".r",
   "mimetype": "text/x-r-source",
   "name": "R",
   "pygments_lexer": "r",
   "version": "4.1.0"
  }
 },
 "nbformat": 4,
 "nbformat_minor": 5
}
