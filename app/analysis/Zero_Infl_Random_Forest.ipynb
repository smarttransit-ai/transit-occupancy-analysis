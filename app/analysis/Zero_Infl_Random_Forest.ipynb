{
 "cells": [
  {
   "cell_type": "markdown",
   "id": "constitutional-decline",
   "metadata": {},
   "source": [
    "# PySpark"
   ]
  },
  {
   "cell_type": "code",
   "execution_count": 1,
   "id": "adverse-pencil",
   "metadata": {},
   "outputs": [],
   "source": [
    "from pyspark.sql import SparkSession\n",
    "from pyspark import SparkContext,SparkConf\n",
    "from pyspark.sql import SQLContext\n",
    "from pyspark.sql import Row\n",
    "from pyspark.sql.functions import desc, row_number, monotonically_increasing_id\n",
    "from pyspark.sql.window import Window\n",
    "from pyspark.sql.functions import UserDefinedFunction,isnan, when, count, col, isnull,month, hour,year,minute,second,lower,lit,dayofweek, to_timestamp, to_date, monotonically_increasing_id, row_number\n",
    "from pyspark.sql.types import TimestampType, DateType,DoubleType,FloatType,IntegerType, StringType, StructType, StructField\n",
    "from pyspark.sql import DataFrame\n",
    "from functools import reduce\n",
    "from pyspark.sql import functions as F\n",
    "import pandas as pd\n",
    "import sparkpickle\n",
    "import timeit\n",
    "from sklearn.metrics import confusion_matrix\n",
    "from pyspark.sql.functions import to_date, udf\n",
    "import dateparser\n",
    "import json\n",
    "from pyspark.ml import Pipeline\n",
    "from pyspark.ml.feature import VectorAssembler, StringIndexer, OneHotEncoder\n",
    "from pyspark.ml.regression import RandomForestRegressor\n",
    "from pyspark.ml.classification import RandomForestClassifier\n",
    "from pyspark.ml.evaluation import RegressionEvaluator\n",
    "from pyspark.ml.tuning import ParamGridBuilder, CrossValidator\n",
    "from pyspark.ml.evaluation import BinaryClassificationEvaluator\n",
    "from pyspark.mllib.evaluation import BinaryClassificationMetrics\n",
    "from pyspark.ml.feature import HashingTF, Tokenizer\n",
    "import matplotlib.pyplot as plt\n",
    "import numpy as np"
   ]
  },
  {
   "cell_type": "code",
   "execution_count": 2,
   "id": "prompt-blake",
   "metadata": {},
   "outputs": [],
   "source": [
    "sc = SparkContext(\"local[*]\", \"Random Forest Models\")\n",
    "spark = SparkSession(sc)"
   ]
  },
  {
   "cell_type": "markdown",
   "id": "reported-disposition",
   "metadata": {},
   "source": [
    "# Filtered and preprocessed data"
   ]
  },
  {
   "cell_type": "code",
   "execution_count": 8,
   "id": "answering-malaysia",
   "metadata": {},
   "outputs": [],
   "source": [
    "board_count_route4_dir1_stop12 = spark.read.csv('Data_for_RF_Models/Board_Counts/route_4/direction1/bus_stop_12/data.csv', header = True, inferSchema = True)\n",
    "#board_count_route4_dir1_stop12 = pickle.load('Data_rf/board_count/direction1/route4/board_count_route4_dir1_stop12.pkl', header = True, inferSchema = True)"
   ]
  },
  {
   "cell_type": "code",
   "execution_count": 4,
   "id": "public-miracle",
   "metadata": {},
   "outputs": [
    {
     "name": "stdout",
     "output_type": "stream",
     "text": [
      "+---+-----+------------+----+-----------+--------------------+-------------------+-------------------------+-----------------------+\n",
      "|_c0|month|service_kind|hour|board_count|           mean_temp|        mean_precip|month_average_board_count|surrounding_board_count|\n",
      "+---+-----+------------+----+-----------+--------------------+-------------------+-------------------------+-----------------------+\n",
      "|  0|    1|     weekday|   9|          0| 0.03389830508474576|0.02448210922787194|        5.559446327683614|     0.6160409556313993|\n",
      "|  1|    1|     weekday|  10|          1|                0.05|0.05777777777777778|        7.511078518518519|     0.6628744785741373|\n",
      "|  2|    1|     weekday|  13|          0|0.024509803921568627|0.04139433551198257|       10.161692810457515|     0.7853621539628365|\n",
      "|  3|    1|     weekday|  14|          0| 0.03865979381443299|0.10309278350515465|       10.629673539518901|     0.8134133006395176|\n",
      "|  4|    1|     weekday|  15|          0|0.047872340425531915|0.09456264775413711|        9.761633569739953|     0.7193899317406143|\n",
      "+---+-----+------------+----+-----------+--------------------+-------------------+-------------------------+-----------------------+\n",
      "only showing top 5 rows\n",
      "\n"
     ]
    }
   ],
   "source": [
    "board_count_route4_dir1_stop12.show(5)"
   ]
  },
  {
   "cell_type": "code",
   "execution_count": 5,
   "id": "vertical-kennedy",
   "metadata": {},
   "outputs": [],
   "source": [
    "board_count_route4_dir1_stop12 = board_count_route4_dir1_stop12.withColumnRenamed('_c0', 'index')\n",
    "board_count_route4_dir1_stop12 = board_count_route4_dir1_stop12.withColumnRenamed('board_count', 'label')"
   ]
  },
  {
   "cell_type": "code",
   "execution_count": 6,
   "id": "indian-storm",
   "metadata": {},
   "outputs": [
    {
     "name": "stdout",
     "output_type": "stream",
     "text": [
      "root\n",
      " |-- index: integer (nullable = true)\n",
      " |-- month: integer (nullable = true)\n",
      " |-- service_kind: string (nullable = true)\n",
      " |-- hour: integer (nullable = true)\n",
      " |-- label: integer (nullable = true)\n",
      " |-- mean_temp: double (nullable = true)\n",
      " |-- mean_precip: double (nullable = true)\n",
      " |-- month_average_board_count: double (nullable = true)\n",
      " |-- surrounding_board_count: double (nullable = true)\n",
      "\n"
     ]
    }
   ],
   "source": [
    "board_count_route4_dir1_stop12.printSchema()"
   ]
  },
  {
   "cell_type": "code",
   "execution_count": 7,
   "id": "nasty-style",
   "metadata": {},
   "outputs": [
    {
     "name": "stdout",
     "output_type": "stream",
     "text": [
      "1397 9\n"
     ]
    }
   ],
   "source": [
    "print(board_count_route4_dir1_stop12.count(), len(board_count_route4_dir1_stop12.columns))"
   ]
  },
  {
   "cell_type": "code",
   "execution_count": 8,
   "id": "cubic-moisture",
   "metadata": {},
   "outputs": [],
   "source": [
    "month_ind = StringIndexer().setInputCol('month').setOutputCol('Months')\n",
    "hour_ind = StringIndexer().setInputCol('hour').setOutputCol('Hours')\n",
    "serv_ind = StringIndexer().setInputCol('service_kind').setOutputCol('Serv_kinds')"
   ]
  },
  {
   "cell_type": "code",
   "execution_count": 9,
   "id": "broken-irish",
   "metadata": {},
   "outputs": [],
   "source": [
    "board_count_route4_dir1_stop12 = month_ind.fit(board_count_route4_dir1_stop12).transform(board_count_route4_dir1_stop12)\n",
    "board_count_route4_dir1_stop12 = hour_ind.fit(board_count_route4_dir1_stop12).transform(board_count_route4_dir1_stop12)\n",
    "board_count_route4_dir1_stop12 = serv_ind.fit(board_count_route4_dir1_stop12).transform(board_count_route4_dir1_stop12)"
   ]
  },
  {
   "cell_type": "code",
   "execution_count": 10,
   "id": "unlikely-cardiff",
   "metadata": {},
   "outputs": [],
   "source": [
    "board_count_route4_dir1_stop12 = board_count_route4_dir1_stop12.drop('month')\n",
    "board_count_route4_dir1_stop12 = board_count_route4_dir1_stop12.drop('hour')\n",
    "board_count_route4_dir1_stop12 = board_count_route4_dir1_stop12.drop('service_kind')"
   ]
  },
  {
   "cell_type": "code",
   "execution_count": 11,
   "id": "manual-museum",
   "metadata": {},
   "outputs": [
    {
     "name": "stdout",
     "output_type": "stream",
     "text": [
      "+-----+-----+--------------------+-------------------+-------------------------+-----------------------+------+-----+----------+\n",
      "|index|label|           mean_temp|        mean_precip|month_average_board_count|surrounding_board_count|Months|Hours|Serv_kinds|\n",
      "+-----+-----+--------------------+-------------------+-------------------------+-----------------------+------+-----+----------+\n",
      "|    0|    0| 0.03389830508474576|0.02448210922787194|        5.559446327683614|     0.6160409556313993|   1.0| 10.0|       0.0|\n",
      "|    1|    1|                0.05|0.05777777777777778|        7.511078518518519|     0.6628744785741373|   1.0|  3.0|       0.0|\n",
      "|    2|    0|0.024509803921568627|0.04139433551198257|       10.161692810457515|     0.7853621539628365|   1.0|  2.0|       0.0|\n",
      "|    3|    0| 0.03865979381443299|0.10309278350515465|       10.629673539518901|     0.8134133006395176|   1.0|  0.0|       0.0|\n",
      "|    4|    0|0.047872340425531915|0.09456264775413711|        9.761633569739953|     0.7193899317406143|   1.0|  1.0|       0.0|\n",
      "+-----+-----+--------------------+-------------------+-------------------------+-----------------------+------+-----+----------+\n",
      "only showing top 5 rows\n",
      "\n"
     ]
    }
   ],
   "source": [
    "board_count_route4_dir1_stop12.show(5)"
   ]
  },
  {
   "cell_type": "code",
   "execution_count": 12,
   "id": "middle-salad",
   "metadata": {},
   "outputs": [
    {
     "name": "stdout",
     "output_type": "stream",
     "text": [
      "root\n",
      " |-- index: integer (nullable = true)\n",
      " |-- label: integer (nullable = true)\n",
      " |-- mean_temp: double (nullable = true)\n",
      " |-- mean_precip: double (nullable = true)\n",
      " |-- month_average_board_count: double (nullable = true)\n",
      " |-- surrounding_board_count: double (nullable = true)\n",
      " |-- Months: double (nullable = false)\n",
      " |-- Hours: double (nullable = false)\n",
      " |-- Serv_kinds: double (nullable = false)\n",
      "\n"
     ]
    }
   ],
   "source": [
    "board_count_route4_dir1_stop12.printSchema()"
   ]
  },
  {
   "cell_type": "markdown",
   "id": "liquid-wyoming",
   "metadata": {},
   "source": [
    "## Encoding Categorical Variables"
   ]
  },
  {
   "cell_type": "code",
   "execution_count": 13,
   "id": "representative-visitor",
   "metadata": {},
   "outputs": [],
   "source": [
    "encoder = OneHotEncoder(inputCols = ['Months', 'Hours', 'Serv_kinds'], outputCols = ['Months_Cat', 'Hours_Cat', 'Serv_kinds_Cat'])"
   ]
  },
  {
   "cell_type": "code",
   "execution_count": 14,
   "id": "japanese-firewall",
   "metadata": {},
   "outputs": [
    {
     "name": "stdout",
     "output_type": "stream",
     "text": [
      "+-----+-----+--------------------+-------------------+-------------------------+-----------------------+--------------+---------------+--------------+\n",
      "|index|label|           mean_temp|        mean_precip|month_average_board_count|surrounding_board_count|    Months_Cat|      Hours_Cat|Serv_kinds_Cat|\n",
      "+-----+-----+--------------------+-------------------+-------------------------+-----------------------+--------------+---------------+--------------+\n",
      "|    0|    0| 0.03389830508474576|0.02448210922787194|        5.559446327683614|     0.6160409556313993|(11,[1],[1.0])|(17,[10],[1.0])| (1,[0],[1.0])|\n",
      "|    1|    1|                0.05|0.05777777777777778|        7.511078518518519|     0.6628744785741373|(11,[1],[1.0])| (17,[3],[1.0])| (1,[0],[1.0])|\n",
      "|    2|    0|0.024509803921568627|0.04139433551198257|       10.161692810457515|     0.7853621539628365|(11,[1],[1.0])| (17,[2],[1.0])| (1,[0],[1.0])|\n",
      "|    3|    0| 0.03865979381443299|0.10309278350515465|       10.629673539518901|     0.8134133006395176|(11,[1],[1.0])| (17,[0],[1.0])| (1,[0],[1.0])|\n",
      "|    4|    0|0.047872340425531915|0.09456264775413711|        9.761633569739953|     0.7193899317406143|(11,[1],[1.0])| (17,[1],[1.0])| (1,[0],[1.0])|\n",
      "+-----+-----+--------------------+-------------------+-------------------------+-----------------------+--------------+---------------+--------------+\n",
      "only showing top 5 rows\n",
      "\n"
     ]
    }
   ],
   "source": [
    "model = encoder.fit(board_count_route4_dir1_stop12)\n",
    "dt = model.transform(board_count_route4_dir1_stop12)\n",
    "dt = dt.drop('Months')\n",
    "dt = dt.drop('Hours')\n",
    "dt = dt.drop('Serv_kinds')\n",
    "dt.show(5)"
   ]
  },
  {
   "cell_type": "markdown",
   "id": "municipal-pacific",
   "metadata": {},
   "source": [
    "## Random Partition into Training and Test Sets"
   ]
  },
  {
   "cell_type": "code",
   "execution_count": 15,
   "id": "threatened-hungary",
   "metadata": {},
   "outputs": [],
   "source": [
    "(trainingData, ValidationSet) = dt.randomSplit([0.8, 0.2], seed = 123)"
   ]
  },
  {
   "cell_type": "code",
   "execution_count": 16,
   "id": "arranged-welding",
   "metadata": {},
   "outputs": [
    {
     "name": "stdout",
     "output_type": "stream",
     "text": [
      "+-----+-----+--------------------+--------------------+-------------------------+-----------------------+--------------+---------------+--------------+\n",
      "|index|label|           mean_temp|         mean_precip|month_average_board_count|surrounding_board_count|    Months_Cat|      Hours_Cat|Serv_kinds_Cat|\n",
      "+-----+-----+--------------------+--------------------+-------------------------+-----------------------+--------------+---------------+--------------+\n",
      "|    0|    0| 0.03389830508474576| 0.02448210922787194|        5.559446327683614|     0.6160409556313993|(11,[1],[1.0])|(17,[10],[1.0])| (1,[0],[1.0])|\n",
      "|    1|    1|                0.05| 0.05777777777777778|        7.511078518518519|     0.6628744785741373|(11,[1],[1.0])| (17,[3],[1.0])| (1,[0],[1.0])|\n",
      "|    3|    0| 0.03865979381443299| 0.10309278350515465|       10.629673539518901|     0.8134133006395176|(11,[1],[1.0])| (17,[0],[1.0])| (1,[0],[1.0])|\n",
      "|    4|    0|0.047872340425531915| 0.09456264775413711|        9.761633569739953|     0.7193899317406143|(11,[1],[1.0])| (17,[1],[1.0])| (1,[0],[1.0])|\n",
      "|    5|    1|0.047872340425531915| 0.09456264775413711|        9.761633569739953|     0.7193899317406143|(11,[1],[1.0])| (17,[1],[1.0])| (1,[0],[1.0])|\n",
      "|    7|    0| 0.02631578947368421|  0.1111111111111111|        8.414438596491227|     0.7736177474402729|(11,[1],[1.0])| (17,[9],[1.0])| (1,[0],[1.0])|\n",
      "|    8|    0|0.059322033898305086| 0.06214689265536723|        8.939740112994354|                    1.0|(11,[1],[1.0])| (17,[4],[1.0])| (1,[0],[1.0])|\n",
      "|    9|    0|0.013157894736842105| 0.03898635477582846|       7.9787231968810906|     0.8118114658487061|(11,[1],[1.0])| (17,[8],[1.0])| (1,[0],[1.0])|\n",
      "|   10|    0|0.010416666666666666|0.013888888888888888|        7.127728009259261|     0.6281996587030716|(11,[1],[1.0])|(17,[12],[1.0])| (1,[0],[1.0])|\n",
      "|   11|    0| 0.03389830508474576| 0.02448210922787194|        5.559446327683614|     0.6160409556313993|(11,[1],[1.0])|(17,[10],[1.0])| (1,[0],[1.0])|\n",
      "|   14|    1|0.024509803921568627| 0.04139433551198257|       10.161692810457515|     0.7853621539628365|(11,[1],[1.0])| (17,[2],[1.0])| (1,[0],[1.0])|\n",
      "|   15|    1|0.047872340425531915| 0.09456264775413711|        9.761633569739953|     0.7193899317406143|(11,[1],[1.0])| (17,[1],[1.0])| (1,[0],[1.0])|\n",
      "|   16|    0| 0.03571428571428571| 0.05555555555555555|        9.854607142857143|     0.8909333729039915|(11,[1],[1.0])| (17,[5],[1.0])| (1,[0],[1.0])|\n",
      "|   17|    0|                 0.0| 0.03831417624521073|         6.24607183908046|      0.429388432801402|(11,[1],[1.0])|(17,[13],[1.0])| (1,[0],[1.0])|\n",
      "|   19|    0|0.057692307692307696| 0.10256410256410257|        6.926743589743589|     0.8689419795221842|(11,[1],[1.0])|(17,[11],[1.0])| (1,[0],[1.0])|\n",
      "|   20|    1| 0.03865979381443299| 0.10309278350515465|       10.629673539518901|     0.8134133006395176|(11,[1],[1.0])| (17,[0],[1.0])| (1,[0],[1.0])|\n",
      "|   21|    1| 0.03865979381443299| 0.10309278350515465|       10.629673539518901|     0.8134133006395176|(11,[1],[1.0])| (17,[0],[1.0])| (1,[0],[1.0])|\n",
      "|   22|    0|0.047872340425531915| 0.09456264775413711|        9.761633569739953|     0.7193899317406143|(11,[1],[1.0])| (17,[1],[1.0])| (1,[0],[1.0])|\n",
      "|   24|    0| 0.03571428571428571| 0.05555555555555555|        9.854607142857143|     0.8909333729039915|(11,[1],[1.0])| (17,[5],[1.0])| (1,[0],[1.0])|\n",
      "|   25|    2|0.059322033898305086| 0.06214689265536723|        8.939740112994354|                    1.0|(11,[1],[1.0])| (17,[4],[1.0])| (1,[0],[1.0])|\n",
      "+-----+-----+--------------------+--------------------+-------------------------+-----------------------+--------------+---------------+--------------+\n",
      "only showing top 20 rows\n",
      "\n"
     ]
    }
   ],
   "source": [
    "trainingData.show()"
   ]
  },
  {
   "cell_type": "code",
   "execution_count": 17,
   "id": "brazilian-complex",
   "metadata": {},
   "outputs": [
    {
     "name": "stdout",
     "output_type": "stream",
     "text": [
      "+-----+-----+--------------------+--------------------+-------------------------+-----------------------+--------------+---------------+--------------+\n",
      "|index|label|           mean_temp|         mean_precip|month_average_board_count|surrounding_board_count|    Months_Cat|      Hours_Cat|Serv_kinds_Cat|\n",
      "+-----+-----+--------------------+--------------------+-------------------------+-----------------------+--------------+---------------+--------------+\n",
      "|    2|    0|0.024509803921568627| 0.04139433551198257|       10.161692810457515|     0.7853621539628365|(11,[1],[1.0])| (17,[2],[1.0])| (1,[0],[1.0])|\n",
      "|    6|    0|0.047872340425531915| 0.09456264775413711|        9.761633569739953|     0.7193899317406143|(11,[1],[1.0])| (17,[1],[1.0])| (1,[0],[1.0])|\n",
      "|   12|    0|                0.05| 0.05777777777777778|        7.511078518518519|     0.6628744785741373|(11,[1],[1.0])| (17,[3],[1.0])| (1,[0],[1.0])|\n",
      "|   13|    2|                0.05| 0.05777777777777778|        7.511078518518519|     0.6628744785741373|(11,[1],[1.0])| (17,[3],[1.0])| (1,[0],[1.0])|\n",
      "|   18|    3|                0.05| 0.05777777777777778|        7.511078518518519|     0.6628744785741373|(11,[1],[1.0])| (17,[3],[1.0])| (1,[0],[1.0])|\n",
      "|   23|    0| 0.02631578947368421|  0.1111111111111111|        8.414438596491227|     0.7736177474402729|(11,[1],[1.0])| (17,[9],[1.0])| (1,[0],[1.0])|\n",
      "|   29|    1|  0.2608695652173913| 0.08212560386473429|       11.566799516908214|    0.49401179025752395|(11,[1],[1.0])| (17,[1],[1.0])|     (1,[],[])|\n",
      "|   30|    0|  0.2608695652173913| 0.08212560386473429|       11.566799516908214|    0.49401179025752395|(11,[1],[1.0])| (17,[1],[1.0])|     (1,[],[])|\n",
      "|   33|    0|                 0.0|0.020202020202020204|        7.435444444444445|     0.4589131005513258|(11,[1],[1.0])|(17,[12],[1.0])|     (1,[],[])|\n",
      "|   34|    4|  0.4583333333333333| 0.12962962962962965|        7.107856481481481|     0.5396148220380301|(11,[1],[1.0])| (17,[6],[1.0])|     (1,[],[])|\n",
      "|   35|    0|                 0.0| 0.07936507936507936|        8.025269841269841|     0.5349829351535835|(11,[1],[1.0])|(17,[11],[1.0])|     (1,[],[])|\n",
      "|   38|    1|           0.2109375| 0.03819444444444445|       10.294858506944442|     0.5886838737201364|(11,[1],[1.0])| (17,[0],[1.0])|     (1,[],[])|\n",
      "|   40|    0|                 0.0|                 0.0|        9.430305555555556|     0.7133105802047781|(11,[1],[1.0])| (17,[7],[1.0])|     (1,[],[])|\n",
      "|   47|    2| 0.03389830508474576| 0.02448210922787194|        5.559446327683614|     0.6160409556313993|(11,[1],[1.0])|(17,[10],[1.0])| (1,[0],[1.0])|\n",
      "|   55|    0|0.057692307692307696| 0.10256410256410257|        6.926743589743589|     0.8689419795221842|(11,[1],[1.0])|(17,[11],[1.0])| (1,[0],[1.0])|\n",
      "|   61|    1|           0.2109375| 0.03819444444444445|       10.294858506944442|     0.5886838737201364|(11,[1],[1.0])| (17,[0],[1.0])|     (1,[],[])|\n",
      "|   77|    0|0.059322033898305086| 0.06214689265536723|        8.939740112994354|                    1.0|(11,[1],[1.0])| (17,[4],[1.0])| (1,[0],[1.0])|\n",
      "|   80|    0|0.057692307692307696| 0.10256410256410257|        6.926743589743589|     0.8689419795221842|(11,[1],[1.0])|(17,[11],[1.0])| (1,[0],[1.0])|\n",
      "|   85|    2|0.013157894736842105| 0.03898635477582846|       7.9787231968810906|     0.8118114658487061|(11,[1],[1.0])| (17,[8],[1.0])| (1,[0],[1.0])|\n",
      "|   95|    0| 0.03571428571428571| 0.05555555555555555|        9.854607142857143|     0.8909333729039915|(11,[1],[1.0])| (17,[5],[1.0])| (1,[0],[1.0])|\n",
      "+-----+-----+--------------------+--------------------+-------------------------+-----------------------+--------------+---------------+--------------+\n",
      "only showing top 20 rows\n",
      "\n"
     ]
    }
   ],
   "source": [
    "ValidationSet.show()"
   ]
  },
  {
   "cell_type": "markdown",
   "id": "formal-narrow",
   "metadata": {},
   "source": [
    "### Data for Classification"
   ]
  },
  {
   "cell_type": "code",
   "execution_count": 107,
   "id": "casual-expression",
   "metadata": {},
   "outputs": [],
   "source": [
    "trainingData_clf = trainingData.withColumn('label', when(trainingData.label > 0, 1) \\\n",
    "                                           .otherwise(0))"
   ]
  },
  {
   "cell_type": "code",
   "execution_count": 108,
   "id": "respected-franchise",
   "metadata": {},
   "outputs": [],
   "source": [
    "label_ind = StringIndexer().setInputCol('label').setOutputCol('Label')"
   ]
  },
  {
   "cell_type": "code",
   "execution_count": 109,
   "id": "taken-stationery",
   "metadata": {},
   "outputs": [],
   "source": [
    "trainingData_clf = label_ind.fit(trainingData_clf).transform(trainingData_clf)"
   ]
  },
  {
   "cell_type": "code",
   "execution_count": 110,
   "id": "thrown-leadership",
   "metadata": {},
   "outputs": [],
   "source": [
    "trainingData_clf = trainingData_clf.withColumnRenamed('Label', 'label')"
   ]
  },
  {
   "cell_type": "code",
   "execution_count": 63,
   "id": "celtic-exercise",
   "metadata": {},
   "outputs": [],
   "source": [
    "#encoder = OneHotEncoder(inputCols = ['Label'], outputCols = ['Labels'])"
   ]
  },
  {
   "cell_type": "code",
   "execution_count": 93,
   "id": "under-burden",
   "metadata": {},
   "outputs": [],
   "source": [
    "#model_clf = encoder.fit(trainingData_clf)\n",
    "#trainingData_clf = model_clf.transform(trainingData_clf)"
   ]
  },
  {
   "cell_type": "code",
   "execution_count": 68,
   "id": "pressed-lease",
   "metadata": {},
   "outputs": [],
   "source": [
    "#trainingData_clf = trainingData_clf.drop('Label')"
   ]
  },
  {
   "cell_type": "code",
   "execution_count": 111,
   "id": "instant-wallet",
   "metadata": {},
   "outputs": [
    {
     "name": "stdout",
     "output_type": "stream",
     "text": [
      "+-----+-----+--------------------+-------------------+-------------------------+-----------------------+--------------+---------------+--------------+\n",
      "|index|label|           mean_temp|        mean_precip|month_average_board_count|surrounding_board_count|    Months_Cat|      Hours_Cat|Serv_kinds_Cat|\n",
      "+-----+-----+--------------------+-------------------+-------------------------+-----------------------+--------------+---------------+--------------+\n",
      "|    0|  0.0| 0.03389830508474576|0.02448210922787194|        5.559446327683614|     0.6160409556313993|(11,[1],[1.0])|(17,[10],[1.0])| (1,[0],[1.0])|\n",
      "|    1|  1.0|                0.05|0.05777777777777778|        7.511078518518519|     0.6628744785741373|(11,[1],[1.0])| (17,[3],[1.0])| (1,[0],[1.0])|\n",
      "|    3|  0.0| 0.03865979381443299|0.10309278350515465|       10.629673539518901|     0.8134133006395176|(11,[1],[1.0])| (17,[0],[1.0])| (1,[0],[1.0])|\n",
      "|    4|  0.0|0.047872340425531915|0.09456264775413711|        9.761633569739953|     0.7193899317406143|(11,[1],[1.0])| (17,[1],[1.0])| (1,[0],[1.0])|\n",
      "|    5|  1.0|0.047872340425531915|0.09456264775413711|        9.761633569739953|     0.7193899317406143|(11,[1],[1.0])| (17,[1],[1.0])| (1,[0],[1.0])|\n",
      "+-----+-----+--------------------+-------------------+-------------------------+-----------------------+--------------+---------------+--------------+\n",
      "only showing top 5 rows\n",
      "\n"
     ]
    }
   ],
   "source": [
    "trainingData_clf.show(5)"
   ]
  },
  {
   "cell_type": "code",
   "execution_count": 112,
   "id": "likely-taylor",
   "metadata": {},
   "outputs": [
    {
     "name": "stdout",
     "output_type": "stream",
     "text": [
      "root\n",
      " |-- index: integer (nullable = true)\n",
      " |-- label: double (nullable = false)\n",
      " |-- mean_temp: double (nullable = true)\n",
      " |-- mean_precip: double (nullable = true)\n",
      " |-- month_average_board_count: double (nullable = true)\n",
      " |-- surrounding_board_count: double (nullable = true)\n",
      " |-- Months_Cat: vector (nullable = true)\n",
      " |-- Hours_Cat: vector (nullable = true)\n",
      " |-- Serv_kinds_Cat: vector (nullable = true)\n",
      "\n"
     ]
    }
   ],
   "source": [
    "trainingData_clf.printSchema()"
   ]
  },
  {
   "cell_type": "markdown",
   "id": "vital-dance",
   "metadata": {},
   "source": [
    "### Data for Regression"
   ]
  },
  {
   "cell_type": "code",
   "execution_count": 20,
   "id": "iraqi-innocent",
   "metadata": {},
   "outputs": [],
   "source": [
    "trainingData_reg = trainingData.filter(trainingData.label > 0)"
   ]
  },
  {
   "cell_type": "code",
   "execution_count": 58,
   "id": "premier-skill",
   "metadata": {},
   "outputs": [
    {
     "name": "stdout",
     "output_type": "stream",
     "text": [
      "root\n",
      " |-- index: integer (nullable = true)\n",
      " |-- label: integer (nullable = true)\n",
      " |-- mean_temp: double (nullable = true)\n",
      " |-- mean_precip: double (nullable = true)\n",
      " |-- month_average_board_count: double (nullable = true)\n",
      " |-- surrounding_board_count: double (nullable = true)\n",
      " |-- Months_Cat: vector (nullable = true)\n",
      " |-- Hours_Cat: vector (nullable = true)\n",
      " |-- Serv_kinds_Cat: vector (nullable = true)\n",
      "\n"
     ]
    }
   ],
   "source": [
    "trainingData_reg.printSchema()"
   ]
  },
  {
   "cell_type": "code",
   "execution_count": 21,
   "id": "foster-tragedy",
   "metadata": {},
   "outputs": [
    {
     "name": "stdout",
     "output_type": "stream",
     "text": [
      "+-----+-----+--------------------+-------------------+-------------------------+-----------------------+--------------+---------------+--------------+\n",
      "|index|label|           mean_temp|        mean_precip|month_average_board_count|surrounding_board_count|    Months_Cat|      Hours_Cat|Serv_kinds_Cat|\n",
      "+-----+-----+--------------------+-------------------+-------------------------+-----------------------+--------------+---------------+--------------+\n",
      "|    1|    1|                0.05|0.05777777777777778|        7.511078518518519|     0.6628744785741373|(11,[1],[1.0])| (17,[3],[1.0])| (1,[0],[1.0])|\n",
      "|    5|    1|0.047872340425531915|0.09456264775413711|        9.761633569739953|     0.7193899317406143|(11,[1],[1.0])| (17,[1],[1.0])| (1,[0],[1.0])|\n",
      "|   14|    1|0.024509803921568627|0.04139433551198257|       10.161692810457515|     0.7853621539628365|(11,[1],[1.0])| (17,[2],[1.0])| (1,[0],[1.0])|\n",
      "|   15|    1|0.047872340425531915|0.09456264775413711|        9.761633569739953|     0.7193899317406143|(11,[1],[1.0])| (17,[1],[1.0])| (1,[0],[1.0])|\n",
      "|   20|    1| 0.03865979381443299|0.10309278350515465|       10.629673539518901|     0.8134133006395176|(11,[1],[1.0])| (17,[0],[1.0])| (1,[0],[1.0])|\n",
      "|   21|    1| 0.03865979381443299|0.10309278350515465|       10.629673539518901|     0.8134133006395176|(11,[1],[1.0])| (17,[0],[1.0])| (1,[0],[1.0])|\n",
      "|   25|    2|0.059322033898305086|0.06214689265536723|        8.939740112994354|                    1.0|(11,[1],[1.0])| (17,[4],[1.0])| (1,[0],[1.0])|\n",
      "|   27|    1|           0.2109375|0.03819444444444445|       10.294858506944442|     0.5886838737201364|(11,[1],[1.0])| (17,[0],[1.0])|     (1,[],[])|\n",
      "|   36|    2| 0.29545454545454547|0.08080808080808081|       11.096871212121213|     0.5712660490817486|(11,[1],[1.0])| (17,[2],[1.0])|     (1,[],[])|\n",
      "|   37|    5|           0.2109375|0.03819444444444445|       10.294858506944442|     0.5886838737201364|(11,[1],[1.0])| (17,[0],[1.0])|     (1,[],[])|\n",
      "|   42|    1|0.024509803921568627|0.04139433551198257|       10.161692810457515|     0.7853621539628365|(11,[1],[1.0])| (17,[2],[1.0])| (1,[0],[1.0])|\n",
      "|   44|    1|0.047872340425531915|0.09456264775413711|        9.761633569739953|     0.7193899317406143|(11,[1],[1.0])| (17,[1],[1.0])| (1,[0],[1.0])|\n",
      "|   45|    3|0.059322033898305086|0.06214689265536723|        8.939740112994354|                    1.0|(11,[1],[1.0])| (17,[4],[1.0])| (1,[0],[1.0])|\n",
      "|   46|    1| 0.03389830508474576|0.02448210922787194|        5.559446327683614|     0.6160409556313993|(11,[1],[1.0])|(17,[10],[1.0])| (1,[0],[1.0])|\n",
      "|   49|    1| 0.03571428571428571|0.05555555555555555|        9.854607142857143|     0.8909333729039915|(11,[1],[1.0])| (17,[5],[1.0])| (1,[0],[1.0])|\n",
      "|   52|    1|0.013157894736842105|0.03898635477582846|       7.9787231968810906|     0.8118114658487061|(11,[1],[1.0])| (17,[8],[1.0])| (1,[0],[1.0])|\n",
      "|   54|    1|                0.05|0.05777777777777778|        7.511078518518519|     0.6628744785741373|(11,[1],[1.0])| (17,[3],[1.0])| (1,[0],[1.0])|\n",
      "|   57|    1| 0.03571428571428571|0.05555555555555555|        9.854607142857143|     0.8909333729039915|(11,[1],[1.0])| (17,[5],[1.0])| (1,[0],[1.0])|\n",
      "|   62|    1|  0.2608695652173913|0.08212560386473429|       11.566799516908214|    0.49401179025752395|(11,[1],[1.0])| (17,[1],[1.0])|     (1,[],[])|\n",
      "|   65|    2|  0.4583333333333333|0.12962962962962965|        7.107856481481481|     0.5396148220380301|(11,[1],[1.0])| (17,[6],[1.0])|     (1,[],[])|\n",
      "+-----+-----+--------------------+-------------------+-------------------------+-----------------------+--------------+---------------+--------------+\n",
      "only showing top 20 rows\n",
      "\n"
     ]
    }
   ],
   "source": [
    "trainingData_reg.show()"
   ]
  },
  {
   "cell_type": "code",
   "execution_count": 22,
   "id": "compliant-senegal",
   "metadata": {},
   "outputs": [],
   "source": [
    "#testData_reg = testData.filter(testData.label > 0)\n",
    "#testData_reg2 = testData.toPandas()\n",
    "#testData_reg2 = testData_reg2[testData_reg2['index'].isin(clf_predictions[clf_predictions['label_clf'] == 1].index.values)]\n",
    "#testData_reg2.head()"
   ]
  },
  {
   "cell_type": "code",
   "execution_count": 23,
   "id": "provincial-position",
   "metadata": {},
   "outputs": [],
   "source": [
    "#testData_reg2a = spark.createDataFrame(testData_reg2)"
   ]
  },
  {
   "cell_type": "markdown",
   "id": "sophisticated-sixth",
   "metadata": {},
   "source": [
    "### Subordinate Functions"
   ]
  },
  {
   "cell_type": "code",
   "execution_count": 24,
   "id": "printable-condition",
   "metadata": {},
   "outputs": [],
   "source": [
    "def paste0(ss,sep=None,na_rep=None,):\n",
    "            '''Analogy to R paste0'''\n",
    "            ss = [pd.Series(s) for s in ss]\n",
    "            ss = [s.astype(str) for s in ss]\n",
    "            s = ss[0]\n",
    "            res = s.str.cat(ss[1:],sep=sep,na_rep=na_rep)\n",
    "            return res"
   ]
  },
  {
   "cell_type": "code",
   "execution_count": 26,
   "id": "rational-cruise",
   "metadata": {},
   "outputs": [
    {
     "data": {
      "text/plain": [
       "['label',\n",
       " 'mean_temp',\n",
       " 'mean_precip',\n",
       " 'month_average_board_count',\n",
       " 'surrounding_board_count',\n",
       " 'Months_Cat',\n",
       " 'Hours_Cat',\n",
       " 'Serv_kinds_Cat']"
      ]
     },
     "execution_count": 26,
     "metadata": {},
     "output_type": "execute_result"
    }
   ],
   "source": [
    "trainingData_clf.columns[1:9]"
   ]
  },
  {
   "cell_type": "markdown",
   "id": "sustained-reliance",
   "metadata": {},
   "source": [
    "# Classification by Random Forest\n",
    "\n",
    "## Label and Features"
   ]
  },
  {
   "cell_type": "code",
   "execution_count": 113,
   "id": "becoming-twins",
   "metadata": {},
   "outputs": [],
   "source": [
    "feature_list = []\n",
    "for col in trainingData_clf.columns[1:9]:\n",
    "    if col == 'label':\n",
    "        continue\n",
    "    else:\n",
    "        feature_list.append(col)"
   ]
  },
  {
   "cell_type": "code",
   "execution_count": 114,
   "id": "extreme-harvard",
   "metadata": {},
   "outputs": [],
   "source": [
    "assembler = VectorAssembler(inputCols = feature_list, outputCol = \"features\")"
   ]
  },
  {
   "cell_type": "code",
   "execution_count": 115,
   "id": "tested-uncle",
   "metadata": {},
   "outputs": [],
   "source": [
    "rf_clf = RandomForestClassifier(labelCol = \"label\", featuresCol = \"features\")"
   ]
  },
  {
   "cell_type": "code",
   "execution_count": 116,
   "id": "fourth-affect",
   "metadata": {},
   "outputs": [],
   "source": [
    "pipeline = Pipeline(stages=[assembler, rf_clf])"
   ]
  },
  {
   "cell_type": "code",
   "execution_count": 117,
   "id": "based-marble",
   "metadata": {},
   "outputs": [],
   "source": [
    "paramGrid = ParamGridBuilder() \\\n",
    "    .addGrid(rf_clf.numTrees, [int(x) for x in np.linspace(start = 10, stop = 100, num = 10)]) \\\n",
    "    .addGrid(rf_clf.maxDepth, [int(x) for x in np.linspace(start = 2, stop = 30, num = 6)]) \\\n",
    "    .build()"
   ]
  },
  {
   "cell_type": "code",
   "execution_count": 118,
   "id": "speaking-lesbian",
   "metadata": {},
   "outputs": [],
   "source": [
    "crossval = CrossValidator(estimator=pipeline,\n",
    "                          estimatorParamMaps=paramGrid,\n",
    "                          evaluator=BinaryClassificationEvaluator(),\n",
    "                          numFolds=5)"
   ]
  },
  {
   "cell_type": "code",
   "execution_count": 119,
   "id": "liquid-maximum",
   "metadata": {},
   "outputs": [],
   "source": [
    "tic = timeit.default_timer()\n",
    "\n",
    "cv_clf_Model = crossval.fit(trainingData_clf)\n",
    "\n",
    "toc = timeit.default_timer()\n",
    "\n",
    "processing_time_min = (toc - tic)/60"
   ]
  },
  {
   "cell_type": "code",
   "execution_count": 120,
   "id": "invisible-thing",
   "metadata": {},
   "outputs": [
    {
     "data": {
      "text/plain": [
       "14.322231098583325"
      ]
     },
     "execution_count": 120,
     "metadata": {},
     "output_type": "execute_result"
    }
   ],
   "source": [
    "processing_time_min"
   ]
  },
  {
   "cell_type": "code",
   "execution_count": 40,
   "id": "active-algebra",
   "metadata": {},
   "outputs": [],
   "source": [
    "cv_clf_Model.write().overwrite().save('RF_Models/Board_Counts/route_4/direction1/clf_bus_stop_12/')"
   ]
  },
  {
   "cell_type": "markdown",
   "id": "equivalent-spirituality",
   "metadata": {},
   "source": [
    "## Model Tuning"
   ]
  },
  {
   "cell_type": "code",
   "execution_count": 121,
   "id": "numerous-chart",
   "metadata": {},
   "outputs": [
    {
     "name": "stdout",
     "output_type": "stream",
     "text": [
      "numTrees -  100\n",
      "maxDepth -  2\n"
     ]
    }
   ],
   "source": [
    "# Feature importance\n",
    "bestPipeline_clf = cv_clf_Model.bestModel\n",
    "bestModel_clf = bestPipeline_clf.stages[1]\n",
    "\n",
    "\n",
    "# Best hyperparameters\n",
    "print('numTrees - ', bestModel_clf.getNumTrees)\n",
    "print('maxDepth - ', bestModel_clf.getOrDefault('maxDepth'))"
   ]
  },
  {
   "cell_type": "code",
   "execution_count": 122,
   "id": "silver-delay",
   "metadata": {},
   "outputs": [
    {
     "data": {
      "text/plain": [
       "['mean_temp',\n",
       " 'mean_precip',\n",
       " 'month_average_board_count',\n",
       " 'surrounding_board_count',\n",
       " 'Months_Cat',\n",
       " 'Hours_Cat',\n",
       " 'Serv_kinds_Cat']"
      ]
     },
     "execution_count": 122,
     "metadata": {},
     "output_type": "execute_result"
    }
   ],
   "source": [
    "feature_list"
   ]
  },
  {
   "cell_type": "code",
   "execution_count": 123,
   "id": "friendly-tunisia",
   "metadata": {},
   "outputs": [
    {
     "data": {
      "text/plain": [
       "Text(0.5, 1.0, 'Feature Importances')"
      ]
     },
     "execution_count": 123,
     "metadata": {},
     "output_type": "execute_result"
    },
    {
     "data": {
      "image/png": "[encoded data removed]",
      "text/plain": [
       "<Figure size 1080x576 with 1 Axes>"
      ]
     },
     "metadata": {
      "needs_background": "light"
     },
     "output_type": "display_data"
    }
   ],
   "source": [
    "# Feature importance\n",
    "bestPipeline_clf = cv_clf_Model.bestModel\n",
    "bestModel_clf = bestPipeline_clf.stages[1]\n",
    "\n",
    "importances_clf = bestModel_clf.featureImportances\n",
    "\n",
    "x_values = list(range(len(importances_clf)))\n",
    "plt.figure(figsize = (15,8))\n",
    "\n",
    "plt.bar(x_values, importances_clf, orientation = 'vertical')\n",
    "plt.xticks(x_values, rotation=40)\n",
    "plt.ylabel('Importance')\n",
    "plt.xlabel('Feature')\n",
    "plt.title('Feature Importances')"
   ]
  },
  {
   "cell_type": "markdown",
   "id": "negative-study",
   "metadata": {},
   "source": [
    "# Regression by Random Forest\n",
    "\n",
    "## Training Data for Regression"
   ]
  },
  {
   "cell_type": "code",
   "execution_count": 124,
   "id": "great-video",
   "metadata": {},
   "outputs": [],
   "source": [
    "feature_list_reg = []\n",
    "for col in trainingData_reg.columns[1:9]:\n",
    "    if col == 'label':\n",
    "        continue\n",
    "    else:\n",
    "        feature_list_reg.append(col)"
   ]
  },
  {
   "cell_type": "code",
   "execution_count": 125,
   "id": "streaming-franchise",
   "metadata": {},
   "outputs": [],
   "source": [
    "assembler_reg = VectorAssembler(inputCols = feature_list_reg, outputCol = \"features\")"
   ]
  },
  {
   "cell_type": "code",
   "execution_count": 126,
   "id": "valued-milwaukee",
   "metadata": {},
   "outputs": [],
   "source": [
    "rf_reg = RandomForestRegressor(labelCol=\"label\", featuresCol=\"features\")"
   ]
  },
  {
   "cell_type": "code",
   "execution_count": 127,
   "id": "surface-gregory",
   "metadata": {},
   "outputs": [],
   "source": [
    "pipeline_reg = Pipeline(stages=[assembler_reg, rf_reg])"
   ]
  },
  {
   "cell_type": "code",
   "execution_count": 128,
   "id": "deluxe-contract",
   "metadata": {},
   "outputs": [],
   "source": [
    "#ParamGrid = ParamGridBuilder() \\\n",
    "#    .addGrid(rf_reg.numTrees, [int(x) for x in np.linspace(start = 10, stop = 500, num = 10)]) \\\n",
    "#    .addGrid(rf_reg.maxDepth, [int(x) for x in np.linspace(start = 5, stop = 30, num = 6)]) \\\n",
    "#    .build()"
   ]
  },
  {
   "cell_type": "code",
   "execution_count": 129,
   "id": "electronic-error",
   "metadata": {},
   "outputs": [],
   "source": [
    "crossval_reg = CrossValidator(estimator=pipeline_reg,\n",
    "                              estimatorParamMaps=paramGrid,\n",
    "                              evaluator=RegressionEvaluator(),\n",
    "                              numFolds=5)"
   ]
  },
  {
   "cell_type": "code",
   "execution_count": 130,
   "id": "younger-persian",
   "metadata": {},
   "outputs": [],
   "source": [
    "tic = timeit.default_timer()\n",
    "\n",
    "cv_reg_Model = crossval_reg.fit(trainingData_reg)\n",
    "\n",
    "toc = timeit.default_timer()\n",
    "\n",
    "processing2_time_min = (toc - tic)/60"
   ]
  },
  {
   "cell_type": "code",
   "execution_count": 131,
   "id": "large-rubber",
   "metadata": {},
   "outputs": [
    {
     "data": {
      "text/plain": [
       "2.4079042615500232"
      ]
     },
     "execution_count": 131,
     "metadata": {},
     "output_type": "execute_result"
    }
   ],
   "source": [
    "processing2_time_min"
   ]
  },
  {
   "cell_type": "markdown",
   "id": "frozen-adrian",
   "metadata": {},
   "source": [
    "# Combining the two models"
   ]
  },
  {
   "cell_type": "code",
   "execution_count": 132,
   "id": "handled-consumption",
   "metadata": {},
   "outputs": [],
   "source": [
    "predictions_clf = cv_clf_Model.transform(ValidationSet)"
   ]
  },
  {
   "cell_type": "code",
   "execution_count": 133,
   "id": "animal-evening",
   "metadata": {},
   "outputs": [
    {
     "data": {
      "text/html": [
       "<div>\n",
       "<style scoped>\n",
       "    .dataframe tbody tr th:only-of-type {\n",
       "        vertical-align: middle;\n",
       "    }\n",
       "\n",
       "    .dataframe tbody tr th {\n",
       "        vertical-align: top;\n",
       "    }\n",
       "\n",
       "    .dataframe thead th {\n",
       "        text-align: right;\n",
       "    }\n",
       "</style>\n",
       "<table border=\"1\" class=\"dataframe\">\n",
       "  <thead>\n",
       "    <tr style=\"text-align: right;\">\n",
       "      <th></th>\n",
       "      <th>index</th>\n",
       "      <th>board_count</th>\n",
       "      <th>prediction_clf</th>\n",
       "    </tr>\n",
       "  </thead>\n",
       "  <tbody>\n",
       "    <tr>\n",
       "      <th>0</th>\n",
       "      <td>2</td>\n",
       "      <td>0</td>\n",
       "      <td>0.0</td>\n",
       "    </tr>\n",
       "    <tr>\n",
       "      <th>1</th>\n",
       "      <td>6</td>\n",
       "      <td>0</td>\n",
       "      <td>0.0</td>\n",
       "    </tr>\n",
       "    <tr>\n",
       "      <th>2</th>\n",
       "      <td>12</td>\n",
       "      <td>0</td>\n",
       "      <td>0.0</td>\n",
       "    </tr>\n",
       "    <tr>\n",
       "      <th>3</th>\n",
       "      <td>13</td>\n",
       "      <td>2</td>\n",
       "      <td>0.0</td>\n",
       "    </tr>\n",
       "    <tr>\n",
       "      <th>4</th>\n",
       "      <td>18</td>\n",
       "      <td>3</td>\n",
       "      <td>0.0</td>\n",
       "    </tr>\n",
       "  </tbody>\n",
       "</table>\n",
       "</div>"
      ],
      "text/plain": [
       "   index  board_count  prediction_clf\n",
       "0      2            0             0.0\n",
       "1      6            0             0.0\n",
       "2     12            0             0.0\n",
       "3     13            2             0.0\n",
       "4     18            3             0.0"
      ]
     },
     "execution_count": 133,
     "metadata": {},
     "output_type": "execute_result"
    }
   ],
   "source": [
    "clf_predictions = predictions_clf[['index', 'label', 'prediction']].toPandas()\n",
    "clf_predictions.columns = ['index', 'board_count', 'prediction_clf']\n",
    "clf_predictions.head()"
   ]
  },
  {
   "cell_type": "code",
   "execution_count": 134,
   "id": "efficient-grammar",
   "metadata": {},
   "outputs": [
    {
     "data": {
      "text/html": [
       "<div>\n",
       "<style scoped>\n",
       "    .dataframe tbody tr th:only-of-type {\n",
       "        vertical-align: middle;\n",
       "    }\n",
       "\n",
       "    .dataframe tbody tr th {\n",
       "        vertical-align: top;\n",
       "    }\n",
       "\n",
       "    .dataframe thead th {\n",
       "        text-align: right;\n",
       "    }\n",
       "</style>\n",
       "<table border=\"1\" class=\"dataframe\">\n",
       "  <thead>\n",
       "    <tr style=\"text-align: right;\">\n",
       "      <th></th>\n",
       "      <th>index</th>\n",
       "      <th>board_count</th>\n",
       "      <th>prediction_clf</th>\n",
       "    </tr>\n",
       "  </thead>\n",
       "  <tbody>\n",
       "    <tr>\n",
       "      <th>11</th>\n",
       "      <td>38</td>\n",
       "      <td>1</td>\n",
       "      <td>1.0</td>\n",
       "    </tr>\n",
       "    <tr>\n",
       "      <th>15</th>\n",
       "      <td>61</td>\n",
       "      <td>1</td>\n",
       "      <td>1.0</td>\n",
       "    </tr>\n",
       "    <tr>\n",
       "      <th>39</th>\n",
       "      <td>198</td>\n",
       "      <td>0</td>\n",
       "      <td>1.0</td>\n",
       "    </tr>\n",
       "    <tr>\n",
       "      <th>47</th>\n",
       "      <td>219</td>\n",
       "      <td>0</td>\n",
       "      <td>1.0</td>\n",
       "    </tr>\n",
       "    <tr>\n",
       "      <th>56</th>\n",
       "      <td>267</td>\n",
       "      <td>1</td>\n",
       "      <td>1.0</td>\n",
       "    </tr>\n",
       "    <tr>\n",
       "      <th>62</th>\n",
       "      <td>292</td>\n",
       "      <td>0</td>\n",
       "      <td>1.0</td>\n",
       "    </tr>\n",
       "    <tr>\n",
       "      <th>65</th>\n",
       "      <td>300</td>\n",
       "      <td>5</td>\n",
       "      <td>1.0</td>\n",
       "    </tr>\n",
       "    <tr>\n",
       "      <th>68</th>\n",
       "      <td>317</td>\n",
       "      <td>3</td>\n",
       "      <td>1.0</td>\n",
       "    </tr>\n",
       "    <tr>\n",
       "      <th>94</th>\n",
       "      <td>471</td>\n",
       "      <td>0</td>\n",
       "      <td>1.0</td>\n",
       "    </tr>\n",
       "    <tr>\n",
       "      <th>112</th>\n",
       "      <td>549</td>\n",
       "      <td>2</td>\n",
       "      <td>1.0</td>\n",
       "    </tr>\n",
       "    <tr>\n",
       "      <th>124</th>\n",
       "      <td>621</td>\n",
       "      <td>0</td>\n",
       "      <td>1.0</td>\n",
       "    </tr>\n",
       "    <tr>\n",
       "      <th>128</th>\n",
       "      <td>634</td>\n",
       "      <td>2</td>\n",
       "      <td>1.0</td>\n",
       "    </tr>\n",
       "    <tr>\n",
       "      <th>148</th>\n",
       "      <td>746</td>\n",
       "      <td>1</td>\n",
       "      <td>1.0</td>\n",
       "    </tr>\n",
       "    <tr>\n",
       "      <th>154</th>\n",
       "      <td>762</td>\n",
       "      <td>1</td>\n",
       "      <td>1.0</td>\n",
       "    </tr>\n",
       "    <tr>\n",
       "      <th>181</th>\n",
       "      <td>846</td>\n",
       "      <td>0</td>\n",
       "      <td>1.0</td>\n",
       "    </tr>\n",
       "    <tr>\n",
       "      <th>193</th>\n",
       "      <td>900</td>\n",
       "      <td>0</td>\n",
       "      <td>1.0</td>\n",
       "    </tr>\n",
       "    <tr>\n",
       "      <th>200</th>\n",
       "      <td>949</td>\n",
       "      <td>3</td>\n",
       "      <td>1.0</td>\n",
       "    </tr>\n",
       "    <tr>\n",
       "      <th>204</th>\n",
       "      <td>979</td>\n",
       "      <td>0</td>\n",
       "      <td>1.0</td>\n",
       "    </tr>\n",
       "    <tr>\n",
       "      <th>206</th>\n",
       "      <td>988</td>\n",
       "      <td>5</td>\n",
       "      <td>1.0</td>\n",
       "    </tr>\n",
       "    <tr>\n",
       "      <th>212</th>\n",
       "      <td>1030</td>\n",
       "      <td>0</td>\n",
       "      <td>1.0</td>\n",
       "    </tr>\n",
       "    <tr>\n",
       "      <th>218</th>\n",
       "      <td>1071</td>\n",
       "      <td>0</td>\n",
       "      <td>1.0</td>\n",
       "    </tr>\n",
       "    <tr>\n",
       "      <th>224</th>\n",
       "      <td>1095</td>\n",
       "      <td>0</td>\n",
       "      <td>1.0</td>\n",
       "    </tr>\n",
       "    <tr>\n",
       "      <th>226</th>\n",
       "      <td>1108</td>\n",
       "      <td>3</td>\n",
       "      <td>1.0</td>\n",
       "    </tr>\n",
       "    <tr>\n",
       "      <th>228</th>\n",
       "      <td>1126</td>\n",
       "      <td>1</td>\n",
       "      <td>1.0</td>\n",
       "    </tr>\n",
       "    <tr>\n",
       "      <th>274</th>\n",
       "      <td>1363</td>\n",
       "      <td>5</td>\n",
       "      <td>1.0</td>\n",
       "    </tr>\n",
       "  </tbody>\n",
       "</table>\n",
       "</div>"
      ],
      "text/plain": [
       "     index  board_count  prediction_clf\n",
       "11      38            1             1.0\n",
       "15      61            1             1.0\n",
       "39     198            0             1.0\n",
       "47     219            0             1.0\n",
       "56     267            1             1.0\n",
       "62     292            0             1.0\n",
       "65     300            5             1.0\n",
       "68     317            3             1.0\n",
       "94     471            0             1.0\n",
       "112    549            2             1.0\n",
       "124    621            0             1.0\n",
       "128    634            2             1.0\n",
       "148    746            1             1.0\n",
       "154    762            1             1.0\n",
       "181    846            0             1.0\n",
       "193    900            0             1.0\n",
       "200    949            3             1.0\n",
       "204    979            0             1.0\n",
       "206    988            5             1.0\n",
       "212   1030            0             1.0\n",
       "218   1071            0             1.0\n",
       "224   1095            0             1.0\n",
       "226   1108            3             1.0\n",
       "228   1126            1             1.0\n",
       "274   1363            5             1.0"
      ]
     },
     "execution_count": 134,
     "metadata": {},
     "output_type": "execute_result"
    }
   ],
   "source": [
    "clf_predictions[clf_predictions['prediction_clf'] == 1]"
   ]
  },
  {
   "cell_type": "markdown",
   "id": "first-punch",
   "metadata": {},
   "source": [
    "#### Extract predicted counts for regression:"
   ]
  },
  {
   "cell_type": "code",
   "execution_count": 174,
   "id": "genetic-fancy",
   "metadata": {},
   "outputs": [],
   "source": [
    "index_reg = clf_predictions[clf_predictions['prediction_clf'] == 1]['index'].values\n",
    "ValidationSet_pd = ValidationSet.toPandas()"
   ]
  },
  {
   "cell_type": "code",
   "execution_count": 175,
   "id": "clean-management",
   "metadata": {},
   "outputs": [
    {
     "data": {
      "text/html": [
       "<div>\n",
       "<style scoped>\n",
       "    .dataframe tbody tr th:only-of-type {\n",
       "        vertical-align: middle;\n",
       "    }\n",
       "\n",
       "    .dataframe tbody tr th {\n",
       "        vertical-align: top;\n",
       "    }\n",
       "\n",
       "    .dataframe thead th {\n",
       "        text-align: right;\n",
       "    }\n",
       "</style>\n",
       "<table border=\"1\" class=\"dataframe\">\n",
       "  <thead>\n",
       "    <tr style=\"text-align: right;\">\n",
       "      <th></th>\n",
       "      <th>index</th>\n",
       "      <th>label</th>\n",
       "      <th>mean_temp</th>\n",
       "      <th>mean_precip</th>\n",
       "      <th>month_average_board_count</th>\n",
       "      <th>surrounding_board_count</th>\n",
       "      <th>Months_Cat</th>\n",
       "      <th>Hours_Cat</th>\n",
       "      <th>Serv_kinds_Cat</th>\n",
       "    </tr>\n",
       "  </thead>\n",
       "  <tbody>\n",
       "    <tr>\n",
       "      <th>0</th>\n",
       "      <td>2</td>\n",
       "      <td>0</td>\n",
       "      <td>0.024510</td>\n",
       "      <td>0.041394</td>\n",
       "      <td>10.161693</td>\n",
       "      <td>0.785362</td>\n",
       "      <td>(0.0, 1.0, 0.0, 0.0, 0.0, 0.0, 0.0, 0.0, 0.0, ...</td>\n",
       "      <td>(0.0, 0.0, 1.0, 0.0, 0.0, 0.0, 0.0, 0.0, 0.0, ...</td>\n",
       "      <td>(1.0)</td>\n",
       "    </tr>\n",
       "    <tr>\n",
       "      <th>1</th>\n",
       "      <td>6</td>\n",
       "      <td>0</td>\n",
       "      <td>0.047872</td>\n",
       "      <td>0.094563</td>\n",
       "      <td>9.761634</td>\n",
       "      <td>0.719390</td>\n",
       "      <td>(0.0, 1.0, 0.0, 0.0, 0.0, 0.0, 0.0, 0.0, 0.0, ...</td>\n",
       "      <td>(0.0, 1.0, 0.0, 0.0, 0.0, 0.0, 0.0, 0.0, 0.0, ...</td>\n",
       "      <td>(1.0)</td>\n",
       "    </tr>\n",
       "    <tr>\n",
       "      <th>2</th>\n",
       "      <td>12</td>\n",
       "      <td>0</td>\n",
       "      <td>0.050000</td>\n",
       "      <td>0.057778</td>\n",
       "      <td>7.511079</td>\n",
       "      <td>0.662874</td>\n",
       "      <td>(0.0, 1.0, 0.0, 0.0, 0.0, 0.0, 0.0, 0.0, 0.0, ...</td>\n",
       "      <td>(0.0, 0.0, 0.0, 1.0, 0.0, 0.0, 0.0, 0.0, 0.0, ...</td>\n",
       "      <td>(1.0)</td>\n",
       "    </tr>\n",
       "    <tr>\n",
       "      <th>3</th>\n",
       "      <td>13</td>\n",
       "      <td>2</td>\n",
       "      <td>0.050000</td>\n",
       "      <td>0.057778</td>\n",
       "      <td>7.511079</td>\n",
       "      <td>0.662874</td>\n",
       "      <td>(0.0, 1.0, 0.0, 0.0, 0.0, 0.0, 0.0, 0.0, 0.0, ...</td>\n",
       "      <td>(0.0, 0.0, 0.0, 1.0, 0.0, 0.0, 0.0, 0.0, 0.0, ...</td>\n",
       "      <td>(1.0)</td>\n",
       "    </tr>\n",
       "    <tr>\n",
       "      <th>4</th>\n",
       "      <td>18</td>\n",
       "      <td>3</td>\n",
       "      <td>0.050000</td>\n",
       "      <td>0.057778</td>\n",
       "      <td>7.511079</td>\n",
       "      <td>0.662874</td>\n",
       "      <td>(0.0, 1.0, 0.0, 0.0, 0.0, 0.0, 0.0, 0.0, 0.0, ...</td>\n",
       "      <td>(0.0, 0.0, 0.0, 1.0, 0.0, 0.0, 0.0, 0.0, 0.0, ...</td>\n",
       "      <td>(1.0)</td>\n",
       "    </tr>\n",
       "  </tbody>\n",
       "</table>\n",
       "</div>"
      ],
      "text/plain": [
       "   index  label  mean_temp  mean_precip  month_average_board_count  \\\n",
       "0      2      0   0.024510     0.041394                  10.161693   \n",
       "1      6      0   0.047872     0.094563                   9.761634   \n",
       "2     12      0   0.050000     0.057778                   7.511079   \n",
       "3     13      2   0.050000     0.057778                   7.511079   \n",
       "4     18      3   0.050000     0.057778                   7.511079   \n",
       "\n",
       "   surrounding_board_count                                         Months_Cat  \\\n",
       "0                 0.785362  (0.0, 1.0, 0.0, 0.0, 0.0, 0.0, 0.0, 0.0, 0.0, ...   \n",
       "1                 0.719390  (0.0, 1.0, 0.0, 0.0, 0.0, 0.0, 0.0, 0.0, 0.0, ...   \n",
       "2                 0.662874  (0.0, 1.0, 0.0, 0.0, 0.0, 0.0, 0.0, 0.0, 0.0, ...   \n",
       "3                 0.662874  (0.0, 1.0, 0.0, 0.0, 0.0, 0.0, 0.0, 0.0, 0.0, ...   \n",
       "4                 0.662874  (0.0, 1.0, 0.0, 0.0, 0.0, 0.0, 0.0, 0.0, 0.0, ...   \n",
       "\n",
       "                                           Hours_Cat Serv_kinds_Cat  \n",
       "0  (0.0, 0.0, 1.0, 0.0, 0.0, 0.0, 0.0, 0.0, 0.0, ...          (1.0)  \n",
       "1  (0.0, 1.0, 0.0, 0.0, 0.0, 0.0, 0.0, 0.0, 0.0, ...          (1.0)  \n",
       "2  (0.0, 0.0, 0.0, 1.0, 0.0, 0.0, 0.0, 0.0, 0.0, ...          (1.0)  \n",
       "3  (0.0, 0.0, 0.0, 1.0, 0.0, 0.0, 0.0, 0.0, 0.0, ...          (1.0)  \n",
       "4  (0.0, 0.0, 0.0, 1.0, 0.0, 0.0, 0.0, 0.0, 0.0, ...          (1.0)  "
      ]
     },
     "execution_count": 175,
     "metadata": {},
     "output_type": "execute_result"
    }
   ],
   "source": [
    "ValidationSet_pd.head()"
   ]
  },
  {
   "cell_type": "code",
   "execution_count": 176,
   "id": "collectible-crash",
   "metadata": {},
   "outputs": [
    {
     "data": {
      "text/plain": [
       "(285, 9)"
      ]
     },
     "execution_count": 176,
     "metadata": {},
     "output_type": "execute_result"
    }
   ],
   "source": [
    "ValidationSet_pd.shape"
   ]
  },
  {
   "cell_type": "code",
   "execution_count": 177,
   "id": "concerned-submission",
   "metadata": {},
   "outputs": [],
   "source": [
    "ValidationData_reg = ValidationSet_pd[ValidationSet_pd['index'].isin(index_reg)]"
   ]
  },
  {
   "cell_type": "code",
   "execution_count": 178,
   "id": "cosmetic-protection",
   "metadata": {},
   "outputs": [
    {
     "data": {
      "text/html": [
       "<div>\n",
       "<style scoped>\n",
       "    .dataframe tbody tr th:only-of-type {\n",
       "        vertical-align: middle;\n",
       "    }\n",
       "\n",
       "    .dataframe tbody tr th {\n",
       "        vertical-align: top;\n",
       "    }\n",
       "\n",
       "    .dataframe thead th {\n",
       "        text-align: right;\n",
       "    }\n",
       "</style>\n",
       "<table border=\"1\" class=\"dataframe\">\n",
       "  <thead>\n",
       "    <tr style=\"text-align: right;\">\n",
       "      <th></th>\n",
       "      <th>index</th>\n",
       "      <th>label</th>\n",
       "      <th>mean_temp</th>\n",
       "      <th>mean_precip</th>\n",
       "      <th>month_average_board_count</th>\n",
       "      <th>surrounding_board_count</th>\n",
       "      <th>Months_Cat</th>\n",
       "      <th>Hours_Cat</th>\n",
       "      <th>Serv_kinds_Cat</th>\n",
       "    </tr>\n",
       "  </thead>\n",
       "  <tbody>\n",
       "    <tr>\n",
       "      <th>11</th>\n",
       "      <td>38</td>\n",
       "      <td>1</td>\n",
       "      <td>0.210938</td>\n",
       "      <td>0.038194</td>\n",
       "      <td>10.294859</td>\n",
       "      <td>0.588684</td>\n",
       "      <td>(0.0, 1.0, 0.0, 0.0, 0.0, 0.0, 0.0, 0.0, 0.0, ...</td>\n",
       "      <td>(1.0, 0.0, 0.0, 0.0, 0.0, 0.0, 0.0, 0.0, 0.0, ...</td>\n",
       "      <td>(0.0)</td>\n",
       "    </tr>\n",
       "    <tr>\n",
       "      <th>15</th>\n",
       "      <td>61</td>\n",
       "      <td>1</td>\n",
       "      <td>0.210938</td>\n",
       "      <td>0.038194</td>\n",
       "      <td>10.294859</td>\n",
       "      <td>0.588684</td>\n",
       "      <td>(0.0, 1.0, 0.0, 0.0, 0.0, 0.0, 0.0, 0.0, 0.0, ...</td>\n",
       "      <td>(1.0, 0.0, 0.0, 0.0, 0.0, 0.0, 0.0, 0.0, 0.0, ...</td>\n",
       "      <td>(0.0)</td>\n",
       "    </tr>\n",
       "    <tr>\n",
       "      <th>39</th>\n",
       "      <td>198</td>\n",
       "      <td>0</td>\n",
       "      <td>0.181034</td>\n",
       "      <td>0.168582</td>\n",
       "      <td>10.444680</td>\n",
       "      <td>0.668942</td>\n",
       "      <td>(0.0, 0.0, 0.0, 1.0, 0.0, 0.0, 0.0, 0.0, 0.0, ...</td>\n",
       "      <td>(1.0, 0.0, 0.0, 0.0, 0.0, 0.0, 0.0, 0.0, 0.0, ...</td>\n",
       "      <td>(0.0)</td>\n",
       "    </tr>\n",
       "    <tr>\n",
       "      <th>47</th>\n",
       "      <td>219</td>\n",
       "      <td>0</td>\n",
       "      <td>0.285714</td>\n",
       "      <td>0.099206</td>\n",
       "      <td>16.404030</td>\n",
       "      <td>0.713311</td>\n",
       "      <td>(1.0, 0.0, 0.0, 0.0, 0.0, 0.0, 0.0, 0.0, 0.0, ...</td>\n",
       "      <td>(1.0, 0.0, 0.0, 0.0, 0.0, 0.0, 0.0, 0.0, 0.0, ...</td>\n",
       "      <td>(0.0)</td>\n",
       "    </tr>\n",
       "    <tr>\n",
       "      <th>56</th>\n",
       "      <td>267</td>\n",
       "      <td>1</td>\n",
       "      <td>0.285714</td>\n",
       "      <td>0.099206</td>\n",
       "      <td>16.404030</td>\n",
       "      <td>0.713311</td>\n",
       "      <td>(1.0, 0.0, 0.0, 0.0, 0.0, 0.0, 0.0, 0.0, 0.0, ...</td>\n",
       "      <td>(1.0, 0.0, 0.0, 0.0, 0.0, 0.0, 0.0, 0.0, 0.0, ...</td>\n",
       "      <td>(0.0)</td>\n",
       "    </tr>\n",
       "  </tbody>\n",
       "</table>\n",
       "</div>"
      ],
      "text/plain": [
       "    index  label  mean_temp  mean_precip  month_average_board_count  \\\n",
       "11     38      1   0.210938     0.038194                  10.294859   \n",
       "15     61      1   0.210938     0.038194                  10.294859   \n",
       "39    198      0   0.181034     0.168582                  10.444680   \n",
       "47    219      0   0.285714     0.099206                  16.404030   \n",
       "56    267      1   0.285714     0.099206                  16.404030   \n",
       "\n",
       "    surrounding_board_count  \\\n",
       "11                 0.588684   \n",
       "15                 0.588684   \n",
       "39                 0.668942   \n",
       "47                 0.713311   \n",
       "56                 0.713311   \n",
       "\n",
       "                                           Months_Cat  \\\n",
       "11  (0.0, 1.0, 0.0, 0.0, 0.0, 0.0, 0.0, 0.0, 0.0, ...   \n",
       "15  (0.0, 1.0, 0.0, 0.0, 0.0, 0.0, 0.0, 0.0, 0.0, ...   \n",
       "39  (0.0, 0.0, 0.0, 1.0, 0.0, 0.0, 0.0, 0.0, 0.0, ...   \n",
       "47  (1.0, 0.0, 0.0, 0.0, 0.0, 0.0, 0.0, 0.0, 0.0, ...   \n",
       "56  (1.0, 0.0, 0.0, 0.0, 0.0, 0.0, 0.0, 0.0, 0.0, ...   \n",
       "\n",
       "                                            Hours_Cat Serv_kinds_Cat  \n",
       "11  (1.0, 0.0, 0.0, 0.0, 0.0, 0.0, 0.0, 0.0, 0.0, ...          (0.0)  \n",
       "15  (1.0, 0.0, 0.0, 0.0, 0.0, 0.0, 0.0, 0.0, 0.0, ...          (0.0)  \n",
       "39  (1.0, 0.0, 0.0, 0.0, 0.0, 0.0, 0.0, 0.0, 0.0, ...          (0.0)  \n",
       "47  (1.0, 0.0, 0.0, 0.0, 0.0, 0.0, 0.0, 0.0, 0.0, ...          (0.0)  \n",
       "56  (1.0, 0.0, 0.0, 0.0, 0.0, 0.0, 0.0, 0.0, 0.0, ...          (0.0)  "
      ]
     },
     "execution_count": 178,
     "metadata": {},
     "output_type": "execute_result"
    }
   ],
   "source": [
    "ValidationData_reg.head()"
   ]
  },
  {
   "cell_type": "markdown",
   "id": "daily-police",
   "metadata": {},
   "source": [
    "##### Prepare data for regression: 'From Pandas back to pyspark'"
   ]
  },
  {
   "cell_type": "code",
   "execution_count": 179,
   "id": "solar-magnet",
   "metadata": {},
   "outputs": [],
   "source": [
    "ValidationSet2 = spark.createDataFrame(ValidationData_reg)"
   ]
  },
  {
   "cell_type": "markdown",
   "id": "ecological-restaurant",
   "metadata": {},
   "source": [
    "##### Predict counts:"
   ]
  },
  {
   "cell_type": "code",
   "execution_count": 180,
   "id": "sapphire-claim",
   "metadata": {},
   "outputs": [],
   "source": [
    "predictions_reg = cv_reg_Model.transform(ValidationSet2)\n",
    "predictions_reg_data = predictions_reg[['index', 'prediction', 'label']].toPandas()\n",
    "predictions_reg_data.columns = ['index', 'prediction_reg', 'label_reg']"
   ]
  },
  {
   "cell_type": "code",
   "execution_count": 181,
   "id": "multiple-tragedy",
   "metadata": {},
   "outputs": [
    {
     "data": {
      "text/html": [
       "<div>\n",
       "<style scoped>\n",
       "    .dataframe tbody tr th:only-of-type {\n",
       "        vertical-align: middle;\n",
       "    }\n",
       "\n",
       "    .dataframe tbody tr th {\n",
       "        vertical-align: top;\n",
       "    }\n",
       "\n",
       "    .dataframe thead th {\n",
       "        text-align: right;\n",
       "    }\n",
       "</style>\n",
       "<table border=\"1\" class=\"dataframe\">\n",
       "  <thead>\n",
       "    <tr style=\"text-align: right;\">\n",
       "      <th></th>\n",
       "      <th>index</th>\n",
       "      <th>prediction_reg</th>\n",
       "      <th>label_reg</th>\n",
       "    </tr>\n",
       "  </thead>\n",
       "  <tbody>\n",
       "    <tr>\n",
       "      <th>0</th>\n",
       "      <td>38</td>\n",
       "      <td>2.374046</td>\n",
       "      <td>1</td>\n",
       "    </tr>\n",
       "    <tr>\n",
       "      <th>1</th>\n",
       "      <td>61</td>\n",
       "      <td>2.374046</td>\n",
       "      <td>1</td>\n",
       "    </tr>\n",
       "    <tr>\n",
       "      <th>2</th>\n",
       "      <td>198</td>\n",
       "      <td>2.314070</td>\n",
       "      <td>0</td>\n",
       "    </tr>\n",
       "    <tr>\n",
       "      <th>3</th>\n",
       "      <td>219</td>\n",
       "      <td>2.605787</td>\n",
       "      <td>0</td>\n",
       "    </tr>\n",
       "    <tr>\n",
       "      <th>4</th>\n",
       "      <td>267</td>\n",
       "      <td>2.605787</td>\n",
       "      <td>1</td>\n",
       "    </tr>\n",
       "  </tbody>\n",
       "</table>\n",
       "</div>"
      ],
      "text/plain": [
       "   index  prediction_reg  label_reg\n",
       "0     38        2.374046          1\n",
       "1     61        2.374046          1\n",
       "2    198        2.314070          0\n",
       "3    219        2.605787          0\n",
       "4    267        2.605787          1"
      ]
     },
     "execution_count": 181,
     "metadata": {},
     "output_type": "execute_result"
    }
   ],
   "source": [
    "predictions_reg_data.head()"
   ]
  },
  {
   "cell_type": "markdown",
   "id": "disturbed-celtic",
   "metadata": {},
   "source": [
    "## Combine predictions:"
   ]
  },
  {
   "cell_type": "code",
   "execution_count": 182,
   "id": "later-soccer",
   "metadata": {},
   "outputs": [
    {
     "data": {
      "text/html": [
       "<div>\n",
       "<style scoped>\n",
       "    .dataframe tbody tr th:only-of-type {\n",
       "        vertical-align: middle;\n",
       "    }\n",
       "\n",
       "    .dataframe tbody tr th {\n",
       "        vertical-align: top;\n",
       "    }\n",
       "\n",
       "    .dataframe thead th {\n",
       "        text-align: right;\n",
       "    }\n",
       "</style>\n",
       "<table border=\"1\" class=\"dataframe\">\n",
       "  <thead>\n",
       "    <tr style=\"text-align: right;\">\n",
       "      <th></th>\n",
       "      <th>index</th>\n",
       "      <th>board_count</th>\n",
       "      <th>prediction_clf</th>\n",
       "      <th>prediction_reg</th>\n",
       "      <th>label_reg</th>\n",
       "    </tr>\n",
       "  </thead>\n",
       "  <tbody>\n",
       "    <tr>\n",
       "      <th>0</th>\n",
       "      <td>2</td>\n",
       "      <td>0</td>\n",
       "      <td>0.0</td>\n",
       "      <td>NaN</td>\n",
       "      <td>NaN</td>\n",
       "    </tr>\n",
       "    <tr>\n",
       "      <th>1</th>\n",
       "      <td>6</td>\n",
       "      <td>0</td>\n",
       "      <td>0.0</td>\n",
       "      <td>NaN</td>\n",
       "      <td>NaN</td>\n",
       "    </tr>\n",
       "    <tr>\n",
       "      <th>2</th>\n",
       "      <td>12</td>\n",
       "      <td>0</td>\n",
       "      <td>0.0</td>\n",
       "      <td>NaN</td>\n",
       "      <td>NaN</td>\n",
       "    </tr>\n",
       "    <tr>\n",
       "      <th>3</th>\n",
       "      <td>13</td>\n",
       "      <td>2</td>\n",
       "      <td>0.0</td>\n",
       "      <td>NaN</td>\n",
       "      <td>NaN</td>\n",
       "    </tr>\n",
       "    <tr>\n",
       "      <th>4</th>\n",
       "      <td>18</td>\n",
       "      <td>3</td>\n",
       "      <td>0.0</td>\n",
       "      <td>NaN</td>\n",
       "      <td>NaN</td>\n",
       "    </tr>\n",
       "  </tbody>\n",
       "</table>\n",
       "</div>"
      ],
      "text/plain": [
       "   index  board_count  prediction_clf  prediction_reg  label_reg\n",
       "0      2            0             0.0             NaN        NaN\n",
       "1      6            0             0.0             NaN        NaN\n",
       "2     12            0             0.0             NaN        NaN\n",
       "3     13            2             0.0             NaN        NaN\n",
       "4     18            3             0.0             NaN        NaN"
      ]
     },
     "execution_count": 182,
     "metadata": {},
     "output_type": "execute_result"
    }
   ],
   "source": [
    "Predictions = pd.merge(clf_predictions, predictions_reg_data, on = 'index', how = 'left')\n",
    "Predictions.head()"
   ]
  },
  {
   "cell_type": "code",
   "execution_count": 183,
   "id": "adopted-airfare",
   "metadata": {},
   "outputs": [
    {
     "data": {
      "text/html": [
       "<div>\n",
       "<style scoped>\n",
       "    .dataframe tbody tr th:only-of-type {\n",
       "        vertical-align: middle;\n",
       "    }\n",
       "\n",
       "    .dataframe tbody tr th {\n",
       "        vertical-align: top;\n",
       "    }\n",
       "\n",
       "    .dataframe thead th {\n",
       "        text-align: right;\n",
       "    }\n",
       "</style>\n",
       "<table border=\"1\" class=\"dataframe\">\n",
       "  <thead>\n",
       "    <tr style=\"text-align: right;\">\n",
       "      <th></th>\n",
       "      <th>index</th>\n",
       "      <th>board_count</th>\n",
       "      <th>prediction_clf</th>\n",
       "      <th>prediction_reg</th>\n",
       "      <th>label_reg</th>\n",
       "    </tr>\n",
       "  </thead>\n",
       "  <tbody>\n",
       "    <tr>\n",
       "      <th>11</th>\n",
       "      <td>38</td>\n",
       "      <td>1</td>\n",
       "      <td>1.0</td>\n",
       "      <td>2.374046</td>\n",
       "      <td>1.0</td>\n",
       "    </tr>\n",
       "    <tr>\n",
       "      <th>15</th>\n",
       "      <td>61</td>\n",
       "      <td>1</td>\n",
       "      <td>1.0</td>\n",
       "      <td>2.374046</td>\n",
       "      <td>1.0</td>\n",
       "    </tr>\n",
       "    <tr>\n",
       "      <th>39</th>\n",
       "      <td>198</td>\n",
       "      <td>0</td>\n",
       "      <td>1.0</td>\n",
       "      <td>2.314070</td>\n",
       "      <td>0.0</td>\n",
       "    </tr>\n",
       "    <tr>\n",
       "      <th>47</th>\n",
       "      <td>219</td>\n",
       "      <td>0</td>\n",
       "      <td>1.0</td>\n",
       "      <td>2.605787</td>\n",
       "      <td>0.0</td>\n",
       "    </tr>\n",
       "    <tr>\n",
       "      <th>56</th>\n",
       "      <td>267</td>\n",
       "      <td>1</td>\n",
       "      <td>1.0</td>\n",
       "      <td>2.605787</td>\n",
       "      <td>1.0</td>\n",
       "    </tr>\n",
       "    <tr>\n",
       "      <th>62</th>\n",
       "      <td>292</td>\n",
       "      <td>0</td>\n",
       "      <td>1.0</td>\n",
       "      <td>2.605787</td>\n",
       "      <td>0.0</td>\n",
       "    </tr>\n",
       "    <tr>\n",
       "      <th>65</th>\n",
       "      <td>300</td>\n",
       "      <td>5</td>\n",
       "      <td>1.0</td>\n",
       "      <td>2.605787</td>\n",
       "      <td>5.0</td>\n",
       "    </tr>\n",
       "    <tr>\n",
       "      <th>68</th>\n",
       "      <td>317</td>\n",
       "      <td>3</td>\n",
       "      <td>1.0</td>\n",
       "      <td>2.605787</td>\n",
       "      <td>3.0</td>\n",
       "    </tr>\n",
       "    <tr>\n",
       "      <th>94</th>\n",
       "      <td>471</td>\n",
       "      <td>0</td>\n",
       "      <td>1.0</td>\n",
       "      <td>3.362897</td>\n",
       "      <td>0.0</td>\n",
       "    </tr>\n",
       "    <tr>\n",
       "      <th>112</th>\n",
       "      <td>549</td>\n",
       "      <td>2</td>\n",
       "      <td>1.0</td>\n",
       "      <td>3.362897</td>\n",
       "      <td>2.0</td>\n",
       "    </tr>\n",
       "    <tr>\n",
       "      <th>124</th>\n",
       "      <td>621</td>\n",
       "      <td>0</td>\n",
       "      <td>1.0</td>\n",
       "      <td>2.487659</td>\n",
       "      <td>0.0</td>\n",
       "    </tr>\n",
       "    <tr>\n",
       "      <th>128</th>\n",
       "      <td>634</td>\n",
       "      <td>2</td>\n",
       "      <td>1.0</td>\n",
       "      <td>1.707675</td>\n",
       "      <td>2.0</td>\n",
       "    </tr>\n",
       "    <tr>\n",
       "      <th>148</th>\n",
       "      <td>746</td>\n",
       "      <td>1</td>\n",
       "      <td>1.0</td>\n",
       "      <td>2.671844</td>\n",
       "      <td>1.0</td>\n",
       "    </tr>\n",
       "    <tr>\n",
       "      <th>154</th>\n",
       "      <td>762</td>\n",
       "      <td>1</td>\n",
       "      <td>1.0</td>\n",
       "      <td>2.671844</td>\n",
       "      <td>1.0</td>\n",
       "    </tr>\n",
       "    <tr>\n",
       "      <th>181</th>\n",
       "      <td>846</td>\n",
       "      <td>0</td>\n",
       "      <td>1.0</td>\n",
       "      <td>2.724687</td>\n",
       "      <td>0.0</td>\n",
       "    </tr>\n",
       "    <tr>\n",
       "      <th>193</th>\n",
       "      <td>900</td>\n",
       "      <td>0</td>\n",
       "      <td>1.0</td>\n",
       "      <td>2.373472</td>\n",
       "      <td>0.0</td>\n",
       "    </tr>\n",
       "    <tr>\n",
       "      <th>200</th>\n",
       "      <td>949</td>\n",
       "      <td>3</td>\n",
       "      <td>1.0</td>\n",
       "      <td>2.373472</td>\n",
       "      <td>3.0</td>\n",
       "    </tr>\n",
       "    <tr>\n",
       "      <th>204</th>\n",
       "      <td>979</td>\n",
       "      <td>0</td>\n",
       "      <td>1.0</td>\n",
       "      <td>2.112868</td>\n",
       "      <td>0.0</td>\n",
       "    </tr>\n",
       "    <tr>\n",
       "      <th>206</th>\n",
       "      <td>988</td>\n",
       "      <td>5</td>\n",
       "      <td>1.0</td>\n",
       "      <td>2.112868</td>\n",
       "      <td>5.0</td>\n",
       "    </tr>\n",
       "    <tr>\n",
       "      <th>212</th>\n",
       "      <td>1030</td>\n",
       "      <td>0</td>\n",
       "      <td>1.0</td>\n",
       "      <td>2.112868</td>\n",
       "      <td>0.0</td>\n",
       "    </tr>\n",
       "    <tr>\n",
       "      <th>218</th>\n",
       "      <td>1071</td>\n",
       "      <td>0</td>\n",
       "      <td>1.0</td>\n",
       "      <td>1.595107</td>\n",
       "      <td>0.0</td>\n",
       "    </tr>\n",
       "    <tr>\n",
       "      <th>224</th>\n",
       "      <td>1095</td>\n",
       "      <td>0</td>\n",
       "      <td>1.0</td>\n",
       "      <td>2.122869</td>\n",
       "      <td>0.0</td>\n",
       "    </tr>\n",
       "    <tr>\n",
       "      <th>226</th>\n",
       "      <td>1108</td>\n",
       "      <td>3</td>\n",
       "      <td>1.0</td>\n",
       "      <td>1.595107</td>\n",
       "      <td>3.0</td>\n",
       "    </tr>\n",
       "    <tr>\n",
       "      <th>228</th>\n",
       "      <td>1126</td>\n",
       "      <td>1</td>\n",
       "      <td>1.0</td>\n",
       "      <td>2.134021</td>\n",
       "      <td>1.0</td>\n",
       "    </tr>\n",
       "    <tr>\n",
       "      <th>274</th>\n",
       "      <td>1363</td>\n",
       "      <td>5</td>\n",
       "      <td>1.0</td>\n",
       "      <td>2.223210</td>\n",
       "      <td>5.0</td>\n",
       "    </tr>\n",
       "  </tbody>\n",
       "</table>\n",
       "</div>"
      ],
      "text/plain": [
       "     index  board_count  prediction_clf  prediction_reg  label_reg\n",
       "11      38            1             1.0        2.374046        1.0\n",
       "15      61            1             1.0        2.374046        1.0\n",
       "39     198            0             1.0        2.314070        0.0\n",
       "47     219            0             1.0        2.605787        0.0\n",
       "56     267            1             1.0        2.605787        1.0\n",
       "62     292            0             1.0        2.605787        0.0\n",
       "65     300            5             1.0        2.605787        5.0\n",
       "68     317            3             1.0        2.605787        3.0\n",
       "94     471            0             1.0        3.362897        0.0\n",
       "112    549            2             1.0        3.362897        2.0\n",
       "124    621            0             1.0        2.487659        0.0\n",
       "128    634            2             1.0        1.707675        2.0\n",
       "148    746            1             1.0        2.671844        1.0\n",
       "154    762            1             1.0        2.671844        1.0\n",
       "181    846            0             1.0        2.724687        0.0\n",
       "193    900            0             1.0        2.373472        0.0\n",
       "200    949            3             1.0        2.373472        3.0\n",
       "204    979            0             1.0        2.112868        0.0\n",
       "206    988            5             1.0        2.112868        5.0\n",
       "212   1030            0             1.0        2.112868        0.0\n",
       "218   1071            0             1.0        1.595107        0.0\n",
       "224   1095            0             1.0        2.122869        0.0\n",
       "226   1108            3             1.0        1.595107        3.0\n",
       "228   1126            1             1.0        2.134021        1.0\n",
       "274   1363            5             1.0        2.223210        5.0"
      ]
     },
     "execution_count": 183,
     "metadata": {},
     "output_type": "execute_result"
    }
   ],
   "source": [
    "Predictions[Predictions['prediction_clf'] == 1]"
   ]
  },
  {
   "cell_type": "code",
   "execution_count": 184,
   "id": "minus-tolerance",
   "metadata": {},
   "outputs": [],
   "source": [
    "Predictions['Predictions'] = np.where(Predictions['prediction_clf'] == 1, Predictions['prediction_reg'], 0)"
   ]
  },
  {
   "cell_type": "code",
   "execution_count": 4,
   "id": "periodic-thousand",
   "metadata": {},
   "outputs": [],
   "source": [
    "import plotly.express as px\n",
    "import matplotlib.pyplot as plt\n",
    "import seaborn as sns"
   ]
  },
  {
   "cell_type": "code",
   "execution_count": 18,
   "id": "composite-buddy",
   "metadata": {},
   "outputs": [],
   "source": [
    "sns.set(rc={'figure.figsize':(13,8.27)})"
   ]
  },
  {
   "cell_type": "code",
   "execution_count": 204,
   "id": "revolutionary-grant",
   "metadata": {},
   "outputs": [
    {
     "name": "stderr",
     "output_type": "stream",
     "text": [
      "/opt/conda/lib/python3.7/site-packages/seaborn/_decorators.py:43: FutureWarning: Pass the following variables as keyword args: x, y. From version 0.12, the only valid positional argument will be `data`, and passing other arguments without an explicit keyword will result in an error or misinterpretation.\n",
      "  FutureWarning\n",
      "/opt/conda/lib/python3.7/site-packages/seaborn/_decorators.py:43: FutureWarning: Pass the following variables as keyword args: x, y. From version 0.12, the only valid positional argument will be `data`, and passing other arguments without an explicit keyword will result in an error or misinterpretation.\n",
      "  FutureWarning\n"
     ]
    },
    {
     "data": {
      "text/plain": [
       "<matplotlib.legend.Legend at 0x7f7360780190>"
      ]
     },
     "execution_count": 204,
     "metadata": {},
     "output_type": "execute_result"
    },
    {
     "data": {
      "image/png": "[encoded data removed]",
      "text/plain": [
       "<Figure size 936x595.44 with 1 Axes>"
      ]
     },
     "metadata": {},
     "output_type": "display_data"
    }
   ],
   "source": [
    "sns.set_theme(style=\"darkgrid\")\n",
    "plt.title('Observed and Predicted Board Counts')\n",
    "fig.suptitle('Predicted versus actual counts using a Random Forest Pipeline')\n",
    "sns.lineplot(Predictions.index, Predictions.board_count, label='Observed', data = Predictions)\n",
    "sns.lineplot(Predictions.index, Predictions.Predictions, label='Predicted', data = Predictions)\n",
    "plt.xlabel(\"Index\")\n",
    "plt.ylabel(\"Board Count\")\n",
    "plt.legend()"
   ]
  },
  {
   "cell_type": "code",
   "execution_count": 143,
   "id": "million-optics",
   "metadata": {},
   "outputs": [
    {
     "data": {
      "text/plain": [
       "Text(0.5, 1.0, 'Feature Importances')"
      ]
     },
     "execution_count": 143,
     "metadata": {},
     "output_type": "execute_result"
    },
    {
     "data": {
      "image/png": "[encoded data removed]",
      "text/plain": [
       "<Figure size 1080x576 with 1 Axes>"
      ]
     },
     "metadata": {
      "needs_background": "light"
     },
     "output_type": "display_data"
    }
   ],
   "source": [
    "# Feature importance\n",
    "bestPipeline_reg = cv_reg_Model.bestModel\n",
    "bestModel_reg = bestPipeline_reg.stages[1]\n",
    "\n",
    "importances_reg = bestModel_reg.featureImportances\n",
    "\n",
    "x_values = list(range(len(importances_reg)))\n",
    "plt.figure(figsize = (15,8))\n",
    "\n",
    "plt.bar(x_values, importances_reg, orientation = 'vertical')\n",
    "plt.xticks(x_values, rotation=40)\n",
    "plt.ylabel('Importance')\n",
    "plt.xlabel('Feature')\n",
    "plt.title('Feature Importances')"
   ]
  },
  {
   "cell_type": "code",
   "execution_count": 144,
   "id": "dutch-guard",
   "metadata": {},
   "outputs": [
    {
     "name": "stdout",
     "output_type": "stream",
     "text": [
      "numTrees -  20\n",
      "maxDepth -  5\n"
     ]
    }
   ],
   "source": [
    "# Best hyperparameters\n",
    "print('numTrees - ', bestModel_reg.getNumTrees)\n",
    "print('maxDepth - ', bestModel_reg.getOrDefault('maxDepth'))"
   ]
  },
  {
   "cell_type": "markdown",
   "id": "textile-album",
   "metadata": {},
   "source": [
    "# Complete function"
   ]
  },
  {
   "cell_type": "code",
   "execution_count": 11,
   "id": "naked-embassy",
   "metadata": {},
   "outputs": [],
   "source": [
    "def rand_forest_pipeline(DF, route, direction, bus_stop):\n",
    "    \n",
    "    from pyspark.ml import Pipeline\n",
    "    from pyspark.ml.feature import VectorAssembler, StringIndexer, OneHotEncoder\n",
    "    from pyspark.ml.regression import RandomForestRegressor\n",
    "    from pyspark.ml.classification import RandomForestClassifier\n",
    "    from pyspark.ml.evaluation import RegressionEvaluator\n",
    "    from pyspark.ml.tuning import ParamGridBuilder, CrossValidator\n",
    "    from pyspark.ml.evaluation import BinaryClassificationEvaluator\n",
    "    from pyspark.mllib.evaluation import BinaryClassificationMetrics\n",
    "    from pyspark.sql import DataFrame\n",
    "    \n",
    "    DF = DF.withColumnRenamed('_c0', 'index')\n",
    "    DF = DF.withColumnRenamed('board_count', 'label')\n",
    "       \n",
    "    month_ind = StringIndexer().setInputCol('month').setOutputCol('Months')\n",
    "    hour_ind = StringIndexer().setInputCol('hour').setOutputCol('Hours')\n",
    "    serv_ind = StringIndexer().setInputCol('service_kind').setOutputCol('Serv_kinds')\n",
    "    \n",
    "    DF = month_ind.fit(DF).transform(DF)\n",
    "    DF = hour_ind.fit(DF).transform(DF)\n",
    "    DF = serv_ind.fit(DF).transform(DF)\n",
    "    \n",
    "    DF = DF.drop('month')\n",
    "    DF = DF.drop('hour')\n",
    "    DF = DF.drop('service_kind')\n",
    "    \n",
    "    encoder = OneHotEncoder(inputCols = ['Months', 'Hours', 'Serv_kinds'], outputCols = ['Months_Cat', 'Hours_Cat', 'Serv_kinds_Cat'])\n",
    "    model = encoder.fit(DF)\n",
    "    dt = model.transform(DF)\n",
    "    dt = dt.drop('Months')\n",
    "    dt = dt.drop('Hours')\n",
    "    dt = dt.drop('Serv_kinds')\n",
    "        \n",
    "    (trainingData, ValidationSet) = dt.randomSplit([0.8, 0.2], seed = 123)\n",
    "             \n",
    "    #-------------------------------------------------------------------------------------------------------------\n",
    "    # Required function to save the models:\n",
    "    \n",
    "    def paste0(ss,sep=None,na_rep=None,):\n",
    "            '''Analogy to R paste0'''\n",
    "            ss = [pd.Series(s) for s in ss]\n",
    "            ss = [s.astype(str) for s in ss]\n",
    "            s = ss[0]\n",
    "            res = s.str.cat(ss[1:],sep=sep,na_rep=na_rep)\n",
    "            return res\n",
    "    \n",
    "    \n",
    "    file_path = paste0([paste0([paste0(['RF_Models', 'Board_Counts'], sep ='/'), \n",
    "                                    paste0(['route', route], sep = '_')], sep = '/'), \n",
    "                            paste0([paste0(['direction', direction]),\n",
    "                                    paste0(['bus_stop', bus_stop], sep = '_')], sep = '/')], sep = '/')\n",
    "    \n",
    "    file_name_clf = paste0(['clf', 'model'], sep = '_')\n",
    "    file_name_reg = paste0(['reg', 'model'], sep = '_')\n",
    "    \n",
    "    complete_path_clf = paste0([file_path, file_name_clf], sep = '/')[0]\n",
    "    complete_path_reg = paste0([file_path, file_name_reg], sep = '/')[0]\n",
    "    #-------------------------------------------------------------------------------------------------------------\n",
    "    # Classification\n",
    "    \n",
    "    ## Data preparation:\n",
    "    \n",
    "    trainingData_clf = trainingData.withColumn('label', when(trainingData.label > 0, 1) \\\n",
    "                                               .otherwise(0))\n",
    "       \n",
    "    feature_list = []\n",
    "    for col in trainingData_clf.columns:\n",
    "        if col == 'label':\n",
    "            continue\n",
    "        else:\n",
    "            feature_list.append(col)\n",
    "            \n",
    "            \n",
    "    assembler = VectorAssembler(inputCols=feature_list, outputCol=\"features\")\n",
    "    \n",
    "    ## Random Forest Classifier:\n",
    "    \n",
    "    rf_clf = RandomForestClassifier(labelCol=\"label\", featuresCol=\"features\")\n",
    "    \n",
    "    pipeline = Pipeline(stages=[assembler, rf_clf])\n",
    "    \n",
    "    paramGrid = ParamGridBuilder() \\\n",
    "        .addGrid(rf_clf.numTrees, [int(x) for x in np.linspace(start = 10, stop = 100, num = 10)]) \\\n",
    "        .addGrid(rf_clf.maxDepth, [int(x) for x in np.linspace(start = 5, stop = 25, num = 6)]) \\\n",
    "        .build()\n",
    "    \n",
    "    crossval = CrossValidator(estimator = pipeline,\n",
    "                              estimatorParamMaps = paramGrid,\n",
    "                              evaluator = BinaryClassificationEvaluator(),\n",
    "                              numFolds = 5)\n",
    "    \n",
    "    ### Train Model:\n",
    "    \n",
    "    cv_clf_Model = crossval.fit(trainingData_clf)\n",
    "    \n",
    "    #### Save trained model:\n",
    "    cv_clf_Model.write().overwrite().save(complete_path_clf)\n",
    "    \n",
    "    #--------------------------------------------------------------------------------------------------\n",
    "    # Regression\n",
    "    \n",
    "    ## Data preparation:\n",
    "    \n",
    "    trainingData_reg = spark.createDataFrame(trainingData.filter(trainingData.label > 0).collect())\n",
    "        \n",
    "    feature_list_reg = []\n",
    "    for col in trainingData_reg.columns[1:8]:\n",
    "        if col == 'label':\n",
    "            continue\n",
    "        else:\n",
    "            feature_list_reg.append(col)\n",
    "            \n",
    "    assembler_reg = VectorAssembler(inputCols = feature_list_reg, outputCol = \"features\")\n",
    "        \n",
    "    ## Random Forest Regression:\n",
    "    \n",
    "    rf_reg = RandomForestRegressor(labelCol=\"label\", featuresCol=\"features\")\n",
    "    pipeline_reg = Pipeline(stages=[assembler_reg, rf_reg])\n",
    "    \n",
    "    paramGrid = ParamGridBuilder() \\\n",
    "        .addGrid(rf_reg.numTrees, [int(x) for x in np.linspace(start = 10, stop = 100, num = 3)]) \\\n",
    "        .addGrid(rf_reg.maxDepth, [int(x) for x in np.linspace(start = 5, stop = 25, num = 5)]) \\\n",
    "        .build()\n",
    "    \n",
    "    crossval_reg = CrossValidator(estimator=pipeline_reg,\n",
    "                                  estimatorParamMaps=paramGrid,\n",
    "                                  evaluator=RegressionEvaluator(),\n",
    "                                  numFolds=5)\n",
    "    ### Train Model:\n",
    "    \n",
    "    cv_reg_Model = crossval_reg.fit(trainingData_reg)\n",
    "    \n",
    "    #### Save trained model:\n",
    "    cv_reg_Model.write().overwrite().save(complete_path_reg)\n",
    "    \n",
    "    #------------------------------------------------------------------------------------------------\n",
    "    ### Test Combined Models:\n",
    "    \n",
    "    #### Classification:\n",
    "    \n",
    "       \n",
    "    ##### Predict zeros and counts:\n",
    "    \n",
    "    clf_Model_predictions = cv_clf_Model.transform(ValidationSet)\n",
    "    \n",
    "    clf_predictions = clf_Model_predictions[['index', 'label', 'prediction']].toPandas()\n",
    "    clf_predictions.columns = ['index', 'board_count', 'prediction_clf']\n",
    "    \n",
    "    #### Regression:\n",
    "    \n",
    "    ##### Extract predicted counts for regression:\n",
    "    \n",
    "    index_reg = clf_predictions[clf_predictions['prediction_clf'] == 1]['index'].values\n",
    "    \n",
    "    ValidationSet_pd = ValidationSet.toPandas()\n",
    "    \n",
    "    ValidationData_reg = ValidationSet_pd[ValidationSet_pd['index'].isin(index_reg)]\n",
    "    \n",
    "    ##### Prepare data for regression: 'From Pandas back to pyspark'\n",
    "    \n",
    "    ValidationSet2 = spark.createDataFrame(ValidationData_reg)\n",
    "    \n",
    "    ##### Predict counts:\n",
    "    \n",
    "    predictions_reg = cv_reg_Model.transform(ValidationSet2)\n",
    "    \n",
    "    predictions_reg_data = predictions_reg[['index', 'prediction', 'label']].toPandas()\n",
    "    predictions_reg_data.columns = ['index', 'prediction_reg', 'label_reg']\n",
    "    \n",
    "    #------------------------------------------------------------------------------------------------------\n",
    "    # Combine predictions:\n",
    "    \n",
    "    Predictions = pd.merge(clf_predictions, predictions_reg_data, on = 'index', how = 'left')\n",
    "    Predictions['Predictions'] = np.where(Predictions['prediction_clf'] == 1, Predictions['prediction_reg'], 0)\n",
    "                              \n",
    "    return(Predictions)"
   ]
  },
  {
   "cell_type": "markdown",
   "id": "dependent-engine",
   "metadata": {},
   "source": [
    "# Route 4\n",
    "\n",
    "## Direction 1\n",
    "\n",
    "### Bus Stop 12"
   ]
  },
  {
   "cell_type": "code",
   "execution_count": 9,
   "id": "current-attraction",
   "metadata": {},
   "outputs": [],
   "source": [
    "board_count_route4_dir1_stop12 = spark.read.csv('Data_for_RF_Models/Board_Counts/route_4/direction1/bus_stop_12/data.csv', header = True, inferSchema = True)"
   ]
  },
  {
   "cell_type": "code",
   "execution_count": 13,
   "id": "physical-lunch",
   "metadata": {},
   "outputs": [],
   "source": [
    "pred_route4_dir1_stop12 = rand_forest_pipeline(board_count_route4_dir1_stop12, '4', '1', '12')"
   ]
  },
  {
   "cell_type": "code",
   "execution_count": 15,
   "id": "standing-softball",
   "metadata": {},
   "outputs": [
    {
     "data": {
      "text/html": [
       "<div>\n",
       "<style scoped>\n",
       "    .dataframe tbody tr th:only-of-type {\n",
       "        vertical-align: middle;\n",
       "    }\n",
       "\n",
       "    .dataframe tbody tr th {\n",
       "        vertical-align: top;\n",
       "    }\n",
       "\n",
       "    .dataframe thead th {\n",
       "        text-align: right;\n",
       "    }\n",
       "</style>\n",
       "<table border=\"1\" class=\"dataframe\">\n",
       "  <thead>\n",
       "    <tr style=\"text-align: right;\">\n",
       "      <th></th>\n",
       "      <th>index</th>\n",
       "      <th>board_count</th>\n",
       "      <th>prediction_clf</th>\n",
       "      <th>prediction_reg</th>\n",
       "      <th>label_reg</th>\n",
       "      <th>Predictions</th>\n",
       "    </tr>\n",
       "  </thead>\n",
       "  <tbody>\n",
       "    <tr>\n",
       "      <th>0</th>\n",
       "      <td>2</td>\n",
       "      <td>0</td>\n",
       "      <td>0.0</td>\n",
       "      <td>NaN</td>\n",
       "      <td>NaN</td>\n",
       "      <td>0.0</td>\n",
       "    </tr>\n",
       "    <tr>\n",
       "      <th>1</th>\n",
       "      <td>6</td>\n",
       "      <td>0</td>\n",
       "      <td>0.0</td>\n",
       "      <td>NaN</td>\n",
       "      <td>NaN</td>\n",
       "      <td>0.0</td>\n",
       "    </tr>\n",
       "    <tr>\n",
       "      <th>2</th>\n",
       "      <td>12</td>\n",
       "      <td>0</td>\n",
       "      <td>0.0</td>\n",
       "      <td>NaN</td>\n",
       "      <td>NaN</td>\n",
       "      <td>0.0</td>\n",
       "    </tr>\n",
       "    <tr>\n",
       "      <th>3</th>\n",
       "      <td>13</td>\n",
       "      <td>2</td>\n",
       "      <td>0.0</td>\n",
       "      <td>NaN</td>\n",
       "      <td>NaN</td>\n",
       "      <td>0.0</td>\n",
       "    </tr>\n",
       "    <tr>\n",
       "      <th>4</th>\n",
       "      <td>18</td>\n",
       "      <td>3</td>\n",
       "      <td>0.0</td>\n",
       "      <td>NaN</td>\n",
       "      <td>NaN</td>\n",
       "      <td>0.0</td>\n",
       "    </tr>\n",
       "  </tbody>\n",
       "</table>\n",
       "</div>"
      ],
      "text/plain": [
       "   index  board_count  prediction_clf  prediction_reg  label_reg  Predictions\n",
       "0      2            0             0.0             NaN        NaN          0.0\n",
       "1      6            0             0.0             NaN        NaN          0.0\n",
       "2     12            0             0.0             NaN        NaN          0.0\n",
       "3     13            2             0.0             NaN        NaN          0.0\n",
       "4     18            3             0.0             NaN        NaN          0.0"
      ]
     },
     "execution_count": 15,
     "metadata": {},
     "output_type": "execute_result"
    }
   ],
   "source": [
    "pred_route4_dir1_stop12.head()"
   ]
  },
  {
   "cell_type": "code",
   "execution_count": 37,
   "id": "banner-andorra",
   "metadata": {},
   "outputs": [
    {
     "data": {
      "text/plain": [
       "0.2795094699693219"
      ]
     },
     "execution_count": 37,
     "metadata": {},
     "output_type": "execute_result"
    }
   ],
   "source": [
    "np.sqrt(np.mean(pred_route4_dir1_stop12.board_count - pred_route4_dir1_stop12.Predictions)**2)"
   ]
  },
  {
   "cell_type": "code",
   "execution_count": 19,
   "id": "ordered-archives",
   "metadata": {},
   "outputs": [
    {
     "name": "stderr",
     "output_type": "stream",
     "text": [
      "/opt/conda/lib/python3.7/site-packages/seaborn/_decorators.py:43: FutureWarning: Pass the following variables as keyword args: x, y. From version 0.12, the only valid positional argument will be `data`, and passing other arguments without an explicit keyword will result in an error or misinterpretation.\n",
      "  FutureWarning\n",
      "/opt/conda/lib/python3.7/site-packages/seaborn/_decorators.py:43: FutureWarning: Pass the following variables as keyword args: x, y. From version 0.12, the only valid positional argument will be `data`, and passing other arguments without an explicit keyword will result in an error or misinterpretation.\n",
      "  FutureWarning\n"
     ]
    },
    {
     "data": {
      "text/plain": [
       "<matplotlib.legend.Legend at 0x7f2b18410610>"
      ]
     },
     "execution_count": 19,
     "metadata": {},
     "output_type": "execute_result"
    },
    {
     "data": {
      "image/png": "[encoded data removed]",
      "text/plain": [
       "<Figure size 936x595.44 with 1 Axes>"
      ]
     },
     "metadata": {},
     "output_type": "display_data"
    }
   ],
   "source": [
    "import plotly.express as px\n",
    "import matplotlib.pyplot as plt\n",
    "import seaborn as sns\n",
    "\n",
    "sns.set_theme(style=\"darkgrid\")\n",
    "plt.title('Observed and Predicted Board Counts')\n",
    "sns.lineplot(pred_route4_dir1_stop12.index, pred_route4_dir1_stop12.board_count, label='Observed', data = pred_route4_dir1_stop12)\n",
    "sns.lineplot(pred_route4_dir1_stop12.index, pred_route4_dir1_stop12.Predictions, label='Predicted', data = pred_route4_dir1_stop12)\n",
    "plt.xlabel(\"Index\")\n",
    "plt.ylabel(\"Board Count\")\n",
    "plt.legend()"
   ]
  },
  {
   "cell_type": "markdown",
   "id": "average-moses",
   "metadata": {},
   "source": [
    "### Bus Stop 1351"
   ]
  },
  {
   "cell_type": "code",
   "execution_count": 20,
   "id": "weighted-works",
   "metadata": {},
   "outputs": [],
   "source": [
    "board_count_route4_dir1_stop1351 = spark.read.csv('Data_for_RF_Models/Board_Counts/route_4/direction1/bus_stop_1351/data.csv', header = True, inferSchema = True)"
   ]
  },
  {
   "cell_type": "code",
   "execution_count": 21,
   "id": "unexpected-montgomery",
   "metadata": {},
   "outputs": [
    {
     "name": "stdout",
     "output_type": "stream",
     "text": [
      "+---+-----+------------+----+-----------+--------------------+-------------------+-------------------------+-----------------------+\n",
      "|_c0|month|service_kind|hour|board_count|           mean_temp|        mean_precip|month_average_board_count|surrounding_board_count|\n",
      "+---+-----+------------+----+-----------+--------------------+-------------------+-------------------------+-----------------------+\n",
      "|  0|    1|     weekday|   5|          0|                 0.0|0.31578947368421056|       3.1263157894736846|     0.6360876392731623|\n",
      "|  1|    1|     weekday|   6|          0|                 0.0|0.07407407407407407|        4.999074074074072|     0.5613978676595025|\n",
      "|  2|    1|     weekday|   6|          0|                 0.0|0.07407407407407407|        4.999074074074072|     0.5613978676595025|\n",
      "|  3|    1|     weekday|   7|          0|0.048665620094191515| 0.0575139146567718|        4.946938775510202|     0.6586620657203356|\n",
      "|  4|    1|     weekday|   8|          0|                 0.0|0.05896805896805897|         5.10442942942943|     0.5879441572713582|\n",
      "|  5|    1|     weekday|   8|          0|                 0.0|0.05896805896805897|         5.10442942942943|     0.5879441572713582|\n",
      "|  6|    1|     weekday|   8|          0|                 0.0|0.05896805896805897|         5.10442942942943|     0.5879441572713582|\n",
      "|  7|    1|     weekday|   9|          0| 0.04220558202859088|0.06596942880128721|         5.30078761061947|     0.5952969434006121|\n",
      "|  8|    1|     weekday|  10|          0|  0.1313559322033898|0.07550077041602465|        6.747979284369116|     0.6932475884244372|\n",
      "|  9|    1|     weekday|  10|          0|  0.1313559322033898|0.07550077041602465|        6.747979284369116|     0.6932475884244372|\n",
      "| 10|    1|     weekday|  11|          0| 0.03765182186234818|0.10334928229665072|        7.491936842105263|     0.6839795725364101|\n",
      "| 11|    1|     weekday|  11|          0| 0.03765182186234818|0.10334928229665072|        7.491936842105263|     0.6839795725364101|\n",
      "| 12|    1|     weekday|  12|          0|                 0.0|0.10671936758893281|        8.239524154589368|     0.8523638215911624|\n",
      "| 13|    1|     weekday|  13|          0| 0.07948717948717948|0.08888888888888889|        9.460900000000004|     0.7912189418298744|\n",
      "| 14|    1|     weekday|  14|          0|  0.2614709851551957|0.07974481658692184|       10.381695906432746|      0.816319844688467|\n",
      "| 15|    1|     weekday|  15|          0| 0.06551141166525781|0.13786213786213786|       10.862308913308912|     0.7291704180064309|\n",
      "| 16|    1|     weekday|  16|          0| 0.08693910256410256|0.10606060606060606|       10.253711805555556|     0.7895993074449668|\n",
      "| 17|    1|     weekday|  16|          0| 0.08693910256410256|0.10606060606060606|       10.253711805555556|     0.7895993074449668|\n",
      "| 18|    1|     weekday|  17|          0| 0.01923076923076923|0.07184750733137829|        10.48131720430108|     0.6954983922829582|\n",
      "| 19|    1|     weekday|  18|          0| 0.09171597633136094|0.05944055944055944|        9.286400641025644|     0.8882234726688103|\n",
      "+---+-----+------------+----+-----------+--------------------+-------------------+-------------------------+-----------------------+\n",
      "only showing top 20 rows\n",
      "\n"
     ]
    }
   ],
   "source": [
    "board_count_route4_dir1_stop1351.show()"
   ]
  },
  {
   "cell_type": "code",
   "execution_count": 22,
   "id": "legal-condition",
   "metadata": {},
   "outputs": [],
   "source": [
    "pred_route4_dir1_stop1351 = rand_forest_pipeline(board_count_route4_dir1_stop1351, '4', '1', '1351')"
   ]
  },
  {
   "cell_type": "code",
   "execution_count": 23,
   "id": "liable-height",
   "metadata": {},
   "outputs": [
    {
     "data": {
      "text/html": [
       "<div>\n",
       "<style scoped>\n",
       "    .dataframe tbody tr th:only-of-type {\n",
       "        vertical-align: middle;\n",
       "    }\n",
       "\n",
       "    .dataframe tbody tr th {\n",
       "        vertical-align: top;\n",
       "    }\n",
       "\n",
       "    .dataframe thead th {\n",
       "        text-align: right;\n",
       "    }\n",
       "</style>\n",
       "<table border=\"1\" class=\"dataframe\">\n",
       "  <thead>\n",
       "    <tr style=\"text-align: right;\">\n",
       "      <th></th>\n",
       "      <th>index</th>\n",
       "      <th>board_count</th>\n",
       "      <th>prediction_clf</th>\n",
       "      <th>prediction_reg</th>\n",
       "      <th>label_reg</th>\n",
       "      <th>Predictions</th>\n",
       "    </tr>\n",
       "  </thead>\n",
       "  <tbody>\n",
       "    <tr>\n",
       "      <th>0</th>\n",
       "      <td>2</td>\n",
       "      <td>0</td>\n",
       "      <td>0.0</td>\n",
       "      <td>NaN</td>\n",
       "      <td>NaN</td>\n",
       "      <td>0.0</td>\n",
       "    </tr>\n",
       "    <tr>\n",
       "      <th>1</th>\n",
       "      <td>6</td>\n",
       "      <td>0</td>\n",
       "      <td>0.0</td>\n",
       "      <td>NaN</td>\n",
       "      <td>NaN</td>\n",
       "      <td>0.0</td>\n",
       "    </tr>\n",
       "    <tr>\n",
       "      <th>2</th>\n",
       "      <td>12</td>\n",
       "      <td>0</td>\n",
       "      <td>0.0</td>\n",
       "      <td>NaN</td>\n",
       "      <td>NaN</td>\n",
       "      <td>0.0</td>\n",
       "    </tr>\n",
       "    <tr>\n",
       "      <th>3</th>\n",
       "      <td>13</td>\n",
       "      <td>0</td>\n",
       "      <td>0.0</td>\n",
       "      <td>NaN</td>\n",
       "      <td>NaN</td>\n",
       "      <td>0.0</td>\n",
       "    </tr>\n",
       "    <tr>\n",
       "      <th>4</th>\n",
       "      <td>18</td>\n",
       "      <td>0</td>\n",
       "      <td>0.0</td>\n",
       "      <td>NaN</td>\n",
       "      <td>NaN</td>\n",
       "      <td>0.0</td>\n",
       "    </tr>\n",
       "  </tbody>\n",
       "</table>\n",
       "</div>"
      ],
      "text/plain": [
       "   index  board_count  prediction_clf  prediction_reg  label_reg  Predictions\n",
       "0      2            0             0.0             NaN        NaN          0.0\n",
       "1      6            0             0.0             NaN        NaN          0.0\n",
       "2     12            0             0.0             NaN        NaN          0.0\n",
       "3     13            0             0.0             NaN        NaN          0.0\n",
       "4     18            0             0.0             NaN        NaN          0.0"
      ]
     },
     "execution_count": 23,
     "metadata": {},
     "output_type": "execute_result"
    }
   ],
   "source": [
    "pred_route4_dir1_stop1351.head()"
   ]
  },
  {
   "cell_type": "code",
   "execution_count": 38,
   "id": "enabling-tablet",
   "metadata": {},
   "outputs": [
    {
     "data": {
      "text/plain": [
       "0.39105497354649604"
      ]
     },
     "execution_count": 38,
     "metadata": {},
     "output_type": "execute_result"
    }
   ],
   "source": [
    "np.sqrt(np.mean(pred_route4_dir1_stop1351.board_count - pred_route4_dir1_stop1351.Predictions)**2)"
   ]
  },
  {
   "cell_type": "code",
   "execution_count": 24,
   "id": "parallel-degree",
   "metadata": {},
   "outputs": [
    {
     "name": "stderr",
     "output_type": "stream",
     "text": [
      "/opt/conda/lib/python3.7/site-packages/seaborn/_decorators.py:43: FutureWarning: Pass the following variables as keyword args: x, y. From version 0.12, the only valid positional argument will be `data`, and passing other arguments without an explicit keyword will result in an error or misinterpretation.\n",
      "  FutureWarning\n",
      "/opt/conda/lib/python3.7/site-packages/seaborn/_decorators.py:43: FutureWarning: Pass the following variables as keyword args: x, y. From version 0.12, the only valid positional argument will be `data`, and passing other arguments without an explicit keyword will result in an error or misinterpretation.\n",
      "  FutureWarning\n"
     ]
    },
    {
     "data": {
      "text/plain": [
       "<matplotlib.legend.Legend at 0x7f2b18187190>"
      ]
     },
     "execution_count": 24,
     "metadata": {},
     "output_type": "execute_result"
    },
    {
     "data": {
      "image/png": "[encoded data removed]",
      "text/plain": [
       "<Figure size 936x595.44 with 1 Axes>"
      ]
     },
     "metadata": {},
     "output_type": "display_data"
    }
   ],
   "source": [
    "sns.set_theme(style=\"darkgrid\")\n",
    "plt.title('Observed and Predicted Board Counts')\n",
    "sns.lineplot(pred_route4_dir1_stop1351.index, pred_route4_dir1_stop1351.board_count, label='Observed', data = pred_route4_dir1_stop1351)\n",
    "sns.lineplot(pred_route4_dir1_stop1351.index, pred_route4_dir1_stop1351.Predictions, label='Predicted', data = pred_route4_dir1_stop1351)\n",
    "plt.xlabel(\"Index\")\n",
    "plt.ylabel(\"Board Count\")\n",
    "plt.legend()"
   ]
  },
  {
   "cell_type": "markdown",
   "id": "considerable-point",
   "metadata": {},
   "source": [
    "### Bus Stop 1883"
   ]
  },
  {
   "cell_type": "code",
   "execution_count": 25,
   "id": "creative-russell",
   "metadata": {},
   "outputs": [],
   "source": [
    "board_count_route4_dir1_stop1883 = spark.read.csv('Data_for_RF_Models/Board_Counts/route_4/direction1/bus_stop_1883/data.csv', header = True, inferSchema = True)"
   ]
  },
  {
   "cell_type": "code",
   "execution_count": 29,
   "id": "trained-alliance",
   "metadata": {},
   "outputs": [
    {
     "name": "stdout",
     "output_type": "stream",
     "text": [
      "+---+-----+------------+----+-----------+-------------------+-------------------+-------------------------+-----------------------+\n",
      "|_c0|month|service_kind|hour|board_count|          mean_temp|        mean_precip|month_average_board_count|surrounding_board_count|\n",
      "+---+-----+------------+----+-----------+-------------------+-------------------+-------------------------+-----------------------+\n",
      "|  0|    1|     weekday|   5|          0| 0.3057110862262038|                0.0|        4.808918128654971|     0.5599272821711466|\n",
      "|  1|    1|     weekday|   6|          2|0.28610763454317895|0.07058823529411765|        5.027647058823528|     0.4759381898454747|\n",
      "|  2|    1|     weekday|   6|          1|0.28610763454317895|0.07058823529411765|        5.027647058823528|     0.4759381898454747|\n",
      "|  3|    1|     weekday|   6|          1|0.28610763454317895|0.07058823529411765|        5.027647058823528|     0.4759381898454747|\n",
      "|  4|    1|     weekday|   7|          5|0.30180388529139685|                0.0|        5.349184782608694|     0.6094330479728638|\n",
      "|  5|    1|     weekday|   7|          1|0.30180388529139685|                0.0|        5.349184782608694|     0.6094330479728638|\n",
      "|  6|    1|     weekday|   8|          2| 0.2624113475177305|                0.0|        5.079398148148147|     0.5285159415430185|\n",
      "|  7|    1|     weekday|   8|          0| 0.2624113475177305|                0.0|        5.079398148148147|     0.5285159415430185|\n",
      "|  8|    1|     weekday|   9|          0| 0.2647058823529412| 0.0196078431372549|        6.163235294117649|     0.5408388520971302|\n",
      "|  9|    1|     weekday|   9|          2| 0.2647058823529412| 0.0196078431372549|        6.163235294117649|     0.5408388520971302|\n",
      "+---+-----+------------+----+-----------+-------------------+-------------------+-------------------------+-----------------------+\n",
      "only showing top 10 rows\n",
      "\n"
     ]
    }
   ],
   "source": [
    "board_count_route4_dir1_stop1883.show(10)"
   ]
  },
  {
   "cell_type": "code",
   "execution_count": 39,
   "id": "alternate-gates",
   "metadata": {},
   "outputs": [
    {
     "data": {
      "text/plain": [
       "0.680347762822981"
      ]
     },
     "execution_count": 39,
     "metadata": {},
     "output_type": "execute_result"
    }
   ],
   "source": [
    "np.sqrt(np.mean(pred_route4_dir1_stop1883.board_count - pred_route4_dir1_stop1883.Predictions)**2)"
   ]
  },
  {
   "cell_type": "code",
   "execution_count": 26,
   "id": "vulnerable-recommendation",
   "metadata": {},
   "outputs": [],
   "source": [
    "pred_route4_dir1_stop1883 = rand_forest_pipeline(board_count_route4_dir1_stop1883, '4', '1', '1883')"
   ]
  },
  {
   "cell_type": "code",
   "execution_count": 27,
   "id": "polar-trouble",
   "metadata": {},
   "outputs": [
    {
     "name": "stderr",
     "output_type": "stream",
     "text": [
      "/opt/conda/lib/python3.7/site-packages/seaborn/_decorators.py:43: FutureWarning: Pass the following variables as keyword args: x, y. From version 0.12, the only valid positional argument will be `data`, and passing other arguments without an explicit keyword will result in an error or misinterpretation.\n",
      "  FutureWarning\n",
      "/opt/conda/lib/python3.7/site-packages/seaborn/_decorators.py:43: FutureWarning: Pass the following variables as keyword args: x, y. From version 0.12, the only valid positional argument will be `data`, and passing other arguments without an explicit keyword will result in an error or misinterpretation.\n",
      "  FutureWarning\n"
     ]
    },
    {
     "data": {
      "text/plain": [
       "<matplotlib.legend.Legend at 0x7f2ac4561ed0>"
      ]
     },
     "execution_count": 27,
     "metadata": {},
     "output_type": "execute_result"
    },
    {
     "data": {
      "image/png": "[encoded data removed]",
      "text/plain": [
       "<Figure size 936x595.44 with 1 Axes>"
      ]
     },
     "metadata": {},
     "output_type": "display_data"
    }
   ],
   "source": [
    "sns.set_theme(style=\"darkgrid\")\n",
    "plt.title('Observed and Predicted Board Counts')\n",
    "sns.lineplot(pred_route4_dir1_stop1883.index, pred_route4_dir1_stop1883.board_count, label='Observed', data = pred_route4_dir1_stop1883)\n",
    "sns.lineplot(pred_route4_dir1_stop1883.index, pred_route4_dir1_stop1883.Predictions, label='Predicted', data = pred_route4_dir1_stop1883)\n",
    "plt.xlabel(\"Index\")\n",
    "plt.ylabel(\"Board Count\")\n",
    "plt.legend()"
   ]
  },
  {
   "cell_type": "code",
   "execution_count": 28,
   "id": "unauthorized-alias",
   "metadata": {},
   "outputs": [
    {
     "data": {
      "text/html": [
       "<div>\n",
       "<style scoped>\n",
       "    .dataframe tbody tr th:only-of-type {\n",
       "        vertical-align: middle;\n",
       "    }\n",
       "\n",
       "    .dataframe tbody tr th {\n",
       "        vertical-align: top;\n",
       "    }\n",
       "\n",
       "    .dataframe thead th {\n",
       "        text-align: right;\n",
       "    }\n",
       "</style>\n",
       "<table border=\"1\" class=\"dataframe\">\n",
       "  <thead>\n",
       "    <tr style=\"text-align: right;\">\n",
       "      <th></th>\n",
       "      <th>index</th>\n",
       "      <th>board_count</th>\n",
       "      <th>prediction_clf</th>\n",
       "      <th>prediction_reg</th>\n",
       "      <th>label_reg</th>\n",
       "      <th>Predictions</th>\n",
       "    </tr>\n",
       "  </thead>\n",
       "  <tbody>\n",
       "    <tr>\n",
       "      <th>0</th>\n",
       "      <td>2</td>\n",
       "      <td>1</td>\n",
       "      <td>1.0</td>\n",
       "      <td>3.364315</td>\n",
       "      <td>1</td>\n",
       "      <td>3.364315</td>\n",
       "    </tr>\n",
       "    <tr>\n",
       "      <th>1</th>\n",
       "      <td>6</td>\n",
       "      <td>2</td>\n",
       "      <td>1.0</td>\n",
       "      <td>3.447906</td>\n",
       "      <td>2</td>\n",
       "      <td>3.447906</td>\n",
       "    </tr>\n",
       "    <tr>\n",
       "      <th>2</th>\n",
       "      <td>12</td>\n",
       "      <td>3</td>\n",
       "      <td>1.0</td>\n",
       "      <td>4.600624</td>\n",
       "      <td>3</td>\n",
       "      <td>4.600624</td>\n",
       "    </tr>\n",
       "    <tr>\n",
       "      <th>3</th>\n",
       "      <td>13</td>\n",
       "      <td>1</td>\n",
       "      <td>1.0</td>\n",
       "      <td>4.600624</td>\n",
       "      <td>1</td>\n",
       "      <td>4.600624</td>\n",
       "    </tr>\n",
       "    <tr>\n",
       "      <th>4</th>\n",
       "      <td>18</td>\n",
       "      <td>3</td>\n",
       "      <td>1.0</td>\n",
       "      <td>4.788753</td>\n",
       "      <td>3</td>\n",
       "      <td>4.788753</td>\n",
       "    </tr>\n",
       "  </tbody>\n",
       "</table>\n",
       "</div>"
      ],
      "text/plain": [
       "   index  board_count  prediction_clf  prediction_reg  label_reg  Predictions\n",
       "0      2            1             1.0        3.364315          1     3.364315\n",
       "1      6            2             1.0        3.447906          2     3.447906\n",
       "2     12            3             1.0        4.600624          3     4.600624\n",
       "3     13            1             1.0        4.600624          1     4.600624\n",
       "4     18            3             1.0        4.788753          3     4.788753"
      ]
     },
     "execution_count": 28,
     "metadata": {},
     "output_type": "execute_result"
    }
   ],
   "source": [
    "pred_route4_dir1_stop1883.head()"
   ]
  }
 ],
 "metadata": {
  "environment": {
   "name": "r-cpu.3-6.m65",
   "type": "gcloud",
   "uri": "gcr.io/deeplearning-platform-release/r-cpu.3-6:m65"
  },
  "kernelspec": {
   "display_name": "Python 3",
   "language": "python",
   "name": "python3"
  },
  "language_info": {
   "codemirror_mode": {
    "name": "ipython",
    "version": 3
   },
   "file_extension": ".py",
   "mimetype": "text/x-python",
   "name": "python",
   "nbconvert_exporter": "python",
   "pygments_lexer": "ipython3",
   "version": "3.7.10"
  }
 },
 "nbformat": 4,
 "nbformat_minor": 5
}
