{
 "cells": [
  {
   "cell_type": "markdown",
   "id": "medium-assault",
   "metadata": {},
   "source": [
    "# PySpark"
   ]
  },
  {
   "cell_type": "code",
   "execution_count": 1,
   "id": "broad-driver",
   "metadata": {},
   "outputs": [],
   "source": [
    "from pyspark.sql import SparkSession\n",
    "from pyspark import SparkContext,SparkConf\n",
    "from pyspark.sql import SQLContext\n",
    "from pyspark.sql import Row\n",
    "from pyspark.sql.functions import desc, row_number, monotonically_increasing_id\n",
    "from pyspark.sql.window import Window\n",
    "from pyspark.sql.functions import UserDefinedFunction,isnan, when, count, col, isnull,month, hour,year,minute,second,lower,lit,dayofweek, to_timestamp, to_date, monotonically_increasing_id, row_number\n",
    "from pyspark.sql.types import TimestampType, DateType,DoubleType,FloatType,IntegerType, StringType, StructType, StructField\n",
    "from pyspark.sql import DataFrame\n",
    "from functools import reduce\n",
    "from pyspark.sql import functions as F\n",
    "import pandas as pd\n",
    "import sparkpickle\n",
    "import timeit\n",
    "from sklearn.metrics import confusion_matrix\n",
    "from pyspark.sql.functions import to_date, udf\n",
    "import dateparser\n",
    "import json\n",
    "from pyspark.ml import Pipeline\n",
    "from pyspark.ml.feature import VectorAssembler, StringIndexer, OneHotEncoder\n",
    "from pyspark.ml.regression import RandomForestRegressor\n",
    "from pyspark.ml.classification import RandomForestClassifier\n",
    "from pyspark.ml.evaluation import RegressionEvaluator\n",
    "from pyspark.ml.tuning import ParamGridBuilder, CrossValidator\n",
    "from pyspark.ml.evaluation import BinaryClassificationEvaluator\n",
    "from pyspark.mllib.evaluation import BinaryClassificationMetrics\n",
    "from pyspark.ml.feature import HashingTF, Tokenizer\n",
    "import matplotlib.pyplot as plt\n",
    "import numpy as np"
   ]
  },
  {
   "cell_type": "code",
   "execution_count": 2,
   "id": "orange-disorder",
   "metadata": {},
   "outputs": [],
   "source": [
    "sc = SparkContext(\"local[*]\", \"Random Forest Models\")\n",
    "spark = SparkSession(sc)"
   ]
  },
  {
   "cell_type": "markdown",
   "id": "military-progress",
   "metadata": {},
   "source": [
    "# Filtered and preprocessed data"
   ]
  },
  {
   "cell_type": "code",
   "execution_count": 4,
   "id": "friendly-guess",
   "metadata": {},
   "outputs": [],
   "source": [
    "board_count_route4_dir1_stop12 = spark.read.csv('Data_for_RF_Models/Board_Counts/route_4/direction1/bus_stop_12/data.csv', header = True, inferSchema = True)\n",
    "#board_count_route4_dir1_stop12 = pickle.load('Data_rf/board_count/direction1/route4/board_count_route4_dir1_stop12.pkl', header = True, inferSchema = True)"
   ]
  },
  {
   "cell_type": "code",
   "execution_count": 5,
   "id": "ranking-fleet",
   "metadata": {},
   "outputs": [
    {
     "name": "stdout",
     "output_type": "stream",
     "text": [
      "+---+-----+------------+----+-----------+-------------------+--------------------+-----------------------+\n",
      "|_c0|month|service_kind|hour|board_count|          mean_temp|         mean_precip|surrounding_board_count|\n",
      "+---+-----+------------+----+-----------+-------------------+--------------------+-----------------------+\n",
      "|  0|    1|     weekday|   9|          0|0.06553581657095381|0.009610653308378085|     0.6160409556313993|\n",
      "|  1|    1|     weekday|  10|          1|0.12748201506508317|0.021835138224994825|     0.6628744785741373|\n",
      "|  2|    1|     weekday|  13|          0|0.21161440426777747| 0.01189846431969855|     0.7853621539628365|\n",
      "|  3|    1|     weekday|  14|          0|0.22646844657657045|0.020642360835600296|     0.8134133006395176|\n",
      "|  4|    1|     weekday|  15|          0| 0.1989162384703077| 0.01747164241023281|     0.7193899317406143|\n",
      "+---+-----+------------+----+-----------+-------------------+--------------------+-----------------------+\n",
      "only showing top 5 rows\n",
      "\n"
     ]
    }
   ],
   "source": [
    "board_count_route4_dir1_stop12.show(5)"
   ]
  },
  {
   "cell_type": "code",
   "execution_count": 6,
   "id": "liable-puzzle",
   "metadata": {},
   "outputs": [],
   "source": [
    "board_count_route4_dir1_stop12 = board_count_route4_dir1_stop12.withColumnRenamed('_c0', 'index')\n",
    "board_count_route4_dir1_stop12 = board_count_route4_dir1_stop12.withColumnRenamed('board_count', 'label')"
   ]
  },
  {
   "cell_type": "code",
   "execution_count": 7,
   "id": "corrected-barcelona",
   "metadata": {},
   "outputs": [
    {
     "name": "stdout",
     "output_type": "stream",
     "text": [
      "root\n",
      " |-- index: integer (nullable = true)\n",
      " |-- month: integer (nullable = true)\n",
      " |-- service_kind: string (nullable = true)\n",
      " |-- hour: integer (nullable = true)\n",
      " |-- label: integer (nullable = true)\n",
      " |-- mean_temp: double (nullable = true)\n",
      " |-- mean_precip: double (nullable = true)\n",
      " |-- surrounding_board_count: double (nullable = true)\n",
      "\n"
     ]
    }
   ],
   "source": [
    "board_count_route4_dir1_stop12.printSchema()"
   ]
  },
  {
   "cell_type": "code",
   "execution_count": 8,
   "id": "false-island",
   "metadata": {},
   "outputs": [
    {
     "name": "stdout",
     "output_type": "stream",
     "text": [
      "1397 8\n"
     ]
    }
   ],
   "source": [
    "print(board_count_route4_dir1_stop12.count(), len(board_count_route4_dir1_stop12.columns))"
   ]
  },
  {
   "cell_type": "code",
   "execution_count": 9,
   "id": "sporting-agriculture",
   "metadata": {},
   "outputs": [],
   "source": [
    "month_ind = StringIndexer().setInputCol('month').setOutputCol('Months')\n",
    "hour_ind = StringIndexer().setInputCol('hour').setOutputCol('Hours')\n",
    "serv_ind = StringIndexer().setInputCol('service_kind').setOutputCol('Serv_kinds')"
   ]
  },
  {
   "cell_type": "code",
   "execution_count": 10,
   "id": "amber-arrest",
   "metadata": {},
   "outputs": [],
   "source": [
    "board_count_route4_dir1_stop12 = month_ind.fit(board_count_route4_dir1_stop12).transform(board_count_route4_dir1_stop12)\n",
    "board_count_route4_dir1_stop12 = hour_ind.fit(board_count_route4_dir1_stop12).transform(board_count_route4_dir1_stop12)\n",
    "board_count_route4_dir1_stop12 = serv_ind.fit(board_count_route4_dir1_stop12).transform(board_count_route4_dir1_stop12)"
   ]
  },
  {
   "cell_type": "code",
   "execution_count": 11,
   "id": "typical-carbon",
   "metadata": {},
   "outputs": [],
   "source": [
    "board_count_route4_dir1_stop12 = board_count_route4_dir1_stop12.drop('month')\n",
    "board_count_route4_dir1_stop12 = board_count_route4_dir1_stop12.drop('hour')\n",
    "board_count_route4_dir1_stop12 = board_count_route4_dir1_stop12.drop('service_kind')"
   ]
  },
  {
   "cell_type": "code",
   "execution_count": 12,
   "id": "dangerous-possibility",
   "metadata": {},
   "outputs": [
    {
     "name": "stdout",
     "output_type": "stream",
     "text": [
      "+-----+-----+-------------------+--------------------+-----------------------+------+-----+----------+\n",
      "|index|label|          mean_temp|         mean_precip|surrounding_board_count|Months|Hours|Serv_kinds|\n",
      "+-----+-----+-------------------+--------------------+-----------------------+------+-----+----------+\n",
      "|    0|    0|0.06553581657095381|0.009610653308378085|     0.6160409556313993|   1.0| 10.0|       0.0|\n",
      "|    1|    1|0.12748201506508317|0.021835138224994825|     0.6628744785741373|   1.0|  3.0|       0.0|\n",
      "|    2|    0|0.21161440426777747| 0.01189846431969855|     0.7853621539628365|   1.0|  2.0|       0.0|\n",
      "|    3|    0|0.22646844657657045|0.020642360835600296|     0.8134133006395176|   1.0|  0.0|       0.0|\n",
      "|    4|    0| 0.1989162384703077| 0.01747164241023281|     0.7193899317406143|   1.0|  1.0|       0.0|\n",
      "+-----+-----+-------------------+--------------------+-----------------------+------+-----+----------+\n",
      "only showing top 5 rows\n",
      "\n"
     ]
    }
   ],
   "source": [
    "board_count_route4_dir1_stop12.show(5)"
   ]
  },
  {
   "cell_type": "code",
   "execution_count": 13,
   "id": "confirmed-space",
   "metadata": {},
   "outputs": [
    {
     "name": "stdout",
     "output_type": "stream",
     "text": [
      "root\n",
      " |-- index: integer (nullable = true)\n",
      " |-- label: integer (nullable = true)\n",
      " |-- mean_temp: double (nullable = true)\n",
      " |-- mean_precip: double (nullable = true)\n",
      " |-- surrounding_board_count: double (nullable = true)\n",
      " |-- Months: double (nullable = false)\n",
      " |-- Hours: double (nullable = false)\n",
      " |-- Serv_kinds: double (nullable = false)\n",
      "\n"
     ]
    }
   ],
   "source": [
    "board_count_route4_dir1_stop12.printSchema()"
   ]
  },
  {
   "cell_type": "markdown",
   "id": "iraqi-inside",
   "metadata": {},
   "source": [
    "## Encoding Categorical Variables"
   ]
  },
  {
   "cell_type": "code",
   "execution_count": 14,
   "id": "quantitative-familiar",
   "metadata": {},
   "outputs": [],
   "source": [
    "encoder = OneHotEncoder(inputCols = ['Months', 'Hours', 'Serv_kinds'], outputCols = ['Months_Cat', 'Hours_Cat', 'Serv_kinds_Cat'])"
   ]
  },
  {
   "cell_type": "code",
   "execution_count": 15,
   "id": "european-relevance",
   "metadata": {},
   "outputs": [
    {
     "name": "stdout",
     "output_type": "stream",
     "text": [
      "+-----+-----+-------------------+--------------------+-----------------------+--------------+---------------+--------------+\n",
      "|index|label|          mean_temp|         mean_precip|surrounding_board_count|    Months_Cat|      Hours_Cat|Serv_kinds_Cat|\n",
      "+-----+-----+-------------------+--------------------+-----------------------+--------------+---------------+--------------+\n",
      "|    0|    0|0.06553581657095381|0.009610653308378085|     0.6160409556313993|(11,[1],[1.0])|(17,[10],[1.0])| (1,[0],[1.0])|\n",
      "|    1|    1|0.12748201506508317|0.021835138224994825|     0.6628744785741373|(11,[1],[1.0])| (17,[3],[1.0])| (1,[0],[1.0])|\n",
      "|    2|    0|0.21161440426777747| 0.01189846431969855|     0.7853621539628365|(11,[1],[1.0])| (17,[2],[1.0])| (1,[0],[1.0])|\n",
      "|    3|    0|0.22646844657657045|0.020642360835600296|     0.8134133006395176|(11,[1],[1.0])| (17,[0],[1.0])| (1,[0],[1.0])|\n",
      "|    4|    0| 0.1989162384703077| 0.01747164241023281|     0.7193899317406143|(11,[1],[1.0])| (17,[1],[1.0])| (1,[0],[1.0])|\n",
      "+-----+-----+-------------------+--------------------+-----------------------+--------------+---------------+--------------+\n",
      "only showing top 5 rows\n",
      "\n"
     ]
    }
   ],
   "source": [
    "model = encoder.fit(board_count_route4_dir1_stop12)\n",
    "dt = model.transform(board_count_route4_dir1_stop12)\n",
    "dt = dt.drop('Months')\n",
    "dt = dt.drop('Hours')\n",
    "dt = dt.drop('Serv_kinds')\n",
    "dt.show(5)"
   ]
  },
  {
   "cell_type": "markdown",
   "id": "empirical-resident",
   "metadata": {},
   "source": [
    "## Random Partition into Training and Test Sets"
   ]
  },
  {
   "cell_type": "code",
   "execution_count": 16,
   "id": "joined-province",
   "metadata": {},
   "outputs": [],
   "source": [
    "(trainingData, ValidationSet) = dt.randomSplit([0.8, 0.2], seed = 123)"
   ]
  },
  {
   "cell_type": "code",
   "execution_count": 17,
   "id": "after-consensus",
   "metadata": {},
   "outputs": [
    {
     "name": "stdout",
     "output_type": "stream",
     "text": [
      "+-----+-----+-------------------+--------------------+-----------------------+--------------+---------------+--------------+\n",
      "|index|label|          mean_temp|         mean_precip|surrounding_board_count|    Months_Cat|      Hours_Cat|Serv_kinds_Cat|\n",
      "+-----+-----+-------------------+--------------------+-----------------------+--------------+---------------+--------------+\n",
      "|    0|    0|0.06553581657095381|0.009610653308378085|     0.6160409556313993|(11,[1],[1.0])|(17,[10],[1.0])| (1,[0],[1.0])|\n",
      "|    1|    1|0.12748201506508317|0.021835138224994825|     0.6628744785741373|(11,[1],[1.0])| (17,[3],[1.0])| (1,[0],[1.0])|\n",
      "|    3|    0|0.22646844657657045|0.020642360835600296|     0.8134133006395176|(11,[1],[1.0])| (17,[0],[1.0])| (1,[0],[1.0])|\n",
      "|    4|    0| 0.1989162384703077| 0.01747164241023281|     0.7193899317406143|(11,[1],[1.0])| (17,[1],[1.0])| (1,[0],[1.0])|\n",
      "|    5|    1| 0.1989162384703077| 0.01747164241023281|     0.7193899317406143|(11,[1],[1.0])| (17,[1],[1.0])| (1,[0],[1.0])|\n",
      "|    7|    0|0.15615530861115348| 0.02919191359261802|     0.7736177474402729|(11,[1],[1.0])| (17,[9],[1.0])| (1,[0],[1.0])|\n",
      "|    8|    0|0.17282875361958466|0.058204037055702096|                    1.0|(11,[1],[1.0])| (17,[4],[1.0])| (1,[0],[1.0])|\n",
      "|    9|    0|0.14232539088487753| 0.05424742958695721|     0.8118114658487061|(11,[1],[1.0])| (17,[8],[1.0])| (1,[0],[1.0])|\n",
      "|   10|    0|0.11531419632806972|0.005075413864808662|     0.6281996587030716|(11,[1],[1.0])|(17,[12],[1.0])| (1,[0],[1.0])|\n",
      "|   11|    0|0.06553581657095381|0.009610653308378085|     0.6160409556313993|(11,[1],[1.0])|(17,[10],[1.0])| (1,[0],[1.0])|\n",
      "|   14|    1|0.21161440426777747| 0.01189846431969855|     0.7853621539628365|(11,[1],[1.0])| (17,[2],[1.0])| (1,[0],[1.0])|\n",
      "|   15|    1| 0.1989162384703077| 0.01747164241023281|     0.7193899317406143|(11,[1],[1.0])| (17,[1],[1.0])| (1,[0],[1.0])|\n",
      "|   16|    0| 0.2018672860304333| 0.06955455762471885|     0.8909333729039915|(11,[1],[1.0])| (17,[5],[1.0])| (1,[0],[1.0])|\n",
      "|   17|    0|0.08732980030409063|0.021203208854942212|      0.429388432801402|(11,[1],[1.0])|(17,[13],[1.0])| (1,[0],[1.0])|\n",
      "|   19|    0|0.10893480742271507|0.020011342461314106|     0.8689419795221842|(11,[1],[1.0])|(17,[11],[1.0])| (1,[0],[1.0])|\n",
      "|   20|    1|0.22646844657657045|0.020642360835600296|     0.8134133006395176|(11,[1],[1.0])| (17,[0],[1.0])| (1,[0],[1.0])|\n",
      "|   21|    1|0.22646844657657045|0.020642360835600296|     0.8134133006395176|(11,[1],[1.0])| (17,[0],[1.0])| (1,[0],[1.0])|\n",
      "|   22|    0| 0.1989162384703077| 0.01747164241023281|     0.7193899317406143|(11,[1],[1.0])| (17,[1],[1.0])| (1,[0],[1.0])|\n",
      "|   24|    0| 0.2018672860304333| 0.06955455762471885|     0.8909333729039915|(11,[1],[1.0])| (17,[5],[1.0])| (1,[0],[1.0])|\n",
      "|   25|    2|0.17282875361958466|0.058204037055702096|                    1.0|(11,[1],[1.0])| (17,[4],[1.0])| (1,[0],[1.0])|\n",
      "+-----+-----+-------------------+--------------------+-----------------------+--------------+---------------+--------------+\n",
      "only showing top 20 rows\n",
      "\n"
     ]
    }
   ],
   "source": [
    "trainingData.show()"
   ]
  },
  {
   "cell_type": "code",
   "execution_count": 18,
   "id": "south-coating",
   "metadata": {},
   "outputs": [
    {
     "name": "stdout",
     "output_type": "stream",
     "text": [
      "+-----+-----+-------------------+--------------------+-----------------------+--------------+---------------+--------------+\n",
      "|index|label|          mean_temp|         mean_precip|surrounding_board_count|    Months_Cat|      Hours_Cat|Serv_kinds_Cat|\n",
      "+-----+-----+-------------------+--------------------+-----------------------+--------------+---------------+--------------+\n",
      "|    2|    0|0.21161440426777747| 0.01189846431969855|     0.7853621539628365|(11,[1],[1.0])| (17,[2],[1.0])| (1,[0],[1.0])|\n",
      "|    6|    0| 0.1989162384703077| 0.01747164241023281|     0.7193899317406143|(11,[1],[1.0])| (17,[1],[1.0])| (1,[0],[1.0])|\n",
      "|   12|    0|0.12748201506508317|0.021835138224994825|     0.6628744785741373|(11,[1],[1.0])| (17,[3],[1.0])| (1,[0],[1.0])|\n",
      "|   13|    2|0.12748201506508317|0.021835138224994825|     0.6628744785741373|(11,[1],[1.0])| (17,[3],[1.0])| (1,[0],[1.0])|\n",
      "|   18|    3|0.12748201506508317|0.021835138224994825|     0.6628744785741373|(11,[1],[1.0])| (17,[3],[1.0])| (1,[0],[1.0])|\n",
      "|   23|    0|0.15615530861115348| 0.02919191359261802|     0.7736177474402729|(11,[1],[1.0])| (17,[9],[1.0])| (1,[0],[1.0])|\n",
      "|   29|    1| 0.2562134938667205| 0.20076905057962793|    0.49401179025752395|(11,[1],[1.0])| (17,[1],[1.0])|     (1,[],[])|\n",
      "|   30|    0| 0.2562134938667205| 0.20076905057962793|    0.49401179025752395|(11,[1],[1.0])| (17,[1],[1.0])|     (1,[],[])|\n",
      "|   33|    0|0.12508133557869494| 0.03659907836364128|     0.4589131005513258|(11,[1],[1.0])|(17,[12],[1.0])|     (1,[],[])|\n",
      "|   34|    4|0.11468345985534463|                 0.0|     0.5396148220380301|(11,[1],[1.0])| (17,[6],[1.0])|     (1,[],[])|\n",
      "|   35|    0|0.14380281459518623|                 0.0|     0.5349829351535835|(11,[1],[1.0])|(17,[11],[1.0])|     (1,[],[])|\n",
      "|   38|    1|0.21584117850624665|0.020418751181506385|     0.5886838737201364|(11,[1],[1.0])| (17,[0],[1.0])|     (1,[],[])|\n",
      "|   40|    0|   0.18839965085215|                 0.0|     0.7133105802047781|(11,[1],[1.0])| (17,[7],[1.0])|     (1,[],[])|\n",
      "|   47|    2|0.06553581657095381|0.009610653308378085|     0.6160409556313993|(11,[1],[1.0])|(17,[10],[1.0])| (1,[0],[1.0])|\n",
      "|   55|    0|0.10893480742271507|0.020011342461314106|     0.8689419795221842|(11,[1],[1.0])|(17,[11],[1.0])| (1,[0],[1.0])|\n",
      "|   61|    1|0.21584117850624665|0.020418751181506385|     0.5886838737201364|(11,[1],[1.0])| (17,[0],[1.0])|     (1,[],[])|\n",
      "|   77|    0|0.17282875361958466|0.058204037055702096|                    1.0|(11,[1],[1.0])| (17,[4],[1.0])| (1,[0],[1.0])|\n",
      "|   80|    0|0.10893480742271507|0.020011342461314106|     0.8689419795221842|(11,[1],[1.0])|(17,[11],[1.0])| (1,[0],[1.0])|\n",
      "|   85|    2|0.14232539088487753| 0.05424742958695721|     0.8118114658487061|(11,[1],[1.0])| (17,[8],[1.0])| (1,[0],[1.0])|\n",
      "|   95|    0| 0.2018672860304333| 0.06955455762471885|     0.8909333729039915|(11,[1],[1.0])| (17,[5],[1.0])| (1,[0],[1.0])|\n",
      "+-----+-----+-------------------+--------------------+-----------------------+--------------+---------------+--------------+\n",
      "only showing top 20 rows\n",
      "\n"
     ]
    }
   ],
   "source": [
    "ValidationSet.show()"
   ]
  },
  {
   "cell_type": "markdown",
   "id": "prerequisite-samba",
   "metadata": {},
   "source": [
    "### Data for Classification"
   ]
  },
  {
   "cell_type": "code",
   "execution_count": 19,
   "id": "brilliant-analyst",
   "metadata": {},
   "outputs": [],
   "source": [
    "trainingData_clf = trainingData.withColumn('label', when(trainingData.label > 0, 1) \\\n",
    "                                           .otherwise(0))"
   ]
  },
  {
   "cell_type": "code",
   "execution_count": 20,
   "id": "seasonal-realtor",
   "metadata": {},
   "outputs": [
    {
     "name": "stdout",
     "output_type": "stream",
     "text": [
      "+-----+-----+-------------------+--------------------+-----------------------+--------------+---------------+--------------+\n",
      "|index|label|          mean_temp|         mean_precip|surrounding_board_count|    Months_Cat|      Hours_Cat|Serv_kinds_Cat|\n",
      "+-----+-----+-------------------+--------------------+-----------------------+--------------+---------------+--------------+\n",
      "|    0|    0|0.06553581657095381|0.009610653308378085|     0.6160409556313993|(11,[1],[1.0])|(17,[10],[1.0])| (1,[0],[1.0])|\n",
      "|    1|    1|0.12748201506508317|0.021835138224994825|     0.6628744785741373|(11,[1],[1.0])| (17,[3],[1.0])| (1,[0],[1.0])|\n",
      "|    3|    0|0.22646844657657045|0.020642360835600296|     0.8134133006395176|(11,[1],[1.0])| (17,[0],[1.0])| (1,[0],[1.0])|\n",
      "|    4|    0| 0.1989162384703077| 0.01747164241023281|     0.7193899317406143|(11,[1],[1.0])| (17,[1],[1.0])| (1,[0],[1.0])|\n",
      "|    5|    1| 0.1989162384703077| 0.01747164241023281|     0.7193899317406143|(11,[1],[1.0])| (17,[1],[1.0])| (1,[0],[1.0])|\n",
      "|    7|    0|0.15615530861115348| 0.02919191359261802|     0.7736177474402729|(11,[1],[1.0])| (17,[9],[1.0])| (1,[0],[1.0])|\n",
      "|    8|    0|0.17282875361958466|0.058204037055702096|                    1.0|(11,[1],[1.0])| (17,[4],[1.0])| (1,[0],[1.0])|\n",
      "|    9|    0|0.14232539088487753| 0.05424742958695721|     0.8118114658487061|(11,[1],[1.0])| (17,[8],[1.0])| (1,[0],[1.0])|\n",
      "|   10|    0|0.11531419632806972|0.005075413864808662|     0.6281996587030716|(11,[1],[1.0])|(17,[12],[1.0])| (1,[0],[1.0])|\n",
      "|   11|    0|0.06553581657095381|0.009610653308378085|     0.6160409556313993|(11,[1],[1.0])|(17,[10],[1.0])| (1,[0],[1.0])|\n",
      "|   14|    1|0.21161440426777747| 0.01189846431969855|     0.7853621539628365|(11,[1],[1.0])| (17,[2],[1.0])| (1,[0],[1.0])|\n",
      "|   15|    1| 0.1989162384703077| 0.01747164241023281|     0.7193899317406143|(11,[1],[1.0])| (17,[1],[1.0])| (1,[0],[1.0])|\n",
      "|   16|    0| 0.2018672860304333| 0.06955455762471885|     0.8909333729039915|(11,[1],[1.0])| (17,[5],[1.0])| (1,[0],[1.0])|\n",
      "|   17|    0|0.08732980030409063|0.021203208854942212|      0.429388432801402|(11,[1],[1.0])|(17,[13],[1.0])| (1,[0],[1.0])|\n",
      "|   19|    0|0.10893480742271507|0.020011342461314106|     0.8689419795221842|(11,[1],[1.0])|(17,[11],[1.0])| (1,[0],[1.0])|\n",
      "|   20|    1|0.22646844657657045|0.020642360835600296|     0.8134133006395176|(11,[1],[1.0])| (17,[0],[1.0])| (1,[0],[1.0])|\n",
      "|   21|    1|0.22646844657657045|0.020642360835600296|     0.8134133006395176|(11,[1],[1.0])| (17,[0],[1.0])| (1,[0],[1.0])|\n",
      "|   22|    0| 0.1989162384703077| 0.01747164241023281|     0.7193899317406143|(11,[1],[1.0])| (17,[1],[1.0])| (1,[0],[1.0])|\n",
      "|   24|    0| 0.2018672860304333| 0.06955455762471885|     0.8909333729039915|(11,[1],[1.0])| (17,[5],[1.0])| (1,[0],[1.0])|\n",
      "|   25|    1|0.17282875361958466|0.058204037055702096|                    1.0|(11,[1],[1.0])| (17,[4],[1.0])| (1,[0],[1.0])|\n",
      "+-----+-----+-------------------+--------------------+-----------------------+--------------+---------------+--------------+\n",
      "only showing top 20 rows\n",
      "\n"
     ]
    }
   ],
   "source": [
    "trainingData_clf.show()"
   ]
  },
  {
   "cell_type": "markdown",
   "id": "czech-blanket",
   "metadata": {},
   "source": [
    "### Data for Regression"
   ]
  },
  {
   "cell_type": "code",
   "execution_count": 21,
   "id": "loved-portfolio",
   "metadata": {},
   "outputs": [],
   "source": [
    "trainingData_reg = trainingData.filter(trainingData.label > 0)"
   ]
  },
  {
   "cell_type": "code",
   "execution_count": 22,
   "id": "continuing-uncle",
   "metadata": {},
   "outputs": [
    {
     "name": "stdout",
     "output_type": "stream",
     "text": [
      "+-----+-----+-------------------+--------------------+-----------------------+--------------+---------------+--------------+\n",
      "|index|label|          mean_temp|         mean_precip|surrounding_board_count|    Months_Cat|      Hours_Cat|Serv_kinds_Cat|\n",
      "+-----+-----+-------------------+--------------------+-----------------------+--------------+---------------+--------------+\n",
      "|    1|    1|0.12748201506508317|0.021835138224994825|     0.6628744785741373|(11,[1],[1.0])| (17,[3],[1.0])| (1,[0],[1.0])|\n",
      "|    5|    1| 0.1989162384703077| 0.01747164241023281|     0.7193899317406143|(11,[1],[1.0])| (17,[1],[1.0])| (1,[0],[1.0])|\n",
      "|   14|    1|0.21161440426777747| 0.01189846431969855|     0.7853621539628365|(11,[1],[1.0])| (17,[2],[1.0])| (1,[0],[1.0])|\n",
      "|   15|    1| 0.1989162384703077| 0.01747164241023281|     0.7193899317406143|(11,[1],[1.0])| (17,[1],[1.0])| (1,[0],[1.0])|\n",
      "|   20|    1|0.22646844657657045|0.020642360835600296|     0.8134133006395176|(11,[1],[1.0])| (17,[0],[1.0])| (1,[0],[1.0])|\n",
      "|   21|    1|0.22646844657657045|0.020642360835600296|     0.8134133006395176|(11,[1],[1.0])| (17,[0],[1.0])| (1,[0],[1.0])|\n",
      "|   25|    2|0.17282875361958466|0.058204037055702096|                    1.0|(11,[1],[1.0])| (17,[4],[1.0])| (1,[0],[1.0])|\n",
      "|   27|    1|0.21584117850624665|0.020418751181506385|     0.5886838737201364|(11,[1],[1.0])| (17,[0],[1.0])|     (1,[],[])|\n",
      "|   36|    2| 0.2412976341145343|0.058985095220208235|     0.5712660490817486|(11,[1],[1.0])| (17,[2],[1.0])|     (1,[],[])|\n",
      "|   37|    5|0.21584117850624665|0.020418751181506385|     0.5886838737201364|(11,[1],[1.0])| (17,[0],[1.0])|     (1,[],[])|\n",
      "|   42|    1|0.21161440426777747| 0.01189846431969855|     0.7853621539628365|(11,[1],[1.0])| (17,[2],[1.0])| (1,[0],[1.0])|\n",
      "|   44|    1| 0.1989162384703077| 0.01747164241023281|     0.7193899317406143|(11,[1],[1.0])| (17,[1],[1.0])| (1,[0],[1.0])|\n",
      "|   45|    3|0.17282875361958466|0.058204037055702096|                    1.0|(11,[1],[1.0])| (17,[4],[1.0])| (1,[0],[1.0])|\n",
      "|   46|    1|0.06553581657095381|0.009610653308378085|     0.6160409556313993|(11,[1],[1.0])|(17,[10],[1.0])| (1,[0],[1.0])|\n",
      "|   49|    1| 0.2018672860304333| 0.06955455762471885|     0.8909333729039915|(11,[1],[1.0])| (17,[5],[1.0])| (1,[0],[1.0])|\n",
      "|   52|    1|0.14232539088487753| 0.05424742958695721|     0.8118114658487061|(11,[1],[1.0])| (17,[8],[1.0])| (1,[0],[1.0])|\n",
      "|   54|    1|0.12748201506508317|0.021835138224994825|     0.6628744785741373|(11,[1],[1.0])| (17,[3],[1.0])| (1,[0],[1.0])|\n",
      "|   57|    1| 0.2018672860304333| 0.06955455762471885|     0.8909333729039915|(11,[1],[1.0])| (17,[5],[1.0])| (1,[0],[1.0])|\n",
      "|   62|    1| 0.2562134938667205| 0.20076905057962793|    0.49401179025752395|(11,[1],[1.0])| (17,[1],[1.0])|     (1,[],[])|\n",
      "|   65|    2|0.11468345985534463|                 0.0|     0.5396148220380301|(11,[1],[1.0])| (17,[6],[1.0])|     (1,[],[])|\n",
      "+-----+-----+-------------------+--------------------+-----------------------+--------------+---------------+--------------+\n",
      "only showing top 20 rows\n",
      "\n"
     ]
    }
   ],
   "source": [
    "trainingData_reg.show()"
   ]
  },
  {
   "cell_type": "code",
   "execution_count": 23,
   "id": "innovative-argument",
   "metadata": {},
   "outputs": [],
   "source": [
    "#testData_reg = testData.filter(testData.label > 0)\n",
    "#testData_reg2 = testData.toPandas()\n",
    "#testData_reg2 = testData_reg2[testData_reg2['index'].isin(clf_predictions[clf_predictions['label_clf'] == 1].index.values)]\n",
    "#testData_reg2.head()"
   ]
  },
  {
   "cell_type": "code",
   "execution_count": 24,
   "id": "innovative-means",
   "metadata": {},
   "outputs": [],
   "source": [
    "#testData_reg2a = spark.createDataFrame(testData_reg2)"
   ]
  },
  {
   "cell_type": "markdown",
   "id": "attended-stevens",
   "metadata": {},
   "source": [
    "### Subordinate Functions"
   ]
  },
  {
   "cell_type": "code",
   "execution_count": 34,
   "id": "worse-premiere",
   "metadata": {},
   "outputs": [],
   "source": [
    "def paste0(ss,sep=None,na_rep=None,):\n",
    "            '''Analogy to R paste0'''\n",
    "            ss = [pd.Series(s) for s in ss]\n",
    "            ss = [s.astype(str) for s in ss]\n",
    "            s = ss[0]\n",
    "            res = s.str.cat(ss[1:],sep=sep,na_rep=na_rep)\n",
    "            return res"
   ]
  },
  {
   "cell_type": "markdown",
   "id": "fatty-gravity",
   "metadata": {},
   "source": [
    "# Classification by Random Forest\n",
    "\n",
    "## Label and Features"
   ]
  },
  {
   "cell_type": "code",
   "execution_count": 26,
   "id": "baking-particle",
   "metadata": {},
   "outputs": [],
   "source": [
    "feature_list = []\n",
    "for col in trainingData_clf.columns[1:8]:\n",
    "    if col == 'label':\n",
    "        continue\n",
    "    else:\n",
    "        feature_list.append(col)"
   ]
  },
  {
   "cell_type": "code",
   "execution_count": 27,
   "id": "historic-celtic",
   "metadata": {},
   "outputs": [],
   "source": [
    "assembler = VectorAssembler(inputCols = feature_list, outputCol = \"features\")"
   ]
  },
  {
   "cell_type": "code",
   "execution_count": 28,
   "id": "realistic-penny",
   "metadata": {},
   "outputs": [],
   "source": [
    "rf_clf = RandomForestClassifier(labelCol = \"label\", featuresCol = \"features\")"
   ]
  },
  {
   "cell_type": "code",
   "execution_count": 29,
   "id": "geographic-writing",
   "metadata": {},
   "outputs": [],
   "source": [
    "pipeline = Pipeline(stages=[assembler, rf_clf])"
   ]
  },
  {
   "cell_type": "code",
   "execution_count": 30,
   "id": "inside-commission",
   "metadata": {},
   "outputs": [],
   "source": [
    "paramGrid = ParamGridBuilder() \\\n",
    "    .addGrid(rf_clf.numTrees, [int(x) for x in np.linspace(start = 10, stop = 110, num = 15)]) \\\n",
    "    .addGrid(rf_clf.maxDepth, [int(x) for x in np.linspace(start = 5, stop = 30, num = 6)]) \\\n",
    "    .build()"
   ]
  },
  {
   "cell_type": "code",
   "execution_count": 31,
   "id": "married-management",
   "metadata": {},
   "outputs": [],
   "source": [
    "crossval = CrossValidator(estimator=pipeline,\n",
    "                          estimatorParamMaps=paramGrid,\n",
    "                          evaluator=BinaryClassificationEvaluator(),\n",
    "                          numFolds=5)"
   ]
  },
  {
   "cell_type": "code",
   "execution_count": 32,
   "id": "double-trunk",
   "metadata": {},
   "outputs": [],
   "source": [
    "tic = timeit.default_timer()\n",
    "\n",
    "cv_clf_Model = crossval.fit(trainingData_clf)\n",
    "\n",
    "toc = timeit.default_timer()\n",
    "\n",
    "processing_time_min = (toc - tic)/60"
   ]
  },
  {
   "cell_type": "code",
   "execution_count": 33,
   "id": "consistent-contents",
   "metadata": {},
   "outputs": [
    {
     "data": {
      "text/plain": [
       "25.6466008897"
      ]
     },
     "execution_count": 33,
     "metadata": {},
     "output_type": "execute_result"
    }
   ],
   "source": [
    "processing_time_min"
   ]
  },
  {
   "cell_type": "code",
   "execution_count": 45,
   "id": "utility-seller",
   "metadata": {},
   "outputs": [],
   "source": [
    "cv_clf_Model.write().overwrite().save('RF_Models/Board_Counts/route_4/direction1/clf_bus_stop_12/')"
   ]
  },
  {
   "cell_type": "markdown",
   "id": "level-contrast",
   "metadata": {},
   "source": [
    "## Model Tuning"
   ]
  },
  {
   "cell_type": "code",
   "execution_count": 37,
   "id": "static-peace",
   "metadata": {},
   "outputs": [
    {
     "name": "stdout",
     "output_type": "stream",
     "text": [
      "numTrees -  45\n",
      "maxDepth -  5\n"
     ]
    }
   ],
   "source": [
    "# Feature importance\n",
    "bestPipeline_clf = cv_clf_Model.bestModel\n",
    "bestModel_clf = bestPipeline_clf.stages[1]\n",
    "\n",
    "\n",
    "# Best hyperparameters\n",
    "print('numTrees - ', bestModel_clf.getNumTrees)\n",
    "print('maxDepth - ', bestModel_clf.getOrDefault('maxDepth'))"
   ]
  },
  {
   "cell_type": "code",
   "execution_count": 38,
   "id": "eleven-museum",
   "metadata": {},
   "outputs": [
    {
     "data": {
      "text/plain": [
       "['mean_temp',\n",
       " 'mean_precip',\n",
       " 'surrounding_board_count',\n",
       " 'Months_Cat',\n",
       " 'Hours_Cat',\n",
       " 'Serv_kinds_Cat']"
      ]
     },
     "execution_count": 38,
     "metadata": {},
     "output_type": "execute_result"
    }
   ],
   "source": [
    "feature_list"
   ]
  },
  {
   "cell_type": "code",
   "execution_count": 39,
   "id": "structured-oracle",
   "metadata": {},
   "outputs": [
    {
     "data": {
      "text/plain": [
       "Text(0.5, 1.0, 'Feature Importances')"
      ]
     },
     "execution_count": 39,
     "metadata": {},
     "output_type": "execute_result"
    },
    {
     "data": {
      "image/png": "[encoded data removed]",
      "text/plain": [
       "<Figure size 1080x576 with 1 Axes>"
      ]
     },
     "metadata": {
      "needs_background": "light"
     },
     "output_type": "display_data"
    }
   ],
   "source": [
    "# Feature importance\n",
    "bestPipeline_clf = cv_clf_Model.bestModel\n",
    "bestModel_clf = bestPipeline_clf.stages[1]\n",
    "\n",
    "importances_clf = bestModel_clf.featureImportances\n",
    "\n",
    "x_values = list(range(len(importances_clf)))\n",
    "plt.figure(figsize = (15,8))\n",
    "\n",
    "plt.bar(x_values, importances_clf, orientation = 'vertical')\n",
    "plt.xticks(x_values, rotation=40)\n",
    "plt.ylabel('Importance')\n",
    "plt.xlabel('Feature')\n",
    "plt.title('Feature Importances')"
   ]
  },
  {
   "cell_type": "markdown",
   "id": "practical-elizabeth",
   "metadata": {},
   "source": [
    "# Regression by Random Forest\n",
    "\n",
    "## Training Data for Regression"
   ]
  },
  {
   "cell_type": "code",
   "execution_count": 40,
   "id": "italic-consequence",
   "metadata": {},
   "outputs": [],
   "source": [
    "feature_list_reg = []\n",
    "for col in trainingData_reg.columns[1:8]:\n",
    "    if col == 'label':\n",
    "        continue\n",
    "    else:\n",
    "        feature_list_reg.append(col)"
   ]
  },
  {
   "cell_type": "code",
   "execution_count": 41,
   "id": "rental-article",
   "metadata": {},
   "outputs": [],
   "source": [
    "assembler_reg = VectorAssembler(inputCols = feature_list_reg, outputCol = \"features\")"
   ]
  },
  {
   "cell_type": "code",
   "execution_count": 42,
   "id": "relative-rebecca",
   "metadata": {},
   "outputs": [],
   "source": [
    "rf_reg = RandomForestRegressor(labelCol=\"label\", featuresCol=\"features\")"
   ]
  },
  {
   "cell_type": "code",
   "execution_count": 43,
   "id": "instructional-bangladesh",
   "metadata": {},
   "outputs": [],
   "source": [
    "pipeline_reg = Pipeline(stages=[assembler_reg, rf_reg])"
   ]
  },
  {
   "cell_type": "code",
   "execution_count": 53,
   "id": "available-hands",
   "metadata": {},
   "outputs": [],
   "source": [
    "#ParamGrid = ParamGridBuilder() \\\n",
    "#    .addGrid(rf_reg.numTrees, [int(x) for x in np.linspace(start = 10, stop = 500, num = 10)]) \\\n",
    "#    .addGrid(rf_reg.maxDepth, [int(x) for x in np.linspace(start = 5, stop = 30, num = 6)]) \\\n",
    "#    .build()"
   ]
  },
  {
   "cell_type": "code",
   "execution_count": 41,
   "id": "distinct-drain",
   "metadata": {},
   "outputs": [],
   "source": [
    "crossval_reg = CrossValidator(estimator=pipeline_reg,\n",
    "                              estimatorParamMaps=paramGrid,\n",
    "                              evaluator=RegressionEvaluator(),\n",
    "                              numFolds=5)"
   ]
  },
  {
   "cell_type": "code",
   "execution_count": 42,
   "id": "competitive-sunset",
   "metadata": {},
   "outputs": [],
   "source": [
    "tic = timeit.default_timer()\n",
    "\n",
    "cv_reg_Model = crossval_reg.fit(trainingData_reg)\n",
    "\n",
    "toc = timeit.default_timer()\n",
    "\n",
    "processing2_time_min = (toc - tic)/60"
   ]
  },
  {
   "cell_type": "code",
   "execution_count": 43,
   "id": "temporal-savannah",
   "metadata": {},
   "outputs": [
    {
     "data": {
      "text/plain": [
       "2.88089830231667"
      ]
     },
     "execution_count": 43,
     "metadata": {},
     "output_type": "execute_result"
    }
   ],
   "source": [
    "processing2_time_min"
   ]
  },
  {
   "cell_type": "markdown",
   "id": "breathing-buying",
   "metadata": {},
   "source": [
    "# Combining the two models"
   ]
  },
  {
   "cell_type": "code",
   "execution_count": null,
   "id": "yellow-copyright",
   "metadata": {},
   "outputs": [],
   "source": [
    "predictions_clf = cv_clf_Model.transform(ValidationSet)"
   ]
  },
  {
   "cell_type": "code",
   "execution_count": null,
   "id": "owned-artist",
   "metadata": {},
   "outputs": [],
   "source": [
    "clf_predictions = clf_Model_predictions[['index', 'label', 'prediction']].toPandas()\n",
    "clf_predictions.columns = ['index', 'board_count', 'prediction_clf']"
   ]
  },
  {
   "cell_type": "markdown",
   "id": "valuable-sunrise",
   "metadata": {},
   "source": [
    "##### Extract predicted counts for regression:"
   ]
  },
  {
   "cell_type": "code",
   "execution_count": null,
   "id": "bearing-captain",
   "metadata": {},
   "outputs": [],
   "source": [
    "index_reg = clf_predictions[clf_predictions['prediction_clf'] == 1].index.values\n",
    "ValidationSet_pd = ValidationSet.toPandas()"
   ]
  },
  {
   "cell_type": "code",
   "execution_count": null,
   "id": "amino-ensemble",
   "metadata": {},
   "outputs": [],
   "source": [
    "ValidationData_reg = ValidationSet_pd[ValidationSet_pd['index'].isin(index_reg)]"
   ]
  },
  {
   "cell_type": "markdown",
   "id": "fantastic-master",
   "metadata": {},
   "source": [
    "##### Prepare data for regression: 'From Pandas back to pyspark'"
   ]
  },
  {
   "cell_type": "code",
   "execution_count": null,
   "id": "regular-latitude",
   "metadata": {},
   "outputs": [],
   "source": [
    "ValidationSet2 = spark.createDataFrame(ValidationData_reg)"
   ]
  },
  {
   "cell_type": "markdown",
   "id": "induced-spray",
   "metadata": {},
   "source": [
    "##### Predict counts:"
   ]
  },
  {
   "cell_type": "code",
   "execution_count": null,
   "id": "junior-microwave",
   "metadata": {},
   "outputs": [],
   "source": [
    "predictions_reg = cv_reg_Model.transform(ValidationSet2)\n",
    "predictions_reg_data = predictions_reg[['index', 'prediction', 'label']].toPandas()\n",
    "predictions_reg_data.columns = ['index', 'prediction_reg', 'label_reg']"
   ]
  },
  {
   "cell_type": "markdown",
   "id": "massive-springer",
   "metadata": {},
   "source": [
    "## Combine predictions:"
   ]
  },
  {
   "cell_type": "code",
   "execution_count": null,
   "id": "digital-manner",
   "metadata": {},
   "outputs": [],
   "source": [
    "Predictions = pd.merge(clf_predictions, predictions_reg_data, on = 'index', how = 'left')\n",
    "Predictions['Predictions'] = np.where(Predictions['prediction_clf'] == 1, Predictions['prediction_reg'], 0)"
   ]
  },
  {
   "cell_type": "code",
   "execution_count": 85,
   "id": "sealed-version",
   "metadata": {},
   "outputs": [],
   "source": [
    "predictions_reg = cv_reg_Model.transform(ValidationSet_spark)"
   ]
  },
  {
   "cell_type": "code",
   "execution_count": 86,
   "id": "coupled-mitchell",
   "metadata": {},
   "outputs": [
    {
     "data": {
      "text/html": [
       "<div>\n",
       "<style scoped>\n",
       "    .dataframe tbody tr th:only-of-type {\n",
       "        vertical-align: middle;\n",
       "    }\n",
       "\n",
       "    .dataframe tbody tr th {\n",
       "        vertical-align: top;\n",
       "    }\n",
       "\n",
       "    .dataframe thead th {\n",
       "        text-align: right;\n",
       "    }\n",
       "</style>\n",
       "<table border=\"1\" class=\"dataframe\">\n",
       "  <thead>\n",
       "    <tr style=\"text-align: right;\">\n",
       "      <th></th>\n",
       "      <th>index</th>\n",
       "      <th>prediction_reg</th>\n",
       "      <th>board_count</th>\n",
       "    </tr>\n",
       "  </thead>\n",
       "  <tbody>\n",
       "    <tr>\n",
       "      <th>0</th>\n",
       "      <td>30</td>\n",
       "      <td>3.218319</td>\n",
       "      <td>0</td>\n",
       "    </tr>\n",
       "    <tr>\n",
       "      <th>1</th>\n",
       "      <td>34</td>\n",
       "      <td>1.927962</td>\n",
       "      <td>4</td>\n",
       "    </tr>\n",
       "    <tr>\n",
       "      <th>2</th>\n",
       "      <td>47</td>\n",
       "      <td>1.238692</td>\n",
       "      <td>2</td>\n",
       "    </tr>\n",
       "    <tr>\n",
       "      <th>3</th>\n",
       "      <td>157</td>\n",
       "      <td>1.429990</td>\n",
       "      <td>0</td>\n",
       "    </tr>\n",
       "    <tr>\n",
       "      <th>4</th>\n",
       "      <td>193</td>\n",
       "      <td>1.616301</td>\n",
       "      <td>0</td>\n",
       "    </tr>\n",
       "  </tbody>\n",
       "</table>\n",
       "</div>"
      ],
      "text/plain": [
       "   index  prediction_reg  board_count\n",
       "0     30        3.218319            0\n",
       "1     34        1.927962            4\n",
       "2     47        1.238692            2\n",
       "3    157        1.429990            0\n",
       "4    193        1.616301            0"
      ]
     },
     "execution_count": 86,
     "metadata": {},
     "output_type": "execute_result"
    }
   ],
   "source": [
    "predictions_reg = predictions_reg[['index', 'prediction', 'label']].toPandas()\n",
    "predictions_reg.columns = ['index', 'prediction_reg', 'board_count']\n",
    "predictions_reg.head()"
   ]
  },
  {
   "cell_type": "code",
   "execution_count": 88,
   "id": "legal-lightning",
   "metadata": {},
   "outputs": [
    {
     "data": {
      "text/plain": [
       "(11, 3)"
      ]
     },
     "execution_count": 88,
     "metadata": {},
     "output_type": "execute_result"
    }
   ],
   "source": [
    "predictions_reg.shape"
   ]
  },
  {
   "cell_type": "code",
   "execution_count": 89,
   "id": "statewide-absence",
   "metadata": {},
   "outputs": [
    {
     "data": {
      "text/html": [
       "<div>\n",
       "<style scoped>\n",
       "    .dataframe tbody tr th:only-of-type {\n",
       "        vertical-align: middle;\n",
       "    }\n",
       "\n",
       "    .dataframe tbody tr th {\n",
       "        vertical-align: top;\n",
       "    }\n",
       "\n",
       "    .dataframe thead th {\n",
       "        text-align: right;\n",
       "    }\n",
       "</style>\n",
       "<table border=\"1\" class=\"dataframe\">\n",
       "  <thead>\n",
       "    <tr style=\"text-align: right;\">\n",
       "      <th></th>\n",
       "      <th>index</th>\n",
       "      <th>prediction_clf</th>\n",
       "      <th>label_clf</th>\n",
       "      <th>prediction_reg</th>\n",
       "      <th>board_count</th>\n",
       "    </tr>\n",
       "  </thead>\n",
       "  <tbody>\n",
       "    <tr>\n",
       "      <th>0</th>\n",
       "      <td>2</td>\n",
       "      <td>0.0</td>\n",
       "      <td>0</td>\n",
       "      <td>NaN</td>\n",
       "      <td>NaN</td>\n",
       "    </tr>\n",
       "    <tr>\n",
       "      <th>1</th>\n",
       "      <td>6</td>\n",
       "      <td>0.0</td>\n",
       "      <td>0</td>\n",
       "      <td>NaN</td>\n",
       "      <td>NaN</td>\n",
       "    </tr>\n",
       "    <tr>\n",
       "      <th>2</th>\n",
       "      <td>12</td>\n",
       "      <td>0.0</td>\n",
       "      <td>0</td>\n",
       "      <td>NaN</td>\n",
       "      <td>NaN</td>\n",
       "    </tr>\n",
       "    <tr>\n",
       "      <th>3</th>\n",
       "      <td>13</td>\n",
       "      <td>0.0</td>\n",
       "      <td>2</td>\n",
       "      <td>NaN</td>\n",
       "      <td>NaN</td>\n",
       "    </tr>\n",
       "    <tr>\n",
       "      <th>4</th>\n",
       "      <td>18</td>\n",
       "      <td>0.0</td>\n",
       "      <td>3</td>\n",
       "      <td>NaN</td>\n",
       "      <td>NaN</td>\n",
       "    </tr>\n",
       "  </tbody>\n",
       "</table>\n",
       "</div>"
      ],
      "text/plain": [
       "   index  prediction_clf  label_clf  prediction_reg  board_count\n",
       "0      2             0.0          0             NaN          NaN\n",
       "1      6             0.0          0             NaN          NaN\n",
       "2     12             0.0          0             NaN          NaN\n",
       "3     13             0.0          2             NaN          NaN\n",
       "4     18             0.0          3             NaN          NaN"
      ]
     },
     "execution_count": 89,
     "metadata": {},
     "output_type": "execute_result"
    }
   ],
   "source": [
    "Predictions = pd.merge(predictions_clf_data, predictions_reg, on = 'index', how = 'left')\n",
    "Predictions.head()"
   ]
  },
  {
   "cell_type": "code",
   "execution_count": 91,
   "id": "julian-panic",
   "metadata": {},
   "outputs": [
    {
     "data": {
      "text/html": [
       "<div>\n",
       "<style scoped>\n",
       "    .dataframe tbody tr th:only-of-type {\n",
       "        vertical-align: middle;\n",
       "    }\n",
       "\n",
       "    .dataframe tbody tr th {\n",
       "        vertical-align: top;\n",
       "    }\n",
       "\n",
       "    .dataframe thead th {\n",
       "        text-align: right;\n",
       "    }\n",
       "</style>\n",
       "<table border=\"1\" class=\"dataframe\">\n",
       "  <thead>\n",
       "    <tr style=\"text-align: right;\">\n",
       "      <th></th>\n",
       "      <th>index</th>\n",
       "      <th>prediction_clf</th>\n",
       "      <th>label_clf</th>\n",
       "      <th>prediction_reg</th>\n",
       "      <th>board_count</th>\n",
       "      <th>Predictions</th>\n",
       "    </tr>\n",
       "  </thead>\n",
       "  <tbody>\n",
       "    <tr>\n",
       "      <th>0</th>\n",
       "      <td>2</td>\n",
       "      <td>0.0</td>\n",
       "      <td>0</td>\n",
       "      <td>NaN</td>\n",
       "      <td>0</td>\n",
       "      <td>0.0</td>\n",
       "    </tr>\n",
       "    <tr>\n",
       "      <th>1</th>\n",
       "      <td>6</td>\n",
       "      <td>0.0</td>\n",
       "      <td>0</td>\n",
       "      <td>NaN</td>\n",
       "      <td>0</td>\n",
       "      <td>0.0</td>\n",
       "    </tr>\n",
       "    <tr>\n",
       "      <th>2</th>\n",
       "      <td>12</td>\n",
       "      <td>0.0</td>\n",
       "      <td>0</td>\n",
       "      <td>NaN</td>\n",
       "      <td>0</td>\n",
       "      <td>0.0</td>\n",
       "    </tr>\n",
       "    <tr>\n",
       "      <th>3</th>\n",
       "      <td>13</td>\n",
       "      <td>0.0</td>\n",
       "      <td>2</td>\n",
       "      <td>NaN</td>\n",
       "      <td>2</td>\n",
       "      <td>0.0</td>\n",
       "    </tr>\n",
       "    <tr>\n",
       "      <th>4</th>\n",
       "      <td>18</td>\n",
       "      <td>0.0</td>\n",
       "      <td>3</td>\n",
       "      <td>NaN</td>\n",
       "      <td>3</td>\n",
       "      <td>0.0</td>\n",
       "    </tr>\n",
       "  </tbody>\n",
       "</table>\n",
       "</div>"
      ],
      "text/plain": [
       "   index  prediction_clf  label_clf  prediction_reg  board_count  Predictions\n",
       "0      2             0.0          0             NaN            0          0.0\n",
       "1      6             0.0          0             NaN            0          0.0\n",
       "2     12             0.0          0             NaN            0          0.0\n",
       "3     13             0.0          2             NaN            2          0.0\n",
       "4     18             0.0          3             NaN            3          0.0"
      ]
     },
     "execution_count": 91,
     "metadata": {},
     "output_type": "execute_result"
    }
   ],
   "source": [
    "Predictions['Predictions'] = np.where(Predictions['prediction_clf'] == 1, Predictions['prediction_reg'], 0)\n",
    "Predictions['board_count'] = ValidationSet_pd['label']\n",
    "Predictions.head()"
   ]
  },
  {
   "cell_type": "code",
   "execution_count": null,
   "id": "phantom-error",
   "metadata": {},
   "outputs": [],
   "source": []
  },
  {
   "cell_type": "code",
   "execution_count": null,
   "id": "african-manner",
   "metadata": {},
   "outputs": [],
   "source": []
  },
  {
   "cell_type": "code",
   "execution_count": 92,
   "id": "listed-reach",
   "metadata": {},
   "outputs": [
    {
     "data": {
      "image/png": "[encoded data removed]",
      "text/plain": [
       "<Figure size 1080x720 with 1 Axes>"
      ]
     },
     "metadata": {
      "needs_background": "light"
     },
     "output_type": "display_data"
    }
   ],
   "source": [
    "fig = plt.figure(figsize = (15,10))\n",
    "fig.suptitle('Predicted versus actual counts using a Random Forest Pipeline')\n",
    "actual, = plt.plot(Predictions.index, Predictions.board_count, 'ro-', label='Actual')\n",
    "predicted, = plt.plot(Predictions.index, Predictions.Predictions, 'go-', label='Predicted')\n",
    "plt.legend(handles=[predicted, actual])\n",
    "plt.show()"
   ]
  },
  {
   "cell_type": "code",
   "execution_count": 45,
   "id": "present-silver",
   "metadata": {},
   "outputs": [
    {
     "data": {
      "text/plain": [
       "Text(0.5, 1.0, 'Feature Importances')"
      ]
     },
     "execution_count": 45,
     "metadata": {},
     "output_type": "execute_result"
    },
    {
     "data": {
      "image/png": "[encoded data removed]",
      "text/plain": [
       "<Figure size 1080x576 with 1 Axes>"
      ]
     },
     "metadata": {
      "needs_background": "light"
     },
     "output_type": "display_data"
    }
   ],
   "source": [
    "# Feature importance\n",
    "bestPipeline_reg = cv_reg_Model.bestModel\n",
    "bestModel_reg = bestPipeline_reg.stages[1]\n",
    "\n",
    "importances_reg = bestModel_reg.featureImportances\n",
    "\n",
    "x_values = list(range(len(importances_reg)))\n",
    "plt.figure(figsize = (15,8))\n",
    "\n",
    "plt.bar(x_values, importances_reg, orientation = 'vertical')\n",
    "plt.xticks(x_values, rotation=40)\n",
    "plt.ylabel('Importance')\n",
    "plt.xlabel('Feature')\n",
    "plt.title('Feature Importances')"
   ]
  },
  {
   "cell_type": "code",
   "execution_count": 47,
   "id": "greenhouse-salad",
   "metadata": {},
   "outputs": [
    {
     "name": "stdout",
     "output_type": "stream",
     "text": [
      "numTrees -  20\n",
      "maxDepth -  5\n"
     ]
    }
   ],
   "source": [
    "# Best hyperparameters\n",
    "print('numTrees - ', bestModel_reg.getNumTrees)\n",
    "print('maxDepth - ', bestModel_reg.getOrDefault('maxDepth'))"
   ]
  },
  {
   "cell_type": "markdown",
   "id": "binding-person",
   "metadata": {},
   "source": [
    "# Complete function"
   ]
  },
  {
   "cell_type": "code",
   "execution_count": 50,
   "id": "innocent-leave",
   "metadata": {},
   "outputs": [],
   "source": [
    "def rand_forest_pipeline(DF, route, direction, bus_stop):\n",
    "    \n",
    "    from pyspark.ml import Pipeline\n",
    "    from pyspark.ml.feature import VectorAssembler, StringIndexer, OneHotEncoder\n",
    "    from pyspark.ml.regression import RandomForestRegressor\n",
    "    from pyspark.ml.classification import RandomForestClassifier\n",
    "    from pyspark.ml.evaluation import RegressionEvaluator\n",
    "    from pyspark.ml.tuning import ParamGridBuilder, CrossValidator\n",
    "    from pyspark.ml.evaluation import BinaryClassificationEvaluator\n",
    "    from pyspark.mllib.evaluation import BinaryClassificationMetrics\n",
    "    from pyspark.sql import DataFrame\n",
    "    \n",
    "    DF = DF.withColumnRenamed('_c0', 'index')\n",
    "    DF = DF.withColumnRenamed('board_count', 'label')\n",
    "       \n",
    "    month_ind = StringIndexer().setInputCol('month').setOutputCol('Months')\n",
    "    hour_ind = StringIndexer().setInputCol('hour').setOutputCol('Hours')\n",
    "    serv_ind = StringIndexer().setInputCol('service_kind').setOutputCol('Serv_kinds')\n",
    "    \n",
    "    DF = month_ind.fit(DF).transform(DF)\n",
    "    DF = hour_ind.fit(DF).transform(DF)\n",
    "    DF = serv_ind.fit(DF).transform(DF)\n",
    "    \n",
    "    DF = DF.drop('month')\n",
    "    DF = DF.drop('hour')\n",
    "    DF = DF.drop('service_kind')\n",
    "    \n",
    "    encoder = OneHotEncoder(inputCols = ['Months', 'Hours', 'Serv_kinds'], outputCols = ['Months_Cat', 'Hours_Cat', 'Serv_kinds_Cat'])\n",
    "    \n",
    "    model = encoder.fit(board_count_route4_dir1_stop12)\n",
    "    dt = model.transform(board_count_route4_dir1_stop12)\n",
    "    dt = dt.drop('Months')\n",
    "    dt = dt.drop('Hours')\n",
    "    dt = dt.drop('Serv_kinds')\n",
    "    \n",
    "    (trainingData, ValidationSet) = dt.randomSplit([0.8, 0.2], seed = 123)\n",
    "             \n",
    "    #-------------------------------------------------------------------------------------------------------------\n",
    "    # Required function to save the models:\n",
    "    \n",
    "    def paste0(ss,sep=None,na_rep=None,):\n",
    "            '''Analogy to R paste0'''\n",
    "            ss = [pd.Series(s) for s in ss]\n",
    "            ss = [s.astype(str) for s in ss]\n",
    "            s = ss[0]\n",
    "            res = s.str.cat(ss[1:],sep=sep,na_rep=na_rep)\n",
    "            return res\n",
    "    \n",
    "    \n",
    "    file_path = paste0([paste0([paste0(['RF_Models', 'Board_Counts'], sep ='/'), \n",
    "                                    paste0(['route', route], sep = '_')], sep = '/'), \n",
    "                            paste0([paste0(['direction', direction]),\n",
    "                                    paste0(['bus_stop', bus_stop], sep = '_')], sep = '/')], sep = '/')\n",
    "    \n",
    "    file_name_clf = paste0(['clf', 'model'], sep = '_')\n",
    "    file_name_reg = paste0(['reg', 'model'], sep = '_')\n",
    "    \n",
    "    complete_path_clf = paste0([file_path, file_name_clf], sep = '/')[0]\n",
    "    complete_path_reg = paste0([file_path, file_name_reg], sep = '/')[0]\n",
    "    #-------------------------------------------------------------------------------------------------------------\n",
    "    # Classification\n",
    "    \n",
    "    ## Data preparation:\n",
    "    \n",
    "    trainingData_clf = trainingData.withColumn('label', when(trainingData.label > 0, 1) \\\n",
    "                                               .otherwise(0))\n",
    "       \n",
    "    feature_list = []\n",
    "    for col in trainingData_clf.columns:\n",
    "        if col == 'label':\n",
    "            continue\n",
    "        else:\n",
    "            feature_list.append(col)\n",
    "            \n",
    "            \n",
    "    assembler = VectorAssembler(inputCols=feature_list, outputCol=\"features\")\n",
    "    \n",
    "    ## Random Forest Classifier:\n",
    "    \n",
    "    rf_clf = RandomForestClassifier(labelCol=\"label\", featuresCol=\"features\")\n",
    "    \n",
    "    pipeline = Pipeline(stages=[assembler, rf_clf])\n",
    "    \n",
    "    paramGrid = ParamGridBuilder() \\\n",
    "        .addGrid(rf_clf.numTrees, [int(x) for x in np.linspace(start = 10, stop = 100, num = 10)]) \\\n",
    "        .addGrid(rf_clf.maxDepth, [int(x) for x in np.linspace(start = 5, stop = 25, num = 6)]) \\\n",
    "        .build()\n",
    "    \n",
    "    crossval = CrossValidator(estimator = pipeline,\n",
    "                              estimatorParamMaps = paramGrid,\n",
    "                              evaluator = BinaryClassificationEvaluator(),\n",
    "                              numFolds = 5)\n",
    "    \n",
    "    ### Train Model:\n",
    "    \n",
    "    cv_clf_Model = crossval.fit(trainingData_clf)\n",
    "    \n",
    "    #### Save trained model:\n",
    "    cv_clf_Model.write().overwrite().save(complete_path_clf)\n",
    "    \n",
    "    #--------------------------------------------------------------------------------------------------\n",
    "    # Regression\n",
    "    \n",
    "    ## Data preparation:\n",
    "    \n",
    "    trainingData_reg = spark.createDataFrame(trainingData.filter(trainingData.label > 0).collect())\n",
    "        \n",
    "    feature_list_reg = []\n",
    "    for col in trainingData_reg.columns[1:8]:\n",
    "        if col == 'label':\n",
    "            continue\n",
    "        else:\n",
    "            feature_list_reg.append(col)\n",
    "            \n",
    "    assembler_reg = VectorAssembler(inputCols = feature_list_reg, outputCol = \"features\")\n",
    "        \n",
    "    ## Random Forest Regression:\n",
    "    \n",
    "    rf_reg = RandomForestRegressor(labelCol=\"label\", featuresCol=\"features\")\n",
    "    pipeline_reg = Pipeline(stages=[assembler_reg, rf_reg])\n",
    "    \n",
    "    paramGrid = ParamGridBuilder() \\\n",
    "        .addGrid(rf_reg.numTrees, [int(x) for x in np.linspace(start = 10, stop = 100, num = 3)]) \\\n",
    "        .addGrid(rf_reg.maxDepth, [int(x) for x in np.linspace(start = 5, stop = 25, num = 5)]) \\\n",
    "        .build()\n",
    "    \n",
    "    crossval_reg = CrossValidator(estimator=pipeline_reg,\n",
    "                                  estimatorParamMaps=paramGrid,\n",
    "                                  evaluator=RegressionEvaluator(),\n",
    "                                  numFolds=5)\n",
    "    ### Train Model:\n",
    "    \n",
    "    cv_reg_Model = crossval_reg.fit(trainingData_reg)\n",
    "    \n",
    "    #### Save trained model:\n",
    "    cv_reg_Model.write().overwrite().save(complete_path_reg)\n",
    "    \n",
    "    #------------------------------------------------------------------------------------------------\n",
    "    ### Test Combined Models:\n",
    "    \n",
    "    #### Classification:\n",
    "    \n",
    "       \n",
    "    ##### Predict zeros and counts:\n",
    "    \n",
    "    clf_Model_predictions = cv_clf_Model.transform(ValidationSet)\n",
    "    \n",
    "    clf_predictions = clf_Model_predictions[['index', 'label', 'prediction']].toPandas()\n",
    "    clf_predictions.columns = ['index', 'board_count', 'prediction_clf']\n",
    "    \n",
    "    #### Regression:\n",
    "    \n",
    "    ##### Extract predicted counts for regression:\n",
    "    \n",
    "    index_reg = clf_predictions[clf_predictions['prediction_clf'] == 1].index.values\n",
    "    \n",
    "    ValidationSet_pd = ValidationSet.toPandas()\n",
    "    \n",
    "    ValidationData_reg = ValidationSet_pd[ValidationSet_pd['index'].isin(index_reg)]\n",
    "    \n",
    "    ##### Prepare data for regression: 'From Pandas back to pyspark'\n",
    "    \n",
    "    ValidationSet2 = spark.createDataFrame(ValidationData_reg)\n",
    "    \n",
    "    ##### Predict counts:\n",
    "    \n",
    "    predictions_reg = cv_reg_Model.transform(ValidationSet2)\n",
    "    \n",
    "    predictions_reg_data = predictions_reg[['index', 'prediction', 'label']].toPandas()\n",
    "    predictions_reg_data.columns = ['index', 'prediction_reg', 'label_reg']\n",
    "    \n",
    "    #------------------------------------------------------------------------------------------------------\n",
    "    # Combine predictions:\n",
    "    \n",
    "    Predictions = pd.merge(clf_predictions, predictions_reg_data, on = 'index', how = 'left')\n",
    "    Predictions['Predictions'] = np.where(Predictions['prediction_clf'] == 1, Predictions['prediction_reg'], 0)\n",
    "                              \n",
    "    return(Predictions)"
   ]
  },
  {
   "cell_type": "code",
   "execution_count": null,
   "id": "single-projection",
   "metadata": {},
   "outputs": [],
   "source": []
  },
  {
   "cell_type": "code",
   "execution_count": 190,
   "id": "alert-workplace",
   "metadata": {},
   "outputs": [],
   "source": [
    "#spark.udf.register(name = 'rand_forest_pipeline', f = rand_forest_pipeline)"
   ]
  },
  {
   "cell_type": "code",
   "execution_count": 48,
   "id": "twenty-queensland",
   "metadata": {},
   "outputs": [],
   "source": [
    "board_count_route4_dir1_stop1351 = spark.read.csv('Data_for_RF_Models/Board_Counts/route_4/direction1/bus_stop_1351/data.csv', header = True, inferSchema = True)"
   ]
  },
  {
   "cell_type": "code",
   "execution_count": null,
   "id": "usual-president",
   "metadata": {},
   "outputs": [],
   "source": [
    "pred_route4_dir1_stop1351 = rand_forest_pipeline(board_count_route4_dir1_stop1351, '4', '1', '1351')"
   ]
  },
  {
   "cell_type": "code",
   "execution_count": null,
   "id": "piano-profit",
   "metadata": {},
   "outputs": [],
   "source": [
    "pred_route4_dir1_stop1351.head()"
   ]
  },
  {
   "cell_type": "code",
   "execution_count": 134,
   "id": "impressive-reproduction",
   "metadata": {},
   "outputs": [
    {
     "data": {
      "image/png": "[encoded data removed]",
      "text/plain": [
       "<Figure size 1080x720 with 1 Axes>"
      ]
     },
     "metadata": {
      "needs_background": "light"
     },
     "output_type": "display_data"
    }
   ],
   "source": [
    "fig = plt.figure(figsize = (15,10))\n",
    "fig.suptitle('Predicted versus actual counts using a Random Forest Pipeline')\n",
    "actual, = plt.plot(pred_route4_dir1_stop1351.index, pred_route4_dir1_stop1351.board_count, 'ro-', label='Actual')\n",
    "predicted, = plt.plot(pred_route4_dir1_stop1351.index, pred_route4_dir1_stop1351.Predictions, 'go-', label='Predicted')\n",
    "plt.legend(handles=[predicted, actual])\n",
    "plt.show()"
   ]
  },
  {
   "cell_type": "code",
   "execution_count": null,
   "id": "damaged-reggae",
   "metadata": {},
   "outputs": [],
   "source": []
  },
  {
   "cell_type": "code",
   "execution_count": null,
   "id": "sticky-maria",
   "metadata": {},
   "outputs": [],
   "source": []
  },
  {
   "cell_type": "code",
   "execution_count": null,
   "id": "alternate-feeding",
   "metadata": {},
   "outputs": [],
   "source": []
  }
 ],
 "metadata": {
  "environment": {
   "name": "r-cpu.3-6.m65",
   "type": "gcloud",
   "uri": "gcr.io/deeplearning-platform-release/r-cpu.3-6:m65"
  },
  "kernelspec": {
   "display_name": "Python 3",
   "language": "python",
   "name": "python3"
  },
  "language_info": {
   "codemirror_mode": {
    "name": "ipython",
    "version": 3
   },
   "file_extension": ".py",
   "mimetype": "text/x-python",
   "name": "python",
   "nbconvert_exporter": "python",
   "pygments_lexer": "ipython3",
   "version": "3.7.10"
  }
 },
 "nbformat": 4,
 "nbformat_minor": 5
}
