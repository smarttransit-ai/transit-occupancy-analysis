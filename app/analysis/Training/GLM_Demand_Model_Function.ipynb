{
 "cells": [
  {
   "cell_type": "markdown",
   "id": "27cd4e2f-617d-4d4a-aaa5-956dd2d154a7",
   "metadata": {},
   "source": [
    "# Generalized Linear Models\n",
    "\n",
    "Part of our proposed models include models that are based on generalize linear models such as Poisson regression and Negative Binomial. Also, we included Zero-Inflated and Hurdle models to cope with the high proportion of zero counts.\n",
    "\n",
    "This latter characteristic was a determinant to search for discrete-valued models that could cope with a high proportion of zero counts. Unfortunately, Python did not have a documented and certified library able to run Hurdle models, and thus, we decided to use R.\n",
    "\n",
    "In this notebook you fill find how to read and process the `CARTA` dataset in R. That means that we included an R version of all the developed functions for data processing and variable generation that were written in Python. \n",
    "\n",
    "The following libraries are required to run this notebook:"
   ]
  },
  {
   "cell_type": "code",
   "execution_count": 112,
   "id": "d3500662-7d46-4506-9d79-7530bcf9c6c4",
   "metadata": {},
   "outputs": [],
   "source": [
    "library(tidyverse)\n",
    "library(lubridate)\n",
    "library(tibble)\n",
    "library(data.table)\n",
    "library(MASS)\n",
    "library(pscl)\n",
    "library(caret)\n",
    "library(readr)\n",
    "library(janitor)"
   ]
  },
  {
   "cell_type": "markdown",
   "id": "9c8374a5-49f2-4ce2-88f7-c7c539d97d58",
   "metadata": {},
   "source": [
    "CARTA dataset:"
   ]
  },
  {
   "cell_type": "code",
   "execution_count": 3,
   "id": "drawn-tension",
   "metadata": {},
   "outputs": [
    {
     "name": "stderr",
     "output_type": "stream",
     "text": [
      "\u001b[1m\u001b[1mRows: \u001b[1m\u001b[22m\u001b[34m\u001b[34m9705963\u001b[34m\u001b[39m \u001b[1m\u001b[1mColumns: \u001b[1m\u001b[22m\u001b[34m\u001b[34m26\u001b[34m\u001b[39m\n",
      "\n",
      "\u001b[36m──\u001b[39m \u001b[1m\u001b[1mColumn specification\u001b[1m\u001b[22m \u001b[36m────────────────────────────────────────────────────────\u001b[39m\n",
      "\u001b[1mDelimiter:\u001b[22m \",\"\n",
      "\u001b[31mchr\u001b[39m   (4): route_id, direction_desc, service_period, service_kind\n",
      "\u001b[32mdbl\u001b[39m  (15): trip_id, stop_id, stop_sequence, stop_lat, stop_lon, direction_id...\n",
      "\u001b[34mdttm\u001b[39m  (5): scheduled_arrival_time, actual_arrival_time, scheduled_datetime, ...\n",
      "\u001b[34mdate\u001b[39m  (2): date, trip_date\n",
      "\n",
      "\n",
      "\u001b[36mℹ\u001b[39m Use \u001b[30m\u001b[47m\u001b[30m\u001b[47m`spec()`\u001b[47m\u001b[30m\u001b[49m\u001b[39m to retrieve the full column specification for this data.\n",
      "\u001b[36mℹ\u001b[39m Specify the column types or set \u001b[30m\u001b[47m\u001b[30m\u001b[47m`show_col_types = FALSE`\u001b[47m\u001b[30m\u001b[49m\u001b[39m to quiet this message.\n",
      "\n"
     ]
    }
   ],
   "source": [
    "carta = read_csv('data/jmartinez/Transit_Data/carta.csv')"
   ]
  },
  {
   "cell_type": "code",
   "execution_count": 58,
   "id": "8c7c38dd-1f55-4893-8483-aba9acc25123",
   "metadata": {},
   "outputs": [
    {
     "data": {
      "text/html": [
       "1658648"
      ],
      "text/latex": [
       "1658648"
      ],
      "text/markdown": [
       "1658648"
      ],
      "text/plain": [
       "[1] 1658648"
      ]
     },
     "metadata": {},
     "output_type": "display_data"
    }
   ],
   "source": [
    "length(which(is.na(carta$route_id) == T, arr.ind = T))"
   ]
  },
  {
   "cell_type": "markdown",
   "id": "63dbf475-9d7f-4778-a394-106ee60474fd",
   "metadata": {},
   "source": [
    "The following cell transforms some variables into string or categorical variables:"
   ]
  },
  {
   "cell_type": "code",
   "execution_count": 59,
   "id": "alike-consensus",
   "metadata": {},
   "outputs": [],
   "source": [
    "carta$trip_id = as.character(carta$trip_id)\n",
    "carta$stop_id = as.character(carta$stop_id)\n",
    "carta$route_id = as.character(carta$route_id)\n",
    "carta$direction_id = as.character(carta$direction_id)\n",
    "carta$hour = factor(carta$hour)\n",
    "carta$month = factor(carta$month)"
   ]
  },
  {
   "cell_type": "code",
   "execution_count": 60,
   "id": "amazing-official",
   "metadata": {},
   "outputs": [
    {
     "data": {
      "text/html": [
       "<table class=\"dataframe\">\n",
       "<caption>A tibble: 6 × 26</caption>\n",
       "<thead>\n",
       "\t<tr><th scope=col>trip_id</th><th scope=col>scheduled_arrival_time</th><th scope=col>actual_arrival_time</th><th scope=col>stop_id</th><th scope=col>stop_sequence</th><th scope=col>stop_lat</th><th scope=col>stop_lon</th><th scope=col>route_id</th><th scope=col>direction_id</th><th scope=col>board_count</th><th scope=col>⋯</th><th scope=col>actual_arrival_datetime</th><th scope=col>trip_start_time</th><th scope=col>day_of_week</th><th scope=col>trip_date</th><th scope=col>hour</th><th scope=col>year</th><th scope=col>month</th><th scope=col>Estimated_Temp</th><th scope=col>Estimated_Precip</th><th scope=col>service_kind</th></tr>\n",
       "\t<tr><th scope=col>&lt;chr&gt;</th><th scope=col>&lt;dttm&gt;</th><th scope=col>&lt;dttm&gt;</th><th scope=col>&lt;chr&gt;</th><th scope=col>&lt;dbl&gt;</th><th scope=col>&lt;dbl&gt;</th><th scope=col>&lt;dbl&gt;</th><th scope=col>&lt;chr&gt;</th><th scope=col>&lt;chr&gt;</th><th scope=col>&lt;dbl&gt;</th><th scope=col>⋯</th><th scope=col>&lt;dttm&gt;</th><th scope=col>&lt;dttm&gt;</th><th scope=col>&lt;dbl&gt;</th><th scope=col>&lt;date&gt;</th><th scope=col>&lt;fct&gt;</th><th scope=col>&lt;dbl&gt;</th><th scope=col>&lt;fct&gt;</th><th scope=col>&lt;dbl&gt;</th><th scope=col>&lt;dbl&gt;</th><th scope=col>&lt;chr&gt;</th></tr>\n",
       "</thead>\n",
       "<tbody>\n",
       "\t<tr><td>132994</td><td>1900-01-01 04:55:00</td><td>1900-01-01 04:52:00</td><td>1351</td><td>1</td><td>35.05266</td><td>-85.30972</td><td>1</td><td>0</td><td>1</td><td>⋯</td><td>2019-01-02 04:52:00</td><td>1900-01-01 04:55:00</td><td>2</td><td>2019-01-02</td><td>4</td><td>2019</td><td>1</td><td>8.350000</td><td>0</td><td>weekday</td></tr>\n",
       "\t<tr><td>132994</td><td>1900-01-01 04:55:41</td><td>1900-01-01 04:56:00</td><td>12  </td><td>2</td><td>35.05070</td><td>-85.30953</td><td>1</td><td>0</td><td>0</td><td>⋯</td><td>2019-01-02 04:56:00</td><td>1900-01-01 04:55:00</td><td>2</td><td>2019-01-02</td><td>4</td><td>2019</td><td>1</td><td>8.343167</td><td>0</td><td>weekday</td></tr>\n",
       "\t<tr><td>132994</td><td>1900-01-01 04:56:20</td><td>1900-01-01 04:57:00</td><td>1555</td><td>3</td><td>35.04883</td><td>-85.30955</td><td>1</td><td>0</td><td>0</td><td>⋯</td><td>2019-01-02 04:57:00</td><td>1900-01-01 04:55:00</td><td>2</td><td>2019-01-02</td><td>4</td><td>2019</td><td>1</td><td>8.336667</td><td>0</td><td>weekday</td></tr>\n",
       "\t<tr><td>132994</td><td>1900-01-01 04:56:35</td><td>1900-01-01 04:57:00</td><td>1579</td><td>4</td><td>35.04812</td><td>-85.30955</td><td>1</td><td>0</td><td>0</td><td>⋯</td><td>2019-01-02 04:57:00</td><td>1900-01-01 04:55:00</td><td>2</td><td>2019-01-02</td><td>4</td><td>2019</td><td>1</td><td>8.334167</td><td>0</td><td>weekday</td></tr>\n",
       "\t<tr><td>132994</td><td>1900-01-01 04:57:22</td><td>1900-01-01 04:57:00</td><td>1354</td><td>5</td><td>35.04598</td><td>-85.30952</td><td>1</td><td>0</td><td>0</td><td>⋯</td><td>2019-01-02 04:57:00</td><td>1900-01-01 04:55:00</td><td>2</td><td>2019-01-02</td><td>4</td><td>2019</td><td>1</td><td>8.326333</td><td>0</td><td>weekday</td></tr>\n",
       "\t<tr><td>132994</td><td>1900-01-01 04:57:35</td><td>1900-01-01 04:57:00</td><td>1353</td><td>6</td><td>35.04538</td><td>-85.30945</td><td>1</td><td>0</td><td>0</td><td>⋯</td><td>2019-01-02 04:57:00</td><td>1900-01-01 04:55:00</td><td>2</td><td>2019-01-02</td><td>4</td><td>2019</td><td>1</td><td>8.324167</td><td>0</td><td>weekday</td></tr>\n",
       "</tbody>\n",
       "</table>\n"
      ],
      "text/latex": [
       "A tibble: 6 × 26\n",
       "\\begin{tabular}{lllllllllllllllllllll}\n",
       " trip\\_id & scheduled\\_arrival\\_time & actual\\_arrival\\_time & stop\\_id & stop\\_sequence & stop\\_lat & stop\\_lon & route\\_id & direction\\_id & board\\_count & ⋯ & actual\\_arrival\\_datetime & trip\\_start\\_time & day\\_of\\_week & trip\\_date & hour & year & month & Estimated\\_Temp & Estimated\\_Precip & service\\_kind\\\\\n",
       " <chr> & <dttm> & <dttm> & <chr> & <dbl> & <dbl> & <dbl> & <chr> & <chr> & <dbl> & ⋯ & <dttm> & <dttm> & <dbl> & <date> & <fct> & <dbl> & <fct> & <dbl> & <dbl> & <chr>\\\\\n",
       "\\hline\n",
       "\t 132994 & 1900-01-01 04:55:00 & 1900-01-01 04:52:00 & 1351 & 1 & 35.05266 & -85.30972 & 1 & 0 & 1 & ⋯ & 2019-01-02 04:52:00 & 1900-01-01 04:55:00 & 2 & 2019-01-02 & 4 & 2019 & 1 & 8.350000 & 0 & weekday\\\\\n",
       "\t 132994 & 1900-01-01 04:55:41 & 1900-01-01 04:56:00 & 12   & 2 & 35.05070 & -85.30953 & 1 & 0 & 0 & ⋯ & 2019-01-02 04:56:00 & 1900-01-01 04:55:00 & 2 & 2019-01-02 & 4 & 2019 & 1 & 8.343167 & 0 & weekday\\\\\n",
       "\t 132994 & 1900-01-01 04:56:20 & 1900-01-01 04:57:00 & 1555 & 3 & 35.04883 & -85.30955 & 1 & 0 & 0 & ⋯ & 2019-01-02 04:57:00 & 1900-01-01 04:55:00 & 2 & 2019-01-02 & 4 & 2019 & 1 & 8.336667 & 0 & weekday\\\\\n",
       "\t 132994 & 1900-01-01 04:56:35 & 1900-01-01 04:57:00 & 1579 & 4 & 35.04812 & -85.30955 & 1 & 0 & 0 & ⋯ & 2019-01-02 04:57:00 & 1900-01-01 04:55:00 & 2 & 2019-01-02 & 4 & 2019 & 1 & 8.334167 & 0 & weekday\\\\\n",
       "\t 132994 & 1900-01-01 04:57:22 & 1900-01-01 04:57:00 & 1354 & 5 & 35.04598 & -85.30952 & 1 & 0 & 0 & ⋯ & 2019-01-02 04:57:00 & 1900-01-01 04:55:00 & 2 & 2019-01-02 & 4 & 2019 & 1 & 8.326333 & 0 & weekday\\\\\n",
       "\t 132994 & 1900-01-01 04:57:35 & 1900-01-01 04:57:00 & 1353 & 6 & 35.04538 & -85.30945 & 1 & 0 & 0 & ⋯ & 2019-01-02 04:57:00 & 1900-01-01 04:55:00 & 2 & 2019-01-02 & 4 & 2019 & 1 & 8.324167 & 0 & weekday\\\\\n",
       "\\end{tabular}\n"
      ],
      "text/markdown": [
       "\n",
       "A tibble: 6 × 26\n",
       "\n",
       "| trip_id &lt;chr&gt; | scheduled_arrival_time &lt;dttm&gt; | actual_arrival_time &lt;dttm&gt; | stop_id &lt;chr&gt; | stop_sequence &lt;dbl&gt; | stop_lat &lt;dbl&gt; | stop_lon &lt;dbl&gt; | route_id &lt;chr&gt; | direction_id &lt;chr&gt; | board_count &lt;dbl&gt; | ⋯ ⋯ | actual_arrival_datetime &lt;dttm&gt; | trip_start_time &lt;dttm&gt; | day_of_week &lt;dbl&gt; | trip_date &lt;date&gt; | hour &lt;fct&gt; | year &lt;dbl&gt; | month &lt;fct&gt; | Estimated_Temp &lt;dbl&gt; | Estimated_Precip &lt;dbl&gt; | service_kind &lt;chr&gt; |\n",
       "|---|---|---|---|---|---|---|---|---|---|---|---|---|---|---|---|---|---|---|---|---|\n",
       "| 132994 | 1900-01-01 04:55:00 | 1900-01-01 04:52:00 | 1351 | 1 | 35.05266 | -85.30972 | 1 | 0 | 1 | ⋯ | 2019-01-02 04:52:00 | 1900-01-01 04:55:00 | 2 | 2019-01-02 | 4 | 2019 | 1 | 8.350000 | 0 | weekday |\n",
       "| 132994 | 1900-01-01 04:55:41 | 1900-01-01 04:56:00 | 12   | 2 | 35.05070 | -85.30953 | 1 | 0 | 0 | ⋯ | 2019-01-02 04:56:00 | 1900-01-01 04:55:00 | 2 | 2019-01-02 | 4 | 2019 | 1 | 8.343167 | 0 | weekday |\n",
       "| 132994 | 1900-01-01 04:56:20 | 1900-01-01 04:57:00 | 1555 | 3 | 35.04883 | -85.30955 | 1 | 0 | 0 | ⋯ | 2019-01-02 04:57:00 | 1900-01-01 04:55:00 | 2 | 2019-01-02 | 4 | 2019 | 1 | 8.336667 | 0 | weekday |\n",
       "| 132994 | 1900-01-01 04:56:35 | 1900-01-01 04:57:00 | 1579 | 4 | 35.04812 | -85.30955 | 1 | 0 | 0 | ⋯ | 2019-01-02 04:57:00 | 1900-01-01 04:55:00 | 2 | 2019-01-02 | 4 | 2019 | 1 | 8.334167 | 0 | weekday |\n",
       "| 132994 | 1900-01-01 04:57:22 | 1900-01-01 04:57:00 | 1354 | 5 | 35.04598 | -85.30952 | 1 | 0 | 0 | ⋯ | 2019-01-02 04:57:00 | 1900-01-01 04:55:00 | 2 | 2019-01-02 | 4 | 2019 | 1 | 8.326333 | 0 | weekday |\n",
       "| 132994 | 1900-01-01 04:57:35 | 1900-01-01 04:57:00 | 1353 | 6 | 35.04538 | -85.30945 | 1 | 0 | 0 | ⋯ | 2019-01-02 04:57:00 | 1900-01-01 04:55:00 | 2 | 2019-01-02 | 4 | 2019 | 1 | 8.324167 | 0 | weekday |\n",
       "\n"
      ],
      "text/plain": [
       "  trip_id scheduled_arrival_time actual_arrival_time stop_id stop_sequence\n",
       "1 132994  1900-01-01 04:55:00    1900-01-01 04:52:00 1351    1            \n",
       "2 132994  1900-01-01 04:55:41    1900-01-01 04:56:00 12      2            \n",
       "3 132994  1900-01-01 04:56:20    1900-01-01 04:57:00 1555    3            \n",
       "4 132994  1900-01-01 04:56:35    1900-01-01 04:57:00 1579    4            \n",
       "5 132994  1900-01-01 04:57:22    1900-01-01 04:57:00 1354    5            \n",
       "6 132994  1900-01-01 04:57:35    1900-01-01 04:57:00 1353    6            \n",
       "  stop_lat stop_lon  route_id direction_id board_count ⋯\n",
       "1 35.05266 -85.30972 1        0            1           ⋯\n",
       "2 35.05070 -85.30953 1        0            0           ⋯\n",
       "3 35.04883 -85.30955 1        0            0           ⋯\n",
       "4 35.04812 -85.30955 1        0            0           ⋯\n",
       "5 35.04598 -85.30952 1        0            0           ⋯\n",
       "6 35.04538 -85.30945 1        0            0           ⋯\n",
       "  actual_arrival_datetime trip_start_time     day_of_week trip_date  hour year\n",
       "1 2019-01-02 04:52:00     1900-01-01 04:55:00 2           2019-01-02 4    2019\n",
       "2 2019-01-02 04:56:00     1900-01-01 04:55:00 2           2019-01-02 4    2019\n",
       "3 2019-01-02 04:57:00     1900-01-01 04:55:00 2           2019-01-02 4    2019\n",
       "4 2019-01-02 04:57:00     1900-01-01 04:55:00 2           2019-01-02 4    2019\n",
       "5 2019-01-02 04:57:00     1900-01-01 04:55:00 2           2019-01-02 4    2019\n",
       "6 2019-01-02 04:57:00     1900-01-01 04:55:00 2           2019-01-02 4    2019\n",
       "  month Estimated_Temp Estimated_Precip service_kind\n",
       "1 1     8.350000       0                weekday     \n",
       "2 1     8.343167       0                weekday     \n",
       "3 1     8.336667       0                weekday     \n",
       "4 1     8.334167       0                weekday     \n",
       "5 1     8.326333       0                weekday     \n",
       "6 1     8.324167       0                weekday     "
      ]
     },
     "metadata": {},
     "output_type": "display_data"
    }
   ],
   "source": [
    "head(carta)"
   ]
  },
  {
   "cell_type": "markdown",
   "id": "f5b401e7-05d8-476f-ab99-87ec287dcec2",
   "metadata": {},
   "source": [
    "## Data partition according to lock-down and ridership decline\n",
    "\n",
    "Chattanooga's steep decline started the week of **March 5th** before hitting a low also on the week of April 19 with a low of 8,077 weekly riders.\n",
    "\n",
    " - Pre-lockdown data: Before 2020-03-05.\n",
    "     * `date < 2020-03-05`\n",
    " - Post-lockdown data: After 2020-03-05.\n",
    "     * `date >= 2020-03-05`"
   ]
  },
  {
   "cell_type": "code",
   "execution_count": 104,
   "id": "ec01f97c-c8e8-4be9-84c2-70e51ffef10a",
   "metadata": {},
   "outputs": [],
   "source": [
    "Pre_lock = carta %>%\n",
    "    filter(date < '2020-03-05')\n",
    "\n",
    "Post_lock = carta %>%\n",
    "    filter(date >= '2020-03-05')"
   ]
  },
  {
   "cell_type": "code",
   "execution_count": 105,
   "id": "49794867-9b8d-4bee-9f9d-26fcb3102003",
   "metadata": {},
   "outputs": [
    {
     "data": {
      "text/html": [
       "<table class=\"dataframe\">\n",
       "<caption>A tibble: 6 × 26</caption>\n",
       "<thead>\n",
       "\t<tr><th scope=col>trip_id</th><th scope=col>scheduled_arrival_time</th><th scope=col>actual_arrival_time</th><th scope=col>stop_id</th><th scope=col>stop_sequence</th><th scope=col>stop_lat</th><th scope=col>stop_lon</th><th scope=col>route_id</th><th scope=col>direction_id</th><th scope=col>board_count</th><th scope=col>⋯</th><th scope=col>actual_arrival_datetime</th><th scope=col>trip_start_time</th><th scope=col>day_of_week</th><th scope=col>trip_date</th><th scope=col>hour</th><th scope=col>year</th><th scope=col>month</th><th scope=col>Estimated_Temp</th><th scope=col>Estimated_Precip</th><th scope=col>service_kind</th></tr>\n",
       "\t<tr><th scope=col>&lt;dbl&gt;</th><th scope=col>&lt;dttm&gt;</th><th scope=col>&lt;dttm&gt;</th><th scope=col>&lt;dbl&gt;</th><th scope=col>&lt;dbl&gt;</th><th scope=col>&lt;dbl&gt;</th><th scope=col>&lt;dbl&gt;</th><th scope=col>&lt;chr&gt;</th><th scope=col>&lt;dbl&gt;</th><th scope=col>&lt;dbl&gt;</th><th scope=col>⋯</th><th scope=col>&lt;dttm&gt;</th><th scope=col>&lt;dttm&gt;</th><th scope=col>&lt;dbl&gt;</th><th scope=col>&lt;date&gt;</th><th scope=col>&lt;dbl&gt;</th><th scope=col>&lt;dbl&gt;</th><th scope=col>&lt;dbl&gt;</th><th scope=col>&lt;dbl&gt;</th><th scope=col>&lt;dbl&gt;</th><th scope=col>&lt;chr&gt;</th></tr>\n",
       "</thead>\n",
       "<tbody>\n",
       "\t<tr><td>132994</td><td>1900-01-01 04:55:00</td><td>1900-01-01 04:52:00</td><td>1351</td><td>1</td><td>35.05266</td><td>-85.30972</td><td>1</td><td>0</td><td>1</td><td>⋯</td><td>2019-01-02 04:52:00</td><td>1900-01-01 04:55:00</td><td>2</td><td>2019-01-02</td><td>4</td><td>2019</td><td>1</td><td>8.350000</td><td>0</td><td>weekday</td></tr>\n",
       "\t<tr><td>132994</td><td>1900-01-01 04:55:41</td><td>1900-01-01 04:56:00</td><td>  12</td><td>2</td><td>35.05070</td><td>-85.30953</td><td>1</td><td>0</td><td>0</td><td>⋯</td><td>2019-01-02 04:56:00</td><td>1900-01-01 04:55:00</td><td>2</td><td>2019-01-02</td><td>4</td><td>2019</td><td>1</td><td>8.343167</td><td>0</td><td>weekday</td></tr>\n",
       "\t<tr><td>132994</td><td>1900-01-01 04:56:20</td><td>1900-01-01 04:57:00</td><td>1555</td><td>3</td><td>35.04883</td><td>-85.30955</td><td>1</td><td>0</td><td>0</td><td>⋯</td><td>2019-01-02 04:57:00</td><td>1900-01-01 04:55:00</td><td>2</td><td>2019-01-02</td><td>4</td><td>2019</td><td>1</td><td>8.336667</td><td>0</td><td>weekday</td></tr>\n",
       "\t<tr><td>132994</td><td>1900-01-01 04:56:35</td><td>1900-01-01 04:57:00</td><td>1579</td><td>4</td><td>35.04812</td><td>-85.30955</td><td>1</td><td>0</td><td>0</td><td>⋯</td><td>2019-01-02 04:57:00</td><td>1900-01-01 04:55:00</td><td>2</td><td>2019-01-02</td><td>4</td><td>2019</td><td>1</td><td>8.334167</td><td>0</td><td>weekday</td></tr>\n",
       "\t<tr><td>132994</td><td>1900-01-01 04:57:22</td><td>1900-01-01 04:57:00</td><td>1354</td><td>5</td><td>35.04598</td><td>-85.30952</td><td>1</td><td>0</td><td>0</td><td>⋯</td><td>2019-01-02 04:57:00</td><td>1900-01-01 04:55:00</td><td>2</td><td>2019-01-02</td><td>4</td><td>2019</td><td>1</td><td>8.326333</td><td>0</td><td>weekday</td></tr>\n",
       "\t<tr><td>132994</td><td>1900-01-01 04:57:35</td><td>1900-01-01 04:57:00</td><td>1353</td><td>6</td><td>35.04538</td><td>-85.30945</td><td>1</td><td>0</td><td>0</td><td>⋯</td><td>2019-01-02 04:57:00</td><td>1900-01-01 04:55:00</td><td>2</td><td>2019-01-02</td><td>4</td><td>2019</td><td>1</td><td>8.324167</td><td>0</td><td>weekday</td></tr>\n",
       "</tbody>\n",
       "</table>\n"
      ],
      "text/latex": [
       "A tibble: 6 × 26\n",
       "\\begin{tabular}{lllllllllllllllllllll}\n",
       " trip\\_id & scheduled\\_arrival\\_time & actual\\_arrival\\_time & stop\\_id & stop\\_sequence & stop\\_lat & stop\\_lon & route\\_id & direction\\_id & board\\_count & ⋯ & actual\\_arrival\\_datetime & trip\\_start\\_time & day\\_of\\_week & trip\\_date & hour & year & month & Estimated\\_Temp & Estimated\\_Precip & service\\_kind\\\\\n",
       " <dbl> & <dttm> & <dttm> & <dbl> & <dbl> & <dbl> & <dbl> & <chr> & <dbl> & <dbl> & ⋯ & <dttm> & <dttm> & <dbl> & <date> & <dbl> & <dbl> & <dbl> & <dbl> & <dbl> & <chr>\\\\\n",
       "\\hline\n",
       "\t 132994 & 1900-01-01 04:55:00 & 1900-01-01 04:52:00 & 1351 & 1 & 35.05266 & -85.30972 & 1 & 0 & 1 & ⋯ & 2019-01-02 04:52:00 & 1900-01-01 04:55:00 & 2 & 2019-01-02 & 4 & 2019 & 1 & 8.350000 & 0 & weekday\\\\\n",
       "\t 132994 & 1900-01-01 04:55:41 & 1900-01-01 04:56:00 &   12 & 2 & 35.05070 & -85.30953 & 1 & 0 & 0 & ⋯ & 2019-01-02 04:56:00 & 1900-01-01 04:55:00 & 2 & 2019-01-02 & 4 & 2019 & 1 & 8.343167 & 0 & weekday\\\\\n",
       "\t 132994 & 1900-01-01 04:56:20 & 1900-01-01 04:57:00 & 1555 & 3 & 35.04883 & -85.30955 & 1 & 0 & 0 & ⋯ & 2019-01-02 04:57:00 & 1900-01-01 04:55:00 & 2 & 2019-01-02 & 4 & 2019 & 1 & 8.336667 & 0 & weekday\\\\\n",
       "\t 132994 & 1900-01-01 04:56:35 & 1900-01-01 04:57:00 & 1579 & 4 & 35.04812 & -85.30955 & 1 & 0 & 0 & ⋯ & 2019-01-02 04:57:00 & 1900-01-01 04:55:00 & 2 & 2019-01-02 & 4 & 2019 & 1 & 8.334167 & 0 & weekday\\\\\n",
       "\t 132994 & 1900-01-01 04:57:22 & 1900-01-01 04:57:00 & 1354 & 5 & 35.04598 & -85.30952 & 1 & 0 & 0 & ⋯ & 2019-01-02 04:57:00 & 1900-01-01 04:55:00 & 2 & 2019-01-02 & 4 & 2019 & 1 & 8.326333 & 0 & weekday\\\\\n",
       "\t 132994 & 1900-01-01 04:57:35 & 1900-01-01 04:57:00 & 1353 & 6 & 35.04538 & -85.30945 & 1 & 0 & 0 & ⋯ & 2019-01-02 04:57:00 & 1900-01-01 04:55:00 & 2 & 2019-01-02 & 4 & 2019 & 1 & 8.324167 & 0 & weekday\\\\\n",
       "\\end{tabular}\n"
      ],
      "text/markdown": [
       "\n",
       "A tibble: 6 × 26\n",
       "\n",
       "| trip_id &lt;dbl&gt; | scheduled_arrival_time &lt;dttm&gt; | actual_arrival_time &lt;dttm&gt; | stop_id &lt;dbl&gt; | stop_sequence &lt;dbl&gt; | stop_lat &lt;dbl&gt; | stop_lon &lt;dbl&gt; | route_id &lt;chr&gt; | direction_id &lt;dbl&gt; | board_count &lt;dbl&gt; | ⋯ ⋯ | actual_arrival_datetime &lt;dttm&gt; | trip_start_time &lt;dttm&gt; | day_of_week &lt;dbl&gt; | trip_date &lt;date&gt; | hour &lt;dbl&gt; | year &lt;dbl&gt; | month &lt;dbl&gt; | Estimated_Temp &lt;dbl&gt; | Estimated_Precip &lt;dbl&gt; | service_kind &lt;chr&gt; |\n",
       "|---|---|---|---|---|---|---|---|---|---|---|---|---|---|---|---|---|---|---|---|---|\n",
       "| 132994 | 1900-01-01 04:55:00 | 1900-01-01 04:52:00 | 1351 | 1 | 35.05266 | -85.30972 | 1 | 0 | 1 | ⋯ | 2019-01-02 04:52:00 | 1900-01-01 04:55:00 | 2 | 2019-01-02 | 4 | 2019 | 1 | 8.350000 | 0 | weekday |\n",
       "| 132994 | 1900-01-01 04:55:41 | 1900-01-01 04:56:00 |   12 | 2 | 35.05070 | -85.30953 | 1 | 0 | 0 | ⋯ | 2019-01-02 04:56:00 | 1900-01-01 04:55:00 | 2 | 2019-01-02 | 4 | 2019 | 1 | 8.343167 | 0 | weekday |\n",
       "| 132994 | 1900-01-01 04:56:20 | 1900-01-01 04:57:00 | 1555 | 3 | 35.04883 | -85.30955 | 1 | 0 | 0 | ⋯ | 2019-01-02 04:57:00 | 1900-01-01 04:55:00 | 2 | 2019-01-02 | 4 | 2019 | 1 | 8.336667 | 0 | weekday |\n",
       "| 132994 | 1900-01-01 04:56:35 | 1900-01-01 04:57:00 | 1579 | 4 | 35.04812 | -85.30955 | 1 | 0 | 0 | ⋯ | 2019-01-02 04:57:00 | 1900-01-01 04:55:00 | 2 | 2019-01-02 | 4 | 2019 | 1 | 8.334167 | 0 | weekday |\n",
       "| 132994 | 1900-01-01 04:57:22 | 1900-01-01 04:57:00 | 1354 | 5 | 35.04598 | -85.30952 | 1 | 0 | 0 | ⋯ | 2019-01-02 04:57:00 | 1900-01-01 04:55:00 | 2 | 2019-01-02 | 4 | 2019 | 1 | 8.326333 | 0 | weekday |\n",
       "| 132994 | 1900-01-01 04:57:35 | 1900-01-01 04:57:00 | 1353 | 6 | 35.04538 | -85.30945 | 1 | 0 | 0 | ⋯ | 2019-01-02 04:57:00 | 1900-01-01 04:55:00 | 2 | 2019-01-02 | 4 | 2019 | 1 | 8.324167 | 0 | weekday |\n",
       "\n"
      ],
      "text/plain": [
       "  trip_id scheduled_arrival_time actual_arrival_time stop_id stop_sequence\n",
       "1 132994  1900-01-01 04:55:00    1900-01-01 04:52:00 1351    1            \n",
       "2 132994  1900-01-01 04:55:41    1900-01-01 04:56:00   12    2            \n",
       "3 132994  1900-01-01 04:56:20    1900-01-01 04:57:00 1555    3            \n",
       "4 132994  1900-01-01 04:56:35    1900-01-01 04:57:00 1579    4            \n",
       "5 132994  1900-01-01 04:57:22    1900-01-01 04:57:00 1354    5            \n",
       "6 132994  1900-01-01 04:57:35    1900-01-01 04:57:00 1353    6            \n",
       "  stop_lat stop_lon  route_id direction_id board_count ⋯\n",
       "1 35.05266 -85.30972 1        0            1           ⋯\n",
       "2 35.05070 -85.30953 1        0            0           ⋯\n",
       "3 35.04883 -85.30955 1        0            0           ⋯\n",
       "4 35.04812 -85.30955 1        0            0           ⋯\n",
       "5 35.04598 -85.30952 1        0            0           ⋯\n",
       "6 35.04538 -85.30945 1        0            0           ⋯\n",
       "  actual_arrival_datetime trip_start_time     day_of_week trip_date  hour year\n",
       "1 2019-01-02 04:52:00     1900-01-01 04:55:00 2           2019-01-02 4    2019\n",
       "2 2019-01-02 04:56:00     1900-01-01 04:55:00 2           2019-01-02 4    2019\n",
       "3 2019-01-02 04:57:00     1900-01-01 04:55:00 2           2019-01-02 4    2019\n",
       "4 2019-01-02 04:57:00     1900-01-01 04:55:00 2           2019-01-02 4    2019\n",
       "5 2019-01-02 04:57:00     1900-01-01 04:55:00 2           2019-01-02 4    2019\n",
       "6 2019-01-02 04:57:00     1900-01-01 04:55:00 2           2019-01-02 4    2019\n",
       "  month Estimated_Temp Estimated_Precip service_kind\n",
       "1 1     8.350000       0                weekday     \n",
       "2 1     8.343167       0                weekday     \n",
       "3 1     8.336667       0                weekday     \n",
       "4 1     8.334167       0                weekday     \n",
       "5 1     8.326333       0                weekday     \n",
       "6 1     8.324167       0                weekday     "
      ]
     },
     "metadata": {},
     "output_type": "display_data"
    }
   ],
   "source": [
    "head(Pre_lock)"
   ]
  },
  {
   "cell_type": "markdown",
   "id": "5dbbb5f3-500b-453b-8be7-99eefccd2f29",
   "metadata": {},
   "source": [
    "## Data Partition Function:\n",
    "\n",
    "The `get_data_partition()` function divides a dataset into train and test sets. This function takes three input values:\n",
    "\n",
    "* `rt == route_id`\n",
    "* `di == direction_id`\n",
    "* `st == stop_id`\n",
    "\n",
    "Then, it returns the train and test sets as `*.csv` files. These two files are saved in the folder of the given `stop_id`."
   ]
  },
  {
   "cell_type": "code",
   "execution_count": 15,
   "id": "75c2f2e9-b491-4784-b435-f93a7dfe73a4",
   "metadata": {},
   "outputs": [],
   "source": [
    "get_data_partition <- function(rt, di, st){\n",
    "    path = paste0('data', '/', 'jmartinez', '/', 'Data_for_RF_Models', '/', 'Board_Counts', '/',\n",
    "                  paste('route', rt, sep = '_'), '/', paste('direction', di, sep = ''), '/',\n",
    "                  paste('bus_stop', st, sep = '_'), '/', 'data.csv')\n",
    "    dtt = read_csv(path)[, -c(1)]\n",
    "    \n",
    "    set.seed(123)\n",
    "    rand_ind = createDataPartition(dtt$board_count, times = 1, p = 0.8, list = FALSE)\n",
    "    \n",
    "    train_set = dtt[rand_ind,]\n",
    "    test_set = dtt[-rand_ind, ]\n",
    "    \n",
    "    train_set_path = paste0('data', '/', 'jmartinez', '/', 'Data_for_RF_Models', '/', 'Board_Counts', '/',\n",
    "                            paste('route', rt, sep = '_'), '/', paste('direction', di, sep = ''), '/',\n",
    "                            paste('bus_stop', st, sep = '_'), '/', 'train_data.csv')\n",
    "    \n",
    "    test_set_path = paste0('data', '/', 'jmartinez', '/', 'Data_for_RF_Models', '/', 'Board_Counts', '/',\n",
    "                           paste('route', rt, sep = '_'), '/', paste('direction', di, sep = ''), '/',\n",
    "                           paste('bus_stop', st, sep = '_'), '/', 'test_data.csv')\n",
    "    \n",
    "    write.csv(train_set, train_set_path, row.names = F)\n",
    "    write.csv(test_set, test_set_path, row.names = F)\n",
    "    \n",
    "    print('Done!')\n",
    "}"
   ]
  },
  {
   "cell_type": "code",
   "execution_count": 16,
   "id": "464059b1-64c3-42f3-adf0-3d31398060df",
   "metadata": {},
   "outputs": [
    {
     "name": "stderr",
     "output_type": "stream",
     "text": [
      "Warning message:\n",
      "“Missing column names filled in: 'X1' [1]”\n",
      "\n",
      "\u001b[36m──\u001b[39m \u001b[1m\u001b[1mColumn specification\u001b[1m\u001b[22m \u001b[36m────────────────────────────────────────────────────────\u001b[39m\n",
      "cols(\n",
      "  X1 = \u001b[32mcol_double()\u001b[39m,\n",
      "  month = \u001b[32mcol_double()\u001b[39m,\n",
      "  service_kind = \u001b[31mcol_character()\u001b[39m,\n",
      "  hour = \u001b[32mcol_double()\u001b[39m,\n",
      "  board_count = \u001b[32mcol_double()\u001b[39m,\n",
      "  mean_temp = \u001b[32mcol_double()\u001b[39m,\n",
      "  mean_precip = \u001b[32mcol_double()\u001b[39m,\n",
      "  month_average_board_count = \u001b[32mcol_double()\u001b[39m,\n",
      "  surrounding_board_count = \u001b[32mcol_double()\u001b[39m\n",
      ")\n",
      "\n",
      "\n"
     ]
    },
    {
     "name": "stdout",
     "output_type": "stream",
     "text": [
      "[1] \"Done!\"\n"
     ]
    }
   ],
   "source": [
    "get_data_partition('4', '1', '12')"
   ]
  },
  {
   "cell_type": "markdown",
   "id": "mexican-cartoon",
   "metadata": {},
   "source": [
    "# Radial Influence\n",
    "\n",
    "This section is the translated version of the `radial_influence()` written in Python. It identifies the bus stops that are within a half-mile radius with respect to a given bus stop.\n",
    "\n",
    "## Bus Stops dataset"
   ]
  },
  {
   "cell_type": "code",
   "execution_count": 4,
   "id": "stunning-robin",
   "metadata": {},
   "outputs": [
    {
     "name": "stderr",
     "output_type": "stream",
     "text": [
      "\n",
      "\u001b[36m──\u001b[39m \u001b[1m\u001b[1mColumn specification\u001b[1m\u001b[22m \u001b[36m────────────────────────────────────────────────────────\u001b[39m\n",
      "cols(\n",
      "  stop_id = \u001b[32mcol_double()\u001b[39m,\n",
      "  stop_lon = \u001b[32mcol_double()\u001b[39m,\n",
      "  stop_lat = \u001b[32mcol_double()\u001b[39m\n",
      ")\n",
      "\n",
      "\n"
     ]
    },
    {
     "data": {
      "text/html": [
       "<table class=\"dataframe\">\n",
       "<caption>A tibble: 6 × 3</caption>\n",
       "<thead>\n",
       "\t<tr><th scope=col>stop_id</th><th scope=col>stop_lon</th><th scope=col>stop_lat</th></tr>\n",
       "\t<tr><th scope=col>&lt;chr&gt;</th><th scope=col>&lt;dbl&gt;</th><th scope=col>&lt;dbl&gt;</th></tr>\n",
       "</thead>\n",
       "<tbody>\n",
       "\t<tr><td>971 </td><td>-85.24681</td><td>35.02435</td></tr>\n",
       "\t<tr><td>146 </td><td>-85.30462</td><td>34.98958</td></tr>\n",
       "\t<tr><td>1545</td><td>-85.25086</td><td>35.02603</td></tr>\n",
       "\t<tr><td>972 </td><td>-85.24853</td><td>35.02572</td></tr>\n",
       "\t<tr><td>81  </td><td>-85.30489</td><td>34.99030</td></tr>\n",
       "\t<tr><td>90  </td><td>-85.30497</td><td>34.99125</td></tr>\n",
       "</tbody>\n",
       "</table>\n"
      ],
      "text/latex": [
       "A tibble: 6 × 3\n",
       "\\begin{tabular}{lll}\n",
       " stop\\_id & stop\\_lon & stop\\_lat\\\\\n",
       " <chr> & <dbl> & <dbl>\\\\\n",
       "\\hline\n",
       "\t 971  & -85.24681 & 35.02435\\\\\n",
       "\t 146  & -85.30462 & 34.98958\\\\\n",
       "\t 1545 & -85.25086 & 35.02603\\\\\n",
       "\t 972  & -85.24853 & 35.02572\\\\\n",
       "\t 81   & -85.30489 & 34.99030\\\\\n",
       "\t 90   & -85.30497 & 34.99125\\\\\n",
       "\\end{tabular}\n"
      ],
      "text/markdown": [
       "\n",
       "A tibble: 6 × 3\n",
       "\n",
       "| stop_id &lt;chr&gt; | stop_lon &lt;dbl&gt; | stop_lat &lt;dbl&gt; |\n",
       "|---|---|---|\n",
       "| 971  | -85.24681 | 35.02435 |\n",
       "| 146  | -85.30462 | 34.98958 |\n",
       "| 1545 | -85.25086 | 35.02603 |\n",
       "| 972  | -85.24853 | 35.02572 |\n",
       "| 81   | -85.30489 | 34.99030 |\n",
       "| 90   | -85.30497 | 34.99125 |\n",
       "\n"
      ],
      "text/plain": [
       "  stop_id stop_lon  stop_lat\n",
       "1 971     -85.24681 35.02435\n",
       "2 146     -85.30462 34.98958\n",
       "3 1545    -85.25086 35.02603\n",
       "4 972     -85.24853 35.02572\n",
       "5 81      -85.30489 34.99030\n",
       "6 90      -85.30497 34.99125"
      ]
     },
     "metadata": {},
     "output_type": "display_data"
    }
   ],
   "source": [
    "Bus_stops = read_csv('data/jmartinez/Transit_Data/Bus_Stops.csv')\n",
    "Bus_stops$stop_id <- as.character(Bus_stops$stop_id)\n",
    "\n",
    "head(Bus_stops)"
   ]
  },
  {
   "cell_type": "code",
   "execution_count": 5,
   "id": "0b1b3e12-9a7f-4f55-9fb9-338e7ab39d97",
   "metadata": {},
   "outputs": [],
   "source": [
    "radial_influence <- function(st, DT){\n",
    "  \n",
    "    n_row = dim(DT)[1]\n",
    "    \n",
    "    x0 = DT[DT['stop_id'] == st, ]$stop_lon\n",
    "    y0 = DT[DT['stop_id'] == st, ]$stop_lat\n",
    "    \n",
    "    radial_dist = 0\n",
    "    condition = 0\n",
    "    \n",
    "    for(i in c(1:n_row)){\n",
    "        radial_dist[i] = sqrt((x0 - DT$stop_lon[i])^{2} + (y0 - DT$stop_lat[i])^{2})\n",
    "    }\n",
    "    radial_dist = radial_dist\n",
    "    influence = data.frame(cbind('stop_id' = DT$stop_id, 'Radial_Distance' = radial_dist))\n",
    "    influence$Radial_Distance = as.numeric(as.character(influence$Radial_Distance))\n",
    "        \n",
    "    Influence = influence %>%\n",
    "      mutate(Condition = if_else((Radial_Distance <= 0.007246377) == T, 'Inside', 'Outside'))\n",
    "   \n",
    "    return(Influence)\n",
    "    \n",
    "}"
   ]
  },
  {
   "cell_type": "markdown",
   "id": "ace6f589-bb8b-4cfd-8daf-2e6ce70e05b7",
   "metadata": {},
   "source": [
    "### Example"
   ]
  },
  {
   "cell_type": "code",
   "execution_count": 6,
   "id": "983b1ed9-4978-4bc4-a7a2-0397fd84dd7b",
   "metadata": {},
   "outputs": [
    {
     "data": {
      "text/html": [
       "<table class=\"dataframe\">\n",
       "<caption>A data.frame: 6 × 3</caption>\n",
       "<thead>\n",
       "\t<tr><th></th><th scope=col>stop_id</th><th scope=col>Radial_Distance</th><th scope=col>Condition</th></tr>\n",
       "\t<tr><th></th><th scope=col>&lt;chr&gt;</th><th scope=col>&lt;dbl&gt;</th><th scope=col>&lt;chr&gt;</th></tr>\n",
       "</thead>\n",
       "<tbody>\n",
       "\t<tr><th scope=row>1</th><td>971 </td><td>0.06803262</td><td>Outside</td></tr>\n",
       "\t<tr><th scope=row>2</th><td>146 </td><td>0.06131507</td><td>Outside</td></tr>\n",
       "\t<tr><th scope=row>3</th><td>1545</td><td>0.06364519</td><td>Outside</td></tr>\n",
       "\t<tr><th scope=row>4</th><td>972 </td><td>0.06592259</td><td>Outside</td></tr>\n",
       "\t<tr><th scope=row>5</th><td>81  </td><td>0.06057911</td><td>Outside</td></tr>\n",
       "\t<tr><th scope=row>6</th><td>90  </td><td>0.05963092</td><td>Outside</td></tr>\n",
       "</tbody>\n",
       "</table>\n"
      ],
      "text/latex": [
       "A data.frame: 6 × 3\n",
       "\\begin{tabular}{r|lll}\n",
       "  & stop\\_id & Radial\\_Distance & Condition\\\\\n",
       "  & <chr> & <dbl> & <chr>\\\\\n",
       "\\hline\n",
       "\t1 & 971  & 0.06803262 & Outside\\\\\n",
       "\t2 & 146  & 0.06131507 & Outside\\\\\n",
       "\t3 & 1545 & 0.06364519 & Outside\\\\\n",
       "\t4 & 972  & 0.06592259 & Outside\\\\\n",
       "\t5 & 81   & 0.06057911 & Outside\\\\\n",
       "\t6 & 90   & 0.05963092 & Outside\\\\\n",
       "\\end{tabular}\n"
      ],
      "text/markdown": [
       "\n",
       "A data.frame: 6 × 3\n",
       "\n",
       "| <!--/--> | stop_id &lt;chr&gt; | Radial_Distance &lt;dbl&gt; | Condition &lt;chr&gt; |\n",
       "|---|---|---|---|\n",
       "| 1 | 971  | 0.06803262 | Outside |\n",
       "| 2 | 146  | 0.06131507 | Outside |\n",
       "| 3 | 1545 | 0.06364519 | Outside |\n",
       "| 4 | 972  | 0.06592259 | Outside |\n",
       "| 5 | 81   | 0.06057911 | Outside |\n",
       "| 6 | 90   | 0.05963092 | Outside |\n",
       "\n"
      ],
      "text/plain": [
       "  stop_id Radial_Distance Condition\n",
       "1 971     0.06803262      Outside  \n",
       "2 146     0.06131507      Outside  \n",
       "3 1545    0.06364519      Outside  \n",
       "4 972     0.06592259      Outside  \n",
       "5 81      0.06057911      Outside  \n",
       "6 90      0.05963092      Outside  "
      ]
     },
     "metadata": {},
     "output_type": "display_data"
    }
   ],
   "source": [
    "XdistX = radial_influence('12', Bus_stops)\n",
    "head(XdistX)"
   ]
  },
  {
   "cell_type": "code",
   "execution_count": 8,
   "id": "a0950754-ccc1-4726-ae1c-15801a14020e",
   "metadata": {},
   "outputs": [
    {
     "data": {
      "text/html": [
       "<table class=\"dataframe\">\n",
       "<caption>A tibble: 6 × 4</caption>\n",
       "<thead>\n",
       "\t<tr><th scope=col>stop_id</th><th scope=col>stop_lon</th><th scope=col>stop_lat</th><th scope=col>Condition</th></tr>\n",
       "\t<tr><th scope=col>&lt;chr&gt;</th><th scope=col>&lt;dbl&gt;</th><th scope=col>&lt;dbl&gt;</th><th scope=col>&lt;chr&gt;</th></tr>\n",
       "</thead>\n",
       "<tbody>\n",
       "\t<tr><td>971 </td><td>-85.24681</td><td>35.02435</td><td>Outside</td></tr>\n",
       "\t<tr><td>146 </td><td>-85.30462</td><td>34.98958</td><td>Outside</td></tr>\n",
       "\t<tr><td>1545</td><td>-85.25086</td><td>35.02603</td><td>Outside</td></tr>\n",
       "\t<tr><td>972 </td><td>-85.24853</td><td>35.02572</td><td>Outside</td></tr>\n",
       "\t<tr><td>81  </td><td>-85.30489</td><td>34.99030</td><td>Outside</td></tr>\n",
       "\t<tr><td>90  </td><td>-85.30497</td><td>34.99125</td><td>Outside</td></tr>\n",
       "</tbody>\n",
       "</table>\n"
      ],
      "text/latex": [
       "A tibble: 6 × 4\n",
       "\\begin{tabular}{llll}\n",
       " stop\\_id & stop\\_lon & stop\\_lat & Condition\\\\\n",
       " <chr> & <dbl> & <dbl> & <chr>\\\\\n",
       "\\hline\n",
       "\t 971  & -85.24681 & 35.02435 & Outside\\\\\n",
       "\t 146  & -85.30462 & 34.98958 & Outside\\\\\n",
       "\t 1545 & -85.25086 & 35.02603 & Outside\\\\\n",
       "\t 972  & -85.24853 & 35.02572 & Outside\\\\\n",
       "\t 81   & -85.30489 & 34.99030 & Outside\\\\\n",
       "\t 90   & -85.30497 & 34.99125 & Outside\\\\\n",
       "\\end{tabular}\n"
      ],
      "text/markdown": [
       "\n",
       "A tibble: 6 × 4\n",
       "\n",
       "| stop_id &lt;chr&gt; | stop_lon &lt;dbl&gt; | stop_lat &lt;dbl&gt; | Condition &lt;chr&gt; |\n",
       "|---|---|---|---|\n",
       "| 971  | -85.24681 | 35.02435 | Outside |\n",
       "| 146  | -85.30462 | 34.98958 | Outside |\n",
       "| 1545 | -85.25086 | 35.02603 | Outside |\n",
       "| 972  | -85.24853 | 35.02572 | Outside |\n",
       "| 81   | -85.30489 | 34.99030 | Outside |\n",
       "| 90   | -85.30497 | 34.99125 | Outside |\n",
       "\n"
      ],
      "text/plain": [
       "  stop_id stop_lon  stop_lat Condition\n",
       "1 971     -85.24681 35.02435 Outside  \n",
       "2 146     -85.30462 34.98958 Outside  \n",
       "3 1545    -85.25086 35.02603 Outside  \n",
       "4 972     -85.24853 35.02572 Outside  \n",
       "5 81      -85.30489 34.99030 Outside  \n",
       "6 90      -85.30497 34.99125 Outside  "
      ]
     },
     "metadata": {},
     "output_type": "display_data"
    }
   ],
   "source": [
    "Bus_stops_Example <- Bus_stops\n",
    "Bus_stops_Example$Condition = XdistX$Condition\n",
    "head(Bus_stops_Example)"
   ]
  },
  {
   "cell_type": "code",
   "execution_count": 10,
   "id": "ce2b0be8-24f6-4295-933b-ab5c131f3e25",
   "metadata": {},
   "outputs": [
    {
     "data": {
      "image/png": "[encoded data removed]",
      "text/plain": [
       "plot without title"
      ]
     },
     "metadata": {
      "image/png": {
       "height": 420,
       "width": 420
      }
     },
     "output_type": "display_data"
    }
   ],
   "source": [
    "Bus_stops_Example %>%\n",
    "    ggplot(aes(x = stop_lon, y = stop_lat, colour = Condition)) +\n",
    "    geom_point() +\n",
    "    geom_point(aes(x = Bus_stops_Example[Bus_stops_Example['stop_id'] ==  '12',]$stop_lon,\n",
    "                   y = Bus_stops_Example[Bus_stops_Example['stop_id'] ==  '12',]$stop_lat), color = 'red') +\n",
    "    scale_colour_manual(name = \"Influence\",\n",
    "                        values = c(\"Inside\" = \"#99CC66\",\n",
    "                                   \"Outside\" = \"#FF9900\"))"
   ]
  },
  {
   "cell_type": "markdown",
   "id": "greater-taiwan",
   "metadata": {},
   "source": [
    "## Subordinate or Auxiliary Functions\n",
    "\n",
    "### Data Normalization"
   ]
  },
  {
   "cell_type": "code",
   "execution_count": 12,
   "id": "careful-vietnam",
   "metadata": {},
   "outputs": [],
   "source": [
    "normalizer <- function(x){\n",
    "    \n",
    "    x_min = min(x)\n",
    "    x_max = max(x)\n",
    "    x_norm = (x - x_min)/(x_max - x_min)\n",
    "    \n",
    "    return(x_norm)\n",
    "} "
   ]
  },
  {
   "cell_type": "markdown",
   "id": "sublime-hunter",
   "metadata": {},
   "source": [
    "### Data Standardization"
   ]
  },
  {
   "cell_type": "code",
   "execution_count": 13,
   "id": "arbitrary-thanks",
   "metadata": {},
   "outputs": [],
   "source": [
    "standardizer <- function(x){\n",
    "    x_std = x.std()\n",
    "    x_mean = x.mean()\n",
    "    x_standard = (x - x_mean)/x_std\n",
    "    \n",
    "    return(x_standard)\n",
    "}"
   ]
  },
  {
   "cell_type": "markdown",
   "id": "permanent-boost",
   "metadata": {},
   "source": [
    "# Data Extraction\n",
    "\n",
    "The `data_extraction()` function extracts the variables that are necessary for modeling purposes."
   ]
  },
  {
   "cell_type": "code",
   "execution_count": 22,
   "id": "elder-heater",
   "metadata": {},
   "outputs": [],
   "source": [
    "data_extraction <- function(route, direction, bus_stop, DTFRM, transf){\n",
    "    \n",
    "             \n",
    "    dtfrm = DTFRM %>%\n",
    "      filter(route_id == route, direction_id == direction)\n",
    "    \n",
    "    n_rows = DTFRM %>%\n",
    "      filter(route_id == route, direction_id == direction, stop_id == bus_stop) %>%\n",
    "      nrow()\n",
    "    \n",
    "    if (n_rows == 0){\n",
    "        print('There are not rows in the data set with the required characteristics. Please change them.')\n",
    "    }\n",
    "    \n",
    "    else{\n",
    "          \n",
    "        vinit = DTFRM %>%\n",
    "          filter(route_id == route, direction_id == direction, stop_id == bus_stop) %>%\n",
    "          group_by(month, service_kind, hour) %>%\n",
    "          summarise(mean_temp = mean(temp), mean_precip = mean(precip))\n",
    "    \n",
    "        V1 = dtfrm %>%\n",
    "          filter(stop_id == bus_stop) %>%\n",
    "          summarise(month, service_kind, hour, board_count, alight_count)\n",
    "        \n",
    "        V1 = left_join(V1, vinit, on = c('month', 'service_kind', 'hour'))\n",
    "        \n",
    "#        return(V1)\n",
    "    \n",
    "        Relevant_Bus_Stops = radial_influence(bus_stop, Bus_stops)\n",
    "\n",
    "        ind_excluded_stop = which((Relevant_Bus_Stops$stop_id == bus_stop) == T, arr.ind = T)\n",
    "        \n",
    "        bus_stops_ids = as.character(Relevant_Bus_Stops$stop_id[-ind_excluded_stop])\n",
    "    \n",
    "#        return(bus_stops_ids)\n",
    "    \n",
    "        V3 = DTFRM %>%\n",
    "          filter(stop_id %in% bus_stops_ids) %>%\n",
    "          group_by(month, service_kind, hour) %>%\n",
    "          summarise(surrounding_board_count = mean(board_count), surrounding_alight_count = mean(alight_count))\n",
    "        \n",
    "#        return(V3)\n",
    "        \n",
    "        V = left_join(V1, V3, by = c('month', 'service_kind', 'hour'))\n",
    "        \n",
    "        if(transf == 'Normalization'){\n",
    "          \n",
    "          V$board_count = normalizer(V$board_count)\n",
    "          V$alight_count = normalizer(V$alight_count)\n",
    "          V$surrounding_board_count = normalizer(V$surrounding_board_count)\n",
    "          V$surrounding_alight_count = normalizer(V$surrounding_alight_count)\n",
    "          V$mean_temp = normalizer(V$mean_temp)\n",
    "          V$mean_precip = normalizer(V$mean_precip)\n",
    "        \n",
    "          return(V)\n",
    "        }\n",
    "        else if(transf == 'Standardize'){\n",
    "          \n",
    "          V$board_count = standardizer(V$board_count)\n",
    "          V$alight_count = standardizer(V$alight_count)\n",
    "          V$surrounding_board_count = standardizer(V$surrounding_board_count)\n",
    "          V$surrounding_alight_count = standardizerr(V$surrounding_alight_count)\n",
    "          V$mean_temp = standardizer(V$mean_temp)\n",
    "          V$mean_precip = standardizer(V$mean_precip)\n",
    "          \n",
    "          return(V)\n",
    "        }\n",
    "        else if(transf == 'features'){\n",
    "          \n",
    "          V$surrounding_board_count = normalizer(V$surrounding_board_count)\n",
    "          V$surrounding_alight_count = normalizer(V$surrounding_alight_count)\n",
    "          V$mean_temp = normalizer(V$mean_temp)\n",
    "          V$mean_precip = normalizer(V$mean_precip)\n",
    "          \n",
    "          return(V)\n",
    "        }\n",
    "        else{\n",
    "          return(V)\n",
    "        }\n",
    "\n",
    "    }        \n",
    "}\n"
   ]
  },
  {
   "cell_type": "markdown",
   "id": "natural-fireplace",
   "metadata": {},
   "source": [
    "## Example"
   ]
  },
  {
   "cell_type": "code",
   "execution_count": 23,
   "id": "formal-plaza",
   "metadata": {},
   "outputs": [
    {
     "name": "stderr",
     "output_type": "stream",
     "text": [
      "`summarise()` has grouped output by 'month', 'service_kind'. You can override using the `.groups` argument.\n",
      "\n",
      "Joining, by = c(\"month\", \"service_kind\", \"hour\")\n",
      "\n",
      "`summarise()` has grouped output by 'month', 'service_kind'. You can override using the `.groups` argument.\n",
      "\n"
     ]
    },
    {
     "data": {
      "text/html": [
       "<table class=\"dataframe\">\n",
       "<caption>A tibble: 6 × 9</caption>\n",
       "<thead>\n",
       "\t<tr><th scope=col>month</th><th scope=col>service_kind</th><th scope=col>hour</th><th scope=col>board_count</th><th scope=col>alight_count</th><th scope=col>mean_temp</th><th scope=col>mean_precip</th><th scope=col>surrounding_board_count</th><th scope=col>surrounding_alight_count</th></tr>\n",
       "\t<tr><th scope=col>&lt;fct&gt;</th><th scope=col>&lt;chr&gt;</th><th scope=col>&lt;fct&gt;</th><th scope=col>&lt;dbl&gt;</th><th scope=col>&lt;dbl&gt;</th><th scope=col>&lt;dbl&gt;</th><th scope=col>&lt;dbl&gt;</th><th scope=col>&lt;dbl&gt;</th><th scope=col>&lt;dbl&gt;</th></tr>\n",
       "</thead>\n",
       "<tbody>\n",
       "\t<tr><td>1</td><td>weekday</td><td>9 </td><td>0</td><td>0</td><td>0.06553582</td><td>0.009610653</td><td>0.5749584</td><td>0.5033510</td></tr>\n",
       "\t<tr><td>1</td><td>weekday</td><td>9 </td><td>0</td><td>0</td><td>0.06553582</td><td>0.009610653</td><td>0.5749584</td><td>0.5033510</td></tr>\n",
       "\t<tr><td>1</td><td>weekday</td><td>10</td><td>1</td><td>1</td><td>0.12748202</td><td>0.021835138</td><td>0.6287329</td><td>0.5499088</td></tr>\n",
       "\t<tr><td>1</td><td>weekday</td><td>13</td><td>0</td><td>0</td><td>0.21161440</td><td>0.011898464</td><td>0.7538660</td><td>0.6774158</td></tr>\n",
       "\t<tr><td>1</td><td>weekday</td><td>13</td><td>0</td><td>0</td><td>0.21161440</td><td>0.011898464</td><td>0.7538660</td><td>0.6774158</td></tr>\n",
       "\t<tr><td>1</td><td>weekday</td><td>14</td><td>0</td><td>0</td><td>0.22646845</td><td>0.020642361</td><td>0.7877864</td><td>0.7298957</td></tr>\n",
       "</tbody>\n",
       "</table>\n"
      ],
      "text/latex": [
       "A tibble: 6 × 9\n",
       "\\begin{tabular}{lllllllll}\n",
       " month & service\\_kind & hour & board\\_count & alight\\_count & mean\\_temp & mean\\_precip & surrounding\\_board\\_count & surrounding\\_alight\\_count\\\\\n",
       " <fct> & <chr> & <fct> & <dbl> & <dbl> & <dbl> & <dbl> & <dbl> & <dbl>\\\\\n",
       "\\hline\n",
       "\t 1 & weekday & 9  & 0 & 0 & 0.06553582 & 0.009610653 & 0.5749584 & 0.5033510\\\\\n",
       "\t 1 & weekday & 9  & 0 & 0 & 0.06553582 & 0.009610653 & 0.5749584 & 0.5033510\\\\\n",
       "\t 1 & weekday & 10 & 1 & 1 & 0.12748202 & 0.021835138 & 0.6287329 & 0.5499088\\\\\n",
       "\t 1 & weekday & 13 & 0 & 0 & 0.21161440 & 0.011898464 & 0.7538660 & 0.6774158\\\\\n",
       "\t 1 & weekday & 13 & 0 & 0 & 0.21161440 & 0.011898464 & 0.7538660 & 0.6774158\\\\\n",
       "\t 1 & weekday & 14 & 0 & 0 & 0.22646845 & 0.020642361 & 0.7877864 & 0.7298957\\\\\n",
       "\\end{tabular}\n"
      ],
      "text/markdown": [
       "\n",
       "A tibble: 6 × 9\n",
       "\n",
       "| month &lt;fct&gt; | service_kind &lt;chr&gt; | hour &lt;fct&gt; | board_count &lt;dbl&gt; | alight_count &lt;dbl&gt; | mean_temp &lt;dbl&gt; | mean_precip &lt;dbl&gt; | surrounding_board_count &lt;dbl&gt; | surrounding_alight_count &lt;dbl&gt; |\n",
       "|---|---|---|---|---|---|---|---|---|\n",
       "| 1 | weekday | 9  | 0 | 0 | 0.06553582 | 0.009610653 | 0.5749584 | 0.5033510 |\n",
       "| 1 | weekday | 9  | 0 | 0 | 0.06553582 | 0.009610653 | 0.5749584 | 0.5033510 |\n",
       "| 1 | weekday | 10 | 1 | 1 | 0.12748202 | 0.021835138 | 0.6287329 | 0.5499088 |\n",
       "| 1 | weekday | 13 | 0 | 0 | 0.21161440 | 0.011898464 | 0.7538660 | 0.6774158 |\n",
       "| 1 | weekday | 13 | 0 | 0 | 0.21161440 | 0.011898464 | 0.7538660 | 0.6774158 |\n",
       "| 1 | weekday | 14 | 0 | 0 | 0.22646845 | 0.020642361 | 0.7877864 | 0.7298957 |\n",
       "\n"
      ],
      "text/plain": [
       "  month service_kind hour board_count alight_count mean_temp  mean_precip\n",
       "1 1     weekday      9    0           0            0.06553582 0.009610653\n",
       "2 1     weekday      9    0           0            0.06553582 0.009610653\n",
       "3 1     weekday      10   1           1            0.12748202 0.021835138\n",
       "4 1     weekday      13   0           0            0.21161440 0.011898464\n",
       "5 1     weekday      13   0           0            0.21161440 0.011898464\n",
       "6 1     weekday      14   0           0            0.22646845 0.020642361\n",
       "  surrounding_board_count surrounding_alight_count\n",
       "1 0.5749584               0.5033510               \n",
       "2 0.5749584               0.5033510               \n",
       "3 0.6287329               0.5499088               \n",
       "4 0.7538660               0.6774158               \n",
       "5 0.7538660               0.6774158               \n",
       "6 0.7877864               0.7298957               "
      ]
     },
     "metadata": {},
     "output_type": "display_data"
    }
   ],
   "source": [
    "XDTX = data_extraction('4', '1', '12', carta, 'features')\n",
    "head(XDTX)"
   ]
  },
  {
   "cell_type": "markdown",
   "id": "hindu-magic",
   "metadata": {},
   "source": [
    "# Data Split"
   ]
  },
  {
   "cell_type": "code",
   "execution_count": 24,
   "id": "lasting-queen",
   "metadata": {},
   "outputs": [],
   "source": [
    "data_split <- function(DT, set, dependent){\n",
    "    n_rows = dim(DT)[1]\n",
    "    train_set_size = floor(n_rows*0.8)\n",
    "    \n",
    "    board_data = DT %>%\n",
    "      summarise(board_count, month, service_kind, hour, mean_temp, mean_precip, surrounding_board_count)\n",
    "    \n",
    "    alight_data = DT %>%\n",
    "      summarise(alight_count, month, service_kind, hour, mean_temp, mean_precip, surrounding_alight_count)\n",
    "    \n",
    "    set.seed(123)\n",
    "    train = createDataPartition(board_data$board_count, p = 0.8, \n",
    "                                list = FALSE, \n",
    "                                times = 1)\n",
    "    \n",
    "    if(dependent == 'board_count'){\n",
    "      if(set == 'train'){\n",
    "        train_set = board_data[train, ]\n",
    "        return(train_set)\n",
    "      }\n",
    "      else{\n",
    "        test_set = board_data[-train,]\n",
    "        return(test_set)\n",
    "      }\n",
    "    }\n",
    "    else if(dependent == 'alight_count'){\n",
    "      if(set == 'train'){\n",
    "        train_set = alight_data[train, ]\n",
    "        return(train_set)\n",
    "      }\n",
    "      else{\n",
    "        test_set = alight_data[-train,]\n",
    "        return(test_set)\n",
    "      }\n",
    "    }\n",
    "}\n"
   ]
  },
  {
   "cell_type": "markdown",
   "id": "smaller-roommate",
   "metadata": {},
   "source": [
    "## Example:"
   ]
  },
  {
   "cell_type": "code",
   "execution_count": 25,
   "id": "outstanding-folks",
   "metadata": {},
   "outputs": [],
   "source": [
    "xDT_train_board_x = data_split(XDTX, 'train', 'board_count')\n",
    "xDT_test_board_x = data_split(XDTX, 'test', 'board_count')"
   ]
  },
  {
   "cell_type": "code",
   "execution_count": 26,
   "id": "centered-launch",
   "metadata": {},
   "outputs": [
    {
     "data": {
      "text/html": [
       "<table class=\"dataframe\">\n",
       "<caption>A tibble: 6 × 7</caption>\n",
       "<thead>\n",
       "\t<tr><th scope=col>board_count</th><th scope=col>month</th><th scope=col>service_kind</th><th scope=col>hour</th><th scope=col>mean_temp</th><th scope=col>mean_precip</th><th scope=col>surrounding_board_count</th></tr>\n",
       "\t<tr><th scope=col>&lt;dbl&gt;</th><th scope=col>&lt;fct&gt;</th><th scope=col>&lt;chr&gt;</th><th scope=col>&lt;fct&gt;</th><th scope=col>&lt;dbl&gt;</th><th scope=col>&lt;dbl&gt;</th><th scope=col>&lt;dbl&gt;</th></tr>\n",
       "</thead>\n",
       "<tbody>\n",
       "\t<tr><td>0</td><td>1</td><td>weekday</td><td>9 </td><td>0.06553582</td><td>0.009610653</td><td>0.5749584</td></tr>\n",
       "\t<tr><td>0</td><td>1</td><td>weekday</td><td>9 </td><td>0.06553582</td><td>0.009610653</td><td>0.5749584</td></tr>\n",
       "\t<tr><td>1</td><td>1</td><td>weekday</td><td>10</td><td>0.12748202</td><td>0.021835138</td><td>0.6287329</td></tr>\n",
       "\t<tr><td>0</td><td>1</td><td>weekday</td><td>13</td><td>0.21161440</td><td>0.011898464</td><td>0.7538660</td></tr>\n",
       "\t<tr><td>0</td><td>1</td><td>weekday</td><td>14</td><td>0.22646845</td><td>0.020642361</td><td>0.7877864</td></tr>\n",
       "\t<tr><td>0</td><td>1</td><td>weekday</td><td>15</td><td>0.19891624</td><td>0.017471642</td><td>0.7929813</td></tr>\n",
       "</tbody>\n",
       "</table>\n"
      ],
      "text/latex": [
       "A tibble: 6 × 7\n",
       "\\begin{tabular}{lllllll}\n",
       " board\\_count & month & service\\_kind & hour & mean\\_temp & mean\\_precip & surrounding\\_board\\_count\\\\\n",
       " <dbl> & <fct> & <chr> & <fct> & <dbl> & <dbl> & <dbl>\\\\\n",
       "\\hline\n",
       "\t 0 & 1 & weekday & 9  & 0.06553582 & 0.009610653 & 0.5749584\\\\\n",
       "\t 0 & 1 & weekday & 9  & 0.06553582 & 0.009610653 & 0.5749584\\\\\n",
       "\t 1 & 1 & weekday & 10 & 0.12748202 & 0.021835138 & 0.6287329\\\\\n",
       "\t 0 & 1 & weekday & 13 & 0.21161440 & 0.011898464 & 0.7538660\\\\\n",
       "\t 0 & 1 & weekday & 14 & 0.22646845 & 0.020642361 & 0.7877864\\\\\n",
       "\t 0 & 1 & weekday & 15 & 0.19891624 & 0.017471642 & 0.7929813\\\\\n",
       "\\end{tabular}\n"
      ],
      "text/markdown": [
       "\n",
       "A tibble: 6 × 7\n",
       "\n",
       "| board_count &lt;dbl&gt; | month &lt;fct&gt; | service_kind &lt;chr&gt; | hour &lt;fct&gt; | mean_temp &lt;dbl&gt; | mean_precip &lt;dbl&gt; | surrounding_board_count &lt;dbl&gt; |\n",
       "|---|---|---|---|---|---|---|\n",
       "| 0 | 1 | weekday | 9  | 0.06553582 | 0.009610653 | 0.5749584 |\n",
       "| 0 | 1 | weekday | 9  | 0.06553582 | 0.009610653 | 0.5749584 |\n",
       "| 1 | 1 | weekday | 10 | 0.12748202 | 0.021835138 | 0.6287329 |\n",
       "| 0 | 1 | weekday | 13 | 0.21161440 | 0.011898464 | 0.7538660 |\n",
       "| 0 | 1 | weekday | 14 | 0.22646845 | 0.020642361 | 0.7877864 |\n",
       "| 0 | 1 | weekday | 15 | 0.19891624 | 0.017471642 | 0.7929813 |\n",
       "\n"
      ],
      "text/plain": [
       "  board_count month service_kind hour mean_temp  mean_precip\n",
       "1 0           1     weekday      9    0.06553582 0.009610653\n",
       "2 0           1     weekday      9    0.06553582 0.009610653\n",
       "3 1           1     weekday      10   0.12748202 0.021835138\n",
       "4 0           1     weekday      13   0.21161440 0.011898464\n",
       "5 0           1     weekday      14   0.22646845 0.020642361\n",
       "6 0           1     weekday      15   0.19891624 0.017471642\n",
       "  surrounding_board_count\n",
       "1 0.5749584              \n",
       "2 0.5749584              \n",
       "3 0.6287329              \n",
       "4 0.7538660              \n",
       "5 0.7877864              \n",
       "6 0.7929813              "
      ]
     },
     "metadata": {},
     "output_type": "display_data"
    }
   ],
   "source": [
    "head(xDT_train_board_x)"
   ]
  },
  {
   "cell_type": "code",
   "execution_count": 27,
   "id": "basic-finish",
   "metadata": {},
   "outputs": [],
   "source": [
    "xhour_board_trainx = unique(xDT_train_board_x$hour)"
   ]
  },
  {
   "cell_type": "code",
   "execution_count": 28,
   "id": "restricted-basic",
   "metadata": {},
   "outputs": [
    {
     "data": {
      "text/html": [
       "<table class=\"dataframe\">\n",
       "<caption>A tibble: 6 × 7</caption>\n",
       "<thead>\n",
       "\t<tr><th scope=col>board_count</th><th scope=col>month</th><th scope=col>service_kind</th><th scope=col>hour</th><th scope=col>mean_temp</th><th scope=col>mean_precip</th><th scope=col>surrounding_board_count</th></tr>\n",
       "\t<tr><th scope=col>&lt;dbl&gt;</th><th scope=col>&lt;fct&gt;</th><th scope=col>&lt;chr&gt;</th><th scope=col>&lt;fct&gt;</th><th scope=col>&lt;dbl&gt;</th><th scope=col>&lt;dbl&gt;</th><th scope=col>&lt;dbl&gt;</th></tr>\n",
       "</thead>\n",
       "<tbody>\n",
       "\t<tr><td>0</td><td>1</td><td>weekday</td><td>13</td><td>0.2116144</td><td>0.011898464</td><td>0.7538660</td></tr>\n",
       "\t<tr><td>0</td><td>1</td><td>weekday</td><td>14</td><td>0.2264684</td><td>0.020642361</td><td>0.7877864</td></tr>\n",
       "\t<tr><td>0</td><td>1</td><td>weekday</td><td>16</td><td>0.1561553</td><td>0.029191914</td><td>0.7460665</td></tr>\n",
       "\t<tr><td>0</td><td>1</td><td>weekday</td><td>22</td><td>0.1153142</td><td>0.005075414</td><td>0.3718835</td></tr>\n",
       "\t<tr><td>0</td><td>1</td><td>weekday</td><td>16</td><td>0.1561553</td><td>0.029191914</td><td>0.7460665</td></tr>\n",
       "\t<tr><td>0</td><td>1</td><td>weekday</td><td>18</td><td>0.2018673</td><td>0.069554558</td><td>0.4586083</td></tr>\n",
       "</tbody>\n",
       "</table>\n"
      ],
      "text/latex": [
       "A tibble: 6 × 7\n",
       "\\begin{tabular}{lllllll}\n",
       " board\\_count & month & service\\_kind & hour & mean\\_temp & mean\\_precip & surrounding\\_board\\_count\\\\\n",
       " <dbl> & <fct> & <chr> & <fct> & <dbl> & <dbl> & <dbl>\\\\\n",
       "\\hline\n",
       "\t 0 & 1 & weekday & 13 & 0.2116144 & 0.011898464 & 0.7538660\\\\\n",
       "\t 0 & 1 & weekday & 14 & 0.2264684 & 0.020642361 & 0.7877864\\\\\n",
       "\t 0 & 1 & weekday & 16 & 0.1561553 & 0.029191914 & 0.7460665\\\\\n",
       "\t 0 & 1 & weekday & 22 & 0.1153142 & 0.005075414 & 0.3718835\\\\\n",
       "\t 0 & 1 & weekday & 16 & 0.1561553 & 0.029191914 & 0.7460665\\\\\n",
       "\t 0 & 1 & weekday & 18 & 0.2018673 & 0.069554558 & 0.4586083\\\\\n",
       "\\end{tabular}\n"
      ],
      "text/markdown": [
       "\n",
       "A tibble: 6 × 7\n",
       "\n",
       "| board_count &lt;dbl&gt; | month &lt;fct&gt; | service_kind &lt;chr&gt; | hour &lt;fct&gt; | mean_temp &lt;dbl&gt; | mean_precip &lt;dbl&gt; | surrounding_board_count &lt;dbl&gt; |\n",
       "|---|---|---|---|---|---|---|\n",
       "| 0 | 1 | weekday | 13 | 0.2116144 | 0.011898464 | 0.7538660 |\n",
       "| 0 | 1 | weekday | 14 | 0.2264684 | 0.020642361 | 0.7877864 |\n",
       "| 0 | 1 | weekday | 16 | 0.1561553 | 0.029191914 | 0.7460665 |\n",
       "| 0 | 1 | weekday | 22 | 0.1153142 | 0.005075414 | 0.3718835 |\n",
       "| 0 | 1 | weekday | 16 | 0.1561553 | 0.029191914 | 0.7460665 |\n",
       "| 0 | 1 | weekday | 18 | 0.2018673 | 0.069554558 | 0.4586083 |\n",
       "\n"
      ],
      "text/plain": [
       "  board_count month service_kind hour mean_temp mean_precip\n",
       "1 0           1     weekday      13   0.2116144 0.011898464\n",
       "2 0           1     weekday      14   0.2264684 0.020642361\n",
       "3 0           1     weekday      16   0.1561553 0.029191914\n",
       "4 0           1     weekday      22   0.1153142 0.005075414\n",
       "5 0           1     weekday      16   0.1561553 0.029191914\n",
       "6 0           1     weekday      18   0.2018673 0.069554558\n",
       "  surrounding_board_count\n",
       "1 0.7538660              \n",
       "2 0.7877864              \n",
       "3 0.7460665              \n",
       "4 0.3718835              \n",
       "5 0.7460665              \n",
       "6 0.4586083              "
      ]
     },
     "metadata": {},
     "output_type": "display_data"
    }
   ],
   "source": [
    "head(xDT_test_board_x)"
   ]
  },
  {
   "cell_type": "code",
   "execution_count": 29,
   "id": "correct-aaron",
   "metadata": {},
   "outputs": [],
   "source": [
    "xhour_board_testx = unique(xDT_test_board_x$hour)"
   ]
  },
  {
   "cell_type": "code",
   "execution_count": 30,
   "id": "headed-atlas",
   "metadata": {},
   "outputs": [
    {
     "data": {
      "text/html": [
       "TRUE"
      ],
      "text/latex": [
       "TRUE"
      ],
      "text/markdown": [
       "TRUE"
      ],
      "text/plain": [
       "[1] TRUE"
      ]
     },
     "metadata": {},
     "output_type": "display_data"
    }
   ],
   "source": [
    "xhour_board_interx = intersect(xhour_board_trainx, xhour_board_testx)\n",
    "setequal(xhour_board_testx, xhour_board_interx)"
   ]
  },
  {
   "cell_type": "code",
   "execution_count": 32,
   "id": "adjustable-labor",
   "metadata": {},
   "outputs": [
    {
     "data": {
      "text/html": [
       "<style>\n",
       ".list-inline {list-style: none; margin:0; padding: 0}\n",
       ".list-inline>li {display: inline-block}\n",
       ".list-inline>li:not(:last-child)::after {content: \"\\00b7\"; padding: 0 .5ex}\n",
       "</style>\n",
       "<ol class=list-inline><li>'tbl_df'</li><li>'tbl'</li><li>'data.frame'</li></ol>\n"
      ],
      "text/latex": [
       "\\begin{enumerate*}\n",
       "\\item 'tbl\\_df'\n",
       "\\item 'tbl'\n",
       "\\item 'data.frame'\n",
       "\\end{enumerate*}\n"
      ],
      "text/markdown": [
       "1. 'tbl_df'\n",
       "2. 'tbl'\n",
       "3. 'data.frame'\n",
       "\n",
       "\n"
      ],
      "text/plain": [
       "[1] \"tbl_df\"     \"tbl\"        \"data.frame\""
      ]
     },
     "metadata": {},
     "output_type": "display_data"
    }
   ],
   "source": [
    "class(rbind(xhour_board_trainx,xDT_test_board_x))"
   ]
  },
  {
   "cell_type": "markdown",
   "id": "muslim-threat",
   "metadata": {},
   "source": [
    "# Model Training and Selection\n",
    "\n",
    "The following cell describes the structure and components of the `all_models_cv()`, which performs a k-fold cross-validation and model training for the following regression models:\n",
    "\n",
    "* Poisson\n",
    "* Negative Binomial\n",
    "* Zero-Inflated Poisson\n",
    "* Zero-Inflated Negative Binomial\n",
    "* Hurdle Poisson-Binomial\n",
    "\n",
    "Then, this function generates the following outputs:\n",
    "\n",
    "* `*_All_rmses.csv`: Train and test RMSEs.\n",
    "* `*_Chart_Predictions.csv`: Chart with test data and the respective model predictions.\n",
    "* `*_Poisson_model.rds`: The trained Poisson model.\n",
    "* `*_NB_model.rds`: The trained Negative Binomial model.\n",
    "* `*_ZIP_model.rds`: The trained Zero-Infl. Poisson model.\n",
    "* `*_ZINB_model.rds`: The trained Zero-Inf. Negative Binomial model.\n",
    "* `*_Hurdle_model.rds`: The trained Hurdle model."
   ]
  },
  {
   "cell_type": "code",
   "execution_count": 103,
   "id": "e55c33a7-bdb9-443f-bfcc-9d24b87a2c5e",
   "metadata": {},
   "outputs": [],
   "source": [
    "all_models_cv <- function(rt, di, st, part, det){\n",
    "    \n",
    "    library(caret)\n",
    "    library(pscl)\n",
    "    library(MASS)\n",
    "    library(janitor)\n",
    "    library(fastDummies)\n",
    "    library(boot)\n",
    "    \n",
    "    k = 3\n",
    "    \n",
    "    file_dir = paste('data', 'jmartinez', 'Data_for_RF_Models', 'Board_Counts',\n",
    "                     paste('route', rt, sep = '_'), paste('direction', di, sep = ''),\n",
    "                     paste('bus_stop', st, sep = '_'),\n",
    "                     sep = '/')\n",
    "    \n",
    "    \n",
    "    glm_control = glm.control(epsilon = 1e-8, maxit = 100, trace = FALSE)\n",
    "    \n",
    "    \n",
    "    if(part == 'all'){\n",
    "        \n",
    "        file_name_train = paste(file_dir, 'train_data.csv', sep = '/')\n",
    "        file_name_test = paste(file_dir, 'test_data.csv', sep = '/')\n",
    "        \n",
    "        DT_train = read_csv(file_name_train, show_col_types = FALSE)\n",
    "        DT_test = read_csv(file_name_test, show_col_types = FALSE)\n",
    "    }\n",
    "    else if(part == 'pre'){\n",
    "        \n",
    "        file_name_train = paste(file_dir, 'pre_lock_train_data.csv', sep = '/')\n",
    "        file_name_test = paste(file_dir, 'pre_lock_test_data.csv', sep = '/')\n",
    "        \n",
    "        DT_train = read_csv(file_name_train, show_col_types = FALSE)\n",
    "        DT_test = read_csv(file_name_test, show_col_types = FALSE)\n",
    "        \n",
    "    }\n",
    "    else if(part == 'post'){\n",
    "        file_name_train = paste(file_dir, 'post_lock_train_data.csv', sep = '/')\n",
    "        file_name_test = paste(file_dir, 'post_lock_test_data.csv', sep = '/')\n",
    "        \n",
    "        DT_train = read_csv(file_name_train, show_col_types = FALSE)\n",
    "        DT_train = DT_train[complete.cases(DT_train), ]\n",
    "        \n",
    "        if(nrow(DT_train) < 60){\n",
    "            return('Insufficient data for analysis.')\n",
    "        }\n",
    "        \n",
    "        if(length(unique(DT_train$board_count)) == 1){\n",
    "            return('The dataset does not have variability the dependent variable.')\n",
    "        }\n",
    "        \n",
    "        DT_test = read_csv(file_name_test, show_col_types = FALSE)\n",
    "        DT_test = DT_test[complete.cases(DT_test), ]\n",
    "    }\n",
    "    \n",
    "    DT_train$month = factor(DT_train$month)\n",
    "    DT_train$service_kind = factor(DT_train$service_kind)\n",
    "    DT_train$hour = factor(DT_train$hour)\n",
    "    \n",
    "    train_month_levels = length(levels(DT_train$month))\n",
    "    train_service_kind_levels = length(levels(DT_train$service_kind))\n",
    "    train_hour_levels = length(levels(DT_train$hour))\n",
    "    \n",
    "    DT_test$month = factor(DT_test$month)\n",
    "    DT_test$service_kind = factor(DT_test$service_kind)\n",
    "    DT_test$hour = factor(DT_test$hour)\n",
    "    \n",
    "    DT_test = DT_test %>%\n",
    "        filter(hour %in% intersect(unique(DT_test$hour), unique(DT_train$hour)))\n",
    "    \n",
    "    if(train_month_levels > 1){\n",
    "        if(train_service_kind_levels > 1){\n",
    "            if(train_hour_levels > 1){\n",
    "                DT_train = DT_train\n",
    "                \n",
    "                X_train = dummy_cols(DT_train[ , -c(4)], select_columns = c('hour', 'month', 'service_kind'))\n",
    "                X_train = X_train[, -which(names(X_train) %in% c('hour', 'month', 'service_kind'))]\n",
    "                X_train = as.matrix(X_train)\n",
    "                \n",
    "                XX <- X_train %*% t(X_train)\n",
    "                det_DT_train = det(XX)\n",
    "                \n",
    "                DT_test = DT_test\n",
    "                \n",
    "                if(det == 'Yes'){\n",
    "                    if(det_DT_train == 0){\n",
    "                        return('The design matrix is not invertible (det(X) = 0).')\n",
    "                    }\n",
    "                }\n",
    "                \n",
    "            }\n",
    "            else{\n",
    "                DT_train = DT_train[, -which(names(DT_train) == 'hour')]\n",
    "                \n",
    "                X_train = dummy_cols(DT_train[ , -c(3)], select_columns = c('month', 'service_kind'))\n",
    "                \n",
    "                X_train = X_train[, -which(names(X_train) %in% c('hour', 'month', 'service_kind'))]\n",
    "                X_train = as.matrix(X_train)\n",
    "                XX <- X_train %*% t(X_train)\n",
    "                det_DT_train = det(XX)\n",
    "                \n",
    "                DT_test = DT_test[, -which(names(DT_test) == 'hour')]\n",
    "                \n",
    "                if(det == 'Yes'){\n",
    "                    if(det_DT_train == 0){\n",
    "                        return('The design matrix is not invertible (det(X) = 0).')\n",
    "                    }\n",
    "                }\n",
    "\n",
    "            }\n",
    "        }\n",
    "        else{\n",
    "            if(train_hour_levels > 0){\n",
    "                \n",
    "                DT_train = DT_train[, -which(names(DT_train) == 'service_kind')]\n",
    "                \n",
    "                X_train = dummy_cols(DT_train[ , -c(3)], select_columns = c('hour', 'month'))\n",
    "                X_train = as.matrix(X_train)\n",
    "                XX <- X_train %*% t(X_train)\n",
    "                det_DT_train = det(XX)\n",
    "                \n",
    "                DT_test = DT_test[, -which(names(DT_test) == 'service_kind')]\n",
    "                \n",
    "                if(det == 'Yes'){\n",
    "                    if(det_DT_train == 0){\n",
    "                        return('The design matrix is not invertible (det(X) = 0).')\n",
    "                    }\n",
    "                }\n",
    "\n",
    "            }\n",
    "            else{\n",
    "                DT_train = DT_train[, -which(names(DT_train) == c('service_kind', 'hour'))]\n",
    "                \n",
    "                X_train = dummy_cols(DT_train[ , -c(2)], select_columns = c('month'))\n",
    "                X_train = as.matrix(X_train)\n",
    "                XX <- X_train %*% t(X_train)\n",
    "                det_DT_train = det(XX)\n",
    "                \n",
    "                DT_test = DT_test[, -which(names(DT_test) == c('service_kind', 'hour'))]\n",
    "                \n",
    "                if(det == 'Yes'){\n",
    "                    if(det_DT_train == 0){\n",
    "                        return('The design matrix is not invertible (det(X) = 0).')\n",
    "                    }\n",
    "                }\n",
    "\n",
    "            }\n",
    "        }\n",
    "    }\n",
    "    else{\n",
    "        if(train_service_kind_levels > 1){\n",
    "            if(train_hour_levels > 1){\n",
    "                DT_train = DT_train[, -which(names(DT_train) == 'month')]\n",
    "                \n",
    "                X_train = dummy_cols(DT_train[ , -c(3)], select_columns = c('hour', 'service_kind'))\n",
    "                X_train = as.matrix(X_train)\n",
    "                XX <- X_train %*% t(X_train)\n",
    "                det_DT_train = det(XX)\n",
    "                \n",
    "                DT_test = DT_test[, -which(names(DT_test) == 'month')]\n",
    "                \n",
    "                if(det == 'Yes'){\n",
    "                    if(det_DT_train == 0){\n",
    "                        return('The design matrix is not invertible (det(X) = 0).')\n",
    "                    }\n",
    "                }\n",
    "\n",
    "            }\n",
    "            else{\n",
    "                DT_train = DT_train[, -which(names(DT_train) %in% c('month', 'hour'))]\n",
    "                \n",
    "                X_train = dummy_cols(DT_train[ , -c(2)], select_columns = c('service_kind'))\n",
    "                X_train = as.matrix(X_train)\n",
    "                XX <- X_train %*% t(X_train)\n",
    "                det_DT_train = det(XX)\n",
    "                \n",
    "                DT_test = DT_test[, -which(names(DT_test) %in% c('month', 'hour'))]\n",
    "                \n",
    "                if(det == 'Yes'){\n",
    "                    if(det_DT_train == 0){\n",
    "                        return('The design matrix is not invertible (det(X) = 0).')\n",
    "                    }\n",
    "                }\n",
    "\n",
    "            }\n",
    "        }\n",
    "        else{\n",
    "            if(train_hour_levels > 1){\n",
    "                DT_train = DT_train[, -which(names(DT_train) == c('month', 'service_kind'))]\n",
    "                \n",
    "                X_train = dummy_cols(as.matrix(DT_train[ , -c(2)]), select_columns = c('hour'))\n",
    "                XX <- X_train %*% t(X_train)\n",
    "                det_DT_train = det(XX)\n",
    "                \n",
    "                DT_test = DT_test[, -which(names(DT_test) == c('month', 'service_kind'))]\n",
    "                \n",
    "                if(det == 'Yes'){\n",
    "                    if(det_DT_train == 0){\n",
    "                        return('The design matrix is not invertible (det(X) = 0).')\n",
    "                    }\n",
    "                }\n",
    "\n",
    "            }\n",
    "            else{\n",
    "                DT_train = DT_train[, -which(names(DT_train) == c('month', 'service_kind', 'hour'))]\n",
    "                DT_test = DT_test[, -which(names(DT_test) == c('month', 'service_kind', 'hour'))]\n",
    "            }\n",
    "        }\n",
    "    }\n",
    "    \n",
    "    #-------------------------------------------------------------------------------------\n",
    "    \n",
    "    DT_train = remove_empty(DT_train, which = c('cols'), quiet = TRUE)\n",
    "    DT_train = DT_train[complete.cases(DT_train), ]\n",
    "    \n",
    "    DT_test = remove_empty(DT_test, which = c('cols'), quiet = TRUE)\n",
    "    DT_test = DT_test[complete.cases(DT_test), ]\n",
    "    \n",
    "    train_board_counts = unique(DT_train$board_count)\n",
    "    test_board_counts = unique(DT_test$board_count)\n",
    "    \n",
    "    n_row_train = nrow(DT_train)\n",
    "    \n",
    "    if(n_row_train < 60){\n",
    "        \n",
    "        return('Insufficient data for analysis!')\n",
    "    }\n",
    "    else if(n_row_train >= 60){\n",
    "        \n",
    "        if(length(train_board_counts) > 1){\n",
    "            \n",
    "            RMSE_Poiss = 0\n",
    "            RMSE_NB = 0\n",
    "            RMSE_ZI_Poiss = 0\n",
    "            RMSE_ZI_NB = 0\n",
    "            RMSE_hurdle = 0\n",
    "            \n",
    "            k_fold_pred_Poiss <- list()\n",
    "            k_fold_pred_NB <- list()\n",
    "            k_fold_pred_ZI_Poiss <- list()\n",
    "            k_fold_pred_ZI_NB <- list()\n",
    "            k_fold_pred_hurdle <- list()\n",
    "            \n",
    "            predictions_Poiss = 0\n",
    "            predictions_NB = 0\n",
    "            predictions_ZI_Poiss = 0\n",
    "            predictions_ZI_NB = 0\n",
    "            predictions_hurdle = 0\n",
    "            \n",
    "            ind_Poiss = 0\n",
    "            ind_NB = 0\n",
    "            ind_ZI_Poiss = 0\n",
    "            ind_ZI_NB = 0\n",
    "            ind_hurdle = 0\n",
    "                 \n",
    "            set.seed(123)\n",
    "            rand_ind = createDataPartition(DT_train$board_count, times = k, p = 0.5)\n",
    "            \n",
    "            for(i in 1:k){\n",
    "                       \n",
    "                df = DT_train[rand_ind[[i]],]\n",
    "                df = df[complete.cases(df), ]\n",
    "                \n",
    "                df_test = DT_train[-rand_ind[[i]],]\n",
    "                df_test = df_test[complete.cases(df_test), ]\n",
    "                \n",
    "                train_hour = unique(df$hour)\n",
    "                test_hour = unique(df_test$hour)\n",
    "                inter_hour = intersect(train_hour, test_hour)\n",
    "                \n",
    "                #train_month = unique(df$month)\n",
    "                #test_month = unique(df_test$month)\n",
    "                \n",
    "                if((setequal(test_hour, inter_hour)) == T){\n",
    "            \n",
    "                    Poiss.fit = glm(board_count ~ ., data = df, family = 'poisson')\n",
    "                         \n",
    "                    NB.fit = glm.nb(board_count ~ ., control = glm_control, data = df)\n",
    "                \n",
    "                    ZI.Poiss = zeroinfl(board_count ~ . | ., data = df, dist = 'poisson', link = 'logit')\n",
    "            \n",
    "                    ZI.NB = zeroinfl(board_count ~ . |.,\n",
    "                                     data = df, dist = 'negbin', link = 'logit')\n",
    "            \n",
    "                    hurdle.fit = hurdle(board_count ~ . |  .,\n",
    "                                        data = df, dist = 'poisson',\n",
    "                                        zero.dist = 'binomial', link = 'logit')\n",
    "                    \n",
    "                    k_fold_pred_Poiss[[i]] = predict(Poiss.fit, df_test, type = \"response\")\n",
    "                    k_fold_pred_NB[[i]] = predict(NB.fit, df_test, type = \"response\")\n",
    "                    k_fold_pred_ZI_Poiss[[i]] = predict(ZI.Poiss, df_test, type = \"response\")\n",
    "                    k_fold_pred_ZI_NB[[i]] = predict(ZI.NB, df_test, type = \"response\")\n",
    "                    k_fold_pred_hurdle[[i]] = predict(hurdle.fit, df_test, type = \"response\")\n",
    "                    \n",
    "                    RMSE_Poiss[i] = sqrt(mean((df_test$board_count - k_fold_pred_Poiss[[i]])^{2})) # Change it \n",
    "                    RMSE_NB[i] = sqrt(mean((df_test$board_count - k_fold_pred_NB[[i]])^{2}))\n",
    "                    RMSE_ZI_Poiss[i] = sqrt(mean((df_test$board_count - k_fold_pred_ZI_Poiss[[i]])^{2}))\n",
    "                    RMSE_ZI_NB[i] = sqrt(mean((df_test$board_count - k_fold_pred_ZI_NB[[i]])^{2}))\n",
    "                    RMSE_hurdle[i] = sqrt(mean((df_test$board_count - k_fold_pred_hurdle[[i]])^{2}))\n",
    "                }\n",
    "                else{\n",
    "                \n",
    "                    repeat{\n",
    "                        \n",
    "                        rand_ind = createDataPartition(DT_train$board_count, times = 5, p = 0.45)\n",
    "                        \n",
    "                        df = DT_train[rand_ind[[i]],]\n",
    "                        df = df[complete.cases(df), ]\n",
    "                        \n",
    "                        df_test = DT_train[-rand_ind[[i]],]\n",
    "                        df_test = df_test[complete.cases(df_test), ]\n",
    "                        \n",
    "                        train_hour = unique(df$hour)\n",
    "                        test_hour = unique(df_test$hour)\n",
    "                        inter_hour = intersect(train_hour, test_hour)\n",
    "                        \n",
    "                        if((setequal(test_hour, inter_hour)) == T){\n",
    "                        \n",
    "                            break\n",
    "                        \n",
    "                        }\n",
    "                    }\n",
    "                              \n",
    "                    Poiss.fit = glm(board_count ~ ., data = df, family = 'poisson')\n",
    "                         \n",
    "                    NB.fit = glm.nb(board_count ~ ., control = glm_control, data = df)\n",
    "                \n",
    "                    ZI.Poiss = zeroinfl(board_count ~ . | ., data = df, dist = 'poisson', link = 'logit')\n",
    "            \n",
    "                    ZI.NB = zeroinfl(board_count ~ . | .,\n",
    "                                     data = df, dist = 'negbin', link = 'logit')\n",
    "            \n",
    "                    hurdle.fit = hurdle(board_count ~ . |  .,\n",
    "                                        data = df, dist = 'poisson',\n",
    "                                        zero.dist = 'binomial', link = 'logit')\n",
    "                    \n",
    "                    k_fold_pred_Poiss[[i]] = predict(Poiss.fit, df_test, type = \"response\")\n",
    "                    k_fold_pred_NB[[i]] = predict(NB.fit, df_test, type = \"response\")\n",
    "                    k_fold_pred_ZI_Poiss[[i]] = predict(ZI.Poiss, df_test, type = \"response\")\n",
    "                    k_fold_pred_ZI_NB[[i]] = predict(ZI.NB, df_test, type = \"response\")\n",
    "                    k_fold_pred_hurdle[[i]] = predict(hurdle.fit, df_test, type = \"response\")\n",
    "                    \n",
    "                    RMSE_Poiss[i] = sqrt(mean((df_test$board_count - k_fold_pred_Poiss[[i]])^{2})) # Change it \n",
    "                    RMSE_NB[i] = sqrt(mean((df_test$board_count - k_fold_pred_NB[[i]])^{2}))\n",
    "                    RMSE_ZI_Poiss[i] = sqrt(mean((df_test$board_count - k_fold_pred_ZI_Poiss[[i]])^{2}))\n",
    "                    RMSE_ZI_NB[i] = sqrt(mean((df_test$board_count - k_fold_pred_ZI_NB[[i]])^{2}))\n",
    "                    RMSE_hurdle[i] = sqrt(mean((df_test$board_count - k_fold_pred_hurdle[[i]])^{2}))\n",
    "                }\n",
    "            }\n",
    "            # Train RMSE\n",
    "        \n",
    "            train_RMSE_poiss = mean(RMSE_Poiss)\n",
    "            train_RMSE_nb = mean(RMSE_NB)\n",
    "            train_RMSE_zip = mean(RMSE_ZI_Poiss)\n",
    "            train_RMSE_zinb = mean(RMSE_ZI_NB)\n",
    "            train_RMSE_hurdle = mean(RMSE_hurdle)\n",
    "            \n",
    "            # Fit models with training data to calculate test RMSEs:\n",
    "    \n",
    "            model_poiss_train = glm(board_count ~ ., data = DT_train, family = 'poisson')\n",
    "                             \n",
    "            model_nb_train = glm.nb(board_count ~ ., control = glm_control, data = DT_train)\n",
    "                \n",
    "            model_zip_train = zeroinfl(board_count ~ . | ., data = DT_train, dist = 'poisson', link = 'logit')\n",
    "            \n",
    "            model_zinb_train = ZI.NB = zeroinfl(board_count ~ . | .,\n",
    "                                                data = DT_train, dist = 'negbin', link = 'logit')\n",
    "            \n",
    "            model_hurdle_train =  hurdle(board_count ~ . | .,\n",
    "                                         data = DT_train, dist = 'poisson', zero.dist = 'binomial', link = 'logit')\n",
    "                       \n",
    "            # Test predictions:\n",
    "            \n",
    "            predictions_poiss_test = data.frame(predict(model_poiss_train, DT_test, se.fit = T))\n",
    "            predictions_nb_test = data.frame(predict(model_nb_train, DT_test, se.fit = T))\n",
    "            predictions_zip_test = predict(model_zip_train, DT_test)\n",
    "            predictions_zinb_test = predict(model_zinb_train, DT_test)\n",
    "            predictions_hurdle_test = predict(model_hurdle_train, DT_test)\n",
    "                        \n",
    "            DT_test$Poiss_Predictions = predictions_poiss_test$fit\n",
    "            DT_test$Poiss_Lower_Bound = predictions_poiss_test$fit - (2*predictions_poiss_test$se.fit)\n",
    "            DT_test$Poiss_Upper_Bound = predictions_poiss_test$fit + (2*predictions_poiss_test$se.fit)\n",
    "            \n",
    "            DT_test$NB_Predictions = predictions_nb_test$fit\n",
    "            DT_test$NB_Lower_Bound = predictions_nb_test$fit - (2*predictions_nb_test$se.fit)\n",
    "            DT_test$NB_Upper_Bound = predictions_nb_test$fit + (2*predictions_nb_test$se.fit)\n",
    "            \n",
    "            ## Zero-Inflated Poisson:\n",
    "            \n",
    "            hour <- DT_train$hour\n",
    "            #formula_zip <- as.formula(paste('y_hat ~', paste(colnames(regressors), collapse = '+'), '| 1'))\n",
    "            \n",
    "            fit_zip <- predict(model_zip_train)\n",
    "            Pearson_zip <- resid(model_zip_train, type = 'pearson')\n",
    "            VarComp_zip <- resid(model_zip_train)\n",
    "            \n",
    "            bootstrap_zip <- replicate(200, {\n",
    "                y_hat <- pmax(round(fit_zip + sample(Pearson_zip)*VarComp_zip, 0), 0)\n",
    "                predict(zeroinfl(y_hat ~ hour | 1), DT_test)\n",
    "            })\n",
    "            \n",
    "            bootstrap_zip_df <- data.frame(t(apply(bootstrap_zip, 1, quantile, c(0.025, 0.975))))\n",
    "            colnames(bootstrap_zip_df) <- c('ZIP_Lower_Bound', 'ZIP_Upper_Bound')\n",
    "            \n",
    "            DT_test$ZIP_Predictions = predictions_zip_test\n",
    "            DT_test$ZIP_Lower_Bound = bootstrap_zip_df$ZIP_Lower_Bound\n",
    "            DT_test$ZIP_Upper_Bound = bootstrap_zip_df$ZIP_Lower_Bound\n",
    "            \n",
    "            ## Zero-Inflated Negative-Binomial:\n",
    "            \n",
    "            fit_zinb <- predict(model_zinb_train)\n",
    "            Pearson_zinb <- resid(model_zinb_train, type = 'pearson')\n",
    "            VarComp_zinb <- resid(model_zinb_train)\n",
    "            \n",
    "            bootstrap_zinb <- replicate(200, {\n",
    "                y_hat <- pmax(round(fit_zinb + sample(Pearson_zinb)*VarComp_zinb, 0), 0)\n",
    "                predict(zeroinfl(y_hat ~ hour | 1, dist = 'negbin'),\n",
    "                        newdata = DT_test)\n",
    "            })\n",
    "            \n",
    "            bootstrap_zinb_df <- data.frame(t(apply(bootstrap_zinb, 1, quantile, c(0.025, 0.975))))\n",
    "            colnames(bootstrap_zinb_df) <- c('ZINB_Lower_Bound', 'ZINB_Upper_Bound')\n",
    "            \n",
    "            DT_test$ZINB_Predictions = predictions_zinb_test\n",
    "            DT_test$ZINB_Lower_Bound = bootstrap_zinb_df$ZINB_Lower_Bound\n",
    "            DT_test$ZINB_Upper_Bound = bootstrap_zinb_df$ZINB_Upper_Bound\n",
    "            \n",
    "            ## Hurdle Poisson-Binomial:\n",
    "            \n",
    "            fit_hurdle <- predict(model_hurdle_train)\n",
    "            Pearson_hurdle <- resid(model_hurdle_train, type = 'pearson')\n",
    "            VarComp_hurdle <- resid(model_hurdle_train)\n",
    "            \n",
    "            bootstrap_hurdle <- replicate(200, {\n",
    "                y_hat <- pmax(round(fit_hurdle + sample(Pearson_hurdle)*VarComp_hurdle, 0), 0)\n",
    "                predict(hurdle(y_hat ~ hour | 1),\n",
    "                        newdata = DT_test)\n",
    "            })\n",
    "            \n",
    "            bootstrap_hurdle_df <- data.frame(t(apply(bootstrap_hurdle, 1, quantile, c(0.025, 0.975))))\n",
    "            colnames(bootstrap_hurdle_df) <- c('Hurdle_Lower_Bound', 'Hurdle_Upper_Bound')\n",
    "            \n",
    "            DT_test$Hurdle_Predictions = predictions_hurdle_test\n",
    "            DT_test$Hurdle_Lower_Bound = bootstrap_hurdle_df$Hurdle_Lower_Bound\n",
    "            DT_test$Hurdle_Upper_Bound = bootstrap_hurdle_df$Hurdle_Upper_Bound\n",
    "            \n",
    "            return(DT_test)\n",
    "                \n",
    "            # Test RMSEs:\n",
    "    \n",
    "            test_RMSE_poiss = sqrt(mean((DT_test$board_count - predictions_poiss_test)^{2}))\n",
    "            test_RMSE_nb = sqrt(mean((DT_test$board_count - predictions_nb_test)^{2}))\n",
    "            test_RMSE_zip = sqrt(mean((DT_test$board_count - predictions_zip_test)^{2}))\n",
    "            test_RMSE_zinb = sqrt(mean((DT_test$board_count - predictions_zinb_test)^{2}))\n",
    "            test_RMSE_hurdle = sqrt(mean((DT_test$board_count - predictions_hurdle_test)^{2}))\n",
    "            \n",
    "            # Predicitons on all available data:\n",
    "                 \n",
    "            RMSEs = data.frame(cbind(\n",
    "                rbind('Train' = train_RMSE_poiss, 'Test' = test_RMSE_poiss),\n",
    "                rbind('Train' = NA, 'Test' = NA),\n",
    "                rbind('Train' = train_RMSE_zip, 'Test' = test_RMSE_zip),\n",
    "                rbind('Train' = train_RMSE_zinb, 'Test' = test_RMSE_zinb),\n",
    "                rbind('Train' = train_RMSE_hurdle, 'Test' = test_RMSE_hurdle)))\n",
    "    \n",
    "            colnames(RMSEs) = c('Poiss_RMSE', 'NB_RMSE', 'ZIP_RMSE', 'ZINB_RMSE', 'Hurdle_RMSE')\n",
    "                           \n",
    "        \n",
    "            return('Done!')\n",
    "                \n",
    "        }\n",
    "        else if(length(train_board_counts) == 1){\n",
    "            \n",
    "            return('This bus stop does not have variability in the response variable.')\n",
    "        }\n",
    "        \n",
    "    }\n",
    "}"
   ]
  },
  {
   "cell_type": "code",
   "execution_count": 113,
   "id": "bf1b460c-9a44-4def-8fcf-4b1af579f300",
   "metadata": {},
   "outputs": [
    {
     "data": {
      "text/html": [
       "'The design matrix is not invertible (det(X) = 0).'"
      ],
      "text/latex": [
       "'The design matrix is not invertible (det(X) = 0).'"
      ],
      "text/markdown": [
       "'The design matrix is not invertible (det(X) = 0).'"
      ],
      "text/plain": [
       "[1] \"The design matrix is not invertible (det(X) = 0).\""
      ]
     },
     "metadata": {},
     "output_type": "display_data"
    }
   ],
   "source": [
    "all_models_cv('1', '0', '12', 'post', 'Yes')"
   ]
  }
 ],
 "metadata": {
  "environment": {
   "name": "r-cpu.3-6.m65",
   "type": "gcloud",
   "uri": "gcr.io/deeplearning-platform-release/r-cpu.3-6:m65"
  },
  "kernelspec": {
   "display_name": "R",
   "language": "R",
   "name": "ir"
  },
  "language_info": {
   "codemirror_mode": "r",
   "file_extension": ".r",
   "mimetype": "text/x-r-source",
   "name": "R",
   "pygments_lexer": "r",
   "version": "4.1.1"
  }
 },
 "nbformat": 4,
 "nbformat_minor": 5
}
