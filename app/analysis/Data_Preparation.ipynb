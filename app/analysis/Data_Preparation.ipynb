{
 "cells": [
  {
   "cell_type": "markdown",
   "id": "contained-jersey",
   "metadata": {},
   "source": [
    "# Data Preparation\n",
    "\n",
    "In this notebook we show how process and filter the CARTA dataset for modeling purposes. The main idea is model board count considering a set of predictors that are already part the CARTA dataset and some that need to be created.\n",
    "\n",
    "We consider three main approaches to model demand:\n",
    "\n",
    "1. Generalized Linear Models.\n",
    "2. Random Forest and Zero-Inflated Random Forest.\n",
    "3. Neural Networks.\n",
    "\n",
    "The following libraries are required for running this notebook:"
   ]
  },
  {
   "cell_type": "code",
   "execution_count": 79,
   "id": "herbal-graham",
   "metadata": {},
   "outputs": [],
   "source": [
    "import numpy as np\n",
    "import pandas as pd\n",
    "import timeit\n",
    "import pickle\n",
    "import os\n",
    "import timeit\n",
    "import dask.dataframe as dd"
   ]
  },
  {
   "cell_type": "code",
   "execution_count": 69,
   "id": "restricted-parade",
   "metadata": {},
   "outputs": [],
   "source": [
    "carta = pd.read_csv('data/jmartinez/Transit_Data/carta.csv', low_memory = False)"
   ]
  },
  {
   "cell_type": "code",
   "execution_count": 70,
   "id": "verbal-frederick",
   "metadata": {},
   "outputs": [],
   "source": [
    "carta.stop_id = carta['stop_id'].astype(str)\n",
    "carta.trip_id = carta['trip_id'].astype(str)\n",
    "carta.hour = carta['hour'].astype(str)\n",
    "carta.stop_sequence = carta['stop_sequence'].astype(int)\n",
    "carta.route_id = carta['route_id'].astype(str)\n",
    "carta.direction_id = carta['direction_id'].astype(str)\n",
    "carta.service_period = carta['service_period'].astype(str)\n",
    "carta.actual_arrival_time = pd.to_datetime(carta['actual_arrival_time'], format = \"%Y-%m-%d %H:%M:%S\")"
   ]
  },
  {
   "cell_type": "code",
   "execution_count": 71,
   "id": "bfba6453",
   "metadata": {},
   "outputs": [],
   "source": [
    "carta.actual_arrival_time = pd.to_datetime(carta['actual_arrival_time'], format = \"%Y-%m-%d %H:%M:%S\")"
   ]
  },
  {
   "cell_type": "code",
   "execution_count": 72,
   "id": "b4a3370f",
   "metadata": {},
   "outputs": [],
   "source": [
    "carta.scheduled_arrival_time = pd.to_datetime(carta['scheduled_arrival_time'], format = \"%Y-%m-%d %H:%M:%S\")"
   ]
  },
  {
   "cell_type": "code",
   "execution_count": 73,
   "id": "6037926b",
   "metadata": {},
   "outputs": [],
   "source": [
    "carta.date = pd.to_datetime(carta['date'], format = \"%Y-%m-%d\")"
   ]
  },
  {
   "cell_type": "code",
   "execution_count": 74,
   "id": "dc598bd1-6645-490a-9c0a-ab30789a9aca",
   "metadata": {},
   "outputs": [],
   "source": [
    "carta['year'] = carta['date'].dt.year\n",
    "carta['month'] = carta['date'].dt.month"
   ]
  },
  {
   "cell_type": "code",
   "execution_count": 75,
   "id": "631c379b-f373-4e1f-b985-d52ac2f4fa52",
   "metadata": {},
   "outputs": [],
   "source": [
    "carta = carta.sort_values(by = 'date')"
   ]
  },
  {
   "cell_type": "code",
   "execution_count": 76,
   "id": "d59fd920",
   "metadata": {},
   "outputs": [
    {
     "data": {
      "text/html": [
       "<div>\n",
       "<style scoped>\n",
       "    .dataframe tbody tr th:only-of-type {\n",
       "        vertical-align: middle;\n",
       "    }\n",
       "\n",
       "    .dataframe tbody tr th {\n",
       "        vertical-align: top;\n",
       "    }\n",
       "\n",
       "    .dataframe thead th {\n",
       "        text-align: right;\n",
       "    }\n",
       "</style>\n",
       "<table border=\"1\" class=\"dataframe\">\n",
       "  <thead>\n",
       "    <tr style=\"text-align: right;\">\n",
       "      <th></th>\n",
       "      <th>trip_id</th>\n",
       "      <th>scheduled_arrival_time</th>\n",
       "      <th>actual_arrival_time</th>\n",
       "      <th>stop_id</th>\n",
       "      <th>stop_sequence</th>\n",
       "      <th>stop_lat</th>\n",
       "      <th>stop_lon</th>\n",
       "      <th>route_id</th>\n",
       "      <th>direction_id</th>\n",
       "      <th>board_count</th>\n",
       "      <th>...</th>\n",
       "      <th>actual_arrival_datetime</th>\n",
       "      <th>trip_start_time</th>\n",
       "      <th>day_of_week</th>\n",
       "      <th>trip_date</th>\n",
       "      <th>hour</th>\n",
       "      <th>year</th>\n",
       "      <th>month</th>\n",
       "      <th>Estimated_Temp</th>\n",
       "      <th>Estimated_Precip</th>\n",
       "      <th>service_kind</th>\n",
       "    </tr>\n",
       "  </thead>\n",
       "  <tbody>\n",
       "    <tr>\n",
       "      <th>0</th>\n",
       "      <td>132994</td>\n",
       "      <td>1900-01-01 04:55:00</td>\n",
       "      <td>1900-01-01 04:52:00</td>\n",
       "      <td>1351</td>\n",
       "      <td>1</td>\n",
       "      <td>35.052658</td>\n",
       "      <td>-85.309722</td>\n",
       "      <td>1</td>\n",
       "      <td>0</td>\n",
       "      <td>1</td>\n",
       "      <td>...</td>\n",
       "      <td>2019-01-02 04:52:00</td>\n",
       "      <td>1900-01-01 04:55:00</td>\n",
       "      <td>2</td>\n",
       "      <td>2019-01-02</td>\n",
       "      <td>4</td>\n",
       "      <td>2019</td>\n",
       "      <td>1</td>\n",
       "      <td>8.35</td>\n",
       "      <td>0.000000</td>\n",
       "      <td>weekday</td>\n",
       "    </tr>\n",
       "    <tr>\n",
       "      <th>1193477</th>\n",
       "      <td>134417</td>\n",
       "      <td>1900-01-01 20:35:04</td>\n",
       "      <td>1900-01-01 20:37:00</td>\n",
       "      <td>971</td>\n",
       "      <td>47</td>\n",
       "      <td>35.024347</td>\n",
       "      <td>-85.246812</td>\n",
       "      <td>4</td>\n",
       "      <td>1</td>\n",
       "      <td>0</td>\n",
       "      <td>...</td>\n",
       "      <td>2019-01-02 20:37:00</td>\n",
       "      <td>1900-01-01 20:02:53</td>\n",
       "      <td>2</td>\n",
       "      <td>2019-01-02</td>\n",
       "      <td>20</td>\n",
       "      <td>2019</td>\n",
       "      <td>1</td>\n",
       "      <td>10.00</td>\n",
       "      <td>0.590889</td>\n",
       "      <td>weekday</td>\n",
       "    </tr>\n",
       "    <tr>\n",
       "      <th>1193478</th>\n",
       "      <td>134417</td>\n",
       "      <td>1900-01-01 20:35:30</td>\n",
       "      <td>1900-01-01 20:38:00</td>\n",
       "      <td>972</td>\n",
       "      <td>48</td>\n",
       "      <td>35.025717</td>\n",
       "      <td>-85.248528</td>\n",
       "      <td>4</td>\n",
       "      <td>1</td>\n",
       "      <td>0</td>\n",
       "      <td>...</td>\n",
       "      <td>2019-01-02 20:38:00</td>\n",
       "      <td>1900-01-01 20:02:53</td>\n",
       "      <td>2</td>\n",
       "      <td>2019-01-02</td>\n",
       "      <td>20</td>\n",
       "      <td>2019</td>\n",
       "      <td>1</td>\n",
       "      <td>10.00</td>\n",
       "      <td>0.585833</td>\n",
       "      <td>weekday</td>\n",
       "    </tr>\n",
       "    <tr>\n",
       "      <th>1193479</th>\n",
       "      <td>134409</td>\n",
       "      <td>1900-01-01 20:35:32</td>\n",
       "      <td>1900-01-01 20:38:00</td>\n",
       "      <td>12</td>\n",
       "      <td>87</td>\n",
       "      <td>35.050703</td>\n",
       "      <td>-85.309532</td>\n",
       "      <td>4</td>\n",
       "      <td>1</td>\n",
       "      <td>0</td>\n",
       "      <td>...</td>\n",
       "      <td>2019-01-02 20:38:00</td>\n",
       "      <td>1900-01-01 19:40:00</td>\n",
       "      <td>2</td>\n",
       "      <td>2019-01-02</td>\n",
       "      <td>20</td>\n",
       "      <td>2019</td>\n",
       "      <td>1</td>\n",
       "      <td>10.00</td>\n",
       "      <td>0.585444</td>\n",
       "      <td>weekday</td>\n",
       "    </tr>\n",
       "    <tr>\n",
       "      <th>1193480</th>\n",
       "      <td>134329</td>\n",
       "      <td>1900-01-01 20:35:44</td>\n",
       "      <td>1900-01-01 20:43:00</td>\n",
       "      <td>806</td>\n",
       "      <td>10</td>\n",
       "      <td>35.042653</td>\n",
       "      <td>-85.306685</td>\n",
       "      <td>4</td>\n",
       "      <td>0</td>\n",
       "      <td>0</td>\n",
       "      <td>...</td>\n",
       "      <td>2019-01-02 20:43:00</td>\n",
       "      <td>1900-01-01 20:30:00</td>\n",
       "      <td>2</td>\n",
       "      <td>2019-01-02</td>\n",
       "      <td>20</td>\n",
       "      <td>2019</td>\n",
       "      <td>1</td>\n",
       "      <td>10.00</td>\n",
       "      <td>0.583111</td>\n",
       "      <td>weekday</td>\n",
       "    </tr>\n",
       "  </tbody>\n",
       "</table>\n",
       "<p>5 rows × 26 columns</p>\n",
       "</div>"
      ],
      "text/plain": [
       "        trip_id scheduled_arrival_time actual_arrival_time stop_id  \\\n",
       "0        132994    1900-01-01 04:55:00 1900-01-01 04:52:00    1351   \n",
       "1193477  134417    1900-01-01 20:35:04 1900-01-01 20:37:00     971   \n",
       "1193478  134417    1900-01-01 20:35:30 1900-01-01 20:38:00     972   \n",
       "1193479  134409    1900-01-01 20:35:32 1900-01-01 20:38:00      12   \n",
       "1193480  134329    1900-01-01 20:35:44 1900-01-01 20:43:00     806   \n",
       "\n",
       "         stop_sequence   stop_lat   stop_lon route_id direction_id  \\\n",
       "0                    1  35.052658 -85.309722        1            0   \n",
       "1193477             47  35.024347 -85.246812        4            1   \n",
       "1193478             48  35.025717 -85.248528        4            1   \n",
       "1193479             87  35.050703 -85.309532        4            1   \n",
       "1193480             10  35.042653 -85.306685        4            0   \n",
       "\n",
       "         board_count  ...  actual_arrival_datetime      trip_start_time  \\\n",
       "0                  1  ...      2019-01-02 04:52:00  1900-01-01 04:55:00   \n",
       "1193477            0  ...      2019-01-02 20:37:00  1900-01-01 20:02:53   \n",
       "1193478            0  ...      2019-01-02 20:38:00  1900-01-01 20:02:53   \n",
       "1193479            0  ...      2019-01-02 20:38:00  1900-01-01 19:40:00   \n",
       "1193480            0  ...      2019-01-02 20:43:00  1900-01-01 20:30:00   \n",
       "\n",
       "        day_of_week   trip_date hour  year month Estimated_Temp  \\\n",
       "0                 2  2019-01-02    4  2019     1           8.35   \n",
       "1193477           2  2019-01-02   20  2019     1          10.00   \n",
       "1193478           2  2019-01-02   20  2019     1          10.00   \n",
       "1193479           2  2019-01-02   20  2019     1          10.00   \n",
       "1193480           2  2019-01-02   20  2019     1          10.00   \n",
       "\n",
       "         Estimated_Precip service_kind  \n",
       "0                0.000000      weekday  \n",
       "1193477          0.590889      weekday  \n",
       "1193478          0.585833      weekday  \n",
       "1193479          0.585444      weekday  \n",
       "1193480          0.583111      weekday  \n",
       "\n",
       "[5 rows x 26 columns]"
      ]
     },
     "execution_count": 76,
     "metadata": {},
     "output_type": "execute_result"
    }
   ],
   "source": [
    "carta.head()"
   ]
  },
  {
   "cell_type": "code",
   "execution_count": 64,
   "id": "eastern-squad",
   "metadata": {},
   "outputs": [
    {
     "data": {
      "text/plain": [
       "(9705963, 26)"
      ]
     },
     "execution_count": 64,
     "metadata": {},
     "output_type": "execute_result"
    }
   ],
   "source": [
    "carta.shape"
   ]
  },
  {
   "cell_type": "code",
   "execution_count": 65,
   "id": "36551d55-32f3-4b50-a91d-eb9934f39155",
   "metadata": {},
   "outputs": [
    {
     "data": {
      "text/plain": [
       "trip_id                            object\n",
       "scheduled_arrival_time     datetime64[ns]\n",
       "actual_arrival_time        datetime64[ns]\n",
       "stop_id                            object\n",
       "stop_sequence                       int64\n",
       "stop_lat                          float64\n",
       "stop_lon                          float64\n",
       "route_id                           object\n",
       "direction_id                       object\n",
       "board_count                         int64\n",
       "alight_count                        int64\n",
       "occupancy                           int64\n",
       "direction_desc                     object\n",
       "service_period                     object\n",
       "date                       datetime64[ns]\n",
       "scheduled_datetime                 object\n",
       "actual_arrival_datetime            object\n",
       "trip_start_time                    object\n",
       "day_of_week                         int64\n",
       "trip_date                          object\n",
       "hour                               object\n",
       "year                                int64\n",
       "month                               int64\n",
       "Estimated_Temp                    float64\n",
       "Estimated_Precip                  float64\n",
       "service_kind                       object\n",
       "dtype: object"
      ]
     },
     "execution_count": 65,
     "metadata": {},
     "output_type": "execute_result"
    }
   ],
   "source": [
    "carta.dtypes"
   ]
  },
  {
   "cell_type": "code",
   "execution_count": 13,
   "id": "187caa96-6b32-44da-b6fb-67aba370d648",
   "metadata": {},
   "outputs": [
    {
     "data": {
      "text/plain": [
       "'2019-01-02 04:21:00'"
      ]
     },
     "execution_count": 13,
     "metadata": {},
     "output_type": "execute_result"
    }
   ],
   "source": [
    "min(carta.scheduled_datetime)"
   ]
  },
  {
   "cell_type": "code",
   "execution_count": 14,
   "id": "917499be-58ae-4f48-87cc-af66893dd5f2",
   "metadata": {},
   "outputs": [
    {
     "data": {
      "text/plain": [
       "'2020-05-31 21:10:00'"
      ]
     },
     "execution_count": 14,
     "metadata": {},
     "output_type": "execute_result"
    }
   ],
   "source": [
    "max(carta.scheduled_datetime)"
   ]
  },
  {
   "cell_type": "markdown",
   "id": "d4fa6c60-4705-40fe-b267-d6fe433efa48",
   "metadata": {},
   "source": [
    "## Data partition according to lock-down and ridership decline\n",
    "\n",
    "Chattanooga's steep decline started the week of **March 5th** before hitting a low also on the week of April 19 with a low of 8,077 weekly riders.\n",
    "\n",
    " - Pre-lockdown data: Before 2020-03-05.\n",
    "     * `date < 2020-03-05`\n",
    " - Post-lockdown data: After 2020-03-05.\n",
    "     * `date >= 2020-03-05`"
   ]
  },
  {
   "cell_type": "code",
   "execution_count": 16,
   "id": "super-jason",
   "metadata": {},
   "outputs": [],
   "source": [
    "Pre_lock = carta[carta['date'] < '2020-03-05']\n",
    "Post_lock = carta[carta['date'] >= '2020-03-05']"
   ]
  },
  {
   "cell_type": "markdown",
   "id": "bc2b37e9-4217-44c8-abc8-aa9bbd45b02e",
   "metadata": {},
   "source": [
    "### Pre-lockdown data:"
   ]
  },
  {
   "cell_type": "code",
   "execution_count": 17,
   "id": "26b6e3a3-fa10-4739-8d15-7ede44ccf416",
   "metadata": {},
   "outputs": [
    {
     "data": {
      "text/html": [
       "<div>\n",
       "<style scoped>\n",
       "    .dataframe tbody tr th:only-of-type {\n",
       "        vertical-align: middle;\n",
       "    }\n",
       "\n",
       "    .dataframe tbody tr th {\n",
       "        vertical-align: top;\n",
       "    }\n",
       "\n",
       "    .dataframe thead th {\n",
       "        text-align: right;\n",
       "    }\n",
       "</style>\n",
       "<table border=\"1\" class=\"dataframe\">\n",
       "  <thead>\n",
       "    <tr style=\"text-align: right;\">\n",
       "      <th></th>\n",
       "      <th>trip_id</th>\n",
       "      <th>scheduled_arrival_time</th>\n",
       "      <th>actual_arrival_time</th>\n",
       "      <th>stop_id</th>\n",
       "      <th>stop_sequence</th>\n",
       "      <th>stop_lat</th>\n",
       "      <th>stop_lon</th>\n",
       "      <th>route_id</th>\n",
       "      <th>direction_id</th>\n",
       "      <th>board_count</th>\n",
       "      <th>...</th>\n",
       "      <th>actual_arrival_datetime</th>\n",
       "      <th>trip_start_time</th>\n",
       "      <th>day_of_week</th>\n",
       "      <th>trip_date</th>\n",
       "      <th>hour</th>\n",
       "      <th>year</th>\n",
       "      <th>month</th>\n",
       "      <th>Estimated_Temp</th>\n",
       "      <th>Estimated_Precip</th>\n",
       "      <th>service_kind</th>\n",
       "    </tr>\n",
       "  </thead>\n",
       "  <tbody>\n",
       "    <tr>\n",
       "      <th>0</th>\n",
       "      <td>132994</td>\n",
       "      <td>1900-01-01 04:55:00</td>\n",
       "      <td>1900-01-01 04:52:00</td>\n",
       "      <td>1351</td>\n",
       "      <td>1</td>\n",
       "      <td>35.052658</td>\n",
       "      <td>-85.309722</td>\n",
       "      <td>1</td>\n",
       "      <td>0</td>\n",
       "      <td>1</td>\n",
       "      <td>...</td>\n",
       "      <td>2019-01-02 04:52:00</td>\n",
       "      <td>1900-01-01 04:55:00</td>\n",
       "      <td>2</td>\n",
       "      <td>2019-01-02</td>\n",
       "      <td>4</td>\n",
       "      <td>2019</td>\n",
       "      <td>1</td>\n",
       "      <td>8.35</td>\n",
       "      <td>0.000000</td>\n",
       "      <td>weekday</td>\n",
       "    </tr>\n",
       "    <tr>\n",
       "      <th>1193477</th>\n",
       "      <td>134417</td>\n",
       "      <td>1900-01-01 20:35:04</td>\n",
       "      <td>1900-01-01 20:37:00</td>\n",
       "      <td>971</td>\n",
       "      <td>47</td>\n",
       "      <td>35.024347</td>\n",
       "      <td>-85.246812</td>\n",
       "      <td>4</td>\n",
       "      <td>1</td>\n",
       "      <td>0</td>\n",
       "      <td>...</td>\n",
       "      <td>2019-01-02 20:37:00</td>\n",
       "      <td>1900-01-01 20:02:53</td>\n",
       "      <td>2</td>\n",
       "      <td>2019-01-02</td>\n",
       "      <td>20</td>\n",
       "      <td>2019</td>\n",
       "      <td>1</td>\n",
       "      <td>10.00</td>\n",
       "      <td>0.590889</td>\n",
       "      <td>weekday</td>\n",
       "    </tr>\n",
       "    <tr>\n",
       "      <th>1193478</th>\n",
       "      <td>134417</td>\n",
       "      <td>1900-01-01 20:35:30</td>\n",
       "      <td>1900-01-01 20:38:00</td>\n",
       "      <td>972</td>\n",
       "      <td>48</td>\n",
       "      <td>35.025717</td>\n",
       "      <td>-85.248528</td>\n",
       "      <td>4</td>\n",
       "      <td>1</td>\n",
       "      <td>0</td>\n",
       "      <td>...</td>\n",
       "      <td>2019-01-02 20:38:00</td>\n",
       "      <td>1900-01-01 20:02:53</td>\n",
       "      <td>2</td>\n",
       "      <td>2019-01-02</td>\n",
       "      <td>20</td>\n",
       "      <td>2019</td>\n",
       "      <td>1</td>\n",
       "      <td>10.00</td>\n",
       "      <td>0.585833</td>\n",
       "      <td>weekday</td>\n",
       "    </tr>\n",
       "    <tr>\n",
       "      <th>1193479</th>\n",
       "      <td>134409</td>\n",
       "      <td>1900-01-01 20:35:32</td>\n",
       "      <td>1900-01-01 20:38:00</td>\n",
       "      <td>12</td>\n",
       "      <td>87</td>\n",
       "      <td>35.050703</td>\n",
       "      <td>-85.309532</td>\n",
       "      <td>4</td>\n",
       "      <td>1</td>\n",
       "      <td>0</td>\n",
       "      <td>...</td>\n",
       "      <td>2019-01-02 20:38:00</td>\n",
       "      <td>1900-01-01 19:40:00</td>\n",
       "      <td>2</td>\n",
       "      <td>2019-01-02</td>\n",
       "      <td>20</td>\n",
       "      <td>2019</td>\n",
       "      <td>1</td>\n",
       "      <td>10.00</td>\n",
       "      <td>0.585444</td>\n",
       "      <td>weekday</td>\n",
       "    </tr>\n",
       "    <tr>\n",
       "      <th>1193480</th>\n",
       "      <td>134329</td>\n",
       "      <td>1900-01-01 20:35:44</td>\n",
       "      <td>1900-01-01 20:43:00</td>\n",
       "      <td>806</td>\n",
       "      <td>10</td>\n",
       "      <td>35.042653</td>\n",
       "      <td>-85.306685</td>\n",
       "      <td>4</td>\n",
       "      <td>0</td>\n",
       "      <td>0</td>\n",
       "      <td>...</td>\n",
       "      <td>2019-01-02 20:43:00</td>\n",
       "      <td>1900-01-01 20:30:00</td>\n",
       "      <td>2</td>\n",
       "      <td>2019-01-02</td>\n",
       "      <td>20</td>\n",
       "      <td>2019</td>\n",
       "      <td>1</td>\n",
       "      <td>10.00</td>\n",
       "      <td>0.583111</td>\n",
       "      <td>weekday</td>\n",
       "    </tr>\n",
       "  </tbody>\n",
       "</table>\n",
       "<p>5 rows × 26 columns</p>\n",
       "</div>"
      ],
      "text/plain": [
       "        trip_id scheduled_arrival_time actual_arrival_time stop_id  \\\n",
       "0        132994    1900-01-01 04:55:00 1900-01-01 04:52:00    1351   \n",
       "1193477  134417    1900-01-01 20:35:04 1900-01-01 20:37:00     971   \n",
       "1193478  134417    1900-01-01 20:35:30 1900-01-01 20:38:00     972   \n",
       "1193479  134409    1900-01-01 20:35:32 1900-01-01 20:38:00      12   \n",
       "1193480  134329    1900-01-01 20:35:44 1900-01-01 20:43:00     806   \n",
       "\n",
       "         stop_sequence   stop_lat   stop_lon route_id direction_id  \\\n",
       "0                    1  35.052658 -85.309722        1            0   \n",
       "1193477             47  35.024347 -85.246812        4            1   \n",
       "1193478             48  35.025717 -85.248528        4            1   \n",
       "1193479             87  35.050703 -85.309532        4            1   \n",
       "1193480             10  35.042653 -85.306685        4            0   \n",
       "\n",
       "         board_count  ...  actual_arrival_datetime      trip_start_time  \\\n",
       "0                  1  ...      2019-01-02 04:52:00  1900-01-01 04:55:00   \n",
       "1193477            0  ...      2019-01-02 20:37:00  1900-01-01 20:02:53   \n",
       "1193478            0  ...      2019-01-02 20:38:00  1900-01-01 20:02:53   \n",
       "1193479            0  ...      2019-01-02 20:38:00  1900-01-01 19:40:00   \n",
       "1193480            0  ...      2019-01-02 20:43:00  1900-01-01 20:30:00   \n",
       "\n",
       "        day_of_week   trip_date hour  year month Estimated_Temp  \\\n",
       "0                 2  2019-01-02    4  2019     1           8.35   \n",
       "1193477           2  2019-01-02   20  2019     1          10.00   \n",
       "1193478           2  2019-01-02   20  2019     1          10.00   \n",
       "1193479           2  2019-01-02   20  2019     1          10.00   \n",
       "1193480           2  2019-01-02   20  2019     1          10.00   \n",
       "\n",
       "         Estimated_Precip service_kind  \n",
       "0                0.000000      weekday  \n",
       "1193477          0.590889      weekday  \n",
       "1193478          0.585833      weekday  \n",
       "1193479          0.585444      weekday  \n",
       "1193480          0.583111      weekday  \n",
       "\n",
       "[5 rows x 26 columns]"
      ]
     },
     "execution_count": 17,
     "metadata": {},
     "output_type": "execute_result"
    }
   ],
   "source": [
    "Pre_lock.head()"
   ]
  },
  {
   "cell_type": "code",
   "execution_count": 18,
   "id": "b136fc0b-2564-42a4-9b6b-effa7015159b",
   "metadata": {},
   "outputs": [
    {
     "data": {
      "text/plain": [
       "(8602818, 26)"
      ]
     },
     "execution_count": 18,
     "metadata": {},
     "output_type": "execute_result"
    }
   ],
   "source": [
    "Pre_lock.shape"
   ]
  },
  {
   "cell_type": "markdown",
   "id": "3b46cdb2-9e92-4a0c-9af9-c892efd2d48d",
   "metadata": {},
   "source": [
    "### Post-lockdown data:"
   ]
  },
  {
   "cell_type": "code",
   "execution_count": 23,
   "id": "b4202285-d7a8-4fb2-9f42-97e4cf109a1a",
   "metadata": {},
   "outputs": [
    {
     "data": {
      "text/html": [
       "<div>\n",
       "<style scoped>\n",
       "    .dataframe tbody tr th:only-of-type {\n",
       "        vertical-align: middle;\n",
       "    }\n",
       "\n",
       "    .dataframe tbody tr th {\n",
       "        vertical-align: top;\n",
       "    }\n",
       "\n",
       "    .dataframe thead th {\n",
       "        text-align: right;\n",
       "    }\n",
       "</style>\n",
       "<table border=\"1\" class=\"dataframe\">\n",
       "  <thead>\n",
       "    <tr style=\"text-align: right;\">\n",
       "      <th></th>\n",
       "      <th>trip_id</th>\n",
       "      <th>scheduled_arrival_time</th>\n",
       "      <th>actual_arrival_time</th>\n",
       "      <th>stop_id</th>\n",
       "      <th>stop_sequence</th>\n",
       "      <th>stop_lat</th>\n",
       "      <th>stop_lon</th>\n",
       "      <th>route_id</th>\n",
       "      <th>direction_id</th>\n",
       "      <th>board_count</th>\n",
       "      <th>...</th>\n",
       "      <th>actual_arrival_datetime</th>\n",
       "      <th>trip_start_time</th>\n",
       "      <th>day_of_week</th>\n",
       "      <th>trip_date</th>\n",
       "      <th>hour</th>\n",
       "      <th>year</th>\n",
       "      <th>month</th>\n",
       "      <th>Estimated_Temp</th>\n",
       "      <th>Estimated_Precip</th>\n",
       "      <th>service_kind</th>\n",
       "    </tr>\n",
       "  </thead>\n",
       "  <tbody>\n",
       "    <tr>\n",
       "      <th>878279</th>\n",
       "      <td>138360</td>\n",
       "      <td>1900-01-01 12:46:57</td>\n",
       "      <td>1900-01-01 12:47:00</td>\n",
       "      <td>22</td>\n",
       "      <td>14</td>\n",
       "      <td>35.034650</td>\n",
       "      <td>-85.308260</td>\n",
       "      <td>1</td>\n",
       "      <td>0</td>\n",
       "      <td>0</td>\n",
       "      <td>...</td>\n",
       "      <td>2020-03-05 12:47:00</td>\n",
       "      <td>1900-01-01 12:40:00</td>\n",
       "      <td>3</td>\n",
       "      <td>2020-03-05</td>\n",
       "      <td>12</td>\n",
       "      <td>2020</td>\n",
       "      <td>3</td>\n",
       "      <td>12.800000</td>\n",
       "      <td>0.0</td>\n",
       "      <td>weekday</td>\n",
       "    </tr>\n",
       "    <tr>\n",
       "      <th>7369067</th>\n",
       "      <td>138665</td>\n",
       "      <td>1900-01-01 06:17:47</td>\n",
       "      <td>1900-01-01 06:16:00</td>\n",
       "      <td>386</td>\n",
       "      <td>30</td>\n",
       "      <td>35.029870</td>\n",
       "      <td>-85.268952</td>\n",
       "      <td>10G</td>\n",
       "      <td>1</td>\n",
       "      <td>0</td>\n",
       "      <td>...</td>\n",
       "      <td>2020-03-05 06:16:00</td>\n",
       "      <td>1900-01-01 06:14:14</td>\n",
       "      <td>3</td>\n",
       "      <td>2020-03-05</td>\n",
       "      <td>6</td>\n",
       "      <td>2020</td>\n",
       "      <td>3</td>\n",
       "      <td>9.822167</td>\n",
       "      <td>0.0</td>\n",
       "      <td>weekday</td>\n",
       "    </tr>\n",
       "    <tr>\n",
       "      <th>877188</th>\n",
       "      <td>138383</td>\n",
       "      <td>1900-01-01 05:49:42</td>\n",
       "      <td>1900-01-01 05:48:00</td>\n",
       "      <td>81</td>\n",
       "      <td>13</td>\n",
       "      <td>34.990302</td>\n",
       "      <td>-85.304890</td>\n",
       "      <td>1</td>\n",
       "      <td>1</td>\n",
       "      <td>0</td>\n",
       "      <td>...</td>\n",
       "      <td>2020-03-05 05:48:00</td>\n",
       "      <td>1900-01-01 05:45:00</td>\n",
       "      <td>3</td>\n",
       "      <td>2020-03-05</td>\n",
       "      <td>5</td>\n",
       "      <td>2020</td>\n",
       "      <td>3</td>\n",
       "      <td>10.000000</td>\n",
       "      <td>0.0</td>\n",
       "      <td>weekday</td>\n",
       "    </tr>\n",
       "    <tr>\n",
       "      <th>877187</th>\n",
       "      <td>138383</td>\n",
       "      <td>1900-01-01 05:49:32</td>\n",
       "      <td>1900-01-01 05:48:00</td>\n",
       "      <td>146</td>\n",
       "      <td>12</td>\n",
       "      <td>34.989585</td>\n",
       "      <td>-85.304620</td>\n",
       "      <td>1</td>\n",
       "      <td>1</td>\n",
       "      <td>0</td>\n",
       "      <td>...</td>\n",
       "      <td>2020-03-05 05:48:00</td>\n",
       "      <td>1900-01-01 05:45:00</td>\n",
       "      <td>3</td>\n",
       "      <td>2020-03-05</td>\n",
       "      <td>5</td>\n",
       "      <td>2020</td>\n",
       "      <td>3</td>\n",
       "      <td>10.000000</td>\n",
       "      <td>0.0</td>\n",
       "      <td>weekday</td>\n",
       "    </tr>\n",
       "    <tr>\n",
       "      <th>877186</th>\n",
       "      <td>138383</td>\n",
       "      <td>1900-01-01 05:49:19</td>\n",
       "      <td>1900-01-01 05:48:00</td>\n",
       "      <td>155</td>\n",
       "      <td>11</td>\n",
       "      <td>34.989323</td>\n",
       "      <td>-85.305493</td>\n",
       "      <td>1</td>\n",
       "      <td>1</td>\n",
       "      <td>0</td>\n",
       "      <td>...</td>\n",
       "      <td>2020-03-05 05:48:00</td>\n",
       "      <td>1900-01-01 05:45:00</td>\n",
       "      <td>3</td>\n",
       "      <td>2020-03-05</td>\n",
       "      <td>5</td>\n",
       "      <td>2020</td>\n",
       "      <td>3</td>\n",
       "      <td>10.000000</td>\n",
       "      <td>0.0</td>\n",
       "      <td>weekday</td>\n",
       "    </tr>\n",
       "  </tbody>\n",
       "</table>\n",
       "<p>5 rows × 26 columns</p>\n",
       "</div>"
      ],
      "text/plain": [
       "        trip_id scheduled_arrival_time actual_arrival_time stop_id  \\\n",
       "878279   138360    1900-01-01 12:46:57 1900-01-01 12:47:00      22   \n",
       "7369067  138665    1900-01-01 06:17:47 1900-01-01 06:16:00     386   \n",
       "877188   138383    1900-01-01 05:49:42 1900-01-01 05:48:00      81   \n",
       "877187   138383    1900-01-01 05:49:32 1900-01-01 05:48:00     146   \n",
       "877186   138383    1900-01-01 05:49:19 1900-01-01 05:48:00     155   \n",
       "\n",
       "         stop_sequence   stop_lat   stop_lon route_id direction_id  \\\n",
       "878279              14  35.034650 -85.308260        1            0   \n",
       "7369067             30  35.029870 -85.268952      10G            1   \n",
       "877188              13  34.990302 -85.304890        1            1   \n",
       "877187              12  34.989585 -85.304620        1            1   \n",
       "877186              11  34.989323 -85.305493        1            1   \n",
       "\n",
       "         board_count  ...  actual_arrival_datetime      trip_start_time  \\\n",
       "878279             0  ...      2020-03-05 12:47:00  1900-01-01 12:40:00   \n",
       "7369067            0  ...      2020-03-05 06:16:00  1900-01-01 06:14:14   \n",
       "877188             0  ...      2020-03-05 05:48:00  1900-01-01 05:45:00   \n",
       "877187             0  ...      2020-03-05 05:48:00  1900-01-01 05:45:00   \n",
       "877186             0  ...      2020-03-05 05:48:00  1900-01-01 05:45:00   \n",
       "\n",
       "        day_of_week   trip_date hour  year month Estimated_Temp  \\\n",
       "878279            3  2020-03-05   12  2020     3      12.800000   \n",
       "7369067           3  2020-03-05    6  2020     3       9.822167   \n",
       "877188            3  2020-03-05    5  2020     3      10.000000   \n",
       "877187            3  2020-03-05    5  2020     3      10.000000   \n",
       "877186            3  2020-03-05    5  2020     3      10.000000   \n",
       "\n",
       "         Estimated_Precip service_kind  \n",
       "878279                0.0      weekday  \n",
       "7369067               0.0      weekday  \n",
       "877188                0.0      weekday  \n",
       "877187                0.0      weekday  \n",
       "877186                0.0      weekday  \n",
       "\n",
       "[5 rows x 26 columns]"
      ]
     },
     "execution_count": 23,
     "metadata": {},
     "output_type": "execute_result"
    }
   ],
   "source": [
    "Post_lock.head()"
   ]
  },
  {
   "cell_type": "markdown",
   "id": "paperback-evans",
   "metadata": {},
   "source": [
    "## Subordinate Functions\n",
    "\n",
    "The following functions are to used to transform the data. We transformed the data because the considered predictors have different ranges of magnitude, and that can be troublesome for model interpretation, particularly for the generalized linear models. We decided to normalize the data so the variables would be in the $[0, \\:1]$ interval which can be useful to avoid negative outcomes."
   ]
  },
  {
   "cell_type": "code",
   "execution_count": 80,
   "id": "alpha-psychology",
   "metadata": {},
   "outputs": [],
   "source": [
    "def normalizer(x):\n",
    "    \n",
    "    x_min = min(x)\n",
    "    x_max = max(x)\n",
    "    x_norm = (x - x_min)/(x_max - x_min)\n",
    "    \n",
    "    return(x_norm)"
   ]
  },
  {
   "cell_type": "code",
   "execution_count": 81,
   "id": "alpine-interface",
   "metadata": {},
   "outputs": [],
   "source": [
    "def standardizer(x):\n",
    "    x_std = x.std()\n",
    "    x_mean = x.mean()\n",
    "    x_standard = (x - x_mean)/x_std\n",
    "    \n",
    "    return(x_standard)"
   ]
  },
  {
   "cell_type": "markdown",
   "id": "dangerous-warning",
   "metadata": {},
   "source": [
    "## Surrounding Board or Alight Counts\n",
    "\n",
    "In this section we create a function called `radial_influence()` that takes three inputs: \n",
    "\n",
    "* `st`: bus stop.\n",
    "* `radius`: length of the radius. It has a default value of 0.5 miles.\n",
    "* `DT`: Data frame with the list of `stop_id`s and their coordinates.\n",
    "\n",
    "and identifies all the bus stops (`stop_id`s) that are within 0.5 mile radius with respect to the bus stop of reference. The bus stops that are within the desired range will be labeled as `inside`, and we use the label `outside` for the opposite case."
   ]
  },
  {
   "cell_type": "code",
   "execution_count": 77,
   "id": "subtle-whole",
   "metadata": {},
   "outputs": [],
   "source": [
    "from shapely.geometry import Point, MultiPoint\n",
    "from shapely.ops import nearest_points\n",
    "import geopandas as gpd\n",
    "import folium\n",
    "from geopy import Point\n",
    "from geopy import distance"
   ]
  },
  {
   "cell_type": "markdown",
   "id": "c7ee7f39-249b-4bb4-8f6d-b069a4c41a2a",
   "metadata": {},
   "source": [
    "The `Bus_Stop` data frame contains the spatial coordinates of all the bus stops in the `carta` data set."
   ]
  },
  {
   "cell_type": "code",
   "execution_count": 6,
   "id": "attended-account",
   "metadata": {},
   "outputs": [
    {
     "data": {
      "text/html": [
       "<div>\n",
       "<style scoped>\n",
       "    .dataframe tbody tr th:only-of-type {\n",
       "        vertical-align: middle;\n",
       "    }\n",
       "\n",
       "    .dataframe tbody tr th {\n",
       "        vertical-align: top;\n",
       "    }\n",
       "\n",
       "    .dataframe thead th {\n",
       "        text-align: right;\n",
       "    }\n",
       "</style>\n",
       "<table border=\"1\" class=\"dataframe\">\n",
       "  <thead>\n",
       "    <tr style=\"text-align: right;\">\n",
       "      <th></th>\n",
       "      <th>stop_id</th>\n",
       "      <th>stop_lon</th>\n",
       "      <th>stop_lat</th>\n",
       "    </tr>\n",
       "  </thead>\n",
       "  <tbody>\n",
       "    <tr>\n",
       "      <th>0</th>\n",
       "      <td>971</td>\n",
       "      <td>-85.246812</td>\n",
       "      <td>35.024347</td>\n",
       "    </tr>\n",
       "    <tr>\n",
       "      <th>1</th>\n",
       "      <td>146</td>\n",
       "      <td>-85.304620</td>\n",
       "      <td>34.989585</td>\n",
       "    </tr>\n",
       "    <tr>\n",
       "      <th>2</th>\n",
       "      <td>1545</td>\n",
       "      <td>-85.250863</td>\n",
       "      <td>35.026032</td>\n",
       "    </tr>\n",
       "    <tr>\n",
       "      <th>3</th>\n",
       "      <td>972</td>\n",
       "      <td>-85.248528</td>\n",
       "      <td>35.025717</td>\n",
       "    </tr>\n",
       "    <tr>\n",
       "      <th>4</th>\n",
       "      <td>81</td>\n",
       "      <td>-85.304890</td>\n",
       "      <td>34.990302</td>\n",
       "    </tr>\n",
       "  </tbody>\n",
       "</table>\n",
       "</div>"
      ],
      "text/plain": [
       "  stop_id   stop_lon   stop_lat\n",
       "0     971 -85.246812  35.024347\n",
       "1     146 -85.304620  34.989585\n",
       "2    1545 -85.250863  35.026032\n",
       "3     972 -85.248528  35.025717\n",
       "4      81 -85.304890  34.990302"
      ]
     },
     "execution_count": 6,
     "metadata": {},
     "output_type": "execute_result"
    }
   ],
   "source": [
    "Bus_Stops = pd.read_csv('data/jmartinez/Transit_Data/Bus_Stops.csv')\n",
    "Bus_Stops.stop_id = Bus_Stops['stop_id'].astype(str)\n",
    "Bus_Stops.head()"
   ]
  },
  {
   "cell_type": "markdown",
   "id": "f7e850ad-fe36-4014-a935-28d4736d0792",
   "metadata": {},
   "source": [
    "We can plot some of the bus stops as follows:"
   ]
  },
  {
   "cell_type": "code",
   "execution_count": 78,
   "id": "229da6dc-f265-4970-a266-a47797a13b24",
   "metadata": {},
   "outputs": [
    {
     "data": {
      "text/html": [
       "<div style=\"width:100%;\"><div style=\"position:relative;width:100%;height:0;padding-bottom:60%;\"><span style=\"color:#565656\">Make this Notebook Trusted to load map: File -> Trust Notebook</span><iframe src=\"about:blank\" style=\"position:absolute;width:100%;height:100%;left:0;top:0;border:none !important;\" data-html=%3C%21DOCTYPE%20html%3E%0A%3Chead%3E%20%20%20%20%0A%20%20%20%20%3Cmeta%20http-equiv%3D%22content-type%22%20content%3D%22text/html%3B%20charset%3DUTF-8%22%20/%3E%0A%20%20%20%20%0A%20%20%20%20%20%20%20%20%3Cscript%3E%0A%20%20%20%20%20%20%20%20%20%20%20%20L_NO_TOUCH%20%3D%20false%3B%0A%20%20%20%20%20%20%20%20%20%20%20%20L_DISABLE_3D%20%3D%20false%3B%0A%20%20%20%20%20%20%20%20%3C/script%3E%0A%20%20%20%20%0A%20%20%20%20%3Cstyle%3Ehtml%2C%20body%20%7Bwidth%3A%20100%25%3Bheight%3A%20100%25%3Bmargin%3A%200%3Bpadding%3A%200%3B%7D%3C/style%3E%0A%20%20%20%20%3Cstyle%3E%23map%20%7Bposition%3Aabsolute%3Btop%3A0%3Bbottom%3A0%3Bright%3A0%3Bleft%3A0%3B%7D%3C/style%3E%0A%20%20%20%20%3Cscript%20src%3D%22https%3A//cdn.jsdelivr.net/npm/leaflet%401.6.0/dist/leaflet.js%22%3E%3C/script%3E%0A%20%20%20%20%3Cscript%20src%3D%22https%3A//code.jquery.com/jquery-1.12.4.min.js%22%3E%3C/script%3E%0A%20%20%20%20%3Cscript%20src%3D%22https%3A//maxcdn.bootstrapcdn.com/bootstrap/3.2.0/js/bootstrap.min.js%22%3E%3C/script%3E%0A%20%20%20%20%3Cscript%20src%3D%22https%3A//cdnjs.cloudflare.com/ajax/libs/Leaflet.awesome-markers/2.0.2/leaflet.awesome-markers.js%22%3E%3C/script%3E%0A%20%20%20%20%3Clink%20rel%3D%22stylesheet%22%20href%3D%22https%3A//cdn.jsdelivr.net/npm/leaflet%401.6.0/dist/leaflet.css%22/%3E%0A%20%20%20%20%3Clink%20rel%3D%22stylesheet%22%20href%3D%22https%3A//maxcdn.bootstrapcdn.com/bootstrap/3.2.0/css/bootstrap.min.css%22/%3E%0A%20%20%20%20%3Clink%20rel%3D%22stylesheet%22%20href%3D%22https%3A//maxcdn.bootstrapcdn.com/bootstrap/3.2.0/css/bootstrap-theme.min.css%22/%3E%0A%20%20%20%20%3Clink%20rel%3D%22stylesheet%22%20href%3D%22https%3A//maxcdn.bootstrapcdn.com/font-awesome/4.6.3/css/font-awesome.min.css%22/%3E%0A%20%20%20%20%3Clink%20rel%3D%22stylesheet%22%20href%3D%22https%3A//cdnjs.cloudflare.com/ajax/libs/Leaflet.awesome-markers/2.0.2/leaflet.awesome-markers.css%22/%3E%0A%20%20%20%20%3Clink%20rel%3D%22stylesheet%22%20href%3D%22https%3A//cdn.jsdelivr.net/gh/python-visualization/folium/folium/templates/leaflet.awesome.rotate.min.css%22/%3E%0A%20%20%20%20%0A%20%20%20%20%20%20%20%20%20%20%20%20%3Cmeta%20name%3D%22viewport%22%20content%3D%22width%3Ddevice-width%2C%0A%20%20%20%20%20%20%20%20%20%20%20%20%20%20%20%20initial-scale%3D1.0%2C%20maximum-scale%3D1.0%2C%20user-scalable%3Dno%22%20/%3E%0A%20%20%20%20%20%20%20%20%20%20%20%20%3Cstyle%3E%0A%20%20%20%20%20%20%20%20%20%20%20%20%20%20%20%20%23map_c237d24abb974dfab4d7996a515209db%20%7B%0A%20%20%20%20%20%20%20%20%20%20%20%20%20%20%20%20%20%20%20%20position%3A%20relative%3B%0A%20%20%20%20%20%20%20%20%20%20%20%20%20%20%20%20%20%20%20%20width%3A%20100.0%25%3B%0A%20%20%20%20%20%20%20%20%20%20%20%20%20%20%20%20%20%20%20%20height%3A%20100.0%25%3B%0A%20%20%20%20%20%20%20%20%20%20%20%20%20%20%20%20%20%20%20%20left%3A%200.0%25%3B%0A%20%20%20%20%20%20%20%20%20%20%20%20%20%20%20%20%20%20%20%20top%3A%200.0%25%3B%0A%20%20%20%20%20%20%20%20%20%20%20%20%20%20%20%20%7D%0A%20%20%20%20%20%20%20%20%20%20%20%20%3C/style%3E%0A%20%20%20%20%20%20%20%20%0A%3C/head%3E%0A%3Cbody%3E%20%20%20%20%0A%20%20%20%20%0A%20%20%20%20%20%20%20%20%20%20%20%20%3Cdiv%20class%3D%22folium-map%22%20id%3D%22map_c237d24abb974dfab4d7996a515209db%22%20%3E%3C/div%3E%0A%20%20%20%20%20%20%20%20%0A%3C/body%3E%0A%3Cscript%3E%20%20%20%20%0A%20%20%20%20%0A%20%20%20%20%20%20%20%20%20%20%20%20var%20map_c237d24abb974dfab4d7996a515209db%20%3D%20L.map%28%0A%20%20%20%20%20%20%20%20%20%20%20%20%20%20%20%20%22map_c237d24abb974dfab4d7996a515209db%22%2C%0A%20%20%20%20%20%20%20%20%20%20%20%20%20%20%20%20%7B%0A%20%20%20%20%20%20%20%20%20%20%20%20%20%20%20%20%20%20%20%20center%3A%20%5B35.0414593344444%2C%20-85.26561320583325%5D%2C%0A%20%20%20%20%20%20%20%20%20%20%20%20%20%20%20%20%20%20%20%20crs%3A%20L.CRS.EPSG3857%2C%0A%20%20%20%20%20%20%20%20%20%20%20%20%20%20%20%20%20%20%20%20zoom%3A%2011%2C%0A%20%20%20%20%20%20%20%20%20%20%20%20%20%20%20%20%20%20%20%20zoomControl%3A%20true%2C%0A%20%20%20%20%20%20%20%20%20%20%20%20%20%20%20%20%20%20%20%20preferCanvas%3A%20false%2C%0A%20%20%20%20%20%20%20%20%20%20%20%20%20%20%20%20%7D%0A%20%20%20%20%20%20%20%20%20%20%20%20%29%3B%0A%0A%20%20%20%20%20%20%20%20%20%20%20%20%0A%0A%20%20%20%20%20%20%20%20%0A%20%20%20%20%0A%20%20%20%20%20%20%20%20%20%20%20%20var%20tile_layer_c294437aee064f379140a4c6e478413f%20%3D%20L.tileLayer%28%0A%20%20%20%20%20%20%20%20%20%20%20%20%20%20%20%20%22https%3A//%7Bs%7D.tile.openstreetmap.org/%7Bz%7D/%7Bx%7D/%7By%7D.png%22%2C%0A%20%20%20%20%20%20%20%20%20%20%20%20%20%20%20%20%7B%22attribution%22%3A%20%22Data%20by%20%5Cu0026copy%3B%20%5Cu003ca%20href%3D%5C%22http%3A//openstreetmap.org%5C%22%5Cu003eOpenStreetMap%5Cu003c/a%5Cu003e%2C%20under%20%5Cu003ca%20href%3D%5C%22http%3A//www.openstreetmap.org/copyright%5C%22%5Cu003eODbL%5Cu003c/a%5Cu003e.%22%2C%20%22detectRetina%22%3A%20false%2C%20%22maxNativeZoom%22%3A%2018%2C%20%22maxZoom%22%3A%2018%2C%20%22minZoom%22%3A%200%2C%20%22noWrap%22%3A%20false%2C%20%22opacity%22%3A%201%2C%20%22subdomains%22%3A%20%22abc%22%2C%20%22tms%22%3A%20false%7D%0A%20%20%20%20%20%20%20%20%20%20%20%20%29.addTo%28map_c237d24abb974dfab4d7996a515209db%29%3B%0A%20%20%20%20%20%20%20%20%0A%20%20%20%20%0A%20%20%20%20%20%20%20%20%20%20%20%20var%20marker_c5a8f9e321f2468296294af39703bc71%20%3D%20L.marker%28%0A%20%20%20%20%20%20%20%20%20%20%20%20%20%20%20%20%5B35.024347%2C%20-85.246812%5D%2C%0A%20%20%20%20%20%20%20%20%20%20%20%20%20%20%20%20%7B%7D%0A%20%20%20%20%20%20%20%20%20%20%20%20%29.addTo%28map_c237d24abb974dfab4d7996a515209db%29%3B%0A%20%20%20%20%20%20%20%20%0A%20%20%20%20%0A%20%20%20%20%20%20%20%20var%20popup_e0bb9d08ed46429eb1b1c3909bff77a1%20%3D%20L.popup%28%7B%22maxWidth%22%3A%20%22100%25%22%7D%29%3B%0A%0A%20%20%20%20%20%20%20%20%0A%20%20%20%20%20%20%20%20%20%20%20%20var%20html_9718b2bda0d9440cb701cf52954fa57b%20%3D%20%24%28%60%3Cdiv%20id%3D%22html_9718b2bda0d9440cb701cf52954fa57b%22%20style%3D%22width%3A%20100.0%25%3B%20height%3A%20100.0%25%3B%22%3E971%3C/div%3E%60%29%5B0%5D%3B%0A%20%20%20%20%20%20%20%20%20%20%20%20popup_e0bb9d08ed46429eb1b1c3909bff77a1.setContent%28html_9718b2bda0d9440cb701cf52954fa57b%29%3B%0A%20%20%20%20%20%20%20%20%0A%0A%20%20%20%20%20%20%20%20marker_c5a8f9e321f2468296294af39703bc71.bindPopup%28popup_e0bb9d08ed46429eb1b1c3909bff77a1%29%0A%20%20%20%20%20%20%20%20%3B%0A%0A%20%20%20%20%20%20%20%20%0A%20%20%20%20%0A%20%20%20%20%0A%20%20%20%20%20%20%20%20%20%20%20%20var%20marker_129be6c0e14b4b13a4f870f43d002a9e%20%3D%20L.marker%28%0A%20%20%20%20%20%20%20%20%20%20%20%20%20%20%20%20%5B34.989585%2C%20-85.30462%5D%2C%0A%20%20%20%20%20%20%20%20%20%20%20%20%20%20%20%20%7B%7D%0A%20%20%20%20%20%20%20%20%20%20%20%20%29.addTo%28map_c237d24abb974dfab4d7996a515209db%29%3B%0A%20%20%20%20%20%20%20%20%0A%20%20%20%20%0A%20%20%20%20%20%20%20%20var%20popup_44fd20b6f5a94780a0605b4c24e52aa6%20%3D%20L.popup%28%7B%22maxWidth%22%3A%20%22100%25%22%7D%29%3B%0A%0A%20%20%20%20%20%20%20%20%0A%20%20%20%20%20%20%20%20%20%20%20%20var%20html_259a8fa3eac846a1bd29a1a946acef5d%20%3D%20%24%28%60%3Cdiv%20id%3D%22html_259a8fa3eac846a1bd29a1a946acef5d%22%20style%3D%22width%3A%20100.0%25%3B%20height%3A%20100.0%25%3B%22%3E146%3C/div%3E%60%29%5B0%5D%3B%0A%20%20%20%20%20%20%20%20%20%20%20%20popup_44fd20b6f5a94780a0605b4c24e52aa6.setContent%28html_259a8fa3eac846a1bd29a1a946acef5d%29%3B%0A%20%20%20%20%20%20%20%20%0A%0A%20%20%20%20%20%20%20%20marker_129be6c0e14b4b13a4f870f43d002a9e.bindPopup%28popup_44fd20b6f5a94780a0605b4c24e52aa6%29%0A%20%20%20%20%20%20%20%20%3B%0A%0A%20%20%20%20%20%20%20%20%0A%20%20%20%20%0A%20%20%20%20%0A%20%20%20%20%20%20%20%20%20%20%20%20var%20marker_b66b40ba4ec545309d41ecbc6bd5329f%20%3D%20L.marker%28%0A%20%20%20%20%20%20%20%20%20%20%20%20%20%20%20%20%5B35.026032%2C%20-85.250863%5D%2C%0A%20%20%20%20%20%20%20%20%20%20%20%20%20%20%20%20%7B%7D%0A%20%20%20%20%20%20%20%20%20%20%20%20%29.addTo%28map_c237d24abb974dfab4d7996a515209db%29%3B%0A%20%20%20%20%20%20%20%20%0A%20%20%20%20%0A%20%20%20%20%20%20%20%20var%20popup_33ae65f0b77446a9bd462f0944e551e9%20%3D%20L.popup%28%7B%22maxWidth%22%3A%20%22100%25%22%7D%29%3B%0A%0A%20%20%20%20%20%20%20%20%0A%20%20%20%20%20%20%20%20%20%20%20%20var%20html_3b83e546a8c64062b5dcac606e8194e8%20%3D%20%24%28%60%3Cdiv%20id%3D%22html_3b83e546a8c64062b5dcac606e8194e8%22%20style%3D%22width%3A%20100.0%25%3B%20height%3A%20100.0%25%3B%22%3E1545%3C/div%3E%60%29%5B0%5D%3B%0A%20%20%20%20%20%20%20%20%20%20%20%20popup_33ae65f0b77446a9bd462f0944e551e9.setContent%28html_3b83e546a8c64062b5dcac606e8194e8%29%3B%0A%20%20%20%20%20%20%20%20%0A%0A%20%20%20%20%20%20%20%20marker_b66b40ba4ec545309d41ecbc6bd5329f.bindPopup%28popup_33ae65f0b77446a9bd462f0944e551e9%29%0A%20%20%20%20%20%20%20%20%3B%0A%0A%20%20%20%20%20%20%20%20%0A%20%20%20%20%0A%20%20%20%20%0A%20%20%20%20%20%20%20%20%20%20%20%20var%20marker_a16ae6d5155e4b4786963f556d8371d1%20%3D%20L.marker%28%0A%20%20%20%20%20%20%20%20%20%20%20%20%20%20%20%20%5B35.025717%2C%20-85.248528%5D%2C%0A%20%20%20%20%20%20%20%20%20%20%20%20%20%20%20%20%7B%7D%0A%20%20%20%20%20%20%20%20%20%20%20%20%29.addTo%28map_c237d24abb974dfab4d7996a515209db%29%3B%0A%20%20%20%20%20%20%20%20%0A%20%20%20%20%0A%20%20%20%20%20%20%20%20var%20popup_146efaf3c355484b95e105324b1a924f%20%3D%20L.popup%28%7B%22maxWidth%22%3A%20%22100%25%22%7D%29%3B%0A%0A%20%20%20%20%20%20%20%20%0A%20%20%20%20%20%20%20%20%20%20%20%20var%20html_27265779c1ca4774b0d67538fd0d6759%20%3D%20%24%28%60%3Cdiv%20id%3D%22html_27265779c1ca4774b0d67538fd0d6759%22%20style%3D%22width%3A%20100.0%25%3B%20height%3A%20100.0%25%3B%22%3E972%3C/div%3E%60%29%5B0%5D%3B%0A%20%20%20%20%20%20%20%20%20%20%20%20popup_146efaf3c355484b95e105324b1a924f.setContent%28html_27265779c1ca4774b0d67538fd0d6759%29%3B%0A%20%20%20%20%20%20%20%20%0A%0A%20%20%20%20%20%20%20%20marker_a16ae6d5155e4b4786963f556d8371d1.bindPopup%28popup_146efaf3c355484b95e105324b1a924f%29%0A%20%20%20%20%20%20%20%20%3B%0A%0A%20%20%20%20%20%20%20%20%0A%20%20%20%20%0A%20%20%20%20%0A%20%20%20%20%20%20%20%20%20%20%20%20var%20marker_bf2bb227d17649858191925dff904c5e%20%3D%20L.marker%28%0A%20%20%20%20%20%20%20%20%20%20%20%20%20%20%20%20%5B34.990302%2C%20-85.30489%5D%2C%0A%20%20%20%20%20%20%20%20%20%20%20%20%20%20%20%20%7B%7D%0A%20%20%20%20%20%20%20%20%20%20%20%20%29.addTo%28map_c237d24abb974dfab4d7996a515209db%29%3B%0A%20%20%20%20%20%20%20%20%0A%20%20%20%20%0A%20%20%20%20%20%20%20%20var%20popup_89b8a5df1c114676b8eef4a78302187e%20%3D%20L.popup%28%7B%22maxWidth%22%3A%20%22100%25%22%7D%29%3B%0A%0A%20%20%20%20%20%20%20%20%0A%20%20%20%20%20%20%20%20%20%20%20%20var%20html_57c6ba9a91ed48e094d2c1278cbba2cf%20%3D%20%24%28%60%3Cdiv%20id%3D%22html_57c6ba9a91ed48e094d2c1278cbba2cf%22%20style%3D%22width%3A%20100.0%25%3B%20height%3A%20100.0%25%3B%22%3E81%3C/div%3E%60%29%5B0%5D%3B%0A%20%20%20%20%20%20%20%20%20%20%20%20popup_89b8a5df1c114676b8eef4a78302187e.setContent%28html_57c6ba9a91ed48e094d2c1278cbba2cf%29%3B%0A%20%20%20%20%20%20%20%20%0A%0A%20%20%20%20%20%20%20%20marker_bf2bb227d17649858191925dff904c5e.bindPopup%28popup_89b8a5df1c114676b8eef4a78302187e%29%0A%20%20%20%20%20%20%20%20%3B%0A%0A%20%20%20%20%20%20%20%20%0A%20%20%20%20%0A%20%20%20%20%0A%20%20%20%20%20%20%20%20%20%20%20%20var%20marker_47743007f30b429c90ed049cf0a9dc36%20%3D%20L.marker%28%0A%20%20%20%20%20%20%20%20%20%20%20%20%20%20%20%20%5B34.991247%2C%20-85.304968%5D%2C%0A%20%20%20%20%20%20%20%20%20%20%20%20%20%20%20%20%7B%7D%0A%20%20%20%20%20%20%20%20%20%20%20%20%29.addTo%28map_c237d24abb974dfab4d7996a515209db%29%3B%0A%20%20%20%20%20%20%20%20%0A%20%20%20%20%0A%20%20%20%20%20%20%20%20var%20popup_30fe281ab3714aef87e5eec7265b1512%20%3D%20L.popup%28%7B%22maxWidth%22%3A%20%22100%25%22%7D%29%3B%0A%0A%20%20%20%20%20%20%20%20%0A%20%20%20%20%20%20%20%20%20%20%20%20var%20html_6e6d2f0b747c4f96b90fa8d0c424101c%20%3D%20%24%28%60%3Cdiv%20id%3D%22html_6e6d2f0b747c4f96b90fa8d0c424101c%22%20style%3D%22width%3A%20100.0%25%3B%20height%3A%20100.0%25%3B%22%3E90%3C/div%3E%60%29%5B0%5D%3B%0A%20%20%20%20%20%20%20%20%20%20%20%20popup_30fe281ab3714aef87e5eec7265b1512.setContent%28html_6e6d2f0b747c4f96b90fa8d0c424101c%29%3B%0A%20%20%20%20%20%20%20%20%0A%0A%20%20%20%20%20%20%20%20marker_47743007f30b429c90ed049cf0a9dc36.bindPopup%28popup_30fe281ab3714aef87e5eec7265b1512%29%0A%20%20%20%20%20%20%20%20%3B%0A%0A%20%20%20%20%20%20%20%20%0A%20%20%20%20%0A%20%20%20%20%0A%20%20%20%20%20%20%20%20%20%20%20%20var%20marker_39e1e8d792a9476184a804105be2ae8f%20%3D%20L.marker%28%0A%20%20%20%20%20%20%20%20%20%20%20%20%20%20%20%20%5B35.027633%2C%20-85.254727%5D%2C%0A%20%20%20%20%20%20%20%20%20%20%20%20%20%20%20%20%7B%7D%0A%20%20%20%20%20%20%20%20%20%20%20%20%29.addTo%28map_c237d24abb974dfab4d7996a515209db%29%3B%0A%20%20%20%20%20%20%20%20%0A%20%20%20%20%0A%20%20%20%20%20%20%20%20var%20popup_2814dae211d9417e8947acd1e1a91a3c%20%3D%20L.popup%28%7B%22maxWidth%22%3A%20%22100%25%22%7D%29%3B%0A%0A%20%20%20%20%20%20%20%20%0A%20%20%20%20%20%20%20%20%20%20%20%20var%20html_284892debff647a0aa897b74af328986%20%3D%20%24%28%60%3Cdiv%20id%3D%22html_284892debff647a0aa897b74af328986%22%20style%3D%22width%3A%20100.0%25%3B%20height%3A%20100.0%25%3B%22%3E975%3C/div%3E%60%29%5B0%5D%3B%0A%20%20%20%20%20%20%20%20%20%20%20%20popup_2814dae211d9417e8947acd1e1a91a3c.setContent%28html_284892debff647a0aa897b74af328986%29%3B%0A%20%20%20%20%20%20%20%20%0A%0A%20%20%20%20%20%20%20%20marker_39e1e8d792a9476184a804105be2ae8f.bindPopup%28popup_2814dae211d9417e8947acd1e1a91a3c%29%0A%20%20%20%20%20%20%20%20%3B%0A%0A%20%20%20%20%20%20%20%20%0A%20%20%20%20%0A%20%20%20%20%0A%20%20%20%20%20%20%20%20%20%20%20%20var%20marker_6f25b90a2fe048658a71abace3c6f862%20%3D%20L.marker%28%0A%20%20%20%20%20%20%20%20%20%20%20%20%20%20%20%20%5B35.026909%2C%20-85.25311%5D%2C%0A%20%20%20%20%20%20%20%20%20%20%20%20%20%20%20%20%7B%7D%0A%20%20%20%20%20%20%20%20%20%20%20%20%29.addTo%28map_c237d24abb974dfab4d7996a515209db%29%3B%0A%20%20%20%20%20%20%20%20%0A%20%20%20%20%0A%20%20%20%20%20%20%20%20var%20popup_26bed34e6e6b42a8bb045198aaab3468%20%3D%20L.popup%28%7B%22maxWidth%22%3A%20%22100%25%22%7D%29%3B%0A%0A%20%20%20%20%20%20%20%20%0A%20%20%20%20%20%20%20%20%20%20%20%20var%20html_bbb9a357644f49e9b9e8ee6389ecbcaf%20%3D%20%24%28%60%3Cdiv%20id%3D%22html_bbb9a357644f49e9b9e8ee6389ecbcaf%22%20style%3D%22width%3A%20100.0%25%3B%20height%3A%20100.0%25%3B%22%3E1911%3C/div%3E%60%29%5B0%5D%3B%0A%20%20%20%20%20%20%20%20%20%20%20%20popup_26bed34e6e6b42a8bb045198aaab3468.setContent%28html_bbb9a357644f49e9b9e8ee6389ecbcaf%29%3B%0A%20%20%20%20%20%20%20%20%0A%0A%20%20%20%20%20%20%20%20marker_6f25b90a2fe048658a71abace3c6f862.bindPopup%28popup_26bed34e6e6b42a8bb045198aaab3468%29%0A%20%20%20%20%20%20%20%20%3B%0A%0A%20%20%20%20%20%20%20%20%0A%20%20%20%20%0A%20%20%20%20%0A%20%20%20%20%20%20%20%20%20%20%20%20var%20marker_a729dbeff565454f9461da7ca63e5d7b%20%3D%20L.marker%28%0A%20%20%20%20%20%20%20%20%20%20%20%20%20%20%20%20%5B34.991815%2C%20-85.305763%5D%2C%0A%20%20%20%20%20%20%20%20%20%20%20%20%20%20%20%20%7B%7D%0A%20%20%20%20%20%20%20%20%20%20%20%20%29.addTo%28map_c237d24abb974dfab4d7996a515209db%29%3B%0A%20%20%20%20%20%20%20%20%0A%20%20%20%20%0A%20%20%20%20%20%20%20%20var%20popup_4750e512926e40cba3744524fcd6e14f%20%3D%20L.popup%28%7B%22maxWidth%22%3A%20%22100%25%22%7D%29%3B%0A%0A%20%20%20%20%20%20%20%20%0A%20%20%20%20%20%20%20%20%20%20%20%20var%20html_7200200247dc4b9f8c94f091ac605d3e%20%3D%20%24%28%60%3Cdiv%20id%3D%22html_7200200247dc4b9f8c94f091ac605d3e%22%20style%3D%22width%3A%20100.0%25%3B%20height%3A%20100.0%25%3B%22%3E1486%3C/div%3E%60%29%5B0%5D%3B%0A%20%20%20%20%20%20%20%20%20%20%20%20popup_4750e512926e40cba3744524fcd6e14f.setContent%28html_7200200247dc4b9f8c94f091ac605d3e%29%3B%0A%20%20%20%20%20%20%20%20%0A%0A%20%20%20%20%20%20%20%20marker_a729dbeff565454f9461da7ca63e5d7b.bindPopup%28popup_4750e512926e40cba3744524fcd6e14f%29%0A%20%20%20%20%20%20%20%20%3B%0A%0A%20%20%20%20%20%20%20%20%0A%20%20%20%20%0A%20%20%20%20%0A%20%20%20%20%20%20%20%20%20%20%20%20var%20marker_9565cc2b3c2b415b8b254578957afb84%20%3D%20L.marker%28%0A%20%20%20%20%20%20%20%20%20%20%20%20%20%20%20%20%5B34.99199%2C%20-85.30632%5D%2C%0A%20%20%20%20%20%20%20%20%20%20%20%20%20%20%20%20%7B%7D%0A%20%20%20%20%20%20%20%20%20%20%20%20%29.addTo%28map_c237d24abb974dfab4d7996a515209db%29%3B%0A%20%20%20%20%20%20%20%20%0A%20%20%20%20%0A%20%20%20%20%20%20%20%20var%20popup_45d1be12e3334f6ab96f1da0b0723cfe%20%3D%20L.popup%28%7B%22maxWidth%22%3A%20%22100%25%22%7D%29%3B%0A%0A%20%20%20%20%20%20%20%20%0A%20%20%20%20%20%20%20%20%20%20%20%20var%20html_5416e48f202c44838165a27994c47d3a%20%3D%20%24%28%60%3Cdiv%20id%3D%22html_5416e48f202c44838165a27994c47d3a%22%20style%3D%22width%3A%20100.0%25%3B%20height%3A%20100.0%25%3B%22%3E1899%3C/div%3E%60%29%5B0%5D%3B%0A%20%20%20%20%20%20%20%20%20%20%20%20popup_45d1be12e3334f6ab96f1da0b0723cfe.setContent%28html_5416e48f202c44838165a27994c47d3a%29%3B%0A%20%20%20%20%20%20%20%20%0A%0A%20%20%20%20%20%20%20%20marker_9565cc2b3c2b415b8b254578957afb84.bindPopup%28popup_45d1be12e3334f6ab96f1da0b0723cfe%29%0A%20%20%20%20%20%20%20%20%3B%0A%0A%20%20%20%20%20%20%20%20%0A%20%20%20%20%0A%20%20%20%20%0A%20%20%20%20%20%20%20%20%20%20%20%20var%20marker_604821bc6bf3449fb2710e370cb7b8bd%20%3D%20L.marker%28%0A%20%20%20%20%20%20%20%20%20%20%20%20%20%20%20%20%5B34.993198%2C%20-85.307528%5D%2C%0A%20%20%20%20%20%20%20%20%20%20%20%20%20%20%20%20%7B%7D%0A%20%20%20%20%20%20%20%20%20%20%20%20%29.addTo%28map_c237d24abb974dfab4d7996a515209db%29%3B%0A%20%20%20%20%20%20%20%20%0A%20%20%20%20%0A%20%20%20%20%20%20%20%20var%20popup_9068615ed3c64617b70d942269bc773c%20%3D%20L.popup%28%7B%22maxWidth%22%3A%20%22100%25%22%7D%29%3B%0A%0A%20%20%20%20%20%20%20%20%0A%20%20%20%20%20%20%20%20%20%20%20%20var%20html_b539d5e48ca74798a27da055e7aea02d%20%3D%20%24%28%60%3Cdiv%20id%3D%22html_b539d5e48ca74798a27da055e7aea02d%22%20style%3D%22width%3A%20100.0%25%3B%20height%3A%20100.0%25%3B%22%3E1731%3C/div%3E%60%29%5B0%5D%3B%0A%20%20%20%20%20%20%20%20%20%20%20%20popup_9068615ed3c64617b70d942269bc773c.setContent%28html_b539d5e48ca74798a27da055e7aea02d%29%3B%0A%20%20%20%20%20%20%20%20%0A%0A%20%20%20%20%20%20%20%20marker_604821bc6bf3449fb2710e370cb7b8bd.bindPopup%28popup_9068615ed3c64617b70d942269bc773c%29%0A%20%20%20%20%20%20%20%20%3B%0A%0A%20%20%20%20%20%20%20%20%0A%20%20%20%20%0A%20%20%20%20%0A%20%20%20%20%20%20%20%20%20%20%20%20var%20marker_3a8c222113e545fd899f9619627cd9c6%20%3D%20L.marker%28%0A%20%20%20%20%20%20%20%20%20%20%20%20%20%20%20%20%5B35.032893%2C%20-85.266568%5D%2C%0A%20%20%20%20%20%20%20%20%20%20%20%20%20%20%20%20%7B%7D%0A%20%20%20%20%20%20%20%20%20%20%20%20%29.addTo%28map_c237d24abb974dfab4d7996a515209db%29%3B%0A%20%20%20%20%20%20%20%20%0A%20%20%20%20%0A%20%20%20%20%20%20%20%20var%20popup_a31c5933fd1b45d4bbc1e5740bd5c633%20%3D%20L.popup%28%7B%22maxWidth%22%3A%20%22100%25%22%7D%29%3B%0A%0A%20%20%20%20%20%20%20%20%0A%20%20%20%20%20%20%20%20%20%20%20%20var%20html_9820749b4581417ea647a487e59e8e60%20%3D%20%24%28%60%3Cdiv%20id%3D%22html_9820749b4581417ea647a487e59e8e60%22%20style%3D%22width%3A%20100.0%25%3B%20height%3A%20100.0%25%3B%22%3E979%3C/div%3E%60%29%5B0%5D%3B%0A%20%20%20%20%20%20%20%20%20%20%20%20popup_a31c5933fd1b45d4bbc1e5740bd5c633.setContent%28html_9820749b4581417ea647a487e59e8e60%29%3B%0A%20%20%20%20%20%20%20%20%0A%0A%20%20%20%20%20%20%20%20marker_3a8c222113e545fd899f9619627cd9c6.bindPopup%28popup_a31c5933fd1b45d4bbc1e5740bd5c633%29%0A%20%20%20%20%20%20%20%20%3B%0A%0A%20%20%20%20%20%20%20%20%0A%20%20%20%20%0A%20%20%20%20%0A%20%20%20%20%20%20%20%20%20%20%20%20var%20marker_11b41c66b0d14a9c8fcf5b86e9b50ee5%20%3D%20L.marker%28%0A%20%20%20%20%20%20%20%20%20%20%20%20%20%20%20%20%5B34.992518%2C%20-85.30775%5D%2C%0A%20%20%20%20%20%20%20%20%20%20%20%20%20%20%20%20%7B%7D%0A%20%20%20%20%20%20%20%20%20%20%20%20%29.addTo%28map_c237d24abb974dfab4d7996a515209db%29%3B%0A%20%20%20%20%20%20%20%20%0A%20%20%20%20%0A%20%20%20%20%20%20%20%20var%20popup_aefcc37697b942f3821ff39b3c6716ba%20%3D%20L.popup%28%7B%22maxWidth%22%3A%20%22100%25%22%7D%29%3B%0A%0A%20%20%20%20%20%20%20%20%0A%20%20%20%20%20%20%20%20%20%20%20%20var%20html_e7eb5dec760d40a69e271302720aaf02%20%3D%20%24%28%60%3Cdiv%20id%3D%22html_e7eb5dec760d40a69e271302720aaf02%22%20style%3D%22width%3A%20100.0%25%3B%20height%3A%20100.0%25%3B%22%3E148%3C/div%3E%60%29%5B0%5D%3B%0A%20%20%20%20%20%20%20%20%20%20%20%20popup_aefcc37697b942f3821ff39b3c6716ba.setContent%28html_e7eb5dec760d40a69e271302720aaf02%29%3B%0A%20%20%20%20%20%20%20%20%0A%0A%20%20%20%20%20%20%20%20marker_11b41c66b0d14a9c8fcf5b86e9b50ee5.bindPopup%28popup_aefcc37697b942f3821ff39b3c6716ba%29%0A%20%20%20%20%20%20%20%20%3B%0A%0A%20%20%20%20%20%20%20%20%0A%20%20%20%20%0A%20%20%20%20%0A%20%20%20%20%20%20%20%20%20%20%20%20var%20marker_632c12a80e88481d8a31f4920b8178dd%20%3D%20L.marker%28%0A%20%20%20%20%20%20%20%20%20%20%20%20%20%20%20%20%5B35.031988%2C%20-85.264183%5D%2C%0A%20%20%20%20%20%20%20%20%20%20%20%20%20%20%20%20%7B%7D%0A%20%20%20%20%20%20%20%20%20%20%20%20%29.addTo%28map_c237d24abb974dfab4d7996a515209db%29%3B%0A%20%20%20%20%20%20%20%20%0A%20%20%20%20%0A%20%20%20%20%20%20%20%20var%20popup_1ac4c31573fa4147bd82732d5cd0d0d9%20%3D%20L.popup%28%7B%22maxWidth%22%3A%20%22100%25%22%7D%29%3B%0A%0A%20%20%20%20%20%20%20%20%0A%20%20%20%20%20%20%20%20%20%20%20%20var%20html_88ae92eae7174c67b37d5672888366cd%20%3D%20%24%28%60%3Cdiv%20id%3D%22html_88ae92eae7174c67b37d5672888366cd%22%20style%3D%22width%3A%20100.0%25%3B%20height%3A%20100.0%25%3B%22%3E977%3C/div%3E%60%29%5B0%5D%3B%0A%20%20%20%20%20%20%20%20%20%20%20%20popup_1ac4c31573fa4147bd82732d5cd0d0d9.setContent%28html_88ae92eae7174c67b37d5672888366cd%29%3B%0A%20%20%20%20%20%20%20%20%0A%0A%20%20%20%20%20%20%20%20marker_632c12a80e88481d8a31f4920b8178dd.bindPopup%28popup_1ac4c31573fa4147bd82732d5cd0d0d9%29%0A%20%20%20%20%20%20%20%20%3B%0A%0A%20%20%20%20%20%20%20%20%0A%20%20%20%20%0A%20%20%20%20%0A%20%20%20%20%20%20%20%20%20%20%20%20var%20marker_6e572e4a86444ba69383d05b2f9018fc%20%3D%20L.marker%28%0A%20%20%20%20%20%20%20%20%20%20%20%20%20%20%20%20%5B35.032425%2C%20-85.26536%5D%2C%0A%20%20%20%20%20%20%20%20%20%20%20%20%20%20%20%20%7B%7D%0A%20%20%20%20%20%20%20%20%20%20%20%20%29.addTo%28map_c237d24abb974dfab4d7996a515209db%29%3B%0A%20%20%20%20%20%20%20%20%0A%20%20%20%20%0A%20%20%20%20%20%20%20%20var%20popup_61f6eda1c4bc4433b54d670989a35106%20%3D%20L.popup%28%7B%22maxWidth%22%3A%20%22100%25%22%7D%29%3B%0A%0A%20%20%20%20%20%20%20%20%0A%20%20%20%20%20%20%20%20%20%20%20%20var%20html_e0c0509ba99a48c683a18f5b1ea29243%20%3D%20%24%28%60%3Cdiv%20id%3D%22html_e0c0509ba99a48c683a18f5b1ea29243%22%20style%3D%22width%3A%20100.0%25%3B%20height%3A%20100.0%25%3B%22%3E978%3C/div%3E%60%29%5B0%5D%3B%0A%20%20%20%20%20%20%20%20%20%20%20%20popup_61f6eda1c4bc4433b54d670989a35106.setContent%28html_e0c0509ba99a48c683a18f5b1ea29243%29%3B%0A%20%20%20%20%20%20%20%20%0A%0A%20%20%20%20%20%20%20%20marker_6e572e4a86444ba69383d05b2f9018fc.bindPopup%28popup_61f6eda1c4bc4433b54d670989a35106%29%0A%20%20%20%20%20%20%20%20%3B%0A%0A%20%20%20%20%20%20%20%20%0A%20%20%20%20%0A%20%20%20%20%0A%20%20%20%20%20%20%20%20%20%20%20%20var%20marker_a2cdce41b2894ef0bb8e1b7e57f37139%20%3D%20L.marker%28%0A%20%20%20%20%20%20%20%20%20%20%20%20%20%20%20%20%5B35.031137%2C%20-85.261625%5D%2C%0A%20%20%20%20%20%20%20%20%20%20%20%20%20%20%20%20%7B%7D%0A%20%20%20%20%20%20%20%20%20%20%20%20%29.addTo%28map_c237d24abb974dfab4d7996a515209db%29%3B%0A%20%20%20%20%20%20%20%20%0A%20%20%20%20%0A%20%20%20%20%20%20%20%20var%20popup_6af09e573707490e9892d8cf95133eae%20%3D%20L.popup%28%7B%22maxWidth%22%3A%20%22100%25%22%7D%29%3B%0A%0A%20%20%20%20%20%20%20%20%0A%20%20%20%20%20%20%20%20%20%20%20%20var%20html_e17b22f4972545ccaa9dcd84d576ed11%20%3D%20%24%28%60%3Cdiv%20id%3D%22html_e17b22f4972545ccaa9dcd84d576ed11%22%20style%3D%22width%3A%20100.0%25%3B%20height%3A%20100.0%25%3B%22%3E976%3C/div%3E%60%29%5B0%5D%3B%0A%20%20%20%20%20%20%20%20%20%20%20%20popup_6af09e573707490e9892d8cf95133eae.setContent%28html_e17b22f4972545ccaa9dcd84d576ed11%29%3B%0A%20%20%20%20%20%20%20%20%0A%0A%20%20%20%20%20%20%20%20marker_a2cdce41b2894ef0bb8e1b7e57f37139.bindPopup%28popup_6af09e573707490e9892d8cf95133eae%29%0A%20%20%20%20%20%20%20%20%3B%0A%0A%20%20%20%20%20%20%20%20%0A%20%20%20%20%0A%20%20%20%20%0A%20%20%20%20%20%20%20%20%20%20%20%20var%20marker_21501305fe0b44a686149e7d448644d5%20%3D%20L.marker%28%0A%20%20%20%20%20%20%20%20%20%20%20%20%20%20%20%20%5B34.993948%2C%20-85.307147%5D%2C%0A%20%20%20%20%20%20%20%20%20%20%20%20%20%20%20%20%7B%7D%0A%20%20%20%20%20%20%20%20%20%20%20%20%29.addTo%28map_c237d24abb974dfab4d7996a515209db%29%3B%0A%20%20%20%20%20%20%20%20%0A%20%20%20%20%0A%20%20%20%20%20%20%20%20var%20popup_b4f06fc3784b437c8a75a9c288326027%20%3D%20L.popup%28%7B%22maxWidth%22%3A%20%22100%25%22%7D%29%3B%0A%0A%20%20%20%20%20%20%20%20%0A%20%20%20%20%20%20%20%20%20%20%20%20var%20html_56d27f9b2bb44ad094ed881f012ebe5e%20%3D%20%24%28%60%3Cdiv%20id%3D%22html_56d27f9b2bb44ad094ed881f012ebe5e%22%20style%3D%22width%3A%20100.0%25%3B%20height%3A%20100.0%25%3B%22%3E1797%3C/div%3E%60%29%5B0%5D%3B%0A%20%20%20%20%20%20%20%20%20%20%20%20popup_b4f06fc3784b437c8a75a9c288326027.setContent%28html_56d27f9b2bb44ad094ed881f012ebe5e%29%3B%0A%20%20%20%20%20%20%20%20%0A%0A%20%20%20%20%20%20%20%20marker_21501305fe0b44a686149e7d448644d5.bindPopup%28popup_b4f06fc3784b437c8a75a9c288326027%29%0A%20%20%20%20%20%20%20%20%3B%0A%0A%20%20%20%20%20%20%20%20%0A%20%20%20%20%0A%20%20%20%20%0A%20%20%20%20%20%20%20%20%20%20%20%20var%20marker_ea3d431080174316bc2b0fbe14f579b7%20%3D%20L.marker%28%0A%20%20%20%20%20%20%20%20%20%20%20%20%20%20%20%20%5B35.034348%2C%20-85.270447%5D%2C%0A%20%20%20%20%20%20%20%20%20%20%20%20%20%20%20%20%7B%7D%0A%20%20%20%20%20%20%20%20%20%20%20%20%29.addTo%28map_c237d24abb974dfab4d7996a515209db%29%3B%0A%20%20%20%20%20%20%20%20%0A%20%20%20%20%0A%20%20%20%20%20%20%20%20var%20popup_ac0fd5cb353b45d8baa0ad574709f081%20%3D%20L.popup%28%7B%22maxWidth%22%3A%20%22100%25%22%7D%29%3B%0A%0A%20%20%20%20%20%20%20%20%0A%20%20%20%20%20%20%20%20%20%20%20%20var%20html_4d1156439fc942f9a0adadc4f40ad6cc%20%3D%20%24%28%60%3Cdiv%20id%3D%22html_4d1156439fc942f9a0adadc4f40ad6cc%22%20style%3D%22width%3A%20100.0%25%3B%20height%3A%20100.0%25%3B%22%3E981%3C/div%3E%60%29%5B0%5D%3B%0A%20%20%20%20%20%20%20%20%20%20%20%20popup_ac0fd5cb353b45d8baa0ad574709f081.setContent%28html_4d1156439fc942f9a0adadc4f40ad6cc%29%3B%0A%20%20%20%20%20%20%20%20%0A%0A%20%20%20%20%20%20%20%20marker_ea3d431080174316bc2b0fbe14f579b7.bindPopup%28popup_ac0fd5cb353b45d8baa0ad574709f081%29%0A%20%20%20%20%20%20%20%20%3B%0A%0A%20%20%20%20%20%20%20%20%0A%20%20%20%20%0A%20%20%20%20%0A%20%20%20%20%20%20%20%20%20%20%20%20var%20marker_4c5b8f2f35814d78bcc545620871e254%20%3D%20L.marker%28%0A%20%20%20%20%20%20%20%20%20%20%20%20%20%20%20%20%5B35.033955%2C%20-85.269207%5D%2C%0A%20%20%20%20%20%20%20%20%20%20%20%20%20%20%20%20%7B%7D%0A%20%20%20%20%20%20%20%20%20%20%20%20%29.addTo%28map_c237d24abb974dfab4d7996a515209db%29%3B%0A%20%20%20%20%20%20%20%20%0A%20%20%20%20%0A%20%20%20%20%20%20%20%20var%20popup_57a4aeb475e94a3087dc4e02125be3af%20%3D%20L.popup%28%7B%22maxWidth%22%3A%20%22100%25%22%7D%29%3B%0A%0A%20%20%20%20%20%20%20%20%0A%20%20%20%20%20%20%20%20%20%20%20%20var%20html_bf4ae976287940fab9e6d1f6c882cc2f%20%3D%20%24%28%60%3Cdiv%20id%3D%22html_bf4ae976287940fab9e6d1f6c882cc2f%22%20style%3D%22width%3A%20100.0%25%3B%20height%3A%20100.0%25%3B%22%3E1862%3C/div%3E%60%29%5B0%5D%3B%0A%20%20%20%20%20%20%20%20%20%20%20%20popup_57a4aeb475e94a3087dc4e02125be3af.setContent%28html_bf4ae976287940fab9e6d1f6c882cc2f%29%3B%0A%20%20%20%20%20%20%20%20%0A%0A%20%20%20%20%20%20%20%20marker_4c5b8f2f35814d78bcc545620871e254.bindPopup%28popup_57a4aeb475e94a3087dc4e02125be3af%29%0A%20%20%20%20%20%20%20%20%3B%0A%0A%20%20%20%20%20%20%20%20%0A%20%20%20%20%0A%20%20%20%20%0A%20%20%20%20%20%20%20%20%20%20%20%20var%20marker_4385d045dad64ea6a36bc586576c767d%20%3D%20L.marker%28%0A%20%20%20%20%20%20%20%20%20%20%20%20%20%20%20%20%5B35.033597%2C%20-85.26846%5D%2C%0A%20%20%20%20%20%20%20%20%20%20%20%20%20%20%20%20%7B%7D%0A%20%20%20%20%20%20%20%20%20%20%20%20%29.addTo%28map_c237d24abb974dfab4d7996a515209db%29%3B%0A%20%20%20%20%20%20%20%20%0A%20%20%20%20%0A%20%20%20%20%20%20%20%20var%20popup_76479d83fbcc42caa77a9342f8321aa0%20%3D%20L.popup%28%7B%22maxWidth%22%3A%20%22100%25%22%7D%29%3B%0A%0A%20%20%20%20%20%20%20%20%0A%20%20%20%20%20%20%20%20%20%20%20%20var%20html_442799b16d50487fb57868c29c7a5aac%20%3D%20%24%28%60%3Cdiv%20id%3D%22html_442799b16d50487fb57868c29c7a5aac%22%20style%3D%22width%3A%20100.0%25%3B%20height%3A%20100.0%25%3B%22%3E980%3C/div%3E%60%29%5B0%5D%3B%0A%20%20%20%20%20%20%20%20%20%20%20%20popup_76479d83fbcc42caa77a9342f8321aa0.setContent%28html_442799b16d50487fb57868c29c7a5aac%29%3B%0A%20%20%20%20%20%20%20%20%0A%0A%20%20%20%20%20%20%20%20marker_4385d045dad64ea6a36bc586576c767d.bindPopup%28popup_76479d83fbcc42caa77a9342f8321aa0%29%0A%20%20%20%20%20%20%20%20%3B%0A%0A%20%20%20%20%20%20%20%20%0A%20%20%20%20%0A%20%20%20%20%0A%20%20%20%20%20%20%20%20%20%20%20%20var%20marker_a2827de8cceb4348bc421f92dce12991%20%3D%20L.marker%28%0A%20%20%20%20%20%20%20%20%20%20%20%20%20%20%20%20%5B34.997878%2C%20-85.31166%5D%2C%0A%20%20%20%20%20%20%20%20%20%20%20%20%20%20%20%20%7B%7D%0A%20%20%20%20%20%20%20%20%20%20%20%20%29.addTo%28map_c237d24abb974dfab4d7996a515209db%29%3B%0A%20%20%20%20%20%20%20%20%0A%20%20%20%20%0A%20%20%20%20%20%20%20%20var%20popup_9357bef528e6462dbd597e93ee61065f%20%3D%20L.popup%28%7B%22maxWidth%22%3A%20%22100%25%22%7D%29%3B%0A%0A%20%20%20%20%20%20%20%20%0A%20%20%20%20%20%20%20%20%20%20%20%20var%20html_3a9c1eb03a9c4802af4b6d25935d4221%20%3D%20%24%28%60%3Cdiv%20id%3D%22html_3a9c1eb03a9c4802af4b6d25935d4221%22%20style%3D%22width%3A%20100.0%25%3B%20height%3A%20100.0%25%3B%22%3E151%3C/div%3E%60%29%5B0%5D%3B%0A%20%20%20%20%20%20%20%20%20%20%20%20popup_9357bef528e6462dbd597e93ee61065f.setContent%28html_3a9c1eb03a9c4802af4b6d25935d4221%29%3B%0A%20%20%20%20%20%20%20%20%0A%0A%20%20%20%20%20%20%20%20marker_a2827de8cceb4348bc421f92dce12991.bindPopup%28popup_9357bef528e6462dbd597e93ee61065f%29%0A%20%20%20%20%20%20%20%20%3B%0A%0A%20%20%20%20%20%20%20%20%0A%20%20%20%20%0A%20%20%20%20%0A%20%20%20%20%20%20%20%20%20%20%20%20var%20marker_1b30609f62734e57be3d25587e57f0a7%20%3D%20L.marker%28%0A%20%20%20%20%20%20%20%20%20%20%20%20%20%20%20%20%5B34.998288%2C%20-85.312742%5D%2C%0A%20%20%20%20%20%20%20%20%20%20%20%20%20%20%20%20%7B%7D%0A%20%20%20%20%20%20%20%20%20%20%20%20%29.addTo%28map_c237d24abb974dfab4d7996a515209db%29%3B%0A%20%20%20%20%20%20%20%20%0A%20%20%20%20%0A%20%20%20%20%20%20%20%20var%20popup_3eddc3c43330494889fc6e7be8f03165%20%3D%20L.popup%28%7B%22maxWidth%22%3A%20%22100%25%22%7D%29%3B%0A%0A%20%20%20%20%20%20%20%20%0A%20%20%20%20%20%20%20%20%20%20%20%20var%20html_331bdd350bee4999bd0b0ac0379498e1%20%3D%20%24%28%60%3Cdiv%20id%3D%22html_331bdd350bee4999bd0b0ac0379498e1%22%20style%3D%22width%3A%20100.0%25%3B%20height%3A%20100.0%25%3B%22%3E152%3C/div%3E%60%29%5B0%5D%3B%0A%20%20%20%20%20%20%20%20%20%20%20%20popup_3eddc3c43330494889fc6e7be8f03165.setContent%28html_331bdd350bee4999bd0b0ac0379498e1%29%3B%0A%20%20%20%20%20%20%20%20%0A%0A%20%20%20%20%20%20%20%20marker_1b30609f62734e57be3d25587e57f0a7.bindPopup%28popup_3eddc3c43330494889fc6e7be8f03165%29%0A%20%20%20%20%20%20%20%20%3B%0A%0A%20%20%20%20%20%20%20%20%0A%20%20%20%20%0A%20%20%20%20%0A%20%20%20%20%20%20%20%20%20%20%20%20var%20marker_af96d30de0a34e258f1ea3726b0ccde6%20%3D%20L.marker%28%0A%20%20%20%20%20%20%20%20%20%20%20%20%20%20%20%20%5B35.034793%2C%20-85.271653%5D%2C%0A%20%20%20%20%20%20%20%20%20%20%20%20%20%20%20%20%7B%7D%0A%20%20%20%20%20%20%20%20%20%20%20%20%29.addTo%28map_c237d24abb974dfab4d7996a515209db%29%3B%0A%20%20%20%20%20%20%20%20%0A%20%20%20%20%0A%20%20%20%20%20%20%20%20var%20popup_a48855624c524115b514a32991674320%20%3D%20L.popup%28%7B%22maxWidth%22%3A%20%22100%25%22%7D%29%3B%0A%0A%20%20%20%20%20%20%20%20%0A%20%20%20%20%20%20%20%20%20%20%20%20var%20html_0c85bb295a28498486b9eb1682534ed6%20%3D%20%24%28%60%3Cdiv%20id%3D%22html_0c85bb295a28498486b9eb1682534ed6%22%20style%3D%22width%3A%20100.0%25%3B%20height%3A%20100.0%25%3B%22%3E982%3C/div%3E%60%29%5B0%5D%3B%0A%20%20%20%20%20%20%20%20%20%20%20%20popup_a48855624c524115b514a32991674320.setContent%28html_0c85bb295a28498486b9eb1682534ed6%29%3B%0A%20%20%20%20%20%20%20%20%0A%0A%20%20%20%20%20%20%20%20marker_af96d30de0a34e258f1ea3726b0ccde6.bindPopup%28popup_a48855624c524115b514a32991674320%29%0A%20%20%20%20%20%20%20%20%3B%0A%0A%20%20%20%20%20%20%20%20%0A%20%20%20%20%0A%20%20%20%20%0A%20%20%20%20%20%20%20%20%20%20%20%20var%20marker_e403f0d253914b19b161e6f173c9e127%20%3D%20L.marker%28%0A%20%20%20%20%20%20%20%20%20%20%20%20%20%20%20%20%5B35.036903%2C%20-85.277345%5D%2C%0A%20%20%20%20%20%20%20%20%20%20%20%20%20%20%20%20%7B%7D%0A%20%20%20%20%20%20%20%20%20%20%20%20%29.addTo%28map_c237d24abb974dfab4d7996a515209db%29%3B%0A%20%20%20%20%20%20%20%20%0A%20%20%20%20%0A%20%20%20%20%20%20%20%20var%20popup_02560449f80f4675b69817b2638a74ca%20%3D%20L.popup%28%7B%22maxWidth%22%3A%20%22100%25%22%7D%29%3B%0A%0A%20%20%20%20%20%20%20%20%0A%20%20%20%20%20%20%20%20%20%20%20%20var%20html_234c06da3c87497cba5ecc47ddf5d023%20%3D%20%24%28%60%3Cdiv%20id%3D%22html_234c06da3c87497cba5ecc47ddf5d023%22%20style%3D%22width%3A%20100.0%25%3B%20height%3A%20100.0%25%3B%22%3E986%3C/div%3E%60%29%5B0%5D%3B%0A%20%20%20%20%20%20%20%20%20%20%20%20popup_02560449f80f4675b69817b2638a74ca.setContent%28html_234c06da3c87497cba5ecc47ddf5d023%29%3B%0A%20%20%20%20%20%20%20%20%0A%0A%20%20%20%20%20%20%20%20marker_e403f0d253914b19b161e6f173c9e127.bindPopup%28popup_02560449f80f4675b69817b2638a74ca%29%0A%20%20%20%20%20%20%20%20%3B%0A%0A%20%20%20%20%20%20%20%20%0A%20%20%20%20%0A%20%20%20%20%0A%20%20%20%20%20%20%20%20%20%20%20%20var%20marker_5f46a4c767a54e768397c9af67afcd03%20%3D%20L.marker%28%0A%20%20%20%20%20%20%20%20%20%20%20%20%20%20%20%20%5B35.002018%2C%20-85.31244%5D%2C%0A%20%20%20%20%20%20%20%20%20%20%20%20%20%20%20%20%7B%7D%0A%20%20%20%20%20%20%20%20%20%20%20%20%29.addTo%28map_c237d24abb974dfab4d7996a515209db%29%3B%0A%20%20%20%20%20%20%20%20%0A%20%20%20%20%0A%20%20%20%20%20%20%20%20var%20popup_9f664bd97e7743008e77d84de064e605%20%3D%20L.popup%28%7B%22maxWidth%22%3A%20%22100%25%22%7D%29%3B%0A%0A%20%20%20%20%20%20%20%20%0A%20%20%20%20%20%20%20%20%20%20%20%20var%20html_c6cd3699fc094e7f848fe223e2bd3ab0%20%3D%20%24%28%60%3Cdiv%20id%3D%22html_c6cd3699fc094e7f848fe223e2bd3ab0%22%20style%3D%22width%3A%20100.0%25%3B%20height%3A%20100.0%25%3B%22%3E102%3C/div%3E%60%29%5B0%5D%3B%0A%20%20%20%20%20%20%20%20%20%20%20%20popup_9f664bd97e7743008e77d84de064e605.setContent%28html_c6cd3699fc094e7f848fe223e2bd3ab0%29%3B%0A%20%20%20%20%20%20%20%20%0A%0A%20%20%20%20%20%20%20%20marker_5f46a4c767a54e768397c9af67afcd03.bindPopup%28popup_9f664bd97e7743008e77d84de064e605%29%0A%20%20%20%20%20%20%20%20%3B%0A%0A%20%20%20%20%20%20%20%20%0A%20%20%20%20%0A%20%20%20%20%0A%20%20%20%20%20%20%20%20%20%20%20%20var%20marker_8f9b3390cd9843e49fcc4e40e5de7907%20%3D%20L.marker%28%0A%20%20%20%20%20%20%20%20%20%20%20%20%20%20%20%20%5B34.999948%2C%20-85.3136%5D%2C%0A%20%20%20%20%20%20%20%20%20%20%20%20%20%20%20%20%7B%7D%0A%20%20%20%20%20%20%20%20%20%20%20%20%29.addTo%28map_c237d24abb974dfab4d7996a515209db%29%3B%0A%20%20%20%20%20%20%20%20%0A%20%20%20%20%0A%20%20%20%20%20%20%20%20var%20popup_0a225332d9d84c949ea5741a8df1610d%20%3D%20L.popup%28%7B%22maxWidth%22%3A%20%22100%25%22%7D%29%3B%0A%0A%20%20%20%20%20%20%20%20%0A%20%20%20%20%20%20%20%20%20%20%20%20var%20html_f86c9846eb064c5083aa861613510cd5%20%3D%20%24%28%60%3Cdiv%20id%3D%22html_f86c9846eb064c5083aa861613510cd5%22%20style%3D%22width%3A%20100.0%25%3B%20height%3A%20100.0%25%3B%22%3E101%3C/div%3E%60%29%5B0%5D%3B%0A%20%20%20%20%20%20%20%20%20%20%20%20popup_0a225332d9d84c949ea5741a8df1610d.setContent%28html_f86c9846eb064c5083aa861613510cd5%29%3B%0A%20%20%20%20%20%20%20%20%0A%0A%20%20%20%20%20%20%20%20marker_8f9b3390cd9843e49fcc4e40e5de7907.bindPopup%28popup_0a225332d9d84c949ea5741a8df1610d%29%0A%20%20%20%20%20%20%20%20%3B%0A%0A%20%20%20%20%20%20%20%20%0A%20%20%20%20%0A%20%20%20%20%0A%20%20%20%20%20%20%20%20%20%20%20%20var%20marker_0aa330762f98442b8a19a1707a741a56%20%3D%20L.marker%28%0A%20%20%20%20%20%20%20%20%20%20%20%20%20%20%20%20%5B34.998713%2C%20-85.314267%5D%2C%0A%20%20%20%20%20%20%20%20%20%20%20%20%20%20%20%20%7B%7D%0A%20%20%20%20%20%20%20%20%20%20%20%20%29.addTo%28map_c237d24abb974dfab4d7996a515209db%29%3B%0A%20%20%20%20%20%20%20%20%0A%20%20%20%20%0A%20%20%20%20%20%20%20%20var%20popup_dea343349a3d4a57be2dd746804b89d7%20%3D%20L.popup%28%7B%22maxWidth%22%3A%20%22100%25%22%7D%29%3B%0A%0A%20%20%20%20%20%20%20%20%0A%20%20%20%20%20%20%20%20%20%20%20%20var%20html_0be6ec59948c4a0e8552674094a0b0b8%20%3D%20%24%28%60%3Cdiv%20id%3D%22html_0be6ec59948c4a0e8552674094a0b0b8%22%20style%3D%22width%3A%20100.0%25%3B%20height%3A%20100.0%25%3B%22%3E100%3C/div%3E%60%29%5B0%5D%3B%0A%20%20%20%20%20%20%20%20%20%20%20%20popup_dea343349a3d4a57be2dd746804b89d7.setContent%28html_0be6ec59948c4a0e8552674094a0b0b8%29%3B%0A%20%20%20%20%20%20%20%20%0A%0A%20%20%20%20%20%20%20%20marker_0aa330762f98442b8a19a1707a741a56.bindPopup%28popup_dea343349a3d4a57be2dd746804b89d7%29%0A%20%20%20%20%20%20%20%20%3B%0A%0A%20%20%20%20%20%20%20%20%0A%20%20%20%20%0A%20%20%20%20%0A%20%20%20%20%20%20%20%20%20%20%20%20var%20marker_e16b8a2ed96a4618aa230ca4965c1923%20%3D%20L.marker%28%0A%20%20%20%20%20%20%20%20%20%20%20%20%20%20%20%20%5B35.037412%2C%20-85.278712%5D%2C%0A%20%20%20%20%20%20%20%20%20%20%20%20%20%20%20%20%7B%7D%0A%20%20%20%20%20%20%20%20%20%20%20%20%29.addTo%28map_c237d24abb974dfab4d7996a515209db%29%3B%0A%20%20%20%20%20%20%20%20%0A%20%20%20%20%0A%20%20%20%20%20%20%20%20var%20popup_87f98c00a72b4ca6b2c52d00a0c053d3%20%3D%20L.popup%28%7B%22maxWidth%22%3A%20%22100%25%22%7D%29%3B%0A%0A%20%20%20%20%20%20%20%20%0A%20%20%20%20%20%20%20%20%20%20%20%20var%20html_c2a2e1b910614eeb8358589f0f18b434%20%3D%20%24%28%60%3Cdiv%20id%3D%22html_c2a2e1b910614eeb8358589f0f18b434%22%20style%3D%22width%3A%20100.0%25%3B%20height%3A%20100.0%25%3B%22%3E987%3C/div%3E%60%29%5B0%5D%3B%0A%20%20%20%20%20%20%20%20%20%20%20%20popup_87f98c00a72b4ca6b2c52d00a0c053d3.setContent%28html_c2a2e1b910614eeb8358589f0f18b434%29%3B%0A%20%20%20%20%20%20%20%20%0A%0A%20%20%20%20%20%20%20%20marker_e16b8a2ed96a4618aa230ca4965c1923.bindPopup%28popup_87f98c00a72b4ca6b2c52d00a0c053d3%29%0A%20%20%20%20%20%20%20%20%3B%0A%0A%20%20%20%20%20%20%20%20%0A%20%20%20%20%0A%20%20%20%20%0A%20%20%20%20%20%20%20%20%20%20%20%20var%20marker_9a097cb93a014999aff0c3e4b48035c1%20%3D%20L.marker%28%0A%20%20%20%20%20%20%20%20%20%20%20%20%20%20%20%20%5B35.03639%2C%20-85.275962%5D%2C%0A%20%20%20%20%20%20%20%20%20%20%20%20%20%20%20%20%7B%7D%0A%20%20%20%20%20%20%20%20%20%20%20%20%29.addTo%28map_c237d24abb974dfab4d7996a515209db%29%3B%0A%20%20%20%20%20%20%20%20%0A%20%20%20%20%0A%20%20%20%20%20%20%20%20var%20popup_9bac65978792494b9ba9d0da3759009e%20%3D%20L.popup%28%7B%22maxWidth%22%3A%20%22100%25%22%7D%29%3B%0A%0A%20%20%20%20%20%20%20%20%0A%20%20%20%20%20%20%20%20%20%20%20%20var%20html_4f06a5b2ac7242d09eb2e86722c74f74%20%3D%20%24%28%60%3Cdiv%20id%3D%22html_4f06a5b2ac7242d09eb2e86722c74f74%22%20style%3D%22width%3A%20100.0%25%3B%20height%3A%20100.0%25%3B%22%3E985%3C/div%3E%60%29%5B0%5D%3B%0A%20%20%20%20%20%20%20%20%20%20%20%20popup_9bac65978792494b9ba9d0da3759009e.setContent%28html_4f06a5b2ac7242d09eb2e86722c74f74%29%3B%0A%20%20%20%20%20%20%20%20%0A%0A%20%20%20%20%20%20%20%20marker_9a097cb93a014999aff0c3e4b48035c1.bindPopup%28popup_9bac65978792494b9ba9d0da3759009e%29%0A%20%20%20%20%20%20%20%20%3B%0A%0A%20%20%20%20%20%20%20%20%0A%20%20%20%20%0A%20%20%20%20%0A%20%20%20%20%20%20%20%20%20%20%20%20var%20marker_75ef378399434ff5a32eddca9a142b25%20%3D%20L.marker%28%0A%20%20%20%20%20%20%20%20%20%20%20%20%20%20%20%20%5B35.03583%2C%20-85.274435%5D%2C%0A%20%20%20%20%20%20%20%20%20%20%20%20%20%20%20%20%7B%7D%0A%20%20%20%20%20%20%20%20%20%20%20%20%29.addTo%28map_c237d24abb974dfab4d7996a515209db%29%3B%0A%20%20%20%20%20%20%20%20%0A%20%20%20%20%0A%20%20%20%20%20%20%20%20var%20popup_e6783c6c47d044139d7c5b41a89f6e93%20%3D%20L.popup%28%7B%22maxWidth%22%3A%20%22100%25%22%7D%29%3B%0A%0A%20%20%20%20%20%20%20%20%0A%20%20%20%20%20%20%20%20%20%20%20%20var%20html_f50c8946fe4340c0b324ce139f27f130%20%3D%20%24%28%60%3Cdiv%20id%3D%22html_f50c8946fe4340c0b324ce139f27f130%22%20style%3D%22width%3A%20100.0%25%3B%20height%3A%20100.0%25%3B%22%3E984%3C/div%3E%60%29%5B0%5D%3B%0A%20%20%20%20%20%20%20%20%20%20%20%20popup_e6783c6c47d044139d7c5b41a89f6e93.setContent%28html_f50c8946fe4340c0b324ce139f27f130%29%3B%0A%20%20%20%20%20%20%20%20%0A%0A%20%20%20%20%20%20%20%20marker_75ef378399434ff5a32eddca9a142b25.bindPopup%28popup_e6783c6c47d044139d7c5b41a89f6e93%29%0A%20%20%20%20%20%20%20%20%3B%0A%0A%20%20%20%20%20%20%20%20%0A%20%20%20%20%0A%20%20%20%20%0A%20%20%20%20%20%20%20%20%20%20%20%20var%20marker_8cda8946a9184510917f7ebc30cac5d9%20%3D%20L.marker%28%0A%20%20%20%20%20%20%20%20%20%20%20%20%20%20%20%20%5B35.03535%2C%20-85.273117%5D%2C%0A%20%20%20%20%20%20%20%20%20%20%20%20%20%20%20%20%7B%7D%0A%20%20%20%20%20%20%20%20%20%20%20%20%29.addTo%28map_c237d24abb974dfab4d7996a515209db%29%3B%0A%20%20%20%20%20%20%20%20%0A%20%20%20%20%0A%20%20%20%20%20%20%20%20var%20popup_f23ed3e5fc344987bb1bf37b38da7974%20%3D%20L.popup%28%7B%22maxWidth%22%3A%20%22100%25%22%7D%29%3B%0A%0A%20%20%20%20%20%20%20%20%0A%20%20%20%20%20%20%20%20%20%20%20%20var%20html_49b8a15974be4c539662c37cb4167f70%20%3D%20%24%28%60%3Cdiv%20id%3D%22html_49b8a15974be4c539662c37cb4167f70%22%20style%3D%22width%3A%20100.0%25%3B%20height%3A%20100.0%25%3B%22%3E983%3C/div%3E%60%29%5B0%5D%3B%0A%20%20%20%20%20%20%20%20%20%20%20%20popup_f23ed3e5fc344987bb1bf37b38da7974.setContent%28html_49b8a15974be4c539662c37cb4167f70%29%3B%0A%20%20%20%20%20%20%20%20%0A%0A%20%20%20%20%20%20%20%20marker_8cda8946a9184510917f7ebc30cac5d9.bindPopup%28popup_f23ed3e5fc344987bb1bf37b38da7974%29%0A%20%20%20%20%20%20%20%20%3B%0A%0A%20%20%20%20%20%20%20%20%0A%20%20%20%20%0A%20%20%20%20%0A%20%20%20%20%20%20%20%20%20%20%20%20var%20marker_f68f1b214efd447caf7659fb28cac5d4%20%3D%20L.marker%28%0A%20%20%20%20%20%20%20%20%20%20%20%20%20%20%20%20%5B35.039625%2C%20-85.284623%5D%2C%0A%20%20%20%20%20%20%20%20%20%20%20%20%20%20%20%20%7B%7D%0A%20%20%20%20%20%20%20%20%20%20%20%20%29.addTo%28map_c237d24abb974dfab4d7996a515209db%29%3B%0A%20%20%20%20%20%20%20%20%0A%20%20%20%20%0A%20%20%20%20%20%20%20%20var%20popup_444de2849e8340e0a1f5e5684e1a7a81%20%3D%20L.popup%28%7B%22maxWidth%22%3A%20%22100%25%22%7D%29%3B%0A%0A%20%20%20%20%20%20%20%20%0A%20%20%20%20%20%20%20%20%20%20%20%20var%20html_74930eb570d141cfb6251e55cf3a48d1%20%3D%20%24%28%60%3Cdiv%20id%3D%22html_74930eb570d141cfb6251e55cf3a48d1%22%20style%3D%22width%3A%20100.0%25%3B%20height%3A%20100.0%25%3B%22%3E991%3C/div%3E%60%29%5B0%5D%3B%0A%20%20%20%20%20%20%20%20%20%20%20%20popup_444de2849e8340e0a1f5e5684e1a7a81.setContent%28html_74930eb570d141cfb6251e55cf3a48d1%29%3B%0A%20%20%20%20%20%20%20%20%0A%0A%20%20%20%20%20%20%20%20marker_f68f1b214efd447caf7659fb28cac5d4.bindPopup%28popup_444de2849e8340e0a1f5e5684e1a7a81%29%0A%20%20%20%20%20%20%20%20%3B%0A%0A%20%20%20%20%20%20%20%20%0A%20%20%20%20%0A%20%20%20%20%0A%20%20%20%20%20%20%20%20%20%20%20%20var%20marker_cf79db0012a44d3296322fd0a038dffb%20%3D%20L.marker%28%0A%20%20%20%20%20%20%20%20%20%20%20%20%20%20%20%20%5B35.03885%2C%20-85.282605%5D%2C%0A%20%20%20%20%20%20%20%20%20%20%20%20%20%20%20%20%7B%7D%0A%20%20%20%20%20%20%20%20%20%20%20%20%29.addTo%28map_c237d24abb974dfab4d7996a515209db%29%3B%0A%20%20%20%20%20%20%20%20%0A%20%20%20%20%0A%20%20%20%20%20%20%20%20var%20popup_68e16ad8ef924340aa5671dd45432767%20%3D%20L.popup%28%7B%22maxWidth%22%3A%20%22100%25%22%7D%29%3B%0A%0A%20%20%20%20%20%20%20%20%0A%20%20%20%20%20%20%20%20%20%20%20%20var%20html_9fa02ddead3a401db7916f15da6fc953%20%3D%20%24%28%60%3Cdiv%20id%3D%22html_9fa02ddead3a401db7916f15da6fc953%22%20style%3D%22width%3A%20100.0%25%3B%20height%3A%20100.0%25%3B%22%3E990%3C/div%3E%60%29%5B0%5D%3B%0A%20%20%20%20%20%20%20%20%20%20%20%20popup_68e16ad8ef924340aa5671dd45432767.setContent%28html_9fa02ddead3a401db7916f15da6fc953%29%3B%0A%20%20%20%20%20%20%20%20%0A%0A%20%20%20%20%20%20%20%20marker_cf79db0012a44d3296322fd0a038dffb.bindPopup%28popup_68e16ad8ef924340aa5671dd45432767%29%0A%20%20%20%20%20%20%20%20%3B%0A%0A%20%20%20%20%20%20%20%20%0A%20%20%20%20%0A%20%20%20%20%0A%20%20%20%20%20%20%20%20%20%20%20%20var%20marker_5794642c2c8c441492f1a6ab2c4ea47d%20%3D%20L.marker%28%0A%20%20%20%20%20%20%20%20%20%20%20%20%20%20%20%20%5B35.038365%2C%20-85.281287%5D%2C%0A%20%20%20%20%20%20%20%20%20%20%20%20%20%20%20%20%7B%7D%0A%20%20%20%20%20%20%20%20%20%20%20%20%29.addTo%28map_c237d24abb974dfab4d7996a515209db%29%3B%0A%20%20%20%20%20%20%20%20%0A%20%20%20%20%0A%20%20%20%20%20%20%20%20var%20popup_40627d6e96b848d8821e8426678e0207%20%3D%20L.popup%28%7B%22maxWidth%22%3A%20%22100%25%22%7D%29%3B%0A%0A%20%20%20%20%20%20%20%20%0A%20%20%20%20%20%20%20%20%20%20%20%20var%20html_549df8ebfc2048fca6ca0ef98cd66565%20%3D%20%24%28%60%3Cdiv%20id%3D%22html_549df8ebfc2048fca6ca0ef98cd66565%22%20style%3D%22width%3A%20100.0%25%3B%20height%3A%20100.0%25%3B%22%3E989%3C/div%3E%60%29%5B0%5D%3B%0A%20%20%20%20%20%20%20%20%20%20%20%20popup_40627d6e96b848d8821e8426678e0207.setContent%28html_549df8ebfc2048fca6ca0ef98cd66565%29%3B%0A%20%20%20%20%20%20%20%20%0A%0A%20%20%20%20%20%20%20%20marker_5794642c2c8c441492f1a6ab2c4ea47d.bindPopup%28popup_40627d6e96b848d8821e8426678e0207%29%0A%20%20%20%20%20%20%20%20%3B%0A%0A%20%20%20%20%20%20%20%20%0A%20%20%20%20%0A%20%20%20%20%0A%20%20%20%20%20%20%20%20%20%20%20%20var%20marker_f51ce9125598445f8dcec984da31b95d%20%3D%20L.marker%28%0A%20%20%20%20%20%20%20%20%20%20%20%20%20%20%20%20%5B35.037925%2C%20-85.28011%5D%2C%0A%20%20%20%20%20%20%20%20%20%20%20%20%20%20%20%20%7B%7D%0A%20%20%20%20%20%20%20%20%20%20%20%20%29.addTo%28map_c237d24abb974dfab4d7996a515209db%29%3B%0A%20%20%20%20%20%20%20%20%0A%20%20%20%20%0A%20%20%20%20%20%20%20%20var%20popup_bb8dbcf95ad34c59a874c47b18956071%20%3D%20L.popup%28%7B%22maxWidth%22%3A%20%22100%25%22%7D%29%3B%0A%0A%20%20%20%20%20%20%20%20%0A%20%20%20%20%20%20%20%20%20%20%20%20var%20html_786ea1bfeac94323ade505bf62a4b884%20%3D%20%24%28%60%3Cdiv%20id%3D%22html_786ea1bfeac94323ade505bf62a4b884%22%20style%3D%22width%3A%20100.0%25%3B%20height%3A%20100.0%25%3B%22%3E988%3C/div%3E%60%29%5B0%5D%3B%0A%20%20%20%20%20%20%20%20%20%20%20%20popup_bb8dbcf95ad34c59a874c47b18956071.setContent%28html_786ea1bfeac94323ade505bf62a4b884%29%3B%0A%20%20%20%20%20%20%20%20%0A%0A%20%20%20%20%20%20%20%20marker_f51ce9125598445f8dcec984da31b95d.bindPopup%28popup_bb8dbcf95ad34c59a874c47b18956071%29%0A%20%20%20%20%20%20%20%20%3B%0A%0A%20%20%20%20%20%20%20%20%0A%20%20%20%20%0A%20%20%20%20%0A%20%20%20%20%20%20%20%20%20%20%20%20var%20marker_aed91a12ab3844788c0187566097b372%20%3D%20L.marker%28%0A%20%20%20%20%20%20%20%20%20%20%20%20%20%20%20%20%5B35.005313%2C%20-85.310675%5D%2C%0A%20%20%20%20%20%20%20%20%20%20%20%20%20%20%20%20%7B%7D%0A%20%20%20%20%20%20%20%20%20%20%20%20%29.addTo%28map_c237d24abb974dfab4d7996a515209db%29%3B%0A%20%20%20%20%20%20%20%20%0A%20%20%20%20%0A%20%20%20%20%20%20%20%20var%20popup_a9ca880ced4e46f4a3283661f7047d51%20%3D%20L.popup%28%7B%22maxWidth%22%3A%20%22100%25%22%7D%29%3B%0A%0A%20%20%20%20%20%20%20%20%0A%20%20%20%20%20%20%20%20%20%20%20%20var%20html_7f8dec246b734bf3b124af2227d87a61%20%3D%20%24%28%60%3Cdiv%20id%3D%22html_7f8dec246b734bf3b124af2227d87a61%22%20style%3D%22width%3A%20100.0%25%3B%20height%3A%20100.0%25%3B%22%3E104%3C/div%3E%60%29%5B0%5D%3B%0A%20%20%20%20%20%20%20%20%20%20%20%20popup_a9ca880ced4e46f4a3283661f7047d51.setContent%28html_7f8dec246b734bf3b124af2227d87a61%29%3B%0A%20%20%20%20%20%20%20%20%0A%0A%20%20%20%20%20%20%20%20marker_aed91a12ab3844788c0187566097b372.bindPopup%28popup_a9ca880ced4e46f4a3283661f7047d51%29%0A%20%20%20%20%20%20%20%20%3B%0A%0A%20%20%20%20%20%20%20%20%0A%20%20%20%20%0A%20%20%20%20%0A%20%20%20%20%20%20%20%20%20%20%20%20var%20marker_22a055e6eb154835a2e6b0f3fbd973fd%20%3D%20L.marker%28%0A%20%20%20%20%20%20%20%20%20%20%20%20%20%20%20%20%5B35.003795%2C%20-85.311487%5D%2C%0A%20%20%20%20%20%20%20%20%20%20%20%20%20%20%20%20%7B%7D%0A%20%20%20%20%20%20%20%20%20%20%20%20%29.addTo%28map_c237d24abb974dfab4d7996a515209db%29%3B%0A%20%20%20%20%20%20%20%20%0A%20%20%20%20%0A%20%20%20%20%20%20%20%20var%20popup_e2de8d2b6caf4509a3600c1273393bdd%20%3D%20L.popup%28%7B%22maxWidth%22%3A%20%22100%25%22%7D%29%3B%0A%0A%20%20%20%20%20%20%20%20%0A%20%20%20%20%20%20%20%20%20%20%20%20var%20html_73b66b90500f401a82e16150ab517342%20%3D%20%24%28%60%3Cdiv%20id%3D%22html_73b66b90500f401a82e16150ab517342%22%20style%3D%22width%3A%20100.0%25%3B%20height%3A%20100.0%25%3B%22%3E103%3C/div%3E%60%29%5B0%5D%3B%0A%20%20%20%20%20%20%20%20%20%20%20%20popup_e2de8d2b6caf4509a3600c1273393bdd.setContent%28html_73b66b90500f401a82e16150ab517342%29%3B%0A%20%20%20%20%20%20%20%20%0A%0A%20%20%20%20%20%20%20%20marker_22a055e6eb154835a2e6b0f3fbd973fd.bindPopup%28popup_e2de8d2b6caf4509a3600c1273393bdd%29%0A%20%20%20%20%20%20%20%20%3B%0A%0A%20%20%20%20%20%20%20%20%0A%20%20%20%20%0A%20%20%20%20%0A%20%20%20%20%20%20%20%20%20%20%20%20var%20marker_2c08591ff293495ea7c38e3de073f428%20%3D%20L.marker%28%0A%20%20%20%20%20%20%20%20%20%20%20%20%20%20%20%20%5B35.005842%2C%20-85.311438%5D%2C%0A%20%20%20%20%20%20%20%20%20%20%20%20%20%20%20%20%7B%7D%0A%20%20%20%20%20%20%20%20%20%20%20%20%29.addTo%28map_c237d24abb974dfab4d7996a515209db%29%3B%0A%20%20%20%20%20%20%20%20%0A%20%20%20%20%0A%20%20%20%20%20%20%20%20var%20popup_50bb72bceb2c401d975321c6ab78c9a7%20%3D%20L.popup%28%7B%22maxWidth%22%3A%20%22100%25%22%7D%29%3B%0A%0A%20%20%20%20%20%20%20%20%0A%20%20%20%20%20%20%20%20%20%20%20%20var%20html_dc17cc6770bd4787a3f728cb7e5ba414%20%3D%20%24%28%60%3Cdiv%20id%3D%22html_dc17cc6770bd4787a3f728cb7e5ba414%22%20style%3D%22width%3A%20100.0%25%3B%20height%3A%20100.0%25%3B%22%3E105%3C/div%3E%60%29%5B0%5D%3B%0A%20%20%20%20%20%20%20%20%20%20%20%20popup_50bb72bceb2c401d975321c6ab78c9a7.setContent%28html_dc17cc6770bd4787a3f728cb7e5ba414%29%3B%0A%20%20%20%20%20%20%20%20%0A%0A%20%20%20%20%20%20%20%20marker_2c08591ff293495ea7c38e3de073f428.bindPopup%28popup_50bb72bceb2c401d975321c6ab78c9a7%29%0A%20%20%20%20%20%20%20%20%3B%0A%0A%20%20%20%20%20%20%20%20%0A%20%20%20%20%0A%20%20%20%20%0A%20%20%20%20%20%20%20%20%20%20%20%20var%20marker_f0ed11734741465eb125d1594c2276be%20%3D%20L.marker%28%0A%20%20%20%20%20%20%20%20%20%20%20%20%20%20%20%20%5B35.006708%2C%20-85.313758%5D%2C%0A%20%20%20%20%20%20%20%20%20%20%20%20%20%20%20%20%7B%7D%0A%20%20%20%20%20%20%20%20%20%20%20%20%29.addTo%28map_c237d24abb974dfab4d7996a515209db%29%3B%0A%20%20%20%20%20%20%20%20%0A%20%20%20%20%0A%20%20%20%20%20%20%20%20var%20popup_17d7b01a1736499298067bc3b9f0d800%20%3D%20L.popup%28%7B%22maxWidth%22%3A%20%22100%25%22%7D%29%3B%0A%0A%20%20%20%20%20%20%20%20%0A%20%20%20%20%20%20%20%20%20%20%20%20var%20html_555a1fdd19f44a3d97c3af7e2dcaa1cd%20%3D%20%24%28%60%3Cdiv%20id%3D%22html_555a1fdd19f44a3d97c3af7e2dcaa1cd%22%20style%3D%22width%3A%20100.0%25%3B%20height%3A%20100.0%25%3B%22%3E107%3C/div%3E%60%29%5B0%5D%3B%0A%20%20%20%20%20%20%20%20%20%20%20%20popup_17d7b01a1736499298067bc3b9f0d800.setContent%28html_555a1fdd19f44a3d97c3af7e2dcaa1cd%29%3B%0A%20%20%20%20%20%20%20%20%0A%0A%20%20%20%20%20%20%20%20marker_f0ed11734741465eb125d1594c2276be.bindPopup%28popup_17d7b01a1736499298067bc3b9f0d800%29%0A%20%20%20%20%20%20%20%20%3B%0A%0A%20%20%20%20%20%20%20%20%0A%20%20%20%20%0A%20%20%20%20%0A%20%20%20%20%20%20%20%20%20%20%20%20var%20marker_8b505822cd034894af6d6367efebc10f%20%3D%20L.marker%28%0A%20%20%20%20%20%20%20%20%20%20%20%20%20%20%20%20%5B35.042542%2C%20-85.292587%5D%2C%0A%20%20%20%20%20%20%20%20%20%20%20%20%20%20%20%20%7B%7D%0A%20%20%20%20%20%20%20%20%20%20%20%20%29.addTo%28map_c237d24abb974dfab4d7996a515209db%29%3B%0A%20%20%20%20%20%20%20%20%0A%20%20%20%20%0A%20%20%20%20%20%20%20%20var%20popup_d337f26581c348359f2e30735deba866%20%3D%20L.popup%28%7B%22maxWidth%22%3A%20%22100%25%22%7D%29%3B%0A%0A%20%20%20%20%20%20%20%20%0A%20%20%20%20%20%20%20%20%20%20%20%20var%20html_49f0529a7c48424c98ea3aa22a968b33%20%3D%20%24%28%60%3Cdiv%20id%3D%22html_49f0529a7c48424c98ea3aa22a968b33%22%20style%3D%22width%3A%20100.0%25%3B%20height%3A%20100.0%25%3B%22%3E994%3C/div%3E%60%29%5B0%5D%3B%0A%20%20%20%20%20%20%20%20%20%20%20%20popup_d337f26581c348359f2e30735deba866.setContent%28html_49f0529a7c48424c98ea3aa22a968b33%29%3B%0A%20%20%20%20%20%20%20%20%0A%0A%20%20%20%20%20%20%20%20marker_8b505822cd034894af6d6367efebc10f.bindPopup%28popup_d337f26581c348359f2e30735deba866%29%0A%20%20%20%20%20%20%20%20%3B%0A%0A%20%20%20%20%20%20%20%20%0A%20%20%20%20%0A%20%20%20%20%0A%20%20%20%20%20%20%20%20%20%20%20%20var%20marker_7c9137b2b0374575a6a95d20618268d1%20%3D%20L.marker%28%0A%20%20%20%20%20%20%20%20%20%20%20%20%20%20%20%20%5B35.041393%2C%20-85.28952%5D%2C%0A%20%20%20%20%20%20%20%20%20%20%20%20%20%20%20%20%7B%7D%0A%20%20%20%20%20%20%20%20%20%20%20%20%29.addTo%28map_c237d24abb974dfab4d7996a515209db%29%3B%0A%20%20%20%20%20%20%20%20%0A%20%20%20%20%0A%20%20%20%20%20%20%20%20var%20popup_2225980abb4d4dc7adf506d8e27cf91e%20%3D%20L.popup%28%7B%22maxWidth%22%3A%20%22100%25%22%7D%29%3B%0A%0A%20%20%20%20%20%20%20%20%0A%20%20%20%20%20%20%20%20%20%20%20%20var%20html_4a8d9e4593a847019bba24f937d7bf34%20%3D%20%24%28%60%3Cdiv%20id%3D%22html_4a8d9e4593a847019bba24f937d7bf34%22%20style%3D%22width%3A%20100.0%25%3B%20height%3A%20100.0%25%3B%22%3E992%3C/div%3E%60%29%5B0%5D%3B%0A%20%20%20%20%20%20%20%20%20%20%20%20popup_2225980abb4d4dc7adf506d8e27cf91e.setContent%28html_4a8d9e4593a847019bba24f937d7bf34%29%3B%0A%20%20%20%20%20%20%20%20%0A%0A%20%20%20%20%20%20%20%20marker_7c9137b2b0374575a6a95d20618268d1.bindPopup%28popup_2225980abb4d4dc7adf506d8e27cf91e%29%0A%20%20%20%20%20%20%20%20%3B%0A%0A%20%20%20%20%20%20%20%20%0A%20%20%20%20%0A%20%20%20%20%0A%20%20%20%20%20%20%20%20%20%20%20%20var%20marker_77b95d5191d44df994efa9c626643c5b%20%3D%20L.marker%28%0A%20%20%20%20%20%20%20%20%20%20%20%20%20%20%20%20%5B35.042073%2C%20-85.291348%5D%2C%0A%20%20%20%20%20%20%20%20%20%20%20%20%20%20%20%20%7B%7D%0A%20%20%20%20%20%20%20%20%20%20%20%20%29.addTo%28map_c237d24abb974dfab4d7996a515209db%29%3B%0A%20%20%20%20%20%20%20%20%0A%20%20%20%20%0A%20%20%20%20%20%20%20%20var%20popup_cf03d367566b49c59bc87f5fb229b77d%20%3D%20L.popup%28%7B%22maxWidth%22%3A%20%22100%25%22%7D%29%3B%0A%0A%20%20%20%20%20%20%20%20%0A%20%20%20%20%20%20%20%20%20%20%20%20var%20html_05e48fcf3084416fb0503e96f82a2640%20%3D%20%24%28%60%3Cdiv%20id%3D%22html_05e48fcf3084416fb0503e96f82a2640%22%20style%3D%22width%3A%20100.0%25%3B%20height%3A%20100.0%25%3B%22%3E993%3C/div%3E%60%29%5B0%5D%3B%0A%20%20%20%20%20%20%20%20%20%20%20%20popup_cf03d367566b49c59bc87f5fb229b77d.setContent%28html_05e48fcf3084416fb0503e96f82a2640%29%3B%0A%20%20%20%20%20%20%20%20%0A%0A%20%20%20%20%20%20%20%20marker_77b95d5191d44df994efa9c626643c5b.bindPopup%28popup_cf03d367566b49c59bc87f5fb229b77d%29%0A%20%20%20%20%20%20%20%20%3B%0A%0A%20%20%20%20%20%20%20%20%0A%20%20%20%20%0A%20%20%20%20%0A%20%20%20%20%20%20%20%20%20%20%20%20var%20marker_90f555a4d0c2494ba99a1c17bc0b9fa8%20%3D%20L.marker%28%0A%20%20%20%20%20%20%20%20%20%20%20%20%20%20%20%20%5B35.007617%2C%20-85.316223%5D%2C%0A%20%20%20%20%20%20%20%20%20%20%20%20%20%20%20%20%7B%7D%0A%20%20%20%20%20%20%20%20%20%20%20%20%29.addTo%28map_c237d24abb974dfab4d7996a515209db%29%3B%0A%20%20%20%20%20%20%20%20%0A%20%20%20%20%0A%20%20%20%20%20%20%20%20var%20popup_8a9d2bf979004816a302e7aebacb3792%20%3D%20L.popup%28%7B%22maxWidth%22%3A%20%22100%25%22%7D%29%3B%0A%0A%20%20%20%20%20%20%20%20%0A%20%20%20%20%20%20%20%20%20%20%20%20var%20html_3653ad7fa79540cf9ea303c14b9737bb%20%3D%20%24%28%60%3Cdiv%20id%3D%22html_3653ad7fa79540cf9ea303c14b9737bb%22%20style%3D%22width%3A%20100.0%25%3B%20height%3A%20100.0%25%3B%22%3E109%3C/div%3E%60%29%5B0%5D%3B%0A%20%20%20%20%20%20%20%20%20%20%20%20popup_8a9d2bf979004816a302e7aebacb3792.setContent%28html_3653ad7fa79540cf9ea303c14b9737bb%29%3B%0A%20%20%20%20%20%20%20%20%0A%0A%20%20%20%20%20%20%20%20marker_90f555a4d0c2494ba99a1c17bc0b9fa8.bindPopup%28popup_8a9d2bf979004816a302e7aebacb3792%29%0A%20%20%20%20%20%20%20%20%3B%0A%0A%20%20%20%20%20%20%20%20%0A%20%20%20%20%0A%20%20%20%20%0A%20%20%20%20%20%20%20%20%20%20%20%20var%20marker_455179ea92024e13bcf982c5dfeb6cd8%20%3D%20L.marker%28%0A%20%20%20%20%20%20%20%20%20%20%20%20%20%20%20%20%5B35.006985%2C%20-85.31449%5D%2C%0A%20%20%20%20%20%20%20%20%20%20%20%20%20%20%20%20%7B%7D%0A%20%20%20%20%20%20%20%20%20%20%20%20%29.addTo%28map_c237d24abb974dfab4d7996a515209db%29%3B%0A%20%20%20%20%20%20%20%20%0A%20%20%20%20%0A%20%20%20%20%20%20%20%20var%20popup_7240447bb9224c5a960dfd0c51cc998c%20%3D%20L.popup%28%7B%22maxWidth%22%3A%20%22100%25%22%7D%29%3B%0A%0A%20%20%20%20%20%20%20%20%0A%20%20%20%20%20%20%20%20%20%20%20%20var%20html_8a98efdcd36546d78f270315ab1fed22%20%3D%20%24%28%60%3Cdiv%20id%3D%22html_8a98efdcd36546d78f270315ab1fed22%22%20style%3D%22width%3A%20100.0%25%3B%20height%3A%20100.0%25%3B%22%3E108%3C/div%3E%60%29%5B0%5D%3B%0A%20%20%20%20%20%20%20%20%20%20%20%20popup_7240447bb9224c5a960dfd0c51cc998c.setContent%28html_8a98efdcd36546d78f270315ab1fed22%29%3B%0A%20%20%20%20%20%20%20%20%0A%0A%20%20%20%20%20%20%20%20marker_455179ea92024e13bcf982c5dfeb6cd8.bindPopup%28popup_7240447bb9224c5a960dfd0c51cc998c%29%0A%20%20%20%20%20%20%20%20%3B%0A%0A%20%20%20%20%20%20%20%20%0A%20%20%20%20%0A%20%20%20%20%0A%20%20%20%20%20%20%20%20%20%20%20%20var%20marker_16a30f714ae642ce9aafda32a273af4b%20%3D%20L.marker%28%0A%20%20%20%20%20%20%20%20%20%20%20%20%20%20%20%20%5B35.006287%2C%20-85.312615%5D%2C%0A%20%20%20%20%20%20%20%20%20%20%20%20%20%20%20%20%7B%7D%0A%20%20%20%20%20%20%20%20%20%20%20%20%29.addTo%28map_c237d24abb974dfab4d7996a515209db%29%3B%0A%20%20%20%20%20%20%20%20%0A%20%20%20%20%0A%20%20%20%20%20%20%20%20var%20popup_c4563d81449d42bf8a37c3c6d5474884%20%3D%20L.popup%28%7B%22maxWidth%22%3A%20%22100%25%22%7D%29%3B%0A%0A%20%20%20%20%20%20%20%20%0A%20%20%20%20%20%20%20%20%20%20%20%20var%20html_15b6c3b562ca4b1aa35ace597eebeff0%20%3D%20%24%28%60%3Cdiv%20id%3D%22html_15b6c3b562ca4b1aa35ace597eebeff0%22%20style%3D%22width%3A%20100.0%25%3B%20height%3A%20100.0%25%3B%22%3E106%3C/div%3E%60%29%5B0%5D%3B%0A%20%20%20%20%20%20%20%20%20%20%20%20popup_c4563d81449d42bf8a37c3c6d5474884.setContent%28html_15b6c3b562ca4b1aa35ace597eebeff0%29%3B%0A%20%20%20%20%20%20%20%20%0A%0A%20%20%20%20%20%20%20%20marker_16a30f714ae642ce9aafda32a273af4b.bindPopup%28popup_c4563d81449d42bf8a37c3c6d5474884%29%0A%20%20%20%20%20%20%20%20%3B%0A%0A%20%20%20%20%20%20%20%20%0A%20%20%20%20%0A%20%20%20%20%0A%20%20%20%20%20%20%20%20%20%20%20%20var%20marker_66dbf70504eb46298e9bb80a03ddef50%20%3D%20L.marker%28%0A%20%20%20%20%20%20%20%20%20%20%20%20%20%20%20%20%5B35.010062%2C%20-85.318655%5D%2C%0A%20%20%20%20%20%20%20%20%20%20%20%20%20%20%20%20%7B%7D%0A%20%20%20%20%20%20%20%20%20%20%20%20%29.addTo%28map_c237d24abb974dfab4d7996a515209db%29%3B%0A%20%20%20%20%20%20%20%20%0A%20%20%20%20%0A%20%20%20%20%20%20%20%20var%20popup_ab11e4a964ac4a02bd2beb141e86fe31%20%3D%20L.popup%28%7B%22maxWidth%22%3A%20%22100%25%22%7D%29%3B%0A%0A%20%20%20%20%20%20%20%20%0A%20%20%20%20%20%20%20%20%20%20%20%20var%20html_6e70dd07593045f2922988ff1dd3ff55%20%3D%20%24%28%60%3Cdiv%20id%3D%22html_6e70dd07593045f2922988ff1dd3ff55%22%20style%3D%22width%3A%20100.0%25%3B%20height%3A%20100.0%25%3B%22%3E112%3C/div%3E%60%29%5B0%5D%3B%0A%20%20%20%20%20%20%20%20%20%20%20%20popup_ab11e4a964ac4a02bd2beb141e86fe31.setContent%28html_6e70dd07593045f2922988ff1dd3ff55%29%3B%0A%20%20%20%20%20%20%20%20%0A%0A%20%20%20%20%20%20%20%20marker_66dbf70504eb46298e9bb80a03ddef50.bindPopup%28popup_ab11e4a964ac4a02bd2beb141e86fe31%29%0A%20%20%20%20%20%20%20%20%3B%0A%0A%20%20%20%20%20%20%20%20%0A%20%20%20%20%0A%20%20%20%20%0A%20%20%20%20%20%20%20%20%20%20%20%20var%20marker_fb0a49c3595247779c841b371f04e2f5%20%3D%20L.marker%28%0A%20%20%20%20%20%20%20%20%20%20%20%20%20%20%20%20%5B35.008178%2C%20-85.317668%5D%2C%0A%20%20%20%20%20%20%20%20%20%20%20%20%20%20%20%20%7B%7D%0A%20%20%20%20%20%20%20%20%20%20%20%20%29.addTo%28map_c237d24abb974dfab4d7996a515209db%29%3B%0A%20%20%20%20%20%20%20%20%0A%20%20%20%20%0A%20%20%20%20%20%20%20%20var%20popup_80dcf1f1409441669697ac82306624f2%20%3D%20L.popup%28%7B%22maxWidth%22%3A%20%22100%25%22%7D%29%3B%0A%0A%20%20%20%20%20%20%20%20%0A%20%20%20%20%20%20%20%20%20%20%20%20var%20html_72b28f599698442fb75d1e32104e6a35%20%3D%20%24%28%60%3Cdiv%20id%3D%22html_72b28f599698442fb75d1e32104e6a35%22%20style%3D%22width%3A%20100.0%25%3B%20height%3A%20100.0%25%3B%22%3E110%3C/div%3E%60%29%5B0%5D%3B%0A%20%20%20%20%20%20%20%20%20%20%20%20popup_80dcf1f1409441669697ac82306624f2.setContent%28html_72b28f599698442fb75d1e32104e6a35%29%3B%0A%20%20%20%20%20%20%20%20%0A%0A%20%20%20%20%20%20%20%20marker_fb0a49c3595247779c841b371f04e2f5.bindPopup%28popup_80dcf1f1409441669697ac82306624f2%29%0A%20%20%20%20%20%20%20%20%3B%0A%0A%20%20%20%20%20%20%20%20%0A%20%20%20%20%0A%20%20%20%20%0A%20%20%20%20%20%20%20%20%20%20%20%20var%20marker_8feb6bcfcc274263a8b73b9e8a4a8703%20%3D%20L.marker%28%0A%20%20%20%20%20%20%20%20%20%20%20%20%20%20%20%20%5B35.043733%2C%20-85.295687%5D%2C%0A%20%20%20%20%20%20%20%20%20%20%20%20%20%20%20%20%7B%7D%0A%20%20%20%20%20%20%20%20%20%20%20%20%29.addTo%28map_c237d24abb974dfab4d7996a515209db%29%3B%0A%20%20%20%20%20%20%20%20%0A%20%20%20%20%0A%20%20%20%20%20%20%20%20var%20popup_e4a2ab2aec16445bb26bd875389a78ad%20%3D%20L.popup%28%7B%22maxWidth%22%3A%20%22100%25%22%7D%29%3B%0A%0A%20%20%20%20%20%20%20%20%0A%20%20%20%20%20%20%20%20%20%20%20%20var%20html_7436b0d142b44b7d8a556beb3275135d%20%3D%20%24%28%60%3Cdiv%20id%3D%22html_7436b0d142b44b7d8a556beb3275135d%22%20style%3D%22width%3A%20100.0%25%3B%20height%3A%20100.0%25%3B%22%3E995%3C/div%3E%60%29%5B0%5D%3B%0A%20%20%20%20%20%20%20%20%20%20%20%20popup_e4a2ab2aec16445bb26bd875389a78ad.setContent%28html_7436b0d142b44b7d8a556beb3275135d%29%3B%0A%20%20%20%20%20%20%20%20%0A%0A%20%20%20%20%20%20%20%20marker_8feb6bcfcc274263a8b73b9e8a4a8703.bindPopup%28popup_e4a2ab2aec16445bb26bd875389a78ad%29%0A%20%20%20%20%20%20%20%20%3B%0A%0A%20%20%20%20%20%20%20%20%0A%20%20%20%20%0A%20%20%20%20%0A%20%20%20%20%20%20%20%20%20%20%20%20var%20marker_bcdd1e6a8d644b118365b94372ab64ac%20%3D%20L.marker%28%0A%20%20%20%20%20%20%20%20%20%20%20%20%20%20%20%20%5B35.044178%2C%20-85.296657%5D%2C%0A%20%20%20%20%20%20%20%20%20%20%20%20%20%20%20%20%7B%7D%0A%20%20%20%20%20%20%20%20%20%20%20%20%29.addTo%28map_c237d24abb974dfab4d7996a515209db%29%3B%0A%20%20%20%20%20%20%20%20%0A%20%20%20%20%0A%20%20%20%20%20%20%20%20var%20popup_1c6df74ac0f54d33ad2f2537882f6109%20%3D%20L.popup%28%7B%22maxWidth%22%3A%20%22100%25%22%7D%29%3B%0A%0A%20%20%20%20%20%20%20%20%0A%20%20%20%20%20%20%20%20%20%20%20%20var%20html_04932f2d48734345b2337f9225eb596d%20%3D%20%24%28%60%3Cdiv%20id%3D%22html_04932f2d48734345b2337f9225eb596d%22%20style%3D%22width%3A%20100.0%25%3B%20height%3A%20100.0%25%3B%22%3E407%3C/div%3E%60%29%5B0%5D%3B%0A%20%20%20%20%20%20%20%20%20%20%20%20popup_1c6df74ac0f54d33ad2f2537882f6109.setContent%28html_04932f2d48734345b2337f9225eb596d%29%3B%0A%20%20%20%20%20%20%20%20%0A%0A%20%20%20%20%20%20%20%20marker_bcdd1e6a8d644b118365b94372ab64ac.bindPopup%28popup_1c6df74ac0f54d33ad2f2537882f6109%29%0A%20%20%20%20%20%20%20%20%3B%0A%0A%20%20%20%20%20%20%20%20%0A%20%20%20%20%0A%20%20%20%20%0A%20%20%20%20%20%20%20%20%20%20%20%20var%20marker_6d54f54e01cb4354ad28e42b45a452e2%20%3D%20L.marker%28%0A%20%20%20%20%20%20%20%20%20%20%20%20%20%20%20%20%5B35.044985%2C%20-85.298818%5D%2C%0A%20%20%20%20%20%20%20%20%20%20%20%20%20%20%20%20%7B%7D%0A%20%20%20%20%20%20%20%20%20%20%20%20%29.addTo%28map_c237d24abb974dfab4d7996a515209db%29%3B%0A%20%20%20%20%20%20%20%20%0A%20%20%20%20%0A%20%20%20%20%20%20%20%20var%20popup_832760a9d24e48348754f1e38dba34e3%20%3D%20L.popup%28%7B%22maxWidth%22%3A%20%22100%25%22%7D%29%3B%0A%0A%20%20%20%20%20%20%20%20%0A%20%20%20%20%20%20%20%20%20%20%20%20var%20html_d7f2255c9bcc42d6b53ad8d2be876472%20%3D%20%24%28%60%3Cdiv%20id%3D%22html_d7f2255c9bcc42d6b53ad8d2be876472%22%20style%3D%22width%3A%20100.0%25%3B%20height%3A%20100.0%25%3B%22%3E408%3C/div%3E%60%29%5B0%5D%3B%0A%20%20%20%20%20%20%20%20%20%20%20%20popup_832760a9d24e48348754f1e38dba34e3.setContent%28html_d7f2255c9bcc42d6b53ad8d2be876472%29%3B%0A%20%20%20%20%20%20%20%20%0A%0A%20%20%20%20%20%20%20%20marker_6d54f54e01cb4354ad28e42b45a452e2.bindPopup%28popup_832760a9d24e48348754f1e38dba34e3%29%0A%20%20%20%20%20%20%20%20%3B%0A%0A%20%20%20%20%20%20%20%20%0A%20%20%20%20%0A%20%20%20%20%0A%20%20%20%20%20%20%20%20%20%20%20%20var%20marker_09611f68dfa54e3c8e440e36e10d5586%20%3D%20L.marker%28%0A%20%20%20%20%20%20%20%20%20%20%20%20%20%20%20%20%5B35.045875%2C%20-85.301393%5D%2C%0A%20%20%20%20%20%20%20%20%20%20%20%20%20%20%20%20%7B%7D%0A%20%20%20%20%20%20%20%20%20%20%20%20%29.addTo%28map_c237d24abb974dfab4d7996a515209db%29%3B%0A%20%20%20%20%20%20%20%20%0A%20%20%20%20%0A%20%20%20%20%20%20%20%20var%20popup_e92348a29f1e44428d79a80c3f286b73%20%3D%20L.popup%28%7B%22maxWidth%22%3A%20%22100%25%22%7D%29%3B%0A%0A%20%20%20%20%20%20%20%20%0A%20%20%20%20%20%20%20%20%20%20%20%20var%20html_ecaf1ea95ec04e73b0995d4a930ed36e%20%3D%20%24%28%60%3Cdiv%20id%3D%22html_ecaf1ea95ec04e73b0995d4a930ed36e%22%20style%3D%22width%3A%20100.0%25%3B%20height%3A%20100.0%25%3B%22%3E409%3C/div%3E%60%29%5B0%5D%3B%0A%20%20%20%20%20%20%20%20%20%20%20%20popup_e92348a29f1e44428d79a80c3f286b73.setContent%28html_ecaf1ea95ec04e73b0995d4a930ed36e%29%3B%0A%20%20%20%20%20%20%20%20%0A%0A%20%20%20%20%20%20%20%20marker_09611f68dfa54e3c8e440e36e10d5586.bindPopup%28popup_e92348a29f1e44428d79a80c3f286b73%29%0A%20%20%20%20%20%20%20%20%3B%0A%0A%20%20%20%20%20%20%20%20%0A%20%20%20%20%0A%20%20%20%20%0A%20%20%20%20%20%20%20%20%20%20%20%20var%20marker_7fc17c33ef2645e6a006e0c0ee00f3d3%20%3D%20L.marker%28%0A%20%20%20%20%20%20%20%20%20%20%20%20%20%20%20%20%5B35.009267%2C%20-85.317303%5D%2C%0A%20%20%20%20%20%20%20%20%20%20%20%20%20%20%20%20%7B%7D%0A%20%20%20%20%20%20%20%20%20%20%20%20%29.addTo%28map_c237d24abb974dfab4d7996a515209db%29%3B%0A%20%20%20%20%20%20%20%20%0A%20%20%20%20%0A%20%20%20%20%20%20%20%20var%20popup_d8dd30d08ec444c8b06c4a216518a564%20%3D%20L.popup%28%7B%22maxWidth%22%3A%20%22100%25%22%7D%29%3B%0A%0A%20%20%20%20%20%20%20%20%0A%20%20%20%20%20%20%20%20%20%20%20%20var%20html_ca4b31fabf8f43c5a1d99ec70c078560%20%3D%20%24%28%60%3Cdiv%20id%3D%22html_ca4b31fabf8f43c5a1d99ec70c078560%22%20style%3D%22width%3A%20100.0%25%3B%20height%3A%20100.0%25%3B%22%3E111%3C/div%3E%60%29%5B0%5D%3B%0A%20%20%20%20%20%20%20%20%20%20%20%20popup_d8dd30d08ec444c8b06c4a216518a564.setContent%28html_ca4b31fabf8f43c5a1d99ec70c078560%29%3B%0A%20%20%20%20%20%20%20%20%0A%0A%20%20%20%20%20%20%20%20marker_7fc17c33ef2645e6a006e0c0ee00f3d3.bindPopup%28popup_d8dd30d08ec444c8b06c4a216518a564%29%0A%20%20%20%20%20%20%20%20%3B%0A%0A%20%20%20%20%20%20%20%20%0A%20%20%20%20%0A%20%20%20%20%0A%20%20%20%20%20%20%20%20%20%20%20%20var%20marker_5d56704ca57a427792a579d56c89f7f3%20%3D%20L.marker%28%0A%20%20%20%20%20%20%20%20%20%20%20%20%20%20%20%20%5B35.048447%2C%20-85.307273%5D%2C%0A%20%20%20%20%20%20%20%20%20%20%20%20%20%20%20%20%7B%7D%0A%20%20%20%20%20%20%20%20%20%20%20%20%29.addTo%28map_c237d24abb974dfab4d7996a515209db%29%3B%0A%20%20%20%20%20%20%20%20%0A%20%20%20%20%0A%20%20%20%20%20%20%20%20var%20popup_235647e925174ddf992e72b482e80879%20%3D%20L.popup%28%7B%22maxWidth%22%3A%20%22100%25%22%7D%29%3B%0A%0A%20%20%20%20%20%20%20%20%0A%20%20%20%20%20%20%20%20%20%20%20%20var%20html_13ad2c605a99470185f1e13d4e0e3002%20%3D%20%24%28%60%3Cdiv%20id%3D%22html_13ad2c605a99470185f1e13d4e0e3002%22%20style%3D%22width%3A%20100.0%25%3B%20height%3A%20100.0%25%3B%22%3E997%3C/div%3E%60%29%5B0%5D%3B%0A%20%20%20%20%20%20%20%20%20%20%20%20popup_235647e925174ddf992e72b482e80879.setContent%28html_13ad2c605a99470185f1e13d4e0e3002%29%3B%0A%20%20%20%20%20%20%20%20%0A%0A%20%20%20%20%20%20%20%20marker_5d56704ca57a427792a579d56c89f7f3.bindPopup%28popup_235647e925174ddf992e72b482e80879%29%0A%20%20%20%20%20%20%20%20%3B%0A%0A%20%20%20%20%20%20%20%20%0A%20%20%20%20%0A%20%20%20%20%0A%20%20%20%20%20%20%20%20%20%20%20%20var%20marker_4ede449a616545b5946d16ef0cd616e0%20%3D%20L.marker%28%0A%20%20%20%20%20%20%20%20%20%20%20%20%20%20%20%20%5B35.046877%2C%20-85.304015%5D%2C%0A%20%20%20%20%20%20%20%20%20%20%20%20%20%20%20%20%7B%7D%0A%20%20%20%20%20%20%20%20%20%20%20%20%29.addTo%28map_c237d24abb974dfab4d7996a515209db%29%3B%0A%20%20%20%20%20%20%20%20%0A%20%20%20%20%0A%20%20%20%20%20%20%20%20var%20popup_cdd50e08f97c4dfaa99a5b8ce9a23cf8%20%3D%20L.popup%28%7B%22maxWidth%22%3A%20%22100%25%22%7D%29%3B%0A%0A%20%20%20%20%20%20%20%20%0A%20%20%20%20%20%20%20%20%20%20%20%20var%20html_da7c991d3ff04e32867d46686f610c6b%20%3D%20%24%28%60%3Cdiv%20id%3D%22html_da7c991d3ff04e32867d46686f610c6b%22%20style%3D%22width%3A%20100.0%25%3B%20height%3A%20100.0%25%3B%22%3E413%3C/div%3E%60%29%5B0%5D%3B%0A%20%20%20%20%20%20%20%20%20%20%20%20popup_cdd50e08f97c4dfaa99a5b8ce9a23cf8.setContent%28html_da7c991d3ff04e32867d46686f610c6b%29%3B%0A%20%20%20%20%20%20%20%20%0A%0A%20%20%20%20%20%20%20%20marker_4ede449a616545b5946d16ef0cd616e0.bindPopup%28popup_cdd50e08f97c4dfaa99a5b8ce9a23cf8%29%0A%20%20%20%20%20%20%20%20%3B%0A%0A%20%20%20%20%20%20%20%20%0A%20%20%20%20%0A%20%20%20%20%0A%20%20%20%20%20%20%20%20%20%20%20%20var%20marker_f88eac8890e946cfae5806d1a0d024bd%20%3D%20L.marker%28%0A%20%20%20%20%20%20%20%20%20%20%20%20%20%20%20%20%5B35.04741%2C%20-85.305415%5D%2C%0A%20%20%20%20%20%20%20%20%20%20%20%20%20%20%20%20%7B%7D%0A%20%20%20%20%20%20%20%20%20%20%20%20%29.addTo%28map_c237d24abb974dfab4d7996a515209db%29%3B%0A%20%20%20%20%20%20%20%20%0A%20%20%20%20%0A%20%20%20%20%20%20%20%20var%20popup_372ba59dce6044869e2d038de5b37b3b%20%3D%20L.popup%28%7B%22maxWidth%22%3A%20%22100%25%22%7D%29%3B%0A%0A%20%20%20%20%20%20%20%20%0A%20%20%20%20%20%20%20%20%20%20%20%20var%20html_921bd5c0b1354e6f9d80536891385212%20%3D%20%24%28%60%3Cdiv%20id%3D%22html_921bd5c0b1354e6f9d80536891385212%22%20style%3D%22width%3A%20100.0%25%3B%20height%3A%20100.0%25%3B%22%3E996%3C/div%3E%60%29%5B0%5D%3B%0A%20%20%20%20%20%20%20%20%20%20%20%20popup_372ba59dce6044869e2d038de5b37b3b.setContent%28html_921bd5c0b1354e6f9d80536891385212%29%3B%0A%20%20%20%20%20%20%20%20%0A%0A%20%20%20%20%20%20%20%20marker_f88eac8890e946cfae5806d1a0d024bd.bindPopup%28popup_372ba59dce6044869e2d038de5b37b3b%29%0A%20%20%20%20%20%20%20%20%3B%0A%0A%20%20%20%20%20%20%20%20%0A%20%20%20%20%0A%20%20%20%20%0A%20%20%20%20%20%20%20%20%20%20%20%20var%20marker_cbe31f5f7df142f79dd150ad98b4fd6f%20%3D%20L.marker%28%0A%20%20%20%20%20%20%20%20%20%20%20%20%20%20%20%20%5B35.046457%2C%20-85.302903%5D%2C%0A%20%20%20%20%20%20%20%20%20%20%20%20%20%20%20%20%7B%7D%0A%20%20%20%20%20%20%20%20%20%20%20%20%29.addTo%28map_c237d24abb974dfab4d7996a515209db%29%3B%0A%20%20%20%20%20%20%20%20%0A%20%20%20%20%0A%20%20%20%20%20%20%20%20var%20popup_44649fee8eb04a0484e2da7b80f1a3a1%20%3D%20L.popup%28%7B%22maxWidth%22%3A%20%22100%25%22%7D%29%3B%0A%0A%20%20%20%20%20%20%20%20%0A%20%20%20%20%20%20%20%20%20%20%20%20var%20html_9c42d62b9e50498b92a1329e9f56f716%20%3D%20%24%28%60%3Cdiv%20id%3D%22html_9c42d62b9e50498b92a1329e9f56f716%22%20style%3D%22width%3A%20100.0%25%3B%20height%3A%20100.0%25%3B%22%3E412%3C/div%3E%60%29%5B0%5D%3B%0A%20%20%20%20%20%20%20%20%20%20%20%20popup_44649fee8eb04a0484e2da7b80f1a3a1.setContent%28html_9c42d62b9e50498b92a1329e9f56f716%29%3B%0A%20%20%20%20%20%20%20%20%0A%0A%20%20%20%20%20%20%20%20marker_cbe31f5f7df142f79dd150ad98b4fd6f.bindPopup%28popup_44649fee8eb04a0484e2da7b80f1a3a1%29%0A%20%20%20%20%20%20%20%20%3B%0A%0A%20%20%20%20%20%20%20%20%0A%20%20%20%20%0A%20%20%20%20%0A%20%20%20%20%20%20%20%20%20%20%20%20var%20marker_0e96ea1f3dd14795b918ac7325b342cf%20%3D%20L.marker%28%0A%20%20%20%20%20%20%20%20%20%20%20%20%20%20%20%20%5B35.009385%2C%20-85.320912%5D%2C%0A%20%20%20%20%20%20%20%20%20%20%20%20%20%20%20%20%7B%7D%0A%20%20%20%20%20%20%20%20%20%20%20%20%29.addTo%28map_c237d24abb974dfab4d7996a515209db%29%3B%0A%20%20%20%20%20%20%20%20%0A%20%20%20%20%0A%20%20%20%20%20%20%20%20var%20popup_c7cb7f529624456b8db3ebac68a97f15%20%3D%20L.popup%28%7B%22maxWidth%22%3A%20%22100%25%22%7D%29%3B%0A%0A%20%20%20%20%20%20%20%20%0A%20%20%20%20%20%20%20%20%20%20%20%20var%20html_4a6a1c8449594f64a414001449bbec21%20%3D%20%24%28%60%3Cdiv%20id%3D%22html_4a6a1c8449594f64a414001449bbec21%22%20style%3D%22width%3A%20100.0%25%3B%20height%3A%20100.0%25%3B%22%3E114%3C/div%3E%60%29%5B0%5D%3B%0A%20%20%20%20%20%20%20%20%20%20%20%20popup_c7cb7f529624456b8db3ebac68a97f15.setContent%28html_4a6a1c8449594f64a414001449bbec21%29%3B%0A%20%20%20%20%20%20%20%20%0A%0A%20%20%20%20%20%20%20%20marker_0e96ea1f3dd14795b918ac7325b342cf.bindPopup%28popup_c7cb7f529624456b8db3ebac68a97f15%29%0A%20%20%20%20%20%20%20%20%3B%0A%0A%20%20%20%20%20%20%20%20%0A%20%20%20%20%0A%20%20%20%20%0A%20%20%20%20%20%20%20%20%20%20%20%20var%20marker_0d6e3fdb2a2e4d7e8c38471d520a9ea6%20%3D%20L.marker%28%0A%20%20%20%20%20%20%20%20%20%20%20%20%20%20%20%20%5B35.01059%2C%20-85.320022%5D%2C%0A%20%20%20%20%20%20%20%20%20%20%20%20%20%20%20%20%7B%7D%0A%20%20%20%20%20%20%20%20%20%20%20%20%29.addTo%28map_c237d24abb974dfab4d7996a515209db%29%3B%0A%20%20%20%20%20%20%20%20%0A%20%20%20%20%0A%20%20%20%20%20%20%20%20var%20popup_90c808c34cff4f87b58a04990f1d887a%20%3D%20L.popup%28%7B%22maxWidth%22%3A%20%22100%25%22%7D%29%3B%0A%0A%20%20%20%20%20%20%20%20%0A%20%20%20%20%20%20%20%20%20%20%20%20var%20html_2c7e5f750ee34d549f15a6d3177d5849%20%3D%20%24%28%60%3Cdiv%20id%3D%22html_2c7e5f750ee34d549f15a6d3177d5849%22%20style%3D%22width%3A%20100.0%25%3B%20height%3A%20100.0%25%3B%22%3E113%3C/div%3E%60%29%5B0%5D%3B%0A%20%20%20%20%20%20%20%20%20%20%20%20popup_90c808c34cff4f87b58a04990f1d887a.setContent%28html_2c7e5f750ee34d549f15a6d3177d5849%29%3B%0A%20%20%20%20%20%20%20%20%0A%0A%20%20%20%20%20%20%20%20marker_0d6e3fdb2a2e4d7e8c38471d520a9ea6.bindPopup%28popup_90c808c34cff4f87b58a04990f1d887a%29%0A%20%20%20%20%20%20%20%20%3B%0A%0A%20%20%20%20%20%20%20%20%0A%20%20%20%20%0A%20%20%20%20%0A%20%20%20%20%20%20%20%20%20%20%20%20var%20marker_3292fdf8e0a14bdd8cfdcb7066bda22a%20%3D%20L.marker%28%0A%20%20%20%20%20%20%20%20%20%20%20%20%20%20%20%20%5B35.008372%2C%20-85.321468%5D%2C%0A%20%20%20%20%20%20%20%20%20%20%20%20%20%20%20%20%7B%7D%0A%20%20%20%20%20%20%20%20%20%20%20%20%29.addTo%28map_c237d24abb974dfab4d7996a515209db%29%3B%0A%20%20%20%20%20%20%20%20%0A%20%20%20%20%0A%20%20%20%20%20%20%20%20var%20popup_86d3485d87c54739aff3249534679efc%20%3D%20L.popup%28%7B%22maxWidth%22%3A%20%22100%25%22%7D%29%3B%0A%0A%20%20%20%20%20%20%20%20%0A%20%20%20%20%20%20%20%20%20%20%20%20var%20html_ccf218de8cc0457e9efb0c4e97215815%20%3D%20%24%28%60%3Cdiv%20id%3D%22html_ccf218de8cc0457e9efb0c4e97215815%22%20style%3D%22width%3A%20100.0%25%3B%20height%3A%20100.0%25%3B%22%3E115%3C/div%3E%60%29%5B0%5D%3B%0A%20%20%20%20%20%20%20%20%20%20%20%20popup_86d3485d87c54739aff3249534679efc.setContent%28html_ccf218de8cc0457e9efb0c4e97215815%29%3B%0A%20%20%20%20%20%20%20%20%0A%0A%20%20%20%20%20%20%20%20marker_3292fdf8e0a14bdd8cfdcb7066bda22a.bindPopup%28popup_86d3485d87c54739aff3249534679efc%29%0A%20%20%20%20%20%20%20%20%3B%0A%0A%20%20%20%20%20%20%20%20%0A%20%20%20%20%0A%20%20%20%20%0A%20%20%20%20%20%20%20%20%20%20%20%20var%20marker_530e9544502a41b494724ef4ca707381%20%3D%20L.marker%28%0A%20%20%20%20%20%20%20%20%20%20%20%20%20%20%20%20%5B35.008213%2C%20-85.322787%5D%2C%0A%20%20%20%20%20%20%20%20%20%20%20%20%20%20%20%20%7B%7D%0A%20%20%20%20%20%20%20%20%20%20%20%20%29.addTo%28map_c237d24abb974dfab4d7996a515209db%29%3B%0A%20%20%20%20%20%20%20%20%0A%20%20%20%20%0A%20%20%20%20%20%20%20%20var%20popup_0887cf2fc04a43cea3798ca628285d0a%20%3D%20L.popup%28%7B%22maxWidth%22%3A%20%22100%25%22%7D%29%3B%0A%0A%20%20%20%20%20%20%20%20%0A%20%20%20%20%20%20%20%20%20%20%20%20var%20html_180969fc50b04b9484a601b2b6e1a136%20%3D%20%24%28%60%3Cdiv%20id%3D%22html_180969fc50b04b9484a601b2b6e1a136%22%20style%3D%22width%3A%20100.0%25%3B%20height%3A%20100.0%25%3B%22%3E116%3C/div%3E%60%29%5B0%5D%3B%0A%20%20%20%20%20%20%20%20%20%20%20%20popup_0887cf2fc04a43cea3798ca628285d0a.setContent%28html_180969fc50b04b9484a601b2b6e1a136%29%3B%0A%20%20%20%20%20%20%20%20%0A%0A%20%20%20%20%20%20%20%20marker_530e9544502a41b494724ef4ca707381.bindPopup%28popup_0887cf2fc04a43cea3798ca628285d0a%29%0A%20%20%20%20%20%20%20%20%3B%0A%0A%20%20%20%20%20%20%20%20%0A%20%20%20%20%0A%20%20%20%20%0A%20%20%20%20%20%20%20%20%20%20%20%20var%20marker_7b24ca50ad3c4ccbba425c69e3f1aa24%20%3D%20L.marker%28%0A%20%20%20%20%20%20%20%20%20%20%20%20%20%20%20%20%5B35.008127%2C%20-85.325267%5D%2C%0A%20%20%20%20%20%20%20%20%20%20%20%20%20%20%20%20%7B%7D%0A%20%20%20%20%20%20%20%20%20%20%20%20%29.addTo%28map_c237d24abb974dfab4d7996a515209db%29%3B%0A%20%20%20%20%20%20%20%20%0A%20%20%20%20%0A%20%20%20%20%20%20%20%20var%20popup_11edcc96e53544cf893ec7aacc7715af%20%3D%20L.popup%28%7B%22maxWidth%22%3A%20%22100%25%22%7D%29%3B%0A%0A%20%20%20%20%20%20%20%20%0A%20%20%20%20%20%20%20%20%20%20%20%20var%20html_45278bd51f7e400cb13997f9eb3aec10%20%3D%20%24%28%60%3Cdiv%20id%3D%22html_45278bd51f7e400cb13997f9eb3aec10%22%20style%3D%22width%3A%20100.0%25%3B%20height%3A%20100.0%25%3B%22%3E118%3C/div%3E%60%29%5B0%5D%3B%0A%20%20%20%20%20%20%20%20%20%20%20%20popup_11edcc96e53544cf893ec7aacc7715af.setContent%28html_45278bd51f7e400cb13997f9eb3aec10%29%3B%0A%20%20%20%20%20%20%20%20%0A%0A%20%20%20%20%20%20%20%20marker_7b24ca50ad3c4ccbba425c69e3f1aa24.bindPopup%28popup_11edcc96e53544cf893ec7aacc7715af%29%0A%20%20%20%20%20%20%20%20%3B%0A%0A%20%20%20%20%20%20%20%20%0A%20%20%20%20%0A%20%20%20%20%0A%20%20%20%20%20%20%20%20%20%20%20%20var%20marker_8e3ab90ce8404677a5bb8e14e883bdd7%20%3D%20L.marker%28%0A%20%20%20%20%20%20%20%20%20%20%20%20%20%20%20%20%5B35.048343%2C%20-85.309308%5D%2C%0A%20%20%20%20%20%20%20%20%20%20%20%20%20%20%20%20%7B%7D%0A%20%20%20%20%20%20%20%20%20%20%20%20%29.addTo%28map_c237d24abb974dfab4d7996a515209db%29%3B%0A%20%20%20%20%20%20%20%20%0A%20%20%20%20%0A%20%20%20%20%20%20%20%20var%20popup_655f90039609482b9de565e965355827%20%3D%20L.popup%28%7B%22maxWidth%22%3A%20%22100%25%22%7D%29%3B%0A%0A%20%20%20%20%20%20%20%20%0A%20%20%20%20%20%20%20%20%20%20%20%20var%20html_d70f12a73db9421284087a2fc46aad03%20%3D%20%24%28%60%3Cdiv%20id%3D%22html_d70f12a73db9421284087a2fc46aad03%22%20style%3D%22width%3A%20100.0%25%3B%20height%3A%20100.0%25%3B%22%3E999%3C/div%3E%60%29%5B0%5D%3B%0A%20%20%20%20%20%20%20%20%20%20%20%20popup_655f90039609482b9de565e965355827.setContent%28html_d70f12a73db9421284087a2fc46aad03%29%3B%0A%20%20%20%20%20%20%20%20%0A%0A%20%20%20%20%20%20%20%20marker_8e3ab90ce8404677a5bb8e14e883bdd7.bindPopup%28popup_655f90039609482b9de565e965355827%29%0A%20%20%20%20%20%20%20%20%3B%0A%0A%20%20%20%20%20%20%20%20%0A%20%20%20%20%0A%20%20%20%20%0A%20%20%20%20%20%20%20%20%20%20%20%20var%20marker_9ad92cea0b4840aca0c4f426fa3ae051%20%3D%20L.marker%28%0A%20%20%20%20%20%20%20%20%20%20%20%20%20%20%20%20%5B35.048367%2C%20-85.308338%5D%2C%0A%20%20%20%20%20%20%20%20%20%20%20%20%20%20%20%20%7B%7D%0A%20%20%20%20%20%20%20%20%20%20%20%20%29.addTo%28map_c237d24abb974dfab4d7996a515209db%29%3B%0A%20%20%20%20%20%20%20%20%0A%20%20%20%20%0A%20%20%20%20%20%20%20%20var%20popup_04290beb2c6948e9938085bf83774795%20%3D%20L.popup%28%7B%22maxWidth%22%3A%20%22100%25%22%7D%29%3B%0A%0A%20%20%20%20%20%20%20%20%0A%20%20%20%20%20%20%20%20%20%20%20%20var%20html_469b9ef58907442397abe8b7557567e3%20%3D%20%24%28%60%3Cdiv%20id%3D%22html_469b9ef58907442397abe8b7557567e3%22%20style%3D%22width%3A%20100.0%25%3B%20height%3A%20100.0%25%3B%22%3E998%3C/div%3E%60%29%5B0%5D%3B%0A%20%20%20%20%20%20%20%20%20%20%20%20popup_04290beb2c6948e9938085bf83774795.setContent%28html_469b9ef58907442397abe8b7557567e3%29%3B%0A%20%20%20%20%20%20%20%20%0A%0A%20%20%20%20%20%20%20%20marker_9ad92cea0b4840aca0c4f426fa3ae051.bindPopup%28popup_04290beb2c6948e9938085bf83774795%29%0A%20%20%20%20%20%20%20%20%3B%0A%0A%20%20%20%20%20%20%20%20%0A%20%20%20%20%0A%20%20%20%20%0A%20%20%20%20%20%20%20%20%20%20%20%20var%20marker_3126a1d4f70a4bd0b7f368678cda992a%20%3D%20L.marker%28%0A%20%20%20%20%20%20%20%20%20%20%20%20%20%20%20%20%5B35.008167%2C%20-85.324138%5D%2C%0A%20%20%20%20%20%20%20%20%20%20%20%20%20%20%20%20%7B%7D%0A%20%20%20%20%20%20%20%20%20%20%20%20%29.addTo%28map_c237d24abb974dfab4d7996a515209db%29%3B%0A%20%20%20%20%20%20%20%20%0A%20%20%20%20%0A%20%20%20%20%20%20%20%20var%20popup_06b4e2d8f7534ca28e26f35277675f51%20%3D%20L.popup%28%7B%22maxWidth%22%3A%20%22100%25%22%7D%29%3B%0A%0A%20%20%20%20%20%20%20%20%0A%20%20%20%20%20%20%20%20%20%20%20%20var%20html_894865b4a4e840edbf5af5f3b7e4a59d%20%3D%20%24%28%60%3Cdiv%20id%3D%22html_894865b4a4e840edbf5af5f3b7e4a59d%22%20style%3D%22width%3A%20100.0%25%3B%20height%3A%20100.0%25%3B%22%3E1912%3C/div%3E%60%29%5B0%5D%3B%0A%20%20%20%20%20%20%20%20%20%20%20%20popup_06b4e2d8f7534ca28e26f35277675f51.setContent%28html_894865b4a4e840edbf5af5f3b7e4a59d%29%3B%0A%20%20%20%20%20%20%20%20%0A%0A%20%20%20%20%20%20%20%20marker_3126a1d4f70a4bd0b7f368678cda992a.bindPopup%28popup_06b4e2d8f7534ca28e26f35277675f51%29%0A%20%20%20%20%20%20%20%20%3B%0A%0A%20%20%20%20%20%20%20%20%0A%20%20%20%20%0A%20%20%20%20%0A%20%20%20%20%20%20%20%20%20%20%20%20var%20marker_f196e19f193b4a08bb8098fc7d2a5e3d%20%3D%20L.marker%28%0A%20%20%20%20%20%20%20%20%20%20%20%20%20%20%20%20%5B35.011027%2C%20-85.327397%5D%2C%0A%20%20%20%20%20%20%20%20%20%20%20%20%20%20%20%20%7B%7D%0A%20%20%20%20%20%20%20%20%20%20%20%20%29.addTo%28map_c237d24abb974dfab4d7996a515209db%29%3B%0A%20%20%20%20%20%20%20%20%0A%20%20%20%20%0A%20%20%20%20%20%20%20%20var%20popup_3b192cd87da84759ae22546ada90aa1d%20%3D%20L.popup%28%7B%22maxWidth%22%3A%20%22100%25%22%7D%29%3B%0A%0A%20%20%20%20%20%20%20%20%0A%20%20%20%20%20%20%20%20%20%20%20%20var%20html_bd41c1f163e74addb5ec53be411d170f%20%3D%20%24%28%60%3Cdiv%20id%3D%22html_bd41c1f163e74addb5ec53be411d170f%22%20style%3D%22width%3A%20100.0%25%3B%20height%3A%20100.0%25%3B%22%3E1914%3C/div%3E%60%29%5B0%5D%3B%0A%20%20%20%20%20%20%20%20%20%20%20%20popup_3b192cd87da84759ae22546ada90aa1d.setContent%28html_bd41c1f163e74addb5ec53be411d170f%29%3B%0A%20%20%20%20%20%20%20%20%0A%0A%20%20%20%20%20%20%20%20marker_f196e19f193b4a08bb8098fc7d2a5e3d.bindPopup%28popup_3b192cd87da84759ae22546ada90aa1d%29%0A%20%20%20%20%20%20%20%20%3B%0A%0A%20%20%20%20%20%20%20%20%0A%20%20%20%20%0A%20%20%20%20%0A%20%20%20%20%20%20%20%20%20%20%20%20var%20marker_033d5e2519bd4de0ae48450f7a5667be%20%3D%20L.marker%28%0A%20%20%20%20%20%20%20%20%20%20%20%20%20%20%20%20%5B35.014305%2C%20-85.32506%5D%2C%0A%20%20%20%20%20%20%20%20%20%20%20%20%20%20%20%20%7B%7D%0A%20%20%20%20%20%20%20%20%20%20%20%20%29.addTo%28map_c237d24abb974dfab4d7996a515209db%29%3B%0A%20%20%20%20%20%20%20%20%0A%20%20%20%20%0A%20%20%20%20%20%20%20%20var%20popup_a11262d1fb244d519bb7671293da5274%20%3D%20L.popup%28%7B%22maxWidth%22%3A%20%22100%25%22%7D%29%3B%0A%0A%20%20%20%20%20%20%20%20%0A%20%20%20%20%20%20%20%20%20%20%20%20var%20html_3c18becbbc6a4cf4876e7718cccbea01%20%3D%20%24%28%60%3Cdiv%20id%3D%22html_3c18becbbc6a4cf4876e7718cccbea01%22%20style%3D%22width%3A%20100.0%25%3B%20height%3A%20100.0%25%3B%22%3E1684%3C/div%3E%60%29%5B0%5D%3B%0A%20%20%20%20%20%20%20%20%20%20%20%20popup_a11262d1fb244d519bb7671293da5274.setContent%28html_3c18becbbc6a4cf4876e7718cccbea01%29%3B%0A%20%20%20%20%20%20%20%20%0A%0A%20%20%20%20%20%20%20%20marker_033d5e2519bd4de0ae48450f7a5667be.bindPopup%28popup_a11262d1fb244d519bb7671293da5274%29%0A%20%20%20%20%20%20%20%20%3B%0A%0A%20%20%20%20%20%20%20%20%0A%20%20%20%20%0A%20%20%20%20%0A%20%20%20%20%20%20%20%20%20%20%20%20var%20marker_f3363a324625448f8bc55a1204be637b%20%3D%20L.marker%28%0A%20%20%20%20%20%20%20%20%20%20%20%20%20%20%20%20%5B35.012657%2C%20-85.32595%5D%2C%0A%20%20%20%20%20%20%20%20%20%20%20%20%20%20%20%20%7B%7D%0A%20%20%20%20%20%20%20%20%20%20%20%20%29.addTo%28map_c237d24abb974dfab4d7996a515209db%29%3B%0A%20%20%20%20%20%20%20%20%0A%20%20%20%20%0A%20%20%20%20%20%20%20%20var%20popup_befb6eba1b9b48f69261eec81b03b5de%20%3D%20L.popup%28%7B%22maxWidth%22%3A%20%22100%25%22%7D%29%3B%0A%0A%20%20%20%20%20%20%20%20%0A%20%20%20%20%20%20%20%20%20%20%20%20var%20html_db35351adb6b47af9a99b4903b71593e%20%3D%20%24%28%60%3Cdiv%20id%3D%22html_db35351adb6b47af9a99b4903b71593e%22%20style%3D%22width%3A%20100.0%25%3B%20height%3A%20100.0%25%3B%22%3E1488%3C/div%3E%60%29%5B0%5D%3B%0A%20%20%20%20%20%20%20%20%20%20%20%20popup_befb6eba1b9b48f69261eec81b03b5de.setContent%28html_db35351adb6b47af9a99b4903b71593e%29%3B%0A%20%20%20%20%20%20%20%20%0A%0A%20%20%20%20%20%20%20%20marker_f3363a324625448f8bc55a1204be637b.bindPopup%28popup_befb6eba1b9b48f69261eec81b03b5de%29%0A%20%20%20%20%20%20%20%20%3B%0A%0A%20%20%20%20%20%20%20%20%0A%20%20%20%20%0A%20%20%20%20%0A%20%20%20%20%20%20%20%20%20%20%20%20var%20marker_420beed78ddb4ab48a1b8a422df0005c%20%3D%20L.marker%28%0A%20%20%20%20%20%20%20%20%20%20%20%20%20%20%20%20%5B35.015212%2C%20-85.323852%5D%2C%0A%20%20%20%20%20%20%20%20%20%20%20%20%20%20%20%20%7B%7D%0A%20%20%20%20%20%20%20%20%20%20%20%20%29.addTo%28map_c237d24abb974dfab4d7996a515209db%29%3B%0A%20%20%20%20%20%20%20%20%0A%20%20%20%20%0A%20%20%20%20%20%20%20%20var%20popup_8d44459a8705446f8f86a2e5e247ad4c%20%3D%20L.popup%28%7B%22maxWidth%22%3A%20%22100%25%22%7D%29%3B%0A%0A%20%20%20%20%20%20%20%20%0A%20%20%20%20%20%20%20%20%20%20%20%20var%20html_33335ef2bb3f4943a80b9cbceb08737f%20%3D%20%24%28%60%3Cdiv%20id%3D%22html_33335ef2bb3f4943a80b9cbceb08737f%22%20style%3D%22width%3A%20100.0%25%3B%20height%3A%20100.0%25%3B%22%3E1358%3C/div%3E%60%29%5B0%5D%3B%0A%20%20%20%20%20%20%20%20%20%20%20%20popup_8d44459a8705446f8f86a2e5e247ad4c.setContent%28html_33335ef2bb3f4943a80b9cbceb08737f%29%3B%0A%20%20%20%20%20%20%20%20%0A%0A%20%20%20%20%20%20%20%20marker_420beed78ddb4ab48a1b8a422df0005c.bindPopup%28popup_8d44459a8705446f8f86a2e5e247ad4c%29%0A%20%20%20%20%20%20%20%20%3B%0A%0A%20%20%20%20%20%20%20%20%0A%20%20%20%20%0A%20%20%20%20%0A%20%20%20%20%20%20%20%20%20%20%20%20var%20marker_30252c474a164faba96b5a74fe97aa8d%20%3D%20L.marker%28%0A%20%20%20%20%20%20%20%20%20%20%20%20%20%20%20%20%5B35.016102%2C%20-85.32301%5D%2C%0A%20%20%20%20%20%20%20%20%20%20%20%20%20%20%20%20%7B%7D%0A%20%20%20%20%20%20%20%20%20%20%20%20%29.addTo%28map_c237d24abb974dfab4d7996a515209db%29%3B%0A%20%20%20%20%20%20%20%20%0A%20%20%20%20%0A%20%20%20%20%20%20%20%20var%20popup_0847d5d7dd2444e89e7c41f3b074e2d3%20%3D%20L.popup%28%7B%22maxWidth%22%3A%20%22100%25%22%7D%29%3B%0A%0A%20%20%20%20%20%20%20%20%0A%20%20%20%20%20%20%20%20%20%20%20%20var%20html_8c51ce0ed66541989ff3e578579143e2%20%3D%20%24%28%60%3Cdiv%20id%3D%22html_8c51ce0ed66541989ff3e578579143e2%22%20style%3D%22width%3A%20100.0%25%3B%20height%3A%20100.0%25%3B%22%3E1582%3C/div%3E%60%29%5B0%5D%3B%0A%20%20%20%20%20%20%20%20%20%20%20%20popup_0847d5d7dd2444e89e7c41f3b074e2d3.setContent%28html_8c51ce0ed66541989ff3e578579143e2%29%3B%0A%20%20%20%20%20%20%20%20%0A%0A%20%20%20%20%20%20%20%20marker_30252c474a164faba96b5a74fe97aa8d.bindPopup%28popup_0847d5d7dd2444e89e7c41f3b074e2d3%29%0A%20%20%20%20%20%20%20%20%3B%0A%0A%20%20%20%20%20%20%20%20%0A%20%20%20%20%0A%20%20%20%20%0A%20%20%20%20%20%20%20%20%20%20%20%20var%20marker_43fbf8d04c6c4109a39fe8f869c1b44f%20%3D%20L.marker%28%0A%20%20%20%20%20%20%20%20%20%20%20%20%20%20%20%20%5B35.017432%2C%20-85.322215%5D%2C%0A%20%20%20%20%20%20%20%20%20%20%20%20%20%20%20%20%7B%7D%0A%20%20%20%20%20%20%20%20%20%20%20%20%29.addTo%28map_c237d24abb974dfab4d7996a515209db%29%3B%0A%20%20%20%20%20%20%20%20%0A%20%20%20%20%0A%20%20%20%20%20%20%20%20var%20popup_653529dd825d491ea55603609f96fc09%20%3D%20L.popup%28%7B%22maxWidth%22%3A%20%22100%25%22%7D%29%3B%0A%0A%20%20%20%20%20%20%20%20%0A%20%20%20%20%20%20%20%20%20%20%20%20var%20html_2a494a5390ca4367a05de9d3ff857380%20%3D%20%24%28%60%3Cdiv%20id%3D%22html_2a494a5390ca4367a05de9d3ff857380%22%20style%3D%22width%3A%20100.0%25%3B%20height%3A%20100.0%25%3B%22%3E124%3C/div%3E%60%29%5B0%5D%3B%0A%20%20%20%20%20%20%20%20%20%20%20%20popup_653529dd825d491ea55603609f96fc09.setContent%28html_2a494a5390ca4367a05de9d3ff857380%29%3B%0A%20%20%20%20%20%20%20%20%0A%0A%20%20%20%20%20%20%20%20marker_43fbf8d04c6c4109a39fe8f869c1b44f.bindPopup%28popup_653529dd825d491ea55603609f96fc09%29%0A%20%20%20%20%20%20%20%20%3B%0A%0A%20%20%20%20%20%20%20%20%0A%20%20%20%20%0A%20%20%20%20%0A%20%20%20%20%20%20%20%20%20%20%20%20var%20marker_e1869d0853e144409c51c90396945c08%20%3D%20L.marker%28%0A%20%20%20%20%20%20%20%20%20%20%20%20%20%20%20%20%5B35.01727%2C%20-85.321325%5D%2C%0A%20%20%20%20%20%20%20%20%20%20%20%20%20%20%20%20%7B%7D%0A%20%20%20%20%20%20%20%20%20%20%20%20%29.addTo%28map_c237d24abb974dfab4d7996a515209db%29%3B%0A%20%20%20%20%20%20%20%20%0A%20%20%20%20%0A%20%20%20%20%20%20%20%20var%20popup_89986599abf04638b683611930b038a2%20%3D%20L.popup%28%7B%22maxWidth%22%3A%20%22100%25%22%7D%29%3B%0A%0A%20%20%20%20%20%20%20%20%0A%20%20%20%20%20%20%20%20%20%20%20%20var%20html_144242d25a9247949727755b6d68be5f%20%3D%20%24%28%60%3Cdiv%20id%3D%22html_144242d25a9247949727755b6d68be5f%22%20style%3D%22width%3A%20100.0%25%3B%20height%3A%20100.0%25%3B%22%3E125%3C/div%3E%60%29%5B0%5D%3B%0A%20%20%20%20%20%20%20%20%20%20%20%20popup_89986599abf04638b683611930b038a2.setContent%28html_144242d25a9247949727755b6d68be5f%29%3B%0A%20%20%20%20%20%20%20%20%0A%0A%20%20%20%20%20%20%20%20marker_e1869d0853e144409c51c90396945c08.bindPopup%28popup_89986599abf04638b683611930b038a2%29%0A%20%20%20%20%20%20%20%20%3B%0A%0A%20%20%20%20%20%20%20%20%0A%20%20%20%20%0A%20%20%20%20%0A%20%20%20%20%20%20%20%20%20%20%20%20var%20marker_2571b947a6104f83933db04fee32c32a%20%3D%20L.marker%28%0A%20%20%20%20%20%20%20%20%20%20%20%20%20%20%20%20%5B35.016888%2C%20-85.320228%5D%2C%0A%20%20%20%20%20%20%20%20%20%20%20%20%20%20%20%20%7B%7D%0A%20%20%20%20%20%20%20%20%20%20%20%20%29.addTo%28map_c237d24abb974dfab4d7996a515209db%29%3B%0A%20%20%20%20%20%20%20%20%0A%20%20%20%20%0A%20%20%20%20%20%20%20%20var%20popup_fb717d2cf84e400eb3bace2858560605%20%3D%20L.popup%28%7B%22maxWidth%22%3A%20%22100%25%22%7D%29%3B%0A%0A%20%20%20%20%20%20%20%20%0A%20%20%20%20%20%20%20%20%20%20%20%20var%20html_387425d4f5ea429bbfcbcc5c0c506821%20%3D%20%24%28%60%3Cdiv%20id%3D%22html_387425d4f5ea429bbfcbcc5c0c506821%22%20style%3D%22width%3A%20100.0%25%3B%20height%3A%20100.0%25%3B%22%3E126%3C/div%3E%60%29%5B0%5D%3B%0A%20%20%20%20%20%20%20%20%20%20%20%20popup_fb717d2cf84e400eb3bace2858560605.setContent%28html_387425d4f5ea429bbfcbcc5c0c506821%29%3B%0A%20%20%20%20%20%20%20%20%0A%0A%20%20%20%20%20%20%20%20marker_2571b947a6104f83933db04fee32c32a.bindPopup%28popup_fb717d2cf84e400eb3bace2858560605%29%0A%20%20%20%20%20%20%20%20%3B%0A%0A%20%20%20%20%20%20%20%20%0A%20%20%20%20%0A%20%20%20%20%0A%20%20%20%20%20%20%20%20%20%20%20%20var%20marker_0c49f7b30621451eaeda2f42e528b6aa%20%3D%20L.marker%28%0A%20%20%20%20%20%20%20%20%20%20%20%20%20%20%20%20%5B35.01647%2C%20-85.319037%5D%2C%0A%20%20%20%20%20%20%20%20%20%20%20%20%20%20%20%20%7B%7D%0A%20%20%20%20%20%20%20%20%20%20%20%20%29.addTo%28map_c237d24abb974dfab4d7996a515209db%29%3B%0A%20%20%20%20%20%20%20%20%0A%20%20%20%20%0A%20%20%20%20%20%20%20%20var%20popup_ad4f7f37bf5a4f659d21a13168dff80e%20%3D%20L.popup%28%7B%22maxWidth%22%3A%20%22100%25%22%7D%29%3B%0A%0A%20%20%20%20%20%20%20%20%0A%20%20%20%20%20%20%20%20%20%20%20%20var%20html_f0602a598f994721a9804efd03e7359f%20%3D%20%24%28%60%3Cdiv%20id%3D%22html_f0602a598f994721a9804efd03e7359f%22%20style%3D%22width%3A%20100.0%25%3B%20height%3A%20100.0%25%3B%22%3E127%3C/div%3E%60%29%5B0%5D%3B%0A%20%20%20%20%20%20%20%20%20%20%20%20popup_ad4f7f37bf5a4f659d21a13168dff80e.setContent%28html_f0602a598f994721a9804efd03e7359f%29%3B%0A%20%20%20%20%20%20%20%20%0A%0A%20%20%20%20%20%20%20%20marker_0c49f7b30621451eaeda2f42e528b6aa.bindPopup%28popup_ad4f7f37bf5a4f659d21a13168dff80e%29%0A%20%20%20%20%20%20%20%20%3B%0A%0A%20%20%20%20%20%20%20%20%0A%20%20%20%20%0A%20%20%20%20%0A%20%20%20%20%20%20%20%20%20%20%20%20var%20marker_0c7f2e9ffccb44169ee81a71f0c61a9b%20%3D%20L.marker%28%0A%20%20%20%20%20%20%20%20%20%20%20%20%20%20%20%20%5B35.014933%2C%20-85.314602%5D%2C%0A%20%20%20%20%20%20%20%20%20%20%20%20%20%20%20%20%7B%7D%0A%20%20%20%20%20%20%20%20%20%20%20%20%29.addTo%28map_c237d24abb974dfab4d7996a515209db%29%3B%0A%20%20%20%20%20%20%20%20%0A%20%20%20%20%0A%20%20%20%20%20%20%20%20var%20popup_5f18343701a4477e9ee28d6c60e16c72%20%3D%20L.popup%28%7B%22maxWidth%22%3A%20%22100%25%22%7D%29%3B%0A%0A%20%20%20%20%20%20%20%20%0A%20%20%20%20%20%20%20%20%20%20%20%20var%20html_4db9e8a727c840bf8ba4f3b36c8ce34e%20%3D%20%24%28%60%3Cdiv%20id%3D%22html_4db9e8a727c840bf8ba4f3b36c8ce34e%22%20style%3D%22width%3A%20100.0%25%3B%20height%3A%20100.0%25%3B%22%3E130%3C/div%3E%60%29%5B0%5D%3B%0A%20%20%20%20%20%20%20%20%20%20%20%20popup_5f18343701a4477e9ee28d6c60e16c72.setContent%28html_4db9e8a727c840bf8ba4f3b36c8ce34e%29%3B%0A%20%20%20%20%20%20%20%20%0A%0A%20%20%20%20%20%20%20%20marker_0c7f2e9ffccb44169ee81a71f0c61a9b.bindPopup%28popup_5f18343701a4477e9ee28d6c60e16c72%29%0A%20%20%20%20%20%20%20%20%3B%0A%0A%20%20%20%20%20%20%20%20%0A%20%20%20%20%0A%20%20%20%20%0A%20%20%20%20%20%20%20%20%20%20%20%20var%20marker_872df373e366441f976d09fda5605b6a%20%3D%20L.marker%28%0A%20%20%20%20%20%20%20%20%20%20%20%20%20%20%20%20%5B35.015752%2C%20-85.31697%5D%2C%0A%20%20%20%20%20%20%20%20%20%20%20%20%20%20%20%20%7B%7D%0A%20%20%20%20%20%20%20%20%20%20%20%20%29.addTo%28map_c237d24abb974dfab4d7996a515209db%29%3B%0A%20%20%20%20%20%20%20%20%0A%20%20%20%20%0A%20%20%20%20%20%20%20%20var%20popup_3ee5c06d91924622a6369f5e29c0b774%20%3D%20L.popup%28%7B%22maxWidth%22%3A%20%22100%25%22%7D%29%3B%0A%0A%20%20%20%20%20%20%20%20%0A%20%20%20%20%20%20%20%20%20%20%20%20var%20html_9630363eaae540ed8cfc2e12728817ba%20%3D%20%24%28%60%3Cdiv%20id%3D%22html_9630363eaae540ed8cfc2e12728817ba%22%20style%3D%22width%3A%20100.0%25%3B%20height%3A%20100.0%25%3B%22%3E129%3C/div%3E%60%29%5B0%5D%3B%0A%20%20%20%20%20%20%20%20%20%20%20%20popup_3ee5c06d91924622a6369f5e29c0b774.setContent%28html_9630363eaae540ed8cfc2e12728817ba%29%3B%0A%20%20%20%20%20%20%20%20%0A%0A%20%20%20%20%20%20%20%20marker_872df373e366441f976d09fda5605b6a.bindPopup%28popup_3ee5c06d91924622a6369f5e29c0b774%29%0A%20%20%20%20%20%20%20%20%3B%0A%0A%20%20%20%20%20%20%20%20%0A%20%20%20%20%0A%20%20%20%20%0A%20%20%20%20%20%20%20%20%20%20%20%20var%20marker_8a6352d46cd74dc198357d56ae62d585%20%3D%20L.marker%28%0A%20%20%20%20%20%20%20%20%20%20%20%20%20%20%20%20%5B35.016097%2C%20-85.317972%5D%2C%0A%20%20%20%20%20%20%20%20%20%20%20%20%20%20%20%20%7B%7D%0A%20%20%20%20%20%20%20%20%20%20%20%20%29.addTo%28map_c237d24abb974dfab4d7996a515209db%29%3B%0A%20%20%20%20%20%20%20%20%0A%20%20%20%20%0A%20%20%20%20%20%20%20%20var%20popup_6560bc9f731948b88c196bebd6cc7569%20%3D%20L.popup%28%7B%22maxWidth%22%3A%20%22100%25%22%7D%29%3B%0A%0A%20%20%20%20%20%20%20%20%0A%20%20%20%20%20%20%20%20%20%20%20%20var%20html_f2c3c3eea4bf4cfea99112509c3096e0%20%3D%20%24%28%60%3Cdiv%20id%3D%22html_f2c3c3eea4bf4cfea99112509c3096e0%22%20style%3D%22width%3A%20100.0%25%3B%20height%3A%20100.0%25%3B%22%3E128%3C/div%3E%60%29%5B0%5D%3B%0A%20%20%20%20%20%20%20%20%20%20%20%20popup_6560bc9f731948b88c196bebd6cc7569.setContent%28html_f2c3c3eea4bf4cfea99112509c3096e0%29%3B%0A%20%20%20%20%20%20%20%20%0A%0A%20%20%20%20%20%20%20%20marker_8a6352d46cd74dc198357d56ae62d585.bindPopup%28popup_6560bc9f731948b88c196bebd6cc7569%29%0A%20%20%20%20%20%20%20%20%3B%0A%0A%20%20%20%20%20%20%20%20%0A%20%20%20%20%0A%20%20%20%20%0A%20%20%20%20%20%20%20%20%20%20%20%20var%20marker_0364e0fccdda4ce585b37217469d1044%20%3D%20L.marker%28%0A%20%20%20%20%20%20%20%20%20%20%20%20%20%20%20%20%5B35.017273%2C%20-85.312997%5D%2C%0A%20%20%20%20%20%20%20%20%20%20%20%20%20%20%20%20%7B%7D%0A%20%20%20%20%20%20%20%20%20%20%20%20%29.addTo%28map_c237d24abb974dfab4d7996a515209db%29%3B%0A%20%20%20%20%20%20%20%20%0A%20%20%20%20%0A%20%20%20%20%20%20%20%20var%20popup_0f4bc0715ec54853ac238b9b543316fd%20%3D%20L.popup%28%7B%22maxWidth%22%3A%20%22100%25%22%7D%29%3B%0A%0A%20%20%20%20%20%20%20%20%0A%20%20%20%20%20%20%20%20%20%20%20%20var%20html_bd90d65293a04e0795439661dc79e5e3%20%3D%20%24%28%60%3Cdiv%20id%3D%22html_bd90d65293a04e0795439661dc79e5e3%22%20style%3D%22width%3A%20100.0%25%3B%20height%3A%20100.0%25%3B%22%3E132%3C/div%3E%60%29%5B0%5D%3B%0A%20%20%20%20%20%20%20%20%20%20%20%20popup_0f4bc0715ec54853ac238b9b543316fd.setContent%28html_bd90d65293a04e0795439661dc79e5e3%29%3B%0A%20%20%20%20%20%20%20%20%0A%0A%20%20%20%20%20%20%20%20marker_0364e0fccdda4ce585b37217469d1044.bindPopup%28popup_0f4bc0715ec54853ac238b9b543316fd%29%0A%20%20%20%20%20%20%20%20%3B%0A%0A%20%20%20%20%20%20%20%20%0A%20%20%20%20%0A%20%20%20%20%0A%20%20%20%20%20%20%20%20%20%20%20%20var%20marker_306e027d0d9345c7958050470dde6c7f%20%3D%20L.marker%28%0A%20%20%20%20%20%20%20%20%20%20%20%20%20%20%20%20%5B35.018855%2C%20-85.312105%5D%2C%0A%20%20%20%20%20%20%20%20%20%20%20%20%20%20%20%20%7B%7D%0A%20%20%20%20%20%20%20%20%20%20%20%20%29.addTo%28map_c237d24abb974dfab4d7996a515209db%29%3B%0A%20%20%20%20%20%20%20%20%0A%20%20%20%20%0A%20%20%20%20%20%20%20%20var%20popup_baa9f54f623049b4be8b157984f1b00d%20%3D%20L.popup%28%7B%22maxWidth%22%3A%20%22100%25%22%7D%29%3B%0A%0A%20%20%20%20%20%20%20%20%0A%20%20%20%20%20%20%20%20%20%20%20%20var%20html_e6c3cad945724a4484d98bed2a02c434%20%3D%20%24%28%60%3Cdiv%20id%3D%22html_e6c3cad945724a4484d98bed2a02c434%22%20style%3D%22width%3A%20100.0%25%3B%20height%3A%20100.0%25%3B%22%3E133%3C/div%3E%60%29%5B0%5D%3B%0A%20%20%20%20%20%20%20%20%20%20%20%20popup_baa9f54f623049b4be8b157984f1b00d.setContent%28html_e6c3cad945724a4484d98bed2a02c434%29%3B%0A%20%20%20%20%20%20%20%20%0A%0A%20%20%20%20%20%20%20%20marker_306e027d0d9345c7958050470dde6c7f.bindPopup%28popup_baa9f54f623049b4be8b157984f1b00d%29%0A%20%20%20%20%20%20%20%20%3B%0A%0A%20%20%20%20%20%20%20%20%0A%20%20%20%20%0A%20%20%20%20%0A%20%20%20%20%20%20%20%20%20%20%20%20var%20marker_9d4c7f55dd1a41e2a440a66f0bdddc49%20%3D%20L.marker%28%0A%20%20%20%20%20%20%20%20%20%20%20%20%20%20%20%20%5B35.019952%2C%20-85.311502%5D%2C%0A%20%20%20%20%20%20%20%20%20%20%20%20%20%20%20%20%7B%7D%0A%20%20%20%20%20%20%20%20%20%20%20%20%29.addTo%28map_c237d24abb974dfab4d7996a515209db%29%3B%0A%20%20%20%20%20%20%20%20%0A%20%20%20%20%0A%20%20%20%20%20%20%20%20var%20popup_97eb3bf0cd114e7dbf42de512a3d5a57%20%3D%20L.popup%28%7B%22maxWidth%22%3A%20%22100%25%22%7D%29%3B%0A%0A%20%20%20%20%20%20%20%20%0A%20%20%20%20%20%20%20%20%20%20%20%20var%20html_fdb04b07eadc45399ea043fdc84d686e%20%3D%20%24%28%60%3Cdiv%20id%3D%22html_fdb04b07eadc45399ea043fdc84d686e%22%20style%3D%22width%3A%20100.0%25%3B%20height%3A%20100.0%25%3B%22%3E134%3C/div%3E%60%29%5B0%5D%3B%0A%20%20%20%20%20%20%20%20%20%20%20%20popup_97eb3bf0cd114e7dbf42de512a3d5a57.setContent%28html_fdb04b07eadc45399ea043fdc84d686e%29%3B%0A%20%20%20%20%20%20%20%20%0A%0A%20%20%20%20%20%20%20%20marker_9d4c7f55dd1a41e2a440a66f0bdddc49.bindPopup%28popup_97eb3bf0cd114e7dbf42de512a3d5a57%29%0A%20%20%20%20%20%20%20%20%3B%0A%0A%20%20%20%20%20%20%20%20%0A%20%20%20%20%0A%20%20%20%20%0A%20%20%20%20%20%20%20%20%20%20%20%20var%20marker_7f649b219cf14ee697528aebd1295ac5%20%3D%20L.marker%28%0A%20%20%20%20%20%20%20%20%20%20%20%20%20%20%20%20%5B35.025455%2C%20-85.31155%5D%2C%0A%20%20%20%20%20%20%20%20%20%20%20%20%20%20%20%20%7B%7D%0A%20%20%20%20%20%20%20%20%20%20%20%20%29.addTo%28map_c237d24abb974dfab4d7996a515209db%29%3B%0A%20%20%20%20%20%20%20%20%0A%20%20%20%20%0A%20%20%20%20%20%20%20%20var%20popup_3639f95b725a4fbf830f31ba5013bbb5%20%3D%20L.popup%28%7B%22maxWidth%22%3A%20%22100%25%22%7D%29%3B%0A%0A%20%20%20%20%20%20%20%20%0A%20%20%20%20%20%20%20%20%20%20%20%20var%20html_77bd632157fd4faca1ed0214af2becc1%20%3D%20%24%28%60%3Cdiv%20id%3D%22html_77bd632157fd4faca1ed0214af2becc1%22%20style%3D%22width%3A%20100.0%25%3B%20height%3A%20100.0%25%3B%22%3E136%3C/div%3E%60%29%5B0%5D%3B%0A%20%20%20%20%20%20%20%20%20%20%20%20popup_3639f95b725a4fbf830f31ba5013bbb5.setContent%28html_77bd632157fd4faca1ed0214af2becc1%29%3B%0A%20%20%20%20%20%20%20%20%0A%0A%20%20%20%20%20%20%20%20marker_7f649b219cf14ee697528aebd1295ac5.bindPopup%28popup_3639f95b725a4fbf830f31ba5013bbb5%29%0A%20%20%20%20%20%20%20%20%3B%0A%0A%20%20%20%20%20%20%20%20%0A%20%20%20%20%0A%20%20%20%20%0A%20%20%20%20%20%20%20%20%20%20%20%20var%20marker_e34b7736693b403d9290d7a4615b70f7%20%3D%20L.marker%28%0A%20%20%20%20%20%20%20%20%20%20%20%20%20%20%20%20%5B35.026485%2C%20-85.310993%5D%2C%0A%20%20%20%20%20%20%20%20%20%20%20%20%20%20%20%20%7B%7D%0A%20%20%20%20%20%20%20%20%20%20%20%20%29.addTo%28map_c237d24abb974dfab4d7996a515209db%29%3B%0A%20%20%20%20%20%20%20%20%0A%20%20%20%20%0A%20%20%20%20%20%20%20%20var%20popup_bab157b6c2b140f7a9c4a806b2d21635%20%3D%20L.popup%28%7B%22maxWidth%22%3A%20%22100%25%22%7D%29%3B%0A%0A%20%20%20%20%20%20%20%20%0A%20%20%20%20%20%20%20%20%20%20%20%20var%20html_c0e275d10e434680aa3d6f9657b36807%20%3D%20%24%28%60%3Cdiv%20id%3D%22html_c0e275d10e434680aa3d6f9657b36807%22%20style%3D%22width%3A%20100.0%25%3B%20height%3A%20100.0%25%3B%22%3E137%3C/div%3E%60%29%5B0%5D%3B%0A%20%20%20%20%20%20%20%20%20%20%20%20popup_bab157b6c2b140f7a9c4a806b2d21635.setContent%28html_c0e275d10e434680aa3d6f9657b36807%29%3B%0A%20%20%20%20%20%20%20%20%0A%0A%20%20%20%20%20%20%20%20marker_e34b7736693b403d9290d7a4615b70f7.bindPopup%28popup_bab157b6c2b140f7a9c4a806b2d21635%29%0A%20%20%20%20%20%20%20%20%3B%0A%0A%20%20%20%20%20%20%20%20%0A%20%20%20%20%0A%20%20%20%20%0A%20%20%20%20%20%20%20%20%20%20%20%20var%20marker_49810a034270437f870b8f8ea792c36a%20%3D%20L.marker%28%0A%20%20%20%20%20%20%20%20%20%20%20%20%20%20%20%20%5B35.030812%2C%20-85.3088%5D%2C%0A%20%20%20%20%20%20%20%20%20%20%20%20%20%20%20%20%7B%7D%0A%20%20%20%20%20%20%20%20%20%20%20%20%29.addTo%28map_c237d24abb974dfab4d7996a515209db%29%3B%0A%20%20%20%20%20%20%20%20%0A%20%20%20%20%0A%20%20%20%20%20%20%20%20var%20popup_b31c6bc247d344f79f2537eabf5fb102%20%3D%20L.popup%28%7B%22maxWidth%22%3A%20%22100%25%22%7D%29%3B%0A%0A%20%20%20%20%20%20%20%20%0A%20%20%20%20%20%20%20%20%20%20%20%20var%20html_6abc842f0b644cfb9bd8dc1119a9aa08%20%3D%20%24%28%60%3Cdiv%20id%3D%22html_6abc842f0b644cfb9bd8dc1119a9aa08%22%20style%3D%22width%3A%20100.0%25%3B%20height%3A%20100.0%25%3B%22%3E1487%3C/div%3E%60%29%5B0%5D%3B%0A%20%20%20%20%20%20%20%20%20%20%20%20popup_b31c6bc247d344f79f2537eabf5fb102.setContent%28html_6abc842f0b644cfb9bd8dc1119a9aa08%29%3B%0A%20%20%20%20%20%20%20%20%0A%0A%20%20%20%20%20%20%20%20marker_49810a034270437f870b8f8ea792c36a.bindPopup%28popup_b31c6bc247d344f79f2537eabf5fb102%29%0A%20%20%20%20%20%20%20%20%3B%0A%0A%20%20%20%20%20%20%20%20%0A%20%20%20%20%0A%20%20%20%20%0A%20%20%20%20%20%20%20%20%20%20%20%20var%20marker_7fbe0ef3007647218d43744518115e54%20%3D%20L.marker%28%0A%20%20%20%20%20%20%20%20%20%20%20%20%20%20%20%20%5B35.03227%2C%20-85.308545%5D%2C%0A%20%20%20%20%20%20%20%20%20%20%20%20%20%20%20%20%7B%7D%0A%20%20%20%20%20%20%20%20%20%20%20%20%29.addTo%28map_c237d24abb974dfab4d7996a515209db%29%3B%0A%20%20%20%20%20%20%20%20%0A%20%20%20%20%0A%20%20%20%20%20%20%20%20var%20popup_0709a527ba0a40c2b5fc304017b55afc%20%3D%20L.popup%28%7B%22maxWidth%22%3A%20%22100%25%22%7D%29%3B%0A%0A%20%20%20%20%20%20%20%20%0A%20%20%20%20%20%20%20%20%20%20%20%20var%20html_7cad378ae16548fba5dcd3ca89afd6bb%20%3D%20%24%28%60%3Cdiv%20id%3D%22html_7cad378ae16548fba5dcd3ca89afd6bb%22%20style%3D%22width%3A%20100.0%25%3B%20height%3A%20100.0%25%3B%22%3E138%3C/div%3E%60%29%5B0%5D%3B%0A%20%20%20%20%20%20%20%20%20%20%20%20popup_0709a527ba0a40c2b5fc304017b55afc.setContent%28html_7cad378ae16548fba5dcd3ca89afd6bb%29%3B%0A%20%20%20%20%20%20%20%20%0A%0A%20%20%20%20%20%20%20%20marker_7fbe0ef3007647218d43744518115e54.bindPopup%28popup_0709a527ba0a40c2b5fc304017b55afc%29%0A%20%20%20%20%20%20%20%20%3B%0A%0A%20%20%20%20%20%20%20%20%0A%20%20%20%20%0A%20%20%20%20%0A%20%20%20%20%20%20%20%20%20%20%20%20var%20marker_d68f161682db42978d48bb9f1e7a5d69%20%3D%20L.marker%28%0A%20%20%20%20%20%20%20%20%20%20%20%20%20%20%20%20%5B35.034138%2C%20-85.308195%5D%2C%0A%20%20%20%20%20%20%20%20%20%20%20%20%20%20%20%20%7B%7D%0A%20%20%20%20%20%20%20%20%20%20%20%20%29.addTo%28map_c237d24abb974dfab4d7996a515209db%29%3B%0A%20%20%20%20%20%20%20%20%0A%20%20%20%20%0A%20%20%20%20%20%20%20%20var%20popup_4eb971f5ee36426586a008bffdc7e4a9%20%3D%20L.popup%28%7B%22maxWidth%22%3A%20%22100%25%22%7D%29%3B%0A%0A%20%20%20%20%20%20%20%20%0A%20%20%20%20%20%20%20%20%20%20%20%20var%20html_f4b8e787ce864603aee29f89c6175da7%20%3D%20%24%28%60%3Cdiv%20id%3D%22html_f4b8e787ce864603aee29f89c6175da7%22%20style%3D%22width%3A%20100.0%25%3B%20height%3A%20100.0%25%3B%22%3E139%3C/div%3E%60%29%5B0%5D%3B%0A%20%20%20%20%20%20%20%20%20%20%20%20popup_4eb971f5ee36426586a008bffdc7e4a9.setContent%28html_f4b8e787ce864603aee29f89c6175da7%29%3B%0A%20%20%20%20%20%20%20%20%0A%0A%20%20%20%20%20%20%20%20marker_d68f161682db42978d48bb9f1e7a5d69.bindPopup%28popup_4eb971f5ee36426586a008bffdc7e4a9%29%0A%20%20%20%20%20%20%20%20%3B%0A%0A%20%20%20%20%20%20%20%20%0A%20%20%20%20%0A%20%20%20%20%0A%20%20%20%20%20%20%20%20%20%20%20%20var%20marker_0af1b7705a294e8bb5cc38295732cf72%20%3D%20L.marker%28%0A%20%20%20%20%20%20%20%20%20%20%20%20%20%20%20%20%5B35.035092%2C%20-85.30775%5D%2C%0A%20%20%20%20%20%20%20%20%20%20%20%20%20%20%20%20%7B%7D%0A%20%20%20%20%20%20%20%20%20%20%20%20%29.addTo%28map_c237d24abb974dfab4d7996a515209db%29%3B%0A%20%20%20%20%20%20%20%20%0A%20%20%20%20%0A%20%20%20%20%20%20%20%20var%20popup_9076558db0364f3785bdeccaed8c7bbb%20%3D%20L.popup%28%7B%22maxWidth%22%3A%20%22100%25%22%7D%29%3B%0A%0A%20%20%20%20%20%20%20%20%0A%20%20%20%20%20%20%20%20%20%20%20%20var%20html_24b2fd1497834b80923af19904da2bb4%20%3D%20%24%28%60%3Cdiv%20id%3D%22html_24b2fd1497834b80923af19904da2bb4%22%20style%3D%22width%3A%20100.0%25%3B%20height%3A%20100.0%25%3B%22%3E140%3C/div%3E%60%29%5B0%5D%3B%0A%20%20%20%20%20%20%20%20%20%20%20%20popup_9076558db0364f3785bdeccaed8c7bbb.setContent%28html_24b2fd1497834b80923af19904da2bb4%29%3B%0A%20%20%20%20%20%20%20%20%0A%0A%20%20%20%20%20%20%20%20marker_0af1b7705a294e8bb5cc38295732cf72.bindPopup%28popup_9076558db0364f3785bdeccaed8c7bbb%29%0A%20%20%20%20%20%20%20%20%3B%0A%0A%20%20%20%20%20%20%20%20%0A%20%20%20%20%0A%20%20%20%20%0A%20%20%20%20%20%20%20%20%20%20%20%20var%20marker_10295d78715c40a2b9241443e4ceffa9%20%3D%20L.marker%28%0A%20%20%20%20%20%20%20%20%20%20%20%20%20%20%20%20%5B35.035862%2C%20-85.307322%5D%2C%0A%20%20%20%20%20%20%20%20%20%20%20%20%20%20%20%20%7B%7D%0A%20%20%20%20%20%20%20%20%20%20%20%20%29.addTo%28map_c237d24abb974dfab4d7996a515209db%29%3B%0A%20%20%20%20%20%20%20%20%0A%20%20%20%20%0A%20%20%20%20%20%20%20%20var%20popup_d5ab971ee10449a99ccec204e7262dc2%20%3D%20L.popup%28%7B%22maxWidth%22%3A%20%22100%25%22%7D%29%3B%0A%0A%20%20%20%20%20%20%20%20%0A%20%20%20%20%20%20%20%20%20%20%20%20var%20html_695a3abe15ad40829b65e674a9128b6b%20%3D%20%24%28%60%3Cdiv%20id%3D%22html_695a3abe15ad40829b65e674a9128b6b%22%20style%3D%22width%3A%20100.0%25%3B%20height%3A%20100.0%25%3B%22%3E141%3C/div%3E%60%29%5B0%5D%3B%0A%20%20%20%20%20%20%20%20%20%20%20%20popup_d5ab971ee10449a99ccec204e7262dc2.setContent%28html_695a3abe15ad40829b65e674a9128b6b%29%3B%0A%20%20%20%20%20%20%20%20%0A%0A%20%20%20%20%20%20%20%20marker_10295d78715c40a2b9241443e4ceffa9.bindPopup%28popup_d5ab971ee10449a99ccec204e7262dc2%29%0A%20%20%20%20%20%20%20%20%3B%0A%0A%20%20%20%20%20%20%20%20%0A%20%20%20%20%0A%20%20%20%20%0A%20%20%20%20%20%20%20%20%20%20%20%20var%20marker_5a714879f12a4231be6aef1f0d2b8750%20%3D%20L.marker%28%0A%20%20%20%20%20%20%20%20%20%20%20%20%20%20%20%20%5B35.037463%2C%20-85.30737%5D%2C%0A%20%20%20%20%20%20%20%20%20%20%20%20%20%20%20%20%7B%7D%0A%20%20%20%20%20%20%20%20%20%20%20%20%29.addTo%28map_c237d24abb974dfab4d7996a515209db%29%3B%0A%20%20%20%20%20%20%20%20%0A%20%20%20%20%0A%20%20%20%20%20%20%20%20var%20popup_8b9f5de116b34465a8cba197dc8fe247%20%3D%20L.popup%28%7B%22maxWidth%22%3A%20%22100%25%22%7D%29%3B%0A%0A%20%20%20%20%20%20%20%20%0A%20%20%20%20%20%20%20%20%20%20%20%20var%20html_48214abaecd2414898777b7f14c05a18%20%3D%20%24%28%60%3Cdiv%20id%3D%22html_48214abaecd2414898777b7f14c05a18%22%20style%3D%22width%3A%20100.0%25%3B%20height%3A%20100.0%25%3B%22%3E142%3C/div%3E%60%29%5B0%5D%3B%0A%20%20%20%20%20%20%20%20%20%20%20%20popup_8b9f5de116b34465a8cba197dc8fe247.setContent%28html_48214abaecd2414898777b7f14c05a18%29%3B%0A%20%20%20%20%20%20%20%20%0A%0A%20%20%20%20%20%20%20%20marker_5a714879f12a4231be6aef1f0d2b8750.bindPopup%28popup_8b9f5de116b34465a8cba197dc8fe247%29%0A%20%20%20%20%20%20%20%20%3B%0A%0A%20%20%20%20%20%20%20%20%0A%20%20%20%20%0A%20%20%20%20%0A%20%20%20%20%20%20%20%20%20%20%20%20var%20marker_24c186eb0ee04ae0b16b175b0b829607%20%3D%20L.marker%28%0A%20%20%20%20%20%20%20%20%20%20%20%20%20%20%20%20%5B35.0386%2C%20-85.307433%5D%2C%0A%20%20%20%20%20%20%20%20%20%20%20%20%20%20%20%20%7B%7D%0A%20%20%20%20%20%20%20%20%20%20%20%20%29.addTo%28map_c237d24abb974dfab4d7996a515209db%29%3B%0A%20%20%20%20%20%20%20%20%0A%20%20%20%20%0A%20%20%20%20%20%20%20%20var%20popup_446e3f4499e14b0eb57022c677859de3%20%3D%20L.popup%28%7B%22maxWidth%22%3A%20%22100%25%22%7D%29%3B%0A%0A%20%20%20%20%20%20%20%20%0A%20%20%20%20%20%20%20%20%20%20%20%20var%20html_6bf9338a09c84310b9e1a7a5a4609fe6%20%3D%20%24%28%60%3Cdiv%20id%3D%22html_6bf9338a09c84310b9e1a7a5a4609fe6%22%20style%3D%22width%3A%20100.0%25%3B%20height%3A%20100.0%25%3B%22%3E143%3C/div%3E%60%29%5B0%5D%3B%0A%20%20%20%20%20%20%20%20%20%20%20%20popup_446e3f4499e14b0eb57022c677859de3.setContent%28html_6bf9338a09c84310b9e1a7a5a4609fe6%29%3B%0A%20%20%20%20%20%20%20%20%0A%0A%20%20%20%20%20%20%20%20marker_24c186eb0ee04ae0b16b175b0b829607.bindPopup%28popup_446e3f4499e14b0eb57022c677859de3%29%0A%20%20%20%20%20%20%20%20%3B%0A%0A%20%20%20%20%20%20%20%20%0A%20%20%20%20%0A%20%20%20%20%0A%20%20%20%20%20%20%20%20%20%20%20%20var%20marker_fc46f5f03eea4e6c98a818686d060053%20%3D%20L.marker%28%0A%20%20%20%20%20%20%20%20%20%20%20%20%20%20%20%20%5B35.039462%2C%20-85.307497%5D%2C%0A%20%20%20%20%20%20%20%20%20%20%20%20%20%20%20%20%7B%7D%0A%20%20%20%20%20%20%20%20%20%20%20%20%29.addTo%28map_c237d24abb974dfab4d7996a515209db%29%3B%0A%20%20%20%20%20%20%20%20%0A%20%20%20%20%0A%20%20%20%20%20%20%20%20var%20popup_e08d635021e841c9b18076d9ea47f1c0%20%3D%20L.popup%28%7B%22maxWidth%22%3A%20%22100%25%22%7D%29%3B%0A%0A%20%20%20%20%20%20%20%20%0A%20%20%20%20%20%20%20%20%20%20%20%20var%20html_941fbfd9d765402c96ced88326932884%20%3D%20%24%28%60%3Cdiv%20id%3D%22html_941fbfd9d765402c96ced88326932884%22%20style%3D%22width%3A%20100.0%25%3B%20height%3A%20100.0%25%3B%22%3E771%3C/div%3E%60%29%5B0%5D%3B%0A%20%20%20%20%20%20%20%20%20%20%20%20popup_e08d635021e841c9b18076d9ea47f1c0.setContent%28html_941fbfd9d765402c96ced88326932884%29%3B%0A%20%20%20%20%20%20%20%20%0A%0A%20%20%20%20%20%20%20%20marker_fc46f5f03eea4e6c98a818686d060053.bindPopup%28popup_e08d635021e841c9b18076d9ea47f1c0%29%0A%20%20%20%20%20%20%20%20%3B%0A%0A%20%20%20%20%20%20%20%20%0A%20%20%20%20%0A%20%20%20%20%0A%20%20%20%20%20%20%20%20%20%20%20%20var%20marker_2873639236f84b5aa83b7f6ca4d80747%20%3D%20L.marker%28%0A%20%20%20%20%20%20%20%20%20%20%20%20%20%20%20%20%5B35.041675%2C%20-85.30864%5D%2C%0A%20%20%20%20%20%20%20%20%20%20%20%20%20%20%20%20%7B%7D%0A%20%20%20%20%20%20%20%20%20%20%20%20%29.addTo%28map_c237d24abb974dfab4d7996a515209db%29%3B%0A%20%20%20%20%20%20%20%20%0A%20%20%20%20%0A%20%20%20%20%20%20%20%20var%20popup_d06afadae5fa48dfa8a101c87b922032%20%3D%20L.popup%28%7B%22maxWidth%22%3A%20%22100%25%22%7D%29%3B%0A%0A%20%20%20%20%20%20%20%20%0A%20%20%20%20%20%20%20%20%20%20%20%20var%20html_8f0bde41b9bd43c1bc5ab30234e0381f%20%3D%20%24%28%60%3Cdiv%20id%3D%22html_8f0bde41b9bd43c1bc5ab30234e0381f%22%20style%3D%22width%3A%20100.0%25%3B%20height%3A%20100.0%25%3B%22%3E145%3C/div%3E%60%29%5B0%5D%3B%0A%20%20%20%20%20%20%20%20%20%20%20%20popup_d06afadae5fa48dfa8a101c87b922032.setContent%28html_8f0bde41b9bd43c1bc5ab30234e0381f%29%3B%0A%20%20%20%20%20%20%20%20%0A%0A%20%20%20%20%20%20%20%20marker_2873639236f84b5aa83b7f6ca4d80747.bindPopup%28popup_d06afadae5fa48dfa8a101c87b922032%29%0A%20%20%20%20%20%20%20%20%3B%0A%0A%20%20%20%20%20%20%20%20%0A%20%20%20%20%0A%20%20%20%20%0A%20%20%20%20%20%20%20%20%20%20%20%20var%20marker_2c0caa0d225245d0998b6510689052a3%20%3D%20L.marker%28%0A%20%20%20%20%20%20%20%20%20%20%20%20%20%20%20%20%5B35.040257%2C%20-85.307878%5D%2C%0A%20%20%20%20%20%20%20%20%20%20%20%20%20%20%20%20%7B%7D%0A%20%20%20%20%20%20%20%20%20%20%20%20%29.addTo%28map_c237d24abb974dfab4d7996a515209db%29%3B%0A%20%20%20%20%20%20%20%20%0A%20%20%20%20%0A%20%20%20%20%20%20%20%20var%20popup_f8257e63739b4e35bc8312d5004dfa51%20%3D%20L.popup%28%7B%22maxWidth%22%3A%20%22100%25%22%7D%29%3B%0A%0A%20%20%20%20%20%20%20%20%0A%20%20%20%20%20%20%20%20%20%20%20%20var%20html_0d53bdd4170a4fd2911edf9bf025682d%20%3D%20%24%28%60%3Cdiv%20id%3D%22html_0d53bdd4170a4fd2911edf9bf025682d%22%20style%3D%22width%3A%20100.0%25%3B%20height%3A%20100.0%25%3B%22%3E144%3C/div%3E%60%29%5B0%5D%3B%0A%20%20%20%20%20%20%20%20%20%20%20%20popup_f8257e63739b4e35bc8312d5004dfa51.setContent%28html_0d53bdd4170a4fd2911edf9bf025682d%29%3B%0A%20%20%20%20%20%20%20%20%0A%0A%20%20%20%20%20%20%20%20marker_2c0caa0d225245d0998b6510689052a3.bindPopup%28popup_f8257e63739b4e35bc8312d5004dfa51%29%0A%20%20%20%20%20%20%20%20%3B%0A%0A%20%20%20%20%20%20%20%20%0A%20%20%20%20%0A%20%20%20%20%0A%20%20%20%20%20%20%20%20%20%20%20%20var%20marker_12b33d93ff6c491db162decfb696c108%20%3D%20L.marker%28%0A%20%20%20%20%20%20%20%20%20%20%20%20%20%20%20%20%5B35.04288%2C%20-85.309102%5D%2C%0A%20%20%20%20%20%20%20%20%20%20%20%20%20%20%20%20%7B%7D%0A%20%20%20%20%20%20%20%20%20%20%20%20%29.addTo%28map_c237d24abb974dfab4d7996a515209db%29%3B%0A%20%20%20%20%20%20%20%20%0A%20%20%20%20%0A%20%20%20%20%20%20%20%20var%20popup_741d8d25e41b48f98bf29fd99c2da5d9%20%3D%20L.popup%28%7B%22maxWidth%22%3A%20%22100%25%22%7D%29%3B%0A%0A%20%20%20%20%20%20%20%20%0A%20%20%20%20%20%20%20%20%20%20%20%20var%20html_32122395ae5b4cc6a1e37c7faba93cff%20%3D%20%24%28%60%3Cdiv%20id%3D%22html_32122395ae5b4cc6a1e37c7faba93cff%22%20style%3D%22width%3A%20100.0%25%3B%20height%3A%20100.0%25%3B%22%3E1560%3C/div%3E%60%29%5B0%5D%3B%0A%20%20%20%20%20%20%20%20%20%20%20%20popup_741d8d25e41b48f98bf29fd99c2da5d9.setContent%28html_32122395ae5b4cc6a1e37c7faba93cff%29%3B%0A%20%20%20%20%20%20%20%20%0A%0A%20%20%20%20%20%20%20%20marker_12b33d93ff6c491db162decfb696c108.bindPopup%28popup_741d8d25e41b48f98bf29fd99c2da5d9%29%0A%20%20%20%20%20%20%20%20%3B%0A%0A%20%20%20%20%20%20%20%20%0A%20%20%20%20%0A%20%20%20%20%0A%20%20%20%20%20%20%20%20%20%20%20%20var%20marker_5c3b18db63ae4c3b9972749134268ba4%20%3D%20L.marker%28%0A%20%20%20%20%20%20%20%20%20%20%20%20%20%20%20%20%5B35.045045%2C%20-85.309308%5D%2C%0A%20%20%20%20%20%20%20%20%20%20%20%20%20%20%20%20%7B%7D%0A%20%20%20%20%20%20%20%20%20%20%20%20%29.addTo%28map_c237d24abb974dfab4d7996a515209db%29%3B%0A%20%20%20%20%20%20%20%20%0A%20%20%20%20%0A%20%20%20%20%20%20%20%20var%20popup_f35b93f8ed3b4128b266a4c430669150%20%3D%20L.popup%28%7B%22maxWidth%22%3A%20%22100%25%22%7D%29%3B%0A%0A%20%20%20%20%20%20%20%20%0A%20%20%20%20%20%20%20%20%20%20%20%20var%20html_799684a326eb497684a822cd5e72d40f%20%3D%20%24%28%60%3Cdiv%20id%3D%22html_799684a326eb497684a822cd5e72d40f%22%20style%3D%22width%3A%20100.0%25%3B%20height%3A%20100.0%25%3B%22%3E164%3C/div%3E%60%29%5B0%5D%3B%0A%20%20%20%20%20%20%20%20%20%20%20%20popup_f35b93f8ed3b4128b266a4c430669150.setContent%28html_799684a326eb497684a822cd5e72d40f%29%3B%0A%20%20%20%20%20%20%20%20%0A%0A%20%20%20%20%20%20%20%20marker_5c3b18db63ae4c3b9972749134268ba4.bindPopup%28popup_f35b93f8ed3b4128b266a4c430669150%29%0A%20%20%20%20%20%20%20%20%3B%0A%0A%20%20%20%20%20%20%20%20%0A%20%20%20%20%0A%20%20%20%20%0A%20%20%20%20%20%20%20%20%20%20%20%20var%20marker_15509e262dfe453f841e369ad1dc6593%20%3D%20L.marker%28%0A%20%20%20%20%20%20%20%20%20%20%20%20%20%20%20%20%5B35.047342%2C%20-85.309403%5D%2C%0A%20%20%20%20%20%20%20%20%20%20%20%20%20%20%20%20%7B%7D%0A%20%20%20%20%20%20%20%20%20%20%20%20%29.addTo%28map_c237d24abb974dfab4d7996a515209db%29%3B%0A%20%20%20%20%20%20%20%20%0A%20%20%20%20%0A%20%20%20%20%20%20%20%20var%20popup_ae5bf271d4384a7683577be8cc5dff11%20%3D%20L.popup%28%7B%22maxWidth%22%3A%20%22100%25%22%7D%29%3B%0A%0A%20%20%20%20%20%20%20%20%0A%20%20%20%20%20%20%20%20%20%20%20%20var%20html_2bd64607c4e144159dd9801e64b0076b%20%3D%20%24%28%60%3Cdiv%20id%3D%22html_2bd64607c4e144159dd9801e64b0076b%22%20style%3D%22width%3A%20100.0%25%3B%20height%3A%20100.0%25%3B%22%3E1361%3C/div%3E%60%29%5B0%5D%3B%0A%20%20%20%20%20%20%20%20%20%20%20%20popup_ae5bf271d4384a7683577be8cc5dff11.setContent%28html_2bd64607c4e144159dd9801e64b0076b%29%3B%0A%20%20%20%20%20%20%20%20%0A%0A%20%20%20%20%20%20%20%20marker_15509e262dfe453f841e369ad1dc6593.bindPopup%28popup_ae5bf271d4384a7683577be8cc5dff11%29%0A%20%20%20%20%20%20%20%20%3B%0A%0A%20%20%20%20%20%20%20%20%0A%20%20%20%20%0A%20%20%20%20%0A%20%20%20%20%20%20%20%20%20%20%20%20var%20marker_180811f14f9f42d0956f246e11f26b23%20%3D%20L.marker%28%0A%20%20%20%20%20%20%20%20%20%20%20%20%20%20%20%20%5B35.046062%2C%20-85.30934%5D%2C%0A%20%20%20%20%20%20%20%20%20%20%20%20%20%20%20%20%7B%7D%0A%20%20%20%20%20%20%20%20%20%20%20%20%29.addTo%28map_c237d24abb974dfab4d7996a515209db%29%3B%0A%20%20%20%20%20%20%20%20%0A%20%20%20%20%0A%20%20%20%20%20%20%20%20var%20popup_ee019844293a48cab4bf9577799f2340%20%3D%20L.popup%28%7B%22maxWidth%22%3A%20%22100%25%22%7D%29%3B%0A%0A%20%20%20%20%20%20%20%20%0A%20%20%20%20%20%20%20%20%20%20%20%20var%20html_c1c9b3c0012d4213b07994929c8eddc5%20%3D%20%24%28%60%3Cdiv%20id%3D%22html_c1c9b3c0012d4213b07994929c8eddc5%22%20style%3D%22width%3A%20100.0%25%3B%20height%3A%20100.0%25%3B%22%3E165%3C/div%3E%60%29%5B0%5D%3B%0A%20%20%20%20%20%20%20%20%20%20%20%20popup_ee019844293a48cab4bf9577799f2340.setContent%28html_c1c9b3c0012d4213b07994929c8eddc5%29%3B%0A%20%20%20%20%20%20%20%20%0A%0A%20%20%20%20%20%20%20%20marker_180811f14f9f42d0956f246e11f26b23.bindPopup%28popup_ee019844293a48cab4bf9577799f2340%29%0A%20%20%20%20%20%20%20%20%3B%0A%0A%20%20%20%20%20%20%20%20%0A%20%20%20%20%0A%20%20%20%20%0A%20%20%20%20%20%20%20%20%20%20%20%20var%20marker_f463a58ca9b645aa9aecd04088720062%20%3D%20L.marker%28%0A%20%20%20%20%20%20%20%20%20%20%20%20%20%20%20%20%5B35.043448%2C%20-85.309277%5D%2C%0A%20%20%20%20%20%20%20%20%20%20%20%20%20%20%20%20%7B%7D%0A%20%20%20%20%20%20%20%20%20%20%20%20%29.addTo%28map_c237d24abb974dfab4d7996a515209db%29%3B%0A%20%20%20%20%20%20%20%20%0A%20%20%20%20%0A%20%20%20%20%20%20%20%20var%20popup_200e23dee50c4a49a243f2831dcb556a%20%3D%20L.popup%28%7B%22maxWidth%22%3A%20%22100%25%22%7D%29%3B%0A%0A%20%20%20%20%20%20%20%20%0A%20%20%20%20%20%20%20%20%20%20%20%20var%20html_85d1e983cdb84a5e91d6cf76d39cee10%20%3D%20%24%28%60%3Cdiv%20id%3D%22html_85d1e983cdb84a5e91d6cf76d39cee10%22%20style%3D%22width%3A%20100.0%25%3B%20height%3A%20100.0%25%3B%22%3E163%3C/div%3E%60%29%5B0%5D%3B%0A%20%20%20%20%20%20%20%20%20%20%20%20popup_200e23dee50c4a49a243f2831dcb556a.setContent%28html_85d1e983cdb84a5e91d6cf76d39cee10%29%3B%0A%20%20%20%20%20%20%20%20%0A%0A%20%20%20%20%20%20%20%20marker_f463a58ca9b645aa9aecd04088720062.bindPopup%28popup_200e23dee50c4a49a243f2831dcb556a%29%0A%20%20%20%20%20%20%20%20%3B%0A%0A%20%20%20%20%20%20%20%20%0A%20%20%20%20%0A%20%20%20%20%0A%20%20%20%20%20%20%20%20%20%20%20%20var%20marker_db1b08046e634648a51bc245232ba0b0%20%3D%20L.marker%28%0A%20%20%20%20%20%20%20%20%20%20%20%20%20%20%20%20%5B35.05072%2C%20-85.309452%5D%2C%0A%20%20%20%20%20%20%20%20%20%20%20%20%20%20%20%20%7B%7D%0A%20%20%20%20%20%20%20%20%20%20%20%20%29.addTo%28map_c237d24abb974dfab4d7996a515209db%29%3B%0A%20%20%20%20%20%20%20%20%0A%20%20%20%20%0A%20%20%20%20%20%20%20%20var%20popup_e10e4214ce554790832a4eb4d0ceb0e8%20%3D%20L.popup%28%7B%22maxWidth%22%3A%20%22100%25%22%7D%29%3B%0A%0A%20%20%20%20%20%20%20%20%0A%20%20%20%20%20%20%20%20%20%20%20%20var%20html_cf7fdcf83dbe46bdbc2f521b48441a1c%20%3D%20%24%28%60%3Cdiv%20id%3D%22html_cf7fdcf83dbe46bdbc2f521b48441a1c%22%20style%3D%22width%3A%20100.0%25%3B%20height%3A%20100.0%25%3B%22%3E166%3C/div%3E%60%29%5B0%5D%3B%0A%20%20%20%20%20%20%20%20%20%20%20%20popup_e10e4214ce554790832a4eb4d0ceb0e8.setContent%28html_cf7fdcf83dbe46bdbc2f521b48441a1c%29%3B%0A%20%20%20%20%20%20%20%20%0A%0A%20%20%20%20%20%20%20%20marker_db1b08046e634648a51bc245232ba0b0.bindPopup%28popup_e10e4214ce554790832a4eb4d0ceb0e8%29%0A%20%20%20%20%20%20%20%20%3B%0A%0A%20%20%20%20%20%20%20%20%0A%20%20%20%20%0A%20%20%20%20%0A%20%20%20%20%20%20%20%20%20%20%20%20var%20marker_aaac4a1a9dee4a5d8bc37cb327d902a0%20%3D%20L.marker%28%0A%20%20%20%20%20%20%20%20%20%20%20%20%20%20%20%20%5B35.049317%2C%20-85.309498%5D%2C%0A%20%20%20%20%20%20%20%20%20%20%20%20%20%20%20%20%7B%7D%0A%20%20%20%20%20%20%20%20%20%20%20%20%29.addTo%28map_c237d24abb974dfab4d7996a515209db%29%3B%0A%20%20%20%20%20%20%20%20%0A%20%20%20%20%0A%20%20%20%20%20%20%20%20var%20popup_b67c4c51d14d415ebf3f5c0a5f8a5ece%20%3D%20L.popup%28%7B%22maxWidth%22%3A%20%22100%25%22%7D%29%3B%0A%0A%20%20%20%20%20%20%20%20%0A%20%20%20%20%20%20%20%20%20%20%20%20var%20html_9e6c94cb1a41404c8382e381bd811897%20%3D%20%24%28%60%3Cdiv%20id%3D%22html_9e6c94cb1a41404c8382e381bd811897%22%20style%3D%22width%3A%20100.0%25%3B%20height%3A%20100.0%25%3B%22%3E1589%3C/div%3E%60%29%5B0%5D%3B%0A%20%20%20%20%20%20%20%20%20%20%20%20popup_b67c4c51d14d415ebf3f5c0a5f8a5ece.setContent%28html_9e6c94cb1a41404c8382e381bd811897%29%3B%0A%20%20%20%20%20%20%20%20%0A%0A%20%20%20%20%20%20%20%20marker_aaac4a1a9dee4a5d8bc37cb327d902a0.bindPopup%28popup_b67c4c51d14d415ebf3f5c0a5f8a5ece%29%0A%20%20%20%20%20%20%20%20%3B%0A%0A%20%20%20%20%20%20%20%20%0A%20%20%20%20%0A%20%20%20%20%0A%20%20%20%20%20%20%20%20%20%20%20%20var%20marker_36ab74bb3c334aa8ab9e764e07c6c6ef%20%3D%20L.marker%28%0A%20%20%20%20%20%20%20%20%20%20%20%20%20%20%20%20%5B35.052122%2C%20-85.309547%5D%2C%0A%20%20%20%20%20%20%20%20%20%20%20%20%20%20%20%20%7B%7D%0A%20%20%20%20%20%20%20%20%20%20%20%20%29.addTo%28map_c237d24abb974dfab4d7996a515209db%29%3B%0A%20%20%20%20%20%20%20%20%0A%20%20%20%20%0A%20%20%20%20%20%20%20%20var%20popup_5ff636617b3246dfbb3afb07ddb56f3c%20%3D%20L.popup%28%7B%22maxWidth%22%3A%20%22100%25%22%7D%29%3B%0A%0A%20%20%20%20%20%20%20%20%0A%20%20%20%20%20%20%20%20%20%20%20%20var%20html_e2df6e79f3a74dd18e06955c417c56e0%20%3D%20%24%28%60%3Cdiv%20id%3D%22html_e2df6e79f3a74dd18e06955c417c56e0%22%20style%3D%22width%3A%20100.0%25%3B%20height%3A%20100.0%25%3B%22%3E167%3C/div%3E%60%29%5B0%5D%3B%0A%20%20%20%20%20%20%20%20%20%20%20%20popup_5ff636617b3246dfbb3afb07ddb56f3c.setContent%28html_e2df6e79f3a74dd18e06955c417c56e0%29%3B%0A%20%20%20%20%20%20%20%20%0A%0A%20%20%20%20%20%20%20%20marker_36ab74bb3c334aa8ab9e764e07c6c6ef.bindPopup%28popup_5ff636617b3246dfbb3afb07ddb56f3c%29%0A%20%20%20%20%20%20%20%20%3B%0A%0A%20%20%20%20%20%20%20%20%0A%20%20%20%20%0A%20%20%20%20%0A%20%20%20%20%20%20%20%20%20%20%20%20var%20marker_f65e7b5f96c7485d91d02740c6b357ee%20%3D%20L.marker%28%0A%20%20%20%20%20%20%20%20%20%20%20%20%20%20%20%20%5B35.052095%2C%20-85.305668%5D%2C%0A%20%20%20%20%20%20%20%20%20%20%20%20%20%20%20%20%7B%7D%0A%20%20%20%20%20%20%20%20%20%20%20%20%29.addTo%28map_c237d24abb974dfab4d7996a515209db%29%3B%0A%20%20%20%20%20%20%20%20%0A%20%20%20%20%0A%20%20%20%20%20%20%20%20var%20popup_2350d62c9f6e4086b0f1c93f95e78791%20%3D%20L.popup%28%7B%22maxWidth%22%3A%20%22100%25%22%7D%29%3B%0A%0A%20%20%20%20%20%20%20%20%0A%20%20%20%20%20%20%20%20%20%20%20%20var%20html_512d48a6af234b87aa8ca764201bd2ff%20%3D%20%24%28%60%3Cdiv%20id%3D%22html_512d48a6af234b87aa8ca764201bd2ff%22%20style%3D%22width%3A%20100.0%25%3B%20height%3A%20100.0%25%3B%22%3E170%3C/div%3E%60%29%5B0%5D%3B%0A%20%20%20%20%20%20%20%20%20%20%20%20popup_2350d62c9f6e4086b0f1c93f95e78791.setContent%28html_512d48a6af234b87aa8ca764201bd2ff%29%3B%0A%20%20%20%20%20%20%20%20%0A%0A%20%20%20%20%20%20%20%20marker_f65e7b5f96c7485d91d02740c6b357ee.bindPopup%28popup_2350d62c9f6e4086b0f1c93f95e78791%29%0A%20%20%20%20%20%20%20%20%3B%0A%0A%20%20%20%20%20%20%20%20%0A%20%20%20%20%0A%3C/script%3E onload=\"this.contentDocument.open();this.contentDocument.write(    decodeURIComponent(this.getAttribute('data-html')));this.contentDocument.close();\" allowfullscreen webkitallowfullscreen mozallowfullscreen></iframe></div></div>"
      ],
      "text/plain": [
       "<folium.folium.Map at 0x7f46136ab190>"
      ]
     },
     "execution_count": 78,
     "metadata": {},
     "output_type": "execute_result"
    }
   ],
   "source": [
    "map = folium.Map(location = [Bus_Stops.stop_lat.mean(), Bus_Stops.stop_lon.mean()], tiles = \"OpenStreetMap\", zoom_start = 11)\n",
    "\n",
    "for point in range(0, Bus_Stops.shape[0])[0:100]:\n",
    "    folium.Marker(location = [Bus_Stops.stop_lat[point], Bus_Stops.stop_lon[point]], popup = Bus_Stops['stop_id'][point]).add_to(map)\n",
    "map\n",
    "\n",
    "map"
   ]
  },
  {
   "cell_type": "markdown",
   "id": "logical-poetry",
   "metadata": {},
   "source": [
    "### Radial Influence"
   ]
  },
  {
   "cell_type": "code",
   "execution_count": 35,
   "id": "hazardous-society",
   "metadata": {},
   "outputs": [],
   "source": [
    "def radial_influence(st, radius, DT):\n",
    "    n_row = DT.shape[0]\n",
    "    \n",
    "    stopd_index = DT[DT['stop_id'] == st].index[0]\n",
    "    x0 = DT.stop_lon.iloc[stopd_index]\n",
    "    y0 = DT.stop_lat.iloc[stopd_index]\n",
    "    \n",
    "    radial_dist = []\n",
    "    condition = []\n",
    "    \n",
    "    for i in range(n_row):\n",
    "        \n",
    "        center_point = (x0, y0)\n",
    "        test_point = (DT.stop_lon.iloc[i], DT.stop_lat.iloc[i])\n",
    "        dist = distance.distance(center_point, test_point).miles\n",
    "        \n",
    "        radial_dist.append(dist)\n",
    "        \n",
    "        if (dist <= radius):\n",
    "            \n",
    "            cond = 'inside'\n",
    "            \n",
    "        else:\n",
    "            \n",
    "            cond = 'outside'\n",
    "            \n",
    "        condition.append(cond)\n",
    "        \n",
    "    influence = {'stop_id': DT.stop_id, 'Radial_Distance': radial_dist, 'Influence': condition}\n",
    "    Influence = pd.DataFrame(data = influence, columns = ['stop_id', 'Radial_Distance', 'Influence'])\n",
    "    \n",
    "    return(Influence)"
   ]
  },
  {
   "cell_type": "markdown",
   "id": "bc34aa6a-8b12-4e47-b1ab-b1ae275ac806",
   "metadata": {},
   "source": [
    "### Example\n",
    "\n",
    "Let's plot the half-mile radius from bus stop 12 (`stop_id == '12'`):"
   ]
  },
  {
   "cell_type": "code",
   "execution_count": 37,
   "id": "9dfa1309-7e62-4f50-a5cd-de7478a983d8",
   "metadata": {},
   "outputs": [
    {
     "data": {
      "text/html": [
       "<div>\n",
       "<style scoped>\n",
       "    .dataframe tbody tr th:only-of-type {\n",
       "        vertical-align: middle;\n",
       "    }\n",
       "\n",
       "    .dataframe tbody tr th {\n",
       "        vertical-align: top;\n",
       "    }\n",
       "\n",
       "    .dataframe thead th {\n",
       "        text-align: right;\n",
       "    }\n",
       "</style>\n",
       "<table border=\"1\" class=\"dataframe\">\n",
       "  <thead>\n",
       "    <tr style=\"text-align: right;\">\n",
       "      <th></th>\n",
       "      <th>stop_id</th>\n",
       "      <th>Radial_Distance</th>\n",
       "      <th>Influence</th>\n",
       "    </tr>\n",
       "  </thead>\n",
       "  <tbody>\n",
       "    <tr>\n",
       "      <th>0</th>\n",
       "      <td>971</td>\n",
       "      <td>4.355288</td>\n",
       "      <td>outside</td>\n",
       "    </tr>\n",
       "    <tr>\n",
       "      <th>1</th>\n",
       "      <td>146</td>\n",
       "      <td>0.486455</td>\n",
       "      <td>inside</td>\n",
       "    </tr>\n",
       "    <tr>\n",
       "      <th>2</th>\n",
       "      <td>1545</td>\n",
       "      <td>4.073987</td>\n",
       "      <td>outside</td>\n",
       "    </tr>\n",
       "    <tr>\n",
       "      <th>3</th>\n",
       "      <td>972</td>\n",
       "      <td>4.236001</td>\n",
       "      <td>outside</td>\n",
       "    </tr>\n",
       "    <tr>\n",
       "      <th>4</th>\n",
       "      <td>81</td>\n",
       "      <td>0.470530</td>\n",
       "      <td>inside</td>\n",
       "    </tr>\n",
       "  </tbody>\n",
       "</table>\n",
       "</div>"
      ],
      "text/plain": [
       "  stop_id  Radial_Distance Influence\n",
       "0     971         4.355288   outside\n",
       "1     146         0.486455    inside\n",
       "2    1545         4.073987   outside\n",
       "3     972         4.236001   outside\n",
       "4      81         0.470530    inside"
      ]
     },
     "execution_count": 37,
     "metadata": {},
     "output_type": "execute_result"
    }
   ],
   "source": [
    "Surrounding_Stops_12 = radial_influence('12', 0.5, Bus_Stops)\n",
    "Surrounding_Stops_12.head()"
   ]
  },
  {
   "cell_type": "markdown",
   "id": "detected-effect",
   "metadata": {},
   "source": [
    "## Data Extraction\n",
    "\n",
    "The function `data_extraction()` requires five inputs:\n",
    "\n",
    "* `route`: a `route_id` value.\n",
    "* `direction`: a `direction_id` value.\n",
    "* `bus_stop`: a `stop_id` value.\n",
    "* `DTFRM`: a data frame with all the required variables like `carta`.\n",
    "* `part`: `pre` or `post` according to the data partition.\n",
    "\n",
    "The output is a data frame `*_lock_data.csv` with "
   ]
  },
  {
   "cell_type": "code",
   "execution_count": 66,
   "id": "rural-postcard",
   "metadata": {},
   "outputs": [],
   "source": [
    "def data_extraction(route, direction, bus_stop, DTFRM, part):\n",
    "    import numpy as np\n",
    "    import pandas as pd\n",
    "    import datetime as dt\n",
    "             \n",
    "    dtfrm = DTFRM[(DTFRM['route_id'] == route) & (DTFRM['direction_id'] == direction) & (DTFRM['stop_id'] == bus_stop)]\n",
    "    \n",
    "    n_rows = dtfrm.shape[0]\n",
    "    \n",
    "    if (n_rows == 0):\n",
    "        print('There are not rows in the data set with the required characteristics. Please change them.')\n",
    "        \n",
    "    else:\n",
    "          \n",
    "        vinit = dtfrm[['month', 'service_kind', 'hour', 'board_count', 'alight_count', 'Estimated_Temp', 'Estimated_Precip']].groupby(['month', 'service_kind', 'hour']).mean()\n",
    "        Vinit = vinit.reset_index(level = ['month', 'service_kind', 'hour'])\n",
    "        Vinit.columns = ['month', 'service_kind', 'hour', 'month_average_board_count', 'month_average_alight_count', 'mean_temp', 'mean_precip']\n",
    "        Vinit = Vinit.drop_duplicates()\n",
    "    \n",
    "        V1 = dtfrm[[ 'month', 'service_kind', 'hour', 'board_count', 'alight_count']]\n",
    "        V1.columns = ['month', 'service_kind', 'hour', 'board_count', 'alight_count']\n",
    "     \n",
    "        V1 = pd.merge(V1, Vinit, on = ['month', 'service_kind', 'hour'], how = 'left')\n",
    "    \n",
    "        Relevant_Bus_Stops = radial_influence(bus_stop, 0.5, Bus_Stops)\n",
    "        bus_stops_ids = Relevant_Bus_Stops.stop_id.unique().astype(str)\n",
    "        bus_stops_ids = pd.DataFrame(bus_stops_ids)\n",
    "        bus_stops_ids.columns = ['stop_id']\n",
    "        bus_stops_ids = bus_stops_ids[bus_stops_ids['stop_id'] != bus_stop]\n",
    "        bus_stops_ids = bus_stops_ids.drop_duplicates()\n",
    "               \n",
    "        V3 = DTFRM[DTFRM['stop_id'].isin(bus_stops_ids.stop_id.astype(str))][['month', 'service_kind', 'hour', 'board_count', 'alight_count']]\n",
    "        V3 = V3.drop_duplicates()\n",
    "        V3a = V3.groupby(['month', 'service_kind', 'hour']).mean()\n",
    "        V3b = V3a.reset_index(level = ['month', 'service_kind', 'hour'])\n",
    "        V3b.columns = ['month', 'service_kind', 'hour', 'surrounding_board_count', 'surrounding_alight_count']\n",
    "        V3b = V3b.drop_duplicates()\n",
    "    \n",
    "        data = pd.merge(V1, V3b, how = 'left', on = [ 'month', 'service_kind', 'hour'])\n",
    "                \n",
    "        data.month = data['month'].astype('category')\n",
    "        data.service_kind = data['service_kind'].astype('category')\n",
    "        data.hour = data['hour'].astype('category')\n",
    "       \n",
    "        data.columns = ['month', 'service_kind', 'hour', 'board_count', 'alight_count', 'mean_temp', 'mean_precip',\n",
    "                        'month_average_board_count', 'month_average_alight_count', 'surrounding_board_count', 'surrounding_alight_count']\n",
    "        data = data.drop_duplicates()\n",
    "        \n",
    "        data.month_average_board_count = normalizer(data['month_average_board_count'])\n",
    "        data.surrounding_board_count = normalizer(data['surrounding_board_count'])\n",
    "        \n",
    "        data.mean_temp = normalizer(data['mean_temp'])\n",
    "        data.mean_precip = normalizer(data['mean_precip'])\n",
    "        \n",
    "        data = data[['month', 'service_kind', 'hour', 'board_count', 'mean_temp', 'mean_precip','month_average_board_count', 'surrounding_board_count']]\n",
    "        \n",
    "        data = data.reset_index(drop = True)\n",
    "        \n",
    "        #--------------------------------------------------------------------------------------------------------------------\n",
    "        # Export data:\n",
    "        \n",
    "        def paste0(ss,sep=None,na_rep=None,):\n",
    "            ss = [pd.Series(s) for s in ss]\n",
    "            ss = [s.astype(str) for s in ss]\n",
    "            s = ss[0]\n",
    "            res = s.str.cat(ss[1:],sep=sep,na_rep=na_rep)\n",
    "            return res\n",
    "               \n",
    "        file_path = paste0(paste0([paste0([paste0([paste0([paste0(['data', 'jmartinez'], sep = '/'), \n",
    "                                                        paste0(['Data_for_RF_Models', 'Board_Counts'], sep ='/')], sep = '/'),\n",
    "                                                paste0(['route', route], sep = '_')], sep = '/'),\n",
    "                                        paste0(['direction', direction])], sep = '/'),\n",
    "                                paste0(['bus_stop', bus_stop], sep = '_')], sep = '/'), sep = '/')[0]\n",
    "        \n",
    "        #os.mkdir(file_path[0])\n",
    "        \n",
    "        if (part == 'all'):\n",
    "            \n",
    "            file_name = paste0(['data', '.csv'])\n",
    "            complete_path = paste0([file_path, file_name], sep = '/')[0]\n",
    "            data.to_csv(complete_path)\n",
    "            \n",
    "        elif (part == 'pre'):\n",
    "            \n",
    "            file_name = paste0(['pre_lock_data', '.csv'])\n",
    "            complete_path = paste0([file_path, file_name], sep = '/')[0]\n",
    "            data.to_csv(complete_path)\n",
    "            \n",
    "        elif (part == 'post'):\n",
    "            \n",
    "            file_name = paste0(['post_lock_data', '.csv'])\n",
    "            complete_path = paste0([file_path, file_name], sep = '/')[0]\n",
    "            data.to_csv(complete_path)\n",
    "            \n",
    "        "
   ]
  },
  {
   "cell_type": "markdown",
   "id": "0864d81c-1e9a-40fb-ba75-c83974374cc6",
   "metadata": {},
   "source": [
    "### Example: \n",
    "\n",
    "Let's extract the data for modeling considering the following inputs:\n",
    "\n",
    "* `route_id == '1'`\n",
    "* `direction_id == 0`\n",
    "* `stop_id == '12'`\n",
    "* `DTFRM == carta`\n",
    "* `part == 'pre'`"
   ]
  },
  {
   "cell_type": "code",
   "execution_count": 82,
   "id": "middle-latin",
   "metadata": {},
   "outputs": [],
   "source": [
    "data_extraction('1', '0', '12', carta, 'pre')"
   ]
  },
  {
   "cell_type": "markdown",
   "id": "61a513d5-ee1f-4740-bab0-a73185b6c0ae",
   "metadata": {},
   "source": [
    "We can use a `for loop` to run this process for each bus stop. We declare the function `paste0()` to create the file paths from the input parameters:"
   ]
  },
  {
   "cell_type": "code",
   "execution_count": 83,
   "id": "sharp-neutral",
   "metadata": {},
   "outputs": [],
   "source": [
    "def paste0(ss,sep=None,na_rep=None,):\n",
    "            '''Analogy to R paste0'''\n",
    "            ss = [pd.Series(s) for s in ss]\n",
    "            ss = [s.astype(str) for s in ss]\n",
    "            s = ss[0]\n",
    "            res = s.str.cat(ss[1:],sep=sep,na_rep=na_rep)\n",
    "            return res"
   ]
  },
  {
   "cell_type": "markdown",
   "id": "exceptional-verification",
   "metadata": {},
   "source": [
    "## For Loop for all the buas stops in `route_id == '4'` and `direction_id == '1'`"
   ]
  },
  {
   "cell_type": "code",
   "execution_count": 38,
   "id": "lesser-thriller",
   "metadata": {},
   "outputs": [],
   "source": [
    "def get_bus_stop_data(rt_id, dir_id, part):\n",
    "    \n",
    "    if (part == 'pre'):\n",
    "        \n",
    "        bus_stops_rX_dirY = Pre_lock[(Pre_lock['route_id'] == rt_id) & (Pre_lock['direction_id'] == dir_id)]['stop_id'].unique()\n",
    "           \n",
    "        for st in bus_stops_rX_dirY:\n",
    "            print(st)\n",
    "            data_extraction(rt_id, dir_id, st, Pre_lock, 'pre')\n",
    "            print('Done!')\n",
    "                        \n",
    "    elif (part == 'post'):\n",
    "        \n",
    "        bus_stops_rX_dirY = Post_lock[(Post_lock['route_id'] == rt_id) & (Post_lock['direction_id'] == dir_id)]['stop_id'].unique()\n",
    "           \n",
    "        for st in bus_stops_rX_dirY:\n",
    "            print(st)\n",
    "            data_extraction(rt_id, dir_id, st, Post_lock, 'post')\n",
    "            print('Done!')\n",
    "            \n",
    "    elif (part == 'all'):\n",
    "        \n",
    "        bus_stops_rX_dirY = carta[(carta['route_id'] == rt_id) & (carta['direction_id'] == dir_id)]['stop_id'].unique()\n",
    "           \n",
    "        for st in bus_stops_rX_dirY:\n",
    "            print(st)\n",
    "            data_extraction(rt_id, dir_id, st, carta, 'all')\n",
    "            print('Done!')\n",
    "        \n",
    "    return('Data preparation is complete!')"
   ]
  },
  {
   "cell_type": "markdown",
   "id": "1d5545c5-4279-4497-be2e-4649b982c28e",
   "metadata": {},
   "source": [
    "Finally, we do this process for each combination of `route_id`, `direciton_id`, and data partition:"
   ]
  },
  {
   "cell_type": "code",
   "execution_count": 35,
   "id": "6d2bc179-3bc1-4dff-8e36-5525dc231f29",
   "metadata": {},
   "outputs": [
    {
     "data": {
      "text/plain": [
       "'Done!'"
      ]
     },
     "execution_count": 35,
     "metadata": {},
     "output_type": "execute_result"
    }
   ],
   "source": [
    "get_bus_stop_data('1', '0', 'pre')\n",
    "get_bus_stop_data('1', '0', 'post')"
   ]
  },
  {
   "cell_type": "code",
   "execution_count": 39,
   "id": "1e7bee66-1f3f-4384-b31b-1d51d9841c7f",
   "metadata": {},
   "outputs": [
    {
     "name": "stdout",
     "output_type": "stream",
     "text": [
      "1351\n",
      "Done!\n",
      "28\n",
      "Done!\n",
      "27\n",
      "Done!\n",
      "1354\n",
      "Done!\n",
      "1579\n",
      "Done!\n",
      "1555\n",
      "Done!\n",
      "12\n",
      "Done!\n",
      "1353\n",
      "Done!\n",
      "26\n",
      "Done!\n",
      "25\n",
      "Done!\n",
      "24\n",
      "Done!\n",
      "23\n",
      "Done!\n",
      "22\n",
      "Done!\n",
      "21\n",
      "Done!\n",
      "1357\n",
      "Done!\n",
      "1557\n",
      "Done!\n",
      "19\n",
      "Done!\n",
      "18\n",
      "Done!\n",
      "742\n",
      "Done!\n",
      "17\n",
      "Done!\n",
      "287\n",
      "Done!\n",
      "286\n",
      "Done!\n",
      "713\n",
      "Done!\n",
      "285\n",
      "Done!\n",
      "284\n",
      "Done!\n",
      "283\n",
      "Done!\n",
      "784\n",
      "Done!\n",
      "354\n",
      "Done!\n",
      "505\n",
      "Done!\n",
      "95\n",
      "Done!\n",
      "44\n",
      "Done!\n",
      "1351\n",
      "Done!\n",
      "28\n",
      "Done!\n",
      "27\n",
      "Done!\n",
      "1354\n",
      "Done!\n",
      "1579\n",
      "Done!\n",
      "1555\n",
      "Done!\n",
      "12\n",
      "Done!\n",
      "1353\n",
      "Done!\n",
      "26\n",
      "Done!\n",
      "25\n",
      "Done!\n",
      "24\n",
      "Done!\n",
      "23\n",
      "Done!\n",
      "22\n",
      "Done!\n",
      "21\n",
      "Done!\n",
      "1357\n",
      "Done!\n",
      "1557\n",
      "Done!\n",
      "19\n",
      "Done!\n",
      "18\n",
      "Done!\n",
      "742\n",
      "Done!\n",
      "17\n",
      "Done!\n",
      "287\n",
      "Done!\n",
      "286\n",
      "Done!\n",
      "713\n",
      "Done!\n",
      "285\n",
      "Done!\n",
      "284\n",
      "Done!\n",
      "283\n",
      "Done!\n",
      "784\n",
      "Done!\n",
      "354\n",
      "Done!\n",
      "505\n",
      "Done!\n",
      "95\n",
      "Done!\n",
      "44\n",
      "Done!\n"
     ]
    },
    {
     "data": {
      "text/plain": [
       "'Data preparation is complete!'"
      ]
     },
     "execution_count": 39,
     "metadata": {},
     "output_type": "execute_result"
    }
   ],
   "source": [
    "get_bus_stop_data('1', '0', 'all')"
   ]
  },
  {
   "cell_type": "code",
   "execution_count": 42,
   "id": "antique-threshold",
   "metadata": {},
   "outputs": [
    {
     "name": "stdout",
     "output_type": "stream",
     "text": [
      "1731\n",
      "Done!\n",
      "148\n",
      "Done!\n",
      "1899\n",
      "Done!\n",
      "1486\n",
      "Done!\n",
      "142\n",
      "Done!\n",
      "81\n",
      "Done!\n",
      "141\n",
      "Done!\n",
      "140\n",
      "Done!\n",
      "139\n",
      "Done!\n",
      "138\n",
      "Done!\n",
      "1797\n",
      "Done!\n",
      "157\n",
      "Done!\n",
      "75\n",
      "Done!\n",
      "137\n",
      "Done!\n",
      "74\n",
      "Done!\n",
      "136\n",
      "Done!\n",
      "1892\n",
      "Done!\n",
      "72\n",
      "Done!\n",
      "1915\n",
      "Done!\n",
      "1891\n",
      "Done!\n",
      "134\n",
      "Done!\n",
      "133\n",
      "Done!\n",
      "1487\n",
      "Done!\n",
      "95\n",
      "Done!\n",
      "143\n",
      "Done!\n",
      "151\n",
      "Done!\n",
      "118\n",
      "Done!\n",
      "1912\n",
      "Done!\n",
      "116\n",
      "Done!\n",
      "115\n",
      "Done!\n",
      "114\n",
      "Done!\n",
      "113\n",
      "Done!\n",
      "112\n",
      "Done!\n",
      "111\n",
      "Done!\n",
      "110\n",
      "Done!\n",
      "109\n",
      "Done!\n",
      "771\n",
      "Done!\n",
      "108\n",
      "Done!\n",
      "145\n",
      "Done!\n",
      "106\n",
      "Done!\n",
      "105\n",
      "Done!\n",
      "104\n",
      "Done!\n",
      "103\n",
      "Done!\n",
      "102\n",
      "Done!\n",
      "101\n",
      "Done!\n",
      "100\n",
      "Done!\n",
      "144\n",
      "Done!\n",
      "152\n",
      "Done!\n",
      "107\n",
      "Done!\n",
      "1913\n",
      "Done!\n",
      "132\n",
      "Done!\n",
      "130\n",
      "Done!\n",
      "129\n",
      "Done!\n",
      "128\n",
      "Done!\n",
      "127\n",
      "Done!\n",
      "126\n",
      "Done!\n",
      "125\n",
      "Done!\n",
      "124\n",
      "Done!\n",
      "1358\n",
      "Done!\n",
      "1914\n",
      "Done!\n",
      "1582\n",
      "Done!\n",
      "166\n",
      "Done!\n",
      "1589\n",
      "Done!\n",
      "1361\n",
      "Done!\n",
      "1684\n",
      "Done!\n",
      "167\n",
      "Done!\n",
      "165\n",
      "Done!\n",
      "1488\n",
      "Done!\n",
      "163\n",
      "Done!\n",
      "1560\n",
      "Done!\n",
      "164\n",
      "Done!\n",
      "169\n",
      "Done!\n",
      "505\n",
      "Done!\n",
      "172\n",
      "Done!\n",
      "171\n",
      "Done!\n",
      "170\n",
      "Done!\n",
      "90\n",
      "Done!\n",
      "150\n",
      "Done!\n",
      "690\n",
      "Done!\n",
      "146\n",
      "Done!\n",
      "155\n",
      "Done!\n",
      "158\n",
      "Done!\n",
      "161\n",
      "Done!\n",
      "44\n",
      "Done!\n",
      "81\n",
      "Done!\n",
      "146\n",
      "Done!\n",
      "155\n",
      "Done!\n",
      "158\n",
      "Done!\n",
      "75\n",
      "Done!\n",
      "74\n",
      "Done!\n",
      "161\n",
      "Done!\n",
      "1892\n",
      "Done!\n",
      "72\n",
      "Done!\n",
      "1915\n",
      "Done!\n",
      "1891\n",
      "Done!\n",
      "95\n",
      "Done!\n",
      "90\n",
      "Done!\n",
      "1486\n",
      "Done!\n",
      "1899\n",
      "Done!\n",
      "148\n",
      "Done!\n",
      "114\n",
      "Done!\n",
      "113\n",
      "Done!\n",
      "112\n",
      "Done!\n",
      "111\n",
      "Done!\n",
      "110\n",
      "Done!\n",
      "109\n",
      "Done!\n",
      "108\n",
      "Done!\n",
      "107\n",
      "Done!\n",
      "104\n",
      "Done!\n",
      "103\n",
      "Done!\n",
      "152\n",
      "Done!\n",
      "151\n",
      "Done!\n",
      "150\n",
      "Done!\n",
      "1797\n",
      "Done!\n",
      "1731\n",
      "Done!\n",
      "105\n",
      "Done!\n",
      "115\n",
      "Done!\n",
      "116\n",
      "Done!\n",
      "118\n",
      "Done!\n",
      "145\n",
      "Done!\n",
      "144\n",
      "Done!\n",
      "771\n",
      "Done!\n",
      "143\n",
      "Done!\n",
      "142\n",
      "Done!\n",
      "141\n",
      "Done!\n",
      "140\n",
      "Done!\n",
      "1912\n",
      "Done!\n",
      "139\n",
      "Done!\n",
      "1487\n",
      "Done!\n",
      "125\n",
      "Done!\n",
      "124\n",
      "Done!\n",
      "1582\n",
      "Done!\n",
      "1358\n",
      "Done!\n",
      "1914\n",
      "Done!\n",
      "126\n",
      "Done!\n",
      "127\n",
      "Done!\n",
      "128\n",
      "Done!\n",
      "137\n",
      "Done!\n",
      "136\n",
      "Done!\n",
      "134\n",
      "Done!\n",
      "138\n",
      "Done!\n",
      "133\n",
      "Done!\n",
      "132\n",
      "Done!\n",
      "130\n",
      "Done!\n",
      "129\n",
      "Done!\n",
      "1913\n",
      "Done!\n",
      "157\n",
      "Done!\n",
      "1560\n",
      "Done!\n",
      "163\n",
      "Done!\n",
      "1488\n",
      "Done!\n",
      "1684\n",
      "Done!\n",
      "172\n",
      "Done!\n",
      "505\n",
      "Done!\n",
      "171\n",
      "Done!\n",
      "165\n",
      "Done!\n",
      "1361\n",
      "Done!\n",
      "1589\n",
      "Done!\n",
      "164\n",
      "Done!\n",
      "166\n",
      "Done!\n",
      "169\n",
      "Done!\n",
      "170\n",
      "Done!\n",
      "167\n",
      "Done!\n",
      "106\n",
      "Done!\n",
      "690\n",
      "Done!\n",
      "100\n",
      "Done!\n",
      "101\n",
      "Done!\n",
      "102\n",
      "Done!\n",
      "1731\n",
      "Done!\n",
      "148\n",
      "Done!\n",
      "1899\n",
      "Done!\n",
      "1486\n",
      "Done!\n",
      "142\n",
      "Done!\n",
      "81\n",
      "Done!\n",
      "141\n",
      "Done!\n",
      "140\n",
      "Done!\n",
      "139\n",
      "Done!\n",
      "138\n",
      "Done!\n",
      "1797\n",
      "Done!\n",
      "157\n",
      "Done!\n",
      "75\n",
      "Done!\n",
      "137\n",
      "Done!\n",
      "74\n",
      "Done!\n",
      "136\n",
      "Done!\n",
      "1892\n",
      "Done!\n",
      "72\n",
      "Done!\n",
      "1915\n",
      "Done!\n",
      "1891\n",
      "Done!\n",
      "134\n",
      "Done!\n",
      "133\n",
      "Done!\n",
      "1487\n",
      "Done!\n",
      "95\n",
      "Done!\n",
      "143\n",
      "Done!\n",
      "151\n",
      "Done!\n",
      "118\n",
      "Done!\n",
      "1912\n",
      "Done!\n",
      "116\n",
      "Done!\n",
      "115\n",
      "Done!\n",
      "114\n",
      "Done!\n",
      "113\n",
      "Done!\n",
      "112\n",
      "Done!\n",
      "111\n",
      "Done!\n",
      "110\n",
      "Done!\n",
      "109\n",
      "Done!\n",
      "771\n",
      "Done!\n",
      "108\n",
      "Done!\n",
      "145\n",
      "Done!\n",
      "106\n",
      "Done!\n",
      "105\n",
      "Done!\n",
      "104\n",
      "Done!\n",
      "103\n",
      "Done!\n",
      "102\n",
      "Done!\n",
      "101\n",
      "Done!\n",
      "100\n",
      "Done!\n",
      "144\n",
      "Done!\n",
      "152\n",
      "Done!\n",
      "107\n",
      "Done!\n",
      "1913\n",
      "Done!\n",
      "132\n",
      "Done!\n",
      "130\n",
      "Done!\n",
      "129\n",
      "Done!\n",
      "128\n",
      "Done!\n",
      "127\n",
      "Done!\n",
      "126\n",
      "Done!\n",
      "125\n",
      "Done!\n",
      "124\n",
      "Done!\n",
      "1358\n",
      "Done!\n",
      "1914\n",
      "Done!\n",
      "1582\n",
      "Done!\n",
      "166\n",
      "Done!\n",
      "1589\n",
      "Done!\n",
      "1361\n",
      "Done!\n",
      "1684\n",
      "Done!\n",
      "167\n",
      "Done!\n",
      "165\n",
      "Done!\n",
      "1488\n",
      "Done!\n",
      "163\n",
      "Done!\n",
      "1560\n",
      "Done!\n",
      "164\n",
      "Done!\n",
      "169\n",
      "Done!\n",
      "505\n",
      "Done!\n",
      "172\n",
      "Done!\n",
      "171\n",
      "Done!\n",
      "170\n",
      "Done!\n",
      "90\n",
      "Done!\n",
      "150\n",
      "Done!\n",
      "690\n",
      "Done!\n",
      "146\n",
      "Done!\n",
      "155\n",
      "Done!\n",
      "158\n",
      "Done!\n",
      "161\n",
      "Done!\n",
      "44\n",
      "Done!\n"
     ]
    },
    {
     "data": {
      "text/plain": [
       "'Data preparation is complete!'"
      ]
     },
     "execution_count": 42,
     "metadata": {},
     "output_type": "execute_result"
    }
   ],
   "source": [
    "get_bus_stop_data('1', '1', 'pre')\n",
    "get_bus_stop_data('1', '1', 'post')\n",
    "get_bus_stop_data('1', '1', 'all')"
   ]
  },
  {
   "cell_type": "code",
   "execution_count": 37,
   "id": "b9cbd2cc-2bff-45b8-821b-dbb68b97f265",
   "metadata": {},
   "outputs": [
    {
     "data": {
      "text/plain": [
       "'Done!'"
      ]
     },
     "execution_count": 37,
     "metadata": {},
     "output_type": "execute_result"
    }
   ],
   "source": [
    "get_bus_stop_data('4', '0', 'pre')\n",
    "get_bus_stop_data('4', '0', 'post')\n",
    "get_bus_stop_data('4', '0', 'all')"
   ]
  },
  {
   "cell_type": "code",
   "execution_count": 40,
   "id": "3fea7cc8-96cd-420e-95b1-d77a9fe0c36d",
   "metadata": {},
   "outputs": [],
   "source": [
    "#get_bus_stop_data('4', '1', 'pre')"
   ]
  },
  {
   "cell_type": "code",
   "execution_count": 51,
   "id": "da7d340d-35c2-49bb-962c-e776dd00e050",
   "metadata": {},
   "outputs": [
    {
     "data": {
      "text/plain": [
       "'Done!'"
      ]
     },
     "execution_count": 51,
     "metadata": {},
     "output_type": "execute_result"
    }
   ],
   "source": [
    "get_bus_stop_data('4', '1', 'post')"
   ]
  },
  {
   "cell_type": "code",
   "execution_count": 31,
   "id": "f8cde639-b4c2-4974-bab3-012062d74329",
   "metadata": {},
   "outputs": [
    {
     "data": {
      "text/plain": [
       "'Done!'"
      ]
     },
     "execution_count": 31,
     "metadata": {},
     "output_type": "execute_result"
    }
   ],
   "source": [
    "get_bus_stop_data('9', '0', 'pre')\n",
    "get_bus_stop_data('9', '0', 'post')"
   ]
  },
  {
   "cell_type": "code",
   "execution_count": 36,
   "id": "a09a5749-3590-44b8-b1f7-79b3b489a282",
   "metadata": {},
   "outputs": [
    {
     "data": {
      "text/plain": [
       "'Done!'"
      ]
     },
     "execution_count": 36,
     "metadata": {},
     "output_type": "execute_result"
    }
   ],
   "source": [
    "get_bus_stop_data('9', '1', 'pre')\n",
    "get_bus_stop_data('9', '1', 'post')"
   ]
  },
  {
   "cell_type": "markdown",
   "id": "theoretical-determination",
   "metadata": {},
   "source": [
    "## Data Partition into train and test sets\n",
    "\n",
    "The function`data_partition_for_ml()` takes the extracted data (created by using the `get_bus_stop_data()` function) and creates a random partition for the train (80%) and test sets (20%).  "
   ]
  },
  {
   "cell_type": "code",
   "execution_count": 46,
   "id": "bf8a4496-73f1-4eb6-be41-1b3106aa9ff6",
   "metadata": {},
   "outputs": [],
   "source": [
    "def data_partition_for_ml(rt, di, st, part):\n",
    "    import numpy as np\n",
    "    import pandas as pd\n",
    "    from sklearn.model_selection import train_test_split\n",
    "    \n",
    "    def paste0(ss,sep=None,na_rep=None,):\n",
    "            ss = [pd.Series(s) for s in ss]\n",
    "            ss = [s.astype(str) for s in ss]\n",
    "            s = ss[0]\n",
    "            res = s.str.cat(ss[1:],sep=sep,na_rep=na_rep)\n",
    "            return res\n",
    "    \n",
    "    if (part == 'all'):\n",
    "          \n",
    "        file_path = paste0([paste0([paste0([paste0([paste0([paste0(['data', 'jmartinez'], sep = '/'), \n",
    "                                                        paste0(['Data_for_RF_Models', 'Board_Counts'], sep ='/')], sep = '/'),\n",
    "                                                paste0(['route', rt], sep = '_')], sep = '/'),\n",
    "                                        paste0(['direction', di])], sep = '/'),\n",
    "                                paste0(['bus_stop', st], sep = '_')], sep = '/'), 'data.csv'], sep = '/')[0]\n",
    "          \n",
    "        dtt = pd.read_csv(file_path)\n",
    "    \n",
    "        train_data, test_data = train_test_split(dtt, test_size=0.2)\n",
    "    \n",
    "        train_data = train_data[['month', 'service_kind', 'hour', 'board_count', 'mean_temp',\n",
    "                                 'mean_precip', 'month_average_board_count', 'surrounding_board_count']]\n",
    "        \n",
    "        train_data.dropna(how = 'all', axis = 1, inplace = True)\n",
    "    \n",
    "        test_data = test_data[['month', 'service_kind', 'hour', 'board_count', 'mean_temp',\n",
    "                               'mean_precip', 'month_average_board_count', 'surrounding_board_count']]\n",
    "        \n",
    "        test_data.dropna(how = 'all', axis = 1, inplace = True)\n",
    "    \n",
    "        train_data_path = paste0([paste0([paste0([paste0([paste0([paste0(['data', 'jmartinez'], sep = '/'), \n",
    "                                                                  paste0(['Data_for_RF_Models', 'Board_Counts'], sep ='/')], sep = '/'),\n",
    "                                                          paste0(['route', rt], sep = '_')], sep = '/'),\n",
    "                                                  paste0(['direction', di])], sep = '/'),\n",
    "                                          paste0(['bus_stop', st], sep = '_')], sep = '/'), 'train_data.csv'], sep = '/')[0]\n",
    "           \n",
    "        test_data_path = paste0([paste0([paste0([paste0([paste0([paste0(['data', 'jmartinez'], sep = '/'), \n",
    "                                                            paste0(['Data_for_RF_Models', 'Board_Counts'], sep ='/')], sep = '/'),\n",
    "                                                    paste0(['route', rt], sep = '_')], sep = '/'),\n",
    "                                            paste0(['direction', di])], sep = '/'),\n",
    "                                    paste0(['bus_stop', st], sep = '_')], sep = '/'), 'test_data.csv'], sep = '/')[0]\n",
    "    \n",
    "        train_data.to_csv(train_data_path, index = False)\n",
    "        test_data.to_csv(test_data_path, index = False)\n",
    "        \n",
    "    elif (part == 'pre'):\n",
    "        \n",
    "        file_path = paste0([paste0([paste0([paste0([paste0([paste0(['data', 'jmartinez'], sep = '/'), \n",
    "                                                        paste0(['Data_for_RF_Models', 'Board_Counts'], sep ='/')], sep = '/'),\n",
    "                                                paste0(['route', rt], sep = '_')], sep = '/'),\n",
    "                                        paste0(['direction', di])], sep = '/'),\n",
    "                                paste0(['bus_stop', st], sep = '_')], sep = '/'), 'pre_lock_data.csv'], sep = '/')[0]\n",
    "          \n",
    "        dtt = pd.read_csv(file_path)\n",
    "           \n",
    "        train_data, test_data = train_test_split(dtt, test_size=0.2)\n",
    "    \n",
    "        train_data = train_data[['month', 'service_kind', 'hour', 'board_count', 'mean_temp',\n",
    "                                 'mean_precip', 'month_average_board_count', 'surrounding_board_count']]\n",
    "        \n",
    "        train_data.dropna(how = 'all', axis = 1, inplace = True)\n",
    "    \n",
    "        test_data = test_data[['month', 'service_kind', 'hour', 'board_count', 'mean_temp',\n",
    "                               'mean_precip', 'month_average_board_count', 'surrounding_board_count']]\n",
    "        \n",
    "        test_data.dropna(how = 'all', axis = 1, inplace = True)\n",
    "    \n",
    "        train_data_path = paste0([paste0([paste0([paste0([paste0([paste0(['data', 'jmartinez'], sep = '/'), \n",
    "                                                                  paste0(['Data_for_RF_Models', 'Board_Counts'], sep ='/')], sep = '/'),\n",
    "                                                          paste0(['route', rt], sep = '_')], sep = '/'),\n",
    "                                                  paste0(['direction', di])], sep = '/'),\n",
    "                                          paste0(['bus_stop', st], sep = '_')], sep = '/'), 'pre_lock_train_data.csv'], sep = '/')[0]\n",
    "           \n",
    "        test_data_path = paste0([paste0([paste0([paste0([paste0([paste0(['data', 'jmartinez'], sep = '/'), \n",
    "                                                            paste0(['Data_for_RF_Models', 'Board_Counts'], sep ='/')], sep = '/'),\n",
    "                                                    paste0(['route', rt], sep = '_')], sep = '/'),\n",
    "                                            paste0(['direction', di])], sep = '/'),\n",
    "                                    paste0(['bus_stop', st], sep = '_')], sep = '/'), 'pre_lock_test_data.csv'], sep = '/')[0]\n",
    "    \n",
    "        train_data.to_csv(train_data_path, index = False)\n",
    "        test_data.to_csv(test_data_path, index = False)\n",
    "        \n",
    "    elif (part == 'post'):\n",
    "        \n",
    "        file_path = paste0([paste0([paste0([paste0([paste0([paste0(['data', 'jmartinez'], sep = '/'), \n",
    "                                                        paste0(['Data_for_RF_Models', 'Board_Counts'], sep ='/')], sep = '/'),\n",
    "                                                paste0(['route', rt], sep = '_')], sep = '/'),\n",
    "                                        paste0(['direction', di])], sep = '/'),\n",
    "                                paste0(['bus_stop', st], sep = '_')], sep = '/'), 'post_lock_data.csv'], sep = '/')[0]\n",
    "          \n",
    "        dtt = pd.read_csv(file_path)\n",
    "            \n",
    "        train_data, test_data = train_test_split(dtt, test_size=0.2)\n",
    "    \n",
    "        train_data = train_data[['month', 'service_kind', 'hour', 'board_count', 'mean_temp',\n",
    "                                 'mean_precip', 'month_average_board_count', 'surrounding_board_count']]\n",
    "        \n",
    "        train_data.dropna(how = 'all', axis = 1, inplace = True)\n",
    "    \n",
    "        test_data = test_data[['month', 'service_kind', 'hour', 'board_count', 'mean_temp',\n",
    "                               'mean_precip', 'month_average_board_count', 'surrounding_board_count']]\n",
    "        \n",
    "        test_data.dropna(how = 'all', axis = 1, inplace = True)\n",
    "    \n",
    "        train_data_path = paste0([paste0([paste0([paste0([paste0([paste0(['data', 'jmartinez'], sep = '/'), \n",
    "                                                                  paste0(['Data_for_RF_Models', 'Board_Counts'], sep ='/')], sep = '/'),\n",
    "                                                          paste0(['route', rt], sep = '_')], sep = '/'),\n",
    "                                                  paste0(['direction', di])], sep = '/'),\n",
    "                                          paste0(['bus_stop', st], sep = '_')], sep = '/'), 'post_lock_train_data.csv'], sep = '/')[0]\n",
    "           \n",
    "        test_data_path = paste0([paste0([paste0([paste0([paste0([paste0(['data', 'jmartinez'], sep = '/'), \n",
    "                                                            paste0(['Data_for_RF_Models', 'Board_Counts'], sep ='/')], sep = '/'),\n",
    "                                                    paste0(['route', rt], sep = '_')], sep = '/'),\n",
    "                                            paste0(['direction', di])], sep = '/'),\n",
    "                                    paste0(['bus_stop', st], sep = '_')], sep = '/'), 'post_lock_test_data.csv'], sep = '/')[0]\n",
    "    \n",
    "        train_data.to_csv(train_data_path, index = False)\n",
    "        test_data.to_csv(test_data_path, index = False)\n",
    "    \n",
    "    return('Done!')\n",
    "        "
   ]
  },
  {
   "cell_type": "markdown",
   "id": "ad4bce12-2a7e-447e-8ce8-40b2e4993e65",
   "metadata": {},
   "source": [
    "### Example:\n",
    "\n",
    "Let's create a data partition for `stop_id == 354` and the following data inputs:\n",
    "\n",
    "* `route_id == '9'`\n",
    "* `direction_id == '0'`\n",
    "* `stop_id == '354'`\n",
    "* `part == 'post'`"
   ]
  },
  {
   "cell_type": "code",
   "execution_count": 36,
   "id": "11dabd36-fba5-4640-8fec-95546c17f058",
   "metadata": {},
   "outputs": [
    {
     "data": {
      "text/plain": [
       "'Done!'"
      ]
     },
     "execution_count": 36,
     "metadata": {},
     "output_type": "execute_result"
    }
   ],
   "source": [
    "data_partition_for_ml('9', '0', '354', 'post')"
   ]
  },
  {
   "cell_type": "markdown",
   "id": "37802e40-92dc-44db-96aa-32af43ce047d",
   "metadata": {},
   "source": [
    "Similarly, we can iterate this process by using the `data_partition_for_ml()` inside a  `for loop` whose counter changes according to the `route_id`, `direction_id`, data partition:"
   ]
  },
  {
   "cell_type": "code",
   "execution_count": 47,
   "id": "f8b82ade-50a2-4c3a-8397-442729c87cd0",
   "metadata": {},
   "outputs": [],
   "source": [
    "def get_data_partition_bus_stop_ml(rt_id, dir_id, part):\n",
    "    \n",
    "    if (part == 'all'):\n",
    "            \n",
    "        bus_stops_rX_dirY = carta[(carta['route_id'] == rt_id) & (carta['direction_id'] == dir_id)]['stop_id'].unique()\n",
    "    \n",
    "        for st in bus_stops_rX_dirY:\n",
    "            data_partition_for_ml(rt_id, dir_id, st, 'all')\n",
    "            \n",
    "    elif (part == 'pre'):\n",
    "        \n",
    "        bus_stops_rX_dirY = Pre_lock[(Pre_lock['route_id'] == rt_id) & (Pre_lock['direction_id'] == dir_id)]['stop_id'].unique()\n",
    "    \n",
    "        for st in bus_stops_rX_dirY:\n",
    "            data_partition_for_ml(rt_id, dir_id, st, 'pre')\n",
    "            \n",
    "    elif (part == 'post'):\n",
    "        \n",
    "        bus_stops_rX_dirY = Post_lock[(Post_lock['route_id'] == rt_id) & (Post_lock['direction_id'] == dir_id)]['stop_id'].unique()\n",
    "    \n",
    "        for st in bus_stops_rX_dirY:\n",
    "            data_partition_for_ml(rt_id, dir_id, st, 'post')\n",
    "        \n",
    "    return('Done!')"
   ]
  },
  {
   "cell_type": "markdown",
   "id": "bdb821f0-26fd-410a-aadd-09554f82ae22",
   "metadata": {},
   "source": [
    "Finally, we can automatize this process for the desired input values:"
   ]
  },
  {
   "cell_type": "code",
   "execution_count": 55,
   "id": "c7d05b20-e1f9-42cf-b505-43c2c4c146ea",
   "metadata": {},
   "outputs": [
    {
     "data": {
      "text/plain": [
       "'Done!'"
      ]
     },
     "execution_count": 55,
     "metadata": {},
     "output_type": "execute_result"
    }
   ],
   "source": [
    "data_partition_for_ml('1', '0', '1351', 'pre')"
   ]
  },
  {
   "cell_type": "code",
   "execution_count": 49,
   "id": "8c60f76c-b403-4eb8-ab0a-582a0fb0feaa",
   "metadata": {},
   "outputs": [
    {
     "data": {
      "text/plain": [
       "'Done!'"
      ]
     },
     "execution_count": 49,
     "metadata": {},
     "output_type": "execute_result"
    }
   ],
   "source": [
    "get_data_partition_bus_stop_ml('1', '0', 'post')"
   ]
  },
  {
   "cell_type": "code",
   "execution_count": 43,
   "id": "dc46af14-995f-4eeb-a4aa-35058bc07fde",
   "metadata": {},
   "outputs": [
    {
     "data": {
      "text/plain": [
       "'Done!'"
      ]
     },
     "execution_count": 43,
     "metadata": {},
     "output_type": "execute_result"
    }
   ],
   "source": [
    "get_data_partition_bus_stop_ml('1', '1', 'pre')\n",
    "get_data_partition_bus_stop_ml('1', '1', 'post')"
   ]
  },
  {
   "cell_type": "code",
   "execution_count": 50,
   "id": "f50546ff-3153-4d70-a6d1-65533dfd426e",
   "metadata": {},
   "outputs": [
    {
     "data": {
      "text/plain": [
       "'Done!'"
      ]
     },
     "execution_count": 50,
     "metadata": {},
     "output_type": "execute_result"
    }
   ],
   "source": [
    "get_data_partition_bus_stop_ml('4', '0', 'pre')\n",
    "get_data_partition_bus_stop_ml('4', '0', 'post')"
   ]
  },
  {
   "cell_type": "code",
   "execution_count": 52,
   "id": "f1f8bc89-f6aa-4a5b-8b1e-1fb1275cdcf2",
   "metadata": {},
   "outputs": [
    {
     "data": {
      "text/plain": [
       "'Done!'"
      ]
     },
     "execution_count": 52,
     "metadata": {},
     "output_type": "execute_result"
    }
   ],
   "source": [
    "get_data_partition_bus_stop_ml('4', '1', 'pre')\n",
    "get_data_partition_bus_stop_ml('4', '1', 'post')"
   ]
  },
  {
   "cell_type": "code",
   "execution_count": 35,
   "id": "39745800-6ca8-4d82-89d3-8486ad180697",
   "metadata": {},
   "outputs": [
    {
     "data": {
      "text/plain": [
       "'Done!'"
      ]
     },
     "execution_count": 35,
     "metadata": {},
     "output_type": "execute_result"
    }
   ],
   "source": [
    "get_data_partition_bus_stop_ml('9', '0', 'pre')\n",
    "get_data_partition_bus_stop_ml('9', '0', 'post')"
   ]
  },
  {
   "cell_type": "code",
   "execution_count": 39,
   "id": "2e8149bc-a7fe-44b9-bdc9-e932aaf017a6",
   "metadata": {},
   "outputs": [
    {
     "data": {
      "text/plain": [
       "'Done!'"
      ]
     },
     "execution_count": 39,
     "metadata": {},
     "output_type": "execute_result"
    }
   ],
   "source": [
    "get_data_partition_bus_stop_ml('9', '1', 'pre')\n",
    "get_data_partition_bus_stop_ml('9', '1', 'post')"
   ]
  },
  {
   "cell_type": "code",
   "execution_count": 157,
   "id": "19e7daf7-b40d-4db5-81d3-01f745c1ec7b",
   "metadata": {},
   "outputs": [
    {
     "data": {
      "text/plain": [
       "'Done!'"
      ]
     },
     "execution_count": 157,
     "metadata": {},
     "output_type": "execute_result"
    }
   ],
   "source": [
    "get_data_partition_bus_stop('10A', '0')\n",
    "get_data_partition_bus_stop('10A', '1')"
   ]
  },
  {
   "cell_type": "code",
   "execution_count": 158,
   "id": "b85dc6b4-89a2-464b-a22c-de6faef4c05c",
   "metadata": {},
   "outputs": [
    {
     "data": {
      "text/plain": [
       "'Done!'"
      ]
     },
     "execution_count": 158,
     "metadata": {},
     "output_type": "execute_result"
    }
   ],
   "source": [
    "get_data_partition_bus_stop('10C', '0')\n",
    "get_data_partition_bus_stop('10C', '1')"
   ]
  },
  {
   "cell_type": "code",
   "execution_count": 160,
   "id": "a7805a05-5fbc-485a-8a80-0e24de437107",
   "metadata": {},
   "outputs": [
    {
     "data": {
      "text/plain": [
       "'Done!'"
      ]
     },
     "execution_count": 160,
     "metadata": {},
     "output_type": "execute_result"
    }
   ],
   "source": [
    "get_data_partition_bus_stop('13', '0')\n",
    "get_data_partition_bus_stop('13', '1')"
   ]
  },
  {
   "cell_type": "code",
   "execution_count": 161,
   "id": "20f442af-1893-469e-8ad4-b63441d5b55e",
   "metadata": {},
   "outputs": [
    {
     "data": {
      "text/plain": [
       "'Done!'"
      ]
     },
     "execution_count": 161,
     "metadata": {},
     "output_type": "execute_result"
    }
   ],
   "source": [
    "get_data_partition_bus_stop('15', '0')\n",
    "get_data_partition_bus_stop('15', '1')"
   ]
  },
  {
   "cell_type": "code",
   "execution_count": 163,
   "id": "5876ac09-2de4-481f-8196-be541134d953",
   "metadata": {},
   "outputs": [
    {
     "data": {
      "text/plain": [
       "'Done!'"
      ]
     },
     "execution_count": 163,
     "metadata": {},
     "output_type": "execute_result"
    }
   ],
   "source": [
    "get_data_partition_bus_stop('19', '0')\n",
    "get_data_partition_bus_stop('19', '1')"
   ]
  },
  {
   "cell_type": "code",
   "execution_count": 164,
   "id": "e31d03b7-f176-493f-b5d4-947993038636",
   "metadata": {},
   "outputs": [
    {
     "data": {
      "text/plain": [
       "'Done!'"
      ]
     },
     "execution_count": 164,
     "metadata": {},
     "output_type": "execute_result"
    }
   ],
   "source": [
    "get_data_partition_bus_stop('21', '0')\n",
    "get_data_partition_bus_stop('21', '1')"
   ]
  },
  {
   "cell_type": "code",
   "execution_count": 165,
   "id": "90fe9e6a-370c-4962-a957-da47fded1b69",
   "metadata": {},
   "outputs": [
    {
     "data": {
      "text/plain": [
       "'Done!'"
      ]
     },
     "execution_count": 165,
     "metadata": {},
     "output_type": "execute_result"
    }
   ],
   "source": [
    "get_data_partition_bus_stop('28', '0')\n",
    "get_data_partition_bus_stop('28', '1')"
   ]
  }
 ],
 "metadata": {
  "environment": {
   "name": "r-cpu.3-6.m65",
   "type": "gcloud",
   "uri": "gcr.io/deeplearning-platform-release/r-cpu.3-6:m65"
  },
  "interpreter": {
   "hash": "63fd5069d213b44bf678585dea6b12cceca9941eaf7f819626cde1f2670de90d"
  },
  "kernelspec": {
   "display_name": "Python 3 (ipykernel)",
   "language": "python",
   "name": "python3"
  },
  "language_info": {
   "codemirror_mode": {
    "name": "ipython",
    "version": 3
   },
   "file_extension": ".py",
   "mimetype": "text/x-python",
   "name": "python",
   "nbconvert_exporter": "python",
   "pygments_lexer": "ipython3",
   "version": "3.9.5"
  }
 },
 "nbformat": 4,
 "nbformat_minor": 5
}
