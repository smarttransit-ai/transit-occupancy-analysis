{
 "cells": [
  {
   "cell_type": "markdown",
   "id": "painted-subsection",
   "metadata": {},
   "source": [
    "# Demand Models\n",
    "\n",
    "We consider three approaches to model demand (board and alight counts):\n",
    "\n",
    "1. Random Forest-Random Forest: We train a random forest model to classify zero counts, and we also train a second random forest model for counts.\n",
    "2. Classification: Instead of modeling demand as a regression problem, we build three different labels to indicate low, average, and high demand. Then, we train tree-based methods to model (classify) these labels.\n",
    "3. Neural Networks and Zero Inflated models."
   ]
  },
  {
   "cell_type": "code",
   "execution_count": 1,
   "id": "hourly-cinema",
   "metadata": {},
   "outputs": [],
   "source": [
    "import numpy as np\n",
    "import pandas as pd\n",
    "import timeit\n",
    "import pickle"
   ]
  },
  {
   "cell_type": "code",
   "execution_count": 2,
   "id": "eligible-pipeline",
   "metadata": {},
   "outputs": [],
   "source": [
    "carta = pd.read_csv('Data/Carta_out.csv')"
   ]
  },
  {
   "cell_type": "code",
   "execution_count": 3,
   "id": "turkish-portuguese",
   "metadata": {},
   "outputs": [],
   "source": [
    "carta.stop_id = carta['stop_id'].astype(str)\n",
    "carta.stop_sequence = carta['stop_sequence'].astype(int)\n",
    "carta.route_id = carta['route_id'].astype(str)\n",
    "carta.direction_id = carta['direction_id'].astype(str)\n",
    "carta.service_period = carta['service_period'].astype(str)\n",
    "carta.actual_arrival_time = pd.to_datetime(carta['actual_arrival_time'], format = \"%Y-%m-%d %H:%M:%S\")\n",
    "carta.scheduled_arrival_time = pd.to_datetime(carta['scheduled_arrival_time'], format = \"%Y-%m-%d %H:%M:%S\")\n",
    "carta.date = pd.to_datetime(carta['date'], format = \"%Y-%m-%d\")\n",
    "carta.scheduled_datetime = pd.to_datetime(carta['scheduled_datetime'], format = \"%Y-%m-%d %H:%M:%S\")\n",
    "carta.trip_date = pd.to_datetime(carta['trip_date'], format=\"%Y-%m-%d\")\n",
    "carta.trip_start_time = pd.to_datetime(carta['trip_start_time'], format=\"%Y-%m-%d %H:%M:%S\")"
   ]
  },
  {
   "cell_type": "code",
   "execution_count": 4,
   "id": "breathing-sleeping",
   "metadata": {},
   "outputs": [],
   "source": [
    "carta['year'] = carta['date'].dt.year\n",
    "carta['month'] = carta['date'].dt.month"
   ]
  },
  {
   "cell_type": "code",
   "execution_count": 5,
   "id": "genuine-disorder",
   "metadata": {},
   "outputs": [],
   "source": [
    "# Route 9 - Stop 1710\n",
    "# Route 4 - Stop 1351"
   ]
  },
  {
   "cell_type": "code",
   "execution_count": 6,
   "id": "heavy-standing",
   "metadata": {},
   "outputs": [
    {
     "data": {
      "text/plain": [
       "(5619, 25)"
      ]
     },
     "execution_count": 6,
     "metadata": {},
     "output_type": "execute_result"
    }
   ],
   "source": [
    "carta[(carta['route_id'] == '4') & (carta['stop_id'] == '12') & (carta['direction_id'] == '1')].drop_duplicates().shape"
   ]
  },
  {
   "cell_type": "code",
   "execution_count": 7,
   "id": "pretty-wallace",
   "metadata": {},
   "outputs": [],
   "source": [
    "service_period = carta['service_period']\n",
    "\n",
    "service_kind = []\n",
    "\n",
    "for i in service_period:\n",
    "    if (i == 'Saturday'):\n",
    "        kind = 'weekend'\n",
    "    elif (i == 'Sunday'):\n",
    "        kind = 'weekend'\n",
    "    else:\n",
    "        kind = 'weekday'\n",
    "        \n",
    "    service_kind.append(kind)"
   ]
  },
  {
   "cell_type": "code",
   "execution_count": 8,
   "id": "latter-parker",
   "metadata": {},
   "outputs": [],
   "source": [
    "carta['service_kind'] = service_kind"
   ]
  },
  {
   "cell_type": "code",
   "execution_count": 9,
   "id": "packed-region",
   "metadata": {},
   "outputs": [
    {
     "data": {
      "text/html": [
       "<div>\n",
       "<style scoped>\n",
       "    .dataframe tbody tr th:only-of-type {\n",
       "        vertical-align: middle;\n",
       "    }\n",
       "\n",
       "    .dataframe tbody tr th {\n",
       "        vertical-align: top;\n",
       "    }\n",
       "\n",
       "    .dataframe thead th {\n",
       "        text-align: right;\n",
       "    }\n",
       "</style>\n",
       "<table border=\"1\" class=\"dataframe\">\n",
       "  <thead>\n",
       "    <tr style=\"text-align: right;\">\n",
       "      <th></th>\n",
       "      <th>trip_id</th>\n",
       "      <th>scheduled_arrival_time</th>\n",
       "      <th>actual_arrival_time</th>\n",
       "      <th>stop_id</th>\n",
       "      <th>stop_sequence</th>\n",
       "      <th>stop_lat</th>\n",
       "      <th>stop_lon</th>\n",
       "      <th>route_id</th>\n",
       "      <th>direction_id</th>\n",
       "      <th>board_count</th>\n",
       "      <th>...</th>\n",
       "      <th>actual_arrival_datetime</th>\n",
       "      <th>trip_start_time</th>\n",
       "      <th>day_of_week</th>\n",
       "      <th>trip_date</th>\n",
       "      <th>hour</th>\n",
       "      <th>year</th>\n",
       "      <th>month</th>\n",
       "      <th>Estimated_Temp</th>\n",
       "      <th>Estimated_Precip</th>\n",
       "      <th>service_kind</th>\n",
       "    </tr>\n",
       "  </thead>\n",
       "  <tbody>\n",
       "    <tr>\n",
       "      <th>0</th>\n",
       "      <td>134313</td>\n",
       "      <td>1900-01-01 04:21:00</td>\n",
       "      <td>1900-01-01 04:22:00</td>\n",
       "      <td>354</td>\n",
       "      <td>1</td>\n",
       "      <td>35.056167</td>\n",
       "      <td>-85.268713</td>\n",
       "      <td>4</td>\n",
       "      <td>0</td>\n",
       "      <td>0</td>\n",
       "      <td>...</td>\n",
       "      <td>2019-01-02 04:22:00</td>\n",
       "      <td>1900-01-01 04:21:00</td>\n",
       "      <td>2</td>\n",
       "      <td>2019-01-02</td>\n",
       "      <td>4</td>\n",
       "      <td>2019</td>\n",
       "      <td>1</td>\n",
       "      <td>8.690000</td>\n",
       "      <td>0.0</td>\n",
       "      <td>weekday</td>\n",
       "    </tr>\n",
       "    <tr>\n",
       "      <th>1</th>\n",
       "      <td>134313</td>\n",
       "      <td>1900-01-01 04:23:51</td>\n",
       "      <td>1900-01-01 04:24:00</td>\n",
       "      <td>505</td>\n",
       "      <td>2</td>\n",
       "      <td>35.056017</td>\n",
       "      <td>-85.281080</td>\n",
       "      <td>4</td>\n",
       "      <td>0</td>\n",
       "      <td>0</td>\n",
       "      <td>...</td>\n",
       "      <td>2019-01-02 04:24:00</td>\n",
       "      <td>1900-01-01 04:21:00</td>\n",
       "      <td>2</td>\n",
       "      <td>2019-01-02</td>\n",
       "      <td>4</td>\n",
       "      <td>2019</td>\n",
       "      <td>1</td>\n",
       "      <td>8.661500</td>\n",
       "      <td>0.0</td>\n",
       "      <td>weekday</td>\n",
       "    </tr>\n",
       "    <tr>\n",
       "      <th>2</th>\n",
       "      <td>134360</td>\n",
       "      <td>1900-01-01 04:26:00</td>\n",
       "      <td>1900-01-01 04:25:00</td>\n",
       "      <td>354</td>\n",
       "      <td>1</td>\n",
       "      <td>35.056167</td>\n",
       "      <td>-85.268713</td>\n",
       "      <td>4</td>\n",
       "      <td>0</td>\n",
       "      <td>0</td>\n",
       "      <td>...</td>\n",
       "      <td>2019-01-02 04:25:00</td>\n",
       "      <td>1900-01-01 04:26:00</td>\n",
       "      <td>2</td>\n",
       "      <td>2019-01-02</td>\n",
       "      <td>4</td>\n",
       "      <td>2019</td>\n",
       "      <td>1</td>\n",
       "      <td>8.640000</td>\n",
       "      <td>0.0</td>\n",
       "      <td>weekday</td>\n",
       "    </tr>\n",
       "    <tr>\n",
       "      <th>3</th>\n",
       "      <td>134313</td>\n",
       "      <td>1900-01-01 04:28:22</td>\n",
       "      <td>1900-01-01 04:27:00</td>\n",
       "      <td>284</td>\n",
       "      <td>5</td>\n",
       "      <td>35.052515</td>\n",
       "      <td>-85.302427</td>\n",
       "      <td>4</td>\n",
       "      <td>0</td>\n",
       "      <td>0</td>\n",
       "      <td>...</td>\n",
       "      <td>2019-01-02 04:27:00</td>\n",
       "      <td>1900-01-01 04:21:00</td>\n",
       "      <td>2</td>\n",
       "      <td>2019-01-02</td>\n",
       "      <td>4</td>\n",
       "      <td>2019</td>\n",
       "      <td>1</td>\n",
       "      <td>8.616333</td>\n",
       "      <td>0.0</td>\n",
       "      <td>weekday</td>\n",
       "    </tr>\n",
       "    <tr>\n",
       "      <th>4</th>\n",
       "      <td>134313</td>\n",
       "      <td>1900-01-01 04:28:57</td>\n",
       "      <td>1900-01-01 04:27:00</td>\n",
       "      <td>285</td>\n",
       "      <td>6</td>\n",
       "      <td>35.053513</td>\n",
       "      <td>-85.305272</td>\n",
       "      <td>4</td>\n",
       "      <td>0</td>\n",
       "      <td>0</td>\n",
       "      <td>...</td>\n",
       "      <td>2019-01-02 04:27:00</td>\n",
       "      <td>1900-01-01 04:21:00</td>\n",
       "      <td>2</td>\n",
       "      <td>2019-01-02</td>\n",
       "      <td>4</td>\n",
       "      <td>2019</td>\n",
       "      <td>1</td>\n",
       "      <td>8.610500</td>\n",
       "      <td>0.0</td>\n",
       "      <td>weekday</td>\n",
       "    </tr>\n",
       "  </tbody>\n",
       "</table>\n",
       "<p>5 rows × 26 columns</p>\n",
       "</div>"
      ],
      "text/plain": [
       "   trip_id scheduled_arrival_time actual_arrival_time stop_id  stop_sequence  \\\n",
       "0   134313    1900-01-01 04:21:00 1900-01-01 04:22:00     354              1   \n",
       "1   134313    1900-01-01 04:23:51 1900-01-01 04:24:00     505              2   \n",
       "2   134360    1900-01-01 04:26:00 1900-01-01 04:25:00     354              1   \n",
       "3   134313    1900-01-01 04:28:22 1900-01-01 04:27:00     284              5   \n",
       "4   134313    1900-01-01 04:28:57 1900-01-01 04:27:00     285              6   \n",
       "\n",
       "    stop_lat   stop_lon route_id direction_id  board_count  ...  \\\n",
       "0  35.056167 -85.268713        4            0            0  ...   \n",
       "1  35.056017 -85.281080        4            0            0  ...   \n",
       "2  35.056167 -85.268713        4            0            0  ...   \n",
       "3  35.052515 -85.302427        4            0            0  ...   \n",
       "4  35.053513 -85.305272        4            0            0  ...   \n",
       "\n",
       "   actual_arrival_datetime     trip_start_time day_of_week  trip_date hour  \\\n",
       "0      2019-01-02 04:22:00 1900-01-01 04:21:00           2 2019-01-02    4   \n",
       "1      2019-01-02 04:24:00 1900-01-01 04:21:00           2 2019-01-02    4   \n",
       "2      2019-01-02 04:25:00 1900-01-01 04:26:00           2 2019-01-02    4   \n",
       "3      2019-01-02 04:27:00 1900-01-01 04:21:00           2 2019-01-02    4   \n",
       "4      2019-01-02 04:27:00 1900-01-01 04:21:00           2 2019-01-02    4   \n",
       "\n",
       "   year month Estimated_Temp  Estimated_Precip service_kind  \n",
       "0  2019     1       8.690000               0.0      weekday  \n",
       "1  2019     1       8.661500               0.0      weekday  \n",
       "2  2019     1       8.640000               0.0      weekday  \n",
       "3  2019     1       8.616333               0.0      weekday  \n",
       "4  2019     1       8.610500               0.0      weekday  \n",
       "\n",
       "[5 rows x 26 columns]"
      ]
     },
     "execution_count": 9,
     "metadata": {},
     "output_type": "execute_result"
    }
   ],
   "source": [
    "carta.head()"
   ]
  },
  {
   "cell_type": "code",
   "execution_count": 10,
   "id": "fitting-popularity",
   "metadata": {},
   "outputs": [
    {
     "data": {
      "text/plain": [
       "(9705963, 26)"
      ]
     },
     "execution_count": 10,
     "metadata": {},
     "output_type": "execute_result"
    }
   ],
   "source": [
    "carta.shape"
   ]
  },
  {
   "cell_type": "code",
   "execution_count": 11,
   "id": "published-pride",
   "metadata": {},
   "outputs": [
    {
     "data": {
      "text/plain": [
       "trip_id                             int64\n",
       "scheduled_arrival_time     datetime64[ns]\n",
       "actual_arrival_time        datetime64[ns]\n",
       "stop_id                            object\n",
       "stop_sequence                       int64\n",
       "stop_lat                          float64\n",
       "stop_lon                          float64\n",
       "route_id                           object\n",
       "direction_id                       object\n",
       "board_count                         int64\n",
       "alight_count                        int64\n",
       "occupancy                           int64\n",
       "direction_desc                     object\n",
       "service_period                     object\n",
       "date                       datetime64[ns]\n",
       "scheduled_datetime         datetime64[ns]\n",
       "actual_arrival_datetime            object\n",
       "trip_start_time            datetime64[ns]\n",
       "day_of_week                         int64\n",
       "trip_date                  datetime64[ns]\n",
       "hour                                int64\n",
       "year                                int64\n",
       "month                               int64\n",
       "Estimated_Temp                    float64\n",
       "Estimated_Precip                  float64\n",
       "service_kind                       object\n",
       "dtype: object"
      ]
     },
     "execution_count": 11,
     "metadata": {},
     "output_type": "execute_result"
    }
   ],
   "source": [
    "carta.dtypes"
   ]
  },
  {
   "cell_type": "code",
   "execution_count": 12,
   "id": "rural-spouse",
   "metadata": {},
   "outputs": [
    {
     "data": {
      "text/plain": [
       "array(['4', '7', '13', '9', '1', '8', '10G', '16', '15', '10C', '2', '28',\n",
       "       '19', '10A', '21', '3'], dtype=object)"
      ]
     },
     "execution_count": 12,
     "metadata": {},
     "output_type": "execute_result"
    }
   ],
   "source": [
    "carta['route_id'].unique()"
   ]
  },
  {
   "cell_type": "code",
   "execution_count": 13,
   "id": "julian-companion",
   "metadata": {},
   "outputs": [
    {
     "data": {
      "text/plain": [
       "array(['354', '505', '284', '285', '713', '286', '287', '1351', '12',\n",
       "       '1555', '1579', '1354', '1353', '17', '742', '805', '806', '807',\n",
       "       '1475', '1474', '811', '812', '813', '814', '815', '816', '817',\n",
       "       '818', '819', '820', '821', '822', '823', '824', '825', '826',\n",
       "       '827', '828', '829', '321', '322', '830', '831', '832', '833',\n",
       "       '834', '835', '836', '837', '838', '839', '840', '841', '842',\n",
       "       '843', '844', '845', '846', '848', '849', '850', '851', '852',\n",
       "       '854', '892', '855', '1875', '856', '894', '784', '857', '858',\n",
       "       '283', '859', '897', '860', '861', '898', '1873', '1848', '1849',\n",
       "       '1850', '1819', '867', '1877', '868', '869', '870', '871', '923',\n",
       "       '872', '924', '925', '873', '874', '875', '876', '877', '926',\n",
       "       '927', '879', '928', '880', '881', '929', '930', '931', '882',\n",
       "       '932', '883', '933', '884', '934', '885', '886', '887', '888',\n",
       "       '935', '889', '890', '936', '891', '1578', '1485', '939', '941',\n",
       "       '1860', '943', '1477', '946', '947', '948', '1883', '1919', '951',\n",
       "       '1889', '1853', '952', '953', '954', '955', '956', '957', '959',\n",
       "       '960', '961', '962', '963', '964', '966', '967', '968', '969',\n",
       "       '970', '971', '972', '1545', '1911', '975', '976', '977', '978',\n",
       "       '979', '980', '1862', '981', '982', '983', '984', '985', '986',\n",
       "       '987', '988', '989', '990', '991', '992', '993', '994', '995',\n",
       "       '407', '408', '409', '412', '413', '996', '997', '998', '1820',\n",
       "       '999', '488', '489', '569', '789', '1876', '1482', '1465', '1466',\n",
       "       '1468', '1469', '1470', '1471', '1472', '1473', '1878', '1885',\n",
       "       '1003', '1004', '1910', '1016', '1017', '1018', '1019', '1020',\n",
       "       '1021', '1022', '1023', '1487', '138', '139', '140', '141', '142',\n",
       "       '143', '771', '144', '145', '163', '164', '165', '1361', '1589',\n",
       "       '690', '18', '19', '1557', '1357', '21', '22', '23', '24', '25',\n",
       "       '900', '901', '902', '903', '1908', '905', '1909', '907', '908',\n",
       "       '1880', '1917', '1882', '1884', '1560', '166', '167', '169', '170',\n",
       "       '171', '172', '1015', '2148', '2197', '2245', '2223', '1976',\n",
       "       '1975', '2063', '2068', '2076', '1922', '2010', '568', '2198',\n",
       "       '808'], dtype=object)"
      ]
     },
     "execution_count": 13,
     "metadata": {},
     "output_type": "execute_result"
    }
   ],
   "source": [
    "carta[carta['route_id'] == '4']['stop_id'].unique()"
   ]
  },
  {
   "cell_type": "code",
   "execution_count": 14,
   "id": "threatened-hands",
   "metadata": {},
   "outputs": [
    {
     "data": {
      "text/plain": [
       "Timestamp('2019-01-02 04:21:00')"
      ]
     },
     "execution_count": 14,
     "metadata": {},
     "output_type": "execute_result"
    }
   ],
   "source": [
    "min(carta.scheduled_datetime)"
   ]
  },
  {
   "cell_type": "markdown",
   "id": "bulgarian-island",
   "metadata": {},
   "source": [
    "## Subordinate Functions"
   ]
  },
  {
   "cell_type": "code",
   "execution_count": 15,
   "id": "damaged-screw",
   "metadata": {},
   "outputs": [],
   "source": [
    "def normalizer(x):\n",
    "    \n",
    "    x_min = min(x)\n",
    "    x_max = max(x)\n",
    "    x_norm = (x - x_min)/(x_max - x_min)\n",
    "    \n",
    "    return(x_norm)"
   ]
  },
  {
   "cell_type": "code",
   "execution_count": 16,
   "id": "registered-underground",
   "metadata": {},
   "outputs": [],
   "source": [
    "def standardizer(x):\n",
    "    x_std = x.std()\n",
    "    x_mean = x.mean()\n",
    "    x_standard = (x - x_mean)/x_std\n",
    "    \n",
    "    return(x_standard)"
   ]
  },
  {
   "cell_type": "markdown",
   "id": "excellent-brunswick",
   "metadata": {},
   "source": [
    "## Surrounding Board or Aligh Counts"
   ]
  },
  {
   "cell_type": "code",
   "execution_count": 17,
   "id": "auburn-cholesterol",
   "metadata": {},
   "outputs": [],
   "source": [
    "from shapely.geometry import Point, MultiPoint\n",
    "from shapely.ops import nearest_points\n",
    "import geopandas as gpd\n",
    "from geopy import Point\n",
    "from geopy import distance"
   ]
  },
  {
   "cell_type": "code",
   "execution_count": 18,
   "id": "aware-partnership",
   "metadata": {},
   "outputs": [
    {
     "data": {
      "text/html": [
       "<div>\n",
       "<style scoped>\n",
       "    .dataframe tbody tr th:only-of-type {\n",
       "        vertical-align: middle;\n",
       "    }\n",
       "\n",
       "    .dataframe tbody tr th {\n",
       "        vertical-align: top;\n",
       "    }\n",
       "\n",
       "    .dataframe thead th {\n",
       "        text-align: right;\n",
       "    }\n",
       "</style>\n",
       "<table border=\"1\" class=\"dataframe\">\n",
       "  <thead>\n",
       "    <tr style=\"text-align: right;\">\n",
       "      <th></th>\n",
       "      <th>stop_id</th>\n",
       "      <th>stop_lon</th>\n",
       "      <th>stop_lat</th>\n",
       "    </tr>\n",
       "  </thead>\n",
       "  <tbody>\n",
       "    <tr>\n",
       "      <th>0</th>\n",
       "      <td>971</td>\n",
       "      <td>-85.246812</td>\n",
       "      <td>35.024347</td>\n",
       "    </tr>\n",
       "    <tr>\n",
       "      <th>1</th>\n",
       "      <td>146</td>\n",
       "      <td>-85.304620</td>\n",
       "      <td>34.989585</td>\n",
       "    </tr>\n",
       "    <tr>\n",
       "      <th>2</th>\n",
       "      <td>1545</td>\n",
       "      <td>-85.250863</td>\n",
       "      <td>35.026032</td>\n",
       "    </tr>\n",
       "    <tr>\n",
       "      <th>3</th>\n",
       "      <td>972</td>\n",
       "      <td>-85.248528</td>\n",
       "      <td>35.025717</td>\n",
       "    </tr>\n",
       "    <tr>\n",
       "      <th>4</th>\n",
       "      <td>81</td>\n",
       "      <td>-85.304890</td>\n",
       "      <td>34.990302</td>\n",
       "    </tr>\n",
       "  </tbody>\n",
       "</table>\n",
       "</div>"
      ],
      "text/plain": [
       "  stop_id   stop_lon   stop_lat\n",
       "0     971 -85.246812  35.024347\n",
       "1     146 -85.304620  34.989585\n",
       "2    1545 -85.250863  35.026032\n",
       "3     972 -85.248528  35.025717\n",
       "4      81 -85.304890  34.990302"
      ]
     },
     "execution_count": 18,
     "metadata": {},
     "output_type": "execute_result"
    }
   ],
   "source": [
    "Bus_Stops = pd.read_csv('Bus_Stops.csv')\n",
    "Bus_Stops.stop_id = Bus_Stops['stop_id'].astype(str)\n",
    "Bus_Stops.head()"
   ]
  },
  {
   "cell_type": "markdown",
   "id": "excess-argentina",
   "metadata": {},
   "source": [
    "### Radial Influence"
   ]
  },
  {
   "cell_type": "code",
   "execution_count": 19,
   "id": "flush-minority",
   "metadata": {},
   "outputs": [],
   "source": [
    "def radial_influence(st, radius, DT):\n",
    "    n_row = DT.shape[0]\n",
    "    \n",
    "    stopd_index = DT[DT['stop_id'] == st].index[0]\n",
    "    x0 = DT.stop_lon.iloc[stopd_index]\n",
    "    y0 = DT.stop_lat.iloc[stopd_index]\n",
    "    \n",
    "    radial_dist = []\n",
    "    condition = []\n",
    "    \n",
    "    for i in range(n_row):\n",
    "        \n",
    "        center_point = (x0, y0)\n",
    "        test_point = (DT.stop_lon.iloc[i], DT.stop_lat.iloc[i])\n",
    "        dist = distance.distance(center_point, test_point).miles\n",
    "        \n",
    "        radial_dist.append(dist)\n",
    "        \n",
    "        if (dist <= radius):\n",
    "            \n",
    "            cond = 'inside'\n",
    "            \n",
    "        else:\n",
    "            \n",
    "            cond = 'outside'\n",
    "            \n",
    "        condition.append(cond)\n",
    "        \n",
    "    influence = {'stop_id': DT.stop_id, 'Radial_Distance': radial_dist, 'Influence': condition}\n",
    "    Influence = pd.DataFrame(data = influence, columns = ['stop_id', 'Radial_Distance', 'Influence'])\n",
    "    \n",
    "    return(Influence)"
   ]
  },
  {
   "cell_type": "markdown",
   "id": "vulnerable-register",
   "metadata": {},
   "source": [
    "## Data Extraction"
   ]
  },
  {
   "cell_type": "code",
   "execution_count": 77,
   "id": "acknowledged-product",
   "metadata": {},
   "outputs": [],
   "source": [
    "def data_extraction(route, direction, bus_stop, DTFRM):\n",
    "    import numpy as np\n",
    "    import pandas as pd\n",
    "    import datetime as dt\n",
    "             \n",
    "    dtfrm = DTFRM[(DTFRM['route_id'] == route) & (DTFRM['direction_id'] == direction) & (DTFRM['stop_id'] == bus_stop)]\n",
    "    \n",
    "    n_rows = dtfrm.shape[0]\n",
    "    \n",
    "    if (n_rows == 0):\n",
    "        print('There are not rows in the data set with the required characteristics. Please change them.')\n",
    "        \n",
    "    else:\n",
    "          \n",
    "        vinit = dtfrm[['month', 'service_kind', 'hour', 'Estimated_Temp', 'Estimated_Precip']].groupby(['month', 'service_kind', 'hour']).mean()\n",
    "        Vinit = vinit.reset_index(level = ['month', 'service_kind', 'hour'])\n",
    "        Vinit.columns = ['month', 'service_kind', 'hour', 'mean_temp', 'mean_precip']\n",
    "        Vinit = Vinit.drop_duplicates()\n",
    "    \n",
    "        V1 = dtfrm[[ 'month', 'service_kind', 'hour', 'board_count', 'alight_count']]\n",
    "        V1.columns = ['month', 'service_kind', 'hour', 'board_count', 'alight_count']\n",
    "     \n",
    "        V1 = pd.merge(V1, vinit, on = ['month', 'service_kind', 'hour'], how = 'left')\n",
    "    \n",
    "        Relevant_Bus_Stops = radial_influence(bus_stop, 0.5, Bus_Stops)\n",
    "        bus_stops_ids = Relevant_Bus_Stops.stop_id.unique().astype(str)\n",
    "        bus_stops_ids = pd.DataFrame(bus_stops_ids)\n",
    "        bus_stops_ids.columns = ['stop_id']\n",
    "        bus_stops_ids = bus_stops_ids[bus_stops_ids['stop_id'] != bus_stop]\n",
    "        bus_stops_ids = bus_stops_ids.drop_duplicates()\n",
    "               \n",
    "        V3 = DTFRM[DTFRM['stop_id'].isin(bus_stops_ids.stop_id.astype(str))][['month', 'service_kind', 'hour', 'board_count', 'alight_count']]\n",
    "        V3 = V3.drop_duplicates()\n",
    "        V3a = V3.groupby(['month', 'service_kind', 'hour']).mean()\n",
    "        V3b = V3a.reset_index(level = ['month', 'service_kind', 'hour'])\n",
    "        V3b.columns = ['month', 'service_kind', 'hour', 'surrounding_board_count', 'surrounding_alight_count']\n",
    "        V3b = V3b.drop_duplicates()\n",
    "    \n",
    "        data = pd.merge(V1, V3b, how = 'left', on = [ 'month', 'service_kind', 'hour'])\n",
    "                \n",
    "        data.month = data['month'].astype('category')\n",
    "        data.service_kind = data['service_kind'].astype('category')\n",
    "        data.hour = data['hour'].astype('category')\n",
    "       \n",
    "        data.columns = ['month', 'service_kind', 'hour', 'board_count', 'alight_count', 'mean_temp', 'mean_precip', 'surrounding_board_count', 'surrounding_alight_count']\n",
    "        data = data.drop_duplicates()\n",
    "        \n",
    "        data.surrounding_board_count = normalizer(data['surrounding_board_count'])\n",
    "        #V.surrounding_alight_count = normalizer(V['surrounding_alight_count'])\n",
    "        data.mean_temp = normalizer(data['mean_temp'])\n",
    "        data.mean_precip = normalizer(data['mean_precip'])\n",
    "        \n",
    "        data = data[['month', 'service_kind', 'hour', 'board_count', 'mean_temp', 'mean_precip', 'surrounding_board_count']]\n",
    "        \n",
    "        data = data.reset_index(drop = True)\n",
    "        \n",
    "        #--------------------------------------------------------------------------------------------------------------------\n",
    "        # Export data:\n",
    "        \n",
    "        def paste0(ss,sep=None,na_rep=None,):\n",
    "            '''Analogy to R paste0'''\n",
    "            ss = [pd.Series(s) for s in ss]\n",
    "            ss = [s.astype(str) for s in ss]\n",
    "            s = ss[0]\n",
    "            res = s.str.cat(ss[1:],sep=sep,na_rep=na_rep)\n",
    "            return res\n",
    "        \n",
    "        file_path = paste0([paste0([paste0(['Data_for_RF_Models', 'Board_Counts'], sep ='/'), \n",
    "                                    paste0(['route', route], sep = '_')], sep = '/'), \n",
    "                            paste0([paste0(['direction', direction]),\n",
    "                                    paste0(['bus_stop', bus_stop], sep = '_')], sep = '/')], sep = '/')\n",
    "        \n",
    "        file_name = paste0(['data', '.csv'])\n",
    "        \n",
    "        complete_path = paste0([file_path, file_name], sep = '/')[0]\n",
    "        \n",
    "        data.to_csv(complete_path)\n",
    "        \n",
    "        return(data)"
   ]
  },
  {
   "cell_type": "code",
   "execution_count": 78,
   "id": "active-optimization",
   "metadata": {},
   "outputs": [
    {
     "data": {
      "text/html": [
       "<div>\n",
       "<style scoped>\n",
       "    .dataframe tbody tr th:only-of-type {\n",
       "        vertical-align: middle;\n",
       "    }\n",
       "\n",
       "    .dataframe tbody tr th {\n",
       "        vertical-align: top;\n",
       "    }\n",
       "\n",
       "    .dataframe thead th {\n",
       "        text-align: right;\n",
       "    }\n",
       "</style>\n",
       "<table border=\"1\" class=\"dataframe\">\n",
       "  <thead>\n",
       "    <tr style=\"text-align: right;\">\n",
       "      <th></th>\n",
       "      <th>month</th>\n",
       "      <th>service_kind</th>\n",
       "      <th>hour</th>\n",
       "      <th>board_count</th>\n",
       "      <th>mean_temp</th>\n",
       "      <th>mean_precip</th>\n",
       "      <th>surrounding_board_count</th>\n",
       "    </tr>\n",
       "  </thead>\n",
       "  <tbody>\n",
       "    <tr>\n",
       "      <th>0</th>\n",
       "      <td>1</td>\n",
       "      <td>weekday</td>\n",
       "      <td>9</td>\n",
       "      <td>0</td>\n",
       "      <td>0.065536</td>\n",
       "      <td>0.009611</td>\n",
       "      <td>0.616041</td>\n",
       "    </tr>\n",
       "    <tr>\n",
       "      <th>1</th>\n",
       "      <td>1</td>\n",
       "      <td>weekday</td>\n",
       "      <td>10</td>\n",
       "      <td>1</td>\n",
       "      <td>0.127482</td>\n",
       "      <td>0.021835</td>\n",
       "      <td>0.662874</td>\n",
       "    </tr>\n",
       "    <tr>\n",
       "      <th>2</th>\n",
       "      <td>1</td>\n",
       "      <td>weekday</td>\n",
       "      <td>13</td>\n",
       "      <td>0</td>\n",
       "      <td>0.211614</td>\n",
       "      <td>0.011898</td>\n",
       "      <td>0.785362</td>\n",
       "    </tr>\n",
       "    <tr>\n",
       "      <th>3</th>\n",
       "      <td>1</td>\n",
       "      <td>weekday</td>\n",
       "      <td>14</td>\n",
       "      <td>0</td>\n",
       "      <td>0.226468</td>\n",
       "      <td>0.020642</td>\n",
       "      <td>0.813413</td>\n",
       "    </tr>\n",
       "    <tr>\n",
       "      <th>4</th>\n",
       "      <td>1</td>\n",
       "      <td>weekday</td>\n",
       "      <td>15</td>\n",
       "      <td>0</td>\n",
       "      <td>0.198916</td>\n",
       "      <td>0.017472</td>\n",
       "      <td>0.719390</td>\n",
       "    </tr>\n",
       "    <tr>\n",
       "      <th>...</th>\n",
       "      <td>...</td>\n",
       "      <td>...</td>\n",
       "      <td>...</td>\n",
       "      <td>...</td>\n",
       "      <td>...</td>\n",
       "      <td>...</td>\n",
       "      <td>...</td>\n",
       "    </tr>\n",
       "    <tr>\n",
       "      <th>1392</th>\n",
       "      <td>5</td>\n",
       "      <td>weekday</td>\n",
       "      <td>23</td>\n",
       "      <td>2</td>\n",
       "      <td>0.568541</td>\n",
       "      <td>0.064658</td>\n",
       "      <td>0.559300</td>\n",
       "    </tr>\n",
       "    <tr>\n",
       "      <th>1393</th>\n",
       "      <td>5</td>\n",
       "      <td>weekday</td>\n",
       "      <td>15</td>\n",
       "      <td>1</td>\n",
       "      <td>0.676908</td>\n",
       "      <td>0.007262</td>\n",
       "      <td>0.813769</td>\n",
       "    </tr>\n",
       "    <tr>\n",
       "      <th>1394</th>\n",
       "      <td>5</td>\n",
       "      <td>weekday</td>\n",
       "      <td>21</td>\n",
       "      <td>0</td>\n",
       "      <td>0.647474</td>\n",
       "      <td>0.000000</td>\n",
       "      <td>0.852610</td>\n",
       "    </tr>\n",
       "    <tr>\n",
       "      <th>1395</th>\n",
       "      <td>5</td>\n",
       "      <td>weekend</td>\n",
       "      <td>12</td>\n",
       "      <td>0</td>\n",
       "      <td>0.714363</td>\n",
       "      <td>0.000000</td>\n",
       "      <td>0.672782</td>\n",
       "    </tr>\n",
       "    <tr>\n",
       "      <th>1396</th>\n",
       "      <td>5</td>\n",
       "      <td>weekend</td>\n",
       "      <td>18</td>\n",
       "      <td>4</td>\n",
       "      <td>0.761818</td>\n",
       "      <td>0.000000</td>\n",
       "      <td>0.649527</td>\n",
       "    </tr>\n",
       "  </tbody>\n",
       "</table>\n",
       "<p>1397 rows × 7 columns</p>\n",
       "</div>"
      ],
      "text/plain": [
       "     month service_kind hour  board_count  mean_temp  mean_precip  \\\n",
       "0        1      weekday    9            0   0.065536     0.009611   \n",
       "1        1      weekday   10            1   0.127482     0.021835   \n",
       "2        1      weekday   13            0   0.211614     0.011898   \n",
       "3        1      weekday   14            0   0.226468     0.020642   \n",
       "4        1      weekday   15            0   0.198916     0.017472   \n",
       "...    ...          ...  ...          ...        ...          ...   \n",
       "1392     5      weekday   23            2   0.568541     0.064658   \n",
       "1393     5      weekday   15            1   0.676908     0.007262   \n",
       "1394     5      weekday   21            0   0.647474     0.000000   \n",
       "1395     5      weekend   12            0   0.714363     0.000000   \n",
       "1396     5      weekend   18            4   0.761818     0.000000   \n",
       "\n",
       "      surrounding_board_count  \n",
       "0                    0.616041  \n",
       "1                    0.662874  \n",
       "2                    0.785362  \n",
       "3                    0.813413  \n",
       "4                    0.719390  \n",
       "...                       ...  \n",
       "1392                 0.559300  \n",
       "1393                 0.813769  \n",
       "1394                 0.852610  \n",
       "1395                 0.672782  \n",
       "1396                 0.649527  \n",
       "\n",
       "[1397 rows x 7 columns]"
      ]
     },
     "execution_count": 78,
     "metadata": {},
     "output_type": "execute_result"
    }
   ],
   "source": [
    "data_extraction('4', '1', '12', carta)"
   ]
  },
  {
   "cell_type": "code",
   "execution_count": 18,
   "id": "aging-indicator",
   "metadata": {},
   "outputs": [],
   "source": [
    "board_count_route4_dir1_stop12 = data_extraction('4', '1', '12', carta)"
   ]
  },
  {
   "cell_type": "code",
   "execution_count": 19,
   "id": "divided-canadian",
   "metadata": {},
   "outputs": [
    {
     "data": {
      "text/plain": [
       "(1397, 7)"
      ]
     },
     "execution_count": 19,
     "metadata": {},
     "output_type": "execute_result"
    }
   ],
   "source": [
    "board_count_route4_dir1_stop12.shape"
   ]
  },
  {
   "cell_type": "code",
   "execution_count": null,
   "id": "chinese-cameroon",
   "metadata": {},
   "outputs": [],
   "source": []
  },
  {
   "cell_type": "code",
   "execution_count": 79,
   "id": "arranged-cause",
   "metadata": {},
   "outputs": [],
   "source": [
    "board_count_route4_dir1_stop1351 = data_extraction('4', '1', '1351', carta)"
   ]
  }
 ],
 "metadata": {
  "environment": {
   "name": "r-cpu.3-6.m65",
   "type": "gcloud",
   "uri": "gcr.io/deeplearning-platform-release/r-cpu.3-6:m65"
  },
  "kernelspec": {
   "display_name": "Python 3",
   "language": "python",
   "name": "python3"
  },
  "language_info": {
   "codemirror_mode": {
    "name": "ipython",
    "version": 3
   },
   "file_extension": ".py",
   "mimetype": "text/x-python",
   "name": "python",
   "nbconvert_exporter": "python",
   "pygments_lexer": "ipython3",
   "version": "3.7.10"
  }
 },
 "nbformat": 4,
 "nbformat_minor": 5
}
