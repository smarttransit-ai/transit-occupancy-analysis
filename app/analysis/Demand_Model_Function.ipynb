{
 "cells": [
  {
   "cell_type": "code",
   "execution_count": 2,
   "id": "matched-letters",
   "metadata": {},
   "outputs": [
    {
     "name": "stderr",
     "output_type": "stream",
     "text": [
      "\n",
      "Attaching package: ‘dplyr’\n",
      "\n",
      "\n",
      "The following objects are masked from ‘package:stats’:\n",
      "\n",
      "    filter, lag\n",
      "\n",
      "\n",
      "The following objects are masked from ‘package:base’:\n",
      "\n",
      "    intersect, setdiff, setequal, union\n",
      "\n",
      "\n",
      "── \u001b[1mAttaching packages\u001b[22m ─────────────────────────────────────── tidyverse 1.3.0 ──\n",
      "\n",
      "\u001b[32m✔\u001b[39m \u001b[34mggplot2\u001b[39m 3.3.3     \u001b[32m✔\u001b[39m \u001b[34mpurrr  \u001b[39m 0.3.4\n",
      "\u001b[32m✔\u001b[39m \u001b[34mtibble \u001b[39m 3.1.0     \u001b[32m✔\u001b[39m \u001b[34mstringr\u001b[39m 1.4.0\n",
      "\u001b[32m✔\u001b[39m \u001b[34mreadr  \u001b[39m 1.4.0     \u001b[32m✔\u001b[39m \u001b[34mforcats\u001b[39m 0.5.1\n",
      "\n",
      "── \u001b[1mConflicts\u001b[22m ────────────────────────────────────────── tidyverse_conflicts() ──\n",
      "\u001b[31m✖\u001b[39m \u001b[34mdplyr\u001b[39m::\u001b[32mfilter()\u001b[39m masks \u001b[34mstats\u001b[39m::filter()\n",
      "\u001b[31m✖\u001b[39m \u001b[34mdplyr\u001b[39m::\u001b[32mlag()\u001b[39m    masks \u001b[34mstats\u001b[39m::lag()\n",
      "\n",
      "\n",
      "Attaching package: ‘lubridate’\n",
      "\n",
      "\n",
      "The following objects are masked from ‘package:base’:\n",
      "\n",
      "    date, intersect, setdiff, union\n",
      "\n",
      "\n",
      "\n",
      "Attaching package: ‘data.table’\n",
      "\n",
      "\n",
      "The following objects are masked from ‘package:lubridate’:\n",
      "\n",
      "    hour, isoweek, mday, minute, month, quarter, second, wday, week,\n",
      "    yday, year\n",
      "\n",
      "\n",
      "The following object is masked from ‘package:purrr’:\n",
      "\n",
      "    transpose\n",
      "\n",
      "\n",
      "The following objects are masked from ‘package:dplyr’:\n",
      "\n",
      "    between, first, last\n",
      "\n",
      "\n",
      "\n",
      "Attaching package: ‘MASS’\n",
      "\n",
      "\n",
      "The following object is masked from ‘package:dplyr’:\n",
      "\n",
      "    select\n",
      "\n",
      "\n",
      "Classes and Methods for R developed in the\n",
      "Political Science Computational Laboratory\n",
      "Department of Political Science\n",
      "Stanford University\n",
      "Simon Jackman\n",
      "hurdle and zeroinfl functions by Achim Zeileis\n",
      "\n",
      "Loading required package: lattice\n",
      "\n",
      "\n",
      "Attaching package: ‘caret’\n",
      "\n",
      "\n",
      "The following object is masked from ‘package:purrr’:\n",
      "\n",
      "    lift\n",
      "\n",
      "\n"
     ]
    }
   ],
   "source": [
    "library(dplyr)\n",
    "library(tidyr)\n",
    "library(tidyverse)\n",
    "library(lubridate)\n",
    "library(tibble)\n",
    "library(data.table)\n",
    "library(MASS)\n",
    "library(pscl)\n",
    "library(caret)\n",
    "library(readr)\n",
    "library(ggplot2)"
   ]
  },
  {
   "cell_type": "code",
   "execution_count": 3,
   "id": "polished-settlement",
   "metadata": {},
   "outputs": [
    {
     "name": "stderr",
     "output_type": "stream",
     "text": [
      "Warning message:\n",
      "“Missing column names filled in: 'X1' [1]”\n",
      "\n",
      "\u001b[36m──\u001b[39m \u001b[1m\u001b[1mColumn specification\u001b[1m\u001b[22m \u001b[36m────────────────────────────────────────────────────────\u001b[39m\n",
      "cols(\n",
      "  .default = col_double(),\n",
      "  scheduled_arrival_time = \u001b[34mcol_time(format = \"\")\u001b[39m,\n",
      "  actual_arrival_time = \u001b[34mcol_time(format = \"\")\u001b[39m,\n",
      "  direction_desc = \u001b[31mcol_character()\u001b[39m,\n",
      "  service_period = \u001b[31mcol_character()\u001b[39m,\n",
      "  date = \u001b[34mcol_date(format = \"\")\u001b[39m,\n",
      "  scheduled_datetime = \u001b[34mcol_datetime(format = \"\")\u001b[39m,\n",
      "  actual_arrival_datetime = \u001b[34mcol_datetime(format = \"\")\u001b[39m,\n",
      "  trip_start_time = \u001b[34mcol_time(format = \"\")\u001b[39m,\n",
      "  trip_date = \u001b[34mcol_date(format = \"\")\u001b[39m\n",
      ")\n",
      "\u001b[36mℹ\u001b[39m Use \u001b[30m\u001b[47m\u001b[30m\u001b[47m`spec()`\u001b[47m\u001b[30m\u001b[49m\u001b[39m for the full column specifications.\n",
      "\n",
      "\n"
     ]
    }
   ],
   "source": [
    "#carta = read_csv('carta.csv')[ , -c(1)]\n",
    "carta = read_csv('carta4.csv')[ , -c(1)]"
   ]
  },
  {
   "cell_type": "code",
   "execution_count": 4,
   "id": "middle-apollo",
   "metadata": {},
   "outputs": [],
   "source": [
    "carta$trip_id = as.character(carta$trip_id)\n",
    "carta$stop_id = as.character(carta$stop_id)\n",
    "carta$route_id = as.character(carta$route_id)\n",
    "carta$direction_id = as.character(carta$direction_id)"
   ]
  },
  {
   "cell_type": "code",
   "execution_count": 5,
   "id": "saved-louisville",
   "metadata": {},
   "outputs": [
    {
     "data": {
      "text/html": [
       "<table class=\"dataframe\">\n",
       "<caption>A tibble: 6 × 21</caption>\n",
       "<thead>\n",
       "\t<tr><th scope=col>trip_id</th><th scope=col>scheduled_arrival_time</th><th scope=col>actual_arrival_time</th><th scope=col>stop_id</th><th scope=col>stop_sequence</th><th scope=col>stop_lat</th><th scope=col>stop_lon</th><th scope=col>route_id</th><th scope=col>direction_id</th><th scope=col>board_count</th><th scope=col>⋯</th><th scope=col>occupancy</th><th scope=col>direction_desc</th><th scope=col>service_period</th><th scope=col>date</th><th scope=col>scheduled_datetime</th><th scope=col>actual_arrival_datetime</th><th scope=col>trip_start_time</th><th scope=col>day_of_week</th><th scope=col>trip_date</th><th scope=col>hour</th></tr>\n",
       "\t<tr><th scope=col>&lt;chr&gt;</th><th scope=col>&lt;time&gt;</th><th scope=col>&lt;time&gt;</th><th scope=col>&lt;chr&gt;</th><th scope=col>&lt;dbl&gt;</th><th scope=col>&lt;dbl&gt;</th><th scope=col>&lt;dbl&gt;</th><th scope=col>&lt;chr&gt;</th><th scope=col>&lt;chr&gt;</th><th scope=col>&lt;dbl&gt;</th><th scope=col>⋯</th><th scope=col>&lt;dbl&gt;</th><th scope=col>&lt;chr&gt;</th><th scope=col>&lt;chr&gt;</th><th scope=col>&lt;date&gt;</th><th scope=col>&lt;dttm&gt;</th><th scope=col>&lt;dttm&gt;</th><th scope=col>&lt;time&gt;</th><th scope=col>&lt;dbl&gt;</th><th scope=col>&lt;date&gt;</th><th scope=col>&lt;dbl&gt;</th></tr>\n",
       "</thead>\n",
       "<tbody>\n",
       "\t<tr><td>139669</td><td>14:00:47</td><td>14:05:00</td><td>12</td><td> 2</td><td>35.0507</td><td>-85.30953</td><td>4</td><td>0</td><td>2</td><td>⋯</td><td>8</td><td>OUTBOUND</td><td>Weekday</td><td>2019-11-01</td><td>2019-11-01 14:00:47</td><td>2019-11-01 14:05:00</td><td>14:00:00</td><td>4</td><td>2019-11-01</td><td>14</td></tr>\n",
       "\t<tr><td>139670</td><td>16:15:47</td><td>16:36:00</td><td>12</td><td> 2</td><td>35.0507</td><td>-85.30953</td><td>4</td><td>0</td><td>0</td><td>⋯</td><td>5</td><td>OUTBOUND</td><td>Weekday</td><td>2019-11-01</td><td>2019-11-01 16:15:47</td><td>2019-11-01 16:36:00</td><td>16:15:00</td><td>4</td><td>2019-11-01</td><td>16</td></tr>\n",
       "\t<tr><td>139671</td><td>18:30:52</td><td>18:41:00</td><td>12</td><td> 2</td><td>35.0507</td><td>-85.30953</td><td>4</td><td>0</td><td>0</td><td>⋯</td><td>5</td><td>OUTBOUND</td><td>Weekday</td><td>2019-11-01</td><td>2019-11-01 18:30:52</td><td>2019-11-01 18:41:00</td><td>18:30:00</td><td>4</td><td>2019-11-01</td><td>18</td></tr>\n",
       "\t<tr><td>139737</td><td>20:35:24</td><td>20:43:00</td><td>12</td><td>87</td><td>35.0507</td><td>-85.30953</td><td>4</td><td>1</td><td>0</td><td>⋯</td><td>3</td><td>INBOUND </td><td>Weekday</td><td>2019-11-01</td><td>2019-11-01 20:35:24</td><td>2019-11-01 20:43:00</td><td>19:40:00</td><td>4</td><td>2019-11-01</td><td>20</td></tr>\n",
       "\t<tr><td>139675</td><td>17:45:27</td><td>17:45:00</td><td>12</td><td> 2</td><td>35.0507</td><td>-85.30953</td><td>4</td><td>0</td><td>0</td><td>⋯</td><td>1</td><td>OUTBOUND</td><td>Weekday</td><td>2019-11-01</td><td>2019-11-01 17:45:27</td><td>2019-11-01 17:45:00</td><td>17:45:00</td><td>4</td><td>2019-11-01</td><td>17</td></tr>\n",
       "\t<tr><td>139688</td><td>13:40:47</td><td>13:42:00</td><td>12</td><td> 2</td><td>35.0507</td><td>-85.30953</td><td>4</td><td>0</td><td>3</td><td>⋯</td><td>7</td><td>OUTBOUND</td><td>Weekday</td><td>2019-11-01</td><td>2019-11-01 13:40:47</td><td>2019-11-01 13:42:00</td><td>13:40:00</td><td>4</td><td>2019-11-01</td><td>13</td></tr>\n",
       "</tbody>\n",
       "</table>\n"
      ],
      "text/latex": [
       "A tibble: 6 × 21\n",
       "\\begin{tabular}{lllllllllllllllllllll}\n",
       " trip\\_id & scheduled\\_arrival\\_time & actual\\_arrival\\_time & stop\\_id & stop\\_sequence & stop\\_lat & stop\\_lon & route\\_id & direction\\_id & board\\_count & ⋯ & occupancy & direction\\_desc & service\\_period & date & scheduled\\_datetime & actual\\_arrival\\_datetime & trip\\_start\\_time & day\\_of\\_week & trip\\_date & hour\\\\\n",
       " <chr> & <time> & <time> & <chr> & <dbl> & <dbl> & <dbl> & <chr> & <chr> & <dbl> & ⋯ & <dbl> & <chr> & <chr> & <date> & <dttm> & <dttm> & <time> & <dbl> & <date> & <dbl>\\\\\n",
       "\\hline\n",
       "\t 139669 & 14:00:47 & 14:05:00 & 12 &  2 & 35.0507 & -85.30953 & 4 & 0 & 2 & ⋯ & 8 & OUTBOUND & Weekday & 2019-11-01 & 2019-11-01 14:00:47 & 2019-11-01 14:05:00 & 14:00:00 & 4 & 2019-11-01 & 14\\\\\n",
       "\t 139670 & 16:15:47 & 16:36:00 & 12 &  2 & 35.0507 & -85.30953 & 4 & 0 & 0 & ⋯ & 5 & OUTBOUND & Weekday & 2019-11-01 & 2019-11-01 16:15:47 & 2019-11-01 16:36:00 & 16:15:00 & 4 & 2019-11-01 & 16\\\\\n",
       "\t 139671 & 18:30:52 & 18:41:00 & 12 &  2 & 35.0507 & -85.30953 & 4 & 0 & 0 & ⋯ & 5 & OUTBOUND & Weekday & 2019-11-01 & 2019-11-01 18:30:52 & 2019-11-01 18:41:00 & 18:30:00 & 4 & 2019-11-01 & 18\\\\\n",
       "\t 139737 & 20:35:24 & 20:43:00 & 12 & 87 & 35.0507 & -85.30953 & 4 & 1 & 0 & ⋯ & 3 & INBOUND  & Weekday & 2019-11-01 & 2019-11-01 20:35:24 & 2019-11-01 20:43:00 & 19:40:00 & 4 & 2019-11-01 & 20\\\\\n",
       "\t 139675 & 17:45:27 & 17:45:00 & 12 &  2 & 35.0507 & -85.30953 & 4 & 0 & 0 & ⋯ & 1 & OUTBOUND & Weekday & 2019-11-01 & 2019-11-01 17:45:27 & 2019-11-01 17:45:00 & 17:45:00 & 4 & 2019-11-01 & 17\\\\\n",
       "\t 139688 & 13:40:47 & 13:42:00 & 12 &  2 & 35.0507 & -85.30953 & 4 & 0 & 3 & ⋯ & 7 & OUTBOUND & Weekday & 2019-11-01 & 2019-11-01 13:40:47 & 2019-11-01 13:42:00 & 13:40:00 & 4 & 2019-11-01 & 13\\\\\n",
       "\\end{tabular}\n"
      ],
      "text/markdown": [
       "\n",
       "A tibble: 6 × 21\n",
       "\n",
       "| trip_id &lt;chr&gt; | scheduled_arrival_time &lt;time&gt; | actual_arrival_time &lt;time&gt; | stop_id &lt;chr&gt; | stop_sequence &lt;dbl&gt; | stop_lat &lt;dbl&gt; | stop_lon &lt;dbl&gt; | route_id &lt;chr&gt; | direction_id &lt;chr&gt; | board_count &lt;dbl&gt; | ⋯ ⋯ | occupancy &lt;dbl&gt; | direction_desc &lt;chr&gt; | service_period &lt;chr&gt; | date &lt;date&gt; | scheduled_datetime &lt;dttm&gt; | actual_arrival_datetime &lt;dttm&gt; | trip_start_time &lt;time&gt; | day_of_week &lt;dbl&gt; | trip_date &lt;date&gt; | hour &lt;dbl&gt; |\n",
       "|---|---|---|---|---|---|---|---|---|---|---|---|---|---|---|---|---|---|---|---|---|\n",
       "| 139669 | 14:00:47 | 14:05:00 | 12 |  2 | 35.0507 | -85.30953 | 4 | 0 | 2 | ⋯ | 8 | OUTBOUND | Weekday | 2019-11-01 | 2019-11-01 14:00:47 | 2019-11-01 14:05:00 | 14:00:00 | 4 | 2019-11-01 | 14 |\n",
       "| 139670 | 16:15:47 | 16:36:00 | 12 |  2 | 35.0507 | -85.30953 | 4 | 0 | 0 | ⋯ | 5 | OUTBOUND | Weekday | 2019-11-01 | 2019-11-01 16:15:47 | 2019-11-01 16:36:00 | 16:15:00 | 4 | 2019-11-01 | 16 |\n",
       "| 139671 | 18:30:52 | 18:41:00 | 12 |  2 | 35.0507 | -85.30953 | 4 | 0 | 0 | ⋯ | 5 | OUTBOUND | Weekday | 2019-11-01 | 2019-11-01 18:30:52 | 2019-11-01 18:41:00 | 18:30:00 | 4 | 2019-11-01 | 18 |\n",
       "| 139737 | 20:35:24 | 20:43:00 | 12 | 87 | 35.0507 | -85.30953 | 4 | 1 | 0 | ⋯ | 3 | INBOUND  | Weekday | 2019-11-01 | 2019-11-01 20:35:24 | 2019-11-01 20:43:00 | 19:40:00 | 4 | 2019-11-01 | 20 |\n",
       "| 139675 | 17:45:27 | 17:45:00 | 12 |  2 | 35.0507 | -85.30953 | 4 | 0 | 0 | ⋯ | 1 | OUTBOUND | Weekday | 2019-11-01 | 2019-11-01 17:45:27 | 2019-11-01 17:45:00 | 17:45:00 | 4 | 2019-11-01 | 17 |\n",
       "| 139688 | 13:40:47 | 13:42:00 | 12 |  2 | 35.0507 | -85.30953 | 4 | 0 | 3 | ⋯ | 7 | OUTBOUND | Weekday | 2019-11-01 | 2019-11-01 13:40:47 | 2019-11-01 13:42:00 | 13:40:00 | 4 | 2019-11-01 | 13 |\n",
       "\n"
      ],
      "text/plain": [
       "  trip_id scheduled_arrival_time actual_arrival_time stop_id stop_sequence\n",
       "1 139669  14:00:47               14:05:00            12       2           \n",
       "2 139670  16:15:47               16:36:00            12       2           \n",
       "3 139671  18:30:52               18:41:00            12       2           \n",
       "4 139737  20:35:24               20:43:00            12      87           \n",
       "5 139675  17:45:27               17:45:00            12       2           \n",
       "6 139688  13:40:47               13:42:00            12       2           \n",
       "  stop_lat stop_lon  route_id direction_id board_count ⋯ occupancy\n",
       "1 35.0507  -85.30953 4        0            2           ⋯ 8        \n",
       "2 35.0507  -85.30953 4        0            0           ⋯ 5        \n",
       "3 35.0507  -85.30953 4        0            0           ⋯ 5        \n",
       "4 35.0507  -85.30953 4        1            0           ⋯ 3        \n",
       "5 35.0507  -85.30953 4        0            0           ⋯ 1        \n",
       "6 35.0507  -85.30953 4        0            3           ⋯ 7        \n",
       "  direction_desc service_period date       scheduled_datetime \n",
       "1 OUTBOUND       Weekday        2019-11-01 2019-11-01 14:00:47\n",
       "2 OUTBOUND       Weekday        2019-11-01 2019-11-01 16:15:47\n",
       "3 OUTBOUND       Weekday        2019-11-01 2019-11-01 18:30:52\n",
       "4 INBOUND        Weekday        2019-11-01 2019-11-01 20:35:24\n",
       "5 OUTBOUND       Weekday        2019-11-01 2019-11-01 17:45:27\n",
       "6 OUTBOUND       Weekday        2019-11-01 2019-11-01 13:40:47\n",
       "  actual_arrival_datetime trip_start_time day_of_week trip_date  hour\n",
       "1 2019-11-01 14:05:00     14:00:00        4           2019-11-01 14  \n",
       "2 2019-11-01 16:36:00     16:15:00        4           2019-11-01 16  \n",
       "3 2019-11-01 18:41:00     18:30:00        4           2019-11-01 18  \n",
       "4 2019-11-01 20:43:00     19:40:00        4           2019-11-01 20  \n",
       "5 2019-11-01 17:45:00     17:45:00        4           2019-11-01 17  \n",
       "6 2019-11-01 13:42:00     13:40:00        4           2019-11-01 13  "
      ]
     },
     "metadata": {},
     "output_type": "display_data"
    }
   ],
   "source": [
    "head(carta)"
   ]
  },
  {
   "cell_type": "code",
   "execution_count": 6,
   "id": "single-diversity",
   "metadata": {},
   "outputs": [
    {
     "data": {
      "text/html": [
       "<style>\n",
       ".list-inline {list-style: none; margin:0; padding: 0}\n",
       ".list-inline>li {display: inline-block}\n",
       ".list-inline>li:not(:last-child)::after {content: \"\\00b7\"; padding: 0 .5ex}\n",
       "</style>\n",
       "<ol class=list-inline><li>4</li><li>5</li><li>6</li><li>0</li><li>1</li><li>2</li><li>3</li></ol>\n"
      ],
      "text/latex": [
       "\\begin{enumerate*}\n",
       "\\item 4\n",
       "\\item 5\n",
       "\\item 6\n",
       "\\item 0\n",
       "\\item 1\n",
       "\\item 2\n",
       "\\item 3\n",
       "\\end{enumerate*}\n"
      ],
      "text/markdown": [
       "1. 4\n",
       "2. 5\n",
       "3. 6\n",
       "4. 0\n",
       "5. 1\n",
       "6. 2\n",
       "7. 3\n",
       "\n",
       "\n"
      ],
      "text/plain": [
       "[1] 4 5 6 0 1 2 3"
      ]
     },
     "metadata": {},
     "output_type": "display_data"
    }
   ],
   "source": [
    "unique(carta$day_of_week)"
   ]
  },
  {
   "cell_type": "code",
   "execution_count": 7,
   "id": "coordinated-italy",
   "metadata": {},
   "outputs": [
    {
     "data": {
      "text/html": [
       "<time datetime=\"2020-05-31\">2020-05-31</time>"
      ],
      "text/latex": [
       "2020-05-31"
      ],
      "text/markdown": [
       "2020-05-31"
      ],
      "text/plain": [
       "[1] \"2020-05-31\""
      ]
     },
     "metadata": {},
     "output_type": "display_data"
    }
   ],
   "source": [
    "max(sort(carta$date))"
   ]
  },
  {
   "cell_type": "code",
   "execution_count": 9,
   "id": "hydraulic-stage",
   "metadata": {},
   "outputs": [
    {
     "data": {
      "text/html": [
       "<time datetime=\"2019-01-02\">2019-01-02</time>"
      ],
      "text/latex": [
       "2019-01-02"
      ],
      "text/markdown": [
       "2019-01-02"
      ],
      "text/plain": [
       "[1] \"2019-01-02\""
      ]
     },
     "metadata": {},
     "output_type": "display_data"
    }
   ],
   "source": [
    "min(sort(carta$date))"
   ]
  },
  {
   "cell_type": "markdown",
   "id": "advised-pointer",
   "metadata": {},
   "source": [
    "# Weather Data\n",
    "\n",
    "## Part A"
   ]
  },
  {
   "cell_type": "code",
   "execution_count": 10,
   "id": "advanced-colon",
   "metadata": {},
   "outputs": [
    {
     "name": "stderr",
     "output_type": "stream",
     "text": [
      "\n",
      "\u001b[36m──\u001b[39m \u001b[1m\u001b[1mColumn specification\u001b[1m\u001b[22m \u001b[36m────────────────────────────────────────────────────────\u001b[39m\n",
      "cols(\n",
      "  date_time = \u001b[34mcol_datetime(format = \"\")\u001b[39m,\n",
      "  Estimated_Temp = \u001b[32mcol_double()\u001b[39m,\n",
      "  Estimated_Precip = \u001b[32mcol_double()\u001b[39m\n",
      ")\n",
      "\n",
      "\n"
     ]
    },
    {
     "data": {
      "text/html": [
       "<table class=\"dataframe\">\n",
       "<caption>A tibble: 6 × 3</caption>\n",
       "<thead>\n",
       "\t<tr><th scope=col>date_time</th><th scope=col>Estimated_Temp</th><th scope=col>Estimated_Precip</th></tr>\n",
       "\t<tr><th scope=col>&lt;dttm&gt;</th><th scope=col>&lt;dbl&gt;</th><th scope=col>&lt;dbl&gt;</th></tr>\n",
       "</thead>\n",
       "<tbody>\n",
       "\t<tr><td>2019-01-02 08:41:00</td><td>8.141667</td><td>0</td></tr>\n",
       "\t<tr><td>2019-01-02 08:41:06</td><td>8.142500</td><td>0</td></tr>\n",
       "\t<tr><td>2019-01-02 08:41:12</td><td>8.143333</td><td>0</td></tr>\n",
       "\t<tr><td>2019-01-02 08:42:03</td><td>8.150417</td><td>0</td></tr>\n",
       "\t<tr><td>2019-01-02 08:43:10</td><td>8.159722</td><td>0</td></tr>\n",
       "\t<tr><td>2019-01-02 08:44:09</td><td>8.167917</td><td>0</td></tr>\n",
       "</tbody>\n",
       "</table>\n"
      ],
      "text/latex": [
       "A tibble: 6 × 3\n",
       "\\begin{tabular}{lll}\n",
       " date\\_time & Estimated\\_Temp & Estimated\\_Precip\\\\\n",
       " <dttm> & <dbl> & <dbl>\\\\\n",
       "\\hline\n",
       "\t 2019-01-02 08:41:00 & 8.141667 & 0\\\\\n",
       "\t 2019-01-02 08:41:06 & 8.142500 & 0\\\\\n",
       "\t 2019-01-02 08:41:12 & 8.143333 & 0\\\\\n",
       "\t 2019-01-02 08:42:03 & 8.150417 & 0\\\\\n",
       "\t 2019-01-02 08:43:10 & 8.159722 & 0\\\\\n",
       "\t 2019-01-02 08:44:09 & 8.167917 & 0\\\\\n",
       "\\end{tabular}\n"
      ],
      "text/markdown": [
       "\n",
       "A tibble: 6 × 3\n",
       "\n",
       "| date_time &lt;dttm&gt; | Estimated_Temp &lt;dbl&gt; | Estimated_Precip &lt;dbl&gt; |\n",
       "|---|---|---|\n",
       "| 2019-01-02 08:41:00 | 8.141667 | 0 |\n",
       "| 2019-01-02 08:41:06 | 8.142500 | 0 |\n",
       "| 2019-01-02 08:41:12 | 8.143333 | 0 |\n",
       "| 2019-01-02 08:42:03 | 8.150417 | 0 |\n",
       "| 2019-01-02 08:43:10 | 8.159722 | 0 |\n",
       "| 2019-01-02 08:44:09 | 8.167917 | 0 |\n",
       "\n"
      ],
      "text/plain": [
       "  date_time           Estimated_Temp Estimated_Precip\n",
       "1 2019-01-02 08:41:00 8.141667       0               \n",
       "2 2019-01-02 08:41:06 8.142500       0               \n",
       "3 2019-01-02 08:41:12 8.143333       0               \n",
       "4 2019-01-02 08:42:03 8.150417       0               \n",
       "5 2019-01-02 08:43:10 8.159722       0               \n",
       "6 2019-01-02 08:44:09 8.167917       0               "
      ]
     },
     "metadata": {},
     "output_type": "display_data"
    }
   ],
   "source": [
    "carta_weather_A = read_csv(unzip('Pre_lock_datetimes_weather.zip', 'Pre_lock_datetimes_weather.csv'))\n",
    "head(carta_weather_A)"
   ]
  },
  {
   "cell_type": "code",
   "execution_count": 11,
   "id": "numerical-alabama",
   "metadata": {},
   "outputs": [
    {
     "data": {
      "text/html": [
       "<time datetime=\"2019-03-05\">2019-03-05</time>"
      ],
      "text/latex": [
       "2019-03-05"
      ],
      "text/markdown": [
       "2019-03-05"
      ],
      "text/plain": [
       "[1] \"2019-03-05\""
      ]
     },
     "metadata": {},
     "output_type": "display_data"
    }
   ],
   "source": [
    "max(date(carta_weather_A$date_time))"
   ]
  },
  {
   "cell_type": "code",
   "execution_count": 12,
   "id": "individual-investor",
   "metadata": {},
   "outputs": [
    {
     "name": "stderr",
     "output_type": "stream",
     "text": [
      "`summarise()` has grouped output by 'date', 'hour'. You can override using the `.groups` argument.\n",
      "\n"
     ]
    },
    {
     "data": {
      "text/html": [
       "<table class=\"dataframe\">\n",
       "<caption>A grouped_df: 6 × 5</caption>\n",
       "<thead>\n",
       "\t<tr><th scope=col>date</th><th scope=col>hour</th><th scope=col>month</th><th scope=col>temp</th><th scope=col>precip</th></tr>\n",
       "\t<tr><th scope=col>&lt;date&gt;</th><th scope=col>&lt;int&gt;</th><th scope=col>&lt;int&gt;</th><th scope=col>&lt;dbl&gt;</th><th scope=col>&lt;dbl&gt;</th></tr>\n",
       "</thead>\n",
       "<tbody>\n",
       "\t<tr><td>2019-01-02</td><td>4</td><td>1</td><td>8.417796</td><td>0</td></tr>\n",
       "\t<tr><td>2019-01-02</td><td>4</td><td>1</td><td>8.417796</td><td>0</td></tr>\n",
       "\t<tr><td>2019-01-02</td><td>4</td><td>1</td><td>8.417796</td><td>0</td></tr>\n",
       "\t<tr><td>2019-01-02</td><td>4</td><td>1</td><td>8.417796</td><td>0</td></tr>\n",
       "\t<tr><td>2019-01-02</td><td>4</td><td>1</td><td>8.417796</td><td>0</td></tr>\n",
       "\t<tr><td>2019-01-02</td><td>4</td><td>1</td><td>8.417796</td><td>0</td></tr>\n",
       "</tbody>\n",
       "</table>\n"
      ],
      "text/latex": [
       "A grouped\\_df: 6 × 5\n",
       "\\begin{tabular}{lllll}\n",
       " date & hour & month & temp & precip\\\\\n",
       " <date> & <int> & <int> & <dbl> & <dbl>\\\\\n",
       "\\hline\n",
       "\t 2019-01-02 & 4 & 1 & 8.417796 & 0\\\\\n",
       "\t 2019-01-02 & 4 & 1 & 8.417796 & 0\\\\\n",
       "\t 2019-01-02 & 4 & 1 & 8.417796 & 0\\\\\n",
       "\t 2019-01-02 & 4 & 1 & 8.417796 & 0\\\\\n",
       "\t 2019-01-02 & 4 & 1 & 8.417796 & 0\\\\\n",
       "\t 2019-01-02 & 4 & 1 & 8.417796 & 0\\\\\n",
       "\\end{tabular}\n"
      ],
      "text/markdown": [
       "\n",
       "A grouped_df: 6 × 5\n",
       "\n",
       "| date &lt;date&gt; | hour &lt;int&gt; | month &lt;int&gt; | temp &lt;dbl&gt; | precip &lt;dbl&gt; |\n",
       "|---|---|---|---|---|\n",
       "| 2019-01-02 | 4 | 1 | 8.417796 | 0 |\n",
       "| 2019-01-02 | 4 | 1 | 8.417796 | 0 |\n",
       "| 2019-01-02 | 4 | 1 | 8.417796 | 0 |\n",
       "| 2019-01-02 | 4 | 1 | 8.417796 | 0 |\n",
       "| 2019-01-02 | 4 | 1 | 8.417796 | 0 |\n",
       "| 2019-01-02 | 4 | 1 | 8.417796 | 0 |\n",
       "\n"
      ],
      "text/plain": [
       "  date       hour month temp     precip\n",
       "1 2019-01-02 4    1     8.417796 0     \n",
       "2 2019-01-02 4    1     8.417796 0     \n",
       "3 2019-01-02 4    1     8.417796 0     \n",
       "4 2019-01-02 4    1     8.417796 0     \n",
       "5 2019-01-02 4    1     8.417796 0     \n",
       "6 2019-01-02 4    1     8.417796 0     "
      ]
     },
     "metadata": {},
     "output_type": "display_data"
    }
   ],
   "source": [
    "Carta_weather_A = carta_weather_A %>%\n",
    "    mutate(month = month(date_time),\n",
    "           date = date(date_time),\n",
    "           hour = hour(date_time)) %>%\n",
    "    group_by(date, hour) %>%\n",
    "    summarise(month, temp = mean(Estimated_Temp), precip = mean(Estimated_Precip))\n",
    "\n",
    "head(Carta_weather_A)"
   ]
  },
  {
   "cell_type": "markdown",
   "id": "opposed-property",
   "metadata": {},
   "source": [
    "## Part B"
   ]
  },
  {
   "cell_type": "code",
   "execution_count": 13,
   "id": "indirect-bloom",
   "metadata": {},
   "outputs": [
    {
     "name": "stderr",
     "output_type": "stream",
     "text": [
      "\n",
      "\u001b[36m──\u001b[39m \u001b[1m\u001b[1mColumn specification\u001b[1m\u001b[22m \u001b[36m────────────────────────────────────────────────────────\u001b[39m\n",
      "cols(\n",
      "  date_time = \u001b[34mcol_datetime(format = \"\")\u001b[39m,\n",
      "  Estimated_Temp = \u001b[32mcol_double()\u001b[39m,\n",
      "  Estimated_Precip = \u001b[32mcol_double()\u001b[39m\n",
      ")\n",
      "\n",
      "\n"
     ]
    },
    {
     "data": {
      "text/html": [
       "<table class=\"dataframe\">\n",
       "<caption>A tibble: 6 × 3</caption>\n",
       "<thead>\n",
       "\t<tr><th scope=col>date_time</th><th scope=col>Estimated_Temp</th><th scope=col>Estimated_Precip</th></tr>\n",
       "\t<tr><th scope=col>&lt;dttm&gt;</th><th scope=col>&lt;dbl&gt;</th><th scope=col>&lt;dbl&gt;</th></tr>\n",
       "</thead>\n",
       "<tbody>\n",
       "\t<tr><td>2019-11-01 08:51:00</td><td>2.800000</td><td>0</td></tr>\n",
       "\t<tr><td>2019-11-01 08:54:59</td><td>2.800000</td><td>0</td></tr>\n",
       "\t<tr><td>2019-11-01 09:05:00</td><td>2.891667</td><td>0</td></tr>\n",
       "\t<tr><td>2019-11-01 09:05:21</td><td>2.898083</td><td>0</td></tr>\n",
       "\t<tr><td>2019-11-01 09:05:39</td><td>2.903583</td><td>0</td></tr>\n",
       "\t<tr><td>2019-11-01 09:06:14</td><td>2.914278</td><td>0</td></tr>\n",
       "</tbody>\n",
       "</table>\n"
      ],
      "text/latex": [
       "A tibble: 6 × 3\n",
       "\\begin{tabular}{lll}\n",
       " date\\_time & Estimated\\_Temp & Estimated\\_Precip\\\\\n",
       " <dttm> & <dbl> & <dbl>\\\\\n",
       "\\hline\n",
       "\t 2019-11-01 08:51:00 & 2.800000 & 0\\\\\n",
       "\t 2019-11-01 08:54:59 & 2.800000 & 0\\\\\n",
       "\t 2019-11-01 09:05:00 & 2.891667 & 0\\\\\n",
       "\t 2019-11-01 09:05:21 & 2.898083 & 0\\\\\n",
       "\t 2019-11-01 09:05:39 & 2.903583 & 0\\\\\n",
       "\t 2019-11-01 09:06:14 & 2.914278 & 0\\\\\n",
       "\\end{tabular}\n"
      ],
      "text/markdown": [
       "\n",
       "A tibble: 6 × 3\n",
       "\n",
       "| date_time &lt;dttm&gt; | Estimated_Temp &lt;dbl&gt; | Estimated_Precip &lt;dbl&gt; |\n",
       "|---|---|---|\n",
       "| 2019-11-01 08:51:00 | 2.800000 | 0 |\n",
       "| 2019-11-01 08:54:59 | 2.800000 | 0 |\n",
       "| 2019-11-01 09:05:00 | 2.891667 | 0 |\n",
       "| 2019-11-01 09:05:21 | 2.898083 | 0 |\n",
       "| 2019-11-01 09:05:39 | 2.903583 | 0 |\n",
       "| 2019-11-01 09:06:14 | 2.914278 | 0 |\n",
       "\n"
      ],
      "text/plain": [
       "  date_time           Estimated_Temp Estimated_Precip\n",
       "1 2019-11-01 08:51:00 2.800000       0               \n",
       "2 2019-11-01 08:54:59 2.800000       0               \n",
       "3 2019-11-01 09:05:00 2.891667       0               \n",
       "4 2019-11-01 09:05:21 2.898083       0               \n",
       "5 2019-11-01 09:05:39 2.903583       0               \n",
       "6 2019-11-01 09:06:14 2.914278       0               "
      ]
     },
     "metadata": {},
     "output_type": "display_data"
    }
   ],
   "source": [
    "carta_weather_B = read_csv(unzip('Post_lock_datetimes_weather.zip', 'Post_lock_datetimes_weather.csv'))\n",
    "head(carta_weather_B)"
   ]
  },
  {
   "cell_type": "code",
   "execution_count": 14,
   "id": "artificial-clearance",
   "metadata": {},
   "outputs": [
    {
     "data": {
      "text/plain": [
       "[1] \"2019-03-06 UTC\""
      ]
     },
     "metadata": {},
     "output_type": "display_data"
    }
   ],
   "source": [
    "min(sort(carta_weather_B$date_time))"
   ]
  },
  {
   "cell_type": "code",
   "execution_count": 15,
   "id": "italian-ontario",
   "metadata": {},
   "outputs": [
    {
     "name": "stderr",
     "output_type": "stream",
     "text": [
      "`summarise()` has grouped output by 'date', 'hour'. You can override using the `.groups` argument.\n",
      "\n"
     ]
    },
    {
     "data": {
      "text/html": [
       "<table class=\"dataframe\">\n",
       "<caption>A grouped_df: 6 × 5</caption>\n",
       "<thead>\n",
       "\t<tr><th scope=col>date</th><th scope=col>hour</th><th scope=col>month</th><th scope=col>temp</th><th scope=col>precip</th></tr>\n",
       "\t<tr><th scope=col>&lt;date&gt;</th><th scope=col>&lt;int&gt;</th><th scope=col>&lt;int&gt;</th><th scope=col>&lt;dbl&gt;</th><th scope=col>&lt;dbl&gt;</th></tr>\n",
       "</thead>\n",
       "<tbody>\n",
       "\t<tr><td>2019-03-06</td><td>0</td><td>3</td><td>-1.1</td><td>0</td></tr>\n",
       "\t<tr><td>2019-03-06</td><td>0</td><td>3</td><td>-1.1</td><td>0</td></tr>\n",
       "\t<tr><td>2019-03-06</td><td>0</td><td>3</td><td>-1.1</td><td>0</td></tr>\n",
       "\t<tr><td>2019-03-06</td><td>0</td><td>3</td><td>-1.1</td><td>0</td></tr>\n",
       "\t<tr><td>2019-03-06</td><td>0</td><td>3</td><td>-1.1</td><td>0</td></tr>\n",
       "\t<tr><td>2019-03-06</td><td>0</td><td>3</td><td>-1.1</td><td>0</td></tr>\n",
       "</tbody>\n",
       "</table>\n"
      ],
      "text/latex": [
       "A grouped\\_df: 6 × 5\n",
       "\\begin{tabular}{lllll}\n",
       " date & hour & month & temp & precip\\\\\n",
       " <date> & <int> & <int> & <dbl> & <dbl>\\\\\n",
       "\\hline\n",
       "\t 2019-03-06 & 0 & 3 & -1.1 & 0\\\\\n",
       "\t 2019-03-06 & 0 & 3 & -1.1 & 0\\\\\n",
       "\t 2019-03-06 & 0 & 3 & -1.1 & 0\\\\\n",
       "\t 2019-03-06 & 0 & 3 & -1.1 & 0\\\\\n",
       "\t 2019-03-06 & 0 & 3 & -1.1 & 0\\\\\n",
       "\t 2019-03-06 & 0 & 3 & -1.1 & 0\\\\\n",
       "\\end{tabular}\n"
      ],
      "text/markdown": [
       "\n",
       "A grouped_df: 6 × 5\n",
       "\n",
       "| date &lt;date&gt; | hour &lt;int&gt; | month &lt;int&gt; | temp &lt;dbl&gt; | precip &lt;dbl&gt; |\n",
       "|---|---|---|---|---|\n",
       "| 2019-03-06 | 0 | 3 | -1.1 | 0 |\n",
       "| 2019-03-06 | 0 | 3 | -1.1 | 0 |\n",
       "| 2019-03-06 | 0 | 3 | -1.1 | 0 |\n",
       "| 2019-03-06 | 0 | 3 | -1.1 | 0 |\n",
       "| 2019-03-06 | 0 | 3 | -1.1 | 0 |\n",
       "| 2019-03-06 | 0 | 3 | -1.1 | 0 |\n",
       "\n"
      ],
      "text/plain": [
       "  date       hour month temp precip\n",
       "1 2019-03-06 0    3     -1.1 0     \n",
       "2 2019-03-06 0    3     -1.1 0     \n",
       "3 2019-03-06 0    3     -1.1 0     \n",
       "4 2019-03-06 0    3     -1.1 0     \n",
       "5 2019-03-06 0    3     -1.1 0     \n",
       "6 2019-03-06 0    3     -1.1 0     "
      ]
     },
     "metadata": {},
     "output_type": "display_data"
    }
   ],
   "source": [
    "Carta_weather_B = carta_weather_B %>%\n",
    "    mutate(month = month(date_time),\n",
    "           date = date(date_time),\n",
    "           hour = hour(date_time)) %>%\n",
    "    group_by(date, hour) %>%\n",
    "    summarise(month, temp = mean(Estimated_Temp), precip = mean(Estimated_Precip))\n",
    "\n",
    "head(Carta_weather_B)"
   ]
  },
  {
   "cell_type": "markdown",
   "id": "opening-assembly",
   "metadata": {},
   "source": [
    "## Combination of these two dataframes into one:"
   ]
  },
  {
   "cell_type": "code",
   "execution_count": 16,
   "id": "affiliated-digest",
   "metadata": {},
   "outputs": [
    {
     "data": {
      "text/html": [
       "<table class=\"dataframe\">\n",
       "<caption>A grouped_df: 6 × 5</caption>\n",
       "<thead>\n",
       "\t<tr><th scope=col>date</th><th scope=col>hour</th><th scope=col>month</th><th scope=col>temp</th><th scope=col>precip</th></tr>\n",
       "\t<tr><th scope=col>&lt;date&gt;</th><th scope=col>&lt;int&gt;</th><th scope=col>&lt;int&gt;</th><th scope=col>&lt;dbl&gt;</th><th scope=col>&lt;dbl&gt;</th></tr>\n",
       "</thead>\n",
       "<tbody>\n",
       "\t<tr><td>2019-01-02</td><td>4</td><td>1</td><td>8.417796</td><td>0</td></tr>\n",
       "\t<tr><td>2019-01-02</td><td>4</td><td>1</td><td>8.417796</td><td>0</td></tr>\n",
       "\t<tr><td>2019-01-02</td><td>4</td><td>1</td><td>8.417796</td><td>0</td></tr>\n",
       "\t<tr><td>2019-01-02</td><td>4</td><td>1</td><td>8.417796</td><td>0</td></tr>\n",
       "\t<tr><td>2019-01-02</td><td>4</td><td>1</td><td>8.417796</td><td>0</td></tr>\n",
       "\t<tr><td>2019-01-02</td><td>4</td><td>1</td><td>8.417796</td><td>0</td></tr>\n",
       "</tbody>\n",
       "</table>\n"
      ],
      "text/latex": [
       "A grouped\\_df: 6 × 5\n",
       "\\begin{tabular}{lllll}\n",
       " date & hour & month & temp & precip\\\\\n",
       " <date> & <int> & <int> & <dbl> & <dbl>\\\\\n",
       "\\hline\n",
       "\t 2019-01-02 & 4 & 1 & 8.417796 & 0\\\\\n",
       "\t 2019-01-02 & 4 & 1 & 8.417796 & 0\\\\\n",
       "\t 2019-01-02 & 4 & 1 & 8.417796 & 0\\\\\n",
       "\t 2019-01-02 & 4 & 1 & 8.417796 & 0\\\\\n",
       "\t 2019-01-02 & 4 & 1 & 8.417796 & 0\\\\\n",
       "\t 2019-01-02 & 4 & 1 & 8.417796 & 0\\\\\n",
       "\\end{tabular}\n"
      ],
      "text/markdown": [
       "\n",
       "A grouped_df: 6 × 5\n",
       "\n",
       "| date &lt;date&gt; | hour &lt;int&gt; | month &lt;int&gt; | temp &lt;dbl&gt; | precip &lt;dbl&gt; |\n",
       "|---|---|---|---|---|\n",
       "| 2019-01-02 | 4 | 1 | 8.417796 | 0 |\n",
       "| 2019-01-02 | 4 | 1 | 8.417796 | 0 |\n",
       "| 2019-01-02 | 4 | 1 | 8.417796 | 0 |\n",
       "| 2019-01-02 | 4 | 1 | 8.417796 | 0 |\n",
       "| 2019-01-02 | 4 | 1 | 8.417796 | 0 |\n",
       "| 2019-01-02 | 4 | 1 | 8.417796 | 0 |\n",
       "\n"
      ],
      "text/plain": [
       "  date       hour month temp     precip\n",
       "1 2019-01-02 4    1     8.417796 0     \n",
       "2 2019-01-02 4    1     8.417796 0     \n",
       "3 2019-01-02 4    1     8.417796 0     \n",
       "4 2019-01-02 4    1     8.417796 0     \n",
       "5 2019-01-02 4    1     8.417796 0     \n",
       "6 2019-01-02 4    1     8.417796 0     "
      ]
     },
     "metadata": {},
     "output_type": "display_data"
    }
   ],
   "source": [
    "Carta_weather = rbind(Carta_weather_A, Carta_weather_B)\n",
    "head(Carta_weather)"
   ]
  },
  {
   "cell_type": "code",
   "execution_count": 17,
   "id": "massive-shade",
   "metadata": {},
   "outputs": [
    {
     "data": {
      "text/html": [
       "<style>\n",
       ".list-inline {list-style: none; margin:0; padding: 0}\n",
       ".list-inline>li {display: inline-block}\n",
       ".list-inline>li:not(:last-child)::after {content: \"\\00b7\"; padding: 0 .5ex}\n",
       "</style>\n",
       "<ol class=list-inline><li>10140444</li><li>5</li></ol>\n"
      ],
      "text/latex": [
       "\\begin{enumerate*}\n",
       "\\item 10140444\n",
       "\\item 5\n",
       "\\end{enumerate*}\n"
      ],
      "text/markdown": [
       "1. 10140444\n",
       "2. 5\n",
       "\n",
       "\n"
      ],
      "text/plain": [
       "[1] 10140444        5"
      ]
     },
     "metadata": {},
     "output_type": "display_data"
    }
   ],
   "source": [
    "dim(Carta_weather)"
   ]
  },
  {
   "cell_type": "markdown",
   "id": "republican-criticism",
   "metadata": {},
   "source": [
    "### Dates:"
   ]
  },
  {
   "cell_type": "code",
   "execution_count": 18,
   "id": "geographic-infection",
   "metadata": {},
   "outputs": [
    {
     "data": {
      "text/html": [
       "<time datetime=\"2019-01-02\">2019-01-02</time>"
      ],
      "text/latex": [
       "2019-01-02"
      ],
      "text/markdown": [
       "2019-01-02"
      ],
      "text/plain": [
       "[1] \"2019-01-02\""
      ]
     },
     "metadata": {},
     "output_type": "display_data"
    }
   ],
   "source": [
    "min(Carta_weather$date)"
   ]
  },
  {
   "cell_type": "code",
   "execution_count": 19,
   "id": "beautiful-fifth",
   "metadata": {},
   "outputs": [
    {
     "data": {
      "text/html": [
       "<time datetime=\"2020-06-05\">2020-06-05</time>"
      ],
      "text/latex": [
       "2020-06-05"
      ],
      "text/markdown": [
       "2020-06-05"
      ],
      "text/plain": [
       "[1] \"2020-06-05\""
      ]
     },
     "metadata": {},
     "output_type": "display_data"
    }
   ],
   "source": [
    "max(Carta_weather$date)"
   ]
  },
  {
   "cell_type": "markdown",
   "id": "conscious-mills",
   "metadata": {},
   "source": [
    "## Left join on the Carta data:"
   ]
  },
  {
   "cell_type": "code",
   "execution_count": 20,
   "id": "lasting-blood",
   "metadata": {},
   "outputs": [
    {
     "name": "stderr",
     "output_type": "stream",
     "text": [
      "Joining, by = c(\"date\", \"hour\")\n",
      "\n"
     ]
    }
   ],
   "source": [
    "carta = left_join(carta, Carta_weather, on = c('date', 'hour'))"
   ]
  },
  {
   "cell_type": "code",
   "execution_count": 21,
   "id": "impressive-defensive",
   "metadata": {},
   "outputs": [],
   "source": [
    "service_kind = if_else((carta$day_of_week == 5) | (carta$day_of_week == 6), \"weekend\", \"weekday\")"
   ]
  },
  {
   "cell_type": "code",
   "execution_count": 22,
   "id": "bottom-freeze",
   "metadata": {},
   "outputs": [],
   "source": [
    "carta$service_kind = service_kind"
   ]
  },
  {
   "cell_type": "code",
   "execution_count": 23,
   "id": "subject-afghanistan",
   "metadata": {},
   "outputs": [],
   "source": [
    "carta$month = factor(carta$month)\n",
    "carta$hour = factor(carta$hour)\n",
    "carta$service_kind = factor(carta$service_kind)"
   ]
  },
  {
   "cell_type": "code",
   "execution_count": 24,
   "id": "whole-pendant",
   "metadata": {},
   "outputs": [
    {
     "data": {
      "text/html": [
       "<table class=\"dataframe\">\n",
       "<caption>A tibble: 6 × 25</caption>\n",
       "<thead>\n",
       "\t<tr><th scope=col>trip_id</th><th scope=col>scheduled_arrival_time</th><th scope=col>actual_arrival_time</th><th scope=col>stop_id</th><th scope=col>stop_sequence</th><th scope=col>stop_lat</th><th scope=col>stop_lon</th><th scope=col>route_id</th><th scope=col>direction_id</th><th scope=col>board_count</th><th scope=col>⋯</th><th scope=col>scheduled_datetime</th><th scope=col>actual_arrival_datetime</th><th scope=col>trip_start_time</th><th scope=col>day_of_week</th><th scope=col>trip_date</th><th scope=col>hour</th><th scope=col>month</th><th scope=col>temp</th><th scope=col>precip</th><th scope=col>service_kind</th></tr>\n",
       "\t<tr><th scope=col>&lt;chr&gt;</th><th scope=col>&lt;time&gt;</th><th scope=col>&lt;time&gt;</th><th scope=col>&lt;chr&gt;</th><th scope=col>&lt;dbl&gt;</th><th scope=col>&lt;dbl&gt;</th><th scope=col>&lt;dbl&gt;</th><th scope=col>&lt;chr&gt;</th><th scope=col>&lt;chr&gt;</th><th scope=col>&lt;dbl&gt;</th><th scope=col>⋯</th><th scope=col>&lt;dttm&gt;</th><th scope=col>&lt;dttm&gt;</th><th scope=col>&lt;time&gt;</th><th scope=col>&lt;dbl&gt;</th><th scope=col>&lt;date&gt;</th><th scope=col>&lt;fct&gt;</th><th scope=col>&lt;fct&gt;</th><th scope=col>&lt;dbl&gt;</th><th scope=col>&lt;dbl&gt;</th><th scope=col>&lt;fct&gt;</th></tr>\n",
       "</thead>\n",
       "<tbody>\n",
       "\t<tr><td>139669</td><td>14:00:47</td><td>14:05:00</td><td>12</td><td>2</td><td>35.0507</td><td>-85.30953</td><td>4</td><td>0</td><td>2</td><td>⋯</td><td>2019-11-01 14:00:47</td><td>2019-11-01 14:05:00</td><td>14:00:00</td><td>4</td><td>2019-11-01</td><td>14</td><td>11</td><td>9.454317</td><td>0</td><td>weekday</td></tr>\n",
       "\t<tr><td>139669</td><td>14:00:47</td><td>14:05:00</td><td>12</td><td>2</td><td>35.0507</td><td>-85.30953</td><td>4</td><td>0</td><td>2</td><td>⋯</td><td>2019-11-01 14:00:47</td><td>2019-11-01 14:05:00</td><td>14:00:00</td><td>4</td><td>2019-11-01</td><td>14</td><td>11</td><td>9.454317</td><td>0</td><td>weekday</td></tr>\n",
       "\t<tr><td>139669</td><td>14:00:47</td><td>14:05:00</td><td>12</td><td>2</td><td>35.0507</td><td>-85.30953</td><td>4</td><td>0</td><td>2</td><td>⋯</td><td>2019-11-01 14:00:47</td><td>2019-11-01 14:05:00</td><td>14:00:00</td><td>4</td><td>2019-11-01</td><td>14</td><td>11</td><td>9.454317</td><td>0</td><td>weekday</td></tr>\n",
       "\t<tr><td>139669</td><td>14:00:47</td><td>14:05:00</td><td>12</td><td>2</td><td>35.0507</td><td>-85.30953</td><td>4</td><td>0</td><td>2</td><td>⋯</td><td>2019-11-01 14:00:47</td><td>2019-11-01 14:05:00</td><td>14:00:00</td><td>4</td><td>2019-11-01</td><td>14</td><td>11</td><td>9.454317</td><td>0</td><td>weekday</td></tr>\n",
       "\t<tr><td>139669</td><td>14:00:47</td><td>14:05:00</td><td>12</td><td>2</td><td>35.0507</td><td>-85.30953</td><td>4</td><td>0</td><td>2</td><td>⋯</td><td>2019-11-01 14:00:47</td><td>2019-11-01 14:05:00</td><td>14:00:00</td><td>4</td><td>2019-11-01</td><td>14</td><td>11</td><td>9.454317</td><td>0</td><td>weekday</td></tr>\n",
       "\t<tr><td>139669</td><td>14:00:47</td><td>14:05:00</td><td>12</td><td>2</td><td>35.0507</td><td>-85.30953</td><td>4</td><td>0</td><td>2</td><td>⋯</td><td>2019-11-01 14:00:47</td><td>2019-11-01 14:05:00</td><td>14:00:00</td><td>4</td><td>2019-11-01</td><td>14</td><td>11</td><td>9.454317</td><td>0</td><td>weekday</td></tr>\n",
       "</tbody>\n",
       "</table>\n"
      ],
      "text/latex": [
       "A tibble: 6 × 25\n",
       "\\begin{tabular}{lllllllllllllllllllll}\n",
       " trip\\_id & scheduled\\_arrival\\_time & actual\\_arrival\\_time & stop\\_id & stop\\_sequence & stop\\_lat & stop\\_lon & route\\_id & direction\\_id & board\\_count & ⋯ & scheduled\\_datetime & actual\\_arrival\\_datetime & trip\\_start\\_time & day\\_of\\_week & trip\\_date & hour & month & temp & precip & service\\_kind\\\\\n",
       " <chr> & <time> & <time> & <chr> & <dbl> & <dbl> & <dbl> & <chr> & <chr> & <dbl> & ⋯ & <dttm> & <dttm> & <time> & <dbl> & <date> & <fct> & <fct> & <dbl> & <dbl> & <fct>\\\\\n",
       "\\hline\n",
       "\t 139669 & 14:00:47 & 14:05:00 & 12 & 2 & 35.0507 & -85.30953 & 4 & 0 & 2 & ⋯ & 2019-11-01 14:00:47 & 2019-11-01 14:05:00 & 14:00:00 & 4 & 2019-11-01 & 14 & 11 & 9.454317 & 0 & weekday\\\\\n",
       "\t 139669 & 14:00:47 & 14:05:00 & 12 & 2 & 35.0507 & -85.30953 & 4 & 0 & 2 & ⋯ & 2019-11-01 14:00:47 & 2019-11-01 14:05:00 & 14:00:00 & 4 & 2019-11-01 & 14 & 11 & 9.454317 & 0 & weekday\\\\\n",
       "\t 139669 & 14:00:47 & 14:05:00 & 12 & 2 & 35.0507 & -85.30953 & 4 & 0 & 2 & ⋯ & 2019-11-01 14:00:47 & 2019-11-01 14:05:00 & 14:00:00 & 4 & 2019-11-01 & 14 & 11 & 9.454317 & 0 & weekday\\\\\n",
       "\t 139669 & 14:00:47 & 14:05:00 & 12 & 2 & 35.0507 & -85.30953 & 4 & 0 & 2 & ⋯ & 2019-11-01 14:00:47 & 2019-11-01 14:05:00 & 14:00:00 & 4 & 2019-11-01 & 14 & 11 & 9.454317 & 0 & weekday\\\\\n",
       "\t 139669 & 14:00:47 & 14:05:00 & 12 & 2 & 35.0507 & -85.30953 & 4 & 0 & 2 & ⋯ & 2019-11-01 14:00:47 & 2019-11-01 14:05:00 & 14:00:00 & 4 & 2019-11-01 & 14 & 11 & 9.454317 & 0 & weekday\\\\\n",
       "\t 139669 & 14:00:47 & 14:05:00 & 12 & 2 & 35.0507 & -85.30953 & 4 & 0 & 2 & ⋯ & 2019-11-01 14:00:47 & 2019-11-01 14:05:00 & 14:00:00 & 4 & 2019-11-01 & 14 & 11 & 9.454317 & 0 & weekday\\\\\n",
       "\\end{tabular}\n"
      ],
      "text/markdown": [
       "\n",
       "A tibble: 6 × 25\n",
       "\n",
       "| trip_id &lt;chr&gt; | scheduled_arrival_time &lt;time&gt; | actual_arrival_time &lt;time&gt; | stop_id &lt;chr&gt; | stop_sequence &lt;dbl&gt; | stop_lat &lt;dbl&gt; | stop_lon &lt;dbl&gt; | route_id &lt;chr&gt; | direction_id &lt;chr&gt; | board_count &lt;dbl&gt; | ⋯ ⋯ | scheduled_datetime &lt;dttm&gt; | actual_arrival_datetime &lt;dttm&gt; | trip_start_time &lt;time&gt; | day_of_week &lt;dbl&gt; | trip_date &lt;date&gt; | hour &lt;fct&gt; | month &lt;fct&gt; | temp &lt;dbl&gt; | precip &lt;dbl&gt; | service_kind &lt;fct&gt; |\n",
       "|---|---|---|---|---|---|---|---|---|---|---|---|---|---|---|---|---|---|---|---|---|\n",
       "| 139669 | 14:00:47 | 14:05:00 | 12 | 2 | 35.0507 | -85.30953 | 4 | 0 | 2 | ⋯ | 2019-11-01 14:00:47 | 2019-11-01 14:05:00 | 14:00:00 | 4 | 2019-11-01 | 14 | 11 | 9.454317 | 0 | weekday |\n",
       "| 139669 | 14:00:47 | 14:05:00 | 12 | 2 | 35.0507 | -85.30953 | 4 | 0 | 2 | ⋯ | 2019-11-01 14:00:47 | 2019-11-01 14:05:00 | 14:00:00 | 4 | 2019-11-01 | 14 | 11 | 9.454317 | 0 | weekday |\n",
       "| 139669 | 14:00:47 | 14:05:00 | 12 | 2 | 35.0507 | -85.30953 | 4 | 0 | 2 | ⋯ | 2019-11-01 14:00:47 | 2019-11-01 14:05:00 | 14:00:00 | 4 | 2019-11-01 | 14 | 11 | 9.454317 | 0 | weekday |\n",
       "| 139669 | 14:00:47 | 14:05:00 | 12 | 2 | 35.0507 | -85.30953 | 4 | 0 | 2 | ⋯ | 2019-11-01 14:00:47 | 2019-11-01 14:05:00 | 14:00:00 | 4 | 2019-11-01 | 14 | 11 | 9.454317 | 0 | weekday |\n",
       "| 139669 | 14:00:47 | 14:05:00 | 12 | 2 | 35.0507 | -85.30953 | 4 | 0 | 2 | ⋯ | 2019-11-01 14:00:47 | 2019-11-01 14:05:00 | 14:00:00 | 4 | 2019-11-01 | 14 | 11 | 9.454317 | 0 | weekday |\n",
       "| 139669 | 14:00:47 | 14:05:00 | 12 | 2 | 35.0507 | -85.30953 | 4 | 0 | 2 | ⋯ | 2019-11-01 14:00:47 | 2019-11-01 14:05:00 | 14:00:00 | 4 | 2019-11-01 | 14 | 11 | 9.454317 | 0 | weekday |\n",
       "\n"
      ],
      "text/plain": [
       "  trip_id scheduled_arrival_time actual_arrival_time stop_id stop_sequence\n",
       "1 139669  14:00:47               14:05:00            12      2            \n",
       "2 139669  14:00:47               14:05:00            12      2            \n",
       "3 139669  14:00:47               14:05:00            12      2            \n",
       "4 139669  14:00:47               14:05:00            12      2            \n",
       "5 139669  14:00:47               14:05:00            12      2            \n",
       "6 139669  14:00:47               14:05:00            12      2            \n",
       "  stop_lat stop_lon  route_id direction_id board_count ⋯ scheduled_datetime \n",
       "1 35.0507  -85.30953 4        0            2           ⋯ 2019-11-01 14:00:47\n",
       "2 35.0507  -85.30953 4        0            2           ⋯ 2019-11-01 14:00:47\n",
       "3 35.0507  -85.30953 4        0            2           ⋯ 2019-11-01 14:00:47\n",
       "4 35.0507  -85.30953 4        0            2           ⋯ 2019-11-01 14:00:47\n",
       "5 35.0507  -85.30953 4        0            2           ⋯ 2019-11-01 14:00:47\n",
       "6 35.0507  -85.30953 4        0            2           ⋯ 2019-11-01 14:00:47\n",
       "  actual_arrival_datetime trip_start_time day_of_week trip_date  hour month\n",
       "1 2019-11-01 14:05:00     14:00:00        4           2019-11-01 14   11   \n",
       "2 2019-11-01 14:05:00     14:00:00        4           2019-11-01 14   11   \n",
       "3 2019-11-01 14:05:00     14:00:00        4           2019-11-01 14   11   \n",
       "4 2019-11-01 14:05:00     14:00:00        4           2019-11-01 14   11   \n",
       "5 2019-11-01 14:05:00     14:00:00        4           2019-11-01 14   11   \n",
       "6 2019-11-01 14:05:00     14:00:00        4           2019-11-01 14   11   \n",
       "  temp     precip service_kind\n",
       "1 9.454317 0      weekday     \n",
       "2 9.454317 0      weekday     \n",
       "3 9.454317 0      weekday     \n",
       "4 9.454317 0      weekday     \n",
       "5 9.454317 0      weekday     \n",
       "6 9.454317 0      weekday     "
      ]
     },
     "metadata": {},
     "output_type": "display_data"
    }
   ],
   "source": [
    "head(carta)"
   ]
  },
  {
   "cell_type": "markdown",
   "id": "meaning-vancouver",
   "metadata": {},
   "source": [
    "# Bus Stops"
   ]
  },
  {
   "cell_type": "code",
   "execution_count": 25,
   "id": "lasting-welding",
   "metadata": {},
   "outputs": [
    {
     "name": "stderr",
     "output_type": "stream",
     "text": [
      "\n",
      "\u001b[36m──\u001b[39m \u001b[1m\u001b[1mColumn specification\u001b[1m\u001b[22m \u001b[36m────────────────────────────────────────────────────────\u001b[39m\n",
      "cols(\n",
      "  stop_id = \u001b[32mcol_double()\u001b[39m,\n",
      "  stop_lon = \u001b[32mcol_double()\u001b[39m,\n",
      "  stop_lat = \u001b[32mcol_double()\u001b[39m\n",
      ")\n",
      "\n",
      "\n"
     ]
    },
    {
     "data": {
      "text/html": [
       "<table class=\"dataframe\">\n",
       "<caption>A tibble: 6 × 3</caption>\n",
       "<thead>\n",
       "\t<tr><th scope=col>stop_id</th><th scope=col>stop_lon</th><th scope=col>stop_lat</th></tr>\n",
       "\t<tr><th scope=col>&lt;chr&gt;</th><th scope=col>&lt;dbl&gt;</th><th scope=col>&lt;dbl&gt;</th></tr>\n",
       "</thead>\n",
       "<tbody>\n",
       "\t<tr><td>971 </td><td>-85.24681</td><td>35.02435</td></tr>\n",
       "\t<tr><td>146 </td><td>-85.30462</td><td>34.98958</td></tr>\n",
       "\t<tr><td>1545</td><td>-85.25086</td><td>35.02603</td></tr>\n",
       "\t<tr><td>972 </td><td>-85.24853</td><td>35.02572</td></tr>\n",
       "\t<tr><td>81  </td><td>-85.30489</td><td>34.99030</td></tr>\n",
       "\t<tr><td>90  </td><td>-85.30497</td><td>34.99125</td></tr>\n",
       "</tbody>\n",
       "</table>\n"
      ],
      "text/latex": [
       "A tibble: 6 × 3\n",
       "\\begin{tabular}{lll}\n",
       " stop\\_id & stop\\_lon & stop\\_lat\\\\\n",
       " <chr> & <dbl> & <dbl>\\\\\n",
       "\\hline\n",
       "\t 971  & -85.24681 & 35.02435\\\\\n",
       "\t 146  & -85.30462 & 34.98958\\\\\n",
       "\t 1545 & -85.25086 & 35.02603\\\\\n",
       "\t 972  & -85.24853 & 35.02572\\\\\n",
       "\t 81   & -85.30489 & 34.99030\\\\\n",
       "\t 90   & -85.30497 & 34.99125\\\\\n",
       "\\end{tabular}\n"
      ],
      "text/markdown": [
       "\n",
       "A tibble: 6 × 3\n",
       "\n",
       "| stop_id &lt;chr&gt; | stop_lon &lt;dbl&gt; | stop_lat &lt;dbl&gt; |\n",
       "|---|---|---|\n",
       "| 971  | -85.24681 | 35.02435 |\n",
       "| 146  | -85.30462 | 34.98958 |\n",
       "| 1545 | -85.25086 | 35.02603 |\n",
       "| 972  | -85.24853 | 35.02572 |\n",
       "| 81   | -85.30489 | 34.99030 |\n",
       "| 90   | -85.30497 | 34.99125 |\n",
       "\n"
      ],
      "text/plain": [
       "  stop_id stop_lon  stop_lat\n",
       "1 971     -85.24681 35.02435\n",
       "2 146     -85.30462 34.98958\n",
       "3 1545    -85.25086 35.02603\n",
       "4 972     -85.24853 35.02572\n",
       "5 81      -85.30489 34.99030\n",
       "6 90      -85.30497 34.99125"
      ]
     },
     "metadata": {},
     "output_type": "display_data"
    }
   ],
   "source": [
    "Bus_stops = read_csv(unzip('Bus_Stops.zip', 'Bus_Stops.csv'))\n",
    "Bus_stops$stop_id <- as.character(Bus_stops$stop_id)\n",
    "\n",
    "head(Bus_stops)"
   ]
  },
  {
   "cell_type": "markdown",
   "id": "swiss-meditation",
   "metadata": {},
   "source": [
    "## Subordinate or Auxiliary Functions\n",
    "\n",
    "### Data Normalization"
   ]
  },
  {
   "cell_type": "code",
   "execution_count": 26,
   "id": "detailed-differential",
   "metadata": {},
   "outputs": [],
   "source": [
    "normalizer <- function(x){\n",
    "    \n",
    "    x_min = min(x)\n",
    "    x_max = max(x)\n",
    "    x_norm = (x - x_min)/(x_max - x_min)\n",
    "    \n",
    "    return(x_norm)\n",
    "} "
   ]
  },
  {
   "cell_type": "markdown",
   "id": "correct-filing",
   "metadata": {},
   "source": [
    "### Data Standardization"
   ]
  },
  {
   "cell_type": "code",
   "execution_count": 27,
   "id": "expired-issue",
   "metadata": {},
   "outputs": [],
   "source": [
    "standardizer <- function(x){\n",
    "    x_std = x.std()\n",
    "    x_mean = x.mean()\n",
    "    x_standard = (x - x_mean)/x_std\n",
    "    \n",
    "    return(x_standard)\n",
    "}"
   ]
  },
  {
   "cell_type": "markdown",
   "id": "herbal-course",
   "metadata": {},
   "source": [
    "## Extract Model Coefficients"
   ]
  },
  {
   "cell_type": "code",
   "execution_count": 28,
   "id": "threaded-childhood",
   "metadata": {},
   "outputs": [],
   "source": [
    "get_Model_Coeff <- function(dtfrm){\n",
    "    Best_Model = dtfrm[['Selected_Model']]\n",
    "    \n",
    "    if(Best_Model == 'Poisson'){\n",
    "        Model_Coeff = data.frame(dtfrm[['Trained_Models']][['Poiss']][['coefficients']])\n",
    "        colnames(Model_Coeff) = c('Coefficient_Value')\n",
    "        Model_Coeff$Variable = rownames(Model_Coeff)\n",
    "        \n",
    "        return(Model_Coeff)\n",
    "    }\n",
    "    else if(Best_Model == 'Negative_Binomial'){\n",
    "        Model_Coeff = data.frame(dtfrm[['Trained_Models']][['NB']][['coefficients']])\n",
    "        colnames(Model_Coeff) = c('Coefficient_Values')\n",
    "        Model_Coeff$Variable = rownames(Model_Coeff)\n",
    "        \n",
    "        return(Model_Coeff)\n",
    "    }\n",
    "    else if(Best_Model == 'ZI_Poisson'){\n",
    "        Model_Coeff_Count = data.frame(dtfrm[['Trained_Models']][['ZI_Poiss']][['coefficients']][['count']])\n",
    "        colnames(Model_Coeff_Count) = c('Coefficient_Values')\n",
    "        Model_Coeff_Count$Variable = rownames(Model_Coeff_Count)\n",
    "        \n",
    "        Model_Coeff_Zero = data.frame(dtfrm[['Trained_Models']][['ZI_Poiss']][['coefficients']][['zero']])\n",
    "        colnames(Model_Coeff_Zero) = c('Coefficient_Values')\n",
    "        Model_Coeff_Zero$Variable = rownames(Model_Coeff_Zero)\n",
    "        \n",
    "        Model_Coeff = merge(Model_Coeff_Count, Model_Coeff_Zero, by = 'Variable', all.x = T)\n",
    "        colnames(Model_Coeff) = c('Variable', 'Coefficient_Value_Count', 'Coefficient_Value_Zero')\n",
    "        \n",
    "        return(Model_Coeff)\n",
    "    }\n",
    "    else if(Best_Model == 'ZI_Negative_Binomial'){\n",
    "        Model_Coeff_Count = data.frame(dtfrm[['Trained_Models']][['ZI_NB']][['coefficients']][['count']])\n",
    "        colnames(Model_Coeff_Count) = c('Coefficient_Values')\n",
    "        Model_Coeff_Count$Variable = rownames(Model_Coeff_Count)\n",
    "        \n",
    "        Model_Coeff_Zero = data.frame(dtfrm[['Trained_Models']][['ZI_NB']][['coefficients']][['zero']])\n",
    "        colnames(Model_Coeff_Zero) = c('Coefficient_Values')\n",
    "        Model_Coeff_Zero$Variable = rownames(Model_Coeff_Zero)\n",
    "        \n",
    "        Model_Coeff = merge(Model_Coeff_Count, Model_Coeff_Zero, by = 'Variable', all.x = T)\n",
    "        colnames(Model_Coeff) = c('Variable', 'Coefficient_Value_Count', 'Coefficient_Value_Zero')\n",
    "        \n",
    "        return(Model_Coeff)\n",
    "    }\n",
    "    else if(Best_Model == 'Hurdle_Poisson_and_Binomial'){\n",
    "        Model_Coeff_Count = data.frame(dtfrm[['Trained_Models']][['hurdle']][['coefficients']][['count']])\n",
    "        colnames(Model_Coeff_Count) = c('Coefficient_Values')\n",
    "        Model_Coeff_Count$Variable = rownames(Model_Coeff_Count)\n",
    "        \n",
    "        Model_Coeff_Zero = data.frame(dtfrm[['Trained_Models']][['hurdle']][['coefficients']][['zero']])\n",
    "        colnames(Model_Coeff_Zero) = c('Coefficient_Values')\n",
    "        Model_Coeff_Zero$Variable = rownames(Model_Coeff_Zero)\n",
    "        \n",
    "        Model_Coeff = merge(Model_Coeff_Count, Model_Coeff_Zero, by = 'Variable', all.x = T)\n",
    "        colnames(Model_Coeff) = c('Variable', 'Coefficient_Value_Count', 'Coefficient_Value_Zero')\n",
    "        \n",
    "        return(Model_Coeff)\n",
    "    }\n",
    "}"
   ]
  },
  {
   "cell_type": "markdown",
   "id": "massive-husband",
   "metadata": {},
   "source": [
    "## Extract Chart"
   ]
  },
  {
   "cell_type": "code",
   "execution_count": 29,
   "id": "korean-rubber",
   "metadata": {},
   "outputs": [],
   "source": [
    "get_Chart = function(dtfrm, dtfrm_test){\n",
    "    Best_Model = dtfrm[['Selected_Model']]\n",
    "    Chart = dtfrm_test[ , c(1, 2, 3, 4)]\n",
    "    if(Best_Model == 'Poisson'){\n",
    "        Chart$Predicted = dtfrm[['Predicted']][ , c(1)]\n",
    "        return(Chart)\n",
    "    }\n",
    "    else if(Best_Model == 'Negative_Binomial'){\n",
    "        Chart$Predicted = dtfrm[['Predicted']][ , c(2)]\n",
    "        return(Chart)\n",
    "    }\n",
    "    else if(Best_Model == 'ZI_Poisson'){\n",
    "        Chart$Predicted = dtfrm[['Predicted']][ , c(3)]\n",
    "        return(Chart)\n",
    "    }\n",
    "    else if(Best_Model == 'ZI_Negative_Binomial'){\n",
    "        Chart$Predicted = dtfrm[['Predicted']][ , c(4)]\n",
    "        return(Chart)\n",
    "    }\n",
    "    else if(Best_Model == 'Hurdle_Poisson_and_Binomial'){\n",
    "        Chart$Predicted = dtfrm[['Predicted']][ , c(5)]\n",
    "        return(Chart)\n",
    "    }\n",
    "}\n"
   ]
  },
  {
   "cell_type": "markdown",
   "id": "italian-international",
   "metadata": {},
   "source": [
    "## Extract Performance"
   ]
  },
  {
   "cell_type": "code",
   "execution_count": 30,
   "id": "alpine-checklist",
   "metadata": {},
   "outputs": [],
   "source": [
    "get_Performance = function(dtfrm){\n",
    "    Best_Model = dtfrm[['Selected_Model']]\n",
    "    \n",
    "    if(Best_Model == 'Poisson'){\n",
    "        train_rmse = dtfrm[['train_RMSEs']][ , c(1)]\n",
    "        test_rmse = dtfrm[['test_RMSEs']][ , c(1)]\n",
    "        Performance = data.frame(cbind('Train_RMSE' = train_rmse, 'Test_RMSE' = test_rmse))\n",
    "        rownames(Performance) = c('Poisson')\n",
    "        return(Performance)\n",
    "    }\n",
    "    else if(Best_Model == 'Negative_Binomial'){\n",
    "        train_rmse = dtfrm[['train_RMSEs']][ , c(2)]\n",
    "        test_rmse = dtfrm[['test_RMSEs']][ , c(2)]\n",
    "        Performance = data.frame(cbind('Train_RMSE' = train_rmse, 'Test_RMSE' = test_rmse))\n",
    "        rownames(Performance) = c('Negative_Binomial')\n",
    "        return(Performance)\n",
    "    }\n",
    "    else if(Best_Model == 'ZI_Poisson'){\n",
    "        train_rmse = dtfrm[['train_RMSEs']][ , c(3)]\n",
    "        test_rmse = dtfrm[['test_RMSEs']][ , c(3)]\n",
    "        Performance = data.frame(cbind('Train_RMSE' = train_rmse, 'Test_RMSE' = test_rmse))\n",
    "        rownames(Performance) = c('ZIP_Poisson')\n",
    "        return(Performance)\n",
    "    }\n",
    "    else if(Best_Model == 'ZI_Negative_Binomial'){\n",
    "        train_rmse = dtfrm[['train_RMSEs']][ , c(4)]\n",
    "        test_rmse = dtfrm[['test_RMSEs']][ , c(4)]\n",
    "        Performance = data.frame(cbind('Train_RMSE' = train_rmse, 'Test_RMSE' = test_rmse))\n",
    "        rownames(Performance) = c('ZIP_Negative_Binomial')\n",
    "        return(Performance)\n",
    "    }\n",
    "    else if(Best_Model == 'Hurdle_Poisson_and_Binomial'){\n",
    "        train_rmse = dtfrm[['train_RMSEs']][ , c(5)]\n",
    "        test_rmse = dtfrm[['test_RMSEs']][ , c(5)]\n",
    "        Performance = data.frame(cbind('Train_RMSE' = train_rmse, 'Test_RMSE' = test_rmse))\n",
    "        rownames(Performance) = c('Hurdle_Poisson_and_Binomial')\n",
    "        return(Performance)\n",
    "    }    \n",
    "}"
   ]
  },
  {
   "cell_type": "markdown",
   "id": "grateful-variation",
   "metadata": {},
   "source": [
    "## Extract Selected Model AIC values"
   ]
  },
  {
   "cell_type": "code",
   "execution_count": 31,
   "id": "professional-compilation",
   "metadata": {},
   "outputs": [],
   "source": [
    "get_Model_Selection = function(dtfrm){\n",
    "    AIC_scores = dtfrm[['Models_AIC']]\n",
    "    colnames(AIC_scores) = c('Model_Name', 'AIC')\n",
    "    AIC_scores$Model_Name = as.character(AIC_scores$Model_Name)\n",
    "    AIC_scores$AIC = round(as.numeric(as.character(AIC_scores$AIC)),3)\n",
    "    return(AIC_scores)\n",
    "}"
   ]
  },
  {
   "cell_type": "markdown",
   "id": "thousand-darkness",
   "metadata": {},
   "source": [
    "# Radial Influence"
   ]
  },
  {
   "cell_type": "code",
   "execution_count": 32,
   "id": "parliamentary-mining",
   "metadata": {},
   "outputs": [],
   "source": [
    "radial_influence <- function(st, DT){\n",
    "  \n",
    "    n_row = dim(DT)[1]\n",
    "    \n",
    "    x0 = DT[DT['stop_id'] == st, ]$stop_lon\n",
    "    y0 = DT[DT['stop_id'] == st, ]$stop_lat\n",
    "    \n",
    "    radial_dist = 0\n",
    "    condition = 0\n",
    "    \n",
    "    for(i in c(1:n_row)){\n",
    "        radial_dist[i] = sqrt((x0 - DT$stop_lon[i])^{2} + (y0 - DT$stop_lat[i])^{2})\n",
    "    }\n",
    "    radial_dist = radial_dist\n",
    "    influence = data.frame(cbind('stop_id' = DT$stop_id, 'Radial_Distance' = radial_dist))\n",
    "    influence$Radial_Distance = as.numeric(as.character(influence$Radial_Distance))\n",
    "        \n",
    "    Influence = influence %>%\n",
    "      mutate(Condition = if_else((Radial_Distance <= 0.007246377) == T, 'Inside', 'Outside'))\n",
    "   \n",
    "    return(Influence)\n",
    "    \n",
    "}\n"
   ]
  },
  {
   "cell_type": "markdown",
   "id": "careful-anatomy",
   "metadata": {},
   "source": [
    "## Example"
   ]
  },
  {
   "cell_type": "code",
   "execution_count": 33,
   "id": "utility-platform",
   "metadata": {},
   "outputs": [
    {
     "data": {
      "text/html": [
       "<table class=\"dataframe\">\n",
       "<caption>A data.frame: 6 × 3</caption>\n",
       "<thead>\n",
       "\t<tr><th></th><th scope=col>stop_id</th><th scope=col>Radial_Distance</th><th scope=col>Condition</th></tr>\n",
       "\t<tr><th></th><th scope=col>&lt;fct&gt;</th><th scope=col>&lt;dbl&gt;</th><th scope=col>&lt;chr&gt;</th></tr>\n",
       "</thead>\n",
       "<tbody>\n",
       "\t<tr><th scope=row>1</th><td>971 </td><td>0.06803262</td><td>Outside</td></tr>\n",
       "\t<tr><th scope=row>2</th><td>146 </td><td>0.06131507</td><td>Outside</td></tr>\n",
       "\t<tr><th scope=row>3</th><td>1545</td><td>0.06364519</td><td>Outside</td></tr>\n",
       "\t<tr><th scope=row>4</th><td>972 </td><td>0.06592259</td><td>Outside</td></tr>\n",
       "\t<tr><th scope=row>5</th><td>81  </td><td>0.06057911</td><td>Outside</td></tr>\n",
       "\t<tr><th scope=row>6</th><td>90  </td><td>0.05963092</td><td>Outside</td></tr>\n",
       "</tbody>\n",
       "</table>\n"
      ],
      "text/latex": [
       "A data.frame: 6 × 3\n",
       "\\begin{tabular}{r|lll}\n",
       "  & stop\\_id & Radial\\_Distance & Condition\\\\\n",
       "  & <fct> & <dbl> & <chr>\\\\\n",
       "\\hline\n",
       "\t1 & 971  & 0.06803262 & Outside\\\\\n",
       "\t2 & 146  & 0.06131507 & Outside\\\\\n",
       "\t3 & 1545 & 0.06364519 & Outside\\\\\n",
       "\t4 & 972  & 0.06592259 & Outside\\\\\n",
       "\t5 & 81   & 0.06057911 & Outside\\\\\n",
       "\t6 & 90   & 0.05963092 & Outside\\\\\n",
       "\\end{tabular}\n"
      ],
      "text/markdown": [
       "\n",
       "A data.frame: 6 × 3\n",
       "\n",
       "| <!--/--> | stop_id &lt;fct&gt; | Radial_Distance &lt;dbl&gt; | Condition &lt;chr&gt; |\n",
       "|---|---|---|---|\n",
       "| 1 | 971  | 0.06803262 | Outside |\n",
       "| 2 | 146  | 0.06131507 | Outside |\n",
       "| 3 | 1545 | 0.06364519 | Outside |\n",
       "| 4 | 972  | 0.06592259 | Outside |\n",
       "| 5 | 81   | 0.06057911 | Outside |\n",
       "| 6 | 90   | 0.05963092 | Outside |\n",
       "\n"
      ],
      "text/plain": [
       "  stop_id Radial_Distance Condition\n",
       "1 971     0.06803262      Outside  \n",
       "2 146     0.06131507      Outside  \n",
       "3 1545    0.06364519      Outside  \n",
       "4 972     0.06592259      Outside  \n",
       "5 81      0.06057911      Outside  \n",
       "6 90      0.05963092      Outside  "
      ]
     },
     "metadata": {},
     "output_type": "display_data"
    }
   ],
   "source": [
    "XdistX = radial_influence('12', Bus_stops)\n",
    "head(XdistX)"
   ]
  },
  {
   "cell_type": "code",
   "execution_count": 34,
   "id": "fantastic-glossary",
   "metadata": {},
   "outputs": [
    {
     "data": {
      "text/html": [
       "<table class=\"dataframe\">\n",
       "<caption>A data.frame: 6 × 5</caption>\n",
       "<thead>\n",
       "\t<tr><th></th><th scope=col>stop_id</th><th scope=col>Radial_Distance</th><th scope=col>Condition</th><th scope=col>stop_lon</th><th scope=col>stop_lat</th></tr>\n",
       "\t<tr><th></th><th scope=col>&lt;chr&gt;</th><th scope=col>&lt;dbl&gt;</th><th scope=col>&lt;chr&gt;</th><th scope=col>&lt;dbl&gt;</th><th scope=col>&lt;dbl&gt;</th></tr>\n",
       "</thead>\n",
       "<tbody>\n",
       "\t<tr><th scope=row>1</th><td>971 </td><td>0.06803262</td><td>Outside</td><td>-85.24681</td><td>35.02435</td></tr>\n",
       "\t<tr><th scope=row>2</th><td>146 </td><td>0.06131507</td><td>Outside</td><td>-85.30462</td><td>34.98958</td></tr>\n",
       "\t<tr><th scope=row>3</th><td>1545</td><td>0.06364519</td><td>Outside</td><td>-85.25086</td><td>35.02603</td></tr>\n",
       "\t<tr><th scope=row>4</th><td>972 </td><td>0.06592259</td><td>Outside</td><td>-85.24853</td><td>35.02572</td></tr>\n",
       "\t<tr><th scope=row>5</th><td>81  </td><td>0.06057911</td><td>Outside</td><td>-85.30489</td><td>34.99030</td></tr>\n",
       "\t<tr><th scope=row>6</th><td>90  </td><td>0.05963092</td><td>Outside</td><td>-85.30497</td><td>34.99125</td></tr>\n",
       "</tbody>\n",
       "</table>\n"
      ],
      "text/latex": [
       "A data.frame: 6 × 5\n",
       "\\begin{tabular}{r|lllll}\n",
       "  & stop\\_id & Radial\\_Distance & Condition & stop\\_lon & stop\\_lat\\\\\n",
       "  & <chr> & <dbl> & <chr> & <dbl> & <dbl>\\\\\n",
       "\\hline\n",
       "\t1 & 971  & 0.06803262 & Outside & -85.24681 & 35.02435\\\\\n",
       "\t2 & 146  & 0.06131507 & Outside & -85.30462 & 34.98958\\\\\n",
       "\t3 & 1545 & 0.06364519 & Outside & -85.25086 & 35.02603\\\\\n",
       "\t4 & 972  & 0.06592259 & Outside & -85.24853 & 35.02572\\\\\n",
       "\t5 & 81   & 0.06057911 & Outside & -85.30489 & 34.99030\\\\\n",
       "\t6 & 90   & 0.05963092 & Outside & -85.30497 & 34.99125\\\\\n",
       "\\end{tabular}\n"
      ],
      "text/markdown": [
       "\n",
       "A data.frame: 6 × 5\n",
       "\n",
       "| <!--/--> | stop_id &lt;chr&gt; | Radial_Distance &lt;dbl&gt; | Condition &lt;chr&gt; | stop_lon &lt;dbl&gt; | stop_lat &lt;dbl&gt; |\n",
       "|---|---|---|---|---|---|\n",
       "| 1 | 971  | 0.06803262 | Outside | -85.24681 | 35.02435 |\n",
       "| 2 | 146  | 0.06131507 | Outside | -85.30462 | 34.98958 |\n",
       "| 3 | 1545 | 0.06364519 | Outside | -85.25086 | 35.02603 |\n",
       "| 4 | 972  | 0.06592259 | Outside | -85.24853 | 35.02572 |\n",
       "| 5 | 81   | 0.06057911 | Outside | -85.30489 | 34.99030 |\n",
       "| 6 | 90   | 0.05963092 | Outside | -85.30497 | 34.99125 |\n",
       "\n"
      ],
      "text/plain": [
       "  stop_id Radial_Distance Condition stop_lon  stop_lat\n",
       "1 971     0.06803262      Outside   -85.24681 35.02435\n",
       "2 146     0.06131507      Outside   -85.30462 34.98958\n",
       "3 1545    0.06364519      Outside   -85.25086 35.02603\n",
       "4 972     0.06592259      Outside   -85.24853 35.02572\n",
       "5 81      0.06057911      Outside   -85.30489 34.99030\n",
       "6 90      0.05963092      Outside   -85.30497 34.99125"
      ]
     },
     "metadata": {},
     "output_type": "display_data"
    }
   ],
   "source": [
    "XdistX = left_join(XdistX, Bus_stops, by = c('stop_id'))\n",
    "head(XdistX)"
   ]
  },
  {
   "cell_type": "code",
   "execution_count": 40,
   "id": "ongoing-invitation",
   "metadata": {},
   "outputs": [
    {
     "data": {
      "image/png": "[encoded data removed]",
      "text/plain": [
       "plot without title"
      ]
     },
     "metadata": {
      "image/png": {
       "height": 420,
       "width": 420
      }
     },
     "output_type": "display_data"
    }
   ],
   "source": [
    "XdistX %>%\n",
    "    ggplot(aes(x = stop_lon, y = stop_lat, colour = Condition)) +\n",
    "    geom_point() +\n",
    "    geom_point(aes(x = XdistX[XdistX['stop_id'] ==  '12',]$stop_lon, y = XdistX[XdistX['stop_id'] ==  '12',]$stop_lat), color = 'red') +\n",
    "    scale_colour_manual(name = \"Influence\",\n",
    "                        values = c(\"Inside\" = \"#99CC66\",\n",
    "                                   \"Outside\" = \"#FF9900\"))"
   ]
  },
  {
   "cell_type": "code",
   "execution_count": null,
   "id": "posted-occurrence",
   "metadata": {},
   "outputs": [],
   "source": [
    "carta %>%\n",
    "   filter(route_id == route, direction_id == direction, stop_id == bus_stop) %>%\n",
    "   group_by(month, service_kind, hour) %>%\n",
    "   summarise(mean_temp = mean(temp), mean_precip = mean(precip))"
   ]
  },
  {
   "cell_type": "markdown",
   "id": "encouraging-pendant",
   "metadata": {},
   "source": [
    "# Data Extraction"
   ]
  },
  {
   "cell_type": "code",
   "execution_count": 60,
   "id": "medieval-comparative",
   "metadata": {},
   "outputs": [],
   "source": [
    "data_extraction <- function(route, direction, bus_stop, DTFRM, transf){\n",
    "    \n",
    "             \n",
    "    dtfrm = DTFRM %>%\n",
    "      filter(route_id == route, direction_id == direction)\n",
    "    \n",
    "    n_rows = DTFRM %>%\n",
    "      filter(route_id == route, direction_id == direction, stop_id == bus_stop) %>%\n",
    "      nrow()\n",
    "    \n",
    "    if (n_rows == 0){\n",
    "        print('There are not rows in the data set with the required characteristics. Please change them.')\n",
    "    }\n",
    "    \n",
    "    else{\n",
    "          \n",
    "        vinit = DTFRM %>%\n",
    "          filter(route_id == route, direction_id == direction, stop_id == bus_stop) %>%\n",
    "          group_by(month, service_kind, hour) %>%\n",
    "          summarise(mean_temp = mean(temp), mean_precip = mean(precip))\n",
    "    \n",
    "        V1 = dtfrm %>%\n",
    "          filter(stop_id == bus_stop) %>%\n",
    "          summarise(month, service_kind, hour, board_count, alight_count)\n",
    "        \n",
    "        V1 = left_join(V1, vinit, on = c('month', 'service_kind', 'hour'))\n",
    "        \n",
    "#        return(V1)\n",
    "    \n",
    "        Relevant_Bus_Stops = radial_influence(bus_stop, Bus_stops)\n",
    "\n",
    "        ind_excluded_stop = which((Relevant_Bus_Stops$stop_id == bus_stop) == T, arr.ind = T)\n",
    "        \n",
    "        bus_stops_ids = as.character(Relevant_Bus_Stops$stop_id[-ind_excluded_stop])\n",
    "    \n",
    "#        V2 = DTFRM %>%\n",
    "#          filter(stop_id %in% bus_stops_ids)\n",
    "        \n",
    "#        return(V2)\n",
    "        return(bus_stops_ids)\n",
    "    \n",
    "        V3 = DTFRM %>%\n",
    "          filter(stop_id %in% bus_stops_ids) %>%\n",
    "          group_by(month, service_kind, hour) %>%\n",
    "          summarise(surrounding_board_count = mean(board_count), surrounding_alight_count = mean(alight_count))\n",
    "        \n",
    "#        return(V3)\n",
    "        \n",
    "        V = left_join(V1, V3, by = c('month', 'service_kind', 'hour'))\n",
    "        \n",
    "        if(transf == 'Normalization'){\n",
    "          \n",
    "          V$board_count = normalizer(V$board_count)\n",
    "          V$alight_count = normalizer(V$alight_count)\n",
    "          V$surrounding_board_count = normalizer(V$surrounding_board_count)\n",
    "          V$surrounding_alight_count = normalizer(V$surrounding_alight_count)\n",
    "          V$mean_temp = normalizer(V$mean_temp)\n",
    "          V$mean_precip = normalizer(V$mean_precip)\n",
    "        \n",
    "#          return(V)\n",
    "        }\n",
    "        else if(transf == 'Standardize'){\n",
    "          \n",
    "          V$board_count = standardizer(V$board_count)\n",
    "          V$alight_count = standardizer(V$alight_count)\n",
    "          V$surrounding_board_count = standardizer(V$surrounding_board_count)\n",
    "          V$surrounding_alight_count = standardizerr(V$surrounding_alight_count)\n",
    "          V$mean_temp = standardizer(V$mean_temp)\n",
    "          V$mean_precip = standardizer(V$mean_precip)\n",
    "          \n",
    "#          return(V)\n",
    "        }\n",
    "        else if(transf == 'features'){\n",
    "          \n",
    "          V$surrounding_board_count = normalizer(V$surrounding_board_count)\n",
    "          V$surrounding_alight_count = normalizer(V$surrounding_alight_count)\n",
    "          V$mean_temp = normalizer(V$mean_temp)\n",
    "          V$mean_precip = normalizer(V$mean_precip)\n",
    "          \n",
    "#          return(V)\n",
    "        }\n",
    "        else{\n",
    "#          return(V)\n",
    "        }\n",
    "\n",
    "    }        \n",
    "}\n"
   ]
  },
  {
   "cell_type": "markdown",
   "id": "received-metro",
   "metadata": {},
   "source": [
    "## Example"
   ]
  },
  {
   "cell_type": "code",
   "execution_count": 61,
   "id": "toxic-rabbit",
   "metadata": {},
   "outputs": [
    {
     "name": "stderr",
     "output_type": "stream",
     "text": [
      "`summarise()` has grouped output by 'month', 'service_kind'. You can override using the `.groups` argument.\n",
      "\n",
      "Joining, by = c(\"month\", \"service_kind\", \"hour\")\n",
      "\n"
     ]
    },
    {
     "data": {
      "text/html": [
       "<style>\n",
       ".list-inline {list-style: none; margin:0; padding: 0}\n",
       ".list-inline>li {display: inline-block}\n",
       ".list-inline>li:not(:last-child)::after {content: \"\\00b7\"; padding: 0 .5ex}\n",
       "</style>\n",
       "<ol class=list-inline><li>'971'</li><li>'146'</li><li>'1545'</li><li>'972'</li><li>'81'</li><li>'90'</li></ol>\n"
      ],
      "text/latex": [
       "\\begin{enumerate*}\n",
       "\\item '971'\n",
       "\\item '146'\n",
       "\\item '1545'\n",
       "\\item '972'\n",
       "\\item '81'\n",
       "\\item '90'\n",
       "\\end{enumerate*}\n"
      ],
      "text/markdown": [
       "1. '971'\n",
       "2. '146'\n",
       "3. '1545'\n",
       "4. '972'\n",
       "5. '81'\n",
       "6. '90'\n",
       "\n",
       "\n"
      ],
      "text/plain": [
       "[1] \"971\"  \"146\"  \"1545\" \"972\"  \"81\"   \"90\"  "
      ]
     },
     "metadata": {},
     "output_type": "display_data"
    }
   ],
   "source": [
    "XDTX = data_extraction('4', '1', '12', carta, 'features')\n",
    "head(XDTX)"
   ]
  },
  {
   "cell_type": "code",
   "execution_count": 63,
   "id": "manual-overview",
   "metadata": {},
   "outputs": [
    {
     "data": {
      "text/html": [
       "'character'"
      ],
      "text/latex": [
       "'character'"
      ],
      "text/markdown": [
       "'character'"
      ],
      "text/plain": [
       "[1] \"character\""
      ]
     },
     "metadata": {},
     "output_type": "display_data"
    }
   ],
   "source": [
    "class(XDTX)"
   ]
  },
  {
   "cell_type": "code",
   "execution_count": 73,
   "id": "stainless-dependence",
   "metadata": {},
   "outputs": [
    {
     "name": "stderr",
     "output_type": "stream",
     "text": [
      "`summarise()` has grouped output by 'month', 'service_kind'. You can override using the `.groups` argument.\n",
      "\n"
     ]
    },
    {
     "data": {
      "text/html": [
       "<table class=\"dataframe\">\n",
       "<caption>A grouped_df: 55 × 5</caption>\n",
       "<thead>\n",
       "\t<tr><th scope=col>month</th><th scope=col>service_kind</th><th scope=col>hour</th><th scope=col>mean_temp</th><th scope=col>mean_precip</th></tr>\n",
       "\t<tr><th scope=col>&lt;fct&gt;</th><th scope=col>&lt;fct&gt;</th><th scope=col>&lt;fct&gt;</th><th scope=col>&lt;dbl&gt;</th><th scope=col>&lt;dbl&gt;</th></tr>\n",
       "</thead>\n",
       "<tbody>\n",
       "\t<tr><td>1 </td><td>weekday</td><td>0 </td><td> 0.116964</td><td>0.00000000</td></tr>\n",
       "\t<tr><td>1 </td><td>weekday</td><td>7 </td><td> 7.923020</td><td>0.77121417</td></tr>\n",
       "\t<tr><td>1 </td><td>weekday</td><td>9 </td><td> 5.459099</td><td>0.08364809</td></tr>\n",
       "\t<tr><td>1 </td><td>weekday</td><td>10</td><td> 7.216546</td><td>0.16927814</td></tr>\n",
       "\t<tr><td>1 </td><td>weekday</td><td>11</td><td> 7.561548</td><td>0.07274785</td></tr>\n",
       "\t<tr><td>1 </td><td>weekday</td><td>12</td><td> 7.139961</td><td>0.14573155</td></tr>\n",
       "\t<tr><td>1 </td><td>weekday</td><td>13</td><td>10.001688</td><td>0.09607064</td></tr>\n",
       "\t<tr><td>1 </td><td>weekday</td><td>14</td><td>10.406416</td><td>0.13346128</td></tr>\n",
       "\t<tr><td>1 </td><td>weekday</td><td>15</td><td> 9.928758</td><td>0.14589631</td></tr>\n",
       "\t<tr><td>1 </td><td>weekday</td><td>16</td><td> 8.314805</td><td>0.27837027</td></tr>\n",
       "\t<tr><td>1 </td><td>weekday</td><td>17</td><td>12.978193</td><td>0.19846786</td></tr>\n",
       "\t<tr><td>1 </td><td>weekday</td><td>18</td><td> 9.986494</td><td>0.51167086</td></tr>\n",
       "\t<tr><td>1 </td><td>weekday</td><td>19</td><td> 8.945708</td><td>0.40686143</td></tr>\n",
       "\t<tr><td>1 </td><td>weekday</td><td>20</td><td> 8.063240</td><td>0.39552714</td></tr>\n",
       "\t<tr><td>1 </td><td>weekday</td><td>22</td><td> 7.574205</td><td>0.05325670</td></tr>\n",
       "\t<tr><td>1 </td><td>weekday</td><td>23</td><td> 6.431000</td><td>0.14232843</td></tr>\n",
       "\t<tr><td>1 </td><td>weekend</td><td>0 </td><td> 8.769659</td><td>0.00000000</td></tr>\n",
       "\t<tr><td>1 </td><td>weekend</td><td>10</td><td> 9.776122</td><td>0.65312349</td></tr>\n",
       "\t<tr><td>1 </td><td>weekend</td><td>11</td><td> 7.294929</td><td>0.00000000</td></tr>\n",
       "\t<tr><td>1 </td><td>weekend</td><td>12</td><td> 8.280650</td><td>0.00000000</td></tr>\n",
       "\t<tr><td>1 </td><td>weekend</td><td>13</td><td>11.027379</td><td>0.70754877</td></tr>\n",
       "\t<tr><td>1 </td><td>weekend</td><td>14</td><td>10.035972</td><td>0.39065702</td></tr>\n",
       "\t<tr><td>1 </td><td>weekend</td><td>15</td><td>10.997499</td><td>1.62200482</td></tr>\n",
       "\t<tr><td>1 </td><td>weekend</td><td>16</td><td>10.372144</td><td>0.66435169</td></tr>\n",
       "\t<tr><td>1 </td><td>weekend</td><td>17</td><td> 8.445007</td><td>0.00000000</td></tr>\n",
       "\t<tr><td>1 </td><td>weekend</td><td>18</td><td>10.740452</td><td>0.29315222</td></tr>\n",
       "\t<tr><td>1 </td><td>weekend</td><td>19</td><td> 8.614975</td><td>0.07642657</td></tr>\n",
       "\t<tr><td>1 </td><td>weekend</td><td>20</td><td> 8.347691</td><td>0.00000000</td></tr>\n",
       "\t<tr><td>1 </td><td>weekend</td><td>22</td><td> 7.096403</td><td>0.27281279</td></tr>\n",
       "\t<tr><td>1 </td><td>weekend</td><td>23</td><td> 3.914779</td><td>0.00000000</td></tr>\n",
       "\t<tr><td>12</td><td>weekday</td><td>0 </td><td> 6.977877</td><td>0.00000000</td></tr>\n",
       "\t<tr><td>12</td><td>weekday</td><td>7 </td><td> 4.312972</td><td>0.14419473</td></tr>\n",
       "\t<tr><td>12</td><td>weekday</td><td>9 </td><td> 7.604166</td><td>0.17020256</td></tr>\n",
       "\t<tr><td>12</td><td>weekday</td><td>10</td><td> 6.598994</td><td>0.09869671</td></tr>\n",
       "\t<tr><td>12</td><td>weekday</td><td>11</td><td> 8.689348</td><td>0.16032040</td></tr>\n",
       "\t<tr><td>12</td><td>weekday</td><td>13</td><td> 9.211167</td><td>0.22893245</td></tr>\n",
       "\t<tr><td>12</td><td>weekday</td><td>14</td><td> 9.251941</td><td>0.13649902</td></tr>\n",
       "\t<tr><td>12</td><td>weekday</td><td>15</td><td>10.467848</td><td>0.01979769</td></tr>\n",
       "\t<tr><td>12</td><td>weekday</td><td>17</td><td> 8.304742</td><td>0.00000000</td></tr>\n",
       "\t<tr><td>12</td><td>weekday</td><td>18</td><td> 7.544802</td><td>0.04044632</td></tr>\n",
       "\t<tr><td>12</td><td>weekday</td><td>19</td><td> 6.813628</td><td>0.07069510</td></tr>\n",
       "\t<tr><td>12</td><td>weekday</td><td>20</td><td> 6.208252</td><td>0.06649667</td></tr>\n",
       "\t<tr><td>12</td><td>weekday</td><td>22</td><td> 6.409317</td><td>0.02926520</td></tr>\n",
       "\t<tr><td>12</td><td>weekday</td><td>23</td><td> 6.037789</td><td>0.01279251</td></tr>\n",
       "\t<tr><td>12</td><td>weekend</td><td>10</td><td>12.581915</td><td>0.00000000</td></tr>\n",
       "\t<tr><td>12</td><td>weekend</td><td>11</td><td> 9.431543</td><td>0.62815776</td></tr>\n",
       "\t<tr><td>12</td><td>weekend</td><td>12</td><td>16.936979</td><td>0.00000000</td></tr>\n",
       "\t<tr><td>12</td><td>weekend</td><td>13</td><td>12.862456</td><td>0.63473847</td></tr>\n",
       "\t<tr><td>12</td><td>weekend</td><td>14</td><td>16.379074</td><td>0.36889584</td></tr>\n",
       "\t<tr><td>12</td><td>weekend</td><td>15</td><td>19.611683</td><td>0.00000000</td></tr>\n",
       "\t<tr><td>12</td><td>weekend</td><td>16</td><td>13.227544</td><td>0.82516568</td></tr>\n",
       "\t<tr><td>12</td><td>weekend</td><td>17</td><td>10.869048</td><td>1.90187692</td></tr>\n",
       "\t<tr><td>12</td><td>weekend</td><td>19</td><td>11.525615</td><td>0.00000000</td></tr>\n",
       "\t<tr><td>12</td><td>weekend</td><td>20</td><td>12.200000</td><td>0.00000000</td></tr>\n",
       "\t<tr><td>12</td><td>weekend</td><td>22</td><td>10.637704</td><td>0.22780555</td></tr>\n",
       "</tbody>\n",
       "</table>\n"
      ],
      "text/latex": [
       "A grouped\\_df: 55 × 5\n",
       "\\begin{tabular}{lllll}\n",
       " month & service\\_kind & hour & mean\\_temp & mean\\_precip\\\\\n",
       " <fct> & <fct> & <fct> & <dbl> & <dbl>\\\\\n",
       "\\hline\n",
       "\t 1  & weekday & 0  &  0.116964 & 0.00000000\\\\\n",
       "\t 1  & weekday & 7  &  7.923020 & 0.77121417\\\\\n",
       "\t 1  & weekday & 9  &  5.459099 & 0.08364809\\\\\n",
       "\t 1  & weekday & 10 &  7.216546 & 0.16927814\\\\\n",
       "\t 1  & weekday & 11 &  7.561548 & 0.07274785\\\\\n",
       "\t 1  & weekday & 12 &  7.139961 & 0.14573155\\\\\n",
       "\t 1  & weekday & 13 & 10.001688 & 0.09607064\\\\\n",
       "\t 1  & weekday & 14 & 10.406416 & 0.13346128\\\\\n",
       "\t 1  & weekday & 15 &  9.928758 & 0.14589631\\\\\n",
       "\t 1  & weekday & 16 &  8.314805 & 0.27837027\\\\\n",
       "\t 1  & weekday & 17 & 12.978193 & 0.19846786\\\\\n",
       "\t 1  & weekday & 18 &  9.986494 & 0.51167086\\\\\n",
       "\t 1  & weekday & 19 &  8.945708 & 0.40686143\\\\\n",
       "\t 1  & weekday & 20 &  8.063240 & 0.39552714\\\\\n",
       "\t 1  & weekday & 22 &  7.574205 & 0.05325670\\\\\n",
       "\t 1  & weekday & 23 &  6.431000 & 0.14232843\\\\\n",
       "\t 1  & weekend & 0  &  8.769659 & 0.00000000\\\\\n",
       "\t 1  & weekend & 10 &  9.776122 & 0.65312349\\\\\n",
       "\t 1  & weekend & 11 &  7.294929 & 0.00000000\\\\\n",
       "\t 1  & weekend & 12 &  8.280650 & 0.00000000\\\\\n",
       "\t 1  & weekend & 13 & 11.027379 & 0.70754877\\\\\n",
       "\t 1  & weekend & 14 & 10.035972 & 0.39065702\\\\\n",
       "\t 1  & weekend & 15 & 10.997499 & 1.62200482\\\\\n",
       "\t 1  & weekend & 16 & 10.372144 & 0.66435169\\\\\n",
       "\t 1  & weekend & 17 &  8.445007 & 0.00000000\\\\\n",
       "\t 1  & weekend & 18 & 10.740452 & 0.29315222\\\\\n",
       "\t 1  & weekend & 19 &  8.614975 & 0.07642657\\\\\n",
       "\t 1  & weekend & 20 &  8.347691 & 0.00000000\\\\\n",
       "\t 1  & weekend & 22 &  7.096403 & 0.27281279\\\\\n",
       "\t 1  & weekend & 23 &  3.914779 & 0.00000000\\\\\n",
       "\t 12 & weekday & 0  &  6.977877 & 0.00000000\\\\\n",
       "\t 12 & weekday & 7  &  4.312972 & 0.14419473\\\\\n",
       "\t 12 & weekday & 9  &  7.604166 & 0.17020256\\\\\n",
       "\t 12 & weekday & 10 &  6.598994 & 0.09869671\\\\\n",
       "\t 12 & weekday & 11 &  8.689348 & 0.16032040\\\\\n",
       "\t 12 & weekday & 13 &  9.211167 & 0.22893245\\\\\n",
       "\t 12 & weekday & 14 &  9.251941 & 0.13649902\\\\\n",
       "\t 12 & weekday & 15 & 10.467848 & 0.01979769\\\\\n",
       "\t 12 & weekday & 17 &  8.304742 & 0.00000000\\\\\n",
       "\t 12 & weekday & 18 &  7.544802 & 0.04044632\\\\\n",
       "\t 12 & weekday & 19 &  6.813628 & 0.07069510\\\\\n",
       "\t 12 & weekday & 20 &  6.208252 & 0.06649667\\\\\n",
       "\t 12 & weekday & 22 &  6.409317 & 0.02926520\\\\\n",
       "\t 12 & weekday & 23 &  6.037789 & 0.01279251\\\\\n",
       "\t 12 & weekend & 10 & 12.581915 & 0.00000000\\\\\n",
       "\t 12 & weekend & 11 &  9.431543 & 0.62815776\\\\\n",
       "\t 12 & weekend & 12 & 16.936979 & 0.00000000\\\\\n",
       "\t 12 & weekend & 13 & 12.862456 & 0.63473847\\\\\n",
       "\t 12 & weekend & 14 & 16.379074 & 0.36889584\\\\\n",
       "\t 12 & weekend & 15 & 19.611683 & 0.00000000\\\\\n",
       "\t 12 & weekend & 16 & 13.227544 & 0.82516568\\\\\n",
       "\t 12 & weekend & 17 & 10.869048 & 1.90187692\\\\\n",
       "\t 12 & weekend & 19 & 11.525615 & 0.00000000\\\\\n",
       "\t 12 & weekend & 20 & 12.200000 & 0.00000000\\\\\n",
       "\t 12 & weekend & 22 & 10.637704 & 0.22780555\\\\\n",
       "\\end{tabular}\n"
      ],
      "text/markdown": [
       "\n",
       "A grouped_df: 55 × 5\n",
       "\n",
       "| month &lt;fct&gt; | service_kind &lt;fct&gt; | hour &lt;fct&gt; | mean_temp &lt;dbl&gt; | mean_precip &lt;dbl&gt; |\n",
       "|---|---|---|---|---|\n",
       "| 1  | weekday | 0  |  0.116964 | 0.00000000 |\n",
       "| 1  | weekday | 7  |  7.923020 | 0.77121417 |\n",
       "| 1  | weekday | 9  |  5.459099 | 0.08364809 |\n",
       "| 1  | weekday | 10 |  7.216546 | 0.16927814 |\n",
       "| 1  | weekday | 11 |  7.561548 | 0.07274785 |\n",
       "| 1  | weekday | 12 |  7.139961 | 0.14573155 |\n",
       "| 1  | weekday | 13 | 10.001688 | 0.09607064 |\n",
       "| 1  | weekday | 14 | 10.406416 | 0.13346128 |\n",
       "| 1  | weekday | 15 |  9.928758 | 0.14589631 |\n",
       "| 1  | weekday | 16 |  8.314805 | 0.27837027 |\n",
       "| 1  | weekday | 17 | 12.978193 | 0.19846786 |\n",
       "| 1  | weekday | 18 |  9.986494 | 0.51167086 |\n",
       "| 1  | weekday | 19 |  8.945708 | 0.40686143 |\n",
       "| 1  | weekday | 20 |  8.063240 | 0.39552714 |\n",
       "| 1  | weekday | 22 |  7.574205 | 0.05325670 |\n",
       "| 1  | weekday | 23 |  6.431000 | 0.14232843 |\n",
       "| 1  | weekend | 0  |  8.769659 | 0.00000000 |\n",
       "| 1  | weekend | 10 |  9.776122 | 0.65312349 |\n",
       "| 1  | weekend | 11 |  7.294929 | 0.00000000 |\n",
       "| 1  | weekend | 12 |  8.280650 | 0.00000000 |\n",
       "| 1  | weekend | 13 | 11.027379 | 0.70754877 |\n",
       "| 1  | weekend | 14 | 10.035972 | 0.39065702 |\n",
       "| 1  | weekend | 15 | 10.997499 | 1.62200482 |\n",
       "| 1  | weekend | 16 | 10.372144 | 0.66435169 |\n",
       "| 1  | weekend | 17 |  8.445007 | 0.00000000 |\n",
       "| 1  | weekend | 18 | 10.740452 | 0.29315222 |\n",
       "| 1  | weekend | 19 |  8.614975 | 0.07642657 |\n",
       "| 1  | weekend | 20 |  8.347691 | 0.00000000 |\n",
       "| 1  | weekend | 22 |  7.096403 | 0.27281279 |\n",
       "| 1  | weekend | 23 |  3.914779 | 0.00000000 |\n",
       "| 12 | weekday | 0  |  6.977877 | 0.00000000 |\n",
       "| 12 | weekday | 7  |  4.312972 | 0.14419473 |\n",
       "| 12 | weekday | 9  |  7.604166 | 0.17020256 |\n",
       "| 12 | weekday | 10 |  6.598994 | 0.09869671 |\n",
       "| 12 | weekday | 11 |  8.689348 | 0.16032040 |\n",
       "| 12 | weekday | 13 |  9.211167 | 0.22893245 |\n",
       "| 12 | weekday | 14 |  9.251941 | 0.13649902 |\n",
       "| 12 | weekday | 15 | 10.467848 | 0.01979769 |\n",
       "| 12 | weekday | 17 |  8.304742 | 0.00000000 |\n",
       "| 12 | weekday | 18 |  7.544802 | 0.04044632 |\n",
       "| 12 | weekday | 19 |  6.813628 | 0.07069510 |\n",
       "| 12 | weekday | 20 |  6.208252 | 0.06649667 |\n",
       "| 12 | weekday | 22 |  6.409317 | 0.02926520 |\n",
       "| 12 | weekday | 23 |  6.037789 | 0.01279251 |\n",
       "| 12 | weekend | 10 | 12.581915 | 0.00000000 |\n",
       "| 12 | weekend | 11 |  9.431543 | 0.62815776 |\n",
       "| 12 | weekend | 12 | 16.936979 | 0.00000000 |\n",
       "| 12 | weekend | 13 | 12.862456 | 0.63473847 |\n",
       "| 12 | weekend | 14 | 16.379074 | 0.36889584 |\n",
       "| 12 | weekend | 15 | 19.611683 | 0.00000000 |\n",
       "| 12 | weekend | 16 | 13.227544 | 0.82516568 |\n",
       "| 12 | weekend | 17 | 10.869048 | 1.90187692 |\n",
       "| 12 | weekend | 19 | 11.525615 | 0.00000000 |\n",
       "| 12 | weekend | 20 | 12.200000 | 0.00000000 |\n",
       "| 12 | weekend | 22 | 10.637704 | 0.22780555 |\n",
       "\n"
      ],
      "text/plain": [
       "   month service_kind hour mean_temp mean_precip\n",
       "1  1     weekday      0     0.116964 0.00000000 \n",
       "2  1     weekday      7     7.923020 0.77121417 \n",
       "3  1     weekday      9     5.459099 0.08364809 \n",
       "4  1     weekday      10    7.216546 0.16927814 \n",
       "5  1     weekday      11    7.561548 0.07274785 \n",
       "6  1     weekday      12    7.139961 0.14573155 \n",
       "7  1     weekday      13   10.001688 0.09607064 \n",
       "8  1     weekday      14   10.406416 0.13346128 \n",
       "9  1     weekday      15    9.928758 0.14589631 \n",
       "10 1     weekday      16    8.314805 0.27837027 \n",
       "11 1     weekday      17   12.978193 0.19846786 \n",
       "12 1     weekday      18    9.986494 0.51167086 \n",
       "13 1     weekday      19    8.945708 0.40686143 \n",
       "14 1     weekday      20    8.063240 0.39552714 \n",
       "15 1     weekday      22    7.574205 0.05325670 \n",
       "16 1     weekday      23    6.431000 0.14232843 \n",
       "17 1     weekend      0     8.769659 0.00000000 \n",
       "18 1     weekend      10    9.776122 0.65312349 \n",
       "19 1     weekend      11    7.294929 0.00000000 \n",
       "20 1     weekend      12    8.280650 0.00000000 \n",
       "21 1     weekend      13   11.027379 0.70754877 \n",
       "22 1     weekend      14   10.035972 0.39065702 \n",
       "23 1     weekend      15   10.997499 1.62200482 \n",
       "24 1     weekend      16   10.372144 0.66435169 \n",
       "25 1     weekend      17    8.445007 0.00000000 \n",
       "26 1     weekend      18   10.740452 0.29315222 \n",
       "27 1     weekend      19    8.614975 0.07642657 \n",
       "28 1     weekend      20    8.347691 0.00000000 \n",
       "29 1     weekend      22    7.096403 0.27281279 \n",
       "30 1     weekend      23    3.914779 0.00000000 \n",
       "31 12    weekday      0     6.977877 0.00000000 \n",
       "32 12    weekday      7     4.312972 0.14419473 \n",
       "33 12    weekday      9     7.604166 0.17020256 \n",
       "34 12    weekday      10    6.598994 0.09869671 \n",
       "35 12    weekday      11    8.689348 0.16032040 \n",
       "36 12    weekday      13    9.211167 0.22893245 \n",
       "37 12    weekday      14    9.251941 0.13649902 \n",
       "38 12    weekday      15   10.467848 0.01979769 \n",
       "39 12    weekday      17    8.304742 0.00000000 \n",
       "40 12    weekday      18    7.544802 0.04044632 \n",
       "41 12    weekday      19    6.813628 0.07069510 \n",
       "42 12    weekday      20    6.208252 0.06649667 \n",
       "43 12    weekday      22    6.409317 0.02926520 \n",
       "44 12    weekday      23    6.037789 0.01279251 \n",
       "45 12    weekend      10   12.581915 0.00000000 \n",
       "46 12    weekend      11    9.431543 0.62815776 \n",
       "47 12    weekend      12   16.936979 0.00000000 \n",
       "48 12    weekend      13   12.862456 0.63473847 \n",
       "49 12    weekend      14   16.379074 0.36889584 \n",
       "50 12    weekend      15   19.611683 0.00000000 \n",
       "51 12    weekend      16   13.227544 0.82516568 \n",
       "52 12    weekend      17   10.869048 1.90187692 \n",
       "53 12    weekend      19   11.525615 0.00000000 \n",
       "54 12    weekend      20   12.200000 0.00000000 \n",
       "55 12    weekend      22   10.637704 0.22780555 "
      ]
     },
     "metadata": {},
     "output_type": "display_data"
    }
   ],
   "source": [
    "carta %>%\n",
    "    filter(route_id == '4', direction_id == '1', month == c('1','12')) %>%\n",
    "    group_by(month, service_kind, hour) %>%\n",
    "    summarise(mean_temp = mean(temp), mean_precip = mean(precip))"
   ]
  },
  {
   "cell_type": "markdown",
   "id": "cosmetic-ethernet",
   "metadata": {},
   "source": [
    "# Data Split"
   ]
  },
  {
   "cell_type": "code",
   "execution_count": 70,
   "id": "american-restaurant",
   "metadata": {},
   "outputs": [],
   "source": [
    "data_split <- function(DT, prop, set, dependent){\n",
    "    n_rows = dim(DT)[1]\n",
    "    train_set_size = floor(n_rows*prop)\n",
    "    \n",
    "    board_data = DT %>%\n",
    "      summarise(board_count, month, service_kind, hour, mean_temp, mean_precip, surrounding_board_count)\n",
    "    \n",
    "    alight_data = DT %>%\n",
    "      summarise(alight_count, month, service_kind, hour, mean_temp, mean_precip, surrounding_alight_count)\n",
    "    \n",
    "    set.seed(123)\n",
    "    \n",
    "    train = sample((1:n_rows), train_set_size, replace = F)\n",
    "    \n",
    "    if(dependent == 'board_count'){\n",
    "      if(set == 'train'){\n",
    "        train_set = board_data[train, ]\n",
    "        return(train_set)\n",
    "      }\n",
    "      else{\n",
    "        test_set = board_data[-train,]\n",
    "        return(test_set)\n",
    "      }\n",
    "    }\n",
    "    else{\n",
    "      if(set == 'train'){\n",
    "        train_set = alight_data[train, ]\n",
    "        return(train_set)\n",
    "      }\n",
    "      else{\n",
    "        test_set = alight_data[-train,]\n",
    "        return(test_set)\n",
    "      }\n",
    "    }\n",
    "}\n"
   ]
  },
  {
   "cell_type": "markdown",
   "id": "stainless-celebration",
   "metadata": {},
   "source": [
    "## Example:"
   ]
  },
  {
   "cell_type": "code",
   "execution_count": 71,
   "id": "korean-sleep",
   "metadata": {},
   "outputs": [
    {
     "data": {
      "text/html": [
       "<table class=\"dataframe\">\n",
       "<caption>A tibble: 6 × 7</caption>\n",
       "<thead>\n",
       "\t<tr><th scope=col>board_count</th><th scope=col>month</th><th scope=col>service_kind</th><th scope=col>hour</th><th scope=col>mean_temp</th><th scope=col>mean_precip</th><th scope=col>surrounding_board_count</th></tr>\n",
       "\t<tr><th scope=col>&lt;dbl&gt;</th><th scope=col>&lt;int&gt;</th><th scope=col>&lt;chr&gt;</th><th scope=col>&lt;dbl&gt;</th><th scope=col>&lt;dbl&gt;</th><th scope=col>&lt;dbl&gt;</th><th scope=col>&lt;dbl&gt;</th></tr>\n",
       "</thead>\n",
       "<tbody>\n",
       "\t<tr><td>0</td><td>11</td><td>weekday</td><td>20</td><td>NA</td><td>NA</td><td>NA</td></tr>\n",
       "\t<tr><td>0</td><td>11</td><td>weekday</td><td>20</td><td>NA</td><td>NA</td><td>NA</td></tr>\n",
       "\t<tr><td>0</td><td>11</td><td>weekday</td><td>20</td><td>NA</td><td>NA</td><td>NA</td></tr>\n",
       "\t<tr><td>0</td><td>11</td><td>weekday</td><td>20</td><td>NA</td><td>NA</td><td>NA</td></tr>\n",
       "\t<tr><td>0</td><td>11</td><td>weekday</td><td>20</td><td>NA</td><td>NA</td><td>NA</td></tr>\n",
       "\t<tr><td>0</td><td>11</td><td>weekday</td><td>20</td><td>NA</td><td>NA</td><td>NA</td></tr>\n",
       "</tbody>\n",
       "</table>\n"
      ],
      "text/latex": [
       "A tibble: 6 × 7\n",
       "\\begin{tabular}{lllllll}\n",
       " board\\_count & month & service\\_kind & hour & mean\\_temp & mean\\_precip & surrounding\\_board\\_count\\\\\n",
       " <dbl> & <int> & <chr> & <dbl> & <dbl> & <dbl> & <dbl>\\\\\n",
       "\\hline\n",
       "\t 0 & 11 & weekday & 20 & NA & NA & NA\\\\\n",
       "\t 0 & 11 & weekday & 20 & NA & NA & NA\\\\\n",
       "\t 0 & 11 & weekday & 20 & NA & NA & NA\\\\\n",
       "\t 0 & 11 & weekday & 20 & NA & NA & NA\\\\\n",
       "\t 0 & 11 & weekday & 20 & NA & NA & NA\\\\\n",
       "\t 0 & 11 & weekday & 20 & NA & NA & NA\\\\\n",
       "\\end{tabular}\n"
      ],
      "text/markdown": [
       "\n",
       "A tibble: 6 × 7\n",
       "\n",
       "| board_count &lt;dbl&gt; | month &lt;int&gt; | service_kind &lt;chr&gt; | hour &lt;dbl&gt; | mean_temp &lt;dbl&gt; | mean_precip &lt;dbl&gt; | surrounding_board_count &lt;dbl&gt; |\n",
       "|---|---|---|---|---|---|---|\n",
       "| 0 | 11 | weekday | 20 | NA | NA | NA |\n",
       "| 0 | 11 | weekday | 20 | NA | NA | NA |\n",
       "| 0 | 11 | weekday | 20 | NA | NA | NA |\n",
       "| 0 | 11 | weekday | 20 | NA | NA | NA |\n",
       "| 0 | 11 | weekday | 20 | NA | NA | NA |\n",
       "| 0 | 11 | weekday | 20 | NA | NA | NA |\n",
       "\n"
      ],
      "text/plain": [
       "  board_count month service_kind hour mean_temp mean_precip\n",
       "1 0           11    weekday      20   NA        NA         \n",
       "2 0           11    weekday      20   NA        NA         \n",
       "3 0           11    weekday      20   NA        NA         \n",
       "4 0           11    weekday      20   NA        NA         \n",
       "5 0           11    weekday      20   NA        NA         \n",
       "6 0           11    weekday      20   NA        NA         \n",
       "  surrounding_board_count\n",
       "1 NA                     \n",
       "2 NA                     \n",
       "3 NA                     \n",
       "4 NA                     \n",
       "5 NA                     \n",
       "6 NA                     "
      ]
     },
     "metadata": {},
     "output_type": "display_data"
    }
   ],
   "source": [
    "xDT_train_board_x = data_split(XDTX, 0.8, 'train', 'board_count')\n",
    "xDT_train_board_x = data_split(XDTX, 0.8, 'test', 'board_count')\n",
    "head(xDT_train_board_x)"
   ]
  },
  {
   "cell_type": "code",
   "execution_count": null,
   "id": "worldwide-michigan",
   "metadata": {},
   "outputs": [],
   "source": [
    "unique(XDTX$)"
   ]
  },
  {
   "cell_type": "markdown",
   "id": "senior-modification",
   "metadata": {},
   "source": [
    "# Model Training and Selection\n",
    "\n",
    "## CV"
   ]
  },
  {
   "cell_type": "code",
   "execution_count": 68,
   "id": "crude-pierre",
   "metadata": {},
   "outputs": [],
   "source": [
    "all_models_cv <- function(DT_train, DT_test, dependent){\n",
    "        \n",
    "        set.seed(123)\n",
    "        rand_ind = groupKFold(c(1:dim(DT_train)[1]), k = 10)\n",
    "        \n",
    "        sm_Poiss <- list()\n",
    "        sm_NB <- list()\n",
    "        sm_ZI_Poiss <- list()\n",
    "        sm_ZI_NB <- list()\n",
    "        sm_hurdle <- list()\n",
    "        \n",
    "        RMSE_Poiss = 0\n",
    "        RMSE_NB = 0\n",
    "        RMSE_ZI_Poiss = 0\n",
    "        RMSE_ZI_NB = 0\n",
    "        RMSE_hurdle = 0\n",
    "        \n",
    "        k_fold_pred_Poiss <- list()\n",
    "        k_fold_pred_NB <- list()\n",
    "        k_fold_pred_ZI_Poiss <- list()\n",
    "        k_fold_pred_ZI_NB <- list()\n",
    "        k_fold_pred_hurdle <- list()\n",
    "        \n",
    "        predictions_Poiss = 0\n",
    "        predictions_NB = 0\n",
    "        predictions_ZI_Poiss = 0\n",
    "        predictions_ZI_NB = 0\n",
    "        predictions_hurdle = 0\n",
    "        \n",
    "        ind_Poiss = 0\n",
    "        ind_NB = 0\n",
    "        ind_ZI_Poiss = 0\n",
    "        ind_ZI_NB = 0\n",
    "        ind_hurdle = 0\n",
    "        \n",
    "        if(dependent == 'board_count'){\n",
    "          for(i in 1:10){\n",
    "                                           \n",
    "            df = DT_train[rand_ind[[i]],]\n",
    "            df_test = DT_train[-rand_ind[[i]],]\n",
    "                       \n",
    "            Poiss.fit = glm(board_count ~ ., data = df, family = 'poisson')\n",
    "                         \n",
    "            NB.fit = glm.nb(board_count ~ ., data = df)\n",
    "                \n",
    "            ZI.Poiss = zeroinfl(board_count ~ . | hour + service_kind,\n",
    "                               data = df, dist = 'poisson', link = 'logit')\n",
    "            \n",
    "            ZI.NB = zeroinfl(board_count ~ . |  hour + service_kind,\n",
    "                               data = df, dist = 'negbin', link = 'logit')\n",
    "                \n",
    "            hurdle.fit = hurdle(board_count ~ . |  hour + service_kind,\n",
    "                                data = df, dist = 'poisson', zero.dist = 'binomial', link = 'logit')\n",
    "                \n",
    "                \n",
    "            sm_Poiss[[i]] = Poiss.fit\n",
    "            sm_NB[[i]] = NB.fit\n",
    "            sm_ZI_Poiss[[i]] = ZI.Poiss\n",
    "            sm_ZI_NB[[i]] = ZI.NB\n",
    "            sm_hurdle[[i]] = hurdle.fit\n",
    "                \n",
    "            k_fold_pred_Poiss[[i]] = predict(Poiss.fit, df_test[ , -c(4)], type = \"response\")\n",
    "            k_fold_pred_NB[[i]] = predict(NB.fit, df_test[ , -c(4)], type = \"response\")\n",
    "            k_fold_pred_ZI_Poiss[[i]] = predict(ZI.Poiss, df_test[ , -c(4)], type = \"response\")\n",
    "            k_fold_pred_ZI_NB[[i]] = predict(ZI.NB, df_test[ , -c(4)], type = \"response\")\n",
    "            k_fold_pred_hurdle[[i]] = predict(hurdle.fit, df_test[ , -c(4)], type = \"response\")\n",
    "                \n",
    "            RMSE_Poiss[i] = sqrt(mean((df_test$board_count - k_fold_pred_Poiss[[i]])^{2}))\n",
    "            RMSE_NB[i] = sqrt(mean((df_test$board_count - k_fold_pred_NB[[i]])^{2}))\n",
    "            RMSE_ZI_Poiss[i] = sqrt(mean((df_test$board_count - k_fold_pred_ZI_Poiss[[i]])^{2}))\n",
    "            RMSE_ZI_NB[i] = sqrt(mean((df_test$board_count - k_fold_pred_ZI_NB[[i]])^{2}))\n",
    "            RMSE_hurdle[i] = sqrt(mean((df_test$board_count - k_fold_pred_hurdle[[i]])^{2}))\n",
    "        }\n",
    "                                           \n",
    "        ind_Poiss = which(RMSE_Poiss == min(RMSE_Poiss), arr.ind = T)\n",
    "        ind_NB = which(RMSE_NB == min(RMSE_NB), arr.ind = T)\n",
    "        ind_ZI_Poiss = which(RMSE_ZI_Poiss == min(RMSE_ZI_Poiss), arr.ind = T)\n",
    "        ind_ZI_NB = which(RMSE_ZI_NB == min(RMSE_ZI_NB), arr.ind = T)\n",
    "        ind_hurdle = which(RMSE_hurdle == min(RMSE_hurdle), arr.ind = T)\n",
    "            \n",
    "        train_RMSE_Poiss = RMSE_Poiss[ind_Poiss]\n",
    "        train_RMSE_NB = RMSE_NB[ind_NB]\n",
    "        train_RMSE_ZI_Poiss = RMSE_ZI_Poiss[ind_ZI_Poiss]\n",
    "        train_RMSE_ZI_NB = RMSE_ZIP_NB[ind_ZI_NB]\n",
    "        train_RMSE_hurdle = RMSE_hurdle[ind_hurdle]\n",
    "            \n",
    "        model_Poiss = sm_Poiss[[ind_Poiss]]\n",
    "        model_NB = sm_NB[[ind_NB]]\n",
    "        model_ZI_Poiss = sm_ZIP_Poiss[[ind_ZI_Poiss]]\n",
    "        model_ZI_NB = sm_ZIP_NB[[ind_ZI_NB]]\n",
    "        model_hurdle = sm_hurdle[[ind_hurdle]]\n",
    "        \n",
    "        model_Poiss_AIC = AIC(model_Poiss)\n",
    "        model_NB_AIC = AIC(model_NB)\n",
    "        model_ZI_Poiss_AIC = AIC(model_ZI_Poiss)\n",
    "        model_ZI_NB_AIC = AIC(model_ZI_NB)\n",
    "        model_hurdle_AIC = AIC(model_hurdle)\n",
    "        \n",
    "        AICs = c(model_Poiss_AIC, model_NB_AIC,\n",
    "                 model_ZI_Poiss_AIC, model_ZI_NB_AIC, model_hurdle_AIC)\n",
    "    \n",
    "        AIC_ind = which(AICs == min(AICs), arr.ind = T)\n",
    "        \n",
    "        Model_Name = c('Poisson', 'Negative_Binomial',\n",
    "                       'ZI_Poisson', 'ZI_Negative_Binomial', 'Hurdle_Poisson_and_Binomial')\n",
    "        \n",
    "        Models_AIC = data.frame(cbind(Model_Name, c(model_Poiss_AIC, model_NB_AIC,\n",
    "                                                    model_ZI_Poiss_AIC, model_ZI_NB_AIC, model_hurdle_AIC)))\n",
    "        \n",
    "        Selected_Model = Model_Name[AIC_ind]\n",
    "                          \n",
    "        test <- DT_test[ , -c(1)]\n",
    "            \n",
    "        predictions_Poiss = predict(model_Poiss, test, type = \"response\")\n",
    "        predictions_NB = predict(model_NB, test, type = \"response\")\n",
    "        predictions_ZP_Poiss = predict(model_ZI_Poiss, test, type = \"response\")\n",
    "        predictions_ZI_NB = predict(model_ZI_NB, test, type = \"response\")\n",
    "        predictions_hurdle = predict(model_hurdle, test, type = \"response\")\n",
    "            \n",
    "        test_RMSE_Poiss = sqrt(mean((DT_test$board_count - predictions_Poiss)^{2}))\n",
    "        test_RMSE_NB = sqrt(mean((DT_test$board_count - predictions_NB)^{2}))\n",
    "        test_RMSE_ZI_Poiss = sqrt(mean((DT_test$board_count - predictions_ZI_Poiss)^{2}))\n",
    "        test_RMSE_ZI_NB = sqrt(mean((DT_test$board_count - predictions_ZI_NB)^{2}))\n",
    "        test_RMSE_hurdle = sqrt(mean((DT_test$board_count - predictions_hurdle)^{2}))\n",
    "            \n",
    "        Train_RMSE = data.frame(cbind('Poiss' = train_RMSE_Poiss, 'NB' = train_RMSE_NB,\n",
    "                                      'ZI_Poiss' = train_RMSE_ZI_Poiss, 'ZP_NB' = train_RMSE_ZI_NB, 'hurdle' = train_RMSE_hurdle))\n",
    "    \n",
    "        Test_RMSE = data.frame(cbind('Poiss' = test_RMSE_Poiss, 'NB' = test_RMSE_NB,\n",
    "                                     'ZI_Poiss' = test_RMSE_ZI_Poiss, 'ZIP_NB' = test_RMSE_ZI_NB, 'hurdle' = test_RMSE_hurdle))\n",
    "                    \n",
    "        Models = list('Poiss' = model_Poiss, 'NB' = model_NB,\n",
    "                      'ZI_Poiss' = model_ZI_Poiss, 'ZI_NB' = model_ZI_NB, 'hurdle' = model_hurdle)\n",
    "            \n",
    "        Predictions = data.frame(cbind('Poiss' = predictions_Poiss, \n",
    "                                       'NB' = predictions_NB,\n",
    "                                       'ZI_Poiss' = predictions_ZI_Poiss,\n",
    "                                       'ZI_NB' = predictions_ZI_NB,\n",
    "                                       'hurdle' = predictions_hurdle,\n",
    "                                       'count' = DT_test$board_count))\n",
    "                      \n",
    "        performance <- list(\"train_RMSEs\" = Train_RMSE,\n",
    "                            \"test_RMSEs\" = Test_RMSE,\n",
    "                            \"Models_AIC\" = Models_AIC,\n",
    "                            \"Selected_Model\" = Selected_Model,\n",
    "                            \"Trained_Models\" = Models,\n",
    "                            \"Predicted\" = Predictions)\n",
    "        return(performance)\n",
    "          \n",
    "        }\n",
    "        else{\n",
    "          for(i in 1:10){\n",
    "                                           \n",
    "            df = DT_train[rand_ind[[i]],]\n",
    "            df_test = DT_train[-rand_ind[[i]],]\n",
    "                       \n",
    "            Poiss.fit = glm(alight_count ~ ., data = df, family = 'poisson')\n",
    "                          \n",
    "            NB.fit = glm.nb(alight_count ~ ., data = df)\n",
    "                \n",
    "            ZI.Poiss = zeroinfl(alight_count ~ . | hour + service_kind,\n",
    "                               data = df, dist = 'poisson', link = 'logit')\n",
    "            \n",
    "            ZI.NB = zeroinfl(alight_count ~ . |  hour + service_kind,\n",
    "                               data = df, dist = 'negbin', link = 'logit')\n",
    "                \n",
    "            hurdle.fit = hurdle(alight_count ~ . |  hour + service_kind,\n",
    "                                data = df, dist = 'poisson', zero.dist = 'binomial', link = 'logit')\n",
    "                \n",
    "                \n",
    "            sm_Poiss[[i]] = Poiss.fit\n",
    "            sm_NB[[i]] = NB.fit\n",
    "            sm_ZI_Poiss[[i]] = ZI.Poiss\n",
    "            sm_ZI_NB[[i]] = ZI.NB\n",
    "            sm_hurdle[[i]] = hurdle.fit\n",
    "                \n",
    "            k_fold_pred_Poiss[[i]] = predict(Poiss.fit, df_test, type = \"response\")\n",
    "            k_fold_pred_NB[[i]] = predict(NB.fit, df_test, type = \"response\")\n",
    "            k_fold_pred_ZI_Poiss[[i]] = predict(ZI.Poiss, df_test, type = \"response\")\n",
    "            k_fold_pred_ZI_NB[[i]] = predict(ZI.NB, df_test, type = \"response\")\n",
    "            k_fold_pred_hurdle[[i]] = predict(hurdle.fit, df_test, type = \"response\")\n",
    "                \n",
    "            RMSE_Poiss[i] = sqrt(mean((df_test$alight_count - k_fold_pred_Poiss[[i]])^{2}))\n",
    "            RMSE_NB[i] = sqrt(mean((df_test$alight_count - k_fold_pred_NB[[i]])^{2}))\n",
    "            RMSE_ZI_Poiss[i] = sqrt(mean((df_test$alight_count - k_fold_pred_ZI_Poiss[[i]])^{2}))\n",
    "            RMSE_ZI_NB[i] = sqrt(mean((df_test$alight_count - k_fold_pred_ZI_NB[[i]])^{2}))\n",
    "            RMSE_hurdle[i] = sqrt(mean((df_test$alight_count - k_fold_pred_hurdle[[i]])^{2}))\n",
    "        }\n",
    "                                           \n",
    "        ind_Poiss = which(RMSE_Poiss == min(RMSE_Poiss), arr.ind = T)\n",
    "        ind_NB = which(RMSE_NB == min(RMSE_NB), arr.ind = T)\n",
    "        ind_ZIP_Poiss = which(RMSE_ZIP_Poiss == min(RMSE_ZIP_Poiss), arr.ind = T)\n",
    "        ind_ZIP_NB = which(RMSE_ZIP_NB == min(RMSE_ZIP_NB), arr.ind = T)\n",
    "        ind_hurdle = which(RMSE_hurdle == min(RMSE_hurdle), arr.ind = T)\n",
    "            \n",
    "        train_RMSE_Poiss = RMSE_Poiss[ind_Poiss]\n",
    "        train_RMSE_NB = RMSE_NB[ind_NB]\n",
    "        train_RMSE_ZIP_Poiss = RMSE_ZIP_Poiss[ind_ZIP_Poiss]\n",
    "        train_RMSE_ZIP_NB = RMSE_ZIP_NB[ind_ZIP_NB]\n",
    "        train_RMSE_hurdle = RMSE_hurdle[ind_hurdle]\n",
    "            \n",
    "        model_Poiss = sm_Poiss[[ind_Poiss]]\n",
    "        model_NB = sm_NB[[ind_NB]]\n",
    "        model_ZIP_Poiss = sm_ZIP_Poiss[[ind_ZIP_Poiss]]\n",
    "        model_ZIP_NB = sm_ZIP_NB[[ind_ZIP_NB]]\n",
    "        model_hurdle = sm_hurdle[[ind_hurdle]]\n",
    "        \n",
    "        model_Poiss_AIC = AIC(model_Poiss)\n",
    "        model_NB_AIC = AIC(model_NB)\n",
    "        model_ZIP_Poiss_AIC = AIC(model_ZIP_Poiss)\n",
    "        model_ZIP_NB_AIC = AIC(model_ZIP_NB)\n",
    "        model_hurdle_AIC = AIC(model_hurdle)\n",
    "        \n",
    "        AICs = c(model_Poiss_AIC, model_NB_AIC,\n",
    "                 model_ZIP_Poiss_AIC, model_ZIP_NB_AIC, model_hurdle_AIC)\n",
    "    \n",
    "        AIC_ind = which(AICs == min(AICs), arr.ind = T)\n",
    "        \n",
    "        Model_Name = c('Poisson', 'Negative_Binomial',\n",
    "                       'ZIP_Poisson', 'ZIP_Negative_Binomial', 'Hurdle_Poisson_and_Binomial')\n",
    "        \n",
    "        Models_AIC = data.frame(cbind(Model_Name, c(model_Poiss_AIC, model_NB_AIC,\n",
    "                                                    model_ZIP_Poiss_AIC, model_ZIP_NB_AIC, model_hurdle_AIC)))\n",
    "        \n",
    "        Selected_Model = Model_Name[AIC_ind]\n",
    "                          \n",
    "        test <- DT_test[ , -c(1)]\n",
    "            \n",
    "        predictions_Poiss = predict(model_Poiss, test, type = \"response\")\n",
    "        predictions_NB = predict(model_NB, test, type = \"response\")\n",
    "        predictions_ZIP_Poiss = predict(model_ZIP_Poiss, test, type = \"response\")\n",
    "        predictions_ZIP_NB = predict(model_ZIP_NB, test, type = \"response\")\n",
    "        predictions_hurdle = predict(model_hurdle, test, type = \"response\")\n",
    "            \n",
    "        test_RMSE_Poiss = sqrt(mean((DT_test$alight_count - predictions_Poiss)^{2}))\n",
    "        test_RMSE_NB = sqrt(mean((DT_test$alight_count - predictions_NB)^{2}))\n",
    "        test_RMSE_ZIP_Poiss = sqrt(mean((DT_test$alight_count - predictions_ZIP_Poiss)^{2}))\n",
    "        test_RMSE_ZIP_NB = sqrt(mean((DT_test$alight_count - predictions_ZIP_NB)^{2}))\n",
    "        test_RMSE_hurdle = sqrt(mean((DT_test$alight_count - predictions_hurdle)^{2}))\n",
    "            \n",
    "        Train_RMSE = data.frame(cbind('Poiss' = train_RMSE_Poiss, 'NB' = train_RMSE_NB,\n",
    "                                      'ZIP_Poiss' = train_RMSE_ZIP_Poiss, 'ZIP_NB' = train_RMSE_ZIP_NB, 'hurdle' = train_RMSE_hurdle))\n",
    "    \n",
    "        Test_RMSE = data.frame(cbind('Poiss' = test_RMSE_Poiss, 'NB' = test_RMSE_NB,\n",
    "                                     'ZIP_Poiss' = test_RMSE_ZIP_Poiss, 'ZIP_NB' = test_RMSE_ZIP_NB, 'hurdle' = test_RMSE_hurdle))\n",
    "                    \n",
    "        Models = list('Poiss' = model_Poiss, 'NB' = model_NB,\n",
    "                      'ZIP_Poiss' = model_ZIP_Poiss, 'ZIP_NB' = model_ZIP_NB, 'hurdle' = model_hurdle)\n",
    "            \n",
    "        Predictions = data.frame(cbind('Poiss' = predictions_Poiss, 'NB' = predictions_NB,\n",
    "                           'ZIP_Poiss' = predictions_ZIP_Poiss,  'ZIP_NB' = predictions_ZIP_NB, 'hurdle' = predictions_hurdle,\n",
    "                           'count' = DT_test$alight_count)) \n",
    "                      \n",
    "        performance <- list(\"train_RMSEs\" = Train_RMSE,\n",
    "                            \"test_RMSEs\" = Test_RMSE,\n",
    "                            \"Models_AIC\" = Models_AIC,\n",
    "                            \"Selected_Model\" = Selected_Model,\n",
    "                            \"Trained_Models\" = Models,\n",
    "                            \"Predicted\" = Predictions)\n",
    "        return(performance)\n",
    "        }               \n",
    "            \n",
    "}\n"
   ]
  },
  {
   "cell_type": "code",
   "execution_count": 69,
   "id": "finished-dynamics",
   "metadata": {},
   "outputs": [
    {
     "ename": "ERROR",
     "evalue": "Error in `contrasts<-`(`*tmp*`, value = contr.funs[1 + isOF[nn]]): contrasts can be applied only to factors with 2 or more levels\n",
     "output_type": "error",
     "traceback": [
      "Error in `contrasts<-`(`*tmp*`, value = contr.funs[1 + isOF[nn]]): contrasts can be applied only to factors with 2 or more levels\nTraceback:\n",
      "1. all_models_cv(xDT_train_board_x, xDT_test_board_x, \"board_count\")",
      "2. glm(board_count ~ ., data = df, family = \"poisson\")   # at line 42 of file <text>",
      "3. model.matrix(mt, mf, contrasts)",
      "4. model.matrix.default(mt, mf, contrasts)",
      "5. `contrasts<-`(`*tmp*`, value = contr.funs[1 + isOF[nn]])",
      "6. stop(\"contrasts can be applied only to factors with 2 or more levels\")"
     ]
    }
   ],
   "source": [
    "all_models_cv(xDT_train_board_x, xDT_test_board_x, 'board_count')"
   ]
  },
  {
   "cell_type": "markdown",
   "id": "ordinary-beast",
   "metadata": {},
   "source": [
    "# Full Function"
   ]
  },
  {
   "cell_type": "code",
   "execution_count": 1,
   "id": "royal-scale",
   "metadata": {},
   "outputs": [],
   "source": [
    "Full_function <- function(route, direction, bus_stop, DTFRM, radius, transf){\n",
    "    \n",
    "    # Required libraries:\n",
    "    \n",
    "    require(tidyr)\n",
    "    require(tidyverse)\n",
    "    require(dplyr)\n",
    "    require(readr)\n",
    "    require(pscl)\n",
    "    require(caret)\n",
    "    require(MASS)\n",
    "    require(xtable)\n",
    "    \n",
    "    #--------------------------------------------------------------------------------------\n",
    "    # Data Extraction \n",
    "    #--------------------------------------------------------------------------------------\n",
    "    \n",
    "    ## Complete Data Set:\n",
    "    \n",
    "    xDTx = data_extraction(route, direction, bus_stop, carta, 0.5, 'features')\n",
    "        \n",
    "    n_rows = dim(xDTx)[1]\n",
    "    train_set_size = floor(n_rows*prop)\n",
    "    \n",
    "    ### Board Counts:\n",
    "    \n",
    "    board_data = xDTx %>%\n",
    "      summarise(board_count, month, service_kind, hour, mean_temp, mean_precip, surrounding_board_count)\n",
    "    \n",
    "    \n",
    "    \n",
    "    ### Alight Counts:\n",
    "    \n",
    "    alight_data = xDTx %>%\n",
    "      summarise(alight_count, month, service_kind, hour, mean_temp, mean_precip, surrounding_alight_count)\n",
    "    \n",
    "    #--------------------------------------------------------------------------------------\n",
    "    ## Pre_lockdown:\n",
    "    xPre_lockx = carta %>%\n",
    "        filter(date <= '2020-03-05')\n",
    "    \n",
    "    Pre_lock = data_extraction(route, direction, bus_stop, xPre_lockx, 0.5, 'features')\n",
    "    \n",
    "    Pre_n_rows = dim(Pre_lock)[1]\n",
    "    Pre_train_set_size = floor(Pre_n_rows*prop)\n",
    "    \n",
    "    ### Board Counts:\n",
    "    \n",
    "    Pre_board_data = Pre_lock %>%\n",
    "      summarise(board_count, month, service_kind, hour, mean_temp, mean_precip, surrounding_board_count)\n",
    "    \n",
    "    ### Alight Counts:\n",
    "    \n",
    "    Pre_alight_data = Pre_lock %>%\n",
    "      summarise(alight_count, month, service_kind, hour, mean_temp, mean_precip, surrounding_alight_count)\n",
    "    \n",
    "    #--------------------------------------------------------------------------------------\n",
    "    ## Post_lockdown:\n",
    "    \n",
    "    xPost_lockx = carta %>%\n",
    "        filter(date > '2020-03-05')\n",
    "    \n",
    "    Post_lock = data_extraction(route, direction, bus_stop, xPost_lockx, 0.5, 'features')\n",
    "    \n",
    "    Post_n_rows = dim(Post_lock)[1]\n",
    "    Post_train_set_size = floor(Post_n_rows*prop)\n",
    "    \n",
    "    ### Board Counts:\n",
    "    \n",
    "    Post_board_data = Post_lock %>%\n",
    "      summarise(board_count, month, service_kind, hour, mean_temp, mean_precip, surrounding_board_count)\n",
    "    \n",
    "    ### Alight Counts:\n",
    "    \n",
    "    Post_alight_data = Post_lock %>%\n",
    "      summarise(alight_count, month, service_kind, hour, mean_temp, mean_precip, surrounding_alight_count)\n",
    "    \n",
    "    #--------------------------------------------------------------------------------------   \n",
    "    # Data Split\n",
    "    #-------------------------------------------------------------------------------------- \n",
    "    \n",
    "    ## Complete Data Set:\n",
    "    \n",
    "    set.seed(123)\n",
    "    train = sample((1:n_rows), train_set_size, replace = F)\n",
    "  \n",
    "    board_data_train = board_data[train, ]\n",
    "    board_data_test = board_data[-train, ]\n",
    "  \n",
    "    alight_data_train = alight_data[train, ]\n",
    "    alight_data_test = alight_data[-train, ]\n",
    "    \n",
    "    #-------------------------------------------------------------------------------------- \n",
    "    ## Pre_lockdown:\n",
    "    \n",
    "    set.seed(123)\n",
    "    Pre_train = sample((1:Pre_n_rows), Pre_train_set_size, replace = F)\n",
    "    \n",
    "    Pre_board_data_train = Pre_board_data[Pre_train, ]\n",
    "    Pre_board_data_test = Pre_board_data[-Pre_train, ]\n",
    "    \n",
    "    ### Board Counts:\n",
    "  \n",
    "    Pre_board_data_train = Pre_board_data[Pre_train, ]\n",
    "    Pre_board_data_test = Pre_board_data[-Pre_train, ]\n",
    "    \n",
    "    ### Alight Counts:\n",
    "  \n",
    "    Pre_alight_data_train = Pre_alight_data[Pre_train, ]\n",
    "    Pre_alight_data_test = Pre_alight_data[-Pre_train, ]\n",
    "    \n",
    "    #-------------------------------------------------------------------------------------- \n",
    "    ## Post_lockdown:\n",
    "    \n",
    "    set.seed(123)\n",
    "    Post_train = sample((1:Post_n_rows), Post_train_set_size, replace = F)\n",
    "    \n",
    "    Post_board_data_train = Post_board_data[Post_train, ]\n",
    "    Post_board_data_test = Post_board_data[-Post_train, ]\n",
    "    \n",
    "    ### Board Counts:\n",
    "  \n",
    "    Post_board_data_train = Post_board_data[Post_train, ]\n",
    "    Post_board_data_test = Post_board_data[-Post_train, ]\n",
    "    \n",
    "    ### Alight Counts:\n",
    "  \n",
    "    Post_alight_data_train = Post_alight_data[Post_train, ]\n",
    "    Post_alight_data_test = Post_alight_data[-Post_train, ]\n",
    "    \n",
    "    #--------------------------------------------------------------------------------------\n",
    "    # Model Training and Selection\n",
    "    #--------------------------------------------------------------------------------------\n",
    "    \n",
    "    ## Complete Data Set:\n",
    "    \n",
    "    ### Board Count\n",
    "    \n",
    "    Performance_board = all_models_cv(board_data_train, board_data_test, 'board_count')\n",
    "    \n",
    "    ### Alight Count\n",
    "    \n",
    "    Performance_alight = all_models_cv(alight_data_train, alight_data_test, 'alight_count')\n",
    "    \n",
    "    #-------------------------------------------------------------------------------------- \n",
    "    ## Pre_lockdown:\n",
    "    \n",
    "    ### Board Count\n",
    "    \n",
    "    Performance_Pre_board = all_models_cv(Pre_board_data_train, Pre_board_data_test, 'board_count')\n",
    "    \n",
    "    ### Alight Count\n",
    "    \n",
    "    Performance_Pre_alight = all_models_cv(Pre_alight_data_train, Pre_alight_data_test, 'alight_count')\n",
    "    \n",
    "    #-------------------------------------------------------------------------------------- \n",
    "    ## Post_lockdown:\n",
    "    \n",
    "    ### Board Count\n",
    "    \n",
    "    Performance_Post_board = all_models_cv(Post_board_data_train, Post_board_data_test, 'board_count')\n",
    "    \n",
    "    ### Alight Count\n",
    "    \n",
    "    Performance_Post_alight = all_models_cv(Post_alight_data_train, Post_alight_data_test, 'alight_count')\n",
    "    \n",
    "    #--------------------------------------------------------------------------------------\n",
    "    #--------------------------------------------------------------------------------------\n",
    "    # Export *.csv Files\n",
    "    #--------------------------------------------------------------------------------------\n",
    "    #--------------------------------------------------------------------------------------\n",
    "    \n",
    "    ## Complete Data Set:\n",
    "          \n",
    "    ### 1. Model Coefficients of the Best Model: get_Model_Coeff\n",
    "    \n",
    "    #### Board Count\n",
    "    \n",
    "    file1_name_board = paste('Model_Coefficients', route, direction, bus_stop,'board_count.csv', sep = '_')\n",
    "    board_Model_Coeff = get_Model_Coeff(Performance_board)\n",
    "    write.csv(board_Model_Coeff, file1_name_board)    \n",
    "    \n",
    "    board_hist = xDTx %>%\n",
    "        summarise(board_count)\n",
    "    \n",
    "    file1a_name_board = paste('Histogram', route, direction, bus_stop,'board_count.csv', sep = '_')\n",
    "    write.csv(board_hist, file1a_name_board)\n",
    "    \n",
    "    #### Alight Count\n",
    "    \n",
    "    file1_name_alight = paste('Model_Coefficients', route, direction, bus_stop,'alight_count.csv', sep = '_')\n",
    "    alight_Model_Coeff = get_Model_Coeff(Performance_alight)\n",
    "    write.csv(alight_Model_Coeff, file1_name_alight)\n",
    "    \n",
    "    alight_hist = xDTx %>%\n",
    "        summarise(alight_count)\n",
    "    \n",
    "    file1a_name_alight= paste('Histogram', route, direction, bus_stop,'alight_count.csv', sep = '_')\n",
    "    write.csv(alight_hist, file1a_name_alight)\n",
    "    \n",
    "    #--------------------------------------------------------------------------------------\n",
    "    ### 2. Model Chart:\n",
    "    \n",
    "    #### Board Count\n",
    "    \n",
    "    file2_name_board = paste('Model_Chart', route, direction, bus_stop,'board_count.csv', sep = '_')\n",
    "    board_Model_Chart = get_Chart(Performance_board)\n",
    "    write.csv(board_Model_Chart, file2_name_board)    \n",
    "    \n",
    "    #### Alight Count\n",
    "    \n",
    "    file2_name_alight = paste('Model_Chart', route, direction, bus_stop,'alight_count.csv', sep = '_')\n",
    "    alight_Model_Chart = get_Chart(Performance_alight)\n",
    "    write.csv(alight_Model_Chart, file2_name_alight)\n",
    "    \n",
    "    #--------------------------------------------------------------------------------------\n",
    "    ### 3. Model Performance:\n",
    "    \n",
    "    #### Board Count\n",
    "    \n",
    "    file3_name_board = paste('Model_Performance', route, direction, bus_stop,'board_count.csv', sep = '_')\n",
    "    board_Model_Performance = get_Performance(Performance_board)\n",
    "    write.csv(board_Model_Performance, file3_name_board)    \n",
    "    \n",
    "    #### Alight Count\n",
    "    \n",
    "    file3_name_alight = paste('Model_Performance', route, direction, bus_stop,'alight_count.csv', sep = '_')\n",
    "    alight_Model_Performance = get_Performance(Performance_alight)\n",
    "    write.csv(alight_Model_Performance, file3_name_alight)\n",
    "        \n",
    "    #--------------------------------------------------------------------------------------\n",
    "    ### 4. Model Selection:\n",
    "    \n",
    "    #### Board Count\n",
    "    \n",
    "    file4_name_board = paste('Selected_Model_AIC', route, direction, bus_stop,'board_count.csv', sep = '_')\n",
    "    board_Selected_Model = get_Model_Selection(Performance_board)\n",
    "    write.csv(board_Selected_Model, file4_name_board)\n",
    "    \n",
    "    #### Alight Count\n",
    "    \n",
    "    file4_name_alight = paste('Selected_Model_AIC', route, direction, bus_stop,'alight_count.csv', sep = '_')\n",
    "    alight_Selected_Model = get_Model_Selection(Performance_alight)\n",
    "    write.csv(alight_Selected_Model, file4_name_alight)\n",
    "    \n",
    "    #--------------------------------------------------------------------------------------\n",
    "    ## Pre_lockdown:\n",
    "    #--------------------------------------------------------------------------------------\n",
    "          \n",
    "    ### 1. Model Coefficients of the Best Model:\n",
    "    \n",
    "    #### Board Count\n",
    "    \n",
    "    file1_name_Pre_board = paste('Model_Coefficients', route, direction, bus_stop,'Pre_board_count.csv', sep = '_')\n",
    "    Pre_board_Model_Coeff = get_Model_Coeff(Performance_Pre_board)\n",
    "    write.csv(Pre_board_Model_Coeff, file1_name_Pre_board)\n",
    "    \n",
    "    Pre_board_hist = Pre_lock %>%\n",
    "        summarise(board_count)\n",
    "    \n",
    "    file1a_name_Pre_board = paste('Histogram', route, direction, bus_stop,'Pre_board_count.csv', sep = '_')\n",
    "    write.csv(Pre_board_hist, file1a_name_Pre_board)\n",
    "    \n",
    "    #### Alight Count\n",
    "    \n",
    "    file1_name_Pre_alight = paste('Model_Coefficients', route, direction, bus_stop,'Pre_alight_count.csv', sep = '_')\n",
    "    Pre_alight_Model_Coeff = get_Model_Coeff(Performance_Pre_alight)\n",
    "    write.csv(Pre_alight_Model_Coeff, file1_name_Pre_alight)\n",
    "    \n",
    "    Pre_alight_hist = Pre_lock %>%\n",
    "        summarise(alight_count)\n",
    "    \n",
    "    file1a_name_Pre_alight= paste('Histogram', route, direction, bus_stop,'Pre_alight_count.csv', sep = '_')\n",
    "    write.csv(Pre_alight_hist, file1a_name_Pre_alight)\n",
    "    \n",
    "    #--------------------------------------------------------------------------------------\n",
    "    ### 2. Model Chart:\n",
    "    \n",
    "    #### Board Count\n",
    "    \n",
    "    file2_name_Pre_board = paste('Model_Chart', route, direction, bus_stop,'Pre_board_count.csv', sep = '_')\n",
    "    Pre_board_Model_Chart = get_Chart(Performance_Pre_board)\n",
    "    write.csv(Pre_board_Model_Chart, file2_name_Pre_board)    \n",
    "    \n",
    "    #### Alight Count\n",
    "    \n",
    "    file2_name_Pre_alight = paste('Model_Chart', route, direction, bus_stop,'Pre_alight_count.csv', sep = '_')\n",
    "    Pre_alight_Model_Chart = get_Chart(Performance_Pre_alight)\n",
    "    write.csv(Pre_alight_Model_Chart, file2_name_Pre_alight)\n",
    "    \n",
    "    #--------------------------------------------------------------------------------------\n",
    "    ### 3. Model Performance:\n",
    "    \n",
    "    #### Board Count\n",
    "    \n",
    "    file3_name_Pre_board = paste('Model_Performance', route, direction, bus_stop,'Pre_board_count.csv', sep = '_')\n",
    "    Pre_board_Model_Performance = get_Performance(Performance_Pre_board)\n",
    "    write.csv(Pre_board_Model_Performance, file3_name_Pre_board)    \n",
    "    \n",
    "    #### Alight Count\n",
    "    \n",
    "    file3_name_Pre_alight = paste('Model_Performance', route, direction, bus_stop,'Pre_alight_count.csv', sep = '_')\n",
    "    Pre_alight_Model_Performance = get_Performance(Performance_Pre_alight)\n",
    "    write.csv(Pre_alight_Model_Performance, file3_name_Pre_alight)\n",
    "        \n",
    "    #--------------------------------------------------------------------------------------\n",
    "    ### 4. Model Selection:\n",
    "    \n",
    "    #### Board Count\n",
    "    \n",
    "    file4_name_Pre_board = paste('Selected_Model_AIC', route, direction, bus_stop,'Pre_board_count.csv', sep = '_')\n",
    "    Pre_board_Selected_Model = get_Model_Selection(Performance_Pre_board)\n",
    "    write.csv(Pre_board_Selected_Model, file4_name_Pre_board)\n",
    "    \n",
    "    #### Alight Count\n",
    "    \n",
    "    file4_name_Pre_alight = paste('Selected_Model_AIC', route, direction, bus_stop,'Pre_alight_count.csv', sep = '_')\n",
    "    Pre_alight_Selected_Model = get_Model_Selection(Performance_Pre_alight)\n",
    "    write.csv(Pre_alight_Selected_Model, file4_name_Pre_alight)\n",
    "    \n",
    "    #--------------------------------------------------------------------------------------\n",
    "    ## Post_lockdown:\n",
    "    #--------------------------------------------------------------------------------------\n",
    "          \n",
    "    ### 1. Model Coefficients of the Best Model:\n",
    "    \n",
    "    #### Board Count\n",
    "    \n",
    "    file1_name_Post_board = paste('Model_Coefficients', route, direction, bus_stop,'Post_board_count.csv', sep = '_')\n",
    "    Post_board_Model_Coeff = get_Model_Coeff(Performance_Post_board)\n",
    "    write.csv(Post_board_Model_Coeff, file1_name_Post_board) \n",
    "    \n",
    "    Post_board_hist = Post_lock %>%\n",
    "        summarise(board_count)\n",
    "    \n",
    "    file1a_name_Post_board = paste('Histogram', route, direction, bus_stop,'Post_board_count.csv', sep = '_')\n",
    "    write.csv(Post_board_hist, file1a_name_Post_board)\n",
    "    \n",
    "    #### Alight Count\n",
    "    \n",
    "    file1_name_Post_alight = paste('Model_Coefficients', route, direction, bus_stop,'Post_alight_count.csv', sep = '_')\n",
    "    Post_alight_Model_Coeff = get_Model_Coeff(Performance_Post_alight)\n",
    "    write.csv(Post_alight_Model_Coeff, file1_name_Post_alight)\n",
    "    \n",
    "    Post_alight_hist = Post_lock %>%\n",
    "        summarise(alight_count)\n",
    "    \n",
    "    file1a_name_Post_alight= paste('Histogram', route, direction, bus_stop,'Post_alight_count.csv', sep = '_')\n",
    "    write.csv(Post_alight_hist, file1a_name_Post_alight)\n",
    "    \n",
    "    #--------------------------------------------------------------------------------------\n",
    "    ### 2. Model Chart:\n",
    "    \n",
    "    #### Board Count\n",
    "    \n",
    "    file2_name_Post_board = paste('Model_Chart', route, direction, bus_stop,'Post_board_count.csv', sep = '_')\n",
    "    Post_board_Model_Chart = get_Chart(Performance_Post_board)\n",
    "    write.csv(Post_board_Model_Chart, file2_name_Post_board)    \n",
    "    \n",
    "    #### Alight Count\n",
    "    \n",
    "    file2_name_Post_alight = paste('Model_Chart', route, direction, bus_stop,'Post_alight_count.csv', sep = '_')\n",
    "    Post_alight_Model_Chart = get_Chart(Performance_Post_alight)\n",
    "    write.csv(Post_alight_Model_Chart, file2_name_Post_alight)\n",
    "    \n",
    "    #--------------------------------------------------------------------------------------\n",
    "    ### 3. Model Performance:\n",
    "    \n",
    "    #### Board Count\n",
    "    \n",
    "    file3_name_Post_board = paste('Model_Performance', route, direction, bus_stop,'Post_board_count.csv', sep = '_')\n",
    "    Post_board_Model_Performance = get_Performance(Performance_Post_board)\n",
    "    write.csv(Post_board_Model_Performance, file3_name_Post_board)    \n",
    "    \n",
    "    #### Alight Count\n",
    "    \n",
    "    file3_name_Post_alight = paste('Model_Performance', route, direction, bus_stop,'Post_alight_count.csv', sep = '_')\n",
    "    Post_alight_Model_Performance = get_Performance(Performance_Post_alight)\n",
    "    write.csv(Post_alight_Model_Performance, file3_name_Post_alight)\n",
    "        \n",
    "    #--------------------------------------------------------------------------------------\n",
    "    ### 4. Model Selection:\n",
    "    \n",
    "    #### Board Count\n",
    "    \n",
    "    file4_name_Post_board = paste('Selected_Model_AIC', route, direction, bus_stop,'Post_board_count.csv', sep = '_')\n",
    "    Post_board_Selected_Model = get_Model_Selection(Performance_Post_board)\n",
    "    write.csv(Post_board_Selected_Model, file4_name_Post_board)\n",
    "    \n",
    "    #### Alight Count\n",
    "    \n",
    "    file4_name_Post_alight = paste('Selected_Model_AIC', route, direction, bus_stop,'Post_alight_count.csv', sep = '_')\n",
    "    Post_alight_Selected_Model = get_Model_Selection(Performance_Post_alight)\n",
    "    write.csv(Post_alight_Selected_Model, file4_name_Post_alight)\n",
    "    \n",
    "    #--------------------------------------------------------------------------------------\n",
    "    #--------------------------------------------------------------------------------------\n",
    "    # Export *.tex Files  get_Model_Selection\n",
    "    #--------------------------------------------------------------------------------------\n",
    "    #--------------------------------------------------------------------------------------\n",
    "    ## Complete Data Set:\n",
    "    \n",
    "    ### Board Counts:\n",
    "    \n",
    "    board_Dispersion = xDTx %>%\n",
    "        summarise(Mean = mean(board_count), Variance = var(board_count))\n",
    "    \n",
    "    Xboard_Model_Performance = xtable(board_Model_Performance)\n",
    "    XXboard_Model_Performance = print(Xboard_Model_Performance)\n",
    "    file3b_name_board = paste('Model_Performance', route, direction, bus_stop,'table_board_count.tex', sep = '_')\n",
    "    \n",
    "    write(XXboard_Model_Performance, file3b_name_board)\n",
    "        \n",
    "    ### Alight Counts:\n",
    "    \n",
    "    alight_Dispersion = xDTx %>%\n",
    "        summarise(Mean = mean(alight_count), Variance = var(alight_count))\n",
    "    \n",
    "    Xalight_Model_Performance = xtable(alight_Model_Performance)\n",
    "    XXalight_Model_Performance = print(Xalight_Model_Performance)\n",
    "    file3b_name_alight = paste('Model_Performance', route, direction, bus_stop,'table_alight_count.tex', sep = '_')\n",
    "    \n",
    "    write(XXalight_Model_Performance, file3b_name_alight)\n",
    "    \n",
    "    #--------------------------------------------------------------------------------------\n",
    "    Dispersion = data.frame(rbind('Board_Count' = board_Dispersion, 'Alight_Count' = alight_Dispersion))\n",
    "    \n",
    "    xDispersion = xtable(Dispersion)\n",
    "    XxDispersion = print(xDispersion)\n",
    "    \n",
    "    file1b_Dispersion = paste('Dispersion', route, direction, bus_stop,'table.tex', sep = '_')\n",
    "    \n",
    "    write(XxDispersion, file1b_Dispersion)\n",
    "    \n",
    "    #--------------------------------------------------------------------------------------\n",
    "    ## Pre_lockdown:\n",
    "    \n",
    "    ### Board Counts:\n",
    "    \n",
    "     Pre_board_Dispersion = Pre_lock %>%\n",
    "        summarise(Mean = mean(board_count), Variance = var(board_count))\n",
    "    \n",
    "    file3b_name_Pre_board = paste('Model_Performance', route, direction, bus_stop,'table_Pre_board_count.tex', sep = '_')\n",
    "    XPre_board_Model_Performance = xtable(Pre_board_Model_Performance) \n",
    "    XXPre_board_Model_Performance = print(XPre_board_Model_Performance)\n",
    "    \n",
    "    write(XXPre_board_Model_Performance, file3b_name_Pre_board)\n",
    "    \n",
    "    ### Alight Counts:\n",
    "    \n",
    "     Pre_alight_Dispersion = Pre_lock %>%\n",
    "        summarise(Mean = mean(alight_count), Variance = var(alight_count))\n",
    "    \n",
    "    file3b_name_Pre_alight = paste('Model_Performance', route, direction, bus_stop,'table_Pre_alight_count.tex', sep = '_')\n",
    "    XPre_alight_Model_Performance = xtable(Pre_alight_Model_Performance) \n",
    "    XXPre_alight_Model_Performance = print(XPre_alight_Model_Performance)\n",
    "    \n",
    "    write(XXPre_alight_Model_Performance, file3b_name_Pre_alight)\n",
    "    \n",
    "    #--------------------------------------------------------------------------------------\n",
    "    Pre_Dispersion = data.frame(rbind('Board_Count' = Pre_board_Dispersion, 'Alight_Count' = Pre_alight_Dispersion))\n",
    "    \n",
    "    xPre_Dispersion = xtable(Pre_Dispersion)\n",
    "    XxPre_Dispersion = print(xPre_Dispersion)\n",
    "    \n",
    "    file1b_Pre_Dispersion = paste('Pre_Dispersion', route, direction, bus_stop,'table.tex', sep = '_')\n",
    "    \n",
    "    write(XxPre_Dispersion, file1b_Pre_Dispersion)\n",
    "    \n",
    "    #--------------------------------------------------------------------------------------\n",
    "    ## Post_lockdown:\n",
    "    \n",
    "    ### Board Counts:\n",
    "    \n",
    "     Post_board_Dispersion = Post_lock %>%\n",
    "        summarise(Mean = mean(board_count), Variance = var(board_count))\n",
    "    \n",
    "    file3b_name_Post_board = paste('Model_Performance', route, direction, bus_stop,'table_Post_board_count.tex', sep = '_')\n",
    "    XPost_board_Model_Performance = xtable(Post_board_Model_Performance) \n",
    "    XXPost_board_Model_Performance = print(XPost_board_Model_Performance)\n",
    "    \n",
    "    write(XXPost_board_Model_Performance, file3b_name_Post_board)\n",
    "    \n",
    "    ### Alight Counts:\n",
    "    \n",
    "     Post_alight_Dispersion = Post_lock %>%\n",
    "        summarise(Mean = mean(alight_count), Variance = var(alight_count))\n",
    "    \n",
    "    Post_Dispersion = data.frame(rbind('Board Count' = Post_board_Dispersion, 'Alight Count' = Post_alight_Dispersion))\n",
    "    \n",
    "    xPost_Dispersion = xtable(Post_Dispersion)\n",
    "    XxPost_Dispersion = print(xPost_Dispersion)\n",
    "    \n",
    "    file1b_Post_Dispersion = paste('Post_Dispersion', route, direction, bus_stop,'table.tex', sep = '_')\n",
    "    \n",
    "    write(XxPost_Dispersion, file1b_Post_Dispersion)\n",
    "}\n"
   ]
  },
  {
   "cell_type": "code",
   "execution_count": null,
   "id": "choice-antarctica",
   "metadata": {},
   "outputs": [],
   "source": []
  }
 ],
 "metadata": {
  "environment": {
   "name": "r-cpu.3-6.m65",
   "type": "gcloud",
   "uri": "gcr.io/deeplearning-platform-release/r-cpu.3-6:m65"
  },
  "kernelspec": {
   "display_name": "R",
   "language": "R",
   "name": "ir"
  },
  "language_info": {
   "codemirror_mode": "r",
   "file_extension": ".r",
   "mimetype": "text/x-r-source",
   "name": "R",
   "pygments_lexer": "r",
   "version": "3.6.3"
  }
 },
 "nbformat": 4,
 "nbformat_minor": 5
}
