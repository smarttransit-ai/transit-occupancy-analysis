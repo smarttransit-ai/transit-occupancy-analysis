{
 "cells": [
  {
   "cell_type": "markdown",
   "source": [
    "# Data Preparation\n",
    "\n",
    "In this notebook we show how process and filter the CARTA dataset for modeling purposes. The main idea is model board count considering a set of predictors that are already part the CARTA dataset and some that need to be created.\n",
    "\n",
    "We consider three main approaches to model demand:\n",
    "\n",
    "1. Generalized Linear Models.\n",
    "2. Random Forest and Zero-Inflated Random Forest.\n",
    "3. Neural Networks.\n",
    "\n",
    "The following libraries are required for running this notebook:"
   ],
   "metadata": {}
  },
  {
   "cell_type": "code",
   "execution_count": 10,
   "source": [
    "import numpy as np\r\n",
    "import pandas as pd\r\n",
    "import pickle\r\n",
    "import os\r\n",
    "import timeit"
   ],
   "outputs": [],
   "metadata": {}
  },
  {
   "cell_type": "code",
   "execution_count": 2,
   "source": [
    "carta = pd.read_csv('data/Transit_Data/carta.csv', low_memory = False)"
   ],
   "outputs": [],
   "metadata": {}
  },
  {
   "cell_type": "code",
   "execution_count": 3,
   "source": [
    "carta.stop_id = carta['stop_id'].astype(str)\r\n",
    "carta.trip_id = carta['trip_id'].astype(str)\r\n",
    "carta.hour = carta['hour'].astype(str)\r\n",
    "carta.stop_sequence = carta['stop_sequence'].astype(int)\r\n",
    "carta.route_id = carta['route_id'].astype(str)\r\n",
    "carta.direction_id = carta['direction_id'].astype(str)\r\n",
    "carta.service_period = carta['service_period'].astype(str)\r\n",
    "carta.actual_arrival_time = pd.to_datetime(carta['actual_arrival_time'], format = \"%Y-%m-%d %H:%M:%S\")"
   ],
   "outputs": [],
   "metadata": {}
  },
  {
   "cell_type": "code",
   "execution_count": 4,
   "source": [
    "carta.scheduled_arrival_time = pd.to_datetime(carta['scheduled_arrival_time'], format = \"%Y-%m-%d %H:%M:%S\")"
   ],
   "outputs": [],
   "metadata": {}
  },
  {
   "cell_type": "code",
   "execution_count": 5,
   "source": [
    "carta.date = pd.to_datetime(carta['date'], format = \"%Y-%m-%d\")"
   ],
   "outputs": [],
   "metadata": {}
  },
  {
   "cell_type": "code",
   "execution_count": 6,
   "source": [
    "carta['year'] = carta['date'].dt.year\r\n",
    "carta['month'] = carta['date'].dt.month"
   ],
   "outputs": [],
   "metadata": {}
  },
  {
   "cell_type": "code",
   "execution_count": 7,
   "source": [
    "carta = carta.sort_values(by = 'date')"
   ],
   "outputs": [],
   "metadata": {}
  },
  {
   "cell_type": "code",
   "execution_count": 11,
   "source": [
    "carta.head()"
   ],
   "outputs": [
    {
     "output_type": "execute_result",
     "data": {
      "text/html": [
       "<div>\n",
       "<style scoped>\n",
       "    .dataframe tbody tr th:only-of-type {\n",
       "        vertical-align: middle;\n",
       "    }\n",
       "\n",
       "    .dataframe tbody tr th {\n",
       "        vertical-align: top;\n",
       "    }\n",
       "\n",
       "    .dataframe thead th {\n",
       "        text-align: right;\n",
       "    }\n",
       "</style>\n",
       "<table border=\"1\" class=\"dataframe\">\n",
       "  <thead>\n",
       "    <tr style=\"text-align: right;\">\n",
       "      <th></th>\n",
       "      <th>trip_id</th>\n",
       "      <th>scheduled_arrival_time</th>\n",
       "      <th>actual_arrival_time</th>\n",
       "      <th>stop_id</th>\n",
       "      <th>stop_sequence</th>\n",
       "      <th>stop_lat</th>\n",
       "      <th>stop_lon</th>\n",
       "      <th>route_id</th>\n",
       "      <th>direction_id</th>\n",
       "      <th>board_count</th>\n",
       "      <th>...</th>\n",
       "      <th>actual_arrival_datetime</th>\n",
       "      <th>trip_start_time</th>\n",
       "      <th>day_of_week</th>\n",
       "      <th>trip_date</th>\n",
       "      <th>hour</th>\n",
       "      <th>year</th>\n",
       "      <th>month</th>\n",
       "      <th>Estimated_Temp</th>\n",
       "      <th>Estimated_Precip</th>\n",
       "      <th>service_kind</th>\n",
       "    </tr>\n",
       "  </thead>\n",
       "  <tbody>\n",
       "    <tr>\n",
       "      <th>0</th>\n",
       "      <td>132994</td>\n",
       "      <td>1900-01-01 04:55:00</td>\n",
       "      <td>1900-01-01 04:52:00</td>\n",
       "      <td>1351</td>\n",
       "      <td>1</td>\n",
       "      <td>35.052658</td>\n",
       "      <td>-85.309722</td>\n",
       "      <td>1</td>\n",
       "      <td>0</td>\n",
       "      <td>1</td>\n",
       "      <td>...</td>\n",
       "      <td>2019-01-02 04:52:00</td>\n",
       "      <td>1900-01-01 04:55:00</td>\n",
       "      <td>2</td>\n",
       "      <td>2019-01-02</td>\n",
       "      <td>4</td>\n",
       "      <td>2019</td>\n",
       "      <td>1</td>\n",
       "      <td>8.35</td>\n",
       "      <td>0.000000</td>\n",
       "      <td>weekday</td>\n",
       "    </tr>\n",
       "    <tr>\n",
       "      <th>1193477</th>\n",
       "      <td>134417</td>\n",
       "      <td>1900-01-01 20:35:04</td>\n",
       "      <td>1900-01-01 20:37:00</td>\n",
       "      <td>971</td>\n",
       "      <td>47</td>\n",
       "      <td>35.024347</td>\n",
       "      <td>-85.246812</td>\n",
       "      <td>4</td>\n",
       "      <td>1</td>\n",
       "      <td>0</td>\n",
       "      <td>...</td>\n",
       "      <td>2019-01-02 20:37:00</td>\n",
       "      <td>1900-01-01 20:02:53</td>\n",
       "      <td>2</td>\n",
       "      <td>2019-01-02</td>\n",
       "      <td>20</td>\n",
       "      <td>2019</td>\n",
       "      <td>1</td>\n",
       "      <td>10.00</td>\n",
       "      <td>0.590889</td>\n",
       "      <td>weekday</td>\n",
       "    </tr>\n",
       "    <tr>\n",
       "      <th>1193478</th>\n",
       "      <td>134417</td>\n",
       "      <td>1900-01-01 20:35:30</td>\n",
       "      <td>1900-01-01 20:38:00</td>\n",
       "      <td>972</td>\n",
       "      <td>48</td>\n",
       "      <td>35.025717</td>\n",
       "      <td>-85.248528</td>\n",
       "      <td>4</td>\n",
       "      <td>1</td>\n",
       "      <td>0</td>\n",
       "      <td>...</td>\n",
       "      <td>2019-01-02 20:38:00</td>\n",
       "      <td>1900-01-01 20:02:53</td>\n",
       "      <td>2</td>\n",
       "      <td>2019-01-02</td>\n",
       "      <td>20</td>\n",
       "      <td>2019</td>\n",
       "      <td>1</td>\n",
       "      <td>10.00</td>\n",
       "      <td>0.585833</td>\n",
       "      <td>weekday</td>\n",
       "    </tr>\n",
       "    <tr>\n",
       "      <th>1193479</th>\n",
       "      <td>134409</td>\n",
       "      <td>1900-01-01 20:35:32</td>\n",
       "      <td>1900-01-01 20:38:00</td>\n",
       "      <td>12</td>\n",
       "      <td>87</td>\n",
       "      <td>35.050703</td>\n",
       "      <td>-85.309532</td>\n",
       "      <td>4</td>\n",
       "      <td>1</td>\n",
       "      <td>0</td>\n",
       "      <td>...</td>\n",
       "      <td>2019-01-02 20:38:00</td>\n",
       "      <td>1900-01-01 19:40:00</td>\n",
       "      <td>2</td>\n",
       "      <td>2019-01-02</td>\n",
       "      <td>20</td>\n",
       "      <td>2019</td>\n",
       "      <td>1</td>\n",
       "      <td>10.00</td>\n",
       "      <td>0.585444</td>\n",
       "      <td>weekday</td>\n",
       "    </tr>\n",
       "    <tr>\n",
       "      <th>1193480</th>\n",
       "      <td>134329</td>\n",
       "      <td>1900-01-01 20:35:44</td>\n",
       "      <td>1900-01-01 20:43:00</td>\n",
       "      <td>806</td>\n",
       "      <td>10</td>\n",
       "      <td>35.042653</td>\n",
       "      <td>-85.306685</td>\n",
       "      <td>4</td>\n",
       "      <td>0</td>\n",
       "      <td>0</td>\n",
       "      <td>...</td>\n",
       "      <td>2019-01-02 20:43:00</td>\n",
       "      <td>1900-01-01 20:30:00</td>\n",
       "      <td>2</td>\n",
       "      <td>2019-01-02</td>\n",
       "      <td>20</td>\n",
       "      <td>2019</td>\n",
       "      <td>1</td>\n",
       "      <td>10.00</td>\n",
       "      <td>0.583111</td>\n",
       "      <td>weekday</td>\n",
       "    </tr>\n",
       "  </tbody>\n",
       "</table>\n",
       "<p>5 rows × 26 columns</p>\n",
       "</div>"
      ],
      "text/plain": [
       "        trip_id scheduled_arrival_time actual_arrival_time stop_id  \\\n",
       "0        132994    1900-01-01 04:55:00 1900-01-01 04:52:00    1351   \n",
       "1193477  134417    1900-01-01 20:35:04 1900-01-01 20:37:00     971   \n",
       "1193478  134417    1900-01-01 20:35:30 1900-01-01 20:38:00     972   \n",
       "1193479  134409    1900-01-01 20:35:32 1900-01-01 20:38:00      12   \n",
       "1193480  134329    1900-01-01 20:35:44 1900-01-01 20:43:00     806   \n",
       "\n",
       "         stop_sequence   stop_lat   stop_lon route_id direction_id  \\\n",
       "0                    1  35.052658 -85.309722        1            0   \n",
       "1193477             47  35.024347 -85.246812        4            1   \n",
       "1193478             48  35.025717 -85.248528        4            1   \n",
       "1193479             87  35.050703 -85.309532        4            1   \n",
       "1193480             10  35.042653 -85.306685        4            0   \n",
       "\n",
       "         board_count  ...  actual_arrival_datetime      trip_start_time  \\\n",
       "0                  1  ...      2019-01-02 04:52:00  1900-01-01 04:55:00   \n",
       "1193477            0  ...      2019-01-02 20:37:00  1900-01-01 20:02:53   \n",
       "1193478            0  ...      2019-01-02 20:38:00  1900-01-01 20:02:53   \n",
       "1193479            0  ...      2019-01-02 20:38:00  1900-01-01 19:40:00   \n",
       "1193480            0  ...      2019-01-02 20:43:00  1900-01-01 20:30:00   \n",
       "\n",
       "        day_of_week   trip_date hour  year month Estimated_Temp  \\\n",
       "0                 2  2019-01-02    4  2019     1           8.35   \n",
       "1193477           2  2019-01-02   20  2019     1          10.00   \n",
       "1193478           2  2019-01-02   20  2019     1          10.00   \n",
       "1193479           2  2019-01-02   20  2019     1          10.00   \n",
       "1193480           2  2019-01-02   20  2019     1          10.00   \n",
       "\n",
       "         Estimated_Precip service_kind  \n",
       "0                0.000000      weekday  \n",
       "1193477          0.590889      weekday  \n",
       "1193478          0.585833      weekday  \n",
       "1193479          0.585444      weekday  \n",
       "1193480          0.583111      weekday  \n",
       "\n",
       "[5 rows x 26 columns]"
      ]
     },
     "metadata": {},
     "execution_count": 11
    }
   ],
   "metadata": {}
  },
  {
   "cell_type": "code",
   "execution_count": 9,
   "source": [
    "carta.iloc[5820870,]"
   ],
   "outputs": [
    {
     "output_type": "execute_result",
     "data": {
      "text/plain": [
       "trip_id                                 140116\n",
       "scheduled_arrival_time     1900-01-01 16:51:42\n",
       "actual_arrival_time        1900-01-01 16:54:00\n",
       "stop_id                                     17\n",
       "stop_sequence                                5\n",
       "stop_lat                              35.04425\n",
       "stop_lon                             -85.30943\n",
       "route_id                                     9\n",
       "direction_id                                 0\n",
       "board_count                                  1\n",
       "alight_count                                 1\n",
       "occupancy                                    9\n",
       "direction_desc                        OUTBOUND\n",
       "service_period                         Weekday\n",
       "date                       2019-09-20 00:00:00\n",
       "scheduled_datetime         2019-09-20 16:51:42\n",
       "actual_arrival_datetime    2019-09-20 16:54:00\n",
       "trip_start_time            1900-01-01 16:50:00\n",
       "day_of_week                                  4\n",
       "trip_date                           2019-09-20\n",
       "hour                                        16\n",
       "year                                      2019\n",
       "month                                        9\n",
       "Estimated_Temp                          30.434\n",
       "Estimated_Precip                           0.0\n",
       "service_kind                           weekday\n",
       "Name: 5348463, dtype: object"
      ]
     },
     "metadata": {},
     "execution_count": 9
    }
   ],
   "metadata": {}
  },
  {
   "cell_type": "code",
   "execution_count": null,
   "source": [],
   "outputs": [],
   "metadata": {}
  },
  {
   "cell_type": "code",
   "execution_count": 10,
   "source": [
    "carta[(carta['actual_arrival_datetime'] == '2019-01-02 06:00:00') & (carta['trip_id'] == '133184') & (carta['stop_id'] == '145')]"
   ],
   "outputs": [
    {
     "output_type": "execute_result",
     "data": {
      "text/html": [
       "<div>\n",
       "<style scoped>\n",
       "    .dataframe tbody tr th:only-of-type {\n",
       "        vertical-align: middle;\n",
       "    }\n",
       "\n",
       "    .dataframe tbody tr th {\n",
       "        vertical-align: top;\n",
       "    }\n",
       "\n",
       "    .dataframe thead th {\n",
       "        text-align: right;\n",
       "    }\n",
       "</style>\n",
       "<table border=\"1\" class=\"dataframe\">\n",
       "  <thead>\n",
       "    <tr style=\"text-align: right;\">\n",
       "      <th></th>\n",
       "      <th>trip_id</th>\n",
       "      <th>scheduled_arrival_time</th>\n",
       "      <th>actual_arrival_time</th>\n",
       "      <th>stop_id</th>\n",
       "      <th>stop_sequence</th>\n",
       "      <th>stop_lat</th>\n",
       "      <th>stop_lon</th>\n",
       "      <th>route_id</th>\n",
       "      <th>direction_id</th>\n",
       "      <th>board_count</th>\n",
       "      <th>...</th>\n",
       "      <th>actual_arrival_datetime</th>\n",
       "      <th>trip_start_time</th>\n",
       "      <th>day_of_week</th>\n",
       "      <th>trip_date</th>\n",
       "      <th>hour</th>\n",
       "      <th>year</th>\n",
       "      <th>month</th>\n",
       "      <th>Estimated_Temp</th>\n",
       "      <th>Estimated_Precip</th>\n",
       "      <th>service_kind</th>\n",
       "    </tr>\n",
       "  </thead>\n",
       "  <tbody>\n",
       "    <tr>\n",
       "      <th>5820870</th>\n",
       "      <td>133184</td>\n",
       "      <td>1900-01-01 06:00:00</td>\n",
       "      <td>1900-01-01 06:00:00</td>\n",
       "      <td>145</td>\n",
       "      <td>1</td>\n",
       "      <td>35.041675</td>\n",
       "      <td>-85.30864</td>\n",
       "      <td>10A</td>\n",
       "      <td>0</td>\n",
       "      <td>0</td>\n",
       "      <td>...</td>\n",
       "      <td>2019-01-02 06:00:00</td>\n",
       "      <td>1900-01-01 06:00:00</td>\n",
       "      <td>2</td>\n",
       "      <td>2019-01-02</td>\n",
       "      <td>6</td>\n",
       "      <td>2019</td>\n",
       "      <td>1</td>\n",
       "      <td>8.3</td>\n",
       "      <td>0.0</td>\n",
       "      <td>weekday</td>\n",
       "    </tr>\n",
       "  </tbody>\n",
       "</table>\n",
       "<p>1 rows × 26 columns</p>\n",
       "</div>"
      ],
      "text/plain": [
       "        trip_id scheduled_arrival_time actual_arrival_time stop_id  \\\n",
       "5820870  133184    1900-01-01 06:00:00 1900-01-01 06:00:00     145   \n",
       "\n",
       "         stop_sequence   stop_lat  stop_lon route_id direction_id  \\\n",
       "5820870              1  35.041675 -85.30864      10A            0   \n",
       "\n",
       "         board_count  ...  actual_arrival_datetime      trip_start_time  \\\n",
       "5820870            0  ...      2019-01-02 06:00:00  1900-01-01 06:00:00   \n",
       "\n",
       "        day_of_week   trip_date hour  year month Estimated_Temp  \\\n",
       "5820870           2  2019-01-02    6  2019     1            8.3   \n",
       "\n",
       "         Estimated_Precip service_kind  \n",
       "5820870               0.0      weekday  \n",
       "\n",
       "[1 rows x 26 columns]"
      ]
     },
     "metadata": {},
     "execution_count": 10
    }
   ],
   "metadata": {}
  },
  {
   "cell_type": "code",
   "execution_count": null,
   "source": [],
   "outputs": [],
   "metadata": {}
  },
  {
   "cell_type": "code",
   "execution_count": 11,
   "source": [
    "carta.shape"
   ],
   "outputs": [
    {
     "output_type": "execute_result",
     "data": {
      "text/plain": [
       "(9705963, 26)"
      ]
     },
     "metadata": {},
     "execution_count": 11
    }
   ],
   "metadata": {}
  },
  {
   "cell_type": "code",
   "execution_count": 12,
   "source": [
    "carta.dtypes"
   ],
   "outputs": [
    {
     "output_type": "execute_result",
     "data": {
      "text/plain": [
       "trip_id                            object\n",
       "scheduled_arrival_time     datetime64[ns]\n",
       "actual_arrival_time        datetime64[ns]\n",
       "stop_id                            object\n",
       "stop_sequence                       int32\n",
       "stop_lat                          float64\n",
       "stop_lon                          float64\n",
       "route_id                           object\n",
       "direction_id                       object\n",
       "board_count                         int64\n",
       "alight_count                        int64\n",
       "occupancy                           int64\n",
       "direction_desc                     object\n",
       "service_period                     object\n",
       "date                       datetime64[ns]\n",
       "scheduled_datetime                 object\n",
       "actual_arrival_datetime            object\n",
       "trip_start_time                    object\n",
       "day_of_week                         int64\n",
       "trip_date                          object\n",
       "hour                               object\n",
       "year                                int64\n",
       "month                               int64\n",
       "Estimated_Temp                    float64\n",
       "Estimated_Precip                  float64\n",
       "service_kind                       object\n",
       "dtype: object"
      ]
     },
     "metadata": {},
     "execution_count": 12
    }
   ],
   "metadata": {}
  },
  {
   "cell_type": "code",
   "execution_count": 13,
   "source": [
    "min(carta.scheduled_datetime)"
   ],
   "outputs": [
    {
     "output_type": "execute_result",
     "data": {
      "text/plain": [
       "'2019-01-02 04:21:00'"
      ]
     },
     "metadata": {},
     "execution_count": 13
    }
   ],
   "metadata": {}
  },
  {
   "cell_type": "code",
   "execution_count": 14,
   "source": [
    "max(carta.scheduled_datetime)"
   ],
   "outputs": [
    {
     "output_type": "execute_result",
     "data": {
      "text/plain": [
       "'2020-05-31 21:10:00'"
      ]
     },
     "metadata": {},
     "execution_count": 14
    }
   ],
   "metadata": {}
  },
  {
   "cell_type": "code",
   "execution_count": 15,
   "source": [
    "carta.hour.unique()"
   ],
   "outputs": [
    {
     "output_type": "execute_result",
     "data": {
      "text/plain": [
       "array(['4', '20', '19', '21', '22', '6', '7', '5', '8', '9', '23', '0',\n",
       "       '18', '17', '11', '10', '12', '13', '16', '14', '15'], dtype=object)"
      ]
     },
     "metadata": {},
     "execution_count": 15
    }
   ],
   "metadata": {}
  },
  {
   "cell_type": "code",
   "execution_count": 9,
   "source": [
    "new_carta = pd.read_csv('data/Transit_Data/new_carta.csv')\r\n",
    "new_carta.head()"
   ],
   "outputs": [
    {
     "output_type": "stream",
     "name": "stderr",
     "text": [
      "C:\\Users\\jcmar\\AppData\\Local\\Packages\\PythonSoftwareFoundation.Python.3.9_qbz5n2kfra8p0\\LocalCache\\local-packages\\Python39\\site-packages\\IPython\\core\\interactiveshell.py:3444: DtypeWarning: Columns (18) have mixed types.Specify dtype option on import or set low_memory=False.\n",
      "  exec(code_obj, self.user_global_ns, self.user_ns)\n"
     ]
    },
    {
     "output_type": "execute_result",
     "data": {
      "text/html": [
       "<div>\n",
       "<style scoped>\n",
       "    .dataframe tbody tr th:only-of-type {\n",
       "        vertical-align: middle;\n",
       "    }\n",
       "\n",
       "    .dataframe tbody tr th {\n",
       "        vertical-align: top;\n",
       "    }\n",
       "\n",
       "    .dataframe thead th {\n",
       "        text-align: right;\n",
       "    }\n",
       "</style>\n",
       "<table border=\"1\" class=\"dataframe\">\n",
       "  <thead>\n",
       "    <tr style=\"text-align: right;\">\n",
       "      <th></th>\n",
       "      <th>Unnamed: 0</th>\n",
       "      <th>Unnamed: 0.1</th>\n",
       "      <th>survey_date</th>\n",
       "      <th>pattern_id</th>\n",
       "      <th>route_number</th>\n",
       "      <th>trip_id</th>\n",
       "      <th>stop_id</th>\n",
       "      <th>time_actual_arrive</th>\n",
       "      <th>stop_lon</th>\n",
       "      <th>stop_lat</th>\n",
       "      <th>...</th>\n",
       "      <th>hour</th>\n",
       "      <th>temp</th>\n",
       "      <th>precip</th>\n",
       "      <th>board_count</th>\n",
       "      <th>alight_count</th>\n",
       "      <th>occupancy</th>\n",
       "      <th>route_id</th>\n",
       "      <th>direction_id</th>\n",
       "      <th>day_of_week</th>\n",
       "      <th>service_kind</th>\n",
       "    </tr>\n",
       "  </thead>\n",
       "  <tbody>\n",
       "    <tr>\n",
       "      <th>0</th>\n",
       "      <td>0</td>\n",
       "      <td>0</td>\n",
       "      <td>2020-06-01 05:00:00</td>\n",
       "      <td>910</td>\n",
       "      <td>4.0</td>\n",
       "      <td>152323</td>\n",
       "      <td>354</td>\n",
       "      <td>2020-06-01 09:41:16</td>\n",
       "      <td>-85.268713</td>\n",
       "      <td>35.056167</td>\n",
       "      <td>...</td>\n",
       "      <td>9.0</td>\n",
       "      <td>18.85</td>\n",
       "      <td>0.0</td>\n",
       "      <td>0</td>\n",
       "      <td>0</td>\n",
       "      <td>0</td>\n",
       "      <td>4</td>\n",
       "      <td>0</td>\n",
       "      <td>0.0</td>\n",
       "      <td>weekday</td>\n",
       "    </tr>\n",
       "    <tr>\n",
       "      <th>1</th>\n",
       "      <td>1</td>\n",
       "      <td>1</td>\n",
       "      <td>2020-06-01 05:00:00</td>\n",
       "      <td>915</td>\n",
       "      <td>1.4</td>\n",
       "      <td>152320</td>\n",
       "      <td>354</td>\n",
       "      <td>2020-06-01 09:47:36</td>\n",
       "      <td>-85.268713</td>\n",
       "      <td>35.056167</td>\n",
       "      <td>...</td>\n",
       "      <td>9.0</td>\n",
       "      <td>18.85</td>\n",
       "      <td>0.0</td>\n",
       "      <td>0</td>\n",
       "      <td>0</td>\n",
       "      <td>0</td>\n",
       "      <td>1</td>\n",
       "      <td>0</td>\n",
       "      <td>0.0</td>\n",
       "      <td>weekday</td>\n",
       "    </tr>\n",
       "    <tr>\n",
       "      <th>2</th>\n",
       "      <td>2</td>\n",
       "      <td>2</td>\n",
       "      <td>2020-06-01 05:00:00</td>\n",
       "      <td>915</td>\n",
       "      <td>1.4</td>\n",
       "      <td>151689</td>\n",
       "      <td>354</td>\n",
       "      <td>2020-06-01 10:54:05</td>\n",
       "      <td>-85.268713</td>\n",
       "      <td>35.056167</td>\n",
       "      <td>...</td>\n",
       "      <td>10.0</td>\n",
       "      <td>19.95</td>\n",
       "      <td>0.0</td>\n",
       "      <td>0</td>\n",
       "      <td>0</td>\n",
       "      <td>0</td>\n",
       "      <td>1</td>\n",
       "      <td>0</td>\n",
       "      <td>0.0</td>\n",
       "      <td>weekday</td>\n",
       "    </tr>\n",
       "    <tr>\n",
       "      <th>3</th>\n",
       "      <td>3</td>\n",
       "      <td>3</td>\n",
       "      <td>2020-06-01 05:00:00</td>\n",
       "      <td>889</td>\n",
       "      <td>9.0</td>\n",
       "      <td>151936</td>\n",
       "      <td>354</td>\n",
       "      <td>2020-06-01 10:54:11</td>\n",
       "      <td>-85.268713</td>\n",
       "      <td>35.056167</td>\n",
       "      <td>...</td>\n",
       "      <td>10.0</td>\n",
       "      <td>19.95</td>\n",
       "      <td>0.0</td>\n",
       "      <td>0</td>\n",
       "      <td>0</td>\n",
       "      <td>0</td>\n",
       "      <td>9</td>\n",
       "      <td>0</td>\n",
       "      <td>0.0</td>\n",
       "      <td>weekday</td>\n",
       "    </tr>\n",
       "    <tr>\n",
       "      <th>4</th>\n",
       "      <td>4</td>\n",
       "      <td>4</td>\n",
       "      <td>2020-06-01 05:00:00</td>\n",
       "      <td>674</td>\n",
       "      <td>10.1</td>\n",
       "      <td>151970</td>\n",
       "      <td>354</td>\n",
       "      <td>2020-06-01 11:05:51</td>\n",
       "      <td>-85.268713</td>\n",
       "      <td>35.056167</td>\n",
       "      <td>...</td>\n",
       "      <td>11.0</td>\n",
       "      <td>21.15</td>\n",
       "      <td>0.0</td>\n",
       "      <td>0</td>\n",
       "      <td>0</td>\n",
       "      <td>0</td>\n",
       "      <td>10A</td>\n",
       "      <td>0</td>\n",
       "      <td>0.0</td>\n",
       "      <td>weekday</td>\n",
       "    </tr>\n",
       "  </tbody>\n",
       "</table>\n",
       "<p>5 rows × 22 columns</p>\n",
       "</div>"
      ],
      "text/plain": [
       "   Unnamed: 0  Unnamed: 0.1          survey_date  pattern_id  route_number  \\\n",
       "0           0             0  2020-06-01 05:00:00         910           4.0   \n",
       "1           1             1  2020-06-01 05:00:00         915           1.4   \n",
       "2           2             2  2020-06-01 05:00:00         915           1.4   \n",
       "3           3             3  2020-06-01 05:00:00         889           9.0   \n",
       "4           4             4  2020-06-01 05:00:00         674          10.1   \n",
       "\n",
       "   trip_id  stop_id   time_actual_arrive   stop_lon   stop_lat  ...  hour  \\\n",
       "0   152323      354  2020-06-01 09:41:16 -85.268713  35.056167  ...   9.0   \n",
       "1   152320      354  2020-06-01 09:47:36 -85.268713  35.056167  ...   9.0   \n",
       "2   151689      354  2020-06-01 10:54:05 -85.268713  35.056167  ...  10.0   \n",
       "3   151936      354  2020-06-01 10:54:11 -85.268713  35.056167  ...  10.0   \n",
       "4   151970      354  2020-06-01 11:05:51 -85.268713  35.056167  ...  11.0   \n",
       "\n",
       "    temp  precip  board_count  alight_count  occupancy  route_id  \\\n",
       "0  18.85     0.0            0             0          0         4   \n",
       "1  18.85     0.0            0             0          0         1   \n",
       "2  19.95     0.0            0             0          0         1   \n",
       "3  19.95     0.0            0             0          0         9   \n",
       "4  21.15     0.0            0             0          0       10A   \n",
       "\n",
       "   direction_id day_of_week  service_kind  \n",
       "0             0         0.0       weekday  \n",
       "1             0         0.0       weekday  \n",
       "2             0         0.0       weekday  \n",
       "3             0         0.0       weekday  \n",
       "4             0         0.0       weekday  \n",
       "\n",
       "[5 rows x 22 columns]"
      ]
     },
     "metadata": {},
     "execution_count": 9
    }
   ],
   "metadata": {}
  },
  {
   "cell_type": "code",
   "execution_count": 19,
   "source": [
    "new_carta.time_actual_arrive = pd.to_datetime(new_carta['time_actual_arrive'], format = \"%Y-%m-%d %H:%M:%S\")"
   ],
   "outputs": [],
   "metadata": {}
  },
  {
   "cell_type": "code",
   "execution_count": 20,
   "source": [
    "new_carta['year'] = new_carta['time_actual_arrive'].dt.year"
   ],
   "outputs": [],
   "metadata": {}
  },
  {
   "cell_type": "markdown",
   "source": [
    "## Data partition according to lock-down and ridership decline\n",
    "\n",
    "Chattanooga's steep decline started the week of **March 5th** before hitting a low also on the week of April 19 with a low of 8,077 weekly riders.\n",
    "\n",
    " - Pre-lockdown data: Before 2020-03-05.\n",
    "     * `date < 2020-03-05`\n",
    " - Post-lockdown data: After 2020-03-05.\n",
    "     * `date >= 2020-03-05`"
   ],
   "metadata": {}
  },
  {
   "cell_type": "code",
   "execution_count": 16,
   "source": [
    "Pre_lock = carta[carta['date'] < '2020-03-05']\r\n",
    "#Pre_lock.to_csv('data/Transit_Data/Pre_lock.csv')\r\n",
    "\r\n",
    "Post_lock = carta[carta['date'] >= '2020-03-05']\r\n",
    "#Post_lock.to_csv('data/Transit_Data/Post_lock.csv')"
   ],
   "outputs": [],
   "metadata": {}
  },
  {
   "cell_type": "markdown",
   "source": [
    "### Pre-lockdown data:"
   ],
   "metadata": {}
  },
  {
   "cell_type": "code",
   "execution_count": 17,
   "source": [
    "Pre_lock.head()"
   ],
   "outputs": [
    {
     "output_type": "execute_result",
     "data": {
      "text/html": [
       "<div>\n",
       "<style scoped>\n",
       "    .dataframe tbody tr th:only-of-type {\n",
       "        vertical-align: middle;\n",
       "    }\n",
       "\n",
       "    .dataframe tbody tr th {\n",
       "        vertical-align: top;\n",
       "    }\n",
       "\n",
       "    .dataframe thead th {\n",
       "        text-align: right;\n",
       "    }\n",
       "</style>\n",
       "<table border=\"1\" class=\"dataframe\">\n",
       "  <thead>\n",
       "    <tr style=\"text-align: right;\">\n",
       "      <th></th>\n",
       "      <th>trip_id</th>\n",
       "      <th>scheduled_arrival_time</th>\n",
       "      <th>actual_arrival_time</th>\n",
       "      <th>stop_id</th>\n",
       "      <th>stop_sequence</th>\n",
       "      <th>stop_lat</th>\n",
       "      <th>stop_lon</th>\n",
       "      <th>route_id</th>\n",
       "      <th>direction_id</th>\n",
       "      <th>board_count</th>\n",
       "      <th>...</th>\n",
       "      <th>actual_arrival_datetime</th>\n",
       "      <th>trip_start_time</th>\n",
       "      <th>day_of_week</th>\n",
       "      <th>trip_date</th>\n",
       "      <th>hour</th>\n",
       "      <th>year</th>\n",
       "      <th>month</th>\n",
       "      <th>Estimated_Temp</th>\n",
       "      <th>Estimated_Precip</th>\n",
       "      <th>service_kind</th>\n",
       "    </tr>\n",
       "  </thead>\n",
       "  <tbody>\n",
       "    <tr>\n",
       "      <th>0</th>\n",
       "      <td>132994</td>\n",
       "      <td>1900-01-01 04:55:00</td>\n",
       "      <td>1900-01-01 04:52:00</td>\n",
       "      <td>1351</td>\n",
       "      <td>1</td>\n",
       "      <td>35.052658</td>\n",
       "      <td>-85.309722</td>\n",
       "      <td>1</td>\n",
       "      <td>0</td>\n",
       "      <td>1</td>\n",
       "      <td>...</td>\n",
       "      <td>2019-01-02 04:52:00</td>\n",
       "      <td>1900-01-01 04:55:00</td>\n",
       "      <td>2</td>\n",
       "      <td>2019-01-02</td>\n",
       "      <td>4</td>\n",
       "      <td>2019</td>\n",
       "      <td>1</td>\n",
       "      <td>8.35</td>\n",
       "      <td>0.000000</td>\n",
       "      <td>weekday</td>\n",
       "    </tr>\n",
       "    <tr>\n",
       "      <th>1193477</th>\n",
       "      <td>134417</td>\n",
       "      <td>1900-01-01 20:35:04</td>\n",
       "      <td>1900-01-01 20:37:00</td>\n",
       "      <td>971</td>\n",
       "      <td>47</td>\n",
       "      <td>35.024347</td>\n",
       "      <td>-85.246812</td>\n",
       "      <td>4</td>\n",
       "      <td>1</td>\n",
       "      <td>0</td>\n",
       "      <td>...</td>\n",
       "      <td>2019-01-02 20:37:00</td>\n",
       "      <td>1900-01-01 20:02:53</td>\n",
       "      <td>2</td>\n",
       "      <td>2019-01-02</td>\n",
       "      <td>20</td>\n",
       "      <td>2019</td>\n",
       "      <td>1</td>\n",
       "      <td>10.00</td>\n",
       "      <td>0.590889</td>\n",
       "      <td>weekday</td>\n",
       "    </tr>\n",
       "    <tr>\n",
       "      <th>1193478</th>\n",
       "      <td>134417</td>\n",
       "      <td>1900-01-01 20:35:30</td>\n",
       "      <td>1900-01-01 20:38:00</td>\n",
       "      <td>972</td>\n",
       "      <td>48</td>\n",
       "      <td>35.025717</td>\n",
       "      <td>-85.248528</td>\n",
       "      <td>4</td>\n",
       "      <td>1</td>\n",
       "      <td>0</td>\n",
       "      <td>...</td>\n",
       "      <td>2019-01-02 20:38:00</td>\n",
       "      <td>1900-01-01 20:02:53</td>\n",
       "      <td>2</td>\n",
       "      <td>2019-01-02</td>\n",
       "      <td>20</td>\n",
       "      <td>2019</td>\n",
       "      <td>1</td>\n",
       "      <td>10.00</td>\n",
       "      <td>0.585833</td>\n",
       "      <td>weekday</td>\n",
       "    </tr>\n",
       "    <tr>\n",
       "      <th>1193479</th>\n",
       "      <td>134409</td>\n",
       "      <td>1900-01-01 20:35:32</td>\n",
       "      <td>1900-01-01 20:38:00</td>\n",
       "      <td>12</td>\n",
       "      <td>87</td>\n",
       "      <td>35.050703</td>\n",
       "      <td>-85.309532</td>\n",
       "      <td>4</td>\n",
       "      <td>1</td>\n",
       "      <td>0</td>\n",
       "      <td>...</td>\n",
       "      <td>2019-01-02 20:38:00</td>\n",
       "      <td>1900-01-01 19:40:00</td>\n",
       "      <td>2</td>\n",
       "      <td>2019-01-02</td>\n",
       "      <td>20</td>\n",
       "      <td>2019</td>\n",
       "      <td>1</td>\n",
       "      <td>10.00</td>\n",
       "      <td>0.585444</td>\n",
       "      <td>weekday</td>\n",
       "    </tr>\n",
       "    <tr>\n",
       "      <th>1193480</th>\n",
       "      <td>134329</td>\n",
       "      <td>1900-01-01 20:35:44</td>\n",
       "      <td>1900-01-01 20:43:00</td>\n",
       "      <td>806</td>\n",
       "      <td>10</td>\n",
       "      <td>35.042653</td>\n",
       "      <td>-85.306685</td>\n",
       "      <td>4</td>\n",
       "      <td>0</td>\n",
       "      <td>0</td>\n",
       "      <td>...</td>\n",
       "      <td>2019-01-02 20:43:00</td>\n",
       "      <td>1900-01-01 20:30:00</td>\n",
       "      <td>2</td>\n",
       "      <td>2019-01-02</td>\n",
       "      <td>20</td>\n",
       "      <td>2019</td>\n",
       "      <td>1</td>\n",
       "      <td>10.00</td>\n",
       "      <td>0.583111</td>\n",
       "      <td>weekday</td>\n",
       "    </tr>\n",
       "  </tbody>\n",
       "</table>\n",
       "<p>5 rows × 26 columns</p>\n",
       "</div>"
      ],
      "text/plain": [
       "        trip_id scheduled_arrival_time actual_arrival_time stop_id  \\\n",
       "0        132994    1900-01-01 04:55:00 1900-01-01 04:52:00    1351   \n",
       "1193477  134417    1900-01-01 20:35:04 1900-01-01 20:37:00     971   \n",
       "1193478  134417    1900-01-01 20:35:30 1900-01-01 20:38:00     972   \n",
       "1193479  134409    1900-01-01 20:35:32 1900-01-01 20:38:00      12   \n",
       "1193480  134329    1900-01-01 20:35:44 1900-01-01 20:43:00     806   \n",
       "\n",
       "         stop_sequence   stop_lat   stop_lon route_id direction_id  \\\n",
       "0                    1  35.052658 -85.309722        1            0   \n",
       "1193477             47  35.024347 -85.246812        4            1   \n",
       "1193478             48  35.025717 -85.248528        4            1   \n",
       "1193479             87  35.050703 -85.309532        4            1   \n",
       "1193480             10  35.042653 -85.306685        4            0   \n",
       "\n",
       "         board_count  ...  actual_arrival_datetime      trip_start_time  \\\n",
       "0                  1  ...      2019-01-02 04:52:00  1900-01-01 04:55:00   \n",
       "1193477            0  ...      2019-01-02 20:37:00  1900-01-01 20:02:53   \n",
       "1193478            0  ...      2019-01-02 20:38:00  1900-01-01 20:02:53   \n",
       "1193479            0  ...      2019-01-02 20:38:00  1900-01-01 19:40:00   \n",
       "1193480            0  ...      2019-01-02 20:43:00  1900-01-01 20:30:00   \n",
       "\n",
       "        day_of_week   trip_date hour  year month Estimated_Temp  \\\n",
       "0                 2  2019-01-02    4  2019     1           8.35   \n",
       "1193477           2  2019-01-02   20  2019     1          10.00   \n",
       "1193478           2  2019-01-02   20  2019     1          10.00   \n",
       "1193479           2  2019-01-02   20  2019     1          10.00   \n",
       "1193480           2  2019-01-02   20  2019     1          10.00   \n",
       "\n",
       "         Estimated_Precip service_kind  \n",
       "0                0.000000      weekday  \n",
       "1193477          0.590889      weekday  \n",
       "1193478          0.585833      weekday  \n",
       "1193479          0.585444      weekday  \n",
       "1193480          0.583111      weekday  \n",
       "\n",
       "[5 rows x 26 columns]"
      ]
     },
     "metadata": {},
     "execution_count": 17
    }
   ],
   "metadata": {}
  },
  {
   "cell_type": "code",
   "execution_count": 23,
   "source": [
    "Pre_lock.shape"
   ],
   "outputs": [
    {
     "output_type": "execute_result",
     "data": {
      "text/plain": [
       "(8602818, 26)"
      ]
     },
     "metadata": {},
     "execution_count": 23
    }
   ],
   "metadata": {}
  },
  {
   "cell_type": "markdown",
   "source": [
    "### Post-lockdown data:"
   ],
   "metadata": {}
  },
  {
   "cell_type": "code",
   "execution_count": 24,
   "source": [
    "Post_lock.head()"
   ],
   "outputs": [
    {
     "output_type": "execute_result",
     "data": {
      "text/html": [
       "<div>\n",
       "<style scoped>\n",
       "    .dataframe tbody tr th:only-of-type {\n",
       "        vertical-align: middle;\n",
       "    }\n",
       "\n",
       "    .dataframe tbody tr th {\n",
       "        vertical-align: top;\n",
       "    }\n",
       "\n",
       "    .dataframe thead th {\n",
       "        text-align: right;\n",
       "    }\n",
       "</style>\n",
       "<table border=\"1\" class=\"dataframe\">\n",
       "  <thead>\n",
       "    <tr style=\"text-align: right;\">\n",
       "      <th></th>\n",
       "      <th>trip_id</th>\n",
       "      <th>scheduled_arrival_time</th>\n",
       "      <th>actual_arrival_time</th>\n",
       "      <th>stop_id</th>\n",
       "      <th>stop_sequence</th>\n",
       "      <th>stop_lat</th>\n",
       "      <th>stop_lon</th>\n",
       "      <th>route_id</th>\n",
       "      <th>direction_id</th>\n",
       "      <th>board_count</th>\n",
       "      <th>...</th>\n",
       "      <th>actual_arrival_datetime</th>\n",
       "      <th>trip_start_time</th>\n",
       "      <th>day_of_week</th>\n",
       "      <th>trip_date</th>\n",
       "      <th>hour</th>\n",
       "      <th>year</th>\n",
       "      <th>month</th>\n",
       "      <th>Estimated_Temp</th>\n",
       "      <th>Estimated_Precip</th>\n",
       "      <th>service_kind</th>\n",
       "    </tr>\n",
       "  </thead>\n",
       "  <tbody>\n",
       "    <tr>\n",
       "      <th>878279</th>\n",
       "      <td>138360</td>\n",
       "      <td>1900-01-01 12:46:57</td>\n",
       "      <td>1900-01-01 12:47:00</td>\n",
       "      <td>22</td>\n",
       "      <td>14</td>\n",
       "      <td>35.034650</td>\n",
       "      <td>-85.308260</td>\n",
       "      <td>1</td>\n",
       "      <td>0</td>\n",
       "      <td>0</td>\n",
       "      <td>...</td>\n",
       "      <td>2020-03-05 12:47:00</td>\n",
       "      <td>1900-01-01 12:40:00</td>\n",
       "      <td>3</td>\n",
       "      <td>2020-03-05</td>\n",
       "      <td>12</td>\n",
       "      <td>2020</td>\n",
       "      <td>3</td>\n",
       "      <td>12.800000</td>\n",
       "      <td>0.0</td>\n",
       "      <td>weekday</td>\n",
       "    </tr>\n",
       "    <tr>\n",
       "      <th>7369067</th>\n",
       "      <td>138665</td>\n",
       "      <td>1900-01-01 06:17:47</td>\n",
       "      <td>1900-01-01 06:16:00</td>\n",
       "      <td>386</td>\n",
       "      <td>30</td>\n",
       "      <td>35.029870</td>\n",
       "      <td>-85.268952</td>\n",
       "      <td>10G</td>\n",
       "      <td>1</td>\n",
       "      <td>0</td>\n",
       "      <td>...</td>\n",
       "      <td>2020-03-05 06:16:00</td>\n",
       "      <td>1900-01-01 06:14:14</td>\n",
       "      <td>3</td>\n",
       "      <td>2020-03-05</td>\n",
       "      <td>6</td>\n",
       "      <td>2020</td>\n",
       "      <td>3</td>\n",
       "      <td>9.822167</td>\n",
       "      <td>0.0</td>\n",
       "      <td>weekday</td>\n",
       "    </tr>\n",
       "    <tr>\n",
       "      <th>877188</th>\n",
       "      <td>138383</td>\n",
       "      <td>1900-01-01 05:49:42</td>\n",
       "      <td>1900-01-01 05:48:00</td>\n",
       "      <td>81</td>\n",
       "      <td>13</td>\n",
       "      <td>34.990302</td>\n",
       "      <td>-85.304890</td>\n",
       "      <td>1</td>\n",
       "      <td>1</td>\n",
       "      <td>0</td>\n",
       "      <td>...</td>\n",
       "      <td>2020-03-05 05:48:00</td>\n",
       "      <td>1900-01-01 05:45:00</td>\n",
       "      <td>3</td>\n",
       "      <td>2020-03-05</td>\n",
       "      <td>5</td>\n",
       "      <td>2020</td>\n",
       "      <td>3</td>\n",
       "      <td>10.000000</td>\n",
       "      <td>0.0</td>\n",
       "      <td>weekday</td>\n",
       "    </tr>\n",
       "    <tr>\n",
       "      <th>877187</th>\n",
       "      <td>138383</td>\n",
       "      <td>1900-01-01 05:49:32</td>\n",
       "      <td>1900-01-01 05:48:00</td>\n",
       "      <td>146</td>\n",
       "      <td>12</td>\n",
       "      <td>34.989585</td>\n",
       "      <td>-85.304620</td>\n",
       "      <td>1</td>\n",
       "      <td>1</td>\n",
       "      <td>0</td>\n",
       "      <td>...</td>\n",
       "      <td>2020-03-05 05:48:00</td>\n",
       "      <td>1900-01-01 05:45:00</td>\n",
       "      <td>3</td>\n",
       "      <td>2020-03-05</td>\n",
       "      <td>5</td>\n",
       "      <td>2020</td>\n",
       "      <td>3</td>\n",
       "      <td>10.000000</td>\n",
       "      <td>0.0</td>\n",
       "      <td>weekday</td>\n",
       "    </tr>\n",
       "    <tr>\n",
       "      <th>877186</th>\n",
       "      <td>138383</td>\n",
       "      <td>1900-01-01 05:49:19</td>\n",
       "      <td>1900-01-01 05:48:00</td>\n",
       "      <td>155</td>\n",
       "      <td>11</td>\n",
       "      <td>34.989323</td>\n",
       "      <td>-85.305493</td>\n",
       "      <td>1</td>\n",
       "      <td>1</td>\n",
       "      <td>0</td>\n",
       "      <td>...</td>\n",
       "      <td>2020-03-05 05:48:00</td>\n",
       "      <td>1900-01-01 05:45:00</td>\n",
       "      <td>3</td>\n",
       "      <td>2020-03-05</td>\n",
       "      <td>5</td>\n",
       "      <td>2020</td>\n",
       "      <td>3</td>\n",
       "      <td>10.000000</td>\n",
       "      <td>0.0</td>\n",
       "      <td>weekday</td>\n",
       "    </tr>\n",
       "  </tbody>\n",
       "</table>\n",
       "<p>5 rows × 26 columns</p>\n",
       "</div>"
      ],
      "text/plain": [
       "        trip_id scheduled_arrival_time actual_arrival_time stop_id  \\\n",
       "878279   138360    1900-01-01 12:46:57 1900-01-01 12:47:00      22   \n",
       "7369067  138665    1900-01-01 06:17:47 1900-01-01 06:16:00     386   \n",
       "877188   138383    1900-01-01 05:49:42 1900-01-01 05:48:00      81   \n",
       "877187   138383    1900-01-01 05:49:32 1900-01-01 05:48:00     146   \n",
       "877186   138383    1900-01-01 05:49:19 1900-01-01 05:48:00     155   \n",
       "\n",
       "         stop_sequence   stop_lat   stop_lon route_id direction_id  \\\n",
       "878279              14  35.034650 -85.308260        1            0   \n",
       "7369067             30  35.029870 -85.268952      10G            1   \n",
       "877188              13  34.990302 -85.304890        1            1   \n",
       "877187              12  34.989585 -85.304620        1            1   \n",
       "877186              11  34.989323 -85.305493        1            1   \n",
       "\n",
       "         board_count  ...  actual_arrival_datetime      trip_start_time  \\\n",
       "878279             0  ...      2020-03-05 12:47:00  1900-01-01 12:40:00   \n",
       "7369067            0  ...      2020-03-05 06:16:00  1900-01-01 06:14:14   \n",
       "877188             0  ...      2020-03-05 05:48:00  1900-01-01 05:45:00   \n",
       "877187             0  ...      2020-03-05 05:48:00  1900-01-01 05:45:00   \n",
       "877186             0  ...      2020-03-05 05:48:00  1900-01-01 05:45:00   \n",
       "\n",
       "        day_of_week   trip_date hour  year month Estimated_Temp  \\\n",
       "878279            3  2020-03-05   12  2020     3      12.800000   \n",
       "7369067           3  2020-03-05    6  2020     3       9.822167   \n",
       "877188            3  2020-03-05    5  2020     3      10.000000   \n",
       "877187            3  2020-03-05    5  2020     3      10.000000   \n",
       "877186            3  2020-03-05    5  2020     3      10.000000   \n",
       "\n",
       "         Estimated_Precip service_kind  \n",
       "878279                0.0      weekday  \n",
       "7369067               0.0      weekday  \n",
       "877188                0.0      weekday  \n",
       "877187                0.0      weekday  \n",
       "877186                0.0      weekday  \n",
       "\n",
       "[5 rows x 26 columns]"
      ]
     },
     "metadata": {},
     "execution_count": 24
    }
   ],
   "metadata": {}
  },
  {
   "cell_type": "markdown",
   "source": [
    "## Subordinate Functions\n",
    "\n",
    "The following functions are to used to transform the data. We transformed the data because the considered predictors have different ranges of magnitude, and that can be troublesome for model interpretation, particularly for the generalized linear models. We decided to normalize the data so the variables would be in the $[0, \\:1]$ interval which can be useful to avoid negative outcomes."
   ],
   "metadata": {}
  },
  {
   "cell_type": "code",
   "execution_count": 28,
   "source": [
    "def normalizer(x):\r\n",
    "    \r\n",
    "    x_min = min(x)\r\n",
    "    x_max = max(x)\r\n",
    "    x_norm = (x - x_min)/(x_max - x_min)\r\n",
    "    \r\n",
    "    return(x_norm)"
   ],
   "outputs": [],
   "metadata": {}
  },
  {
   "cell_type": "code",
   "execution_count": 29,
   "source": [
    "def standardizer(x):\r\n",
    "    x_std = x.std()\r\n",
    "    x_mean = x.mean()\r\n",
    "    x_standard = (x - x_mean)/x_std\r\n",
    "    \r\n",
    "    return(x_standard)"
   ],
   "outputs": [],
   "metadata": {}
  },
  {
   "cell_type": "markdown",
   "source": [
    "## Surrounding Board or Alight Counts\n",
    "\n",
    "In this section we create a function called `radial_influence()` that takes three inputs: \n",
    "\n",
    "* `st`: bus stop.\n",
    "* `radius`: length of the radius. It has a default value of 0.5 miles.\n",
    "* `DT`: Data frame with the list of `stop_id`s and their coordinates.\n",
    "\n",
    "and identifies all the bus stops (`stop_id`s) that are within 0.5 mile radius with respect to the bus stop of reference. The bus stops that are within the desired range will be labeled as `inside`, and we use the label `outside` for the opposite case."
   ],
   "metadata": {}
  },
  {
   "cell_type": "code",
   "execution_count": 24,
   "source": [
    "from shapely.geometry import Point, MultiPoint\r\n",
    "from shapely.ops import nearest_points\r\n",
    "#import geopandas as gpd\r\n",
    "import folium\r\n",
    "from geopy import Point\r\n",
    "from geopy import distance"
   ],
   "outputs": [],
   "metadata": {}
  },
  {
   "cell_type": "markdown",
   "source": [
    "The `Bus_Stop` data frame contains the spatial coordinates of all the bus stops in the `carta` data set."
   ],
   "metadata": {}
  },
  {
   "cell_type": "code",
   "execution_count": 23,
   "source": [
    "Bus_Stops = pd.read_csv('data/Transit_Data/Bus_Stops.csv')\r\n",
    "Bus_Stops.stop_id = Bus_Stops['stop_id'].astype(str)\r\n",
    "Bus_Stops.head()"
   ],
   "outputs": [
    {
     "output_type": "execute_result",
     "data": {
      "text/html": [
       "<div>\n",
       "<style scoped>\n",
       "    .dataframe tbody tr th:only-of-type {\n",
       "        vertical-align: middle;\n",
       "    }\n",
       "\n",
       "    .dataframe tbody tr th {\n",
       "        vertical-align: top;\n",
       "    }\n",
       "\n",
       "    .dataframe thead th {\n",
       "        text-align: right;\n",
       "    }\n",
       "</style>\n",
       "<table border=\"1\" class=\"dataframe\">\n",
       "  <thead>\n",
       "    <tr style=\"text-align: right;\">\n",
       "      <th></th>\n",
       "      <th>stop_id</th>\n",
       "      <th>stop_lon</th>\n",
       "      <th>stop_lat</th>\n",
       "    </tr>\n",
       "  </thead>\n",
       "  <tbody>\n",
       "    <tr>\n",
       "      <th>0</th>\n",
       "      <td>971</td>\n",
       "      <td>-85.246812</td>\n",
       "      <td>35.024347</td>\n",
       "    </tr>\n",
       "    <tr>\n",
       "      <th>1</th>\n",
       "      <td>146</td>\n",
       "      <td>-85.304620</td>\n",
       "      <td>34.989585</td>\n",
       "    </tr>\n",
       "    <tr>\n",
       "      <th>2</th>\n",
       "      <td>1545</td>\n",
       "      <td>-85.250863</td>\n",
       "      <td>35.026032</td>\n",
       "    </tr>\n",
       "    <tr>\n",
       "      <th>3</th>\n",
       "      <td>972</td>\n",
       "      <td>-85.248528</td>\n",
       "      <td>35.025717</td>\n",
       "    </tr>\n",
       "    <tr>\n",
       "      <th>4</th>\n",
       "      <td>81</td>\n",
       "      <td>-85.304890</td>\n",
       "      <td>34.990302</td>\n",
       "    </tr>\n",
       "  </tbody>\n",
       "</table>\n",
       "</div>"
      ],
      "text/plain": [
       "  stop_id   stop_lon   stop_lat\n",
       "0     971 -85.246812  35.024347\n",
       "1     146 -85.304620  34.989585\n",
       "2    1545 -85.250863  35.026032\n",
       "3     972 -85.248528  35.025717\n",
       "4      81 -85.304890  34.990302"
      ]
     },
     "metadata": {},
     "execution_count": 23
    }
   ],
   "metadata": {}
  },
  {
   "cell_type": "markdown",
   "source": [
    "We can plot some of the bus stops as follows:"
   ],
   "metadata": {}
  },
  {
   "cell_type": "code",
   "execution_count": 30,
   "source": [
    "map = folium.Map(location = [Bus_Stops.stop_lat.mean(), Bus_Stops.stop_lon.mean()], tiles = \"OpenStreetMap\", zoom_start = 11)\r\n",
    "\r\n",
    "for point in range(0, Bus_Stops.shape[0])[0:100]:\r\n",
    "    folium.Marker(location = [Bus_Stops.stop_lat[point], Bus_Stops.stop_lon[point]], popup = str(Bus_Stops['stop_id'])).add_to(map)\r\n",
    "map\r\n",
    "\r\n",
    "map"
   ],
   "outputs": [
    {
     "output_type": "execute_result",
     "data": {
      "text/html": [
       "<div style=\"width:100%;\"><div style=\"position:relative;width:100%;height:0;padding-bottom:60%;\"><span style=\"color:#565656\">Make this Notebook Trusted to load map: File -> Trust Notebook</span><iframe src=\"about:blank\" style=\"position:absolute;width:100%;height:100%;left:0;top:0;border:none !important;\" data-html=%3C%21DOCTYPE%20html%3E%0A%3Chead%3E%20%20%20%20%0A%20%20%20%20%3Cmeta%20http-equiv%3D%22content-type%22%20content%3D%22text/html%3B%20charset%3DUTF-8%22%20/%3E%0A%20%20%20%20%0A%20%20%20%20%20%20%20%20%3Cscript%3E%0A%20%20%20%20%20%20%20%20%20%20%20%20L_NO_TOUCH%20%3D%20false%3B%0A%20%20%20%20%20%20%20%20%20%20%20%20L_DISABLE_3D%20%3D%20false%3B%0A%20%20%20%20%20%20%20%20%3C/script%3E%0A%20%20%20%20%0A%20%20%20%20%3Cstyle%3Ehtml%2C%20body%20%7Bwidth%3A%20100%25%3Bheight%3A%20100%25%3Bmargin%3A%200%3Bpadding%3A%200%3B%7D%3C/style%3E%0A%20%20%20%20%3Cstyle%3E%23map%20%7Bposition%3Aabsolute%3Btop%3A0%3Bbottom%3A0%3Bright%3A0%3Bleft%3A0%3B%7D%3C/style%3E%0A%20%20%20%20%3Cscript%20src%3D%22https%3A//cdn.jsdelivr.net/npm/leaflet%401.6.0/dist/leaflet.js%22%3E%3C/script%3E%0A%20%20%20%20%3Cscript%20src%3D%22https%3A//code.jquery.com/jquery-1.12.4.min.js%22%3E%3C/script%3E%0A%20%20%20%20%3Cscript%20src%3D%22https%3A//maxcdn.bootstrapcdn.com/bootstrap/3.2.0/js/bootstrap.min.js%22%3E%3C/script%3E%0A%20%20%20%20%3Cscript%20src%3D%22https%3A//cdnjs.cloudflare.com/ajax/libs/Leaflet.awesome-markers/2.0.2/leaflet.awesome-markers.js%22%3E%3C/script%3E%0A%20%20%20%20%3Clink%20rel%3D%22stylesheet%22%20href%3D%22https%3A//cdn.jsdelivr.net/npm/leaflet%401.6.0/dist/leaflet.css%22/%3E%0A%20%20%20%20%3Clink%20rel%3D%22stylesheet%22%20href%3D%22https%3A//maxcdn.bootstrapcdn.com/bootstrap/3.2.0/css/bootstrap.min.css%22/%3E%0A%20%20%20%20%3Clink%20rel%3D%22stylesheet%22%20href%3D%22https%3A//maxcdn.bootstrapcdn.com/bootstrap/3.2.0/css/bootstrap-theme.min.css%22/%3E%0A%20%20%20%20%3Clink%20rel%3D%22stylesheet%22%20href%3D%22https%3A//maxcdn.bootstrapcdn.com/font-awesome/4.6.3/css/font-awesome.min.css%22/%3E%0A%20%20%20%20%3Clink%20rel%3D%22stylesheet%22%20href%3D%22https%3A//cdnjs.cloudflare.com/ajax/libs/Leaflet.awesome-markers/2.0.2/leaflet.awesome-markers.css%22/%3E%0A%20%20%20%20%3Clink%20rel%3D%22stylesheet%22%20href%3D%22https%3A//cdn.jsdelivr.net/gh/python-visualization/folium/folium/templates/leaflet.awesome.rotate.min.css%22/%3E%0A%20%20%20%20%0A%20%20%20%20%20%20%20%20%20%20%20%20%3Cmeta%20name%3D%22viewport%22%20content%3D%22width%3Ddevice-width%2C%0A%20%20%20%20%20%20%20%20%20%20%20%20%20%20%20%20initial-scale%3D1.0%2C%20maximum-scale%3D1.0%2C%20user-scalable%3Dno%22%20/%3E%0A%20%20%20%20%20%20%20%20%20%20%20%20%3Cstyle%3E%0A%20%20%20%20%20%20%20%20%20%20%20%20%20%20%20%20%23map_47fad1f26de4429684037b84e7d95d76%20%7B%0A%20%20%20%20%20%20%20%20%20%20%20%20%20%20%20%20%20%20%20%20position%3A%20relative%3B%0A%20%20%20%20%20%20%20%20%20%20%20%20%20%20%20%20%20%20%20%20width%3A%20100.0%25%3B%0A%20%20%20%20%20%20%20%20%20%20%20%20%20%20%20%20%20%20%20%20height%3A%20100.0%25%3B%0A%20%20%20%20%20%20%20%20%20%20%20%20%20%20%20%20%20%20%20%20left%3A%200.0%25%3B%0A%20%20%20%20%20%20%20%20%20%20%20%20%20%20%20%20%20%20%20%20top%3A%200.0%25%3B%0A%20%20%20%20%20%20%20%20%20%20%20%20%20%20%20%20%7D%0A%20%20%20%20%20%20%20%20%20%20%20%20%3C/style%3E%0A%20%20%20%20%20%20%20%20%0A%3C/head%3E%0A%3Cbody%3E%20%20%20%20%0A%20%20%20%20%0A%20%20%20%20%20%20%20%20%20%20%20%20%3Cdiv%20class%3D%22folium-map%22%20id%3D%22map_47fad1f26de4429684037b84e7d95d76%22%20%3E%3C/div%3E%0A%20%20%20%20%20%20%20%20%0A%3C/body%3E%0A%3Cscript%3E%20%20%20%20%0A%20%20%20%20%0A%20%20%20%20%20%20%20%20%20%20%20%20var%20map_47fad1f26de4429684037b84e7d95d76%20%3D%20L.map%28%0A%20%20%20%20%20%20%20%20%20%20%20%20%20%20%20%20%22map_47fad1f26de4429684037b84e7d95d76%22%2C%0A%20%20%20%20%20%20%20%20%20%20%20%20%20%20%20%20%7B%0A%20%20%20%20%20%20%20%20%20%20%20%20%20%20%20%20%20%20%20%20center%3A%20%5B35.04145933444445%2C%20-85.26561320583333%5D%2C%0A%20%20%20%20%20%20%20%20%20%20%20%20%20%20%20%20%20%20%20%20crs%3A%20L.CRS.EPSG3857%2C%0A%20%20%20%20%20%20%20%20%20%20%20%20%20%20%20%20%20%20%20%20zoom%3A%2011%2C%0A%20%20%20%20%20%20%20%20%20%20%20%20%20%20%20%20%20%20%20%20zoomControl%3A%20true%2C%0A%20%20%20%20%20%20%20%20%20%20%20%20%20%20%20%20%20%20%20%20preferCanvas%3A%20false%2C%0A%20%20%20%20%20%20%20%20%20%20%20%20%20%20%20%20%7D%0A%20%20%20%20%20%20%20%20%20%20%20%20%29%3B%0A%0A%20%20%20%20%20%20%20%20%20%20%20%20%0A%0A%20%20%20%20%20%20%20%20%0A%20%20%20%20%0A%20%20%20%20%20%20%20%20%20%20%20%20var%20tile_layer_49a6b219b6034d75bf63d1f3b2704a40%20%3D%20L.tileLayer%28%0A%20%20%20%20%20%20%20%20%20%20%20%20%20%20%20%20%22https%3A//%7Bs%7D.tile.openstreetmap.org/%7Bz%7D/%7Bx%7D/%7By%7D.png%22%2C%0A%20%20%20%20%20%20%20%20%20%20%20%20%20%20%20%20%7B%22attribution%22%3A%20%22Data%20by%20%5Cu0026copy%3B%20%5Cu003ca%20href%3D%5C%22http%3A//openstreetmap.org%5C%22%5Cu003eOpenStreetMap%5Cu003c/a%5Cu003e%2C%20under%20%5Cu003ca%20href%3D%5C%22http%3A//www.openstreetmap.org/copyright%5C%22%5Cu003eODbL%5Cu003c/a%5Cu003e.%22%2C%20%22detectRetina%22%3A%20false%2C%20%22maxNativeZoom%22%3A%2018%2C%20%22maxZoom%22%3A%2018%2C%20%22minZoom%22%3A%200%2C%20%22noWrap%22%3A%20false%2C%20%22opacity%22%3A%201%2C%20%22subdomains%22%3A%20%22abc%22%2C%20%22tms%22%3A%20false%7D%0A%20%20%20%20%20%20%20%20%20%20%20%20%29.addTo%28map_47fad1f26de4429684037b84e7d95d76%29%3B%0A%20%20%20%20%20%20%20%20%0A%20%20%20%20%0A%20%20%20%20%20%20%20%20%20%20%20%20var%20marker_3eb758acab3f4f0697a32fb389ee14bb%20%3D%20L.marker%28%0A%20%20%20%20%20%20%20%20%20%20%20%20%20%20%20%20%5B35.024347%2C%20-85.246812%5D%2C%0A%20%20%20%20%20%20%20%20%20%20%20%20%20%20%20%20%7B%7D%0A%20%20%20%20%20%20%20%20%20%20%20%20%29.addTo%28map_47fad1f26de4429684037b84e7d95d76%29%3B%0A%20%20%20%20%20%20%20%20%0A%20%20%20%20%0A%20%20%20%20%20%20%20%20var%20popup_7b527915cf524e419dd6fd6b0101802f%20%3D%20L.popup%28%7B%22maxWidth%22%3A%20%22100%25%22%7D%29%3B%0A%0A%20%20%20%20%20%20%20%20%0A%20%20%20%20%20%20%20%20%20%20%20%20var%20html_5913bf48ed8b4609af6898360b8b8aaf%20%3D%20%24%28%60%3Cdiv%20id%3D%22html_5913bf48ed8b4609af6898360b8b8aaf%22%20style%3D%22width%3A%20100.0%25%3B%20height%3A%20100.0%25%3B%22%3E0%20%20%20%20%20%20%20%20971%201%20%20%20%20%20%20%20%20146%202%20%20%20%20%20%20%201545%203%20%20%20%20%20%20%20%20972%204%20%20%20%20%20%20%20%20%2081%20%20%20%20%20%20%20%20%20...%20%201195%20%20%20%202131%201196%20%20%20%202274%201197%20%20%20%202275%201198%20%20%20%202276%201199%20%20%20%202277%20Name%3A%20stop_id%2C%20Length%3A%201200%2C%20dtype%3A%20object%3C/div%3E%60%29%5B0%5D%3B%0A%20%20%20%20%20%20%20%20%20%20%20%20popup_7b527915cf524e419dd6fd6b0101802f.setContent%28html_5913bf48ed8b4609af6898360b8b8aaf%29%3B%0A%20%20%20%20%20%20%20%20%0A%0A%20%20%20%20%20%20%20%20marker_3eb758acab3f4f0697a32fb389ee14bb.bindPopup%28popup_7b527915cf524e419dd6fd6b0101802f%29%0A%20%20%20%20%20%20%20%20%3B%0A%0A%20%20%20%20%20%20%20%20%0A%20%20%20%20%0A%20%20%20%20%0A%20%20%20%20%20%20%20%20%20%20%20%20var%20marker_1eab3f39fe9e4734b68932426e2ceb98%20%3D%20L.marker%28%0A%20%20%20%20%20%20%20%20%20%20%20%20%20%20%20%20%5B34.989585%2C%20-85.30462%5D%2C%0A%20%20%20%20%20%20%20%20%20%20%20%20%20%20%20%20%7B%7D%0A%20%20%20%20%20%20%20%20%20%20%20%20%29.addTo%28map_47fad1f26de4429684037b84e7d95d76%29%3B%0A%20%20%20%20%20%20%20%20%0A%20%20%20%20%0A%20%20%20%20%20%20%20%20var%20popup_d51cc3bad929467e981a44c9bb7756d3%20%3D%20L.popup%28%7B%22maxWidth%22%3A%20%22100%25%22%7D%29%3B%0A%0A%20%20%20%20%20%20%20%20%0A%20%20%20%20%20%20%20%20%20%20%20%20var%20html_7b3b76706d5e48cd979bb094de32f9c2%20%3D%20%24%28%60%3Cdiv%20id%3D%22html_7b3b76706d5e48cd979bb094de32f9c2%22%20style%3D%22width%3A%20100.0%25%3B%20height%3A%20100.0%25%3B%22%3E0%20%20%20%20%20%20%20%20971%201%20%20%20%20%20%20%20%20146%202%20%20%20%20%20%20%201545%203%20%20%20%20%20%20%20%20972%204%20%20%20%20%20%20%20%20%2081%20%20%20%20%20%20%20%20%20...%20%201195%20%20%20%202131%201196%20%20%20%202274%201197%20%20%20%202275%201198%20%20%20%202276%201199%20%20%20%202277%20Name%3A%20stop_id%2C%20Length%3A%201200%2C%20dtype%3A%20object%3C/div%3E%60%29%5B0%5D%3B%0A%20%20%20%20%20%20%20%20%20%20%20%20popup_d51cc3bad929467e981a44c9bb7756d3.setContent%28html_7b3b76706d5e48cd979bb094de32f9c2%29%3B%0A%20%20%20%20%20%20%20%20%0A%0A%20%20%20%20%20%20%20%20marker_1eab3f39fe9e4734b68932426e2ceb98.bindPopup%28popup_d51cc3bad929467e981a44c9bb7756d3%29%0A%20%20%20%20%20%20%20%20%3B%0A%0A%20%20%20%20%20%20%20%20%0A%20%20%20%20%0A%20%20%20%20%0A%20%20%20%20%20%20%20%20%20%20%20%20var%20marker_a941dc6e688848539ae1b2bbc492605a%20%3D%20L.marker%28%0A%20%20%20%20%20%20%20%20%20%20%20%20%20%20%20%20%5B35.026032%2C%20-85.250863%5D%2C%0A%20%20%20%20%20%20%20%20%20%20%20%20%20%20%20%20%7B%7D%0A%20%20%20%20%20%20%20%20%20%20%20%20%29.addTo%28map_47fad1f26de4429684037b84e7d95d76%29%3B%0A%20%20%20%20%20%20%20%20%0A%20%20%20%20%0A%20%20%20%20%20%20%20%20var%20popup_4673aeb48bda46c1be1785b4f4bd4df2%20%3D%20L.popup%28%7B%22maxWidth%22%3A%20%22100%25%22%7D%29%3B%0A%0A%20%20%20%20%20%20%20%20%0A%20%20%20%20%20%20%20%20%20%20%20%20var%20html_282c6799c8214ef7ab68ad91ec5beae0%20%3D%20%24%28%60%3Cdiv%20id%3D%22html_282c6799c8214ef7ab68ad91ec5beae0%22%20style%3D%22width%3A%20100.0%25%3B%20height%3A%20100.0%25%3B%22%3E0%20%20%20%20%20%20%20%20971%201%20%20%20%20%20%20%20%20146%202%20%20%20%20%20%20%201545%203%20%20%20%20%20%20%20%20972%204%20%20%20%20%20%20%20%20%2081%20%20%20%20%20%20%20%20%20...%20%201195%20%20%20%202131%201196%20%20%20%202274%201197%20%20%20%202275%201198%20%20%20%202276%201199%20%20%20%202277%20Name%3A%20stop_id%2C%20Length%3A%201200%2C%20dtype%3A%20object%3C/div%3E%60%29%5B0%5D%3B%0A%20%20%20%20%20%20%20%20%20%20%20%20popup_4673aeb48bda46c1be1785b4f4bd4df2.setContent%28html_282c6799c8214ef7ab68ad91ec5beae0%29%3B%0A%20%20%20%20%20%20%20%20%0A%0A%20%20%20%20%20%20%20%20marker_a941dc6e688848539ae1b2bbc492605a.bindPopup%28popup_4673aeb48bda46c1be1785b4f4bd4df2%29%0A%20%20%20%20%20%20%20%20%3B%0A%0A%20%20%20%20%20%20%20%20%0A%20%20%20%20%0A%20%20%20%20%0A%20%20%20%20%20%20%20%20%20%20%20%20var%20marker_f77b86a9d4ce4a90ac054627f513ad23%20%3D%20L.marker%28%0A%20%20%20%20%20%20%20%20%20%20%20%20%20%20%20%20%5B35.025717%2C%20-85.248528%5D%2C%0A%20%20%20%20%20%20%20%20%20%20%20%20%20%20%20%20%7B%7D%0A%20%20%20%20%20%20%20%20%20%20%20%20%29.addTo%28map_47fad1f26de4429684037b84e7d95d76%29%3B%0A%20%20%20%20%20%20%20%20%0A%20%20%20%20%0A%20%20%20%20%20%20%20%20var%20popup_832f5674a50746e2a63dbdc8da07b511%20%3D%20L.popup%28%7B%22maxWidth%22%3A%20%22100%25%22%7D%29%3B%0A%0A%20%20%20%20%20%20%20%20%0A%20%20%20%20%20%20%20%20%20%20%20%20var%20html_c92db123dbcb436a9a0088a0e1922c58%20%3D%20%24%28%60%3Cdiv%20id%3D%22html_c92db123dbcb436a9a0088a0e1922c58%22%20style%3D%22width%3A%20100.0%25%3B%20height%3A%20100.0%25%3B%22%3E0%20%20%20%20%20%20%20%20971%201%20%20%20%20%20%20%20%20146%202%20%20%20%20%20%20%201545%203%20%20%20%20%20%20%20%20972%204%20%20%20%20%20%20%20%20%2081%20%20%20%20%20%20%20%20%20...%20%201195%20%20%20%202131%201196%20%20%20%202274%201197%20%20%20%202275%201198%20%20%20%202276%201199%20%20%20%202277%20Name%3A%20stop_id%2C%20Length%3A%201200%2C%20dtype%3A%20object%3C/div%3E%60%29%5B0%5D%3B%0A%20%20%20%20%20%20%20%20%20%20%20%20popup_832f5674a50746e2a63dbdc8da07b511.setContent%28html_c92db123dbcb436a9a0088a0e1922c58%29%3B%0A%20%20%20%20%20%20%20%20%0A%0A%20%20%20%20%20%20%20%20marker_f77b86a9d4ce4a90ac054627f513ad23.bindPopup%28popup_832f5674a50746e2a63dbdc8da07b511%29%0A%20%20%20%20%20%20%20%20%3B%0A%0A%20%20%20%20%20%20%20%20%0A%20%20%20%20%0A%20%20%20%20%0A%20%20%20%20%20%20%20%20%20%20%20%20var%20marker_7a1508e957424a2a9bc59a7ffb6acdd0%20%3D%20L.marker%28%0A%20%20%20%20%20%20%20%20%20%20%20%20%20%20%20%20%5B34.990302%2C%20-85.30489%5D%2C%0A%20%20%20%20%20%20%20%20%20%20%20%20%20%20%20%20%7B%7D%0A%20%20%20%20%20%20%20%20%20%20%20%20%29.addTo%28map_47fad1f26de4429684037b84e7d95d76%29%3B%0A%20%20%20%20%20%20%20%20%0A%20%20%20%20%0A%20%20%20%20%20%20%20%20var%20popup_edbc2332944c4ecf896af9ce7cc87550%20%3D%20L.popup%28%7B%22maxWidth%22%3A%20%22100%25%22%7D%29%3B%0A%0A%20%20%20%20%20%20%20%20%0A%20%20%20%20%20%20%20%20%20%20%20%20var%20html_78c3168d06de408291d8bbb0354c735d%20%3D%20%24%28%60%3Cdiv%20id%3D%22html_78c3168d06de408291d8bbb0354c735d%22%20style%3D%22width%3A%20100.0%25%3B%20height%3A%20100.0%25%3B%22%3E0%20%20%20%20%20%20%20%20971%201%20%20%20%20%20%20%20%20146%202%20%20%20%20%20%20%201545%203%20%20%20%20%20%20%20%20972%204%20%20%20%20%20%20%20%20%2081%20%20%20%20%20%20%20%20%20...%20%201195%20%20%20%202131%201196%20%20%20%202274%201197%20%20%20%202275%201198%20%20%20%202276%201199%20%20%20%202277%20Name%3A%20stop_id%2C%20Length%3A%201200%2C%20dtype%3A%20object%3C/div%3E%60%29%5B0%5D%3B%0A%20%20%20%20%20%20%20%20%20%20%20%20popup_edbc2332944c4ecf896af9ce7cc87550.setContent%28html_78c3168d06de408291d8bbb0354c735d%29%3B%0A%20%20%20%20%20%20%20%20%0A%0A%20%20%20%20%20%20%20%20marker_7a1508e957424a2a9bc59a7ffb6acdd0.bindPopup%28popup_edbc2332944c4ecf896af9ce7cc87550%29%0A%20%20%20%20%20%20%20%20%3B%0A%0A%20%20%20%20%20%20%20%20%0A%20%20%20%20%0A%20%20%20%20%0A%20%20%20%20%20%20%20%20%20%20%20%20var%20marker_d3501677db144095a42e765c158ed6b6%20%3D%20L.marker%28%0A%20%20%20%20%20%20%20%20%20%20%20%20%20%20%20%20%5B34.991247%2C%20-85.304968%5D%2C%0A%20%20%20%20%20%20%20%20%20%20%20%20%20%20%20%20%7B%7D%0A%20%20%20%20%20%20%20%20%20%20%20%20%29.addTo%28map_47fad1f26de4429684037b84e7d95d76%29%3B%0A%20%20%20%20%20%20%20%20%0A%20%20%20%20%0A%20%20%20%20%20%20%20%20var%20popup_c252e787286d4ad0b7e69c250e0f7ee6%20%3D%20L.popup%28%7B%22maxWidth%22%3A%20%22100%25%22%7D%29%3B%0A%0A%20%20%20%20%20%20%20%20%0A%20%20%20%20%20%20%20%20%20%20%20%20var%20html_1b97529c61f34c098576c1b2c3d2773e%20%3D%20%24%28%60%3Cdiv%20id%3D%22html_1b97529c61f34c098576c1b2c3d2773e%22%20style%3D%22width%3A%20100.0%25%3B%20height%3A%20100.0%25%3B%22%3E0%20%20%20%20%20%20%20%20971%201%20%20%20%20%20%20%20%20146%202%20%20%20%20%20%20%201545%203%20%20%20%20%20%20%20%20972%204%20%20%20%20%20%20%20%20%2081%20%20%20%20%20%20%20%20%20...%20%201195%20%20%20%202131%201196%20%20%20%202274%201197%20%20%20%202275%201198%20%20%20%202276%201199%20%20%20%202277%20Name%3A%20stop_id%2C%20Length%3A%201200%2C%20dtype%3A%20object%3C/div%3E%60%29%5B0%5D%3B%0A%20%20%20%20%20%20%20%20%20%20%20%20popup_c252e787286d4ad0b7e69c250e0f7ee6.setContent%28html_1b97529c61f34c098576c1b2c3d2773e%29%3B%0A%20%20%20%20%20%20%20%20%0A%0A%20%20%20%20%20%20%20%20marker_d3501677db144095a42e765c158ed6b6.bindPopup%28popup_c252e787286d4ad0b7e69c250e0f7ee6%29%0A%20%20%20%20%20%20%20%20%3B%0A%0A%20%20%20%20%20%20%20%20%0A%20%20%20%20%0A%20%20%20%20%0A%20%20%20%20%20%20%20%20%20%20%20%20var%20marker_158339ee320b4b14b0a6d31a83c6101c%20%3D%20L.marker%28%0A%20%20%20%20%20%20%20%20%20%20%20%20%20%20%20%20%5B35.027633%2C%20-85.254727%5D%2C%0A%20%20%20%20%20%20%20%20%20%20%20%20%20%20%20%20%7B%7D%0A%20%20%20%20%20%20%20%20%20%20%20%20%29.addTo%28map_47fad1f26de4429684037b84e7d95d76%29%3B%0A%20%20%20%20%20%20%20%20%0A%20%20%20%20%0A%20%20%20%20%20%20%20%20var%20popup_1525806330ec4c12bc63aa3fc22e4c7b%20%3D%20L.popup%28%7B%22maxWidth%22%3A%20%22100%25%22%7D%29%3B%0A%0A%20%20%20%20%20%20%20%20%0A%20%20%20%20%20%20%20%20%20%20%20%20var%20html_a33c3a4769c8476fb8b09fc84ad2e77b%20%3D%20%24%28%60%3Cdiv%20id%3D%22html_a33c3a4769c8476fb8b09fc84ad2e77b%22%20style%3D%22width%3A%20100.0%25%3B%20height%3A%20100.0%25%3B%22%3E0%20%20%20%20%20%20%20%20971%201%20%20%20%20%20%20%20%20146%202%20%20%20%20%20%20%201545%203%20%20%20%20%20%20%20%20972%204%20%20%20%20%20%20%20%20%2081%20%20%20%20%20%20%20%20%20...%20%201195%20%20%20%202131%201196%20%20%20%202274%201197%20%20%20%202275%201198%20%20%20%202276%201199%20%20%20%202277%20Name%3A%20stop_id%2C%20Length%3A%201200%2C%20dtype%3A%20object%3C/div%3E%60%29%5B0%5D%3B%0A%20%20%20%20%20%20%20%20%20%20%20%20popup_1525806330ec4c12bc63aa3fc22e4c7b.setContent%28html_a33c3a4769c8476fb8b09fc84ad2e77b%29%3B%0A%20%20%20%20%20%20%20%20%0A%0A%20%20%20%20%20%20%20%20marker_158339ee320b4b14b0a6d31a83c6101c.bindPopup%28popup_1525806330ec4c12bc63aa3fc22e4c7b%29%0A%20%20%20%20%20%20%20%20%3B%0A%0A%20%20%20%20%20%20%20%20%0A%20%20%20%20%0A%20%20%20%20%0A%20%20%20%20%20%20%20%20%20%20%20%20var%20marker_3be577d7dc4348bc8f1b67317e7a8fa4%20%3D%20L.marker%28%0A%20%20%20%20%20%20%20%20%20%20%20%20%20%20%20%20%5B35.026909%2C%20-85.25311%5D%2C%0A%20%20%20%20%20%20%20%20%20%20%20%20%20%20%20%20%7B%7D%0A%20%20%20%20%20%20%20%20%20%20%20%20%29.addTo%28map_47fad1f26de4429684037b84e7d95d76%29%3B%0A%20%20%20%20%20%20%20%20%0A%20%20%20%20%0A%20%20%20%20%20%20%20%20var%20popup_9010d133b4e2420b96f5058ecb58117e%20%3D%20L.popup%28%7B%22maxWidth%22%3A%20%22100%25%22%7D%29%3B%0A%0A%20%20%20%20%20%20%20%20%0A%20%20%20%20%20%20%20%20%20%20%20%20var%20html_6d9f93cdc5cc425f992ffc87e5610e1b%20%3D%20%24%28%60%3Cdiv%20id%3D%22html_6d9f93cdc5cc425f992ffc87e5610e1b%22%20style%3D%22width%3A%20100.0%25%3B%20height%3A%20100.0%25%3B%22%3E0%20%20%20%20%20%20%20%20971%201%20%20%20%20%20%20%20%20146%202%20%20%20%20%20%20%201545%203%20%20%20%20%20%20%20%20972%204%20%20%20%20%20%20%20%20%2081%20%20%20%20%20%20%20%20%20...%20%201195%20%20%20%202131%201196%20%20%20%202274%201197%20%20%20%202275%201198%20%20%20%202276%201199%20%20%20%202277%20Name%3A%20stop_id%2C%20Length%3A%201200%2C%20dtype%3A%20object%3C/div%3E%60%29%5B0%5D%3B%0A%20%20%20%20%20%20%20%20%20%20%20%20popup_9010d133b4e2420b96f5058ecb58117e.setContent%28html_6d9f93cdc5cc425f992ffc87e5610e1b%29%3B%0A%20%20%20%20%20%20%20%20%0A%0A%20%20%20%20%20%20%20%20marker_3be577d7dc4348bc8f1b67317e7a8fa4.bindPopup%28popup_9010d133b4e2420b96f5058ecb58117e%29%0A%20%20%20%20%20%20%20%20%3B%0A%0A%20%20%20%20%20%20%20%20%0A%20%20%20%20%0A%20%20%20%20%0A%20%20%20%20%20%20%20%20%20%20%20%20var%20marker_50685c635ef24a8b96fd6d90dbe84fec%20%3D%20L.marker%28%0A%20%20%20%20%20%20%20%20%20%20%20%20%20%20%20%20%5B34.991815%2C%20-85.305763%5D%2C%0A%20%20%20%20%20%20%20%20%20%20%20%20%20%20%20%20%7B%7D%0A%20%20%20%20%20%20%20%20%20%20%20%20%29.addTo%28map_47fad1f26de4429684037b84e7d95d76%29%3B%0A%20%20%20%20%20%20%20%20%0A%20%20%20%20%0A%20%20%20%20%20%20%20%20var%20popup_c28d67366b9b4966b610b9c08bb573ee%20%3D%20L.popup%28%7B%22maxWidth%22%3A%20%22100%25%22%7D%29%3B%0A%0A%20%20%20%20%20%20%20%20%0A%20%20%20%20%20%20%20%20%20%20%20%20var%20html_cf4459219fc147e4979470c73f435155%20%3D%20%24%28%60%3Cdiv%20id%3D%22html_cf4459219fc147e4979470c73f435155%22%20style%3D%22width%3A%20100.0%25%3B%20height%3A%20100.0%25%3B%22%3E0%20%20%20%20%20%20%20%20971%201%20%20%20%20%20%20%20%20146%202%20%20%20%20%20%20%201545%203%20%20%20%20%20%20%20%20972%204%20%20%20%20%20%20%20%20%2081%20%20%20%20%20%20%20%20%20...%20%201195%20%20%20%202131%201196%20%20%20%202274%201197%20%20%20%202275%201198%20%20%20%202276%201199%20%20%20%202277%20Name%3A%20stop_id%2C%20Length%3A%201200%2C%20dtype%3A%20object%3C/div%3E%60%29%5B0%5D%3B%0A%20%20%20%20%20%20%20%20%20%20%20%20popup_c28d67366b9b4966b610b9c08bb573ee.setContent%28html_cf4459219fc147e4979470c73f435155%29%3B%0A%20%20%20%20%20%20%20%20%0A%0A%20%20%20%20%20%20%20%20marker_50685c635ef24a8b96fd6d90dbe84fec.bindPopup%28popup_c28d67366b9b4966b610b9c08bb573ee%29%0A%20%20%20%20%20%20%20%20%3B%0A%0A%20%20%20%20%20%20%20%20%0A%20%20%20%20%0A%20%20%20%20%0A%20%20%20%20%20%20%20%20%20%20%20%20var%20marker_9448228ad3f84754b191b49d4b5854b1%20%3D%20L.marker%28%0A%20%20%20%20%20%20%20%20%20%20%20%20%20%20%20%20%5B34.99199%2C%20-85.30632%5D%2C%0A%20%20%20%20%20%20%20%20%20%20%20%20%20%20%20%20%7B%7D%0A%20%20%20%20%20%20%20%20%20%20%20%20%29.addTo%28map_47fad1f26de4429684037b84e7d95d76%29%3B%0A%20%20%20%20%20%20%20%20%0A%20%20%20%20%0A%20%20%20%20%20%20%20%20var%20popup_670bffa9aa474766983c41b808f028d0%20%3D%20L.popup%28%7B%22maxWidth%22%3A%20%22100%25%22%7D%29%3B%0A%0A%20%20%20%20%20%20%20%20%0A%20%20%20%20%20%20%20%20%20%20%20%20var%20html_f3cca8301e68496bad066e7e83ab7b7b%20%3D%20%24%28%60%3Cdiv%20id%3D%22html_f3cca8301e68496bad066e7e83ab7b7b%22%20style%3D%22width%3A%20100.0%25%3B%20height%3A%20100.0%25%3B%22%3E0%20%20%20%20%20%20%20%20971%201%20%20%20%20%20%20%20%20146%202%20%20%20%20%20%20%201545%203%20%20%20%20%20%20%20%20972%204%20%20%20%20%20%20%20%20%2081%20%20%20%20%20%20%20%20%20...%20%201195%20%20%20%202131%201196%20%20%20%202274%201197%20%20%20%202275%201198%20%20%20%202276%201199%20%20%20%202277%20Name%3A%20stop_id%2C%20Length%3A%201200%2C%20dtype%3A%20object%3C/div%3E%60%29%5B0%5D%3B%0A%20%20%20%20%20%20%20%20%20%20%20%20popup_670bffa9aa474766983c41b808f028d0.setContent%28html_f3cca8301e68496bad066e7e83ab7b7b%29%3B%0A%20%20%20%20%20%20%20%20%0A%0A%20%20%20%20%20%20%20%20marker_9448228ad3f84754b191b49d4b5854b1.bindPopup%28popup_670bffa9aa474766983c41b808f028d0%29%0A%20%20%20%20%20%20%20%20%3B%0A%0A%20%20%20%20%20%20%20%20%0A%20%20%20%20%0A%20%20%20%20%0A%20%20%20%20%20%20%20%20%20%20%20%20var%20marker_50f42e145d5c4fe1b406330a06809415%20%3D%20L.marker%28%0A%20%20%20%20%20%20%20%20%20%20%20%20%20%20%20%20%5B34.993198%2C%20-85.307528%5D%2C%0A%20%20%20%20%20%20%20%20%20%20%20%20%20%20%20%20%7B%7D%0A%20%20%20%20%20%20%20%20%20%20%20%20%29.addTo%28map_47fad1f26de4429684037b84e7d95d76%29%3B%0A%20%20%20%20%20%20%20%20%0A%20%20%20%20%0A%20%20%20%20%20%20%20%20var%20popup_abe2b297af4747c6b2696111a0cc05b7%20%3D%20L.popup%28%7B%22maxWidth%22%3A%20%22100%25%22%7D%29%3B%0A%0A%20%20%20%20%20%20%20%20%0A%20%20%20%20%20%20%20%20%20%20%20%20var%20html_bff5ca82260b46b3bb34d44f1c337e5c%20%3D%20%24%28%60%3Cdiv%20id%3D%22html_bff5ca82260b46b3bb34d44f1c337e5c%22%20style%3D%22width%3A%20100.0%25%3B%20height%3A%20100.0%25%3B%22%3E0%20%20%20%20%20%20%20%20971%201%20%20%20%20%20%20%20%20146%202%20%20%20%20%20%20%201545%203%20%20%20%20%20%20%20%20972%204%20%20%20%20%20%20%20%20%2081%20%20%20%20%20%20%20%20%20...%20%201195%20%20%20%202131%201196%20%20%20%202274%201197%20%20%20%202275%201198%20%20%20%202276%201199%20%20%20%202277%20Name%3A%20stop_id%2C%20Length%3A%201200%2C%20dtype%3A%20object%3C/div%3E%60%29%5B0%5D%3B%0A%20%20%20%20%20%20%20%20%20%20%20%20popup_abe2b297af4747c6b2696111a0cc05b7.setContent%28html_bff5ca82260b46b3bb34d44f1c337e5c%29%3B%0A%20%20%20%20%20%20%20%20%0A%0A%20%20%20%20%20%20%20%20marker_50f42e145d5c4fe1b406330a06809415.bindPopup%28popup_abe2b297af4747c6b2696111a0cc05b7%29%0A%20%20%20%20%20%20%20%20%3B%0A%0A%20%20%20%20%20%20%20%20%0A%20%20%20%20%0A%20%20%20%20%0A%20%20%20%20%20%20%20%20%20%20%20%20var%20marker_8ea13a51374445438d027629aff6f6b0%20%3D%20L.marker%28%0A%20%20%20%20%20%20%20%20%20%20%20%20%20%20%20%20%5B35.032893%2C%20-85.266568%5D%2C%0A%20%20%20%20%20%20%20%20%20%20%20%20%20%20%20%20%7B%7D%0A%20%20%20%20%20%20%20%20%20%20%20%20%29.addTo%28map_47fad1f26de4429684037b84e7d95d76%29%3B%0A%20%20%20%20%20%20%20%20%0A%20%20%20%20%0A%20%20%20%20%20%20%20%20var%20popup_7ecdc334923240b19c5fe2a5017ac514%20%3D%20L.popup%28%7B%22maxWidth%22%3A%20%22100%25%22%7D%29%3B%0A%0A%20%20%20%20%20%20%20%20%0A%20%20%20%20%20%20%20%20%20%20%20%20var%20html_bf344af35fd044a195c35ec4efed99ff%20%3D%20%24%28%60%3Cdiv%20id%3D%22html_bf344af35fd044a195c35ec4efed99ff%22%20style%3D%22width%3A%20100.0%25%3B%20height%3A%20100.0%25%3B%22%3E0%20%20%20%20%20%20%20%20971%201%20%20%20%20%20%20%20%20146%202%20%20%20%20%20%20%201545%203%20%20%20%20%20%20%20%20972%204%20%20%20%20%20%20%20%20%2081%20%20%20%20%20%20%20%20%20...%20%201195%20%20%20%202131%201196%20%20%20%202274%201197%20%20%20%202275%201198%20%20%20%202276%201199%20%20%20%202277%20Name%3A%20stop_id%2C%20Length%3A%201200%2C%20dtype%3A%20object%3C/div%3E%60%29%5B0%5D%3B%0A%20%20%20%20%20%20%20%20%20%20%20%20popup_7ecdc334923240b19c5fe2a5017ac514.setContent%28html_bf344af35fd044a195c35ec4efed99ff%29%3B%0A%20%20%20%20%20%20%20%20%0A%0A%20%20%20%20%20%20%20%20marker_8ea13a51374445438d027629aff6f6b0.bindPopup%28popup_7ecdc334923240b19c5fe2a5017ac514%29%0A%20%20%20%20%20%20%20%20%3B%0A%0A%20%20%20%20%20%20%20%20%0A%20%20%20%20%0A%20%20%20%20%0A%20%20%20%20%20%20%20%20%20%20%20%20var%20marker_49afff5e762043aba99f85248993341d%20%3D%20L.marker%28%0A%20%20%20%20%20%20%20%20%20%20%20%20%20%20%20%20%5B34.992518%2C%20-85.30775%5D%2C%0A%20%20%20%20%20%20%20%20%20%20%20%20%20%20%20%20%7B%7D%0A%20%20%20%20%20%20%20%20%20%20%20%20%29.addTo%28map_47fad1f26de4429684037b84e7d95d76%29%3B%0A%20%20%20%20%20%20%20%20%0A%20%20%20%20%0A%20%20%20%20%20%20%20%20var%20popup_b23fc48ef13c469c984b62561d7350c7%20%3D%20L.popup%28%7B%22maxWidth%22%3A%20%22100%25%22%7D%29%3B%0A%0A%20%20%20%20%20%20%20%20%0A%20%20%20%20%20%20%20%20%20%20%20%20var%20html_9ca45ae51bf74f25bcaee47328ec2286%20%3D%20%24%28%60%3Cdiv%20id%3D%22html_9ca45ae51bf74f25bcaee47328ec2286%22%20style%3D%22width%3A%20100.0%25%3B%20height%3A%20100.0%25%3B%22%3E0%20%20%20%20%20%20%20%20971%201%20%20%20%20%20%20%20%20146%202%20%20%20%20%20%20%201545%203%20%20%20%20%20%20%20%20972%204%20%20%20%20%20%20%20%20%2081%20%20%20%20%20%20%20%20%20...%20%201195%20%20%20%202131%201196%20%20%20%202274%201197%20%20%20%202275%201198%20%20%20%202276%201199%20%20%20%202277%20Name%3A%20stop_id%2C%20Length%3A%201200%2C%20dtype%3A%20object%3C/div%3E%60%29%5B0%5D%3B%0A%20%20%20%20%20%20%20%20%20%20%20%20popup_b23fc48ef13c469c984b62561d7350c7.setContent%28html_9ca45ae51bf74f25bcaee47328ec2286%29%3B%0A%20%20%20%20%20%20%20%20%0A%0A%20%20%20%20%20%20%20%20marker_49afff5e762043aba99f85248993341d.bindPopup%28popup_b23fc48ef13c469c984b62561d7350c7%29%0A%20%20%20%20%20%20%20%20%3B%0A%0A%20%20%20%20%20%20%20%20%0A%20%20%20%20%0A%20%20%20%20%0A%20%20%20%20%20%20%20%20%20%20%20%20var%20marker_307a5708a43a4e7cb130c14a76341814%20%3D%20L.marker%28%0A%20%20%20%20%20%20%20%20%20%20%20%20%20%20%20%20%5B35.031988%2C%20-85.264183%5D%2C%0A%20%20%20%20%20%20%20%20%20%20%20%20%20%20%20%20%7B%7D%0A%20%20%20%20%20%20%20%20%20%20%20%20%29.addTo%28map_47fad1f26de4429684037b84e7d95d76%29%3B%0A%20%20%20%20%20%20%20%20%0A%20%20%20%20%0A%20%20%20%20%20%20%20%20var%20popup_e23b3359636d4fa58074489435ea4886%20%3D%20L.popup%28%7B%22maxWidth%22%3A%20%22100%25%22%7D%29%3B%0A%0A%20%20%20%20%20%20%20%20%0A%20%20%20%20%20%20%20%20%20%20%20%20var%20html_67b39d72b2ee4c8a82ba179b5e4d5d9f%20%3D%20%24%28%60%3Cdiv%20id%3D%22html_67b39d72b2ee4c8a82ba179b5e4d5d9f%22%20style%3D%22width%3A%20100.0%25%3B%20height%3A%20100.0%25%3B%22%3E0%20%20%20%20%20%20%20%20971%201%20%20%20%20%20%20%20%20146%202%20%20%20%20%20%20%201545%203%20%20%20%20%20%20%20%20972%204%20%20%20%20%20%20%20%20%2081%20%20%20%20%20%20%20%20%20...%20%201195%20%20%20%202131%201196%20%20%20%202274%201197%20%20%20%202275%201198%20%20%20%202276%201199%20%20%20%202277%20Name%3A%20stop_id%2C%20Length%3A%201200%2C%20dtype%3A%20object%3C/div%3E%60%29%5B0%5D%3B%0A%20%20%20%20%20%20%20%20%20%20%20%20popup_e23b3359636d4fa58074489435ea4886.setContent%28html_67b39d72b2ee4c8a82ba179b5e4d5d9f%29%3B%0A%20%20%20%20%20%20%20%20%0A%0A%20%20%20%20%20%20%20%20marker_307a5708a43a4e7cb130c14a76341814.bindPopup%28popup_e23b3359636d4fa58074489435ea4886%29%0A%20%20%20%20%20%20%20%20%3B%0A%0A%20%20%20%20%20%20%20%20%0A%20%20%20%20%0A%20%20%20%20%0A%20%20%20%20%20%20%20%20%20%20%20%20var%20marker_04caaf0511884f18ab9eddf85fca21bc%20%3D%20L.marker%28%0A%20%20%20%20%20%20%20%20%20%20%20%20%20%20%20%20%5B35.032425%2C%20-85.26536%5D%2C%0A%20%20%20%20%20%20%20%20%20%20%20%20%20%20%20%20%7B%7D%0A%20%20%20%20%20%20%20%20%20%20%20%20%29.addTo%28map_47fad1f26de4429684037b84e7d95d76%29%3B%0A%20%20%20%20%20%20%20%20%0A%20%20%20%20%0A%20%20%20%20%20%20%20%20var%20popup_fd00f70c1fdd41bf9d6ebe517b55156d%20%3D%20L.popup%28%7B%22maxWidth%22%3A%20%22100%25%22%7D%29%3B%0A%0A%20%20%20%20%20%20%20%20%0A%20%20%20%20%20%20%20%20%20%20%20%20var%20html_a917bf3f9cd04ff885dced8415a75595%20%3D%20%24%28%60%3Cdiv%20id%3D%22html_a917bf3f9cd04ff885dced8415a75595%22%20style%3D%22width%3A%20100.0%25%3B%20height%3A%20100.0%25%3B%22%3E0%20%20%20%20%20%20%20%20971%201%20%20%20%20%20%20%20%20146%202%20%20%20%20%20%20%201545%203%20%20%20%20%20%20%20%20972%204%20%20%20%20%20%20%20%20%2081%20%20%20%20%20%20%20%20%20...%20%201195%20%20%20%202131%201196%20%20%20%202274%201197%20%20%20%202275%201198%20%20%20%202276%201199%20%20%20%202277%20Name%3A%20stop_id%2C%20Length%3A%201200%2C%20dtype%3A%20object%3C/div%3E%60%29%5B0%5D%3B%0A%20%20%20%20%20%20%20%20%20%20%20%20popup_fd00f70c1fdd41bf9d6ebe517b55156d.setContent%28html_a917bf3f9cd04ff885dced8415a75595%29%3B%0A%20%20%20%20%20%20%20%20%0A%0A%20%20%20%20%20%20%20%20marker_04caaf0511884f18ab9eddf85fca21bc.bindPopup%28popup_fd00f70c1fdd41bf9d6ebe517b55156d%29%0A%20%20%20%20%20%20%20%20%3B%0A%0A%20%20%20%20%20%20%20%20%0A%20%20%20%20%0A%20%20%20%20%0A%20%20%20%20%20%20%20%20%20%20%20%20var%20marker_e43ff6a36d2044c282b6926fc2e61c53%20%3D%20L.marker%28%0A%20%20%20%20%20%20%20%20%20%20%20%20%20%20%20%20%5B35.031137%2C%20-85.261625%5D%2C%0A%20%20%20%20%20%20%20%20%20%20%20%20%20%20%20%20%7B%7D%0A%20%20%20%20%20%20%20%20%20%20%20%20%29.addTo%28map_47fad1f26de4429684037b84e7d95d76%29%3B%0A%20%20%20%20%20%20%20%20%0A%20%20%20%20%0A%20%20%20%20%20%20%20%20var%20popup_5fee291e86a64b3fa0512a8f6c61ec4a%20%3D%20L.popup%28%7B%22maxWidth%22%3A%20%22100%25%22%7D%29%3B%0A%0A%20%20%20%20%20%20%20%20%0A%20%20%20%20%20%20%20%20%20%20%20%20var%20html_94302e6a78704e1cb7ddc0bc85334ab9%20%3D%20%24%28%60%3Cdiv%20id%3D%22html_94302e6a78704e1cb7ddc0bc85334ab9%22%20style%3D%22width%3A%20100.0%25%3B%20height%3A%20100.0%25%3B%22%3E0%20%20%20%20%20%20%20%20971%201%20%20%20%20%20%20%20%20146%202%20%20%20%20%20%20%201545%203%20%20%20%20%20%20%20%20972%204%20%20%20%20%20%20%20%20%2081%20%20%20%20%20%20%20%20%20...%20%201195%20%20%20%202131%201196%20%20%20%202274%201197%20%20%20%202275%201198%20%20%20%202276%201199%20%20%20%202277%20Name%3A%20stop_id%2C%20Length%3A%201200%2C%20dtype%3A%20object%3C/div%3E%60%29%5B0%5D%3B%0A%20%20%20%20%20%20%20%20%20%20%20%20popup_5fee291e86a64b3fa0512a8f6c61ec4a.setContent%28html_94302e6a78704e1cb7ddc0bc85334ab9%29%3B%0A%20%20%20%20%20%20%20%20%0A%0A%20%20%20%20%20%20%20%20marker_e43ff6a36d2044c282b6926fc2e61c53.bindPopup%28popup_5fee291e86a64b3fa0512a8f6c61ec4a%29%0A%20%20%20%20%20%20%20%20%3B%0A%0A%20%20%20%20%20%20%20%20%0A%20%20%20%20%0A%20%20%20%20%0A%20%20%20%20%20%20%20%20%20%20%20%20var%20marker_c1ac465f1df2416a8ae56892281e7167%20%3D%20L.marker%28%0A%20%20%20%20%20%20%20%20%20%20%20%20%20%20%20%20%5B34.993948%2C%20-85.307147%5D%2C%0A%20%20%20%20%20%20%20%20%20%20%20%20%20%20%20%20%7B%7D%0A%20%20%20%20%20%20%20%20%20%20%20%20%29.addTo%28map_47fad1f26de4429684037b84e7d95d76%29%3B%0A%20%20%20%20%20%20%20%20%0A%20%20%20%20%0A%20%20%20%20%20%20%20%20var%20popup_f9c8f04a2e364467be537ed6f13ca1f7%20%3D%20L.popup%28%7B%22maxWidth%22%3A%20%22100%25%22%7D%29%3B%0A%0A%20%20%20%20%20%20%20%20%0A%20%20%20%20%20%20%20%20%20%20%20%20var%20html_db95298d56884bbbb8bead97e01bc365%20%3D%20%24%28%60%3Cdiv%20id%3D%22html_db95298d56884bbbb8bead97e01bc365%22%20style%3D%22width%3A%20100.0%25%3B%20height%3A%20100.0%25%3B%22%3E0%20%20%20%20%20%20%20%20971%201%20%20%20%20%20%20%20%20146%202%20%20%20%20%20%20%201545%203%20%20%20%20%20%20%20%20972%204%20%20%20%20%20%20%20%20%2081%20%20%20%20%20%20%20%20%20...%20%201195%20%20%20%202131%201196%20%20%20%202274%201197%20%20%20%202275%201198%20%20%20%202276%201199%20%20%20%202277%20Name%3A%20stop_id%2C%20Length%3A%201200%2C%20dtype%3A%20object%3C/div%3E%60%29%5B0%5D%3B%0A%20%20%20%20%20%20%20%20%20%20%20%20popup_f9c8f04a2e364467be537ed6f13ca1f7.setContent%28html_db95298d56884bbbb8bead97e01bc365%29%3B%0A%20%20%20%20%20%20%20%20%0A%0A%20%20%20%20%20%20%20%20marker_c1ac465f1df2416a8ae56892281e7167.bindPopup%28popup_f9c8f04a2e364467be537ed6f13ca1f7%29%0A%20%20%20%20%20%20%20%20%3B%0A%0A%20%20%20%20%20%20%20%20%0A%20%20%20%20%0A%20%20%20%20%0A%20%20%20%20%20%20%20%20%20%20%20%20var%20marker_cd6843be918547d996cc62a04f6dc6bb%20%3D%20L.marker%28%0A%20%20%20%20%20%20%20%20%20%20%20%20%20%20%20%20%5B35.034348%2C%20-85.270447%5D%2C%0A%20%20%20%20%20%20%20%20%20%20%20%20%20%20%20%20%7B%7D%0A%20%20%20%20%20%20%20%20%20%20%20%20%29.addTo%28map_47fad1f26de4429684037b84e7d95d76%29%3B%0A%20%20%20%20%20%20%20%20%0A%20%20%20%20%0A%20%20%20%20%20%20%20%20var%20popup_2dd5e1da8de44247a2a506d41c6e2fd7%20%3D%20L.popup%28%7B%22maxWidth%22%3A%20%22100%25%22%7D%29%3B%0A%0A%20%20%20%20%20%20%20%20%0A%20%20%20%20%20%20%20%20%20%20%20%20var%20html_8a30c6c2a32f4e1fab10b119cabba059%20%3D%20%24%28%60%3Cdiv%20id%3D%22html_8a30c6c2a32f4e1fab10b119cabba059%22%20style%3D%22width%3A%20100.0%25%3B%20height%3A%20100.0%25%3B%22%3E0%20%20%20%20%20%20%20%20971%201%20%20%20%20%20%20%20%20146%202%20%20%20%20%20%20%201545%203%20%20%20%20%20%20%20%20972%204%20%20%20%20%20%20%20%20%2081%20%20%20%20%20%20%20%20%20...%20%201195%20%20%20%202131%201196%20%20%20%202274%201197%20%20%20%202275%201198%20%20%20%202276%201199%20%20%20%202277%20Name%3A%20stop_id%2C%20Length%3A%201200%2C%20dtype%3A%20object%3C/div%3E%60%29%5B0%5D%3B%0A%20%20%20%20%20%20%20%20%20%20%20%20popup_2dd5e1da8de44247a2a506d41c6e2fd7.setContent%28html_8a30c6c2a32f4e1fab10b119cabba059%29%3B%0A%20%20%20%20%20%20%20%20%0A%0A%20%20%20%20%20%20%20%20marker_cd6843be918547d996cc62a04f6dc6bb.bindPopup%28popup_2dd5e1da8de44247a2a506d41c6e2fd7%29%0A%20%20%20%20%20%20%20%20%3B%0A%0A%20%20%20%20%20%20%20%20%0A%20%20%20%20%0A%20%20%20%20%0A%20%20%20%20%20%20%20%20%20%20%20%20var%20marker_30ebd8a3680846548a47b728dbadefac%20%3D%20L.marker%28%0A%20%20%20%20%20%20%20%20%20%20%20%20%20%20%20%20%5B35.033955%2C%20-85.269207%5D%2C%0A%20%20%20%20%20%20%20%20%20%20%20%20%20%20%20%20%7B%7D%0A%20%20%20%20%20%20%20%20%20%20%20%20%29.addTo%28map_47fad1f26de4429684037b84e7d95d76%29%3B%0A%20%20%20%20%20%20%20%20%0A%20%20%20%20%0A%20%20%20%20%20%20%20%20var%20popup_92c15d51eb5a48efa259206139558760%20%3D%20L.popup%28%7B%22maxWidth%22%3A%20%22100%25%22%7D%29%3B%0A%0A%20%20%20%20%20%20%20%20%0A%20%20%20%20%20%20%20%20%20%20%20%20var%20html_1a39556c72be4b2dba9313dcaa0e11bb%20%3D%20%24%28%60%3Cdiv%20id%3D%22html_1a39556c72be4b2dba9313dcaa0e11bb%22%20style%3D%22width%3A%20100.0%25%3B%20height%3A%20100.0%25%3B%22%3E0%20%20%20%20%20%20%20%20971%201%20%20%20%20%20%20%20%20146%202%20%20%20%20%20%20%201545%203%20%20%20%20%20%20%20%20972%204%20%20%20%20%20%20%20%20%2081%20%20%20%20%20%20%20%20%20...%20%201195%20%20%20%202131%201196%20%20%20%202274%201197%20%20%20%202275%201198%20%20%20%202276%201199%20%20%20%202277%20Name%3A%20stop_id%2C%20Length%3A%201200%2C%20dtype%3A%20object%3C/div%3E%60%29%5B0%5D%3B%0A%20%20%20%20%20%20%20%20%20%20%20%20popup_92c15d51eb5a48efa259206139558760.setContent%28html_1a39556c72be4b2dba9313dcaa0e11bb%29%3B%0A%20%20%20%20%20%20%20%20%0A%0A%20%20%20%20%20%20%20%20marker_30ebd8a3680846548a47b728dbadefac.bindPopup%28popup_92c15d51eb5a48efa259206139558760%29%0A%20%20%20%20%20%20%20%20%3B%0A%0A%20%20%20%20%20%20%20%20%0A%20%20%20%20%0A%20%20%20%20%0A%20%20%20%20%20%20%20%20%20%20%20%20var%20marker_396a318160a34ee9b0d4e58244afd0d2%20%3D%20L.marker%28%0A%20%20%20%20%20%20%20%20%20%20%20%20%20%20%20%20%5B35.033597%2C%20-85.26846%5D%2C%0A%20%20%20%20%20%20%20%20%20%20%20%20%20%20%20%20%7B%7D%0A%20%20%20%20%20%20%20%20%20%20%20%20%29.addTo%28map_47fad1f26de4429684037b84e7d95d76%29%3B%0A%20%20%20%20%20%20%20%20%0A%20%20%20%20%0A%20%20%20%20%20%20%20%20var%20popup_faf79b76d51f42e8a9f58b0c78a74baf%20%3D%20L.popup%28%7B%22maxWidth%22%3A%20%22100%25%22%7D%29%3B%0A%0A%20%20%20%20%20%20%20%20%0A%20%20%20%20%20%20%20%20%20%20%20%20var%20html_231ea7b321ec48a0a9d6bbefa05524d0%20%3D%20%24%28%60%3Cdiv%20id%3D%22html_231ea7b321ec48a0a9d6bbefa05524d0%22%20style%3D%22width%3A%20100.0%25%3B%20height%3A%20100.0%25%3B%22%3E0%20%20%20%20%20%20%20%20971%201%20%20%20%20%20%20%20%20146%202%20%20%20%20%20%20%201545%203%20%20%20%20%20%20%20%20972%204%20%20%20%20%20%20%20%20%2081%20%20%20%20%20%20%20%20%20...%20%201195%20%20%20%202131%201196%20%20%20%202274%201197%20%20%20%202275%201198%20%20%20%202276%201199%20%20%20%202277%20Name%3A%20stop_id%2C%20Length%3A%201200%2C%20dtype%3A%20object%3C/div%3E%60%29%5B0%5D%3B%0A%20%20%20%20%20%20%20%20%20%20%20%20popup_faf79b76d51f42e8a9f58b0c78a74baf.setContent%28html_231ea7b321ec48a0a9d6bbefa05524d0%29%3B%0A%20%20%20%20%20%20%20%20%0A%0A%20%20%20%20%20%20%20%20marker_396a318160a34ee9b0d4e58244afd0d2.bindPopup%28popup_faf79b76d51f42e8a9f58b0c78a74baf%29%0A%20%20%20%20%20%20%20%20%3B%0A%0A%20%20%20%20%20%20%20%20%0A%20%20%20%20%0A%20%20%20%20%0A%20%20%20%20%20%20%20%20%20%20%20%20var%20marker_cfc081d975b74b20ba1c86128fc9d68e%20%3D%20L.marker%28%0A%20%20%20%20%20%20%20%20%20%20%20%20%20%20%20%20%5B34.997878%2C%20-85.31166%5D%2C%0A%20%20%20%20%20%20%20%20%20%20%20%20%20%20%20%20%7B%7D%0A%20%20%20%20%20%20%20%20%20%20%20%20%29.addTo%28map_47fad1f26de4429684037b84e7d95d76%29%3B%0A%20%20%20%20%20%20%20%20%0A%20%20%20%20%0A%20%20%20%20%20%20%20%20var%20popup_971b9087b5e14bd2bcf33105ebe4a446%20%3D%20L.popup%28%7B%22maxWidth%22%3A%20%22100%25%22%7D%29%3B%0A%0A%20%20%20%20%20%20%20%20%0A%20%20%20%20%20%20%20%20%20%20%20%20var%20html_10cd8d3d13134d9e91f11a858382b172%20%3D%20%24%28%60%3Cdiv%20id%3D%22html_10cd8d3d13134d9e91f11a858382b172%22%20style%3D%22width%3A%20100.0%25%3B%20height%3A%20100.0%25%3B%22%3E0%20%20%20%20%20%20%20%20971%201%20%20%20%20%20%20%20%20146%202%20%20%20%20%20%20%201545%203%20%20%20%20%20%20%20%20972%204%20%20%20%20%20%20%20%20%2081%20%20%20%20%20%20%20%20%20...%20%201195%20%20%20%202131%201196%20%20%20%202274%201197%20%20%20%202275%201198%20%20%20%202276%201199%20%20%20%202277%20Name%3A%20stop_id%2C%20Length%3A%201200%2C%20dtype%3A%20object%3C/div%3E%60%29%5B0%5D%3B%0A%20%20%20%20%20%20%20%20%20%20%20%20popup_971b9087b5e14bd2bcf33105ebe4a446.setContent%28html_10cd8d3d13134d9e91f11a858382b172%29%3B%0A%20%20%20%20%20%20%20%20%0A%0A%20%20%20%20%20%20%20%20marker_cfc081d975b74b20ba1c86128fc9d68e.bindPopup%28popup_971b9087b5e14bd2bcf33105ebe4a446%29%0A%20%20%20%20%20%20%20%20%3B%0A%0A%20%20%20%20%20%20%20%20%0A%20%20%20%20%0A%20%20%20%20%0A%20%20%20%20%20%20%20%20%20%20%20%20var%20marker_9e5decdd8ee843e5b54b33f0d4f94131%20%3D%20L.marker%28%0A%20%20%20%20%20%20%20%20%20%20%20%20%20%20%20%20%5B34.998288%2C%20-85.312742%5D%2C%0A%20%20%20%20%20%20%20%20%20%20%20%20%20%20%20%20%7B%7D%0A%20%20%20%20%20%20%20%20%20%20%20%20%29.addTo%28map_47fad1f26de4429684037b84e7d95d76%29%3B%0A%20%20%20%20%20%20%20%20%0A%20%20%20%20%0A%20%20%20%20%20%20%20%20var%20popup_549188579e4a4d7f8166f6a82aacb286%20%3D%20L.popup%28%7B%22maxWidth%22%3A%20%22100%25%22%7D%29%3B%0A%0A%20%20%20%20%20%20%20%20%0A%20%20%20%20%20%20%20%20%20%20%20%20var%20html_69dbbdb0d0b94a31b7fb62ebe3e18a10%20%3D%20%24%28%60%3Cdiv%20id%3D%22html_69dbbdb0d0b94a31b7fb62ebe3e18a10%22%20style%3D%22width%3A%20100.0%25%3B%20height%3A%20100.0%25%3B%22%3E0%20%20%20%20%20%20%20%20971%201%20%20%20%20%20%20%20%20146%202%20%20%20%20%20%20%201545%203%20%20%20%20%20%20%20%20972%204%20%20%20%20%20%20%20%20%2081%20%20%20%20%20%20%20%20%20...%20%201195%20%20%20%202131%201196%20%20%20%202274%201197%20%20%20%202275%201198%20%20%20%202276%201199%20%20%20%202277%20Name%3A%20stop_id%2C%20Length%3A%201200%2C%20dtype%3A%20object%3C/div%3E%60%29%5B0%5D%3B%0A%20%20%20%20%20%20%20%20%20%20%20%20popup_549188579e4a4d7f8166f6a82aacb286.setContent%28html_69dbbdb0d0b94a31b7fb62ebe3e18a10%29%3B%0A%20%20%20%20%20%20%20%20%0A%0A%20%20%20%20%20%20%20%20marker_9e5decdd8ee843e5b54b33f0d4f94131.bindPopup%28popup_549188579e4a4d7f8166f6a82aacb286%29%0A%20%20%20%20%20%20%20%20%3B%0A%0A%20%20%20%20%20%20%20%20%0A%20%20%20%20%0A%20%20%20%20%0A%20%20%20%20%20%20%20%20%20%20%20%20var%20marker_0250123ce8564633bd64626fe8a7cb2c%20%3D%20L.marker%28%0A%20%20%20%20%20%20%20%20%20%20%20%20%20%20%20%20%5B35.034793%2C%20-85.271653%5D%2C%0A%20%20%20%20%20%20%20%20%20%20%20%20%20%20%20%20%7B%7D%0A%20%20%20%20%20%20%20%20%20%20%20%20%29.addTo%28map_47fad1f26de4429684037b84e7d95d76%29%3B%0A%20%20%20%20%20%20%20%20%0A%20%20%20%20%0A%20%20%20%20%20%20%20%20var%20popup_9229710ca8124600bc5f037d2e2e60c3%20%3D%20L.popup%28%7B%22maxWidth%22%3A%20%22100%25%22%7D%29%3B%0A%0A%20%20%20%20%20%20%20%20%0A%20%20%20%20%20%20%20%20%20%20%20%20var%20html_6460ede1621c4036b6f07f9c68e7ff4e%20%3D%20%24%28%60%3Cdiv%20id%3D%22html_6460ede1621c4036b6f07f9c68e7ff4e%22%20style%3D%22width%3A%20100.0%25%3B%20height%3A%20100.0%25%3B%22%3E0%20%20%20%20%20%20%20%20971%201%20%20%20%20%20%20%20%20146%202%20%20%20%20%20%20%201545%203%20%20%20%20%20%20%20%20972%204%20%20%20%20%20%20%20%20%2081%20%20%20%20%20%20%20%20%20...%20%201195%20%20%20%202131%201196%20%20%20%202274%201197%20%20%20%202275%201198%20%20%20%202276%201199%20%20%20%202277%20Name%3A%20stop_id%2C%20Length%3A%201200%2C%20dtype%3A%20object%3C/div%3E%60%29%5B0%5D%3B%0A%20%20%20%20%20%20%20%20%20%20%20%20popup_9229710ca8124600bc5f037d2e2e60c3.setContent%28html_6460ede1621c4036b6f07f9c68e7ff4e%29%3B%0A%20%20%20%20%20%20%20%20%0A%0A%20%20%20%20%20%20%20%20marker_0250123ce8564633bd64626fe8a7cb2c.bindPopup%28popup_9229710ca8124600bc5f037d2e2e60c3%29%0A%20%20%20%20%20%20%20%20%3B%0A%0A%20%20%20%20%20%20%20%20%0A%20%20%20%20%0A%20%20%20%20%0A%20%20%20%20%20%20%20%20%20%20%20%20var%20marker_ba40b0d52e51404dbf74078f9934a9cd%20%3D%20L.marker%28%0A%20%20%20%20%20%20%20%20%20%20%20%20%20%20%20%20%5B35.036903%2C%20-85.277345%5D%2C%0A%20%20%20%20%20%20%20%20%20%20%20%20%20%20%20%20%7B%7D%0A%20%20%20%20%20%20%20%20%20%20%20%20%29.addTo%28map_47fad1f26de4429684037b84e7d95d76%29%3B%0A%20%20%20%20%20%20%20%20%0A%20%20%20%20%0A%20%20%20%20%20%20%20%20var%20popup_4c87505d765a443fb2cc9b14deca2abb%20%3D%20L.popup%28%7B%22maxWidth%22%3A%20%22100%25%22%7D%29%3B%0A%0A%20%20%20%20%20%20%20%20%0A%20%20%20%20%20%20%20%20%20%20%20%20var%20html_8cfbcf1fc09f484a99ce7009eb51d014%20%3D%20%24%28%60%3Cdiv%20id%3D%22html_8cfbcf1fc09f484a99ce7009eb51d014%22%20style%3D%22width%3A%20100.0%25%3B%20height%3A%20100.0%25%3B%22%3E0%20%20%20%20%20%20%20%20971%201%20%20%20%20%20%20%20%20146%202%20%20%20%20%20%20%201545%203%20%20%20%20%20%20%20%20972%204%20%20%20%20%20%20%20%20%2081%20%20%20%20%20%20%20%20%20...%20%201195%20%20%20%202131%201196%20%20%20%202274%201197%20%20%20%202275%201198%20%20%20%202276%201199%20%20%20%202277%20Name%3A%20stop_id%2C%20Length%3A%201200%2C%20dtype%3A%20object%3C/div%3E%60%29%5B0%5D%3B%0A%20%20%20%20%20%20%20%20%20%20%20%20popup_4c87505d765a443fb2cc9b14deca2abb.setContent%28html_8cfbcf1fc09f484a99ce7009eb51d014%29%3B%0A%20%20%20%20%20%20%20%20%0A%0A%20%20%20%20%20%20%20%20marker_ba40b0d52e51404dbf74078f9934a9cd.bindPopup%28popup_4c87505d765a443fb2cc9b14deca2abb%29%0A%20%20%20%20%20%20%20%20%3B%0A%0A%20%20%20%20%20%20%20%20%0A%20%20%20%20%0A%20%20%20%20%0A%20%20%20%20%20%20%20%20%20%20%20%20var%20marker_733fca61624744489e5cb518446d8dde%20%3D%20L.marker%28%0A%20%20%20%20%20%20%20%20%20%20%20%20%20%20%20%20%5B35.002018%2C%20-85.31244%5D%2C%0A%20%20%20%20%20%20%20%20%20%20%20%20%20%20%20%20%7B%7D%0A%20%20%20%20%20%20%20%20%20%20%20%20%29.addTo%28map_47fad1f26de4429684037b84e7d95d76%29%3B%0A%20%20%20%20%20%20%20%20%0A%20%20%20%20%0A%20%20%20%20%20%20%20%20var%20popup_b90b2679fc374992bbe6a6d3b90c6880%20%3D%20L.popup%28%7B%22maxWidth%22%3A%20%22100%25%22%7D%29%3B%0A%0A%20%20%20%20%20%20%20%20%0A%20%20%20%20%20%20%20%20%20%20%20%20var%20html_b9ca9dcbb4e248b8afe579813e278a84%20%3D%20%24%28%60%3Cdiv%20id%3D%22html_b9ca9dcbb4e248b8afe579813e278a84%22%20style%3D%22width%3A%20100.0%25%3B%20height%3A%20100.0%25%3B%22%3E0%20%20%20%20%20%20%20%20971%201%20%20%20%20%20%20%20%20146%202%20%20%20%20%20%20%201545%203%20%20%20%20%20%20%20%20972%204%20%20%20%20%20%20%20%20%2081%20%20%20%20%20%20%20%20%20...%20%201195%20%20%20%202131%201196%20%20%20%202274%201197%20%20%20%202275%201198%20%20%20%202276%201199%20%20%20%202277%20Name%3A%20stop_id%2C%20Length%3A%201200%2C%20dtype%3A%20object%3C/div%3E%60%29%5B0%5D%3B%0A%20%20%20%20%20%20%20%20%20%20%20%20popup_b90b2679fc374992bbe6a6d3b90c6880.setContent%28html_b9ca9dcbb4e248b8afe579813e278a84%29%3B%0A%20%20%20%20%20%20%20%20%0A%0A%20%20%20%20%20%20%20%20marker_733fca61624744489e5cb518446d8dde.bindPopup%28popup_b90b2679fc374992bbe6a6d3b90c6880%29%0A%20%20%20%20%20%20%20%20%3B%0A%0A%20%20%20%20%20%20%20%20%0A%20%20%20%20%0A%20%20%20%20%0A%20%20%20%20%20%20%20%20%20%20%20%20var%20marker_0917fa2e4705458f9a59ba478c9f9c9b%20%3D%20L.marker%28%0A%20%20%20%20%20%20%20%20%20%20%20%20%20%20%20%20%5B34.999948%2C%20-85.3136%5D%2C%0A%20%20%20%20%20%20%20%20%20%20%20%20%20%20%20%20%7B%7D%0A%20%20%20%20%20%20%20%20%20%20%20%20%29.addTo%28map_47fad1f26de4429684037b84e7d95d76%29%3B%0A%20%20%20%20%20%20%20%20%0A%20%20%20%20%0A%20%20%20%20%20%20%20%20var%20popup_d9edbd35537a4f7884aa9b103d2de6a1%20%3D%20L.popup%28%7B%22maxWidth%22%3A%20%22100%25%22%7D%29%3B%0A%0A%20%20%20%20%20%20%20%20%0A%20%20%20%20%20%20%20%20%20%20%20%20var%20html_1eddc19ac6514784a358bbb34c0021ff%20%3D%20%24%28%60%3Cdiv%20id%3D%22html_1eddc19ac6514784a358bbb34c0021ff%22%20style%3D%22width%3A%20100.0%25%3B%20height%3A%20100.0%25%3B%22%3E0%20%20%20%20%20%20%20%20971%201%20%20%20%20%20%20%20%20146%202%20%20%20%20%20%20%201545%203%20%20%20%20%20%20%20%20972%204%20%20%20%20%20%20%20%20%2081%20%20%20%20%20%20%20%20%20...%20%201195%20%20%20%202131%201196%20%20%20%202274%201197%20%20%20%202275%201198%20%20%20%202276%201199%20%20%20%202277%20Name%3A%20stop_id%2C%20Length%3A%201200%2C%20dtype%3A%20object%3C/div%3E%60%29%5B0%5D%3B%0A%20%20%20%20%20%20%20%20%20%20%20%20popup_d9edbd35537a4f7884aa9b103d2de6a1.setContent%28html_1eddc19ac6514784a358bbb34c0021ff%29%3B%0A%20%20%20%20%20%20%20%20%0A%0A%20%20%20%20%20%20%20%20marker_0917fa2e4705458f9a59ba478c9f9c9b.bindPopup%28popup_d9edbd35537a4f7884aa9b103d2de6a1%29%0A%20%20%20%20%20%20%20%20%3B%0A%0A%20%20%20%20%20%20%20%20%0A%20%20%20%20%0A%20%20%20%20%0A%20%20%20%20%20%20%20%20%20%20%20%20var%20marker_ca6169d0d915425fb4fb61a49acf9c62%20%3D%20L.marker%28%0A%20%20%20%20%20%20%20%20%20%20%20%20%20%20%20%20%5B34.998713%2C%20-85.314267%5D%2C%0A%20%20%20%20%20%20%20%20%20%20%20%20%20%20%20%20%7B%7D%0A%20%20%20%20%20%20%20%20%20%20%20%20%29.addTo%28map_47fad1f26de4429684037b84e7d95d76%29%3B%0A%20%20%20%20%20%20%20%20%0A%20%20%20%20%0A%20%20%20%20%20%20%20%20var%20popup_b32821bb49d34db29169ddab94e8c128%20%3D%20L.popup%28%7B%22maxWidth%22%3A%20%22100%25%22%7D%29%3B%0A%0A%20%20%20%20%20%20%20%20%0A%20%20%20%20%20%20%20%20%20%20%20%20var%20html_277eca0470c44778b3ba536269a55e6f%20%3D%20%24%28%60%3Cdiv%20id%3D%22html_277eca0470c44778b3ba536269a55e6f%22%20style%3D%22width%3A%20100.0%25%3B%20height%3A%20100.0%25%3B%22%3E0%20%20%20%20%20%20%20%20971%201%20%20%20%20%20%20%20%20146%202%20%20%20%20%20%20%201545%203%20%20%20%20%20%20%20%20972%204%20%20%20%20%20%20%20%20%2081%20%20%20%20%20%20%20%20%20...%20%201195%20%20%20%202131%201196%20%20%20%202274%201197%20%20%20%202275%201198%20%20%20%202276%201199%20%20%20%202277%20Name%3A%20stop_id%2C%20Length%3A%201200%2C%20dtype%3A%20object%3C/div%3E%60%29%5B0%5D%3B%0A%20%20%20%20%20%20%20%20%20%20%20%20popup_b32821bb49d34db29169ddab94e8c128.setContent%28html_277eca0470c44778b3ba536269a55e6f%29%3B%0A%20%20%20%20%20%20%20%20%0A%0A%20%20%20%20%20%20%20%20marker_ca6169d0d915425fb4fb61a49acf9c62.bindPopup%28popup_b32821bb49d34db29169ddab94e8c128%29%0A%20%20%20%20%20%20%20%20%3B%0A%0A%20%20%20%20%20%20%20%20%0A%20%20%20%20%0A%20%20%20%20%0A%20%20%20%20%20%20%20%20%20%20%20%20var%20marker_012e3429496548a49653958f992c9cb0%20%3D%20L.marker%28%0A%20%20%20%20%20%20%20%20%20%20%20%20%20%20%20%20%5B35.037412%2C%20-85.278712%5D%2C%0A%20%20%20%20%20%20%20%20%20%20%20%20%20%20%20%20%7B%7D%0A%20%20%20%20%20%20%20%20%20%20%20%20%29.addTo%28map_47fad1f26de4429684037b84e7d95d76%29%3B%0A%20%20%20%20%20%20%20%20%0A%20%20%20%20%0A%20%20%20%20%20%20%20%20var%20popup_961a81bd3a1841df9f887641ceb06cbe%20%3D%20L.popup%28%7B%22maxWidth%22%3A%20%22100%25%22%7D%29%3B%0A%0A%20%20%20%20%20%20%20%20%0A%20%20%20%20%20%20%20%20%20%20%20%20var%20html_60060fd351d842e2b170c18b0153e4ea%20%3D%20%24%28%60%3Cdiv%20id%3D%22html_60060fd351d842e2b170c18b0153e4ea%22%20style%3D%22width%3A%20100.0%25%3B%20height%3A%20100.0%25%3B%22%3E0%20%20%20%20%20%20%20%20971%201%20%20%20%20%20%20%20%20146%202%20%20%20%20%20%20%201545%203%20%20%20%20%20%20%20%20972%204%20%20%20%20%20%20%20%20%2081%20%20%20%20%20%20%20%20%20...%20%201195%20%20%20%202131%201196%20%20%20%202274%201197%20%20%20%202275%201198%20%20%20%202276%201199%20%20%20%202277%20Name%3A%20stop_id%2C%20Length%3A%201200%2C%20dtype%3A%20object%3C/div%3E%60%29%5B0%5D%3B%0A%20%20%20%20%20%20%20%20%20%20%20%20popup_961a81bd3a1841df9f887641ceb06cbe.setContent%28html_60060fd351d842e2b170c18b0153e4ea%29%3B%0A%20%20%20%20%20%20%20%20%0A%0A%20%20%20%20%20%20%20%20marker_012e3429496548a49653958f992c9cb0.bindPopup%28popup_961a81bd3a1841df9f887641ceb06cbe%29%0A%20%20%20%20%20%20%20%20%3B%0A%0A%20%20%20%20%20%20%20%20%0A%20%20%20%20%0A%20%20%20%20%0A%20%20%20%20%20%20%20%20%20%20%20%20var%20marker_2be8932e2bb14c848cc2a496e16c43a0%20%3D%20L.marker%28%0A%20%20%20%20%20%20%20%20%20%20%20%20%20%20%20%20%5B35.03639%2C%20-85.275962%5D%2C%0A%20%20%20%20%20%20%20%20%20%20%20%20%20%20%20%20%7B%7D%0A%20%20%20%20%20%20%20%20%20%20%20%20%29.addTo%28map_47fad1f26de4429684037b84e7d95d76%29%3B%0A%20%20%20%20%20%20%20%20%0A%20%20%20%20%0A%20%20%20%20%20%20%20%20var%20popup_4bcb2c90bf0f41e1ba8732f8024846a9%20%3D%20L.popup%28%7B%22maxWidth%22%3A%20%22100%25%22%7D%29%3B%0A%0A%20%20%20%20%20%20%20%20%0A%20%20%20%20%20%20%20%20%20%20%20%20var%20html_8ca03741eac042da9b7ff1d1a4c4bf52%20%3D%20%24%28%60%3Cdiv%20id%3D%22html_8ca03741eac042da9b7ff1d1a4c4bf52%22%20style%3D%22width%3A%20100.0%25%3B%20height%3A%20100.0%25%3B%22%3E0%20%20%20%20%20%20%20%20971%201%20%20%20%20%20%20%20%20146%202%20%20%20%20%20%20%201545%203%20%20%20%20%20%20%20%20972%204%20%20%20%20%20%20%20%20%2081%20%20%20%20%20%20%20%20%20...%20%201195%20%20%20%202131%201196%20%20%20%202274%201197%20%20%20%202275%201198%20%20%20%202276%201199%20%20%20%202277%20Name%3A%20stop_id%2C%20Length%3A%201200%2C%20dtype%3A%20object%3C/div%3E%60%29%5B0%5D%3B%0A%20%20%20%20%20%20%20%20%20%20%20%20popup_4bcb2c90bf0f41e1ba8732f8024846a9.setContent%28html_8ca03741eac042da9b7ff1d1a4c4bf52%29%3B%0A%20%20%20%20%20%20%20%20%0A%0A%20%20%20%20%20%20%20%20marker_2be8932e2bb14c848cc2a496e16c43a0.bindPopup%28popup_4bcb2c90bf0f41e1ba8732f8024846a9%29%0A%20%20%20%20%20%20%20%20%3B%0A%0A%20%20%20%20%20%20%20%20%0A%20%20%20%20%0A%20%20%20%20%0A%20%20%20%20%20%20%20%20%20%20%20%20var%20marker_245f34e07b224a49bb1fc9a038dc88ec%20%3D%20L.marker%28%0A%20%20%20%20%20%20%20%20%20%20%20%20%20%20%20%20%5B35.03583%2C%20-85.274435%5D%2C%0A%20%20%20%20%20%20%20%20%20%20%20%20%20%20%20%20%7B%7D%0A%20%20%20%20%20%20%20%20%20%20%20%20%29.addTo%28map_47fad1f26de4429684037b84e7d95d76%29%3B%0A%20%20%20%20%20%20%20%20%0A%20%20%20%20%0A%20%20%20%20%20%20%20%20var%20popup_52193e423f5e405b820735046b10d66b%20%3D%20L.popup%28%7B%22maxWidth%22%3A%20%22100%25%22%7D%29%3B%0A%0A%20%20%20%20%20%20%20%20%0A%20%20%20%20%20%20%20%20%20%20%20%20var%20html_e8595c1fce154c1bb26f2a621ea7f6e4%20%3D%20%24%28%60%3Cdiv%20id%3D%22html_e8595c1fce154c1bb26f2a621ea7f6e4%22%20style%3D%22width%3A%20100.0%25%3B%20height%3A%20100.0%25%3B%22%3E0%20%20%20%20%20%20%20%20971%201%20%20%20%20%20%20%20%20146%202%20%20%20%20%20%20%201545%203%20%20%20%20%20%20%20%20972%204%20%20%20%20%20%20%20%20%2081%20%20%20%20%20%20%20%20%20...%20%201195%20%20%20%202131%201196%20%20%20%202274%201197%20%20%20%202275%201198%20%20%20%202276%201199%20%20%20%202277%20Name%3A%20stop_id%2C%20Length%3A%201200%2C%20dtype%3A%20object%3C/div%3E%60%29%5B0%5D%3B%0A%20%20%20%20%20%20%20%20%20%20%20%20popup_52193e423f5e405b820735046b10d66b.setContent%28html_e8595c1fce154c1bb26f2a621ea7f6e4%29%3B%0A%20%20%20%20%20%20%20%20%0A%0A%20%20%20%20%20%20%20%20marker_245f34e07b224a49bb1fc9a038dc88ec.bindPopup%28popup_52193e423f5e405b820735046b10d66b%29%0A%20%20%20%20%20%20%20%20%3B%0A%0A%20%20%20%20%20%20%20%20%0A%20%20%20%20%0A%20%20%20%20%0A%20%20%20%20%20%20%20%20%20%20%20%20var%20marker_d6ff32e449c942cb8cb6af2bef0900ef%20%3D%20L.marker%28%0A%20%20%20%20%20%20%20%20%20%20%20%20%20%20%20%20%5B35.03535%2C%20-85.273117%5D%2C%0A%20%20%20%20%20%20%20%20%20%20%20%20%20%20%20%20%7B%7D%0A%20%20%20%20%20%20%20%20%20%20%20%20%29.addTo%28map_47fad1f26de4429684037b84e7d95d76%29%3B%0A%20%20%20%20%20%20%20%20%0A%20%20%20%20%0A%20%20%20%20%20%20%20%20var%20popup_3f917721496f45e7811d9032e02836da%20%3D%20L.popup%28%7B%22maxWidth%22%3A%20%22100%25%22%7D%29%3B%0A%0A%20%20%20%20%20%20%20%20%0A%20%20%20%20%20%20%20%20%20%20%20%20var%20html_c369ea7f1b3b41bd9170f753eb7f152e%20%3D%20%24%28%60%3Cdiv%20id%3D%22html_c369ea7f1b3b41bd9170f753eb7f152e%22%20style%3D%22width%3A%20100.0%25%3B%20height%3A%20100.0%25%3B%22%3E0%20%20%20%20%20%20%20%20971%201%20%20%20%20%20%20%20%20146%202%20%20%20%20%20%20%201545%203%20%20%20%20%20%20%20%20972%204%20%20%20%20%20%20%20%20%2081%20%20%20%20%20%20%20%20%20...%20%201195%20%20%20%202131%201196%20%20%20%202274%201197%20%20%20%202275%201198%20%20%20%202276%201199%20%20%20%202277%20Name%3A%20stop_id%2C%20Length%3A%201200%2C%20dtype%3A%20object%3C/div%3E%60%29%5B0%5D%3B%0A%20%20%20%20%20%20%20%20%20%20%20%20popup_3f917721496f45e7811d9032e02836da.setContent%28html_c369ea7f1b3b41bd9170f753eb7f152e%29%3B%0A%20%20%20%20%20%20%20%20%0A%0A%20%20%20%20%20%20%20%20marker_d6ff32e449c942cb8cb6af2bef0900ef.bindPopup%28popup_3f917721496f45e7811d9032e02836da%29%0A%20%20%20%20%20%20%20%20%3B%0A%0A%20%20%20%20%20%20%20%20%0A%20%20%20%20%0A%20%20%20%20%0A%20%20%20%20%20%20%20%20%20%20%20%20var%20marker_9f9ac54f59ec4e20864f203bb828b067%20%3D%20L.marker%28%0A%20%20%20%20%20%20%20%20%20%20%20%20%20%20%20%20%5B35.039625%2C%20-85.284623%5D%2C%0A%20%20%20%20%20%20%20%20%20%20%20%20%20%20%20%20%7B%7D%0A%20%20%20%20%20%20%20%20%20%20%20%20%29.addTo%28map_47fad1f26de4429684037b84e7d95d76%29%3B%0A%20%20%20%20%20%20%20%20%0A%20%20%20%20%0A%20%20%20%20%20%20%20%20var%20popup_bc8b5a2e224e42a48b49697837fd31fa%20%3D%20L.popup%28%7B%22maxWidth%22%3A%20%22100%25%22%7D%29%3B%0A%0A%20%20%20%20%20%20%20%20%0A%20%20%20%20%20%20%20%20%20%20%20%20var%20html_aa00095d4a854fb7be33fa0a96d4fce6%20%3D%20%24%28%60%3Cdiv%20id%3D%22html_aa00095d4a854fb7be33fa0a96d4fce6%22%20style%3D%22width%3A%20100.0%25%3B%20height%3A%20100.0%25%3B%22%3E0%20%20%20%20%20%20%20%20971%201%20%20%20%20%20%20%20%20146%202%20%20%20%20%20%20%201545%203%20%20%20%20%20%20%20%20972%204%20%20%20%20%20%20%20%20%2081%20%20%20%20%20%20%20%20%20...%20%201195%20%20%20%202131%201196%20%20%20%202274%201197%20%20%20%202275%201198%20%20%20%202276%201199%20%20%20%202277%20Name%3A%20stop_id%2C%20Length%3A%201200%2C%20dtype%3A%20object%3C/div%3E%60%29%5B0%5D%3B%0A%20%20%20%20%20%20%20%20%20%20%20%20popup_bc8b5a2e224e42a48b49697837fd31fa.setContent%28html_aa00095d4a854fb7be33fa0a96d4fce6%29%3B%0A%20%20%20%20%20%20%20%20%0A%0A%20%20%20%20%20%20%20%20marker_9f9ac54f59ec4e20864f203bb828b067.bindPopup%28popup_bc8b5a2e224e42a48b49697837fd31fa%29%0A%20%20%20%20%20%20%20%20%3B%0A%0A%20%20%20%20%20%20%20%20%0A%20%20%20%20%0A%20%20%20%20%0A%20%20%20%20%20%20%20%20%20%20%20%20var%20marker_6e00022adacd4c3ea55b591f8bb0612d%20%3D%20L.marker%28%0A%20%20%20%20%20%20%20%20%20%20%20%20%20%20%20%20%5B35.03885%2C%20-85.282605%5D%2C%0A%20%20%20%20%20%20%20%20%20%20%20%20%20%20%20%20%7B%7D%0A%20%20%20%20%20%20%20%20%20%20%20%20%29.addTo%28map_47fad1f26de4429684037b84e7d95d76%29%3B%0A%20%20%20%20%20%20%20%20%0A%20%20%20%20%0A%20%20%20%20%20%20%20%20var%20popup_ccc8d07d14a046a78606dec3f2f58e2d%20%3D%20L.popup%28%7B%22maxWidth%22%3A%20%22100%25%22%7D%29%3B%0A%0A%20%20%20%20%20%20%20%20%0A%20%20%20%20%20%20%20%20%20%20%20%20var%20html_bb5408ef9b904e89b64e029edb70cb0a%20%3D%20%24%28%60%3Cdiv%20id%3D%22html_bb5408ef9b904e89b64e029edb70cb0a%22%20style%3D%22width%3A%20100.0%25%3B%20height%3A%20100.0%25%3B%22%3E0%20%20%20%20%20%20%20%20971%201%20%20%20%20%20%20%20%20146%202%20%20%20%20%20%20%201545%203%20%20%20%20%20%20%20%20972%204%20%20%20%20%20%20%20%20%2081%20%20%20%20%20%20%20%20%20...%20%201195%20%20%20%202131%201196%20%20%20%202274%201197%20%20%20%202275%201198%20%20%20%202276%201199%20%20%20%202277%20Name%3A%20stop_id%2C%20Length%3A%201200%2C%20dtype%3A%20object%3C/div%3E%60%29%5B0%5D%3B%0A%20%20%20%20%20%20%20%20%20%20%20%20popup_ccc8d07d14a046a78606dec3f2f58e2d.setContent%28html_bb5408ef9b904e89b64e029edb70cb0a%29%3B%0A%20%20%20%20%20%20%20%20%0A%0A%20%20%20%20%20%20%20%20marker_6e00022adacd4c3ea55b591f8bb0612d.bindPopup%28popup_ccc8d07d14a046a78606dec3f2f58e2d%29%0A%20%20%20%20%20%20%20%20%3B%0A%0A%20%20%20%20%20%20%20%20%0A%20%20%20%20%0A%20%20%20%20%0A%20%20%20%20%20%20%20%20%20%20%20%20var%20marker_90c8c125f17e465f94062b90b99e3e9a%20%3D%20L.marker%28%0A%20%20%20%20%20%20%20%20%20%20%20%20%20%20%20%20%5B35.038365%2C%20-85.281287%5D%2C%0A%20%20%20%20%20%20%20%20%20%20%20%20%20%20%20%20%7B%7D%0A%20%20%20%20%20%20%20%20%20%20%20%20%29.addTo%28map_47fad1f26de4429684037b84e7d95d76%29%3B%0A%20%20%20%20%20%20%20%20%0A%20%20%20%20%0A%20%20%20%20%20%20%20%20var%20popup_30d46c06bcb540aeb1c39ed2bf2d8338%20%3D%20L.popup%28%7B%22maxWidth%22%3A%20%22100%25%22%7D%29%3B%0A%0A%20%20%20%20%20%20%20%20%0A%20%20%20%20%20%20%20%20%20%20%20%20var%20html_97254c63877a4fec9d2a5bd16b7210a1%20%3D%20%24%28%60%3Cdiv%20id%3D%22html_97254c63877a4fec9d2a5bd16b7210a1%22%20style%3D%22width%3A%20100.0%25%3B%20height%3A%20100.0%25%3B%22%3E0%20%20%20%20%20%20%20%20971%201%20%20%20%20%20%20%20%20146%202%20%20%20%20%20%20%201545%203%20%20%20%20%20%20%20%20972%204%20%20%20%20%20%20%20%20%2081%20%20%20%20%20%20%20%20%20...%20%201195%20%20%20%202131%201196%20%20%20%202274%201197%20%20%20%202275%201198%20%20%20%202276%201199%20%20%20%202277%20Name%3A%20stop_id%2C%20Length%3A%201200%2C%20dtype%3A%20object%3C/div%3E%60%29%5B0%5D%3B%0A%20%20%20%20%20%20%20%20%20%20%20%20popup_30d46c06bcb540aeb1c39ed2bf2d8338.setContent%28html_97254c63877a4fec9d2a5bd16b7210a1%29%3B%0A%20%20%20%20%20%20%20%20%0A%0A%20%20%20%20%20%20%20%20marker_90c8c125f17e465f94062b90b99e3e9a.bindPopup%28popup_30d46c06bcb540aeb1c39ed2bf2d8338%29%0A%20%20%20%20%20%20%20%20%3B%0A%0A%20%20%20%20%20%20%20%20%0A%20%20%20%20%0A%20%20%20%20%0A%20%20%20%20%20%20%20%20%20%20%20%20var%20marker_de998696cb524f88bdec7011b7a0d09b%20%3D%20L.marker%28%0A%20%20%20%20%20%20%20%20%20%20%20%20%20%20%20%20%5B35.037925%2C%20-85.28011%5D%2C%0A%20%20%20%20%20%20%20%20%20%20%20%20%20%20%20%20%7B%7D%0A%20%20%20%20%20%20%20%20%20%20%20%20%29.addTo%28map_47fad1f26de4429684037b84e7d95d76%29%3B%0A%20%20%20%20%20%20%20%20%0A%20%20%20%20%0A%20%20%20%20%20%20%20%20var%20popup_d190b1bf45474e94b08c4da05ed1b3cd%20%3D%20L.popup%28%7B%22maxWidth%22%3A%20%22100%25%22%7D%29%3B%0A%0A%20%20%20%20%20%20%20%20%0A%20%20%20%20%20%20%20%20%20%20%20%20var%20html_5095256cd81b45509e90779db48480c0%20%3D%20%24%28%60%3Cdiv%20id%3D%22html_5095256cd81b45509e90779db48480c0%22%20style%3D%22width%3A%20100.0%25%3B%20height%3A%20100.0%25%3B%22%3E0%20%20%20%20%20%20%20%20971%201%20%20%20%20%20%20%20%20146%202%20%20%20%20%20%20%201545%203%20%20%20%20%20%20%20%20972%204%20%20%20%20%20%20%20%20%2081%20%20%20%20%20%20%20%20%20...%20%201195%20%20%20%202131%201196%20%20%20%202274%201197%20%20%20%202275%201198%20%20%20%202276%201199%20%20%20%202277%20Name%3A%20stop_id%2C%20Length%3A%201200%2C%20dtype%3A%20object%3C/div%3E%60%29%5B0%5D%3B%0A%20%20%20%20%20%20%20%20%20%20%20%20popup_d190b1bf45474e94b08c4da05ed1b3cd.setContent%28html_5095256cd81b45509e90779db48480c0%29%3B%0A%20%20%20%20%20%20%20%20%0A%0A%20%20%20%20%20%20%20%20marker_de998696cb524f88bdec7011b7a0d09b.bindPopup%28popup_d190b1bf45474e94b08c4da05ed1b3cd%29%0A%20%20%20%20%20%20%20%20%3B%0A%0A%20%20%20%20%20%20%20%20%0A%20%20%20%20%0A%20%20%20%20%0A%20%20%20%20%20%20%20%20%20%20%20%20var%20marker_c7558c42bba4481e9bd45f37f23d8fa2%20%3D%20L.marker%28%0A%20%20%20%20%20%20%20%20%20%20%20%20%20%20%20%20%5B35.005313%2C%20-85.310675%5D%2C%0A%20%20%20%20%20%20%20%20%20%20%20%20%20%20%20%20%7B%7D%0A%20%20%20%20%20%20%20%20%20%20%20%20%29.addTo%28map_47fad1f26de4429684037b84e7d95d76%29%3B%0A%20%20%20%20%20%20%20%20%0A%20%20%20%20%0A%20%20%20%20%20%20%20%20var%20popup_92db641190a449a58ba701528ee4d737%20%3D%20L.popup%28%7B%22maxWidth%22%3A%20%22100%25%22%7D%29%3B%0A%0A%20%20%20%20%20%20%20%20%0A%20%20%20%20%20%20%20%20%20%20%20%20var%20html_040d7b96891140cba890ede1ca88e4d4%20%3D%20%24%28%60%3Cdiv%20id%3D%22html_040d7b96891140cba890ede1ca88e4d4%22%20style%3D%22width%3A%20100.0%25%3B%20height%3A%20100.0%25%3B%22%3E0%20%20%20%20%20%20%20%20971%201%20%20%20%20%20%20%20%20146%202%20%20%20%20%20%20%201545%203%20%20%20%20%20%20%20%20972%204%20%20%20%20%20%20%20%20%2081%20%20%20%20%20%20%20%20%20...%20%201195%20%20%20%202131%201196%20%20%20%202274%201197%20%20%20%202275%201198%20%20%20%202276%201199%20%20%20%202277%20Name%3A%20stop_id%2C%20Length%3A%201200%2C%20dtype%3A%20object%3C/div%3E%60%29%5B0%5D%3B%0A%20%20%20%20%20%20%20%20%20%20%20%20popup_92db641190a449a58ba701528ee4d737.setContent%28html_040d7b96891140cba890ede1ca88e4d4%29%3B%0A%20%20%20%20%20%20%20%20%0A%0A%20%20%20%20%20%20%20%20marker_c7558c42bba4481e9bd45f37f23d8fa2.bindPopup%28popup_92db641190a449a58ba701528ee4d737%29%0A%20%20%20%20%20%20%20%20%3B%0A%0A%20%20%20%20%20%20%20%20%0A%20%20%20%20%0A%20%20%20%20%0A%20%20%20%20%20%20%20%20%20%20%20%20var%20marker_8c8510848ff2486f99fab7ff08ddf71a%20%3D%20L.marker%28%0A%20%20%20%20%20%20%20%20%20%20%20%20%20%20%20%20%5B35.003795%2C%20-85.311487%5D%2C%0A%20%20%20%20%20%20%20%20%20%20%20%20%20%20%20%20%7B%7D%0A%20%20%20%20%20%20%20%20%20%20%20%20%29.addTo%28map_47fad1f26de4429684037b84e7d95d76%29%3B%0A%20%20%20%20%20%20%20%20%0A%20%20%20%20%0A%20%20%20%20%20%20%20%20var%20popup_1b07ca3675dc4a37b8cd19e2782be3d0%20%3D%20L.popup%28%7B%22maxWidth%22%3A%20%22100%25%22%7D%29%3B%0A%0A%20%20%20%20%20%20%20%20%0A%20%20%20%20%20%20%20%20%20%20%20%20var%20html_342c63593b2141b681ac693882b06c80%20%3D%20%24%28%60%3Cdiv%20id%3D%22html_342c63593b2141b681ac693882b06c80%22%20style%3D%22width%3A%20100.0%25%3B%20height%3A%20100.0%25%3B%22%3E0%20%20%20%20%20%20%20%20971%201%20%20%20%20%20%20%20%20146%202%20%20%20%20%20%20%201545%203%20%20%20%20%20%20%20%20972%204%20%20%20%20%20%20%20%20%2081%20%20%20%20%20%20%20%20%20...%20%201195%20%20%20%202131%201196%20%20%20%202274%201197%20%20%20%202275%201198%20%20%20%202276%201199%20%20%20%202277%20Name%3A%20stop_id%2C%20Length%3A%201200%2C%20dtype%3A%20object%3C/div%3E%60%29%5B0%5D%3B%0A%20%20%20%20%20%20%20%20%20%20%20%20popup_1b07ca3675dc4a37b8cd19e2782be3d0.setContent%28html_342c63593b2141b681ac693882b06c80%29%3B%0A%20%20%20%20%20%20%20%20%0A%0A%20%20%20%20%20%20%20%20marker_8c8510848ff2486f99fab7ff08ddf71a.bindPopup%28popup_1b07ca3675dc4a37b8cd19e2782be3d0%29%0A%20%20%20%20%20%20%20%20%3B%0A%0A%20%20%20%20%20%20%20%20%0A%20%20%20%20%0A%20%20%20%20%0A%20%20%20%20%20%20%20%20%20%20%20%20var%20marker_f870be77e1024b83878860f4deaef7c1%20%3D%20L.marker%28%0A%20%20%20%20%20%20%20%20%20%20%20%20%20%20%20%20%5B35.005842%2C%20-85.311438%5D%2C%0A%20%20%20%20%20%20%20%20%20%20%20%20%20%20%20%20%7B%7D%0A%20%20%20%20%20%20%20%20%20%20%20%20%29.addTo%28map_47fad1f26de4429684037b84e7d95d76%29%3B%0A%20%20%20%20%20%20%20%20%0A%20%20%20%20%0A%20%20%20%20%20%20%20%20var%20popup_30b15b1e94da4912bb3379e7efaadec2%20%3D%20L.popup%28%7B%22maxWidth%22%3A%20%22100%25%22%7D%29%3B%0A%0A%20%20%20%20%20%20%20%20%0A%20%20%20%20%20%20%20%20%20%20%20%20var%20html_74a235e58e394973965f91eda5351e8c%20%3D%20%24%28%60%3Cdiv%20id%3D%22html_74a235e58e394973965f91eda5351e8c%22%20style%3D%22width%3A%20100.0%25%3B%20height%3A%20100.0%25%3B%22%3E0%20%20%20%20%20%20%20%20971%201%20%20%20%20%20%20%20%20146%202%20%20%20%20%20%20%201545%203%20%20%20%20%20%20%20%20972%204%20%20%20%20%20%20%20%20%2081%20%20%20%20%20%20%20%20%20...%20%201195%20%20%20%202131%201196%20%20%20%202274%201197%20%20%20%202275%201198%20%20%20%202276%201199%20%20%20%202277%20Name%3A%20stop_id%2C%20Length%3A%201200%2C%20dtype%3A%20object%3C/div%3E%60%29%5B0%5D%3B%0A%20%20%20%20%20%20%20%20%20%20%20%20popup_30b15b1e94da4912bb3379e7efaadec2.setContent%28html_74a235e58e394973965f91eda5351e8c%29%3B%0A%20%20%20%20%20%20%20%20%0A%0A%20%20%20%20%20%20%20%20marker_f870be77e1024b83878860f4deaef7c1.bindPopup%28popup_30b15b1e94da4912bb3379e7efaadec2%29%0A%20%20%20%20%20%20%20%20%3B%0A%0A%20%20%20%20%20%20%20%20%0A%20%20%20%20%0A%20%20%20%20%0A%20%20%20%20%20%20%20%20%20%20%20%20var%20marker_3647468028db4991a42a29d8b42d1f0a%20%3D%20L.marker%28%0A%20%20%20%20%20%20%20%20%20%20%20%20%20%20%20%20%5B35.006708%2C%20-85.313758%5D%2C%0A%20%20%20%20%20%20%20%20%20%20%20%20%20%20%20%20%7B%7D%0A%20%20%20%20%20%20%20%20%20%20%20%20%29.addTo%28map_47fad1f26de4429684037b84e7d95d76%29%3B%0A%20%20%20%20%20%20%20%20%0A%20%20%20%20%0A%20%20%20%20%20%20%20%20var%20popup_e0e663ce4c084448b48a9a5ba972cc09%20%3D%20L.popup%28%7B%22maxWidth%22%3A%20%22100%25%22%7D%29%3B%0A%0A%20%20%20%20%20%20%20%20%0A%20%20%20%20%20%20%20%20%20%20%20%20var%20html_7c63afdd2d3d41b79050df203cb74a2a%20%3D%20%24%28%60%3Cdiv%20id%3D%22html_7c63afdd2d3d41b79050df203cb74a2a%22%20style%3D%22width%3A%20100.0%25%3B%20height%3A%20100.0%25%3B%22%3E0%20%20%20%20%20%20%20%20971%201%20%20%20%20%20%20%20%20146%202%20%20%20%20%20%20%201545%203%20%20%20%20%20%20%20%20972%204%20%20%20%20%20%20%20%20%2081%20%20%20%20%20%20%20%20%20...%20%201195%20%20%20%202131%201196%20%20%20%202274%201197%20%20%20%202275%201198%20%20%20%202276%201199%20%20%20%202277%20Name%3A%20stop_id%2C%20Length%3A%201200%2C%20dtype%3A%20object%3C/div%3E%60%29%5B0%5D%3B%0A%20%20%20%20%20%20%20%20%20%20%20%20popup_e0e663ce4c084448b48a9a5ba972cc09.setContent%28html_7c63afdd2d3d41b79050df203cb74a2a%29%3B%0A%20%20%20%20%20%20%20%20%0A%0A%20%20%20%20%20%20%20%20marker_3647468028db4991a42a29d8b42d1f0a.bindPopup%28popup_e0e663ce4c084448b48a9a5ba972cc09%29%0A%20%20%20%20%20%20%20%20%3B%0A%0A%20%20%20%20%20%20%20%20%0A%20%20%20%20%0A%20%20%20%20%0A%20%20%20%20%20%20%20%20%20%20%20%20var%20marker_da78a83943dd4431924390f3b1d56769%20%3D%20L.marker%28%0A%20%20%20%20%20%20%20%20%20%20%20%20%20%20%20%20%5B35.042542%2C%20-85.292587%5D%2C%0A%20%20%20%20%20%20%20%20%20%20%20%20%20%20%20%20%7B%7D%0A%20%20%20%20%20%20%20%20%20%20%20%20%29.addTo%28map_47fad1f26de4429684037b84e7d95d76%29%3B%0A%20%20%20%20%20%20%20%20%0A%20%20%20%20%0A%20%20%20%20%20%20%20%20var%20popup_b203e3dc46754dcd994c33975f2fb84f%20%3D%20L.popup%28%7B%22maxWidth%22%3A%20%22100%25%22%7D%29%3B%0A%0A%20%20%20%20%20%20%20%20%0A%20%20%20%20%20%20%20%20%20%20%20%20var%20html_9258349e2e274ecc9455c6192c7c71df%20%3D%20%24%28%60%3Cdiv%20id%3D%22html_9258349e2e274ecc9455c6192c7c71df%22%20style%3D%22width%3A%20100.0%25%3B%20height%3A%20100.0%25%3B%22%3E0%20%20%20%20%20%20%20%20971%201%20%20%20%20%20%20%20%20146%202%20%20%20%20%20%20%201545%203%20%20%20%20%20%20%20%20972%204%20%20%20%20%20%20%20%20%2081%20%20%20%20%20%20%20%20%20...%20%201195%20%20%20%202131%201196%20%20%20%202274%201197%20%20%20%202275%201198%20%20%20%202276%201199%20%20%20%202277%20Name%3A%20stop_id%2C%20Length%3A%201200%2C%20dtype%3A%20object%3C/div%3E%60%29%5B0%5D%3B%0A%20%20%20%20%20%20%20%20%20%20%20%20popup_b203e3dc46754dcd994c33975f2fb84f.setContent%28html_9258349e2e274ecc9455c6192c7c71df%29%3B%0A%20%20%20%20%20%20%20%20%0A%0A%20%20%20%20%20%20%20%20marker_da78a83943dd4431924390f3b1d56769.bindPopup%28popup_b203e3dc46754dcd994c33975f2fb84f%29%0A%20%20%20%20%20%20%20%20%3B%0A%0A%20%20%20%20%20%20%20%20%0A%20%20%20%20%0A%20%20%20%20%0A%20%20%20%20%20%20%20%20%20%20%20%20var%20marker_e5c52e3af94e4a19b26503fbbc74864a%20%3D%20L.marker%28%0A%20%20%20%20%20%20%20%20%20%20%20%20%20%20%20%20%5B35.041393%2C%20-85.28952%5D%2C%0A%20%20%20%20%20%20%20%20%20%20%20%20%20%20%20%20%7B%7D%0A%20%20%20%20%20%20%20%20%20%20%20%20%29.addTo%28map_47fad1f26de4429684037b84e7d95d76%29%3B%0A%20%20%20%20%20%20%20%20%0A%20%20%20%20%0A%20%20%20%20%20%20%20%20var%20popup_682fef20b0ea48be8d9717d13153c5f6%20%3D%20L.popup%28%7B%22maxWidth%22%3A%20%22100%25%22%7D%29%3B%0A%0A%20%20%20%20%20%20%20%20%0A%20%20%20%20%20%20%20%20%20%20%20%20var%20html_e94d5246e1b4490e854cb98e48015bc9%20%3D%20%24%28%60%3Cdiv%20id%3D%22html_e94d5246e1b4490e854cb98e48015bc9%22%20style%3D%22width%3A%20100.0%25%3B%20height%3A%20100.0%25%3B%22%3E0%20%20%20%20%20%20%20%20971%201%20%20%20%20%20%20%20%20146%202%20%20%20%20%20%20%201545%203%20%20%20%20%20%20%20%20972%204%20%20%20%20%20%20%20%20%2081%20%20%20%20%20%20%20%20%20...%20%201195%20%20%20%202131%201196%20%20%20%202274%201197%20%20%20%202275%201198%20%20%20%202276%201199%20%20%20%202277%20Name%3A%20stop_id%2C%20Length%3A%201200%2C%20dtype%3A%20object%3C/div%3E%60%29%5B0%5D%3B%0A%20%20%20%20%20%20%20%20%20%20%20%20popup_682fef20b0ea48be8d9717d13153c5f6.setContent%28html_e94d5246e1b4490e854cb98e48015bc9%29%3B%0A%20%20%20%20%20%20%20%20%0A%0A%20%20%20%20%20%20%20%20marker_e5c52e3af94e4a19b26503fbbc74864a.bindPopup%28popup_682fef20b0ea48be8d9717d13153c5f6%29%0A%20%20%20%20%20%20%20%20%3B%0A%0A%20%20%20%20%20%20%20%20%0A%20%20%20%20%0A%20%20%20%20%0A%20%20%20%20%20%20%20%20%20%20%20%20var%20marker_c1f6ab90c76b411bbe974889246bd35f%20%3D%20L.marker%28%0A%20%20%20%20%20%20%20%20%20%20%20%20%20%20%20%20%5B35.042073%2C%20-85.291348%5D%2C%0A%20%20%20%20%20%20%20%20%20%20%20%20%20%20%20%20%7B%7D%0A%20%20%20%20%20%20%20%20%20%20%20%20%29.addTo%28map_47fad1f26de4429684037b84e7d95d76%29%3B%0A%20%20%20%20%20%20%20%20%0A%20%20%20%20%0A%20%20%20%20%20%20%20%20var%20popup_a563888de9794f55b9b19cfa67ba5f9b%20%3D%20L.popup%28%7B%22maxWidth%22%3A%20%22100%25%22%7D%29%3B%0A%0A%20%20%20%20%20%20%20%20%0A%20%20%20%20%20%20%20%20%20%20%20%20var%20html_948068920b6c4b58a4af98274f5e980d%20%3D%20%24%28%60%3Cdiv%20id%3D%22html_948068920b6c4b58a4af98274f5e980d%22%20style%3D%22width%3A%20100.0%25%3B%20height%3A%20100.0%25%3B%22%3E0%20%20%20%20%20%20%20%20971%201%20%20%20%20%20%20%20%20146%202%20%20%20%20%20%20%201545%203%20%20%20%20%20%20%20%20972%204%20%20%20%20%20%20%20%20%2081%20%20%20%20%20%20%20%20%20...%20%201195%20%20%20%202131%201196%20%20%20%202274%201197%20%20%20%202275%201198%20%20%20%202276%201199%20%20%20%202277%20Name%3A%20stop_id%2C%20Length%3A%201200%2C%20dtype%3A%20object%3C/div%3E%60%29%5B0%5D%3B%0A%20%20%20%20%20%20%20%20%20%20%20%20popup_a563888de9794f55b9b19cfa67ba5f9b.setContent%28html_948068920b6c4b58a4af98274f5e980d%29%3B%0A%20%20%20%20%20%20%20%20%0A%0A%20%20%20%20%20%20%20%20marker_c1f6ab90c76b411bbe974889246bd35f.bindPopup%28popup_a563888de9794f55b9b19cfa67ba5f9b%29%0A%20%20%20%20%20%20%20%20%3B%0A%0A%20%20%20%20%20%20%20%20%0A%20%20%20%20%0A%20%20%20%20%0A%20%20%20%20%20%20%20%20%20%20%20%20var%20marker_ed8f42587db741ef8cdc41d4329e59d7%20%3D%20L.marker%28%0A%20%20%20%20%20%20%20%20%20%20%20%20%20%20%20%20%5B35.007617%2C%20-85.316223%5D%2C%0A%20%20%20%20%20%20%20%20%20%20%20%20%20%20%20%20%7B%7D%0A%20%20%20%20%20%20%20%20%20%20%20%20%29.addTo%28map_47fad1f26de4429684037b84e7d95d76%29%3B%0A%20%20%20%20%20%20%20%20%0A%20%20%20%20%0A%20%20%20%20%20%20%20%20var%20popup_645ce8fe904d4e8ba106c68988700b0b%20%3D%20L.popup%28%7B%22maxWidth%22%3A%20%22100%25%22%7D%29%3B%0A%0A%20%20%20%20%20%20%20%20%0A%20%20%20%20%20%20%20%20%20%20%20%20var%20html_012afb36af1042ca8e6e35581f8a718a%20%3D%20%24%28%60%3Cdiv%20id%3D%22html_012afb36af1042ca8e6e35581f8a718a%22%20style%3D%22width%3A%20100.0%25%3B%20height%3A%20100.0%25%3B%22%3E0%20%20%20%20%20%20%20%20971%201%20%20%20%20%20%20%20%20146%202%20%20%20%20%20%20%201545%203%20%20%20%20%20%20%20%20972%204%20%20%20%20%20%20%20%20%2081%20%20%20%20%20%20%20%20%20...%20%201195%20%20%20%202131%201196%20%20%20%202274%201197%20%20%20%202275%201198%20%20%20%202276%201199%20%20%20%202277%20Name%3A%20stop_id%2C%20Length%3A%201200%2C%20dtype%3A%20object%3C/div%3E%60%29%5B0%5D%3B%0A%20%20%20%20%20%20%20%20%20%20%20%20popup_645ce8fe904d4e8ba106c68988700b0b.setContent%28html_012afb36af1042ca8e6e35581f8a718a%29%3B%0A%20%20%20%20%20%20%20%20%0A%0A%20%20%20%20%20%20%20%20marker_ed8f42587db741ef8cdc41d4329e59d7.bindPopup%28popup_645ce8fe904d4e8ba106c68988700b0b%29%0A%20%20%20%20%20%20%20%20%3B%0A%0A%20%20%20%20%20%20%20%20%0A%20%20%20%20%0A%20%20%20%20%0A%20%20%20%20%20%20%20%20%20%20%20%20var%20marker_bcd92bf67f54445d950c95b5ed817778%20%3D%20L.marker%28%0A%20%20%20%20%20%20%20%20%20%20%20%20%20%20%20%20%5B35.006985%2C%20-85.31449%5D%2C%0A%20%20%20%20%20%20%20%20%20%20%20%20%20%20%20%20%7B%7D%0A%20%20%20%20%20%20%20%20%20%20%20%20%29.addTo%28map_47fad1f26de4429684037b84e7d95d76%29%3B%0A%20%20%20%20%20%20%20%20%0A%20%20%20%20%0A%20%20%20%20%20%20%20%20var%20popup_9fee832972ca49bf8f5da3a49f184afa%20%3D%20L.popup%28%7B%22maxWidth%22%3A%20%22100%25%22%7D%29%3B%0A%0A%20%20%20%20%20%20%20%20%0A%20%20%20%20%20%20%20%20%20%20%20%20var%20html_130bb83669824e8fa7d248536c51f5e8%20%3D%20%24%28%60%3Cdiv%20id%3D%22html_130bb83669824e8fa7d248536c51f5e8%22%20style%3D%22width%3A%20100.0%25%3B%20height%3A%20100.0%25%3B%22%3E0%20%20%20%20%20%20%20%20971%201%20%20%20%20%20%20%20%20146%202%20%20%20%20%20%20%201545%203%20%20%20%20%20%20%20%20972%204%20%20%20%20%20%20%20%20%2081%20%20%20%20%20%20%20%20%20...%20%201195%20%20%20%202131%201196%20%20%20%202274%201197%20%20%20%202275%201198%20%20%20%202276%201199%20%20%20%202277%20Name%3A%20stop_id%2C%20Length%3A%201200%2C%20dtype%3A%20object%3C/div%3E%60%29%5B0%5D%3B%0A%20%20%20%20%20%20%20%20%20%20%20%20popup_9fee832972ca49bf8f5da3a49f184afa.setContent%28html_130bb83669824e8fa7d248536c51f5e8%29%3B%0A%20%20%20%20%20%20%20%20%0A%0A%20%20%20%20%20%20%20%20marker_bcd92bf67f54445d950c95b5ed817778.bindPopup%28popup_9fee832972ca49bf8f5da3a49f184afa%29%0A%20%20%20%20%20%20%20%20%3B%0A%0A%20%20%20%20%20%20%20%20%0A%20%20%20%20%0A%20%20%20%20%0A%20%20%20%20%20%20%20%20%20%20%20%20var%20marker_5d59a11e461a468aa603624ca6d22789%20%3D%20L.marker%28%0A%20%20%20%20%20%20%20%20%20%20%20%20%20%20%20%20%5B35.006287%2C%20-85.312615%5D%2C%0A%20%20%20%20%20%20%20%20%20%20%20%20%20%20%20%20%7B%7D%0A%20%20%20%20%20%20%20%20%20%20%20%20%29.addTo%28map_47fad1f26de4429684037b84e7d95d76%29%3B%0A%20%20%20%20%20%20%20%20%0A%20%20%20%20%0A%20%20%20%20%20%20%20%20var%20popup_16fbf22f2e5141e783df37362fbd6c50%20%3D%20L.popup%28%7B%22maxWidth%22%3A%20%22100%25%22%7D%29%3B%0A%0A%20%20%20%20%20%20%20%20%0A%20%20%20%20%20%20%20%20%20%20%20%20var%20html_b443334578914743b3c474fd536dfc83%20%3D%20%24%28%60%3Cdiv%20id%3D%22html_b443334578914743b3c474fd536dfc83%22%20style%3D%22width%3A%20100.0%25%3B%20height%3A%20100.0%25%3B%22%3E0%20%20%20%20%20%20%20%20971%201%20%20%20%20%20%20%20%20146%202%20%20%20%20%20%20%201545%203%20%20%20%20%20%20%20%20972%204%20%20%20%20%20%20%20%20%2081%20%20%20%20%20%20%20%20%20...%20%201195%20%20%20%202131%201196%20%20%20%202274%201197%20%20%20%202275%201198%20%20%20%202276%201199%20%20%20%202277%20Name%3A%20stop_id%2C%20Length%3A%201200%2C%20dtype%3A%20object%3C/div%3E%60%29%5B0%5D%3B%0A%20%20%20%20%20%20%20%20%20%20%20%20popup_16fbf22f2e5141e783df37362fbd6c50.setContent%28html_b443334578914743b3c474fd536dfc83%29%3B%0A%20%20%20%20%20%20%20%20%0A%0A%20%20%20%20%20%20%20%20marker_5d59a11e461a468aa603624ca6d22789.bindPopup%28popup_16fbf22f2e5141e783df37362fbd6c50%29%0A%20%20%20%20%20%20%20%20%3B%0A%0A%20%20%20%20%20%20%20%20%0A%20%20%20%20%0A%20%20%20%20%0A%20%20%20%20%20%20%20%20%20%20%20%20var%20marker_dca661968f5947bdb77f486e4025c2d5%20%3D%20L.marker%28%0A%20%20%20%20%20%20%20%20%20%20%20%20%20%20%20%20%5B35.010062%2C%20-85.318655%5D%2C%0A%20%20%20%20%20%20%20%20%20%20%20%20%20%20%20%20%7B%7D%0A%20%20%20%20%20%20%20%20%20%20%20%20%29.addTo%28map_47fad1f26de4429684037b84e7d95d76%29%3B%0A%20%20%20%20%20%20%20%20%0A%20%20%20%20%0A%20%20%20%20%20%20%20%20var%20popup_700b77e93f724f78abfb9005e50fbbab%20%3D%20L.popup%28%7B%22maxWidth%22%3A%20%22100%25%22%7D%29%3B%0A%0A%20%20%20%20%20%20%20%20%0A%20%20%20%20%20%20%20%20%20%20%20%20var%20html_896c29455fcd487a87a594395bb432d5%20%3D%20%24%28%60%3Cdiv%20id%3D%22html_896c29455fcd487a87a594395bb432d5%22%20style%3D%22width%3A%20100.0%25%3B%20height%3A%20100.0%25%3B%22%3E0%20%20%20%20%20%20%20%20971%201%20%20%20%20%20%20%20%20146%202%20%20%20%20%20%20%201545%203%20%20%20%20%20%20%20%20972%204%20%20%20%20%20%20%20%20%2081%20%20%20%20%20%20%20%20%20...%20%201195%20%20%20%202131%201196%20%20%20%202274%201197%20%20%20%202275%201198%20%20%20%202276%201199%20%20%20%202277%20Name%3A%20stop_id%2C%20Length%3A%201200%2C%20dtype%3A%20object%3C/div%3E%60%29%5B0%5D%3B%0A%20%20%20%20%20%20%20%20%20%20%20%20popup_700b77e93f724f78abfb9005e50fbbab.setContent%28html_896c29455fcd487a87a594395bb432d5%29%3B%0A%20%20%20%20%20%20%20%20%0A%0A%20%20%20%20%20%20%20%20marker_dca661968f5947bdb77f486e4025c2d5.bindPopup%28popup_700b77e93f724f78abfb9005e50fbbab%29%0A%20%20%20%20%20%20%20%20%3B%0A%0A%20%20%20%20%20%20%20%20%0A%20%20%20%20%0A%20%20%20%20%0A%20%20%20%20%20%20%20%20%20%20%20%20var%20marker_2a04dda1679d48ad8646b8374be6832c%20%3D%20L.marker%28%0A%20%20%20%20%20%20%20%20%20%20%20%20%20%20%20%20%5B35.008178%2C%20-85.317668%5D%2C%0A%20%20%20%20%20%20%20%20%20%20%20%20%20%20%20%20%7B%7D%0A%20%20%20%20%20%20%20%20%20%20%20%20%29.addTo%28map_47fad1f26de4429684037b84e7d95d76%29%3B%0A%20%20%20%20%20%20%20%20%0A%20%20%20%20%0A%20%20%20%20%20%20%20%20var%20popup_ff3ca690d5eb4d19b71354b787fc8a90%20%3D%20L.popup%28%7B%22maxWidth%22%3A%20%22100%25%22%7D%29%3B%0A%0A%20%20%20%20%20%20%20%20%0A%20%20%20%20%20%20%20%20%20%20%20%20var%20html_96ef43a2c2dc420e912f99c453793580%20%3D%20%24%28%60%3Cdiv%20id%3D%22html_96ef43a2c2dc420e912f99c453793580%22%20style%3D%22width%3A%20100.0%25%3B%20height%3A%20100.0%25%3B%22%3E0%20%20%20%20%20%20%20%20971%201%20%20%20%20%20%20%20%20146%202%20%20%20%20%20%20%201545%203%20%20%20%20%20%20%20%20972%204%20%20%20%20%20%20%20%20%2081%20%20%20%20%20%20%20%20%20...%20%201195%20%20%20%202131%201196%20%20%20%202274%201197%20%20%20%202275%201198%20%20%20%202276%201199%20%20%20%202277%20Name%3A%20stop_id%2C%20Length%3A%201200%2C%20dtype%3A%20object%3C/div%3E%60%29%5B0%5D%3B%0A%20%20%20%20%20%20%20%20%20%20%20%20popup_ff3ca690d5eb4d19b71354b787fc8a90.setContent%28html_96ef43a2c2dc420e912f99c453793580%29%3B%0A%20%20%20%20%20%20%20%20%0A%0A%20%20%20%20%20%20%20%20marker_2a04dda1679d48ad8646b8374be6832c.bindPopup%28popup_ff3ca690d5eb4d19b71354b787fc8a90%29%0A%20%20%20%20%20%20%20%20%3B%0A%0A%20%20%20%20%20%20%20%20%0A%20%20%20%20%0A%20%20%20%20%0A%20%20%20%20%20%20%20%20%20%20%20%20var%20marker_96a528cbace74d83b3d2934baa8c5f3d%20%3D%20L.marker%28%0A%20%20%20%20%20%20%20%20%20%20%20%20%20%20%20%20%5B35.043733%2C%20-85.295687%5D%2C%0A%20%20%20%20%20%20%20%20%20%20%20%20%20%20%20%20%7B%7D%0A%20%20%20%20%20%20%20%20%20%20%20%20%29.addTo%28map_47fad1f26de4429684037b84e7d95d76%29%3B%0A%20%20%20%20%20%20%20%20%0A%20%20%20%20%0A%20%20%20%20%20%20%20%20var%20popup_e436e9283b044144ae49122cbd2eb698%20%3D%20L.popup%28%7B%22maxWidth%22%3A%20%22100%25%22%7D%29%3B%0A%0A%20%20%20%20%20%20%20%20%0A%20%20%20%20%20%20%20%20%20%20%20%20var%20html_455ec66775834d5b9e6f64b3edba00d6%20%3D%20%24%28%60%3Cdiv%20id%3D%22html_455ec66775834d5b9e6f64b3edba00d6%22%20style%3D%22width%3A%20100.0%25%3B%20height%3A%20100.0%25%3B%22%3E0%20%20%20%20%20%20%20%20971%201%20%20%20%20%20%20%20%20146%202%20%20%20%20%20%20%201545%203%20%20%20%20%20%20%20%20972%204%20%20%20%20%20%20%20%20%2081%20%20%20%20%20%20%20%20%20...%20%201195%20%20%20%202131%201196%20%20%20%202274%201197%20%20%20%202275%201198%20%20%20%202276%201199%20%20%20%202277%20Name%3A%20stop_id%2C%20Length%3A%201200%2C%20dtype%3A%20object%3C/div%3E%60%29%5B0%5D%3B%0A%20%20%20%20%20%20%20%20%20%20%20%20popup_e436e9283b044144ae49122cbd2eb698.setContent%28html_455ec66775834d5b9e6f64b3edba00d6%29%3B%0A%20%20%20%20%20%20%20%20%0A%0A%20%20%20%20%20%20%20%20marker_96a528cbace74d83b3d2934baa8c5f3d.bindPopup%28popup_e436e9283b044144ae49122cbd2eb698%29%0A%20%20%20%20%20%20%20%20%3B%0A%0A%20%20%20%20%20%20%20%20%0A%20%20%20%20%0A%20%20%20%20%0A%20%20%20%20%20%20%20%20%20%20%20%20var%20marker_08c84736208a4d088355d46d7d70d59d%20%3D%20L.marker%28%0A%20%20%20%20%20%20%20%20%20%20%20%20%20%20%20%20%5B35.044178%2C%20-85.296657%5D%2C%0A%20%20%20%20%20%20%20%20%20%20%20%20%20%20%20%20%7B%7D%0A%20%20%20%20%20%20%20%20%20%20%20%20%29.addTo%28map_47fad1f26de4429684037b84e7d95d76%29%3B%0A%20%20%20%20%20%20%20%20%0A%20%20%20%20%0A%20%20%20%20%20%20%20%20var%20popup_8b3c343859a8493faa489217656f8e4b%20%3D%20L.popup%28%7B%22maxWidth%22%3A%20%22100%25%22%7D%29%3B%0A%0A%20%20%20%20%20%20%20%20%0A%20%20%20%20%20%20%20%20%20%20%20%20var%20html_4b0c6a210e6648aa8888ff5ed571f06e%20%3D%20%24%28%60%3Cdiv%20id%3D%22html_4b0c6a210e6648aa8888ff5ed571f06e%22%20style%3D%22width%3A%20100.0%25%3B%20height%3A%20100.0%25%3B%22%3E0%20%20%20%20%20%20%20%20971%201%20%20%20%20%20%20%20%20146%202%20%20%20%20%20%20%201545%203%20%20%20%20%20%20%20%20972%204%20%20%20%20%20%20%20%20%2081%20%20%20%20%20%20%20%20%20...%20%201195%20%20%20%202131%201196%20%20%20%202274%201197%20%20%20%202275%201198%20%20%20%202276%201199%20%20%20%202277%20Name%3A%20stop_id%2C%20Length%3A%201200%2C%20dtype%3A%20object%3C/div%3E%60%29%5B0%5D%3B%0A%20%20%20%20%20%20%20%20%20%20%20%20popup_8b3c343859a8493faa489217656f8e4b.setContent%28html_4b0c6a210e6648aa8888ff5ed571f06e%29%3B%0A%20%20%20%20%20%20%20%20%0A%0A%20%20%20%20%20%20%20%20marker_08c84736208a4d088355d46d7d70d59d.bindPopup%28popup_8b3c343859a8493faa489217656f8e4b%29%0A%20%20%20%20%20%20%20%20%3B%0A%0A%20%20%20%20%20%20%20%20%0A%20%20%20%20%0A%20%20%20%20%0A%20%20%20%20%20%20%20%20%20%20%20%20var%20marker_c06adf422e494becb484ccf1bedba627%20%3D%20L.marker%28%0A%20%20%20%20%20%20%20%20%20%20%20%20%20%20%20%20%5B35.044985%2C%20-85.298818%5D%2C%0A%20%20%20%20%20%20%20%20%20%20%20%20%20%20%20%20%7B%7D%0A%20%20%20%20%20%20%20%20%20%20%20%20%29.addTo%28map_47fad1f26de4429684037b84e7d95d76%29%3B%0A%20%20%20%20%20%20%20%20%0A%20%20%20%20%0A%20%20%20%20%20%20%20%20var%20popup_1b9fe11ffade48d68a245bb19ade89ce%20%3D%20L.popup%28%7B%22maxWidth%22%3A%20%22100%25%22%7D%29%3B%0A%0A%20%20%20%20%20%20%20%20%0A%20%20%20%20%20%20%20%20%20%20%20%20var%20html_a6c72669aec74d549b342a067e42fe66%20%3D%20%24%28%60%3Cdiv%20id%3D%22html_a6c72669aec74d549b342a067e42fe66%22%20style%3D%22width%3A%20100.0%25%3B%20height%3A%20100.0%25%3B%22%3E0%20%20%20%20%20%20%20%20971%201%20%20%20%20%20%20%20%20146%202%20%20%20%20%20%20%201545%203%20%20%20%20%20%20%20%20972%204%20%20%20%20%20%20%20%20%2081%20%20%20%20%20%20%20%20%20...%20%201195%20%20%20%202131%201196%20%20%20%202274%201197%20%20%20%202275%201198%20%20%20%202276%201199%20%20%20%202277%20Name%3A%20stop_id%2C%20Length%3A%201200%2C%20dtype%3A%20object%3C/div%3E%60%29%5B0%5D%3B%0A%20%20%20%20%20%20%20%20%20%20%20%20popup_1b9fe11ffade48d68a245bb19ade89ce.setContent%28html_a6c72669aec74d549b342a067e42fe66%29%3B%0A%20%20%20%20%20%20%20%20%0A%0A%20%20%20%20%20%20%20%20marker_c06adf422e494becb484ccf1bedba627.bindPopup%28popup_1b9fe11ffade48d68a245bb19ade89ce%29%0A%20%20%20%20%20%20%20%20%3B%0A%0A%20%20%20%20%20%20%20%20%0A%20%20%20%20%0A%20%20%20%20%0A%20%20%20%20%20%20%20%20%20%20%20%20var%20marker_44d484e5cd5c476d9a5a28d161c1ceb4%20%3D%20L.marker%28%0A%20%20%20%20%20%20%20%20%20%20%20%20%20%20%20%20%5B35.045875%2C%20-85.301393%5D%2C%0A%20%20%20%20%20%20%20%20%20%20%20%20%20%20%20%20%7B%7D%0A%20%20%20%20%20%20%20%20%20%20%20%20%29.addTo%28map_47fad1f26de4429684037b84e7d95d76%29%3B%0A%20%20%20%20%20%20%20%20%0A%20%20%20%20%0A%20%20%20%20%20%20%20%20var%20popup_0ba07fb06e4e45879f809bb428afacf9%20%3D%20L.popup%28%7B%22maxWidth%22%3A%20%22100%25%22%7D%29%3B%0A%0A%20%20%20%20%20%20%20%20%0A%20%20%20%20%20%20%20%20%20%20%20%20var%20html_86979141f57c4d55a2ff8cfa1cd571ca%20%3D%20%24%28%60%3Cdiv%20id%3D%22html_86979141f57c4d55a2ff8cfa1cd571ca%22%20style%3D%22width%3A%20100.0%25%3B%20height%3A%20100.0%25%3B%22%3E0%20%20%20%20%20%20%20%20971%201%20%20%20%20%20%20%20%20146%202%20%20%20%20%20%20%201545%203%20%20%20%20%20%20%20%20972%204%20%20%20%20%20%20%20%20%2081%20%20%20%20%20%20%20%20%20...%20%201195%20%20%20%202131%201196%20%20%20%202274%201197%20%20%20%202275%201198%20%20%20%202276%201199%20%20%20%202277%20Name%3A%20stop_id%2C%20Length%3A%201200%2C%20dtype%3A%20object%3C/div%3E%60%29%5B0%5D%3B%0A%20%20%20%20%20%20%20%20%20%20%20%20popup_0ba07fb06e4e45879f809bb428afacf9.setContent%28html_86979141f57c4d55a2ff8cfa1cd571ca%29%3B%0A%20%20%20%20%20%20%20%20%0A%0A%20%20%20%20%20%20%20%20marker_44d484e5cd5c476d9a5a28d161c1ceb4.bindPopup%28popup_0ba07fb06e4e45879f809bb428afacf9%29%0A%20%20%20%20%20%20%20%20%3B%0A%0A%20%20%20%20%20%20%20%20%0A%20%20%20%20%0A%20%20%20%20%0A%20%20%20%20%20%20%20%20%20%20%20%20var%20marker_b9db5029932049d4b517f3ad2e7c509a%20%3D%20L.marker%28%0A%20%20%20%20%20%20%20%20%20%20%20%20%20%20%20%20%5B35.009267%2C%20-85.317303%5D%2C%0A%20%20%20%20%20%20%20%20%20%20%20%20%20%20%20%20%7B%7D%0A%20%20%20%20%20%20%20%20%20%20%20%20%29.addTo%28map_47fad1f26de4429684037b84e7d95d76%29%3B%0A%20%20%20%20%20%20%20%20%0A%20%20%20%20%0A%20%20%20%20%20%20%20%20var%20popup_224870499a604fb2ae57f67e1c91c86c%20%3D%20L.popup%28%7B%22maxWidth%22%3A%20%22100%25%22%7D%29%3B%0A%0A%20%20%20%20%20%20%20%20%0A%20%20%20%20%20%20%20%20%20%20%20%20var%20html_f4e7516db1ea481b930a522d6542b77d%20%3D%20%24%28%60%3Cdiv%20id%3D%22html_f4e7516db1ea481b930a522d6542b77d%22%20style%3D%22width%3A%20100.0%25%3B%20height%3A%20100.0%25%3B%22%3E0%20%20%20%20%20%20%20%20971%201%20%20%20%20%20%20%20%20146%202%20%20%20%20%20%20%201545%203%20%20%20%20%20%20%20%20972%204%20%20%20%20%20%20%20%20%2081%20%20%20%20%20%20%20%20%20...%20%201195%20%20%20%202131%201196%20%20%20%202274%201197%20%20%20%202275%201198%20%20%20%202276%201199%20%20%20%202277%20Name%3A%20stop_id%2C%20Length%3A%201200%2C%20dtype%3A%20object%3C/div%3E%60%29%5B0%5D%3B%0A%20%20%20%20%20%20%20%20%20%20%20%20popup_224870499a604fb2ae57f67e1c91c86c.setContent%28html_f4e7516db1ea481b930a522d6542b77d%29%3B%0A%20%20%20%20%20%20%20%20%0A%0A%20%20%20%20%20%20%20%20marker_b9db5029932049d4b517f3ad2e7c509a.bindPopup%28popup_224870499a604fb2ae57f67e1c91c86c%29%0A%20%20%20%20%20%20%20%20%3B%0A%0A%20%20%20%20%20%20%20%20%0A%20%20%20%20%0A%20%20%20%20%0A%20%20%20%20%20%20%20%20%20%20%20%20var%20marker_9b2a8d6df3fb4b3dbeea052d66ab9c65%20%3D%20L.marker%28%0A%20%20%20%20%20%20%20%20%20%20%20%20%20%20%20%20%5B35.048447%2C%20-85.307273%5D%2C%0A%20%20%20%20%20%20%20%20%20%20%20%20%20%20%20%20%7B%7D%0A%20%20%20%20%20%20%20%20%20%20%20%20%29.addTo%28map_47fad1f26de4429684037b84e7d95d76%29%3B%0A%20%20%20%20%20%20%20%20%0A%20%20%20%20%0A%20%20%20%20%20%20%20%20var%20popup_729744e5c08648789860a379fc3c4153%20%3D%20L.popup%28%7B%22maxWidth%22%3A%20%22100%25%22%7D%29%3B%0A%0A%20%20%20%20%20%20%20%20%0A%20%20%20%20%20%20%20%20%20%20%20%20var%20html_e04b65748c474ee9aea85f06c776c855%20%3D%20%24%28%60%3Cdiv%20id%3D%22html_e04b65748c474ee9aea85f06c776c855%22%20style%3D%22width%3A%20100.0%25%3B%20height%3A%20100.0%25%3B%22%3E0%20%20%20%20%20%20%20%20971%201%20%20%20%20%20%20%20%20146%202%20%20%20%20%20%20%201545%203%20%20%20%20%20%20%20%20972%204%20%20%20%20%20%20%20%20%2081%20%20%20%20%20%20%20%20%20...%20%201195%20%20%20%202131%201196%20%20%20%202274%201197%20%20%20%202275%201198%20%20%20%202276%201199%20%20%20%202277%20Name%3A%20stop_id%2C%20Length%3A%201200%2C%20dtype%3A%20object%3C/div%3E%60%29%5B0%5D%3B%0A%20%20%20%20%20%20%20%20%20%20%20%20popup_729744e5c08648789860a379fc3c4153.setContent%28html_e04b65748c474ee9aea85f06c776c855%29%3B%0A%20%20%20%20%20%20%20%20%0A%0A%20%20%20%20%20%20%20%20marker_9b2a8d6df3fb4b3dbeea052d66ab9c65.bindPopup%28popup_729744e5c08648789860a379fc3c4153%29%0A%20%20%20%20%20%20%20%20%3B%0A%0A%20%20%20%20%20%20%20%20%0A%20%20%20%20%0A%20%20%20%20%0A%20%20%20%20%20%20%20%20%20%20%20%20var%20marker_60075c12a6544fea8eb9f247897b1847%20%3D%20L.marker%28%0A%20%20%20%20%20%20%20%20%20%20%20%20%20%20%20%20%5B35.046877%2C%20-85.304015%5D%2C%0A%20%20%20%20%20%20%20%20%20%20%20%20%20%20%20%20%7B%7D%0A%20%20%20%20%20%20%20%20%20%20%20%20%29.addTo%28map_47fad1f26de4429684037b84e7d95d76%29%3B%0A%20%20%20%20%20%20%20%20%0A%20%20%20%20%0A%20%20%20%20%20%20%20%20var%20popup_043e38b093234f6fa491760b31501be9%20%3D%20L.popup%28%7B%22maxWidth%22%3A%20%22100%25%22%7D%29%3B%0A%0A%20%20%20%20%20%20%20%20%0A%20%20%20%20%20%20%20%20%20%20%20%20var%20html_0860404170fb4dc7bab7516707d1e282%20%3D%20%24%28%60%3Cdiv%20id%3D%22html_0860404170fb4dc7bab7516707d1e282%22%20style%3D%22width%3A%20100.0%25%3B%20height%3A%20100.0%25%3B%22%3E0%20%20%20%20%20%20%20%20971%201%20%20%20%20%20%20%20%20146%202%20%20%20%20%20%20%201545%203%20%20%20%20%20%20%20%20972%204%20%20%20%20%20%20%20%20%2081%20%20%20%20%20%20%20%20%20...%20%201195%20%20%20%202131%201196%20%20%20%202274%201197%20%20%20%202275%201198%20%20%20%202276%201199%20%20%20%202277%20Name%3A%20stop_id%2C%20Length%3A%201200%2C%20dtype%3A%20object%3C/div%3E%60%29%5B0%5D%3B%0A%20%20%20%20%20%20%20%20%20%20%20%20popup_043e38b093234f6fa491760b31501be9.setContent%28html_0860404170fb4dc7bab7516707d1e282%29%3B%0A%20%20%20%20%20%20%20%20%0A%0A%20%20%20%20%20%20%20%20marker_60075c12a6544fea8eb9f247897b1847.bindPopup%28popup_043e38b093234f6fa491760b31501be9%29%0A%20%20%20%20%20%20%20%20%3B%0A%0A%20%20%20%20%20%20%20%20%0A%20%20%20%20%0A%20%20%20%20%0A%20%20%20%20%20%20%20%20%20%20%20%20var%20marker_31771e676f0c4a8d9513733702f9fb5c%20%3D%20L.marker%28%0A%20%20%20%20%20%20%20%20%20%20%20%20%20%20%20%20%5B35.04741%2C%20-85.305415%5D%2C%0A%20%20%20%20%20%20%20%20%20%20%20%20%20%20%20%20%7B%7D%0A%20%20%20%20%20%20%20%20%20%20%20%20%29.addTo%28map_47fad1f26de4429684037b84e7d95d76%29%3B%0A%20%20%20%20%20%20%20%20%0A%20%20%20%20%0A%20%20%20%20%20%20%20%20var%20popup_e00e0b1cd9b2445a94f192e62dd17a82%20%3D%20L.popup%28%7B%22maxWidth%22%3A%20%22100%25%22%7D%29%3B%0A%0A%20%20%20%20%20%20%20%20%0A%20%20%20%20%20%20%20%20%20%20%20%20var%20html_1a884573f66346c3961b3c1b514aedfe%20%3D%20%24%28%60%3Cdiv%20id%3D%22html_1a884573f66346c3961b3c1b514aedfe%22%20style%3D%22width%3A%20100.0%25%3B%20height%3A%20100.0%25%3B%22%3E0%20%20%20%20%20%20%20%20971%201%20%20%20%20%20%20%20%20146%202%20%20%20%20%20%20%201545%203%20%20%20%20%20%20%20%20972%204%20%20%20%20%20%20%20%20%2081%20%20%20%20%20%20%20%20%20...%20%201195%20%20%20%202131%201196%20%20%20%202274%201197%20%20%20%202275%201198%20%20%20%202276%201199%20%20%20%202277%20Name%3A%20stop_id%2C%20Length%3A%201200%2C%20dtype%3A%20object%3C/div%3E%60%29%5B0%5D%3B%0A%20%20%20%20%20%20%20%20%20%20%20%20popup_e00e0b1cd9b2445a94f192e62dd17a82.setContent%28html_1a884573f66346c3961b3c1b514aedfe%29%3B%0A%20%20%20%20%20%20%20%20%0A%0A%20%20%20%20%20%20%20%20marker_31771e676f0c4a8d9513733702f9fb5c.bindPopup%28popup_e00e0b1cd9b2445a94f192e62dd17a82%29%0A%20%20%20%20%20%20%20%20%3B%0A%0A%20%20%20%20%20%20%20%20%0A%20%20%20%20%0A%20%20%20%20%0A%20%20%20%20%20%20%20%20%20%20%20%20var%20marker_7ba118fce39a48899544f62e6ad9e7a3%20%3D%20L.marker%28%0A%20%20%20%20%20%20%20%20%20%20%20%20%20%20%20%20%5B35.046457%2C%20-85.302903%5D%2C%0A%20%20%20%20%20%20%20%20%20%20%20%20%20%20%20%20%7B%7D%0A%20%20%20%20%20%20%20%20%20%20%20%20%29.addTo%28map_47fad1f26de4429684037b84e7d95d76%29%3B%0A%20%20%20%20%20%20%20%20%0A%20%20%20%20%0A%20%20%20%20%20%20%20%20var%20popup_688844f4ce86493a81fffca42fc560cb%20%3D%20L.popup%28%7B%22maxWidth%22%3A%20%22100%25%22%7D%29%3B%0A%0A%20%20%20%20%20%20%20%20%0A%20%20%20%20%20%20%20%20%20%20%20%20var%20html_4baf3f7cfe4c4dae929d99fd2f116fba%20%3D%20%24%28%60%3Cdiv%20id%3D%22html_4baf3f7cfe4c4dae929d99fd2f116fba%22%20style%3D%22width%3A%20100.0%25%3B%20height%3A%20100.0%25%3B%22%3E0%20%20%20%20%20%20%20%20971%201%20%20%20%20%20%20%20%20146%202%20%20%20%20%20%20%201545%203%20%20%20%20%20%20%20%20972%204%20%20%20%20%20%20%20%20%2081%20%20%20%20%20%20%20%20%20...%20%201195%20%20%20%202131%201196%20%20%20%202274%201197%20%20%20%202275%201198%20%20%20%202276%201199%20%20%20%202277%20Name%3A%20stop_id%2C%20Length%3A%201200%2C%20dtype%3A%20object%3C/div%3E%60%29%5B0%5D%3B%0A%20%20%20%20%20%20%20%20%20%20%20%20popup_688844f4ce86493a81fffca42fc560cb.setContent%28html_4baf3f7cfe4c4dae929d99fd2f116fba%29%3B%0A%20%20%20%20%20%20%20%20%0A%0A%20%20%20%20%20%20%20%20marker_7ba118fce39a48899544f62e6ad9e7a3.bindPopup%28popup_688844f4ce86493a81fffca42fc560cb%29%0A%20%20%20%20%20%20%20%20%3B%0A%0A%20%20%20%20%20%20%20%20%0A%20%20%20%20%0A%20%20%20%20%0A%20%20%20%20%20%20%20%20%20%20%20%20var%20marker_ecd4c30c19bc4965aaad47a27d0f0c7b%20%3D%20L.marker%28%0A%20%20%20%20%20%20%20%20%20%20%20%20%20%20%20%20%5B35.009385%2C%20-85.320912%5D%2C%0A%20%20%20%20%20%20%20%20%20%20%20%20%20%20%20%20%7B%7D%0A%20%20%20%20%20%20%20%20%20%20%20%20%29.addTo%28map_47fad1f26de4429684037b84e7d95d76%29%3B%0A%20%20%20%20%20%20%20%20%0A%20%20%20%20%0A%20%20%20%20%20%20%20%20var%20popup_5b73bd3a023d44298cd989349cfbc107%20%3D%20L.popup%28%7B%22maxWidth%22%3A%20%22100%25%22%7D%29%3B%0A%0A%20%20%20%20%20%20%20%20%0A%20%20%20%20%20%20%20%20%20%20%20%20var%20html_9950b8fe52a34479926be5a8b33e7bb6%20%3D%20%24%28%60%3Cdiv%20id%3D%22html_9950b8fe52a34479926be5a8b33e7bb6%22%20style%3D%22width%3A%20100.0%25%3B%20height%3A%20100.0%25%3B%22%3E0%20%20%20%20%20%20%20%20971%201%20%20%20%20%20%20%20%20146%202%20%20%20%20%20%20%201545%203%20%20%20%20%20%20%20%20972%204%20%20%20%20%20%20%20%20%2081%20%20%20%20%20%20%20%20%20...%20%201195%20%20%20%202131%201196%20%20%20%202274%201197%20%20%20%202275%201198%20%20%20%202276%201199%20%20%20%202277%20Name%3A%20stop_id%2C%20Length%3A%201200%2C%20dtype%3A%20object%3C/div%3E%60%29%5B0%5D%3B%0A%20%20%20%20%20%20%20%20%20%20%20%20popup_5b73bd3a023d44298cd989349cfbc107.setContent%28html_9950b8fe52a34479926be5a8b33e7bb6%29%3B%0A%20%20%20%20%20%20%20%20%0A%0A%20%20%20%20%20%20%20%20marker_ecd4c30c19bc4965aaad47a27d0f0c7b.bindPopup%28popup_5b73bd3a023d44298cd989349cfbc107%29%0A%20%20%20%20%20%20%20%20%3B%0A%0A%20%20%20%20%20%20%20%20%0A%20%20%20%20%0A%20%20%20%20%0A%20%20%20%20%20%20%20%20%20%20%20%20var%20marker_2df6c0d2f4e1458c9fd1328126fbb9ab%20%3D%20L.marker%28%0A%20%20%20%20%20%20%20%20%20%20%20%20%20%20%20%20%5B35.01059%2C%20-85.320022%5D%2C%0A%20%20%20%20%20%20%20%20%20%20%20%20%20%20%20%20%7B%7D%0A%20%20%20%20%20%20%20%20%20%20%20%20%29.addTo%28map_47fad1f26de4429684037b84e7d95d76%29%3B%0A%20%20%20%20%20%20%20%20%0A%20%20%20%20%0A%20%20%20%20%20%20%20%20var%20popup_4086c20afc854e5784d2a84755bebce7%20%3D%20L.popup%28%7B%22maxWidth%22%3A%20%22100%25%22%7D%29%3B%0A%0A%20%20%20%20%20%20%20%20%0A%20%20%20%20%20%20%20%20%20%20%20%20var%20html_45befd8831e844b1a8f9aa8df36f0f3d%20%3D%20%24%28%60%3Cdiv%20id%3D%22html_45befd8831e844b1a8f9aa8df36f0f3d%22%20style%3D%22width%3A%20100.0%25%3B%20height%3A%20100.0%25%3B%22%3E0%20%20%20%20%20%20%20%20971%201%20%20%20%20%20%20%20%20146%202%20%20%20%20%20%20%201545%203%20%20%20%20%20%20%20%20972%204%20%20%20%20%20%20%20%20%2081%20%20%20%20%20%20%20%20%20...%20%201195%20%20%20%202131%201196%20%20%20%202274%201197%20%20%20%202275%201198%20%20%20%202276%201199%20%20%20%202277%20Name%3A%20stop_id%2C%20Length%3A%201200%2C%20dtype%3A%20object%3C/div%3E%60%29%5B0%5D%3B%0A%20%20%20%20%20%20%20%20%20%20%20%20popup_4086c20afc854e5784d2a84755bebce7.setContent%28html_45befd8831e844b1a8f9aa8df36f0f3d%29%3B%0A%20%20%20%20%20%20%20%20%0A%0A%20%20%20%20%20%20%20%20marker_2df6c0d2f4e1458c9fd1328126fbb9ab.bindPopup%28popup_4086c20afc854e5784d2a84755bebce7%29%0A%20%20%20%20%20%20%20%20%3B%0A%0A%20%20%20%20%20%20%20%20%0A%20%20%20%20%0A%20%20%20%20%0A%20%20%20%20%20%20%20%20%20%20%20%20var%20marker_b97babc408d74874b479c90712d4c21f%20%3D%20L.marker%28%0A%20%20%20%20%20%20%20%20%20%20%20%20%20%20%20%20%5B35.008372%2C%20-85.321468%5D%2C%0A%20%20%20%20%20%20%20%20%20%20%20%20%20%20%20%20%7B%7D%0A%20%20%20%20%20%20%20%20%20%20%20%20%29.addTo%28map_47fad1f26de4429684037b84e7d95d76%29%3B%0A%20%20%20%20%20%20%20%20%0A%20%20%20%20%0A%20%20%20%20%20%20%20%20var%20popup_0156b4532125405992f1c5c67f4d32af%20%3D%20L.popup%28%7B%22maxWidth%22%3A%20%22100%25%22%7D%29%3B%0A%0A%20%20%20%20%20%20%20%20%0A%20%20%20%20%20%20%20%20%20%20%20%20var%20html_3d74eadab52946148c063dcd2a065566%20%3D%20%24%28%60%3Cdiv%20id%3D%22html_3d74eadab52946148c063dcd2a065566%22%20style%3D%22width%3A%20100.0%25%3B%20height%3A%20100.0%25%3B%22%3E0%20%20%20%20%20%20%20%20971%201%20%20%20%20%20%20%20%20146%202%20%20%20%20%20%20%201545%203%20%20%20%20%20%20%20%20972%204%20%20%20%20%20%20%20%20%2081%20%20%20%20%20%20%20%20%20...%20%201195%20%20%20%202131%201196%20%20%20%202274%201197%20%20%20%202275%201198%20%20%20%202276%201199%20%20%20%202277%20Name%3A%20stop_id%2C%20Length%3A%201200%2C%20dtype%3A%20object%3C/div%3E%60%29%5B0%5D%3B%0A%20%20%20%20%20%20%20%20%20%20%20%20popup_0156b4532125405992f1c5c67f4d32af.setContent%28html_3d74eadab52946148c063dcd2a065566%29%3B%0A%20%20%20%20%20%20%20%20%0A%0A%20%20%20%20%20%20%20%20marker_b97babc408d74874b479c90712d4c21f.bindPopup%28popup_0156b4532125405992f1c5c67f4d32af%29%0A%20%20%20%20%20%20%20%20%3B%0A%0A%20%20%20%20%20%20%20%20%0A%20%20%20%20%0A%20%20%20%20%0A%20%20%20%20%20%20%20%20%20%20%20%20var%20marker_4dc24cecf716406393e89a0d8d3fe943%20%3D%20L.marker%28%0A%20%20%20%20%20%20%20%20%20%20%20%20%20%20%20%20%5B35.008213%2C%20-85.322787%5D%2C%0A%20%20%20%20%20%20%20%20%20%20%20%20%20%20%20%20%7B%7D%0A%20%20%20%20%20%20%20%20%20%20%20%20%29.addTo%28map_47fad1f26de4429684037b84e7d95d76%29%3B%0A%20%20%20%20%20%20%20%20%0A%20%20%20%20%0A%20%20%20%20%20%20%20%20var%20popup_3498d45ef84f43c8a40c5a47d26be9f6%20%3D%20L.popup%28%7B%22maxWidth%22%3A%20%22100%25%22%7D%29%3B%0A%0A%20%20%20%20%20%20%20%20%0A%20%20%20%20%20%20%20%20%20%20%20%20var%20html_eeacf799f3114aed8b8d9bbf1c37cfe2%20%3D%20%24%28%60%3Cdiv%20id%3D%22html_eeacf799f3114aed8b8d9bbf1c37cfe2%22%20style%3D%22width%3A%20100.0%25%3B%20height%3A%20100.0%25%3B%22%3E0%20%20%20%20%20%20%20%20971%201%20%20%20%20%20%20%20%20146%202%20%20%20%20%20%20%201545%203%20%20%20%20%20%20%20%20972%204%20%20%20%20%20%20%20%20%2081%20%20%20%20%20%20%20%20%20...%20%201195%20%20%20%202131%201196%20%20%20%202274%201197%20%20%20%202275%201198%20%20%20%202276%201199%20%20%20%202277%20Name%3A%20stop_id%2C%20Length%3A%201200%2C%20dtype%3A%20object%3C/div%3E%60%29%5B0%5D%3B%0A%20%20%20%20%20%20%20%20%20%20%20%20popup_3498d45ef84f43c8a40c5a47d26be9f6.setContent%28html_eeacf799f3114aed8b8d9bbf1c37cfe2%29%3B%0A%20%20%20%20%20%20%20%20%0A%0A%20%20%20%20%20%20%20%20marker_4dc24cecf716406393e89a0d8d3fe943.bindPopup%28popup_3498d45ef84f43c8a40c5a47d26be9f6%29%0A%20%20%20%20%20%20%20%20%3B%0A%0A%20%20%20%20%20%20%20%20%0A%20%20%20%20%0A%20%20%20%20%0A%20%20%20%20%20%20%20%20%20%20%20%20var%20marker_3014097ad4e34ff2ac863b31c81691fc%20%3D%20L.marker%28%0A%20%20%20%20%20%20%20%20%20%20%20%20%20%20%20%20%5B35.008127%2C%20-85.325267%5D%2C%0A%20%20%20%20%20%20%20%20%20%20%20%20%20%20%20%20%7B%7D%0A%20%20%20%20%20%20%20%20%20%20%20%20%29.addTo%28map_47fad1f26de4429684037b84e7d95d76%29%3B%0A%20%20%20%20%20%20%20%20%0A%20%20%20%20%0A%20%20%20%20%20%20%20%20var%20popup_50d41c720eed41c4ac007e8c820234d8%20%3D%20L.popup%28%7B%22maxWidth%22%3A%20%22100%25%22%7D%29%3B%0A%0A%20%20%20%20%20%20%20%20%0A%20%20%20%20%20%20%20%20%20%20%20%20var%20html_8cbbcbaa8dc14b1089a277b6d0f2254a%20%3D%20%24%28%60%3Cdiv%20id%3D%22html_8cbbcbaa8dc14b1089a277b6d0f2254a%22%20style%3D%22width%3A%20100.0%25%3B%20height%3A%20100.0%25%3B%22%3E0%20%20%20%20%20%20%20%20971%201%20%20%20%20%20%20%20%20146%202%20%20%20%20%20%20%201545%203%20%20%20%20%20%20%20%20972%204%20%20%20%20%20%20%20%20%2081%20%20%20%20%20%20%20%20%20...%20%201195%20%20%20%202131%201196%20%20%20%202274%201197%20%20%20%202275%201198%20%20%20%202276%201199%20%20%20%202277%20Name%3A%20stop_id%2C%20Length%3A%201200%2C%20dtype%3A%20object%3C/div%3E%60%29%5B0%5D%3B%0A%20%20%20%20%20%20%20%20%20%20%20%20popup_50d41c720eed41c4ac007e8c820234d8.setContent%28html_8cbbcbaa8dc14b1089a277b6d0f2254a%29%3B%0A%20%20%20%20%20%20%20%20%0A%0A%20%20%20%20%20%20%20%20marker_3014097ad4e34ff2ac863b31c81691fc.bindPopup%28popup_50d41c720eed41c4ac007e8c820234d8%29%0A%20%20%20%20%20%20%20%20%3B%0A%0A%20%20%20%20%20%20%20%20%0A%20%20%20%20%0A%20%20%20%20%0A%20%20%20%20%20%20%20%20%20%20%20%20var%20marker_0eb0d4cbca1043c6ae2862b5c76f8797%20%3D%20L.marker%28%0A%20%20%20%20%20%20%20%20%20%20%20%20%20%20%20%20%5B35.048343%2C%20-85.309308%5D%2C%0A%20%20%20%20%20%20%20%20%20%20%20%20%20%20%20%20%7B%7D%0A%20%20%20%20%20%20%20%20%20%20%20%20%29.addTo%28map_47fad1f26de4429684037b84e7d95d76%29%3B%0A%20%20%20%20%20%20%20%20%0A%20%20%20%20%0A%20%20%20%20%20%20%20%20var%20popup_560d9e5567a547589fa22e7b5315878f%20%3D%20L.popup%28%7B%22maxWidth%22%3A%20%22100%25%22%7D%29%3B%0A%0A%20%20%20%20%20%20%20%20%0A%20%20%20%20%20%20%20%20%20%20%20%20var%20html_9bcd72347bf14eb883becbb37d91f688%20%3D%20%24%28%60%3Cdiv%20id%3D%22html_9bcd72347bf14eb883becbb37d91f688%22%20style%3D%22width%3A%20100.0%25%3B%20height%3A%20100.0%25%3B%22%3E0%20%20%20%20%20%20%20%20971%201%20%20%20%20%20%20%20%20146%202%20%20%20%20%20%20%201545%203%20%20%20%20%20%20%20%20972%204%20%20%20%20%20%20%20%20%2081%20%20%20%20%20%20%20%20%20...%20%201195%20%20%20%202131%201196%20%20%20%202274%201197%20%20%20%202275%201198%20%20%20%202276%201199%20%20%20%202277%20Name%3A%20stop_id%2C%20Length%3A%201200%2C%20dtype%3A%20object%3C/div%3E%60%29%5B0%5D%3B%0A%20%20%20%20%20%20%20%20%20%20%20%20popup_560d9e5567a547589fa22e7b5315878f.setContent%28html_9bcd72347bf14eb883becbb37d91f688%29%3B%0A%20%20%20%20%20%20%20%20%0A%0A%20%20%20%20%20%20%20%20marker_0eb0d4cbca1043c6ae2862b5c76f8797.bindPopup%28popup_560d9e5567a547589fa22e7b5315878f%29%0A%20%20%20%20%20%20%20%20%3B%0A%0A%20%20%20%20%20%20%20%20%0A%20%20%20%20%0A%20%20%20%20%0A%20%20%20%20%20%20%20%20%20%20%20%20var%20marker_049e2a73a14b4678975ae87213989900%20%3D%20L.marker%28%0A%20%20%20%20%20%20%20%20%20%20%20%20%20%20%20%20%5B35.048367%2C%20-85.308338%5D%2C%0A%20%20%20%20%20%20%20%20%20%20%20%20%20%20%20%20%7B%7D%0A%20%20%20%20%20%20%20%20%20%20%20%20%29.addTo%28map_47fad1f26de4429684037b84e7d95d76%29%3B%0A%20%20%20%20%20%20%20%20%0A%20%20%20%20%0A%20%20%20%20%20%20%20%20var%20popup_1aa934ea47294de7bb45e2804465999a%20%3D%20L.popup%28%7B%22maxWidth%22%3A%20%22100%25%22%7D%29%3B%0A%0A%20%20%20%20%20%20%20%20%0A%20%20%20%20%20%20%20%20%20%20%20%20var%20html_4f0d295dab8444bbbb7cfa87c1a276ed%20%3D%20%24%28%60%3Cdiv%20id%3D%22html_4f0d295dab8444bbbb7cfa87c1a276ed%22%20style%3D%22width%3A%20100.0%25%3B%20height%3A%20100.0%25%3B%22%3E0%20%20%20%20%20%20%20%20971%201%20%20%20%20%20%20%20%20146%202%20%20%20%20%20%20%201545%203%20%20%20%20%20%20%20%20972%204%20%20%20%20%20%20%20%20%2081%20%20%20%20%20%20%20%20%20...%20%201195%20%20%20%202131%201196%20%20%20%202274%201197%20%20%20%202275%201198%20%20%20%202276%201199%20%20%20%202277%20Name%3A%20stop_id%2C%20Length%3A%201200%2C%20dtype%3A%20object%3C/div%3E%60%29%5B0%5D%3B%0A%20%20%20%20%20%20%20%20%20%20%20%20popup_1aa934ea47294de7bb45e2804465999a.setContent%28html_4f0d295dab8444bbbb7cfa87c1a276ed%29%3B%0A%20%20%20%20%20%20%20%20%0A%0A%20%20%20%20%20%20%20%20marker_049e2a73a14b4678975ae87213989900.bindPopup%28popup_1aa934ea47294de7bb45e2804465999a%29%0A%20%20%20%20%20%20%20%20%3B%0A%0A%20%20%20%20%20%20%20%20%0A%20%20%20%20%0A%20%20%20%20%0A%20%20%20%20%20%20%20%20%20%20%20%20var%20marker_d27b95c2110d47769bdf5fecbe0cfabb%20%3D%20L.marker%28%0A%20%20%20%20%20%20%20%20%20%20%20%20%20%20%20%20%5B35.008167%2C%20-85.324138%5D%2C%0A%20%20%20%20%20%20%20%20%20%20%20%20%20%20%20%20%7B%7D%0A%20%20%20%20%20%20%20%20%20%20%20%20%29.addTo%28map_47fad1f26de4429684037b84e7d95d76%29%3B%0A%20%20%20%20%20%20%20%20%0A%20%20%20%20%0A%20%20%20%20%20%20%20%20var%20popup_fd6a54c3b97441e2a45361682a014daf%20%3D%20L.popup%28%7B%22maxWidth%22%3A%20%22100%25%22%7D%29%3B%0A%0A%20%20%20%20%20%20%20%20%0A%20%20%20%20%20%20%20%20%20%20%20%20var%20html_b4f360c7078742c999fcb4e4f40c0234%20%3D%20%24%28%60%3Cdiv%20id%3D%22html_b4f360c7078742c999fcb4e4f40c0234%22%20style%3D%22width%3A%20100.0%25%3B%20height%3A%20100.0%25%3B%22%3E0%20%20%20%20%20%20%20%20971%201%20%20%20%20%20%20%20%20146%202%20%20%20%20%20%20%201545%203%20%20%20%20%20%20%20%20972%204%20%20%20%20%20%20%20%20%2081%20%20%20%20%20%20%20%20%20...%20%201195%20%20%20%202131%201196%20%20%20%202274%201197%20%20%20%202275%201198%20%20%20%202276%201199%20%20%20%202277%20Name%3A%20stop_id%2C%20Length%3A%201200%2C%20dtype%3A%20object%3C/div%3E%60%29%5B0%5D%3B%0A%20%20%20%20%20%20%20%20%20%20%20%20popup_fd6a54c3b97441e2a45361682a014daf.setContent%28html_b4f360c7078742c999fcb4e4f40c0234%29%3B%0A%20%20%20%20%20%20%20%20%0A%0A%20%20%20%20%20%20%20%20marker_d27b95c2110d47769bdf5fecbe0cfabb.bindPopup%28popup_fd6a54c3b97441e2a45361682a014daf%29%0A%20%20%20%20%20%20%20%20%3B%0A%0A%20%20%20%20%20%20%20%20%0A%20%20%20%20%0A%20%20%20%20%0A%20%20%20%20%20%20%20%20%20%20%20%20var%20marker_7804f0f9766b4c28b886a4f7316e48e6%20%3D%20L.marker%28%0A%20%20%20%20%20%20%20%20%20%20%20%20%20%20%20%20%5B35.011027%2C%20-85.327397%5D%2C%0A%20%20%20%20%20%20%20%20%20%20%20%20%20%20%20%20%7B%7D%0A%20%20%20%20%20%20%20%20%20%20%20%20%29.addTo%28map_47fad1f26de4429684037b84e7d95d76%29%3B%0A%20%20%20%20%20%20%20%20%0A%20%20%20%20%0A%20%20%20%20%20%20%20%20var%20popup_ec441b1182f848ffae50853aafa852e5%20%3D%20L.popup%28%7B%22maxWidth%22%3A%20%22100%25%22%7D%29%3B%0A%0A%20%20%20%20%20%20%20%20%0A%20%20%20%20%20%20%20%20%20%20%20%20var%20html_d1c1e1932a6b40d19e28ca9851cc9fdd%20%3D%20%24%28%60%3Cdiv%20id%3D%22html_d1c1e1932a6b40d19e28ca9851cc9fdd%22%20style%3D%22width%3A%20100.0%25%3B%20height%3A%20100.0%25%3B%22%3E0%20%20%20%20%20%20%20%20971%201%20%20%20%20%20%20%20%20146%202%20%20%20%20%20%20%201545%203%20%20%20%20%20%20%20%20972%204%20%20%20%20%20%20%20%20%2081%20%20%20%20%20%20%20%20%20...%20%201195%20%20%20%202131%201196%20%20%20%202274%201197%20%20%20%202275%201198%20%20%20%202276%201199%20%20%20%202277%20Name%3A%20stop_id%2C%20Length%3A%201200%2C%20dtype%3A%20object%3C/div%3E%60%29%5B0%5D%3B%0A%20%20%20%20%20%20%20%20%20%20%20%20popup_ec441b1182f848ffae50853aafa852e5.setContent%28html_d1c1e1932a6b40d19e28ca9851cc9fdd%29%3B%0A%20%20%20%20%20%20%20%20%0A%0A%20%20%20%20%20%20%20%20marker_7804f0f9766b4c28b886a4f7316e48e6.bindPopup%28popup_ec441b1182f848ffae50853aafa852e5%29%0A%20%20%20%20%20%20%20%20%3B%0A%0A%20%20%20%20%20%20%20%20%0A%20%20%20%20%0A%20%20%20%20%0A%20%20%20%20%20%20%20%20%20%20%20%20var%20marker_0feaaec76b20460588e5fcd3efbf4100%20%3D%20L.marker%28%0A%20%20%20%20%20%20%20%20%20%20%20%20%20%20%20%20%5B35.014305%2C%20-85.32506%5D%2C%0A%20%20%20%20%20%20%20%20%20%20%20%20%20%20%20%20%7B%7D%0A%20%20%20%20%20%20%20%20%20%20%20%20%29.addTo%28map_47fad1f26de4429684037b84e7d95d76%29%3B%0A%20%20%20%20%20%20%20%20%0A%20%20%20%20%0A%20%20%20%20%20%20%20%20var%20popup_39540a51330847fa9f13665e01297502%20%3D%20L.popup%28%7B%22maxWidth%22%3A%20%22100%25%22%7D%29%3B%0A%0A%20%20%20%20%20%20%20%20%0A%20%20%20%20%20%20%20%20%20%20%20%20var%20html_2e6743aae7c1457cbb805c436d1a550f%20%3D%20%24%28%60%3Cdiv%20id%3D%22html_2e6743aae7c1457cbb805c436d1a550f%22%20style%3D%22width%3A%20100.0%25%3B%20height%3A%20100.0%25%3B%22%3E0%20%20%20%20%20%20%20%20971%201%20%20%20%20%20%20%20%20146%202%20%20%20%20%20%20%201545%203%20%20%20%20%20%20%20%20972%204%20%20%20%20%20%20%20%20%2081%20%20%20%20%20%20%20%20%20...%20%201195%20%20%20%202131%201196%20%20%20%202274%201197%20%20%20%202275%201198%20%20%20%202276%201199%20%20%20%202277%20Name%3A%20stop_id%2C%20Length%3A%201200%2C%20dtype%3A%20object%3C/div%3E%60%29%5B0%5D%3B%0A%20%20%20%20%20%20%20%20%20%20%20%20popup_39540a51330847fa9f13665e01297502.setContent%28html_2e6743aae7c1457cbb805c436d1a550f%29%3B%0A%20%20%20%20%20%20%20%20%0A%0A%20%20%20%20%20%20%20%20marker_0feaaec76b20460588e5fcd3efbf4100.bindPopup%28popup_39540a51330847fa9f13665e01297502%29%0A%20%20%20%20%20%20%20%20%3B%0A%0A%20%20%20%20%20%20%20%20%0A%20%20%20%20%0A%20%20%20%20%0A%20%20%20%20%20%20%20%20%20%20%20%20var%20marker_022ddce9547b47b2b2cc80f913af3d1a%20%3D%20L.marker%28%0A%20%20%20%20%20%20%20%20%20%20%20%20%20%20%20%20%5B35.012657%2C%20-85.32595%5D%2C%0A%20%20%20%20%20%20%20%20%20%20%20%20%20%20%20%20%7B%7D%0A%20%20%20%20%20%20%20%20%20%20%20%20%29.addTo%28map_47fad1f26de4429684037b84e7d95d76%29%3B%0A%20%20%20%20%20%20%20%20%0A%20%20%20%20%0A%20%20%20%20%20%20%20%20var%20popup_5338a6d206ae42b4b723af6624e76265%20%3D%20L.popup%28%7B%22maxWidth%22%3A%20%22100%25%22%7D%29%3B%0A%0A%20%20%20%20%20%20%20%20%0A%20%20%20%20%20%20%20%20%20%20%20%20var%20html_f50c116773634e9fa950dac7292d92dc%20%3D%20%24%28%60%3Cdiv%20id%3D%22html_f50c116773634e9fa950dac7292d92dc%22%20style%3D%22width%3A%20100.0%25%3B%20height%3A%20100.0%25%3B%22%3E0%20%20%20%20%20%20%20%20971%201%20%20%20%20%20%20%20%20146%202%20%20%20%20%20%20%201545%203%20%20%20%20%20%20%20%20972%204%20%20%20%20%20%20%20%20%2081%20%20%20%20%20%20%20%20%20...%20%201195%20%20%20%202131%201196%20%20%20%202274%201197%20%20%20%202275%201198%20%20%20%202276%201199%20%20%20%202277%20Name%3A%20stop_id%2C%20Length%3A%201200%2C%20dtype%3A%20object%3C/div%3E%60%29%5B0%5D%3B%0A%20%20%20%20%20%20%20%20%20%20%20%20popup_5338a6d206ae42b4b723af6624e76265.setContent%28html_f50c116773634e9fa950dac7292d92dc%29%3B%0A%20%20%20%20%20%20%20%20%0A%0A%20%20%20%20%20%20%20%20marker_022ddce9547b47b2b2cc80f913af3d1a.bindPopup%28popup_5338a6d206ae42b4b723af6624e76265%29%0A%20%20%20%20%20%20%20%20%3B%0A%0A%20%20%20%20%20%20%20%20%0A%20%20%20%20%0A%20%20%20%20%0A%20%20%20%20%20%20%20%20%20%20%20%20var%20marker_3f1ee8bdd2844cc8a65ae8a432490d27%20%3D%20L.marker%28%0A%20%20%20%20%20%20%20%20%20%20%20%20%20%20%20%20%5B35.015212%2C%20-85.323852%5D%2C%0A%20%20%20%20%20%20%20%20%20%20%20%20%20%20%20%20%7B%7D%0A%20%20%20%20%20%20%20%20%20%20%20%20%29.addTo%28map_47fad1f26de4429684037b84e7d95d76%29%3B%0A%20%20%20%20%20%20%20%20%0A%20%20%20%20%0A%20%20%20%20%20%20%20%20var%20popup_7560eed50622442fb4bcc01be6209d78%20%3D%20L.popup%28%7B%22maxWidth%22%3A%20%22100%25%22%7D%29%3B%0A%0A%20%20%20%20%20%20%20%20%0A%20%20%20%20%20%20%20%20%20%20%20%20var%20html_ae926d3de3584606b5ede033876a688f%20%3D%20%24%28%60%3Cdiv%20id%3D%22html_ae926d3de3584606b5ede033876a688f%22%20style%3D%22width%3A%20100.0%25%3B%20height%3A%20100.0%25%3B%22%3E0%20%20%20%20%20%20%20%20971%201%20%20%20%20%20%20%20%20146%202%20%20%20%20%20%20%201545%203%20%20%20%20%20%20%20%20972%204%20%20%20%20%20%20%20%20%2081%20%20%20%20%20%20%20%20%20...%20%201195%20%20%20%202131%201196%20%20%20%202274%201197%20%20%20%202275%201198%20%20%20%202276%201199%20%20%20%202277%20Name%3A%20stop_id%2C%20Length%3A%201200%2C%20dtype%3A%20object%3C/div%3E%60%29%5B0%5D%3B%0A%20%20%20%20%20%20%20%20%20%20%20%20popup_7560eed50622442fb4bcc01be6209d78.setContent%28html_ae926d3de3584606b5ede033876a688f%29%3B%0A%20%20%20%20%20%20%20%20%0A%0A%20%20%20%20%20%20%20%20marker_3f1ee8bdd2844cc8a65ae8a432490d27.bindPopup%28popup_7560eed50622442fb4bcc01be6209d78%29%0A%20%20%20%20%20%20%20%20%3B%0A%0A%20%20%20%20%20%20%20%20%0A%20%20%20%20%0A%20%20%20%20%0A%20%20%20%20%20%20%20%20%20%20%20%20var%20marker_44f56bbfc76345e6924d5b3b4cfd4c2f%20%3D%20L.marker%28%0A%20%20%20%20%20%20%20%20%20%20%20%20%20%20%20%20%5B35.016102%2C%20-85.32301%5D%2C%0A%20%20%20%20%20%20%20%20%20%20%20%20%20%20%20%20%7B%7D%0A%20%20%20%20%20%20%20%20%20%20%20%20%29.addTo%28map_47fad1f26de4429684037b84e7d95d76%29%3B%0A%20%20%20%20%20%20%20%20%0A%20%20%20%20%0A%20%20%20%20%20%20%20%20var%20popup_d178196a2f0447f3909f70862eb94459%20%3D%20L.popup%28%7B%22maxWidth%22%3A%20%22100%25%22%7D%29%3B%0A%0A%20%20%20%20%20%20%20%20%0A%20%20%20%20%20%20%20%20%20%20%20%20var%20html_d93cf1ece32147ff9ac6c2399771a56a%20%3D%20%24%28%60%3Cdiv%20id%3D%22html_d93cf1ece32147ff9ac6c2399771a56a%22%20style%3D%22width%3A%20100.0%25%3B%20height%3A%20100.0%25%3B%22%3E0%20%20%20%20%20%20%20%20971%201%20%20%20%20%20%20%20%20146%202%20%20%20%20%20%20%201545%203%20%20%20%20%20%20%20%20972%204%20%20%20%20%20%20%20%20%2081%20%20%20%20%20%20%20%20%20...%20%201195%20%20%20%202131%201196%20%20%20%202274%201197%20%20%20%202275%201198%20%20%20%202276%201199%20%20%20%202277%20Name%3A%20stop_id%2C%20Length%3A%201200%2C%20dtype%3A%20object%3C/div%3E%60%29%5B0%5D%3B%0A%20%20%20%20%20%20%20%20%20%20%20%20popup_d178196a2f0447f3909f70862eb94459.setContent%28html_d93cf1ece32147ff9ac6c2399771a56a%29%3B%0A%20%20%20%20%20%20%20%20%0A%0A%20%20%20%20%20%20%20%20marker_44f56bbfc76345e6924d5b3b4cfd4c2f.bindPopup%28popup_d178196a2f0447f3909f70862eb94459%29%0A%20%20%20%20%20%20%20%20%3B%0A%0A%20%20%20%20%20%20%20%20%0A%20%20%20%20%0A%20%20%20%20%0A%20%20%20%20%20%20%20%20%20%20%20%20var%20marker_14cc208bd47a495b9641f05248271afa%20%3D%20L.marker%28%0A%20%20%20%20%20%20%20%20%20%20%20%20%20%20%20%20%5B35.017432%2C%20-85.322215%5D%2C%0A%20%20%20%20%20%20%20%20%20%20%20%20%20%20%20%20%7B%7D%0A%20%20%20%20%20%20%20%20%20%20%20%20%29.addTo%28map_47fad1f26de4429684037b84e7d95d76%29%3B%0A%20%20%20%20%20%20%20%20%0A%20%20%20%20%0A%20%20%20%20%20%20%20%20var%20popup_f36a0ddd36ae41409f08acc831c5b1e2%20%3D%20L.popup%28%7B%22maxWidth%22%3A%20%22100%25%22%7D%29%3B%0A%0A%20%20%20%20%20%20%20%20%0A%20%20%20%20%20%20%20%20%20%20%20%20var%20html_c9c8ec88db00400e80fba87a8c854e3d%20%3D%20%24%28%60%3Cdiv%20id%3D%22html_c9c8ec88db00400e80fba87a8c854e3d%22%20style%3D%22width%3A%20100.0%25%3B%20height%3A%20100.0%25%3B%22%3E0%20%20%20%20%20%20%20%20971%201%20%20%20%20%20%20%20%20146%202%20%20%20%20%20%20%201545%203%20%20%20%20%20%20%20%20972%204%20%20%20%20%20%20%20%20%2081%20%20%20%20%20%20%20%20%20...%20%201195%20%20%20%202131%201196%20%20%20%202274%201197%20%20%20%202275%201198%20%20%20%202276%201199%20%20%20%202277%20Name%3A%20stop_id%2C%20Length%3A%201200%2C%20dtype%3A%20object%3C/div%3E%60%29%5B0%5D%3B%0A%20%20%20%20%20%20%20%20%20%20%20%20popup_f36a0ddd36ae41409f08acc831c5b1e2.setContent%28html_c9c8ec88db00400e80fba87a8c854e3d%29%3B%0A%20%20%20%20%20%20%20%20%0A%0A%20%20%20%20%20%20%20%20marker_14cc208bd47a495b9641f05248271afa.bindPopup%28popup_f36a0ddd36ae41409f08acc831c5b1e2%29%0A%20%20%20%20%20%20%20%20%3B%0A%0A%20%20%20%20%20%20%20%20%0A%20%20%20%20%0A%20%20%20%20%0A%20%20%20%20%20%20%20%20%20%20%20%20var%20marker_641c14a31dc744498a0b3b5c5b25c8e9%20%3D%20L.marker%28%0A%20%20%20%20%20%20%20%20%20%20%20%20%20%20%20%20%5B35.01727%2C%20-85.321325%5D%2C%0A%20%20%20%20%20%20%20%20%20%20%20%20%20%20%20%20%7B%7D%0A%20%20%20%20%20%20%20%20%20%20%20%20%29.addTo%28map_47fad1f26de4429684037b84e7d95d76%29%3B%0A%20%20%20%20%20%20%20%20%0A%20%20%20%20%0A%20%20%20%20%20%20%20%20var%20popup_99bea1e810f8483abd702167a83632f7%20%3D%20L.popup%28%7B%22maxWidth%22%3A%20%22100%25%22%7D%29%3B%0A%0A%20%20%20%20%20%20%20%20%0A%20%20%20%20%20%20%20%20%20%20%20%20var%20html_7f8972f6b49b450eb67a2c4bb97fd013%20%3D%20%24%28%60%3Cdiv%20id%3D%22html_7f8972f6b49b450eb67a2c4bb97fd013%22%20style%3D%22width%3A%20100.0%25%3B%20height%3A%20100.0%25%3B%22%3E0%20%20%20%20%20%20%20%20971%201%20%20%20%20%20%20%20%20146%202%20%20%20%20%20%20%201545%203%20%20%20%20%20%20%20%20972%204%20%20%20%20%20%20%20%20%2081%20%20%20%20%20%20%20%20%20...%20%201195%20%20%20%202131%201196%20%20%20%202274%201197%20%20%20%202275%201198%20%20%20%202276%201199%20%20%20%202277%20Name%3A%20stop_id%2C%20Length%3A%201200%2C%20dtype%3A%20object%3C/div%3E%60%29%5B0%5D%3B%0A%20%20%20%20%20%20%20%20%20%20%20%20popup_99bea1e810f8483abd702167a83632f7.setContent%28html_7f8972f6b49b450eb67a2c4bb97fd013%29%3B%0A%20%20%20%20%20%20%20%20%0A%0A%20%20%20%20%20%20%20%20marker_641c14a31dc744498a0b3b5c5b25c8e9.bindPopup%28popup_99bea1e810f8483abd702167a83632f7%29%0A%20%20%20%20%20%20%20%20%3B%0A%0A%20%20%20%20%20%20%20%20%0A%20%20%20%20%0A%20%20%20%20%0A%20%20%20%20%20%20%20%20%20%20%20%20var%20marker_819daaf80eac4a2ca3dd7dac84709d0b%20%3D%20L.marker%28%0A%20%20%20%20%20%20%20%20%20%20%20%20%20%20%20%20%5B35.016888%2C%20-85.320228%5D%2C%0A%20%20%20%20%20%20%20%20%20%20%20%20%20%20%20%20%7B%7D%0A%20%20%20%20%20%20%20%20%20%20%20%20%29.addTo%28map_47fad1f26de4429684037b84e7d95d76%29%3B%0A%20%20%20%20%20%20%20%20%0A%20%20%20%20%0A%20%20%20%20%20%20%20%20var%20popup_2828eb3e37a9413e9cfb36edc9638d40%20%3D%20L.popup%28%7B%22maxWidth%22%3A%20%22100%25%22%7D%29%3B%0A%0A%20%20%20%20%20%20%20%20%0A%20%20%20%20%20%20%20%20%20%20%20%20var%20html_c99f85ed4cce4610a2bde7921d33caeb%20%3D%20%24%28%60%3Cdiv%20id%3D%22html_c99f85ed4cce4610a2bde7921d33caeb%22%20style%3D%22width%3A%20100.0%25%3B%20height%3A%20100.0%25%3B%22%3E0%20%20%20%20%20%20%20%20971%201%20%20%20%20%20%20%20%20146%202%20%20%20%20%20%20%201545%203%20%20%20%20%20%20%20%20972%204%20%20%20%20%20%20%20%20%2081%20%20%20%20%20%20%20%20%20...%20%201195%20%20%20%202131%201196%20%20%20%202274%201197%20%20%20%202275%201198%20%20%20%202276%201199%20%20%20%202277%20Name%3A%20stop_id%2C%20Length%3A%201200%2C%20dtype%3A%20object%3C/div%3E%60%29%5B0%5D%3B%0A%20%20%20%20%20%20%20%20%20%20%20%20popup_2828eb3e37a9413e9cfb36edc9638d40.setContent%28html_c99f85ed4cce4610a2bde7921d33caeb%29%3B%0A%20%20%20%20%20%20%20%20%0A%0A%20%20%20%20%20%20%20%20marker_819daaf80eac4a2ca3dd7dac84709d0b.bindPopup%28popup_2828eb3e37a9413e9cfb36edc9638d40%29%0A%20%20%20%20%20%20%20%20%3B%0A%0A%20%20%20%20%20%20%20%20%0A%20%20%20%20%0A%20%20%20%20%0A%20%20%20%20%20%20%20%20%20%20%20%20var%20marker_4f59ac728d75450cbfc394f6696a3874%20%3D%20L.marker%28%0A%20%20%20%20%20%20%20%20%20%20%20%20%20%20%20%20%5B35.01647%2C%20-85.319037%5D%2C%0A%20%20%20%20%20%20%20%20%20%20%20%20%20%20%20%20%7B%7D%0A%20%20%20%20%20%20%20%20%20%20%20%20%29.addTo%28map_47fad1f26de4429684037b84e7d95d76%29%3B%0A%20%20%20%20%20%20%20%20%0A%20%20%20%20%0A%20%20%20%20%20%20%20%20var%20popup_bcb1dbe007a748a08b66e2a90d97f8af%20%3D%20L.popup%28%7B%22maxWidth%22%3A%20%22100%25%22%7D%29%3B%0A%0A%20%20%20%20%20%20%20%20%0A%20%20%20%20%20%20%20%20%20%20%20%20var%20html_f309fca7c8c749b5b7fa3c1b259aa0ce%20%3D%20%24%28%60%3Cdiv%20id%3D%22html_f309fca7c8c749b5b7fa3c1b259aa0ce%22%20style%3D%22width%3A%20100.0%25%3B%20height%3A%20100.0%25%3B%22%3E0%20%20%20%20%20%20%20%20971%201%20%20%20%20%20%20%20%20146%202%20%20%20%20%20%20%201545%203%20%20%20%20%20%20%20%20972%204%20%20%20%20%20%20%20%20%2081%20%20%20%20%20%20%20%20%20...%20%201195%20%20%20%202131%201196%20%20%20%202274%201197%20%20%20%202275%201198%20%20%20%202276%201199%20%20%20%202277%20Name%3A%20stop_id%2C%20Length%3A%201200%2C%20dtype%3A%20object%3C/div%3E%60%29%5B0%5D%3B%0A%20%20%20%20%20%20%20%20%20%20%20%20popup_bcb1dbe007a748a08b66e2a90d97f8af.setContent%28html_f309fca7c8c749b5b7fa3c1b259aa0ce%29%3B%0A%20%20%20%20%20%20%20%20%0A%0A%20%20%20%20%20%20%20%20marker_4f59ac728d75450cbfc394f6696a3874.bindPopup%28popup_bcb1dbe007a748a08b66e2a90d97f8af%29%0A%20%20%20%20%20%20%20%20%3B%0A%0A%20%20%20%20%20%20%20%20%0A%20%20%20%20%0A%20%20%20%20%0A%20%20%20%20%20%20%20%20%20%20%20%20var%20marker_614641b4f07a4e98bce4276674a41e59%20%3D%20L.marker%28%0A%20%20%20%20%20%20%20%20%20%20%20%20%20%20%20%20%5B35.014933%2C%20-85.314602%5D%2C%0A%20%20%20%20%20%20%20%20%20%20%20%20%20%20%20%20%7B%7D%0A%20%20%20%20%20%20%20%20%20%20%20%20%29.addTo%28map_47fad1f26de4429684037b84e7d95d76%29%3B%0A%20%20%20%20%20%20%20%20%0A%20%20%20%20%0A%20%20%20%20%20%20%20%20var%20popup_754955a24eb84b16be705bd72015aecf%20%3D%20L.popup%28%7B%22maxWidth%22%3A%20%22100%25%22%7D%29%3B%0A%0A%20%20%20%20%20%20%20%20%0A%20%20%20%20%20%20%20%20%20%20%20%20var%20html_f8ea4ed81e7845b1a762fb33ca825e25%20%3D%20%24%28%60%3Cdiv%20id%3D%22html_f8ea4ed81e7845b1a762fb33ca825e25%22%20style%3D%22width%3A%20100.0%25%3B%20height%3A%20100.0%25%3B%22%3E0%20%20%20%20%20%20%20%20971%201%20%20%20%20%20%20%20%20146%202%20%20%20%20%20%20%201545%203%20%20%20%20%20%20%20%20972%204%20%20%20%20%20%20%20%20%2081%20%20%20%20%20%20%20%20%20...%20%201195%20%20%20%202131%201196%20%20%20%202274%201197%20%20%20%202275%201198%20%20%20%202276%201199%20%20%20%202277%20Name%3A%20stop_id%2C%20Length%3A%201200%2C%20dtype%3A%20object%3C/div%3E%60%29%5B0%5D%3B%0A%20%20%20%20%20%20%20%20%20%20%20%20popup_754955a24eb84b16be705bd72015aecf.setContent%28html_f8ea4ed81e7845b1a762fb33ca825e25%29%3B%0A%20%20%20%20%20%20%20%20%0A%0A%20%20%20%20%20%20%20%20marker_614641b4f07a4e98bce4276674a41e59.bindPopup%28popup_754955a24eb84b16be705bd72015aecf%29%0A%20%20%20%20%20%20%20%20%3B%0A%0A%20%20%20%20%20%20%20%20%0A%20%20%20%20%0A%20%20%20%20%0A%20%20%20%20%20%20%20%20%20%20%20%20var%20marker_8036c661cd2b473b8783cbc42938759a%20%3D%20L.marker%28%0A%20%20%20%20%20%20%20%20%20%20%20%20%20%20%20%20%5B35.015752%2C%20-85.31697%5D%2C%0A%20%20%20%20%20%20%20%20%20%20%20%20%20%20%20%20%7B%7D%0A%20%20%20%20%20%20%20%20%20%20%20%20%29.addTo%28map_47fad1f26de4429684037b84e7d95d76%29%3B%0A%20%20%20%20%20%20%20%20%0A%20%20%20%20%0A%20%20%20%20%20%20%20%20var%20popup_37ebc7ac842f4e58998eab49d354c8f6%20%3D%20L.popup%28%7B%22maxWidth%22%3A%20%22100%25%22%7D%29%3B%0A%0A%20%20%20%20%20%20%20%20%0A%20%20%20%20%20%20%20%20%20%20%20%20var%20html_7e8735f7cc044d4e9b2c195283b9ee14%20%3D%20%24%28%60%3Cdiv%20id%3D%22html_7e8735f7cc044d4e9b2c195283b9ee14%22%20style%3D%22width%3A%20100.0%25%3B%20height%3A%20100.0%25%3B%22%3E0%20%20%20%20%20%20%20%20971%201%20%20%20%20%20%20%20%20146%202%20%20%20%20%20%20%201545%203%20%20%20%20%20%20%20%20972%204%20%20%20%20%20%20%20%20%2081%20%20%20%20%20%20%20%20%20...%20%201195%20%20%20%202131%201196%20%20%20%202274%201197%20%20%20%202275%201198%20%20%20%202276%201199%20%20%20%202277%20Name%3A%20stop_id%2C%20Length%3A%201200%2C%20dtype%3A%20object%3C/div%3E%60%29%5B0%5D%3B%0A%20%20%20%20%20%20%20%20%20%20%20%20popup_37ebc7ac842f4e58998eab49d354c8f6.setContent%28html_7e8735f7cc044d4e9b2c195283b9ee14%29%3B%0A%20%20%20%20%20%20%20%20%0A%0A%20%20%20%20%20%20%20%20marker_8036c661cd2b473b8783cbc42938759a.bindPopup%28popup_37ebc7ac842f4e58998eab49d354c8f6%29%0A%20%20%20%20%20%20%20%20%3B%0A%0A%20%20%20%20%20%20%20%20%0A%20%20%20%20%0A%20%20%20%20%0A%20%20%20%20%20%20%20%20%20%20%20%20var%20marker_3a1811f7c1d743379f4953171a5cea89%20%3D%20L.marker%28%0A%20%20%20%20%20%20%20%20%20%20%20%20%20%20%20%20%5B35.016097%2C%20-85.317972%5D%2C%0A%20%20%20%20%20%20%20%20%20%20%20%20%20%20%20%20%7B%7D%0A%20%20%20%20%20%20%20%20%20%20%20%20%29.addTo%28map_47fad1f26de4429684037b84e7d95d76%29%3B%0A%20%20%20%20%20%20%20%20%0A%20%20%20%20%0A%20%20%20%20%20%20%20%20var%20popup_5bc3cd52f22c48ab89158594f97a90d1%20%3D%20L.popup%28%7B%22maxWidth%22%3A%20%22100%25%22%7D%29%3B%0A%0A%20%20%20%20%20%20%20%20%0A%20%20%20%20%20%20%20%20%20%20%20%20var%20html_8cd0da228cc74b5b84759446dd296a36%20%3D%20%24%28%60%3Cdiv%20id%3D%22html_8cd0da228cc74b5b84759446dd296a36%22%20style%3D%22width%3A%20100.0%25%3B%20height%3A%20100.0%25%3B%22%3E0%20%20%20%20%20%20%20%20971%201%20%20%20%20%20%20%20%20146%202%20%20%20%20%20%20%201545%203%20%20%20%20%20%20%20%20972%204%20%20%20%20%20%20%20%20%2081%20%20%20%20%20%20%20%20%20...%20%201195%20%20%20%202131%201196%20%20%20%202274%201197%20%20%20%202275%201198%20%20%20%202276%201199%20%20%20%202277%20Name%3A%20stop_id%2C%20Length%3A%201200%2C%20dtype%3A%20object%3C/div%3E%60%29%5B0%5D%3B%0A%20%20%20%20%20%20%20%20%20%20%20%20popup_5bc3cd52f22c48ab89158594f97a90d1.setContent%28html_8cd0da228cc74b5b84759446dd296a36%29%3B%0A%20%20%20%20%20%20%20%20%0A%0A%20%20%20%20%20%20%20%20marker_3a1811f7c1d743379f4953171a5cea89.bindPopup%28popup_5bc3cd52f22c48ab89158594f97a90d1%29%0A%20%20%20%20%20%20%20%20%3B%0A%0A%20%20%20%20%20%20%20%20%0A%20%20%20%20%0A%20%20%20%20%0A%20%20%20%20%20%20%20%20%20%20%20%20var%20marker_8697453113d8414e977125769aa1986b%20%3D%20L.marker%28%0A%20%20%20%20%20%20%20%20%20%20%20%20%20%20%20%20%5B35.017273%2C%20-85.312997%5D%2C%0A%20%20%20%20%20%20%20%20%20%20%20%20%20%20%20%20%7B%7D%0A%20%20%20%20%20%20%20%20%20%20%20%20%29.addTo%28map_47fad1f26de4429684037b84e7d95d76%29%3B%0A%20%20%20%20%20%20%20%20%0A%20%20%20%20%0A%20%20%20%20%20%20%20%20var%20popup_5442418c97e740f0aedf67693f9bb393%20%3D%20L.popup%28%7B%22maxWidth%22%3A%20%22100%25%22%7D%29%3B%0A%0A%20%20%20%20%20%20%20%20%0A%20%20%20%20%20%20%20%20%20%20%20%20var%20html_6bbe3f402ca34bf6a9ba8390c568f1fe%20%3D%20%24%28%60%3Cdiv%20id%3D%22html_6bbe3f402ca34bf6a9ba8390c568f1fe%22%20style%3D%22width%3A%20100.0%25%3B%20height%3A%20100.0%25%3B%22%3E0%20%20%20%20%20%20%20%20971%201%20%20%20%20%20%20%20%20146%202%20%20%20%20%20%20%201545%203%20%20%20%20%20%20%20%20972%204%20%20%20%20%20%20%20%20%2081%20%20%20%20%20%20%20%20%20...%20%201195%20%20%20%202131%201196%20%20%20%202274%201197%20%20%20%202275%201198%20%20%20%202276%201199%20%20%20%202277%20Name%3A%20stop_id%2C%20Length%3A%201200%2C%20dtype%3A%20object%3C/div%3E%60%29%5B0%5D%3B%0A%20%20%20%20%20%20%20%20%20%20%20%20popup_5442418c97e740f0aedf67693f9bb393.setContent%28html_6bbe3f402ca34bf6a9ba8390c568f1fe%29%3B%0A%20%20%20%20%20%20%20%20%0A%0A%20%20%20%20%20%20%20%20marker_8697453113d8414e977125769aa1986b.bindPopup%28popup_5442418c97e740f0aedf67693f9bb393%29%0A%20%20%20%20%20%20%20%20%3B%0A%0A%20%20%20%20%20%20%20%20%0A%20%20%20%20%0A%20%20%20%20%0A%20%20%20%20%20%20%20%20%20%20%20%20var%20marker_b7cada9376e0411c9907ec087aa4b59d%20%3D%20L.marker%28%0A%20%20%20%20%20%20%20%20%20%20%20%20%20%20%20%20%5B35.018855%2C%20-85.312105%5D%2C%0A%20%20%20%20%20%20%20%20%20%20%20%20%20%20%20%20%7B%7D%0A%20%20%20%20%20%20%20%20%20%20%20%20%29.addTo%28map_47fad1f26de4429684037b84e7d95d76%29%3B%0A%20%20%20%20%20%20%20%20%0A%20%20%20%20%0A%20%20%20%20%20%20%20%20var%20popup_1a08131762fe4ee0b40f1c72a0f4339a%20%3D%20L.popup%28%7B%22maxWidth%22%3A%20%22100%25%22%7D%29%3B%0A%0A%20%20%20%20%20%20%20%20%0A%20%20%20%20%20%20%20%20%20%20%20%20var%20html_381a7e9b788645aa8879146961fa8e65%20%3D%20%24%28%60%3Cdiv%20id%3D%22html_381a7e9b788645aa8879146961fa8e65%22%20style%3D%22width%3A%20100.0%25%3B%20height%3A%20100.0%25%3B%22%3E0%20%20%20%20%20%20%20%20971%201%20%20%20%20%20%20%20%20146%202%20%20%20%20%20%20%201545%203%20%20%20%20%20%20%20%20972%204%20%20%20%20%20%20%20%20%2081%20%20%20%20%20%20%20%20%20...%20%201195%20%20%20%202131%201196%20%20%20%202274%201197%20%20%20%202275%201198%20%20%20%202276%201199%20%20%20%202277%20Name%3A%20stop_id%2C%20Length%3A%201200%2C%20dtype%3A%20object%3C/div%3E%60%29%5B0%5D%3B%0A%20%20%20%20%20%20%20%20%20%20%20%20popup_1a08131762fe4ee0b40f1c72a0f4339a.setContent%28html_381a7e9b788645aa8879146961fa8e65%29%3B%0A%20%20%20%20%20%20%20%20%0A%0A%20%20%20%20%20%20%20%20marker_b7cada9376e0411c9907ec087aa4b59d.bindPopup%28popup_1a08131762fe4ee0b40f1c72a0f4339a%29%0A%20%20%20%20%20%20%20%20%3B%0A%0A%20%20%20%20%20%20%20%20%0A%20%20%20%20%0A%20%20%20%20%0A%20%20%20%20%20%20%20%20%20%20%20%20var%20marker_539151f35fa74b9cb18a81531e632c17%20%3D%20L.marker%28%0A%20%20%20%20%20%20%20%20%20%20%20%20%20%20%20%20%5B35.019952%2C%20-85.311502%5D%2C%0A%20%20%20%20%20%20%20%20%20%20%20%20%20%20%20%20%7B%7D%0A%20%20%20%20%20%20%20%20%20%20%20%20%29.addTo%28map_47fad1f26de4429684037b84e7d95d76%29%3B%0A%20%20%20%20%20%20%20%20%0A%20%20%20%20%0A%20%20%20%20%20%20%20%20var%20popup_ef0bda2720da4e47a0cdd31a439656b0%20%3D%20L.popup%28%7B%22maxWidth%22%3A%20%22100%25%22%7D%29%3B%0A%0A%20%20%20%20%20%20%20%20%0A%20%20%20%20%20%20%20%20%20%20%20%20var%20html_7b1ff4254bcd4d75b34dc3fddf93dd43%20%3D%20%24%28%60%3Cdiv%20id%3D%22html_7b1ff4254bcd4d75b34dc3fddf93dd43%22%20style%3D%22width%3A%20100.0%25%3B%20height%3A%20100.0%25%3B%22%3E0%20%20%20%20%20%20%20%20971%201%20%20%20%20%20%20%20%20146%202%20%20%20%20%20%20%201545%203%20%20%20%20%20%20%20%20972%204%20%20%20%20%20%20%20%20%2081%20%20%20%20%20%20%20%20%20...%20%201195%20%20%20%202131%201196%20%20%20%202274%201197%20%20%20%202275%201198%20%20%20%202276%201199%20%20%20%202277%20Name%3A%20stop_id%2C%20Length%3A%201200%2C%20dtype%3A%20object%3C/div%3E%60%29%5B0%5D%3B%0A%20%20%20%20%20%20%20%20%20%20%20%20popup_ef0bda2720da4e47a0cdd31a439656b0.setContent%28html_7b1ff4254bcd4d75b34dc3fddf93dd43%29%3B%0A%20%20%20%20%20%20%20%20%0A%0A%20%20%20%20%20%20%20%20marker_539151f35fa74b9cb18a81531e632c17.bindPopup%28popup_ef0bda2720da4e47a0cdd31a439656b0%29%0A%20%20%20%20%20%20%20%20%3B%0A%0A%20%20%20%20%20%20%20%20%0A%20%20%20%20%0A%20%20%20%20%0A%20%20%20%20%20%20%20%20%20%20%20%20var%20marker_4ba874788df9448881b854d71946de5f%20%3D%20L.marker%28%0A%20%20%20%20%20%20%20%20%20%20%20%20%20%20%20%20%5B35.025455%2C%20-85.31155%5D%2C%0A%20%20%20%20%20%20%20%20%20%20%20%20%20%20%20%20%7B%7D%0A%20%20%20%20%20%20%20%20%20%20%20%20%29.addTo%28map_47fad1f26de4429684037b84e7d95d76%29%3B%0A%20%20%20%20%20%20%20%20%0A%20%20%20%20%0A%20%20%20%20%20%20%20%20var%20popup_83b849ddc5914cb4b87d2a769c41f641%20%3D%20L.popup%28%7B%22maxWidth%22%3A%20%22100%25%22%7D%29%3B%0A%0A%20%20%20%20%20%20%20%20%0A%20%20%20%20%20%20%20%20%20%20%20%20var%20html_f217002bf3f741faa22e917e4f276370%20%3D%20%24%28%60%3Cdiv%20id%3D%22html_f217002bf3f741faa22e917e4f276370%22%20style%3D%22width%3A%20100.0%25%3B%20height%3A%20100.0%25%3B%22%3E0%20%20%20%20%20%20%20%20971%201%20%20%20%20%20%20%20%20146%202%20%20%20%20%20%20%201545%203%20%20%20%20%20%20%20%20972%204%20%20%20%20%20%20%20%20%2081%20%20%20%20%20%20%20%20%20...%20%201195%20%20%20%202131%201196%20%20%20%202274%201197%20%20%20%202275%201198%20%20%20%202276%201199%20%20%20%202277%20Name%3A%20stop_id%2C%20Length%3A%201200%2C%20dtype%3A%20object%3C/div%3E%60%29%5B0%5D%3B%0A%20%20%20%20%20%20%20%20%20%20%20%20popup_83b849ddc5914cb4b87d2a769c41f641.setContent%28html_f217002bf3f741faa22e917e4f276370%29%3B%0A%20%20%20%20%20%20%20%20%0A%0A%20%20%20%20%20%20%20%20marker_4ba874788df9448881b854d71946de5f.bindPopup%28popup_83b849ddc5914cb4b87d2a769c41f641%29%0A%20%20%20%20%20%20%20%20%3B%0A%0A%20%20%20%20%20%20%20%20%0A%20%20%20%20%0A%20%20%20%20%0A%20%20%20%20%20%20%20%20%20%20%20%20var%20marker_8256ffd371c84bcdac731044b9b15919%20%3D%20L.marker%28%0A%20%20%20%20%20%20%20%20%20%20%20%20%20%20%20%20%5B35.026485%2C%20-85.310993%5D%2C%0A%20%20%20%20%20%20%20%20%20%20%20%20%20%20%20%20%7B%7D%0A%20%20%20%20%20%20%20%20%20%20%20%20%29.addTo%28map_47fad1f26de4429684037b84e7d95d76%29%3B%0A%20%20%20%20%20%20%20%20%0A%20%20%20%20%0A%20%20%20%20%20%20%20%20var%20popup_158c2e2121174000a11711d21248956e%20%3D%20L.popup%28%7B%22maxWidth%22%3A%20%22100%25%22%7D%29%3B%0A%0A%20%20%20%20%20%20%20%20%0A%20%20%20%20%20%20%20%20%20%20%20%20var%20html_e26094d93e754bb0bdde29578b0e664c%20%3D%20%24%28%60%3Cdiv%20id%3D%22html_e26094d93e754bb0bdde29578b0e664c%22%20style%3D%22width%3A%20100.0%25%3B%20height%3A%20100.0%25%3B%22%3E0%20%20%20%20%20%20%20%20971%201%20%20%20%20%20%20%20%20146%202%20%20%20%20%20%20%201545%203%20%20%20%20%20%20%20%20972%204%20%20%20%20%20%20%20%20%2081%20%20%20%20%20%20%20%20%20...%20%201195%20%20%20%202131%201196%20%20%20%202274%201197%20%20%20%202275%201198%20%20%20%202276%201199%20%20%20%202277%20Name%3A%20stop_id%2C%20Length%3A%201200%2C%20dtype%3A%20object%3C/div%3E%60%29%5B0%5D%3B%0A%20%20%20%20%20%20%20%20%20%20%20%20popup_158c2e2121174000a11711d21248956e.setContent%28html_e26094d93e754bb0bdde29578b0e664c%29%3B%0A%20%20%20%20%20%20%20%20%0A%0A%20%20%20%20%20%20%20%20marker_8256ffd371c84bcdac731044b9b15919.bindPopup%28popup_158c2e2121174000a11711d21248956e%29%0A%20%20%20%20%20%20%20%20%3B%0A%0A%20%20%20%20%20%20%20%20%0A%20%20%20%20%0A%20%20%20%20%0A%20%20%20%20%20%20%20%20%20%20%20%20var%20marker_1480869420e9415dacd8d8e8232346b0%20%3D%20L.marker%28%0A%20%20%20%20%20%20%20%20%20%20%20%20%20%20%20%20%5B35.030812%2C%20-85.3088%5D%2C%0A%20%20%20%20%20%20%20%20%20%20%20%20%20%20%20%20%7B%7D%0A%20%20%20%20%20%20%20%20%20%20%20%20%29.addTo%28map_47fad1f26de4429684037b84e7d95d76%29%3B%0A%20%20%20%20%20%20%20%20%0A%20%20%20%20%0A%20%20%20%20%20%20%20%20var%20popup_4ffed14dd91b4589979e255af1700e31%20%3D%20L.popup%28%7B%22maxWidth%22%3A%20%22100%25%22%7D%29%3B%0A%0A%20%20%20%20%20%20%20%20%0A%20%20%20%20%20%20%20%20%20%20%20%20var%20html_23a2f453a9de4183a4fec11eb4faca61%20%3D%20%24%28%60%3Cdiv%20id%3D%22html_23a2f453a9de4183a4fec11eb4faca61%22%20style%3D%22width%3A%20100.0%25%3B%20height%3A%20100.0%25%3B%22%3E0%20%20%20%20%20%20%20%20971%201%20%20%20%20%20%20%20%20146%202%20%20%20%20%20%20%201545%203%20%20%20%20%20%20%20%20972%204%20%20%20%20%20%20%20%20%2081%20%20%20%20%20%20%20%20%20...%20%201195%20%20%20%202131%201196%20%20%20%202274%201197%20%20%20%202275%201198%20%20%20%202276%201199%20%20%20%202277%20Name%3A%20stop_id%2C%20Length%3A%201200%2C%20dtype%3A%20object%3C/div%3E%60%29%5B0%5D%3B%0A%20%20%20%20%20%20%20%20%20%20%20%20popup_4ffed14dd91b4589979e255af1700e31.setContent%28html_23a2f453a9de4183a4fec11eb4faca61%29%3B%0A%20%20%20%20%20%20%20%20%0A%0A%20%20%20%20%20%20%20%20marker_1480869420e9415dacd8d8e8232346b0.bindPopup%28popup_4ffed14dd91b4589979e255af1700e31%29%0A%20%20%20%20%20%20%20%20%3B%0A%0A%20%20%20%20%20%20%20%20%0A%20%20%20%20%0A%20%20%20%20%0A%20%20%20%20%20%20%20%20%20%20%20%20var%20marker_b38c5e5aaed443a0a13e7fcf88f9efd5%20%3D%20L.marker%28%0A%20%20%20%20%20%20%20%20%20%20%20%20%20%20%20%20%5B35.03227%2C%20-85.308545%5D%2C%0A%20%20%20%20%20%20%20%20%20%20%20%20%20%20%20%20%7B%7D%0A%20%20%20%20%20%20%20%20%20%20%20%20%29.addTo%28map_47fad1f26de4429684037b84e7d95d76%29%3B%0A%20%20%20%20%20%20%20%20%0A%20%20%20%20%0A%20%20%20%20%20%20%20%20var%20popup_7dbd68e4fda74637a1ce706475bd276f%20%3D%20L.popup%28%7B%22maxWidth%22%3A%20%22100%25%22%7D%29%3B%0A%0A%20%20%20%20%20%20%20%20%0A%20%20%20%20%20%20%20%20%20%20%20%20var%20html_cc99ebcb31d549bfb58ccf5cf2fe1691%20%3D%20%24%28%60%3Cdiv%20id%3D%22html_cc99ebcb31d549bfb58ccf5cf2fe1691%22%20style%3D%22width%3A%20100.0%25%3B%20height%3A%20100.0%25%3B%22%3E0%20%20%20%20%20%20%20%20971%201%20%20%20%20%20%20%20%20146%202%20%20%20%20%20%20%201545%203%20%20%20%20%20%20%20%20972%204%20%20%20%20%20%20%20%20%2081%20%20%20%20%20%20%20%20%20...%20%201195%20%20%20%202131%201196%20%20%20%202274%201197%20%20%20%202275%201198%20%20%20%202276%201199%20%20%20%202277%20Name%3A%20stop_id%2C%20Length%3A%201200%2C%20dtype%3A%20object%3C/div%3E%60%29%5B0%5D%3B%0A%20%20%20%20%20%20%20%20%20%20%20%20popup_7dbd68e4fda74637a1ce706475bd276f.setContent%28html_cc99ebcb31d549bfb58ccf5cf2fe1691%29%3B%0A%20%20%20%20%20%20%20%20%0A%0A%20%20%20%20%20%20%20%20marker_b38c5e5aaed443a0a13e7fcf88f9efd5.bindPopup%28popup_7dbd68e4fda74637a1ce706475bd276f%29%0A%20%20%20%20%20%20%20%20%3B%0A%0A%20%20%20%20%20%20%20%20%0A%20%20%20%20%0A%20%20%20%20%0A%20%20%20%20%20%20%20%20%20%20%20%20var%20marker_d7974ba807aa4203b0865c1ba7488ccb%20%3D%20L.marker%28%0A%20%20%20%20%20%20%20%20%20%20%20%20%20%20%20%20%5B35.034138%2C%20-85.308195%5D%2C%0A%20%20%20%20%20%20%20%20%20%20%20%20%20%20%20%20%7B%7D%0A%20%20%20%20%20%20%20%20%20%20%20%20%29.addTo%28map_47fad1f26de4429684037b84e7d95d76%29%3B%0A%20%20%20%20%20%20%20%20%0A%20%20%20%20%0A%20%20%20%20%20%20%20%20var%20popup_d27fd9417e3642c0b60a6ad349d15580%20%3D%20L.popup%28%7B%22maxWidth%22%3A%20%22100%25%22%7D%29%3B%0A%0A%20%20%20%20%20%20%20%20%0A%20%20%20%20%20%20%20%20%20%20%20%20var%20html_4245b33ef21942e19f02afe0ad608448%20%3D%20%24%28%60%3Cdiv%20id%3D%22html_4245b33ef21942e19f02afe0ad608448%22%20style%3D%22width%3A%20100.0%25%3B%20height%3A%20100.0%25%3B%22%3E0%20%20%20%20%20%20%20%20971%201%20%20%20%20%20%20%20%20146%202%20%20%20%20%20%20%201545%203%20%20%20%20%20%20%20%20972%204%20%20%20%20%20%20%20%20%2081%20%20%20%20%20%20%20%20%20...%20%201195%20%20%20%202131%201196%20%20%20%202274%201197%20%20%20%202275%201198%20%20%20%202276%201199%20%20%20%202277%20Name%3A%20stop_id%2C%20Length%3A%201200%2C%20dtype%3A%20object%3C/div%3E%60%29%5B0%5D%3B%0A%20%20%20%20%20%20%20%20%20%20%20%20popup_d27fd9417e3642c0b60a6ad349d15580.setContent%28html_4245b33ef21942e19f02afe0ad608448%29%3B%0A%20%20%20%20%20%20%20%20%0A%0A%20%20%20%20%20%20%20%20marker_d7974ba807aa4203b0865c1ba7488ccb.bindPopup%28popup_d27fd9417e3642c0b60a6ad349d15580%29%0A%20%20%20%20%20%20%20%20%3B%0A%0A%20%20%20%20%20%20%20%20%0A%20%20%20%20%0A%20%20%20%20%0A%20%20%20%20%20%20%20%20%20%20%20%20var%20marker_63513c8da1384db49906bfc18def3db3%20%3D%20L.marker%28%0A%20%20%20%20%20%20%20%20%20%20%20%20%20%20%20%20%5B35.035092%2C%20-85.30775%5D%2C%0A%20%20%20%20%20%20%20%20%20%20%20%20%20%20%20%20%7B%7D%0A%20%20%20%20%20%20%20%20%20%20%20%20%29.addTo%28map_47fad1f26de4429684037b84e7d95d76%29%3B%0A%20%20%20%20%20%20%20%20%0A%20%20%20%20%0A%20%20%20%20%20%20%20%20var%20popup_1ecec255b18e4d4eac3d5ae0bda01c3a%20%3D%20L.popup%28%7B%22maxWidth%22%3A%20%22100%25%22%7D%29%3B%0A%0A%20%20%20%20%20%20%20%20%0A%20%20%20%20%20%20%20%20%20%20%20%20var%20html_ed31ea7b532142d090bca27d6be4ad06%20%3D%20%24%28%60%3Cdiv%20id%3D%22html_ed31ea7b532142d090bca27d6be4ad06%22%20style%3D%22width%3A%20100.0%25%3B%20height%3A%20100.0%25%3B%22%3E0%20%20%20%20%20%20%20%20971%201%20%20%20%20%20%20%20%20146%202%20%20%20%20%20%20%201545%203%20%20%20%20%20%20%20%20972%204%20%20%20%20%20%20%20%20%2081%20%20%20%20%20%20%20%20%20...%20%201195%20%20%20%202131%201196%20%20%20%202274%201197%20%20%20%202275%201198%20%20%20%202276%201199%20%20%20%202277%20Name%3A%20stop_id%2C%20Length%3A%201200%2C%20dtype%3A%20object%3C/div%3E%60%29%5B0%5D%3B%0A%20%20%20%20%20%20%20%20%20%20%20%20popup_1ecec255b18e4d4eac3d5ae0bda01c3a.setContent%28html_ed31ea7b532142d090bca27d6be4ad06%29%3B%0A%20%20%20%20%20%20%20%20%0A%0A%20%20%20%20%20%20%20%20marker_63513c8da1384db49906bfc18def3db3.bindPopup%28popup_1ecec255b18e4d4eac3d5ae0bda01c3a%29%0A%20%20%20%20%20%20%20%20%3B%0A%0A%20%20%20%20%20%20%20%20%0A%20%20%20%20%0A%20%20%20%20%0A%20%20%20%20%20%20%20%20%20%20%20%20var%20marker_809561ef741042cc89e9c4e59b008bba%20%3D%20L.marker%28%0A%20%20%20%20%20%20%20%20%20%20%20%20%20%20%20%20%5B35.035862%2C%20-85.307322%5D%2C%0A%20%20%20%20%20%20%20%20%20%20%20%20%20%20%20%20%7B%7D%0A%20%20%20%20%20%20%20%20%20%20%20%20%29.addTo%28map_47fad1f26de4429684037b84e7d95d76%29%3B%0A%20%20%20%20%20%20%20%20%0A%20%20%20%20%0A%20%20%20%20%20%20%20%20var%20popup_b35255a50c374c2097d868bfc9875c0c%20%3D%20L.popup%28%7B%22maxWidth%22%3A%20%22100%25%22%7D%29%3B%0A%0A%20%20%20%20%20%20%20%20%0A%20%20%20%20%20%20%20%20%20%20%20%20var%20html_b444d69c73104049b05c720aefce8d44%20%3D%20%24%28%60%3Cdiv%20id%3D%22html_b444d69c73104049b05c720aefce8d44%22%20style%3D%22width%3A%20100.0%25%3B%20height%3A%20100.0%25%3B%22%3E0%20%20%20%20%20%20%20%20971%201%20%20%20%20%20%20%20%20146%202%20%20%20%20%20%20%201545%203%20%20%20%20%20%20%20%20972%204%20%20%20%20%20%20%20%20%2081%20%20%20%20%20%20%20%20%20...%20%201195%20%20%20%202131%201196%20%20%20%202274%201197%20%20%20%202275%201198%20%20%20%202276%201199%20%20%20%202277%20Name%3A%20stop_id%2C%20Length%3A%201200%2C%20dtype%3A%20object%3C/div%3E%60%29%5B0%5D%3B%0A%20%20%20%20%20%20%20%20%20%20%20%20popup_b35255a50c374c2097d868bfc9875c0c.setContent%28html_b444d69c73104049b05c720aefce8d44%29%3B%0A%20%20%20%20%20%20%20%20%0A%0A%20%20%20%20%20%20%20%20marker_809561ef741042cc89e9c4e59b008bba.bindPopup%28popup_b35255a50c374c2097d868bfc9875c0c%29%0A%20%20%20%20%20%20%20%20%3B%0A%0A%20%20%20%20%20%20%20%20%0A%20%20%20%20%0A%20%20%20%20%0A%20%20%20%20%20%20%20%20%20%20%20%20var%20marker_f3b8c6b204b24689be05b44028981351%20%3D%20L.marker%28%0A%20%20%20%20%20%20%20%20%20%20%20%20%20%20%20%20%5B35.037463%2C%20-85.30737%5D%2C%0A%20%20%20%20%20%20%20%20%20%20%20%20%20%20%20%20%7B%7D%0A%20%20%20%20%20%20%20%20%20%20%20%20%29.addTo%28map_47fad1f26de4429684037b84e7d95d76%29%3B%0A%20%20%20%20%20%20%20%20%0A%20%20%20%20%0A%20%20%20%20%20%20%20%20var%20popup_66ae5bf1ecc240739c8a5f65843360d2%20%3D%20L.popup%28%7B%22maxWidth%22%3A%20%22100%25%22%7D%29%3B%0A%0A%20%20%20%20%20%20%20%20%0A%20%20%20%20%20%20%20%20%20%20%20%20var%20html_3a6ac11a5cd942728a2f40ccf6c11a85%20%3D%20%24%28%60%3Cdiv%20id%3D%22html_3a6ac11a5cd942728a2f40ccf6c11a85%22%20style%3D%22width%3A%20100.0%25%3B%20height%3A%20100.0%25%3B%22%3E0%20%20%20%20%20%20%20%20971%201%20%20%20%20%20%20%20%20146%202%20%20%20%20%20%20%201545%203%20%20%20%20%20%20%20%20972%204%20%20%20%20%20%20%20%20%2081%20%20%20%20%20%20%20%20%20...%20%201195%20%20%20%202131%201196%20%20%20%202274%201197%20%20%20%202275%201198%20%20%20%202276%201199%20%20%20%202277%20Name%3A%20stop_id%2C%20Length%3A%201200%2C%20dtype%3A%20object%3C/div%3E%60%29%5B0%5D%3B%0A%20%20%20%20%20%20%20%20%20%20%20%20popup_66ae5bf1ecc240739c8a5f65843360d2.setContent%28html_3a6ac11a5cd942728a2f40ccf6c11a85%29%3B%0A%20%20%20%20%20%20%20%20%0A%0A%20%20%20%20%20%20%20%20marker_f3b8c6b204b24689be05b44028981351.bindPopup%28popup_66ae5bf1ecc240739c8a5f65843360d2%29%0A%20%20%20%20%20%20%20%20%3B%0A%0A%20%20%20%20%20%20%20%20%0A%20%20%20%20%0A%20%20%20%20%0A%20%20%20%20%20%20%20%20%20%20%20%20var%20marker_0ce2695b4b4b4253a014e5a79c478d44%20%3D%20L.marker%28%0A%20%20%20%20%20%20%20%20%20%20%20%20%20%20%20%20%5B35.0386%2C%20-85.307433%5D%2C%0A%20%20%20%20%20%20%20%20%20%20%20%20%20%20%20%20%7B%7D%0A%20%20%20%20%20%20%20%20%20%20%20%20%29.addTo%28map_47fad1f26de4429684037b84e7d95d76%29%3B%0A%20%20%20%20%20%20%20%20%0A%20%20%20%20%0A%20%20%20%20%20%20%20%20var%20popup_05b62e470b2945e59363f9d818c50c21%20%3D%20L.popup%28%7B%22maxWidth%22%3A%20%22100%25%22%7D%29%3B%0A%0A%20%20%20%20%20%20%20%20%0A%20%20%20%20%20%20%20%20%20%20%20%20var%20html_61eb9c01d76e4b27bd2779bca4f28745%20%3D%20%24%28%60%3Cdiv%20id%3D%22html_61eb9c01d76e4b27bd2779bca4f28745%22%20style%3D%22width%3A%20100.0%25%3B%20height%3A%20100.0%25%3B%22%3E0%20%20%20%20%20%20%20%20971%201%20%20%20%20%20%20%20%20146%202%20%20%20%20%20%20%201545%203%20%20%20%20%20%20%20%20972%204%20%20%20%20%20%20%20%20%2081%20%20%20%20%20%20%20%20%20...%20%201195%20%20%20%202131%201196%20%20%20%202274%201197%20%20%20%202275%201198%20%20%20%202276%201199%20%20%20%202277%20Name%3A%20stop_id%2C%20Length%3A%201200%2C%20dtype%3A%20object%3C/div%3E%60%29%5B0%5D%3B%0A%20%20%20%20%20%20%20%20%20%20%20%20popup_05b62e470b2945e59363f9d818c50c21.setContent%28html_61eb9c01d76e4b27bd2779bca4f28745%29%3B%0A%20%20%20%20%20%20%20%20%0A%0A%20%20%20%20%20%20%20%20marker_0ce2695b4b4b4253a014e5a79c478d44.bindPopup%28popup_05b62e470b2945e59363f9d818c50c21%29%0A%20%20%20%20%20%20%20%20%3B%0A%0A%20%20%20%20%20%20%20%20%0A%20%20%20%20%0A%20%20%20%20%0A%20%20%20%20%20%20%20%20%20%20%20%20var%20marker_7c69c4263652454fb56cccaccafd028e%20%3D%20L.marker%28%0A%20%20%20%20%20%20%20%20%20%20%20%20%20%20%20%20%5B35.039462%2C%20-85.307497%5D%2C%0A%20%20%20%20%20%20%20%20%20%20%20%20%20%20%20%20%7B%7D%0A%20%20%20%20%20%20%20%20%20%20%20%20%29.addTo%28map_47fad1f26de4429684037b84e7d95d76%29%3B%0A%20%20%20%20%20%20%20%20%0A%20%20%20%20%0A%20%20%20%20%20%20%20%20var%20popup_e24d67be42bd4321ae4bea150db6b65d%20%3D%20L.popup%28%7B%22maxWidth%22%3A%20%22100%25%22%7D%29%3B%0A%0A%20%20%20%20%20%20%20%20%0A%20%20%20%20%20%20%20%20%20%20%20%20var%20html_bbb38ed5487143fabc660d09acf454b2%20%3D%20%24%28%60%3Cdiv%20id%3D%22html_bbb38ed5487143fabc660d09acf454b2%22%20style%3D%22width%3A%20100.0%25%3B%20height%3A%20100.0%25%3B%22%3E0%20%20%20%20%20%20%20%20971%201%20%20%20%20%20%20%20%20146%202%20%20%20%20%20%20%201545%203%20%20%20%20%20%20%20%20972%204%20%20%20%20%20%20%20%20%2081%20%20%20%20%20%20%20%20%20...%20%201195%20%20%20%202131%201196%20%20%20%202274%201197%20%20%20%202275%201198%20%20%20%202276%201199%20%20%20%202277%20Name%3A%20stop_id%2C%20Length%3A%201200%2C%20dtype%3A%20object%3C/div%3E%60%29%5B0%5D%3B%0A%20%20%20%20%20%20%20%20%20%20%20%20popup_e24d67be42bd4321ae4bea150db6b65d.setContent%28html_bbb38ed5487143fabc660d09acf454b2%29%3B%0A%20%20%20%20%20%20%20%20%0A%0A%20%20%20%20%20%20%20%20marker_7c69c4263652454fb56cccaccafd028e.bindPopup%28popup_e24d67be42bd4321ae4bea150db6b65d%29%0A%20%20%20%20%20%20%20%20%3B%0A%0A%20%20%20%20%20%20%20%20%0A%20%20%20%20%0A%20%20%20%20%0A%20%20%20%20%20%20%20%20%20%20%20%20var%20marker_768f011ee333493ba03deb1823fefa4c%20%3D%20L.marker%28%0A%20%20%20%20%20%20%20%20%20%20%20%20%20%20%20%20%5B35.041675%2C%20-85.30864%5D%2C%0A%20%20%20%20%20%20%20%20%20%20%20%20%20%20%20%20%7B%7D%0A%20%20%20%20%20%20%20%20%20%20%20%20%29.addTo%28map_47fad1f26de4429684037b84e7d95d76%29%3B%0A%20%20%20%20%20%20%20%20%0A%20%20%20%20%0A%20%20%20%20%20%20%20%20var%20popup_d656e727770b4eba968bb983f91d2977%20%3D%20L.popup%28%7B%22maxWidth%22%3A%20%22100%25%22%7D%29%3B%0A%0A%20%20%20%20%20%20%20%20%0A%20%20%20%20%20%20%20%20%20%20%20%20var%20html_66ff1133cb62482b8312104245a8afc5%20%3D%20%24%28%60%3Cdiv%20id%3D%22html_66ff1133cb62482b8312104245a8afc5%22%20style%3D%22width%3A%20100.0%25%3B%20height%3A%20100.0%25%3B%22%3E0%20%20%20%20%20%20%20%20971%201%20%20%20%20%20%20%20%20146%202%20%20%20%20%20%20%201545%203%20%20%20%20%20%20%20%20972%204%20%20%20%20%20%20%20%20%2081%20%20%20%20%20%20%20%20%20...%20%201195%20%20%20%202131%201196%20%20%20%202274%201197%20%20%20%202275%201198%20%20%20%202276%201199%20%20%20%202277%20Name%3A%20stop_id%2C%20Length%3A%201200%2C%20dtype%3A%20object%3C/div%3E%60%29%5B0%5D%3B%0A%20%20%20%20%20%20%20%20%20%20%20%20popup_d656e727770b4eba968bb983f91d2977.setContent%28html_66ff1133cb62482b8312104245a8afc5%29%3B%0A%20%20%20%20%20%20%20%20%0A%0A%20%20%20%20%20%20%20%20marker_768f011ee333493ba03deb1823fefa4c.bindPopup%28popup_d656e727770b4eba968bb983f91d2977%29%0A%20%20%20%20%20%20%20%20%3B%0A%0A%20%20%20%20%20%20%20%20%0A%20%20%20%20%0A%20%20%20%20%0A%20%20%20%20%20%20%20%20%20%20%20%20var%20marker_e3470b8e3afe4d04b32979f2dc62a396%20%3D%20L.marker%28%0A%20%20%20%20%20%20%20%20%20%20%20%20%20%20%20%20%5B35.040257%2C%20-85.307878%5D%2C%0A%20%20%20%20%20%20%20%20%20%20%20%20%20%20%20%20%7B%7D%0A%20%20%20%20%20%20%20%20%20%20%20%20%29.addTo%28map_47fad1f26de4429684037b84e7d95d76%29%3B%0A%20%20%20%20%20%20%20%20%0A%20%20%20%20%0A%20%20%20%20%20%20%20%20var%20popup_e8506f907ab04a01a69153a3cf011a86%20%3D%20L.popup%28%7B%22maxWidth%22%3A%20%22100%25%22%7D%29%3B%0A%0A%20%20%20%20%20%20%20%20%0A%20%20%20%20%20%20%20%20%20%20%20%20var%20html_cba0a37160e84fc1be2a22ce896b94c3%20%3D%20%24%28%60%3Cdiv%20id%3D%22html_cba0a37160e84fc1be2a22ce896b94c3%22%20style%3D%22width%3A%20100.0%25%3B%20height%3A%20100.0%25%3B%22%3E0%20%20%20%20%20%20%20%20971%201%20%20%20%20%20%20%20%20146%202%20%20%20%20%20%20%201545%203%20%20%20%20%20%20%20%20972%204%20%20%20%20%20%20%20%20%2081%20%20%20%20%20%20%20%20%20...%20%201195%20%20%20%202131%201196%20%20%20%202274%201197%20%20%20%202275%201198%20%20%20%202276%201199%20%20%20%202277%20Name%3A%20stop_id%2C%20Length%3A%201200%2C%20dtype%3A%20object%3C/div%3E%60%29%5B0%5D%3B%0A%20%20%20%20%20%20%20%20%20%20%20%20popup_e8506f907ab04a01a69153a3cf011a86.setContent%28html_cba0a37160e84fc1be2a22ce896b94c3%29%3B%0A%20%20%20%20%20%20%20%20%0A%0A%20%20%20%20%20%20%20%20marker_e3470b8e3afe4d04b32979f2dc62a396.bindPopup%28popup_e8506f907ab04a01a69153a3cf011a86%29%0A%20%20%20%20%20%20%20%20%3B%0A%0A%20%20%20%20%20%20%20%20%0A%20%20%20%20%0A%20%20%20%20%0A%20%20%20%20%20%20%20%20%20%20%20%20var%20marker_14786390271c4d7fa55ba3441c0eacce%20%3D%20L.marker%28%0A%20%20%20%20%20%20%20%20%20%20%20%20%20%20%20%20%5B35.04288%2C%20-85.309102%5D%2C%0A%20%20%20%20%20%20%20%20%20%20%20%20%20%20%20%20%7B%7D%0A%20%20%20%20%20%20%20%20%20%20%20%20%29.addTo%28map_47fad1f26de4429684037b84e7d95d76%29%3B%0A%20%20%20%20%20%20%20%20%0A%20%20%20%20%0A%20%20%20%20%20%20%20%20var%20popup_5e907f32c460472a9471ea0ba835f370%20%3D%20L.popup%28%7B%22maxWidth%22%3A%20%22100%25%22%7D%29%3B%0A%0A%20%20%20%20%20%20%20%20%0A%20%20%20%20%20%20%20%20%20%20%20%20var%20html_1dc7a0bef7f443678d088239b2129725%20%3D%20%24%28%60%3Cdiv%20id%3D%22html_1dc7a0bef7f443678d088239b2129725%22%20style%3D%22width%3A%20100.0%25%3B%20height%3A%20100.0%25%3B%22%3E0%20%20%20%20%20%20%20%20971%201%20%20%20%20%20%20%20%20146%202%20%20%20%20%20%20%201545%203%20%20%20%20%20%20%20%20972%204%20%20%20%20%20%20%20%20%2081%20%20%20%20%20%20%20%20%20...%20%201195%20%20%20%202131%201196%20%20%20%202274%201197%20%20%20%202275%201198%20%20%20%202276%201199%20%20%20%202277%20Name%3A%20stop_id%2C%20Length%3A%201200%2C%20dtype%3A%20object%3C/div%3E%60%29%5B0%5D%3B%0A%20%20%20%20%20%20%20%20%20%20%20%20popup_5e907f32c460472a9471ea0ba835f370.setContent%28html_1dc7a0bef7f443678d088239b2129725%29%3B%0A%20%20%20%20%20%20%20%20%0A%0A%20%20%20%20%20%20%20%20marker_14786390271c4d7fa55ba3441c0eacce.bindPopup%28popup_5e907f32c460472a9471ea0ba835f370%29%0A%20%20%20%20%20%20%20%20%3B%0A%0A%20%20%20%20%20%20%20%20%0A%20%20%20%20%0A%20%20%20%20%0A%20%20%20%20%20%20%20%20%20%20%20%20var%20marker_8737c47df34e4a1896037a442b16eb17%20%3D%20L.marker%28%0A%20%20%20%20%20%20%20%20%20%20%20%20%20%20%20%20%5B35.045045%2C%20-85.309308%5D%2C%0A%20%20%20%20%20%20%20%20%20%20%20%20%20%20%20%20%7B%7D%0A%20%20%20%20%20%20%20%20%20%20%20%20%29.addTo%28map_47fad1f26de4429684037b84e7d95d76%29%3B%0A%20%20%20%20%20%20%20%20%0A%20%20%20%20%0A%20%20%20%20%20%20%20%20var%20popup_e6ce8dbf0fae44c2a4f6ab0e41cffd6c%20%3D%20L.popup%28%7B%22maxWidth%22%3A%20%22100%25%22%7D%29%3B%0A%0A%20%20%20%20%20%20%20%20%0A%20%20%20%20%20%20%20%20%20%20%20%20var%20html_ca5df700cac44272b7edc4fa8296d92c%20%3D%20%24%28%60%3Cdiv%20id%3D%22html_ca5df700cac44272b7edc4fa8296d92c%22%20style%3D%22width%3A%20100.0%25%3B%20height%3A%20100.0%25%3B%22%3E0%20%20%20%20%20%20%20%20971%201%20%20%20%20%20%20%20%20146%202%20%20%20%20%20%20%201545%203%20%20%20%20%20%20%20%20972%204%20%20%20%20%20%20%20%20%2081%20%20%20%20%20%20%20%20%20...%20%201195%20%20%20%202131%201196%20%20%20%202274%201197%20%20%20%202275%201198%20%20%20%202276%201199%20%20%20%202277%20Name%3A%20stop_id%2C%20Length%3A%201200%2C%20dtype%3A%20object%3C/div%3E%60%29%5B0%5D%3B%0A%20%20%20%20%20%20%20%20%20%20%20%20popup_e6ce8dbf0fae44c2a4f6ab0e41cffd6c.setContent%28html_ca5df700cac44272b7edc4fa8296d92c%29%3B%0A%20%20%20%20%20%20%20%20%0A%0A%20%20%20%20%20%20%20%20marker_8737c47df34e4a1896037a442b16eb17.bindPopup%28popup_e6ce8dbf0fae44c2a4f6ab0e41cffd6c%29%0A%20%20%20%20%20%20%20%20%3B%0A%0A%20%20%20%20%20%20%20%20%0A%20%20%20%20%0A%20%20%20%20%0A%20%20%20%20%20%20%20%20%20%20%20%20var%20marker_b29b625db1b14263a3ad6a3e151a37a7%20%3D%20L.marker%28%0A%20%20%20%20%20%20%20%20%20%20%20%20%20%20%20%20%5B35.047342%2C%20-85.309403%5D%2C%0A%20%20%20%20%20%20%20%20%20%20%20%20%20%20%20%20%7B%7D%0A%20%20%20%20%20%20%20%20%20%20%20%20%29.addTo%28map_47fad1f26de4429684037b84e7d95d76%29%3B%0A%20%20%20%20%20%20%20%20%0A%20%20%20%20%0A%20%20%20%20%20%20%20%20var%20popup_e79826c786a740bf8c4439b38cd93cff%20%3D%20L.popup%28%7B%22maxWidth%22%3A%20%22100%25%22%7D%29%3B%0A%0A%20%20%20%20%20%20%20%20%0A%20%20%20%20%20%20%20%20%20%20%20%20var%20html_e4870445bd804695bd5225304e3b22c7%20%3D%20%24%28%60%3Cdiv%20id%3D%22html_e4870445bd804695bd5225304e3b22c7%22%20style%3D%22width%3A%20100.0%25%3B%20height%3A%20100.0%25%3B%22%3E0%20%20%20%20%20%20%20%20971%201%20%20%20%20%20%20%20%20146%202%20%20%20%20%20%20%201545%203%20%20%20%20%20%20%20%20972%204%20%20%20%20%20%20%20%20%2081%20%20%20%20%20%20%20%20%20...%20%201195%20%20%20%202131%201196%20%20%20%202274%201197%20%20%20%202275%201198%20%20%20%202276%201199%20%20%20%202277%20Name%3A%20stop_id%2C%20Length%3A%201200%2C%20dtype%3A%20object%3C/div%3E%60%29%5B0%5D%3B%0A%20%20%20%20%20%20%20%20%20%20%20%20popup_e79826c786a740bf8c4439b38cd93cff.setContent%28html_e4870445bd804695bd5225304e3b22c7%29%3B%0A%20%20%20%20%20%20%20%20%0A%0A%20%20%20%20%20%20%20%20marker_b29b625db1b14263a3ad6a3e151a37a7.bindPopup%28popup_e79826c786a740bf8c4439b38cd93cff%29%0A%20%20%20%20%20%20%20%20%3B%0A%0A%20%20%20%20%20%20%20%20%0A%20%20%20%20%0A%20%20%20%20%0A%20%20%20%20%20%20%20%20%20%20%20%20var%20marker_00bd23fb1736457b8c4564df342fa5cc%20%3D%20L.marker%28%0A%20%20%20%20%20%20%20%20%20%20%20%20%20%20%20%20%5B35.046062%2C%20-85.30934%5D%2C%0A%20%20%20%20%20%20%20%20%20%20%20%20%20%20%20%20%7B%7D%0A%20%20%20%20%20%20%20%20%20%20%20%20%29.addTo%28map_47fad1f26de4429684037b84e7d95d76%29%3B%0A%20%20%20%20%20%20%20%20%0A%20%20%20%20%0A%20%20%20%20%20%20%20%20var%20popup_6f9b0577597d474aac1930ef4df8566b%20%3D%20L.popup%28%7B%22maxWidth%22%3A%20%22100%25%22%7D%29%3B%0A%0A%20%20%20%20%20%20%20%20%0A%20%20%20%20%20%20%20%20%20%20%20%20var%20html_9eb31a038c8046708dd9a1734d6eae23%20%3D%20%24%28%60%3Cdiv%20id%3D%22html_9eb31a038c8046708dd9a1734d6eae23%22%20style%3D%22width%3A%20100.0%25%3B%20height%3A%20100.0%25%3B%22%3E0%20%20%20%20%20%20%20%20971%201%20%20%20%20%20%20%20%20146%202%20%20%20%20%20%20%201545%203%20%20%20%20%20%20%20%20972%204%20%20%20%20%20%20%20%20%2081%20%20%20%20%20%20%20%20%20...%20%201195%20%20%20%202131%201196%20%20%20%202274%201197%20%20%20%202275%201198%20%20%20%202276%201199%20%20%20%202277%20Name%3A%20stop_id%2C%20Length%3A%201200%2C%20dtype%3A%20object%3C/div%3E%60%29%5B0%5D%3B%0A%20%20%20%20%20%20%20%20%20%20%20%20popup_6f9b0577597d474aac1930ef4df8566b.setContent%28html_9eb31a038c8046708dd9a1734d6eae23%29%3B%0A%20%20%20%20%20%20%20%20%0A%0A%20%20%20%20%20%20%20%20marker_00bd23fb1736457b8c4564df342fa5cc.bindPopup%28popup_6f9b0577597d474aac1930ef4df8566b%29%0A%20%20%20%20%20%20%20%20%3B%0A%0A%20%20%20%20%20%20%20%20%0A%20%20%20%20%0A%20%20%20%20%0A%20%20%20%20%20%20%20%20%20%20%20%20var%20marker_b6beabc04a9b4a19a175bd004b2dcbae%20%3D%20L.marker%28%0A%20%20%20%20%20%20%20%20%20%20%20%20%20%20%20%20%5B35.043448%2C%20-85.309277%5D%2C%0A%20%20%20%20%20%20%20%20%20%20%20%20%20%20%20%20%7B%7D%0A%20%20%20%20%20%20%20%20%20%20%20%20%29.addTo%28map_47fad1f26de4429684037b84e7d95d76%29%3B%0A%20%20%20%20%20%20%20%20%0A%20%20%20%20%0A%20%20%20%20%20%20%20%20var%20popup_c92c7393825a4479b9ec67465001246e%20%3D%20L.popup%28%7B%22maxWidth%22%3A%20%22100%25%22%7D%29%3B%0A%0A%20%20%20%20%20%20%20%20%0A%20%20%20%20%20%20%20%20%20%20%20%20var%20html_9569ee3838084c1ba78a52f888d94775%20%3D%20%24%28%60%3Cdiv%20id%3D%22html_9569ee3838084c1ba78a52f888d94775%22%20style%3D%22width%3A%20100.0%25%3B%20height%3A%20100.0%25%3B%22%3E0%20%20%20%20%20%20%20%20971%201%20%20%20%20%20%20%20%20146%202%20%20%20%20%20%20%201545%203%20%20%20%20%20%20%20%20972%204%20%20%20%20%20%20%20%20%2081%20%20%20%20%20%20%20%20%20...%20%201195%20%20%20%202131%201196%20%20%20%202274%201197%20%20%20%202275%201198%20%20%20%202276%201199%20%20%20%202277%20Name%3A%20stop_id%2C%20Length%3A%201200%2C%20dtype%3A%20object%3C/div%3E%60%29%5B0%5D%3B%0A%20%20%20%20%20%20%20%20%20%20%20%20popup_c92c7393825a4479b9ec67465001246e.setContent%28html_9569ee3838084c1ba78a52f888d94775%29%3B%0A%20%20%20%20%20%20%20%20%0A%0A%20%20%20%20%20%20%20%20marker_b6beabc04a9b4a19a175bd004b2dcbae.bindPopup%28popup_c92c7393825a4479b9ec67465001246e%29%0A%20%20%20%20%20%20%20%20%3B%0A%0A%20%20%20%20%20%20%20%20%0A%20%20%20%20%0A%20%20%20%20%0A%20%20%20%20%20%20%20%20%20%20%20%20var%20marker_e2dddba42c4841bfb0beb81d518d734b%20%3D%20L.marker%28%0A%20%20%20%20%20%20%20%20%20%20%20%20%20%20%20%20%5B35.05072%2C%20-85.309452%5D%2C%0A%20%20%20%20%20%20%20%20%20%20%20%20%20%20%20%20%7B%7D%0A%20%20%20%20%20%20%20%20%20%20%20%20%29.addTo%28map_47fad1f26de4429684037b84e7d95d76%29%3B%0A%20%20%20%20%20%20%20%20%0A%20%20%20%20%0A%20%20%20%20%20%20%20%20var%20popup_70e4c1338adb4c598f5f88df88fbf3d5%20%3D%20L.popup%28%7B%22maxWidth%22%3A%20%22100%25%22%7D%29%3B%0A%0A%20%20%20%20%20%20%20%20%0A%20%20%20%20%20%20%20%20%20%20%20%20var%20html_7ebecffa3a7e483c82e03cb1b4c6946d%20%3D%20%24%28%60%3Cdiv%20id%3D%22html_7ebecffa3a7e483c82e03cb1b4c6946d%22%20style%3D%22width%3A%20100.0%25%3B%20height%3A%20100.0%25%3B%22%3E0%20%20%20%20%20%20%20%20971%201%20%20%20%20%20%20%20%20146%202%20%20%20%20%20%20%201545%203%20%20%20%20%20%20%20%20972%204%20%20%20%20%20%20%20%20%2081%20%20%20%20%20%20%20%20%20...%20%201195%20%20%20%202131%201196%20%20%20%202274%201197%20%20%20%202275%201198%20%20%20%202276%201199%20%20%20%202277%20Name%3A%20stop_id%2C%20Length%3A%201200%2C%20dtype%3A%20object%3C/div%3E%60%29%5B0%5D%3B%0A%20%20%20%20%20%20%20%20%20%20%20%20popup_70e4c1338adb4c598f5f88df88fbf3d5.setContent%28html_7ebecffa3a7e483c82e03cb1b4c6946d%29%3B%0A%20%20%20%20%20%20%20%20%0A%0A%20%20%20%20%20%20%20%20marker_e2dddba42c4841bfb0beb81d518d734b.bindPopup%28popup_70e4c1338adb4c598f5f88df88fbf3d5%29%0A%20%20%20%20%20%20%20%20%3B%0A%0A%20%20%20%20%20%20%20%20%0A%20%20%20%20%0A%20%20%20%20%0A%20%20%20%20%20%20%20%20%20%20%20%20var%20marker_e2143d43824f4b37b7a37ac37e0035af%20%3D%20L.marker%28%0A%20%20%20%20%20%20%20%20%20%20%20%20%20%20%20%20%5B35.049317%2C%20-85.309498%5D%2C%0A%20%20%20%20%20%20%20%20%20%20%20%20%20%20%20%20%7B%7D%0A%20%20%20%20%20%20%20%20%20%20%20%20%29.addTo%28map_47fad1f26de4429684037b84e7d95d76%29%3B%0A%20%20%20%20%20%20%20%20%0A%20%20%20%20%0A%20%20%20%20%20%20%20%20var%20popup_0b47587b938e4471808fd28a7a2a36cb%20%3D%20L.popup%28%7B%22maxWidth%22%3A%20%22100%25%22%7D%29%3B%0A%0A%20%20%20%20%20%20%20%20%0A%20%20%20%20%20%20%20%20%20%20%20%20var%20html_7197751a829943fcb0ea15ffcc99e30c%20%3D%20%24%28%60%3Cdiv%20id%3D%22html_7197751a829943fcb0ea15ffcc99e30c%22%20style%3D%22width%3A%20100.0%25%3B%20height%3A%20100.0%25%3B%22%3E0%20%20%20%20%20%20%20%20971%201%20%20%20%20%20%20%20%20146%202%20%20%20%20%20%20%201545%203%20%20%20%20%20%20%20%20972%204%20%20%20%20%20%20%20%20%2081%20%20%20%20%20%20%20%20%20...%20%201195%20%20%20%202131%201196%20%20%20%202274%201197%20%20%20%202275%201198%20%20%20%202276%201199%20%20%20%202277%20Name%3A%20stop_id%2C%20Length%3A%201200%2C%20dtype%3A%20object%3C/div%3E%60%29%5B0%5D%3B%0A%20%20%20%20%20%20%20%20%20%20%20%20popup_0b47587b938e4471808fd28a7a2a36cb.setContent%28html_7197751a829943fcb0ea15ffcc99e30c%29%3B%0A%20%20%20%20%20%20%20%20%0A%0A%20%20%20%20%20%20%20%20marker_e2143d43824f4b37b7a37ac37e0035af.bindPopup%28popup_0b47587b938e4471808fd28a7a2a36cb%29%0A%20%20%20%20%20%20%20%20%3B%0A%0A%20%20%20%20%20%20%20%20%0A%20%20%20%20%0A%20%20%20%20%0A%20%20%20%20%20%20%20%20%20%20%20%20var%20marker_6b2fb9f560704785ad15a3ea4c3693b4%20%3D%20L.marker%28%0A%20%20%20%20%20%20%20%20%20%20%20%20%20%20%20%20%5B35.052122%2C%20-85.309547%5D%2C%0A%20%20%20%20%20%20%20%20%20%20%20%20%20%20%20%20%7B%7D%0A%20%20%20%20%20%20%20%20%20%20%20%20%29.addTo%28map_47fad1f26de4429684037b84e7d95d76%29%3B%0A%20%20%20%20%20%20%20%20%0A%20%20%20%20%0A%20%20%20%20%20%20%20%20var%20popup_c639db9422c74083a99f3770023e6b9e%20%3D%20L.popup%28%7B%22maxWidth%22%3A%20%22100%25%22%7D%29%3B%0A%0A%20%20%20%20%20%20%20%20%0A%20%20%20%20%20%20%20%20%20%20%20%20var%20html_5c4e64d232814fc5b3dfc12cfbd133d4%20%3D%20%24%28%60%3Cdiv%20id%3D%22html_5c4e64d232814fc5b3dfc12cfbd133d4%22%20style%3D%22width%3A%20100.0%25%3B%20height%3A%20100.0%25%3B%22%3E0%20%20%20%20%20%20%20%20971%201%20%20%20%20%20%20%20%20146%202%20%20%20%20%20%20%201545%203%20%20%20%20%20%20%20%20972%204%20%20%20%20%20%20%20%20%2081%20%20%20%20%20%20%20%20%20...%20%201195%20%20%20%202131%201196%20%20%20%202274%201197%20%20%20%202275%201198%20%20%20%202276%201199%20%20%20%202277%20Name%3A%20stop_id%2C%20Length%3A%201200%2C%20dtype%3A%20object%3C/div%3E%60%29%5B0%5D%3B%0A%20%20%20%20%20%20%20%20%20%20%20%20popup_c639db9422c74083a99f3770023e6b9e.setContent%28html_5c4e64d232814fc5b3dfc12cfbd133d4%29%3B%0A%20%20%20%20%20%20%20%20%0A%0A%20%20%20%20%20%20%20%20marker_6b2fb9f560704785ad15a3ea4c3693b4.bindPopup%28popup_c639db9422c74083a99f3770023e6b9e%29%0A%20%20%20%20%20%20%20%20%3B%0A%0A%20%20%20%20%20%20%20%20%0A%20%20%20%20%0A%20%20%20%20%0A%20%20%20%20%20%20%20%20%20%20%20%20var%20marker_e5e553ba5f604e8b87f47cbc001467d5%20%3D%20L.marker%28%0A%20%20%20%20%20%20%20%20%20%20%20%20%20%20%20%20%5B35.052095%2C%20-85.305668%5D%2C%0A%20%20%20%20%20%20%20%20%20%20%20%20%20%20%20%20%7B%7D%0A%20%20%20%20%20%20%20%20%20%20%20%20%29.addTo%28map_47fad1f26de4429684037b84e7d95d76%29%3B%0A%20%20%20%20%20%20%20%20%0A%20%20%20%20%0A%20%20%20%20%20%20%20%20var%20popup_0f4384afc7e3424aa853435cab2ba923%20%3D%20L.popup%28%7B%22maxWidth%22%3A%20%22100%25%22%7D%29%3B%0A%0A%20%20%20%20%20%20%20%20%0A%20%20%20%20%20%20%20%20%20%20%20%20var%20html_b2587008b4a543c3b113cef401e2c812%20%3D%20%24%28%60%3Cdiv%20id%3D%22html_b2587008b4a543c3b113cef401e2c812%22%20style%3D%22width%3A%20100.0%25%3B%20height%3A%20100.0%25%3B%22%3E0%20%20%20%20%20%20%20%20971%201%20%20%20%20%20%20%20%20146%202%20%20%20%20%20%20%201545%203%20%20%20%20%20%20%20%20972%204%20%20%20%20%20%20%20%20%2081%20%20%20%20%20%20%20%20%20...%20%201195%20%20%20%202131%201196%20%20%20%202274%201197%20%20%20%202275%201198%20%20%20%202276%201199%20%20%20%202277%20Name%3A%20stop_id%2C%20Length%3A%201200%2C%20dtype%3A%20object%3C/div%3E%60%29%5B0%5D%3B%0A%20%20%20%20%20%20%20%20%20%20%20%20popup_0f4384afc7e3424aa853435cab2ba923.setContent%28html_b2587008b4a543c3b113cef401e2c812%29%3B%0A%20%20%20%20%20%20%20%20%0A%0A%20%20%20%20%20%20%20%20marker_e5e553ba5f604e8b87f47cbc001467d5.bindPopup%28popup_0f4384afc7e3424aa853435cab2ba923%29%0A%20%20%20%20%20%20%20%20%3B%0A%0A%20%20%20%20%20%20%20%20%0A%20%20%20%20%0A%3C/script%3E onload=\"this.contentDocument.open();this.contentDocument.write(    decodeURIComponent(this.getAttribute('data-html')));this.contentDocument.close();\" allowfullscreen webkitallowfullscreen mozallowfullscreen></iframe></div></div>"
      ],
      "text/plain": [
       "<folium.folium.Map at 0x2300290cd00>"
      ]
     },
     "metadata": {},
     "execution_count": 30
    }
   ],
   "metadata": {}
  },
  {
   "cell_type": "markdown",
   "source": [
    "### Radial Influence"
   ],
   "metadata": {}
  },
  {
   "cell_type": "code",
   "execution_count": 25,
   "source": [
    "def radial_influence(st, radius, DT):\r\n",
    "    n_row = DT.shape[0]\r\n",
    "    \r\n",
    "    stopd_index = DT[DT['stop_id'] == st].index[0]\r\n",
    "    x0 = DT.stop_lon.iloc[stopd_index]\r\n",
    "    y0 = DT.stop_lat.iloc[stopd_index]\r\n",
    "    \r\n",
    "    radial_dist = []\r\n",
    "    condition = []\r\n",
    "    \r\n",
    "    for i in range(n_row):\r\n",
    "        \r\n",
    "        center_point = (x0, y0)\r\n",
    "        test_point = (DT.stop_lon.iloc[i], DT.stop_lat.iloc[i])\r\n",
    "        dist = distance.distance(center_point, test_point).miles\r\n",
    "        \r\n",
    "        radial_dist.append(dist)\r\n",
    "        \r\n",
    "        if (dist <= radius):\r\n",
    "            \r\n",
    "            cond = 'inside'\r\n",
    "            \r\n",
    "        else:\r\n",
    "            \r\n",
    "            cond = 'outside'\r\n",
    "            \r\n",
    "        condition.append(cond)\r\n",
    "        \r\n",
    "    influence = {'stop_id': DT.stop_id, 'Radial_Distance': radial_dist, 'Influence': condition}\r\n",
    "    Influence = pd.DataFrame(data = influence, columns = ['stop_id', 'Radial_Distance', 'Influence'])\r\n",
    "    \r\n",
    "    return(Influence)"
   ],
   "outputs": [],
   "metadata": {}
  },
  {
   "cell_type": "markdown",
   "source": [
    "### Example\n",
    "\n",
    "Let's plot the half-mile radius from bus stop 12 (`stop_id == '12'`):"
   ],
   "metadata": {}
  },
  {
   "cell_type": "code",
   "execution_count": 26,
   "source": [
    "Surrounding_Stops_12 = radial_influence('12', 0.5, Bus_Stops)\r\n",
    "Surrounding_Stops_12.head()"
   ],
   "outputs": [
    {
     "output_type": "execute_result",
     "data": {
      "text/html": [
       "<div>\n",
       "<style scoped>\n",
       "    .dataframe tbody tr th:only-of-type {\n",
       "        vertical-align: middle;\n",
       "    }\n",
       "\n",
       "    .dataframe tbody tr th {\n",
       "        vertical-align: top;\n",
       "    }\n",
       "\n",
       "    .dataframe thead th {\n",
       "        text-align: right;\n",
       "    }\n",
       "</style>\n",
       "<table border=\"1\" class=\"dataframe\">\n",
       "  <thead>\n",
       "    <tr style=\"text-align: right;\">\n",
       "      <th></th>\n",
       "      <th>stop_id</th>\n",
       "      <th>Radial_Distance</th>\n",
       "      <th>Influence</th>\n",
       "    </tr>\n",
       "  </thead>\n",
       "  <tbody>\n",
       "    <tr>\n",
       "      <th>0</th>\n",
       "      <td>971</td>\n",
       "      <td>4.355288</td>\n",
       "      <td>outside</td>\n",
       "    </tr>\n",
       "    <tr>\n",
       "      <th>1</th>\n",
       "      <td>146</td>\n",
       "      <td>0.486455</td>\n",
       "      <td>inside</td>\n",
       "    </tr>\n",
       "    <tr>\n",
       "      <th>2</th>\n",
       "      <td>1545</td>\n",
       "      <td>4.073987</td>\n",
       "      <td>outside</td>\n",
       "    </tr>\n",
       "    <tr>\n",
       "      <th>3</th>\n",
       "      <td>972</td>\n",
       "      <td>4.236001</td>\n",
       "      <td>outside</td>\n",
       "    </tr>\n",
       "    <tr>\n",
       "      <th>4</th>\n",
       "      <td>81</td>\n",
       "      <td>0.470530</td>\n",
       "      <td>inside</td>\n",
       "    </tr>\n",
       "  </tbody>\n",
       "</table>\n",
       "</div>"
      ],
      "text/plain": [
       "  stop_id  Radial_Distance Influence\n",
       "0     971         4.355288   outside\n",
       "1     146         0.486455    inside\n",
       "2    1545         4.073987   outside\n",
       "3     972         4.236001   outside\n",
       "4      81         0.470530    inside"
      ]
     },
     "metadata": {},
     "execution_count": 26
    }
   ],
   "metadata": {}
  },
  {
   "cell_type": "markdown",
   "source": [
    "## Data Extraction\n",
    "\n",
    "The function `data_extraction()` requires five inputs:\n",
    "\n",
    "* `route`: a `route_id` value.\n",
    "* `direction`: a `direction_id` value.\n",
    "* `bus_stop`: a `stop_id` value.\n",
    "* `DTFRM`: a data frame with all the required variables like `carta`.\n",
    "* `part`: `pre` or `post` according to the data partition.\n",
    "\n",
    "The output is a data frame `*_lock_data.csv` with the required data."
   ],
   "metadata": {}
  },
  {
   "cell_type": "code",
   "execution_count": 36,
   "source": [
    "def data_extraction(route, direction, bus_stop, DTFRM, part):\r\n",
    "    import numpy as np\r\n",
    "    import pandas as pd\r\n",
    "    import datetime as dt\r\n",
    "             \r\n",
    "    dtfrm = DTFRM[(DTFRM['route_id'] == route) & (DTFRM['direction_id'] == direction) & (DTFRM['stop_id'] == bus_stop)]\r\n",
    "    \r\n",
    "    #return(carta)\r\n",
    "\r\n",
    "    n_rows = dtfrm.shape[0]\r\n",
    "    \r\n",
    "    if (n_rows == 0):\r\n",
    "        print('There are not rows in the data set with the required characteristics. Please change them.')\r\n",
    "        \r\n",
    "    else:\r\n",
    "          \r\n",
    "        vinit = dtfrm[['month', 'service_kind', 'hour', 'board_count', 'alight_count', 'Estimated_Temp', 'Estimated_Precip']].groupby(['month', 'service_kind', 'hour']).mean()\r\n",
    "        Vinit = vinit.reset_index(level = ['month', 'service_kind', 'hour'])\r\n",
    "        Vinit.columns = ['month', 'service_kind', 'hour', 'month_average_board_count', 'month_average_alight_count', 'mean_temp', 'mean_precip']\r\n",
    "        Vinit = Vinit.drop_duplicates()\r\n",
    "\r\n",
    "        #return(Vinit)\r\n",
    "    \r\n",
    "        V1 = dtfrm[[ 'month', 'service_kind', 'hour', 'board_count', 'alight_count']]\r\n",
    "        V1.columns = ['month', 'service_kind', 'hour', 'board_count', 'alight_count']\r\n",
    "     \r\n",
    "        V1 = pd.merge(V1, Vinit, on = ['month', 'service_kind', 'hour'], how = 'left')\r\n",
    "\r\n",
    "        #return(V1)\r\n",
    "    \r\n",
    "        Relevant_Bus_Stops = radial_influence(bus_stop, 0.5, Bus_Stops)\r\n",
    "        bus_stops_ids = Relevant_Bus_Stops.stop_id.unique().astype(str)\r\n",
    "        bus_stops_ids = pd.DataFrame(bus_stops_ids)\r\n",
    "        bus_stops_ids.columns = ['stop_id']\r\n",
    "        bus_stops_ids = bus_stops_ids[bus_stops_ids['stop_id'] != bus_stop]\r\n",
    "        bus_stops_ids = bus_stops_ids.drop_duplicates()\r\n",
    "               \r\n",
    "        V3 = DTFRM[DTFRM['stop_id'].isin(bus_stops_ids.stop_id.astype(str))][['month', 'service_kind', 'hour', 'board_count', 'alight_count']]\r\n",
    "        V3 = V3.drop_duplicates()\r\n",
    "        V3a = V3.groupby(['month', 'service_kind', 'hour']).mean()\r\n",
    "        V3b = V3a.reset_index(level = ['month', 'service_kind', 'hour'])\r\n",
    "        V3b.columns = ['month', 'service_kind', 'hour', 'surrounding_board_count', 'surrounding_alight_count']\r\n",
    "        V3b = V3b.drop_duplicates()\r\n",
    "\r\n",
    "        #return(V3b)\r\n",
    "    \r\n",
    "        data = pd.merge(V1, V3b, how = 'left', on = [ 'month', 'service_kind', 'hour'])\r\n",
    "\r\n",
    "        #return(data)\r\n",
    "                \r\n",
    "        data.month = data['month'].astype('category')\r\n",
    "        data.service_kind = data['service_kind'].astype('category')\r\n",
    "        data.hour = data['hour'].astype('category')\r\n",
    "       \r\n",
    "        data.columns = ['month', 'service_kind', 'hour', 'board_count', 'alight_count', 'mean_temp', 'mean_precip',\r\n",
    "                        'month_average_board_count', 'month_average_alight_count', 'surrounding_board_count', 'surrounding_alight_count']\r\n",
    "        data = data.drop_duplicates()\r\n",
    "\r\n",
    "        #return(data)\r\n",
    "        \r\n",
    "        data.month_average_board_count = normalizer(data['month_average_board_count'])\r\n",
    "        data.surrounding_board_count = normalizer(data['surrounding_board_count'])\r\n",
    "        \r\n",
    "        data.mean_temp = normalizer(data['mean_temp'])\r\n",
    "        data.mean_precip = normalizer(data['mean_precip'])\r\n",
    "        \r\n",
    "        data = data[['month', 'service_kind', 'hour', 'board_count', 'mean_temp', 'mean_precip','month_average_board_count', 'surrounding_board_count']]\r\n",
    "\r\n",
    "        #return(data)\r\n",
    "        \r\n",
    "        data = data.reset_index(drop = True)\r\n",
    "        #data = data.dropna(axis = 0, how = 'any', inplace = True)\r\n",
    "        \r\n",
    "        #return(data)\r\n",
    "        #--------------------------------------------------------------------------------------------------------------------\r\n",
    "        # Export data:\r\n",
    "        \r\n",
    "        def paste0(ss,sep=None,na_rep=None,):\r\n",
    "            ss = [pd.Series(s) for s in ss]\r\n",
    "            ss = [s.astype(str) for s in ss]\r\n",
    "            s = ss[0]\r\n",
    "            res = s.str.cat(ss[1:],sep=sep,na_rep=na_rep)\r\n",
    "            return res\r\n",
    "               \r\n",
    "        file_path = '/'.join(['data', 'Data_for_RF_Models', 'Board_Counts', '_'.join(['route', route]), ''.join(['direction', direction]), '_'.join(['bus_stop', bus_stop])])\r\n",
    "        \r\n",
    "        #file_path = paste0(paste0([paste0([paste0([paste0([paste0(['data'], sep = '/'), \r\n",
    "        #                                                paste0(['Data_for_RF_Models', 'Board_Counts'], sep ='/')], sep = '/'),\r\n",
    "        #                                        paste0(['route', route], sep = '_')], sep = '/'),\r\n",
    "        #                                paste0(['direction', direction])], sep = '/'),\r\n",
    "        #                        paste0(['bus_stop', bus_stop], sep = '_')], sep = '/'), sep = '/')[0]\r\n",
    "        \r\n",
    "        #return(file_path)\r\n",
    "        #os.mkdir(file_path)\r\n",
    "\r\n",
    "        #return(data)\r\n",
    "        \r\n",
    "        if (part == 'all'):\r\n",
    "            \r\n",
    "            file_name = paste0(['data', '.csv'])\r\n",
    "            complete_path = paste0([file_path, file_name], sep = '/')[0]\r\n",
    "            data.to_csv(complete_path)\r\n",
    "            \r\n",
    "        elif (part == 'pre'):\r\n",
    "            \r\n",
    "            file_name = paste0(['pre_lock_data', '.csv'])\r\n",
    "            complete_path = paste0([file_path, file_name], sep = '/')[0]\r\n",
    "            data.to_csv(complete_path)\r\n",
    "            \r\n",
    "        elif (part == 'post'):\r\n",
    "            \r\n",
    "            file_name = paste0(['post_lock_data', '.csv'])\r\n",
    "            complete_path = paste0([file_path, file_name], sep = '/')[0]\r\n",
    "            data.to_csv(complete_path)\r\n",
    "\r\n",
    "        return('Done!')\r\n",
    "            \r\n",
    "        "
   ],
   "outputs": [],
   "metadata": {}
  },
  {
   "cell_type": "code",
   "execution_count": 42,
   "source": [
    "Post_lock[(Post_lock['route_id'] == '10A') & (Post_lock['direction_id'] == '1')]['stop_id'].unique()"
   ],
   "outputs": [
    {
     "output_type": "execute_result",
     "data": {
      "text/plain": [
       "array(['288', '233', '234', '235', '236', '237', '238', '505', '690',\n",
       "       '253', '273', '274', '275', '276', '277', '278', '279', '280',\n",
       "       '281', '282', '283', '284', '285', '286', '287', '1351', '272',\n",
       "       '254', '271', '255', '256', '257', '219', '220', '311', '259',\n",
       "       '260', '261', '262', '263', '264', '265', '266', '1584', '1583',\n",
       "       '269', '270', '258', '12', '1555', '1579', '1354', '1353', '17',\n",
       "       '742', '805', '806', '807', '1475', '1870', '211', '212', '213',\n",
       "       '214', '215', '216', '1997', '2187', '1939', '2176', '2068',\n",
       "       '2076', '2177', '2178', '2139', '2179', '2180', '1922', '2010',\n",
       "       '217'], dtype=object)"
      ]
     },
     "metadata": {},
     "execution_count": 42
    }
   ],
   "metadata": {}
  },
  {
   "cell_type": "markdown",
   "source": [
    "### Example: \n",
    "\n",
    "Let's extract the data for modeling considering the following inputs:\n",
    "\n",
    "* `route_id == '1'`\n",
    "* `direction_id == 0`\n",
    "* `stop_id == '12'`\n",
    "* `DTFRM == carta`\n",
    "* `part == 'pre'`"
   ],
   "metadata": {}
  },
  {
   "cell_type": "code",
   "execution_count": 55,
   "source": [
    "data_extraction('10A', '1', '217', Post_lock, 'post')"
   ],
   "outputs": [
    {
     "output_type": "execute_result",
     "data": {
      "text/plain": [
       "'Done!'"
      ]
     },
     "metadata": {},
     "execution_count": 55
    }
   ],
   "metadata": {}
  },
  {
   "cell_type": "code",
   "execution_count": 72,
   "source": [
    "data1.shape"
   ],
   "outputs": [
    {
     "output_type": "execute_result",
     "data": {
      "text/plain": [
       "(3150, 8)"
      ]
     },
     "metadata": {},
     "execution_count": 72
    }
   ],
   "metadata": {}
  },
  {
   "cell_type": "markdown",
   "source": [
    "We can use a `for loop` to run this process for each bus stop. We declare the function `paste0()` to create the file paths from the input parameters:"
   ],
   "metadata": {}
  },
  {
   "cell_type": "code",
   "execution_count": 12,
   "source": [
    "def paste0(ss,sep=None,na_rep=None,):\r\n",
    "            '''Analogy to R paste0'''\r\n",
    "            ss = [pd.Series(s) for s in ss]\r\n",
    "            ss = [s.astype(str) for s in ss]\r\n",
    "            s = ss[0]\r\n",
    "            res = s.str.cat(ss[1:],sep=sep,na_rep=na_rep)\r\n",
    "            return res"
   ],
   "outputs": [],
   "metadata": {}
  },
  {
   "cell_type": "markdown",
   "source": [
    "## For Loop for all the bus stops in `route_id == '4'` and `direction_id == '1'`"
   ],
   "metadata": {}
  },
  {
   "cell_type": "code",
   "execution_count": 14,
   "source": [
    "def get_bus_stop_data(rt_id, dir_id, part):\r\n",
    "    \r\n",
    "    if (part == 'pre'):\r\n",
    "        \r\n",
    "        bus_stops_rX_dirY = Pre_lock[(Pre_lock['route_id'] == rt_id) & (Pre_lock['direction_id'] == dir_id)]['stop_id'].unique()\r\n",
    "           \r\n",
    "        for st in bus_stops_rX_dirY:\r\n",
    "            print(st)\r\n",
    "            data_extraction(rt_id, dir_id, st, Pre_lock, 'pre')\r\n",
    "            print('Done!')\r\n",
    "                        \r\n",
    "    elif (part == 'post'):\r\n",
    "        \r\n",
    "        bus_stops_rX_dirY = Post_lock[(Post_lock['route_id'] == rt_id) & (Post_lock['direction_id'] == dir_id)]['stop_id'].unique()\r\n",
    "           \r\n",
    "        for st in bus_stops_rX_dirY:\r\n",
    "            print(st)\r\n",
    "            data_extraction(rt_id, dir_id, st, Post_lock, 'post')\r\n",
    "            print('Done!')\r\n",
    "            \r\n",
    "    elif (part == 'all'):\r\n",
    "        \r\n",
    "        bus_stops_rX_dirY = carta[(carta['route_id'] == rt_id) & (carta['direction_id'] == dir_id)]['stop_id'].unique()\r\n",
    "           \r\n",
    "        for st in bus_stops_rX_dirY:\r\n",
    "            print(st)\r\n",
    "            data_extraction(rt_id, dir_id, st, carta, 'all')\r\n",
    "            print('Done!')\r\n",
    "        \r\n",
    "    return('Data preparation is complete!')"
   ],
   "outputs": [],
   "metadata": {}
  },
  {
   "cell_type": "code",
   "execution_count": 22,
   "source": [
    "Pre_lock[(Pre_lock['route_id'] == '2') & (Pre_lock['direction_id'] == '0')]['stop_id'].unique()"
   ],
   "outputs": [
    {
     "output_type": "execute_result",
     "data": {
      "text/plain": [
       "array(['1821', '1827', '166', '1361', '165', '164', '163', '145', '730',\n",
       "       '729', '728', '727', '726', '724', '1694', '1825', '1458', '1589',\n",
       "       '1560', '505', '354', '1713'], dtype=object)"
      ]
     },
     "metadata": {},
     "execution_count": 22
    }
   ],
   "metadata": {}
  },
  {
   "cell_type": "code",
   "execution_count": 53,
   "source": [
    "Pre_lock.shape[0]"
   ],
   "outputs": [
    {
     "output_type": "execute_result",
     "data": {
      "text/plain": [
       "8602818"
      ]
     },
     "metadata": {},
     "execution_count": 53
    }
   ],
   "metadata": {}
  },
  {
   "cell_type": "markdown",
   "source": [
    "Finally, we do this process for each combination of `route_id`, `direciton_id`, and data partition:"
   ],
   "metadata": {}
  },
  {
   "cell_type": "code",
   "execution_count": 59,
   "source": [
    "get_bus_stop_data('2', '1', 'post')\r\n",
    "#get_bus_stop_data('1', '0', 'post')"
   ],
   "outputs": [
    {
     "output_type": "stream",
     "name": "stdout",
     "text": [
      "1837\n",
      "Done!\n",
      "1872\n",
      "Done!\n",
      "12\n",
      "Done!\n",
      "1838\n",
      "Done!\n",
      "1867\n",
      "Done!\n",
      "1839\n",
      "Done!\n",
      "1840\n",
      "Done!\n",
      "734\n",
      "Done!\n",
      "733\n",
      "Done!\n",
      "732\n",
      "Done!\n",
      "731\n",
      "Done!\n",
      "730\n",
      "Done!\n",
      "1555\n",
      "Done!\n",
      "1579\n",
      "Done!\n",
      "690\n",
      "Done!\n",
      "505\n",
      "Done!\n",
      "1475\n",
      "Done!\n",
      "805\n",
      "Done!\n",
      "742\n",
      "Done!\n",
      "17\n",
      "Done!\n",
      "1353\n",
      "Done!\n",
      "1354\n",
      "Done!\n",
      "806\n",
      "Done!\n",
      "807\n",
      "Done!\n"
     ]
    },
    {
     "output_type": "execute_result",
     "data": {
      "text/plain": [
       "'Data preparation is complete!'"
      ]
     },
     "metadata": {},
     "execution_count": 59
    }
   ],
   "metadata": {}
  },
  {
   "cell_type": "code",
   "execution_count": 47,
   "source": [
    "get_bus_stop_data('8', '1', 'pre')"
   ],
   "outputs": [
    {
     "output_type": "stream",
     "name": "stdout",
     "text": [
      "679\n",
      "Done!\n",
      "1043\n",
      "Done!\n",
      "1044\n",
      "Done!\n",
      "1047\n",
      "Done!\n",
      "1048\n",
      "Done!\n",
      "1049\n",
      "Done!\n",
      "1492\n",
      "Done!\n",
      "1051\n",
      "Done!\n",
      "1052\n",
      "Done!\n",
      "298\n",
      "Done!\n",
      "299\n",
      "Done!\n",
      "300\n",
      "Done!\n",
      "1054\n",
      "Done!\n",
      "1055\n",
      "Done!\n",
      "1057\n",
      "Done!\n",
      "1058\n",
      "Done!\n",
      "1059\n",
      "Done!\n",
      "1060\n",
      "Done!\n",
      "1061\n",
      "Done!\n",
      "1493\n",
      "Done!\n",
      "1064\n",
      "Done!\n",
      "1065\n",
      "Done!\n",
      "297\n",
      "Done!\n",
      "1846\n",
      "Done!\n",
      "629\n",
      "Done!\n",
      "630\n",
      "Done!\n",
      "631\n",
      "Done!\n",
      "632\n",
      "Done!\n",
      "1836\n",
      "Done!\n",
      "1834\n",
      "Done!\n",
      "671\n",
      "Done!\n",
      "672\n",
      "Done!\n",
      "673\n",
      "Done!\n",
      "675\n",
      "Done!\n",
      "1844\n",
      "Done!\n",
      "1070\n",
      "Done!\n",
      "1071\n",
      "Done!\n",
      "1072\n",
      "Done!\n",
      "1074\n",
      "Done!\n",
      "1075\n",
      "Done!\n",
      "1076\n",
      "Done!\n",
      "1077\n",
      "Done!\n",
      "1078\n",
      "Done!\n",
      "1494\n",
      "Done!\n",
      "1079\n",
      "Done!\n",
      "1080\n",
      "Done!\n",
      "1082\n",
      "Done!\n",
      "1551\n",
      "Done!\n",
      "1073\n",
      "Done!\n",
      "628\n",
      "Done!\n",
      "1845\n",
      "Done!\n",
      "1516\n",
      "Done!\n",
      "627\n",
      "Done!\n",
      "354\n",
      "Done!\n",
      "1835\n",
      "Done!\n"
     ]
    },
    {
     "output_type": "execute_result",
     "data": {
      "text/plain": [
       "'Data preparation is complete!'"
      ]
     },
     "metadata": {},
     "execution_count": 47
    }
   ],
   "metadata": {}
  },
  {
   "cell_type": "code",
   "execution_count": 84,
   "source": [
    "get_bus_stop_data('1', '1', 'pre')\r\n",
    "#get_bus_stop_data('1', '1', 'post')\r\n",
    "#get_bus_stop_data('1', '1', 'all')"
   ],
   "outputs": [
    {
     "output_type": "stream",
     "name": "stdout",
     "text": [
      "1731\n",
      "Done!\n",
      "148\n",
      "Done!\n",
      "1899\n",
      "Done!\n",
      "1486\n",
      "Done!\n",
      "142\n",
      "Done!\n",
      "81\n",
      "Done!\n",
      "141\n",
      "Done!\n",
      "140\n",
      "Done!\n",
      "139\n",
      "Done!\n",
      "138\n",
      "Done!\n",
      "1797\n",
      "Done!\n",
      "157\n",
      "Done!\n",
      "75\n",
      "Done!\n",
      "137\n",
      "Done!\n",
      "74\n",
      "Done!\n",
      "136\n",
      "Done!\n",
      "1892\n",
      "Done!\n",
      "72\n",
      "Done!\n",
      "1915\n",
      "Done!\n",
      "1891\n",
      "Done!\n",
      "134\n",
      "Done!\n",
      "133\n",
      "Done!\n",
      "1487\n",
      "Done!\n",
      "95\n",
      "Done!\n",
      "143\n",
      "Done!\n",
      "151\n",
      "Done!\n",
      "118\n",
      "Done!\n",
      "1912\n",
      "Done!\n",
      "116\n",
      "Done!\n",
      "115\n",
      "Done!\n",
      "114\n",
      "Done!\n",
      "113\n",
      "Done!\n",
      "112\n",
      "Done!\n",
      "111\n",
      "Done!\n",
      "110\n",
      "Done!\n",
      "109\n",
      "Done!\n",
      "771\n",
      "Done!\n",
      "108\n",
      "Done!\n",
      "145\n",
      "Done!\n",
      "106\n",
      "Done!\n",
      "105\n",
      "Done!\n",
      "104\n",
      "Done!\n",
      "103\n",
      "Done!\n",
      "102\n",
      "Done!\n",
      "101\n",
      "Done!\n",
      "100\n",
      "Done!\n",
      "144\n",
      "Done!\n",
      "152\n",
      "Done!\n",
      "107\n",
      "Done!\n",
      "1913\n",
      "Done!\n",
      "132\n",
      "Done!\n",
      "130\n",
      "Done!\n",
      "129\n",
      "Done!\n",
      "128\n",
      "Done!\n",
      "127\n",
      "Done!\n",
      "126\n",
      "Done!\n",
      "125\n",
      "Done!\n",
      "124\n",
      "Done!\n",
      "1358\n",
      "Done!\n",
      "1914\n",
      "Done!\n",
      "1582\n",
      "Done!\n",
      "166\n",
      "Done!\n",
      "1589\n",
      "Done!\n",
      "1361\n",
      "Done!\n",
      "1684\n",
      "Done!\n",
      "167\n",
      "Done!\n",
      "165\n",
      "Done!\n",
      "1488\n",
      "Done!\n",
      "163\n",
      "Done!\n",
      "1560\n",
      "Done!\n",
      "164\n",
      "Done!\n",
      "169\n",
      "Done!\n",
      "505\n",
      "Done!\n",
      "172\n",
      "Done!\n",
      "171\n",
      "Done!\n",
      "170\n",
      "Done!\n",
      "90\n",
      "Done!\n",
      "150\n",
      "Done!\n",
      "690\n",
      "Done!\n",
      "146\n",
      "Done!\n",
      "155\n",
      "Done!\n",
      "158\n",
      "Done!\n",
      "161\n",
      "Done!\n",
      "44\n",
      "Done!\n"
     ]
    },
    {
     "output_type": "execute_result",
     "data": {
      "text/plain": [
       "'Data preparation is complete!'"
      ]
     },
     "metadata": {},
     "execution_count": 84
    }
   ],
   "metadata": {}
  },
  {
   "cell_type": "code",
   "execution_count": 85,
   "source": [
    "get_bus_stop_data('4', '0', 'pre')\r\n",
    "#get_bus_stop_data('4', '0', 'post')\r\n",
    "#get_bus_stop_data('4', '0', 'all')"
   ],
   "outputs": [
    {
     "output_type": "stream",
     "name": "stdout",
     "text": [
      "806\n",
      "Done!\n",
      "807\n",
      "Done!\n",
      "1475\n",
      "Done!\n",
      "1474\n",
      "Done!\n",
      "811\n",
      "Done!\n",
      "812\n",
      "Done!\n",
      "805\n",
      "Done!\n",
      "1351\n",
      "Done!\n",
      "12\n",
      "Done!\n",
      "1555\n",
      "Done!\n",
      "813\n",
      "Done!\n",
      "1579\n",
      "Done!\n",
      "1354\n",
      "Done!\n",
      "1353\n",
      "Done!\n",
      "17\n",
      "Done!\n",
      "742\n",
      "Done!\n",
      "322\n",
      "Done!\n",
      "830\n",
      "Done!\n",
      "831\n",
      "Done!\n",
      "832\n",
      "Done!\n",
      "833\n",
      "Done!\n",
      "834\n",
      "Done!\n",
      "835\n",
      "Done!\n",
      "321\n",
      "Done!\n",
      "836\n",
      "Done!\n",
      "838\n",
      "Done!\n",
      "839\n",
      "Done!\n",
      "840\n",
      "Done!\n",
      "841\n",
      "Done!\n",
      "842\n",
      "Done!\n",
      "843\n",
      "Done!\n",
      "844\n",
      "Done!\n",
      "845\n",
      "Done!\n",
      "837\n",
      "Done!\n",
      "814\n",
      "Done!\n",
      "815\n",
      "Done!\n",
      "816\n",
      "Done!\n",
      "817\n",
      "Done!\n",
      "818\n",
      "Done!\n",
      "829\n",
      "Done!\n",
      "819\n",
      "Done!\n",
      "821\n",
      "Done!\n",
      "822\n",
      "Done!\n",
      "823\n",
      "Done!\n",
      "824\n",
      "Done!\n",
      "825\n",
      "Done!\n",
      "826\n",
      "Done!\n",
      "827\n",
      "Done!\n",
      "828\n",
      "Done!\n",
      "820\n",
      "Done!\n",
      "846\n",
      "Done!\n",
      "848\n",
      "Done!\n",
      "1875\n",
      "Done!\n",
      "894\n",
      "Done!\n",
      "1485\n",
      "Done!\n",
      "897\n",
      "Done!\n",
      "898\n",
      "Done!\n",
      "891\n",
      "Done!\n",
      "889\n",
      "Done!\n",
      "873\n",
      "Done!\n",
      "874\n",
      "Done!\n",
      "875\n",
      "Done!\n",
      "876\n",
      "Done!\n",
      "877\n",
      "Done!\n",
      "879\n",
      "Done!\n",
      "880\n",
      "Done!\n",
      "890\n",
      "Done!\n",
      "881\n",
      "Done!\n",
      "882\n",
      "Done!\n",
      "883\n",
      "Done!\n",
      "884\n",
      "Done!\n",
      "885\n",
      "Done!\n",
      "886\n",
      "Done!\n",
      "887\n",
      "Done!\n",
      "888\n",
      "Done!\n",
      "872\n",
      "Done!\n",
      "869\n",
      "Done!\n",
      "870\n",
      "Done!\n",
      "871\n",
      "Done!\n",
      "868\n",
      "Done!\n",
      "867\n",
      "Done!\n",
      "849\n",
      "Done!\n",
      "850\n",
      "Done!\n",
      "851\n",
      "Done!\n",
      "852\n",
      "Done!\n",
      "854\n",
      "Done!\n",
      "855\n",
      "Done!\n",
      "856\n",
      "Done!\n",
      "857\n",
      "Done!\n",
      "858\n",
      "Done!\n",
      "859\n",
      "Done!\n",
      "860\n",
      "Done!\n",
      "1873\n",
      "Done!\n",
      "1848\n",
      "Done!\n",
      "1849\n",
      "Done!\n",
      "1850\n",
      "Done!\n",
      "861\n",
      "Done!\n",
      "1819\n",
      "Done!\n",
      "1876\n",
      "Done!\n",
      "1557\n",
      "Done!\n",
      "1357\n",
      "Done!\n",
      "21\n",
      "Done!\n",
      "22\n",
      "Done!\n",
      "23\n",
      "Done!\n",
      "24\n",
      "Done!\n",
      "25\n",
      "Done!\n",
      "18\n",
      "Done!\n",
      "19\n",
      "Done!\n",
      "1880\n",
      "Done!\n",
      "1917\n",
      "Done!\n",
      "1882\n",
      "Done!\n",
      "1910\n",
      "Done!\n",
      "905\n",
      "Done!\n",
      "1909\n",
      "Done!\n",
      "907\n",
      "Done!\n",
      "908\n",
      "Done!\n",
      "900\n",
      "Done!\n",
      "901\n",
      "Done!\n",
      "902\n",
      "Done!\n",
      "903\n",
      "Done!\n",
      "1908\n",
      "Done!\n",
      "354\n",
      "Done!\n",
      "505\n",
      "Done!\n",
      "285\n",
      "Done!\n",
      "284\n",
      "Done!\n",
      "283\n",
      "Done!\n",
      "784\n",
      "Done!\n",
      "713\n",
      "Done!\n",
      "286\n",
      "Done!\n",
      "287\n",
      "Done!\n",
      "1877\n",
      "Done!\n",
      "892\n",
      "Done!\n",
      "1473\n",
      "Done!\n",
      "1472\n",
      "Done!\n",
      "1469\n",
      "Done!\n",
      "1468\n",
      "Done!\n",
      "1471\n",
      "Done!\n",
      "1470\n",
      "Done!\n",
      "1878\n",
      "Done!\n",
      "1466\n",
      "Done!\n",
      "1465\n",
      "Done!\n",
      "1482\n",
      "Done!\n"
     ]
    },
    {
     "output_type": "execute_result",
     "data": {
      "text/plain": [
       "'Data preparation is complete!'"
      ]
     },
     "metadata": {},
     "execution_count": 85
    }
   ],
   "metadata": {}
  },
  {
   "cell_type": "code",
   "execution_count": 40,
   "source": [
    "#get_bus_stop_data('4', '1', 'pre')"
   ],
   "outputs": [],
   "metadata": {}
  },
  {
   "cell_type": "code",
   "execution_count": 51,
   "source": [
    "get_bus_stop_data('4', '1', 'post')"
   ],
   "outputs": [
    {
     "output_type": "execute_result",
     "data": {
      "text/plain": [
       "'Done!'"
      ]
     },
     "metadata": {},
     "execution_count": 51
    }
   ],
   "metadata": {}
  },
  {
   "cell_type": "code",
   "execution_count": 31,
   "source": [
    "get_bus_stop_data('9', '0', 'pre')\r\n",
    "get_bus_stop_data('9', '0', 'post')"
   ],
   "outputs": [
    {
     "output_type": "execute_result",
     "data": {
      "text/plain": [
       "'Done!'"
      ]
     },
     "metadata": {},
     "execution_count": 31
    }
   ],
   "metadata": {}
  },
  {
   "cell_type": "code",
   "execution_count": 36,
   "source": [
    "get_bus_stop_data('9', '1', 'pre')\r\n",
    "get_bus_stop_data('9', '1', 'post')"
   ],
   "outputs": [
    {
     "output_type": "execute_result",
     "data": {
      "text/plain": [
       "'Done!'"
      ]
     },
     "metadata": {},
     "execution_count": 36
    }
   ],
   "metadata": {}
  },
  {
   "cell_type": "markdown",
   "source": [
    "## Data Partition into train and test sets\n",
    "\n",
    "The function`data_partition_for_ml()` takes the extracted data (created by using the `get_bus_stop_data()` function) and creates a random partition for the train (80%) and test sets (20%).  "
   ],
   "metadata": {}
  },
  {
   "cell_type": "code",
   "execution_count": 32,
   "source": [
    "def data_partition_for_ml(rt, di, st, part):\r\n",
    "    import numpy as np\r\n",
    "    import pandas as pd\r\n",
    "    from sklearn.model_selection import train_test_split\r\n",
    "    \r\n",
    "    def paste0(ss,sep=None,na_rep=None,):\r\n",
    "            ss = [pd.Series(s) for s in ss]\r\n",
    "            ss = [s.astype(str) for s in ss]\r\n",
    "            s = ss[0]\r\n",
    "            res = s.str.cat(ss[1:],sep=sep,na_rep=na_rep)\r\n",
    "            return res\r\n",
    "    \r\n",
    "    if (part == 'all'):\r\n",
    "          \r\n",
    "        file_path = paste0([paste0([paste0([paste0([paste0([paste0(['data'], sep = '/'), \r\n",
    "                                                        paste0(['Data_for_RF_Models', 'Board_Counts'], sep ='/')], sep = '/'),\r\n",
    "                                                paste0(['route', rt], sep = '_')], sep = '/'),\r\n",
    "                                        paste0(['direction', di])], sep = '/'),\r\n",
    "                                paste0(['bus_stop', st], sep = '_')], sep = '/'), 'data.csv'], sep = '/')[0]\r\n",
    "          \r\n",
    "        dtt = pd.read_csv(file_path)\r\n",
    "    \r\n",
    "        train_data, test_data = train_test_split(dtt, test_size=0.2)\r\n",
    "    \r\n",
    "        train_data = train_data[['month', 'service_kind', 'hour', 'board_count', 'mean_temp',\r\n",
    "                                 'mean_precip', 'month_average_board_count', 'surrounding_board_count']]\r\n",
    "        \r\n",
    "        train_data.dropna(how = 'all', axis = 1, inplace = True)\r\n",
    "    \r\n",
    "        test_data = test_data[['month', 'service_kind', 'hour', 'board_count', 'mean_temp',\r\n",
    "                               'mean_precip', 'month_average_board_count', 'surrounding_board_count']]\r\n",
    "        \r\n",
    "        test_data.dropna(how = 'all', axis = 1, inplace = True)\r\n",
    "    \r\n",
    "        train_data_path = paste0([paste0([paste0([paste0([paste0([paste0(['data'], sep = '/'), \r\n",
    "                                                                  paste0(['Data_for_RF_Models', 'Board_Counts'], sep ='/')], sep = '/'),\r\n",
    "                                                          paste0(['route', rt], sep = '_')], sep = '/'),\r\n",
    "                                                  paste0(['direction', di])], sep = '/'),\r\n",
    "                                          paste0(['bus_stop', st], sep = '_')], sep = '/'), 'train_data.csv'], sep = '/')[0]\r\n",
    "           \r\n",
    "        test_data_path = paste0([paste0([paste0([paste0([paste0([paste0(['data'], sep = '/'), \r\n",
    "                                                            paste0(['Data_for_RF_Models', 'Board_Counts'], sep ='/')], sep = '/'),\r\n",
    "                                                    paste0(['route', rt], sep = '_')], sep = '/'),\r\n",
    "                                            paste0(['direction', di])], sep = '/'),\r\n",
    "                                    paste0(['bus_stop', st], sep = '_')], sep = '/'), 'test_data.csv'], sep = '/')[0]\r\n",
    "    \r\n",
    "        train_data.to_csv(train_data_path, index = False)\r\n",
    "        test_data.to_csv(test_data_path, index = False)\r\n",
    "        \r\n",
    "    elif (part == 'pre'):\r\n",
    "        \r\n",
    "        file_path = paste0([paste0([paste0([paste0([paste0([paste0(['data'], sep = '/'), \r\n",
    "                                                        paste0(['Data_for_RF_Models', 'Board_Counts'], sep ='/')], sep = '/'),\r\n",
    "                                                paste0(['route', rt], sep = '_')], sep = '/'),\r\n",
    "                                        paste0(['direction', di])], sep = '/'),\r\n",
    "                                paste0(['bus_stop', st], sep = '_')], sep = '/'), 'pre_lock_data.csv'], sep = '/')[0]\r\n",
    "          \r\n",
    "        dtt = pd.read_csv(file_path)\r\n",
    "\r\n",
    "        data_nrow = dtt.shape[0]\r\n",
    "\r\n",
    "        #return(data_nrow)\r\n",
    "\r\n",
    "        if (data_nrow > 60):\r\n",
    "\r\n",
    "                train_data, test_data = train_test_split(dtt, test_size=0.2)\r\n",
    "\r\n",
    "                train_data = train_data[['month', 'service_kind', 'hour', 'board_count', 'mean_temp',\r\n",
    "                                'mean_precip', 'month_average_board_count', 'surrounding_board_count']]\r\n",
    "        \r\n",
    "                train_data.dropna(how = 'all', axis = 1, inplace = True)\r\n",
    "    \r\n",
    "                test_data = test_data[['month', 'service_kind', 'hour', 'board_count', 'mean_temp',\r\n",
    "                                       'mean_precip', 'month_average_board_count', 'surrounding_board_count']]\r\n",
    "        \r\n",
    "                test_data.dropna(how = 'all', axis = 1, inplace = True)\r\n",
    "    \r\n",
    "                train_data_path = paste0([paste0([paste0([paste0([paste0([paste0(['data'], sep = '/'), \r\n",
    "                                                                  paste0(['Data_for_RF_Models', 'Board_Counts'], sep ='/')], sep = '/'),\r\n",
    "                                                          paste0(['route', rt], sep = '_')], sep = '/'),\r\n",
    "                                                  paste0(['direction', di])], sep = '/'),\r\n",
    "                                          paste0(['bus_stop', st], sep = '_')], sep = '/'), 'pre_lock_train_data.csv'], sep = '/')[0]\r\n",
    "           \r\n",
    "                test_data_path = paste0([paste0([paste0([paste0([paste0([paste0(['data'], sep = '/'), \r\n",
    "                                                            paste0(['Data_for_RF_Models', 'Board_Counts'], sep ='/')], sep = '/'),\r\n",
    "                                                    paste0(['route', rt], sep = '_')], sep = '/'),\r\n",
    "                                            paste0(['direction', di])], sep = '/'),\r\n",
    "                                    paste0(['bus_stop', st], sep = '_')], sep = '/'), 'pre_lock_test_data.csv'], sep = '/')[0]\r\n",
    "    \r\n",
    "                train_data.to_csv(train_data_path, index = False)\r\n",
    "                test_data.to_csv(test_data_path, index = False)\r\n",
    "        \r\n",
    "        elif (data_nrow <= 60):\r\n",
    "                return('There is not enough records to create train and test sets.')\r\n",
    "\r\n",
    "\r\n",
    "    elif (part == 'post'):\r\n",
    "        \r\n",
    "        file_path = paste0([paste0([paste0([paste0([paste0([paste0(['data'], sep = '/'), \r\n",
    "                                                        paste0(['Data_for_RF_Models', 'Board_Counts'], sep ='/')], sep = '/'),\r\n",
    "                                                paste0(['route', rt], sep = '_')], sep = '/'),\r\n",
    "                                        paste0(['direction', di])], sep = '/'),\r\n",
    "                                paste0(['bus_stop', st], sep = '_')], sep = '/'), 'post_lock_data.csv'], sep = '/')[0]\r\n",
    "        \r\n",
    "        file2_path = paste0([paste0([paste0([paste0([paste0([paste0(['data'], sep = '/'), \r\n",
    "                                                        paste0(['Data_for_RF_Models', 'Board_Counts'], sep ='/')], sep = '/'),\r\n",
    "                                                paste0(['route', rt], sep = '_')], sep = '/'),\r\n",
    "                                        paste0(['direction', di])], sep = '/'),\r\n",
    "                                paste0(['bus_stop', st], sep = '_')], sep = '/'), 'new_data.csv'], sep = '/')[0]\r\n",
    "          \r\n",
    "        dtt = pd.read_csv(file_path)\r\n",
    "        new_dtt = pd.read_csv(file2_path)\r\n",
    "            \r\n",
    "        train_data, test_data = train_test_split(dtt, test_size=0.2)\r\n",
    "\r\n",
    "        train_data_nrow = train_data.shape[0]\r\n",
    "\r\n",
    "        if train_data_nrow > 60:\r\n",
    "     \r\n",
    "                train_data = train_data[['month', 'service_kind', 'hour', 'board_count', 'mean_temp',\r\n",
    "                                        'mean_precip', 'month_average_board_count', 'surrounding_board_count']]\r\n",
    "        \r\n",
    "                train_data.dropna(how = 'all', axis = 1, inplace = True)\r\n",
    "    \r\n",
    "                test_data = test_data[['month', 'service_kind', 'hour', 'board_count', 'mean_temp',\r\n",
    "                                       'mean_precip', 'month_average_board_count', 'surrounding_board_count']]\r\n",
    "\r\n",
    "                test_data.dropna(how = 'all', axis = 1, inplace = True)\r\n",
    "        \r\n",
    "                train_data_path = paste0([paste0([paste0([paste0([paste0([paste0(['data'], sep = '/'), \r\n",
    "                                                                  paste0(['Data_for_RF_Models', 'Board_Counts'], sep ='/')], sep = '/'),\r\n",
    "                                                          paste0(['route', rt], sep = '_')], sep = '/'),\r\n",
    "                                                  paste0(['direction', di])], sep = '/'),\r\n",
    "                                          paste0(['bus_stop', st], sep = '_')], sep = '/'), 'post_lock_train_data.csv'], sep = '/')[0]\r\n",
    "           \r\n",
    "                test_data_path = paste0([paste0([paste0([paste0([paste0([paste0(['data'], sep = '/'), \r\n",
    "                                                            paste0(['Data_for_RF_Models', 'Board_Counts'], sep ='/')], sep = '/'),\r\n",
    "                                                    paste0(['route', rt], sep = '_')], sep = '/'),\r\n",
    "                                            paste0(['direction', di])], sep = '/'),\r\n",
    "                                    paste0(['bus_stop', st], sep = '_')], sep = '/'), 'post_lock_test_data.csv'], sep = '/')[0]\r\n",
    "    \r\n",
    "                train_data.to_csv(train_data_path, index = False)\r\n",
    "                test_data.to_csv(test_data_path, index = False)\r\n",
    "    \r\n",
    "    return('Done!')\r\n",
    "        "
   ],
   "outputs": [],
   "metadata": {}
  },
  {
   "cell_type": "markdown",
   "source": [
    "### Example:\n",
    "\n",
    "Let's create a data partition for `stop_id == 354` and the following data inputs:\n",
    "\n",
    "* `route_id == '9'`\n",
    "* `direction_id == '0'`\n",
    "* `stop_id == '354'`\n",
    "* `part == 'post'`"
   ],
   "metadata": {}
  },
  {
   "cell_type": "code",
   "execution_count": 65,
   "source": [
    "data_partition_for_ml('8', '0', '354', 'pre')"
   ],
   "outputs": [
    {
     "output_type": "execute_result",
     "data": {
      "text/plain": [
       "'There is not enough records to create train and test sets.'"
      ]
     },
     "metadata": {},
     "execution_count": 65
    }
   ],
   "metadata": {}
  },
  {
   "cell_type": "markdown",
   "source": [
    "Similarly, we can iterate this process by using the `data_partition_for_ml()` inside a  `for loop` whose counter changes according to the `route_id`, `direction_id`, data partition:"
   ],
   "metadata": {}
  },
  {
   "cell_type": "code",
   "execution_count": 33,
   "source": [
    "def get_data_partition_bus_stop_ml(rt_id, dir_id, part):\r\n",
    "    \r\n",
    "    if (part == 'all'):\r\n",
    "            \r\n",
    "        bus_stops_rX_dirY = carta[(carta['route_id'] == rt_id) & (carta['direction_id'] == dir_id)]['stop_id'].unique()\r\n",
    "    \r\n",
    "        for st in bus_stops_rX_dirY:\r\n",
    "            data_partition_for_ml(rt_id, dir_id, st, 'all')\r\n",
    "            \r\n",
    "    elif (part == 'pre'):\r\n",
    "        \r\n",
    "        bus_stops_rX_dirY = Pre_lock[(Pre_lock['route_id'] == rt_id) & (Pre_lock['direction_id'] == dir_id)]['stop_id'].unique()\r\n",
    "    \r\n",
    "        for st in bus_stops_rX_dirY:\r\n",
    "            data_partition_for_ml(rt_id, dir_id, st, 'pre')\r\n",
    "            \r\n",
    "    elif (part == 'post'):\r\n",
    "        \r\n",
    "        bus_stops_rX_dirY = Post_lock[(Post_lock['route_id'] == rt_id) & (Post_lock['direction_id'] == dir_id)]['stop_id'].unique()\r\n",
    "    \r\n",
    "        for st in bus_stops_rX_dirY:\r\n",
    "            data_partition_for_ml(rt_id, dir_id, st, 'post')\r\n",
    "        \r\n",
    "    return('Done!')"
   ],
   "outputs": [],
   "metadata": {}
  },
  {
   "cell_type": "markdown",
   "source": [
    "Finally, we can automatize this process for the desired input values:"
   ],
   "metadata": {}
  },
  {
   "cell_type": "code",
   "execution_count": 55,
   "source": [
    "data_partition_for_ml('1', '0', '1351', 'pre')"
   ],
   "outputs": [
    {
     "output_type": "execute_result",
     "data": {
      "text/plain": [
       "'Done!'"
      ]
     },
     "metadata": {},
     "execution_count": 55
    }
   ],
   "metadata": {}
  },
  {
   "cell_type": "code",
   "execution_count": 67,
   "source": [
    "get_data_partition_bus_stop_ml('8', '0', 'pre')"
   ],
   "outputs": [
    {
     "output_type": "execute_result",
     "data": {
      "text/plain": [
       "'Done!'"
      ]
     },
     "metadata": {},
     "execution_count": 67
    }
   ],
   "metadata": {}
  },
  {
   "cell_type": "code",
   "execution_count": 43,
   "source": [
    "get_data_partition_bus_stop_ml('1', '1', 'pre')\r\n",
    "get_data_partition_bus_stop_ml('1', '1', 'post')"
   ],
   "outputs": [
    {
     "output_type": "execute_result",
     "data": {
      "text/plain": [
       "'Done!'"
      ]
     },
     "metadata": {},
     "execution_count": 43
    }
   ],
   "metadata": {}
  },
  {
   "cell_type": "code",
   "execution_count": 50,
   "source": [
    "get_data_partition_bus_stop_ml('4', '0', 'pre')\r\n",
    "get_data_partition_bus_stop_ml('4', '0', 'post')"
   ],
   "outputs": [
    {
     "output_type": "execute_result",
     "data": {
      "text/plain": [
       "'Done!'"
      ]
     },
     "metadata": {},
     "execution_count": 50
    }
   ],
   "metadata": {}
  },
  {
   "cell_type": "code",
   "execution_count": 52,
   "source": [
    "get_data_partition_bus_stop_ml('4', '1', 'pre')\r\n",
    "get_data_partition_bus_stop_ml('4', '1', 'post')"
   ],
   "outputs": [
    {
     "output_type": "execute_result",
     "data": {
      "text/plain": [
       "'Done!'"
      ]
     },
     "metadata": {},
     "execution_count": 52
    }
   ],
   "metadata": {}
  },
  {
   "cell_type": "code",
   "execution_count": 35,
   "source": [
    "get_data_partition_bus_stop_ml('9', '0', 'pre')\r\n",
    "get_data_partition_bus_stop_ml('9', '0', 'post')"
   ],
   "outputs": [
    {
     "output_type": "execute_result",
     "data": {
      "text/plain": [
       "'Done!'"
      ]
     },
     "metadata": {},
     "execution_count": 35
    }
   ],
   "metadata": {}
  },
  {
   "cell_type": "code",
   "execution_count": 39,
   "source": [
    "get_data_partition_bus_stop_ml('9', '1', 'pre')\r\n",
    "get_data_partition_bus_stop_ml('9', '1', 'post')"
   ],
   "outputs": [
    {
     "output_type": "execute_result",
     "data": {
      "text/plain": [
       "'Done!'"
      ]
     },
     "metadata": {},
     "execution_count": 39
    }
   ],
   "metadata": {}
  },
  {
   "cell_type": "code",
   "execution_count": 34,
   "source": [
    "get_data_partition_bus_stop_ml('10A', '0', 'pre')\r\n",
    "get_data_partition_bus_stop_ml('10A', '1', 'pre')"
   ],
   "outputs": [
    {
     "output_type": "execute_result",
     "data": {
      "text/plain": [
       "'Done!'"
      ]
     },
     "metadata": {},
     "execution_count": 34
    }
   ],
   "metadata": {}
  },
  {
   "cell_type": "code",
   "execution_count": 57,
   "source": [
    "get_data_partition_bus_stop_ml('10A', '0', 'post')\r\n",
    "get_data_partition_bus_stop_ml('10A', '1', 'post')"
   ],
   "outputs": [
    {
     "output_type": "error",
     "ename": "FileNotFoundError",
     "evalue": "[Errno 2] No such file or directory: 'data/Data_for_RF_Models/Board_Counts/route_10A/direction0/bus_stop_216/new_data.csv'",
     "traceback": [
      "\u001b[1;31m---------------------------------------------------------------------------\u001b[0m",
      "\u001b[1;31mFileNotFoundError\u001b[0m                         Traceback (most recent call last)",
      "\u001b[1;32m~\\AppData\\Local\\Temp/ipykernel_7216/3160103836.py\u001b[0m in \u001b[0;36m<module>\u001b[1;34m\u001b[0m\n\u001b[1;32m----> 1\u001b[1;33m \u001b[0mget_data_partition_bus_stop_ml\u001b[0m\u001b[1;33m(\u001b[0m\u001b[1;34m'10A'\u001b[0m\u001b[1;33m,\u001b[0m \u001b[1;34m'0'\u001b[0m\u001b[1;33m,\u001b[0m \u001b[1;34m'post'\u001b[0m\u001b[1;33m)\u001b[0m\u001b[1;33m\u001b[0m\u001b[1;33m\u001b[0m\u001b[0m\n\u001b[0m\u001b[0;32m      2\u001b[0m \u001b[0mget_data_partition_bus_stop_ml\u001b[0m\u001b[1;33m(\u001b[0m\u001b[1;34m'10A'\u001b[0m\u001b[1;33m,\u001b[0m \u001b[1;34m'1'\u001b[0m\u001b[1;33m,\u001b[0m \u001b[1;34m'post'\u001b[0m\u001b[1;33m)\u001b[0m\u001b[1;33m\u001b[0m\u001b[1;33m\u001b[0m\u001b[0m\n",
      "\u001b[1;32m~\\AppData\\Local\\Temp/ipykernel_7216/2097005834.py\u001b[0m in \u001b[0;36mget_data_partition_bus_stop_ml\u001b[1;34m(rt_id, dir_id, part)\u001b[0m\n\u001b[0;32m     20\u001b[0m \u001b[1;33m\u001b[0m\u001b[0m\n\u001b[0;32m     21\u001b[0m         \u001b[1;32mfor\u001b[0m \u001b[0mst\u001b[0m \u001b[1;32min\u001b[0m \u001b[0mbus_stops_rX_dirY\u001b[0m\u001b[1;33m:\u001b[0m\u001b[1;33m\u001b[0m\u001b[1;33m\u001b[0m\u001b[0m\n\u001b[1;32m---> 22\u001b[1;33m             \u001b[0mdata_partition_for_ml\u001b[0m\u001b[1;33m(\u001b[0m\u001b[0mrt_id\u001b[0m\u001b[1;33m,\u001b[0m \u001b[0mdir_id\u001b[0m\u001b[1;33m,\u001b[0m \u001b[0mst\u001b[0m\u001b[1;33m,\u001b[0m \u001b[1;34m'post'\u001b[0m\u001b[1;33m)\u001b[0m\u001b[1;33m\u001b[0m\u001b[1;33m\u001b[0m\u001b[0m\n\u001b[0m\u001b[0;32m     23\u001b[0m \u001b[1;33m\u001b[0m\u001b[0m\n\u001b[0;32m     24\u001b[0m     \u001b[1;32mreturn\u001b[0m\u001b[1;33m(\u001b[0m\u001b[1;34m'Done!'\u001b[0m\u001b[1;33m)\u001b[0m\u001b[1;33m\u001b[0m\u001b[1;33m\u001b[0m\u001b[0m\n",
      "\u001b[1;32m~\\AppData\\Local\\Temp/ipykernel_7216/3241981405.py\u001b[0m in \u001b[0;36mdata_partition_for_ml\u001b[1;34m(rt, di, st, part)\u001b[0m\n\u001b[0;32m    110\u001b[0m \u001b[1;33m\u001b[0m\u001b[0m\n\u001b[0;32m    111\u001b[0m         \u001b[0mdtt\u001b[0m \u001b[1;33m=\u001b[0m \u001b[0mpd\u001b[0m\u001b[1;33m.\u001b[0m\u001b[0mread_csv\u001b[0m\u001b[1;33m(\u001b[0m\u001b[0mfile_path\u001b[0m\u001b[1;33m)\u001b[0m\u001b[1;33m\u001b[0m\u001b[1;33m\u001b[0m\u001b[0m\n\u001b[1;32m--> 112\u001b[1;33m         \u001b[0mnew_dtt\u001b[0m \u001b[1;33m=\u001b[0m \u001b[0mpd\u001b[0m\u001b[1;33m.\u001b[0m\u001b[0mread_csv\u001b[0m\u001b[1;33m(\u001b[0m\u001b[0mfile2_path\u001b[0m\u001b[1;33m)\u001b[0m\u001b[1;33m\u001b[0m\u001b[1;33m\u001b[0m\u001b[0m\n\u001b[0m\u001b[0;32m    113\u001b[0m \u001b[1;33m\u001b[0m\u001b[0m\n\u001b[0;32m    114\u001b[0m         \u001b[0mtrain_data\u001b[0m\u001b[1;33m,\u001b[0m \u001b[0mtest_data\u001b[0m \u001b[1;33m=\u001b[0m \u001b[0mtrain_test_split\u001b[0m\u001b[1;33m(\u001b[0m\u001b[0mdtt\u001b[0m\u001b[1;33m,\u001b[0m \u001b[0mtest_size\u001b[0m\u001b[1;33m=\u001b[0m\u001b[1;36m0.2\u001b[0m\u001b[1;33m)\u001b[0m\u001b[1;33m\u001b[0m\u001b[1;33m\u001b[0m\u001b[0m\n",
      "\u001b[1;32m~\\AppData\\Local\\Packages\\PythonSoftwareFoundation.Python.3.9_qbz5n2kfra8p0\\LocalCache\\local-packages\\Python39\\site-packages\\pandas\\util\\_decorators.py\u001b[0m in \u001b[0;36mwrapper\u001b[1;34m(*args, **kwargs)\u001b[0m\n\u001b[0;32m    309\u001b[0m                     \u001b[0mstacklevel\u001b[0m\u001b[1;33m=\u001b[0m\u001b[0mstacklevel\u001b[0m\u001b[1;33m,\u001b[0m\u001b[1;33m\u001b[0m\u001b[1;33m\u001b[0m\u001b[0m\n\u001b[0;32m    310\u001b[0m                 )\n\u001b[1;32m--> 311\u001b[1;33m             \u001b[1;32mreturn\u001b[0m \u001b[0mfunc\u001b[0m\u001b[1;33m(\u001b[0m\u001b[1;33m*\u001b[0m\u001b[0margs\u001b[0m\u001b[1;33m,\u001b[0m \u001b[1;33m**\u001b[0m\u001b[0mkwargs\u001b[0m\u001b[1;33m)\u001b[0m\u001b[1;33m\u001b[0m\u001b[1;33m\u001b[0m\u001b[0m\n\u001b[0m\u001b[0;32m    312\u001b[0m \u001b[1;33m\u001b[0m\u001b[0m\n\u001b[0;32m    313\u001b[0m         \u001b[1;32mreturn\u001b[0m \u001b[0mwrapper\u001b[0m\u001b[1;33m\u001b[0m\u001b[1;33m\u001b[0m\u001b[0m\n",
      "\u001b[1;32m~\\AppData\\Local\\Packages\\PythonSoftwareFoundation.Python.3.9_qbz5n2kfra8p0\\LocalCache\\local-packages\\Python39\\site-packages\\pandas\\io\\parsers\\readers.py\u001b[0m in \u001b[0;36mread_csv\u001b[1;34m(filepath_or_buffer, sep, delimiter, header, names, index_col, usecols, squeeze, prefix, mangle_dupe_cols, dtype, engine, converters, true_values, false_values, skipinitialspace, skiprows, skipfooter, nrows, na_values, keep_default_na, na_filter, verbose, skip_blank_lines, parse_dates, infer_datetime_format, keep_date_col, date_parser, dayfirst, cache_dates, iterator, chunksize, compression, thousands, decimal, lineterminator, quotechar, quoting, doublequote, escapechar, comment, encoding, encoding_errors, dialect, error_bad_lines, warn_bad_lines, on_bad_lines, delim_whitespace, low_memory, memory_map, float_precision, storage_options)\u001b[0m\n\u001b[0;32m    584\u001b[0m     \u001b[0mkwds\u001b[0m\u001b[1;33m.\u001b[0m\u001b[0mupdate\u001b[0m\u001b[1;33m(\u001b[0m\u001b[0mkwds_defaults\u001b[0m\u001b[1;33m)\u001b[0m\u001b[1;33m\u001b[0m\u001b[1;33m\u001b[0m\u001b[0m\n\u001b[0;32m    585\u001b[0m \u001b[1;33m\u001b[0m\u001b[0m\n\u001b[1;32m--> 586\u001b[1;33m     \u001b[1;32mreturn\u001b[0m \u001b[0m_read\u001b[0m\u001b[1;33m(\u001b[0m\u001b[0mfilepath_or_buffer\u001b[0m\u001b[1;33m,\u001b[0m \u001b[0mkwds\u001b[0m\u001b[1;33m)\u001b[0m\u001b[1;33m\u001b[0m\u001b[1;33m\u001b[0m\u001b[0m\n\u001b[0m\u001b[0;32m    587\u001b[0m \u001b[1;33m\u001b[0m\u001b[0m\n\u001b[0;32m    588\u001b[0m \u001b[1;33m\u001b[0m\u001b[0m\n",
      "\u001b[1;32m~\\AppData\\Local\\Packages\\PythonSoftwareFoundation.Python.3.9_qbz5n2kfra8p0\\LocalCache\\local-packages\\Python39\\site-packages\\pandas\\io\\parsers\\readers.py\u001b[0m in \u001b[0;36m_read\u001b[1;34m(filepath_or_buffer, kwds)\u001b[0m\n\u001b[0;32m    480\u001b[0m \u001b[1;33m\u001b[0m\u001b[0m\n\u001b[0;32m    481\u001b[0m     \u001b[1;31m# Create the parser.\u001b[0m\u001b[1;33m\u001b[0m\u001b[1;33m\u001b[0m\u001b[0m\n\u001b[1;32m--> 482\u001b[1;33m     \u001b[0mparser\u001b[0m \u001b[1;33m=\u001b[0m \u001b[0mTextFileReader\u001b[0m\u001b[1;33m(\u001b[0m\u001b[0mfilepath_or_buffer\u001b[0m\u001b[1;33m,\u001b[0m \u001b[1;33m**\u001b[0m\u001b[0mkwds\u001b[0m\u001b[1;33m)\u001b[0m\u001b[1;33m\u001b[0m\u001b[1;33m\u001b[0m\u001b[0m\n\u001b[0m\u001b[0;32m    483\u001b[0m \u001b[1;33m\u001b[0m\u001b[0m\n\u001b[0;32m    484\u001b[0m     \u001b[1;32mif\u001b[0m \u001b[0mchunksize\u001b[0m \u001b[1;32mor\u001b[0m \u001b[0miterator\u001b[0m\u001b[1;33m:\u001b[0m\u001b[1;33m\u001b[0m\u001b[1;33m\u001b[0m\u001b[0m\n",
      "\u001b[1;32m~\\AppData\\Local\\Packages\\PythonSoftwareFoundation.Python.3.9_qbz5n2kfra8p0\\LocalCache\\local-packages\\Python39\\site-packages\\pandas\\io\\parsers\\readers.py\u001b[0m in \u001b[0;36m__init__\u001b[1;34m(self, f, engine, **kwds)\u001b[0m\n\u001b[0;32m    809\u001b[0m             \u001b[0mself\u001b[0m\u001b[1;33m.\u001b[0m\u001b[0moptions\u001b[0m\u001b[1;33m[\u001b[0m\u001b[1;34m\"has_index_names\"\u001b[0m\u001b[1;33m]\u001b[0m \u001b[1;33m=\u001b[0m \u001b[0mkwds\u001b[0m\u001b[1;33m[\u001b[0m\u001b[1;34m\"has_index_names\"\u001b[0m\u001b[1;33m]\u001b[0m\u001b[1;33m\u001b[0m\u001b[1;33m\u001b[0m\u001b[0m\n\u001b[0;32m    810\u001b[0m \u001b[1;33m\u001b[0m\u001b[0m\n\u001b[1;32m--> 811\u001b[1;33m         \u001b[0mself\u001b[0m\u001b[1;33m.\u001b[0m\u001b[0m_engine\u001b[0m \u001b[1;33m=\u001b[0m \u001b[0mself\u001b[0m\u001b[1;33m.\u001b[0m\u001b[0m_make_engine\u001b[0m\u001b[1;33m(\u001b[0m\u001b[0mself\u001b[0m\u001b[1;33m.\u001b[0m\u001b[0mengine\u001b[0m\u001b[1;33m)\u001b[0m\u001b[1;33m\u001b[0m\u001b[1;33m\u001b[0m\u001b[0m\n\u001b[0m\u001b[0;32m    812\u001b[0m \u001b[1;33m\u001b[0m\u001b[0m\n\u001b[0;32m    813\u001b[0m     \u001b[1;32mdef\u001b[0m \u001b[0mclose\u001b[0m\u001b[1;33m(\u001b[0m\u001b[0mself\u001b[0m\u001b[1;33m)\u001b[0m\u001b[1;33m:\u001b[0m\u001b[1;33m\u001b[0m\u001b[1;33m\u001b[0m\u001b[0m\n",
      "\u001b[1;32m~\\AppData\\Local\\Packages\\PythonSoftwareFoundation.Python.3.9_qbz5n2kfra8p0\\LocalCache\\local-packages\\Python39\\site-packages\\pandas\\io\\parsers\\readers.py\u001b[0m in \u001b[0;36m_make_engine\u001b[1;34m(self, engine)\u001b[0m\n\u001b[0;32m   1038\u001b[0m             )\n\u001b[0;32m   1039\u001b[0m         \u001b[1;31m# error: Too many arguments for \"ParserBase\"\u001b[0m\u001b[1;33m\u001b[0m\u001b[1;33m\u001b[0m\u001b[0m\n\u001b[1;32m-> 1040\u001b[1;33m         \u001b[1;32mreturn\u001b[0m \u001b[0mmapping\u001b[0m\u001b[1;33m[\u001b[0m\u001b[0mengine\u001b[0m\u001b[1;33m]\u001b[0m\u001b[1;33m(\u001b[0m\u001b[0mself\u001b[0m\u001b[1;33m.\u001b[0m\u001b[0mf\u001b[0m\u001b[1;33m,\u001b[0m \u001b[1;33m**\u001b[0m\u001b[0mself\u001b[0m\u001b[1;33m.\u001b[0m\u001b[0moptions\u001b[0m\u001b[1;33m)\u001b[0m  \u001b[1;31m# type: ignore[call-arg]\u001b[0m\u001b[1;33m\u001b[0m\u001b[1;33m\u001b[0m\u001b[0m\n\u001b[0m\u001b[0;32m   1041\u001b[0m \u001b[1;33m\u001b[0m\u001b[0m\n\u001b[0;32m   1042\u001b[0m     \u001b[1;32mdef\u001b[0m \u001b[0m_failover_to_python\u001b[0m\u001b[1;33m(\u001b[0m\u001b[0mself\u001b[0m\u001b[1;33m)\u001b[0m\u001b[1;33m:\u001b[0m\u001b[1;33m\u001b[0m\u001b[1;33m\u001b[0m\u001b[0m\n",
      "\u001b[1;32m~\\AppData\\Local\\Packages\\PythonSoftwareFoundation.Python.3.9_qbz5n2kfra8p0\\LocalCache\\local-packages\\Python39\\site-packages\\pandas\\io\\parsers\\c_parser_wrapper.py\u001b[0m in \u001b[0;36m__init__\u001b[1;34m(self, src, **kwds)\u001b[0m\n\u001b[0;32m     49\u001b[0m \u001b[1;33m\u001b[0m\u001b[0m\n\u001b[0;32m     50\u001b[0m         \u001b[1;31m# open handles\u001b[0m\u001b[1;33m\u001b[0m\u001b[1;33m\u001b[0m\u001b[0m\n\u001b[1;32m---> 51\u001b[1;33m         \u001b[0mself\u001b[0m\u001b[1;33m.\u001b[0m\u001b[0m_open_handles\u001b[0m\u001b[1;33m(\u001b[0m\u001b[0msrc\u001b[0m\u001b[1;33m,\u001b[0m \u001b[0mkwds\u001b[0m\u001b[1;33m)\u001b[0m\u001b[1;33m\u001b[0m\u001b[1;33m\u001b[0m\u001b[0m\n\u001b[0m\u001b[0;32m     52\u001b[0m         \u001b[1;32massert\u001b[0m \u001b[0mself\u001b[0m\u001b[1;33m.\u001b[0m\u001b[0mhandles\u001b[0m \u001b[1;32mis\u001b[0m \u001b[1;32mnot\u001b[0m \u001b[1;32mNone\u001b[0m\u001b[1;33m\u001b[0m\u001b[1;33m\u001b[0m\u001b[0m\n\u001b[0;32m     53\u001b[0m \u001b[1;33m\u001b[0m\u001b[0m\n",
      "\u001b[1;32m~\\AppData\\Local\\Packages\\PythonSoftwareFoundation.Python.3.9_qbz5n2kfra8p0\\LocalCache\\local-packages\\Python39\\site-packages\\pandas\\io\\parsers\\base_parser.py\u001b[0m in \u001b[0;36m_open_handles\u001b[1;34m(self, src, kwds)\u001b[0m\n\u001b[0;32m    220\u001b[0m         \u001b[0mLet\u001b[0m \u001b[0mthe\u001b[0m \u001b[0mreaders\u001b[0m \u001b[0mopen\u001b[0m \u001b[0mIOHandles\u001b[0m \u001b[0mafter\u001b[0m \u001b[0mthey\u001b[0m \u001b[0mare\u001b[0m \u001b[0mdone\u001b[0m \u001b[1;32mwith\u001b[0m \u001b[0mtheir\u001b[0m \u001b[0mpotential\u001b[0m \u001b[0mraises\u001b[0m\u001b[1;33m.\u001b[0m\u001b[1;33m\u001b[0m\u001b[1;33m\u001b[0m\u001b[0m\n\u001b[0;32m    221\u001b[0m         \"\"\"\n\u001b[1;32m--> 222\u001b[1;33m         self.handles = get_handle(\n\u001b[0m\u001b[0;32m    223\u001b[0m             \u001b[0msrc\u001b[0m\u001b[1;33m,\u001b[0m\u001b[1;33m\u001b[0m\u001b[1;33m\u001b[0m\u001b[0m\n\u001b[0;32m    224\u001b[0m             \u001b[1;34m\"r\"\u001b[0m\u001b[1;33m,\u001b[0m\u001b[1;33m\u001b[0m\u001b[1;33m\u001b[0m\u001b[0m\n",
      "\u001b[1;32m~\\AppData\\Local\\Packages\\PythonSoftwareFoundation.Python.3.9_qbz5n2kfra8p0\\LocalCache\\local-packages\\Python39\\site-packages\\pandas\\io\\common.py\u001b[0m in \u001b[0;36mget_handle\u001b[1;34m(path_or_buf, mode, encoding, compression, memory_map, is_text, errors, storage_options)\u001b[0m\n\u001b[0;32m    700\u001b[0m         \u001b[1;32mif\u001b[0m \u001b[0mioargs\u001b[0m\u001b[1;33m.\u001b[0m\u001b[0mencoding\u001b[0m \u001b[1;32mand\u001b[0m \u001b[1;34m\"b\"\u001b[0m \u001b[1;32mnot\u001b[0m \u001b[1;32min\u001b[0m \u001b[0mioargs\u001b[0m\u001b[1;33m.\u001b[0m\u001b[0mmode\u001b[0m\u001b[1;33m:\u001b[0m\u001b[1;33m\u001b[0m\u001b[1;33m\u001b[0m\u001b[0m\n\u001b[0;32m    701\u001b[0m             \u001b[1;31m# Encoding\u001b[0m\u001b[1;33m\u001b[0m\u001b[1;33m\u001b[0m\u001b[0m\n\u001b[1;32m--> 702\u001b[1;33m             handle = open(\n\u001b[0m\u001b[0;32m    703\u001b[0m                 \u001b[0mhandle\u001b[0m\u001b[1;33m,\u001b[0m\u001b[1;33m\u001b[0m\u001b[1;33m\u001b[0m\u001b[0m\n\u001b[0;32m    704\u001b[0m                 \u001b[0mioargs\u001b[0m\u001b[1;33m.\u001b[0m\u001b[0mmode\u001b[0m\u001b[1;33m,\u001b[0m\u001b[1;33m\u001b[0m\u001b[1;33m\u001b[0m\u001b[0m\n",
      "\u001b[1;31mFileNotFoundError\u001b[0m: [Errno 2] No such file or directory: 'data/Data_for_RF_Models/Board_Counts/route_10A/direction0/bus_stop_216/new_data.csv'"
     ]
    }
   ],
   "metadata": {}
  },
  {
   "cell_type": "code",
   "execution_count": 158,
   "source": [
    "get_data_partition_bus_stop('10C', '0')\r\n",
    "get_data_partition_bus_stop('10C', '1')"
   ],
   "outputs": [
    {
     "output_type": "execute_result",
     "data": {
      "text/plain": [
       "'Done!'"
      ]
     },
     "metadata": {},
     "execution_count": 158
    }
   ],
   "metadata": {}
  },
  {
   "cell_type": "code",
   "execution_count": 160,
   "source": [
    "get_data_partition_bus_stop('13', '0')\r\n",
    "get_data_partition_bus_stop('13', '1')"
   ],
   "outputs": [
    {
     "output_type": "execute_result",
     "data": {
      "text/plain": [
       "'Done!'"
      ]
     },
     "metadata": {},
     "execution_count": 160
    }
   ],
   "metadata": {}
  },
  {
   "cell_type": "code",
   "execution_count": 161,
   "source": [
    "get_data_partition_bus_stop('15', '0')\r\n",
    "get_data_partition_bus_stop('15', '1')"
   ],
   "outputs": [
    {
     "output_type": "execute_result",
     "data": {
      "text/plain": [
       "'Done!'"
      ]
     },
     "metadata": {},
     "execution_count": 161
    }
   ],
   "metadata": {}
  },
  {
   "cell_type": "code",
   "execution_count": 163,
   "source": [
    "get_data_partition_bus_stop('19', '0')\r\n",
    "get_data_partition_bus_stop('19', '1')"
   ],
   "outputs": [
    {
     "output_type": "execute_result",
     "data": {
      "text/plain": [
       "'Done!'"
      ]
     },
     "metadata": {},
     "execution_count": 163
    }
   ],
   "metadata": {}
  },
  {
   "cell_type": "code",
   "execution_count": 164,
   "source": [
    "get_data_partition_bus_stop('21', '0')\r\n",
    "get_data_partition_bus_stop('21', '1')"
   ],
   "outputs": [
    {
     "output_type": "execute_result",
     "data": {
      "text/plain": [
       "'Done!'"
      ]
     },
     "metadata": {},
     "execution_count": 164
    }
   ],
   "metadata": {}
  },
  {
   "cell_type": "code",
   "execution_count": 165,
   "source": [
    "get_data_partition_bus_stop('28', '0')\r\n",
    "get_data_partition_bus_stop('28', '1')"
   ],
   "outputs": [
    {
     "output_type": "execute_result",
     "data": {
      "text/plain": [
       "'Done!'"
      ]
     },
     "metadata": {},
     "execution_count": 165
    }
   ],
   "metadata": {}
  }
 ],
 "metadata": {
  "environment": {
   "name": "r-cpu.3-6.m65",
   "type": "gcloud",
   "uri": "gcr.io/deeplearning-platform-release/r-cpu.3-6:m65"
  },
  "interpreter": {
   "hash": "8d8622ea1520baa1edcd48b3cf28d7eb67d2c16718d25ba4df41c2dd81a65a36"
  },
  "kernelspec": {
   "name": "python3",
   "display_name": "Python 3.9.7 64-bit (windows store)"
  },
  "language_info": {
   "codemirror_mode": {
    "name": "ipython",
    "version": 3
   },
   "file_extension": ".py",
   "mimetype": "text/x-python",
   "name": "python",
   "nbconvert_exporter": "python",
   "pygments_lexer": "ipython3",
   "version": "3.9.7"
  }
 },
 "nbformat": 4,
 "nbformat_minor": 5
}